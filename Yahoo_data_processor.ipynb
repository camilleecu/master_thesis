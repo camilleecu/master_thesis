{
 "cells": [
  {
   "cell_type": "code",
   "execution_count": 1,
   "id": "42c86d01",
   "metadata": {},
   "outputs": [],
   "source": [
    "import sys\n",
    "sys.path.append('/Users/camillecu/Downloads/KUL/master_thesis/master_thesis_github')"
   ]
  },
  {
   "cell_type": "code",
   "execution_count": 3,
   "id": "064955c7-6535-4302-a999-57c927b4874a",
   "metadata": {},
   "outputs": [
    {
     "name": "stdout",
     "output_type": "stream",
     "text": [
      "Requirement already satisfied: surprise in /Users/camillecu/Downloads/KUL/master_thesis/master_thesis_github/thesis_github/lib/python3.9/site-packages (0.1)\n",
      "Requirement already satisfied: scikit-surprise in /Users/camillecu/Downloads/KUL/master_thesis/master_thesis_github/thesis_github/lib/python3.9/site-packages (from surprise) (1.1.4)\n",
      "Requirement already satisfied: joblib>=1.2.0 in /Users/camillecu/Downloads/KUL/master_thesis/master_thesis_github/thesis_github/lib/python3.9/site-packages (from scikit-surprise->surprise) (1.4.2)\n",
      "Requirement already satisfied: numpy>=1.19.5 in /Users/camillecu/Downloads/KUL/master_thesis/master_thesis_github/thesis_github/lib/python3.9/site-packages (from scikit-surprise->surprise) (1.26.4)\n",
      "Requirement already satisfied: scipy>=1.6.0 in /Users/camillecu/Downloads/KUL/master_thesis/master_thesis_github/thesis_github/lib/python3.9/site-packages (from scikit-surprise->surprise) (1.13.1)\n",
      "\n",
      "\u001b[1m[\u001b[0m\u001b[34;49mnotice\u001b[0m\u001b[1;39;49m]\u001b[0m\u001b[39;49m A new release of pip is available: \u001b[0m\u001b[31;49m25.0.1\u001b[0m\u001b[39;49m -> \u001b[0m\u001b[32;49m25.2\u001b[0m\n",
      "\u001b[1m[\u001b[0m\u001b[34;49mnotice\u001b[0m\u001b[1;39;49m]\u001b[0m\u001b[39;49m To update, run: \u001b[0m\u001b[32;49mpip install --upgrade pip\u001b[0m\n"
     ]
    }
   ],
   "source": [
    "\n",
    "# import pysparnn.cluster_index as ci\n",
    "# import scipy.sparse\n",
    "# import os\n",
    "import math\n",
    "import numpy as np\n",
    "import pandas as pd\n",
    "import random\n",
    "import scipy.sparse as sp\n",
    "from utils import train_test_split, df_to_matrix ,matrix_to_df_2, threshold_interactions_df, matrix_to_df,set_intersection,get_0_and_p_index,set_diff, matrix_to_full_df, threshold_interactions_df_plus, train_test_split_csr\n",
    "\n",
    "!pip install surprise\n",
    "from surprise import Reader, accuracy\n",
    "from surprise import SVD\n",
    "from surprise import Dataset\n",
    "from collections import Counter\n",
    "from collections import defaultdict\n",
    "\n",
    "%matplotlib inline\n",
    "import matplotlib\n",
    "import matplotlib.pyplot as plt\n",
    "\n",
    "from pct.tree.heuristic.Heuristic import Heuristic5\n",
    "from pct.tree.heuristic.NumericHeuristic_yahoo import NumericHeuristic5\n",
    "from pct.tree.splitter.splitter import Splitter\n",
    "from pct.tree.tree import Tree"
   ]
  },
  {
   "cell_type": "code",
   "execution_count": 27,
   "id": "38467c1d-90da-4e35-8b08-ce21ff97975e",
   "metadata": {},
   "outputs": [],
   "source": [
    "\n",
    "my_seed = 7\n",
    "random.seed(my_seed)\n",
    "np.random.seed(my_seed)\n",
    "\n",
    "def load_user_item_matrix(filepath):\n",
    "    data = []\n",
    "\n",
    "    with open(filepath, 'r') as f:\n",
    "        while True:\n",
    "            user_line = f.readline()\n",
    "            if not user_line:\n",
    "                break\n",
    "\n",
    "            user_line = user_line.strip()\n",
    "            if '|' not in user_line:\n",
    "                continue\n",
    "\n",
    "            user_id, num_ratings = user_line.split('|')\n",
    "            user_id = int(user_id)\n",
    "            num_ratings = int(num_ratings)\n",
    "\n",
    "            for _ in range(num_ratings):\n",
    "                item_line = f.readline().strip()\n",
    "                parts = item_line.split('\\t')\n",
    "                if len(parts) < 2:\n",
    "                    continue\n",
    "                item_id, score = parts[0], parts[1]\n",
    "                data.append([user_id, int(item_id), int(score)])\n",
    "\n",
    "    df = pd.DataFrame(data, columns=['user_id', 'item_id', 'rating'])\n",
    "    return df\n"
   ]
  },
  {
   "cell_type": "code",
   "execution_count": 28,
   "id": "641ebbc5-ca2d-43b0-bcd1-4a6995875325",
   "metadata": {},
   "outputs": [],
   "source": [
    "def safe_int(x):\n",
    "    return int(x) if x != 'None' else 0\n",
    "\n",
    "\n",
    "def load_track_data(filepath):\n",
    "    track_data = []\n",
    "    with open(filepath, 'r') as f:\n",
    "        for line in f:\n",
    "            parts = line.strip().split('|')\n",
    "            track_id = safe_int(parts[0])\n",
    "            album_id = safe_int(parts[1])\n",
    "            artist_id = safe_int(parts[2])\n",
    "            genre_ids = [safe_int(g) for g in parts[3:]] if len(parts) > 3 else []\n",
    "            track_data.append([track_id, album_id, artist_id, genre_ids])\n",
    "    return pd.DataFrame(track_data, columns=['track_id', 'album_id', 'artist_id', 'genre_ids'])\n",
    "\n",
    "def load_album_data(filepath):\n",
    "    album_data = []\n",
    "    with open(filepath, 'r') as f:\n",
    "        for line in f:\n",
    "            parts = line.strip().split('|')\n",
    "            album_id = safe_int(parts[0])\n",
    "            artist_id = safe_int(parts[1])\n",
    "            genre_ids = [safe_int(g) for g in parts[2:]] if len(parts) > 2 else []\n",
    "            album_data.append([album_id, artist_id, genre_ids])\n",
    "    return pd.DataFrame(album_data, columns=['album_id', 'artist_id', 'genre_ids'])\n",
    "\n",
    "\n",
    "# read artistData2\n",
    "def load_artist_data(filepath):\n",
    "    with open(filepath, 'r') as f:\n",
    "        artist_ids = [int(line.strip()) for line in f]\n",
    "    return pd.DataFrame(artist_ids, columns=['artist_id'])\n",
    "\n",
    "# read genreData2\n",
    "def load_genre_data(filepath):\n",
    "    with open(filepath, 'r') as f:\n",
    "        genre_ids = [int(line.strip()) for line in f]\n",
    "    return pd.DataFrame(genre_ids, columns=['genre_id'])"
   ]
  },
  {
   "cell_type": "code",
   "execution_count": 29,
   "id": "8c4b36d6-3ee2-494e-87f4-d650a0a664d6",
   "metadata": {},
   "outputs": [
    {
     "data": {
      "application/vnd.microsoft.datawrangler.viewer.v0+json": {
       "columns": [
        {
         "name": "index",
         "rawType": "int64",
         "type": "integer"
        },
        {
         "name": "track_id",
         "rawType": "int64",
         "type": "integer"
        },
        {
         "name": "album_id",
         "rawType": "int64",
         "type": "integer"
        },
        {
         "name": "artist_id",
         "rawType": "int64",
         "type": "integer"
        },
        {
         "name": "genre_ids",
         "rawType": "object",
         "type": "unknown"
        }
       ],
       "ref": "1a528389-b62c-47b2-aa68-1a6cd3425567",
       "rows": [
        [
         "0",
         "1",
         "106710",
         "281667",
         "[214765, 162234, 155788]"
        ],
        [
         "1",
         "2",
         "280977",
         "233685",
         "[131552, 173467, 48505]"
        ],
        [
         "2",
         "3",
         "38422",
         "219136",
         "[61215, 201738, 88853]"
        ],
        [
         "3",
         "4",
         "119529",
         "166863",
         "[17453, 35389]"
        ],
        [
         "4",
         "5",
         "16742",
         "294690",
         "[61215, 34486, 274088]"
        ],
        [
         "5",
         "7",
         "101746",
         "44649",
         "[198263]"
        ],
        [
         "6",
         "8",
         "58498",
         "142773",
         "[274161, 61215, 274088, 163949]"
        ],
        [
         "7",
         "9",
         "0",
         "0",
         "[61215, 34486, 274088]"
        ],
        [
         "8",
         "10",
         "88722",
         "179846",
         "[186413, 77904]"
        ],
        [
         "9",
         "11",
         "54548",
         "206862",
         "[98154, 48505]"
        ],
        [
         "10",
         "12",
         "6346",
         "93804",
         "[33722]"
        ],
        [
         "11",
         "13",
         "197080",
         "76279",
         "[33204, 162673]"
        ],
        [
         "12",
         "14",
         "221884",
         "48800",
         "[214765, 131552, 176858]"
        ],
        [
         "13",
         "15",
         "31978",
         "91719",
         "[173467, 48505]"
        ],
        [
         "14",
         "17",
         "249405",
         "276080",
         "[17453, 35389]"
        ],
        [
         "15",
         "18",
         "123126",
         "169463",
         "[172023, 88853]"
        ],
        [
         "16",
         "20",
         "208724",
         "96989",
         "[33204, 162673, 101667]"
        ],
        [
         "17",
         "21",
         "236848",
         "232639",
         "[]"
        ],
        [
         "18",
         "22",
         "22876",
         "272726",
         "[126500, 181653, 142021, 206269]"
        ],
        [
         "19",
         "24",
         "223622",
         "1238",
         "[131552, 61215, 88853]"
        ],
        [
         "20",
         "25",
         "77518",
         "292178",
         "[61215, 172023, 201738, 88853]"
        ],
        [
         "21",
         "26",
         "197169",
         "47482",
         "[61215, 199606, 212410]"
        ],
        [
         "22",
         "27",
         "159984",
         "164412",
         "[173467, 48505, 133159]"
        ],
        [
         "23",
         "28",
         "289988",
         "133835",
         "[131552, 176858, 19913, 84705]"
        ],
        [
         "24",
         "29",
         "161792",
         "49714",
         "[176858, 34486, 274088, 48717, 266781, 82378, 99463, 79926, 73523]"
        ],
        [
         "25",
         "31",
         "173702",
         "269166",
         "[274161]"
        ],
        [
         "26",
         "32",
         "128448",
         "78745",
         "[287681, 259669]"
        ],
        [
         "27",
         "34",
         "164570",
         "282789",
         "[77904]"
        ],
        [
         "28",
         "36",
         "204393",
         "134993",
         "[214765]"
        ],
        [
         "29",
         "38",
         "0",
         "0",
         "[]"
        ],
        [
         "30",
         "39",
         "81868",
         "54788",
         "[173467, 219193, 82064]"
        ],
        [
         "31",
         "41",
         "250955",
         "90859",
         "[33722]"
        ],
        [
         "32",
         "42",
         "288476",
         "199204",
         "[61215, 274088, 199606, 18161, 88853]"
        ],
        [
         "33",
         "43",
         "51505",
         "295138",
         "[173467]"
        ],
        [
         "34",
         "44",
         "0",
         "0",
         "[131552, 9667, 138304, 213809, 8400]"
        ],
        [
         "35",
         "45",
         "229383",
         "232604",
         "[61215, 176858, 228419]"
        ],
        [
         "36",
         "46",
         "75593",
         "281855",
         "[34486, 274088, 251593, 109592, 30949, 281429, 67098, 67331]"
        ],
        [
         "37",
         "47",
         "0",
         "0",
         "[158282, 139095, 242383, 279143]"
        ],
        [
         "38",
         "48",
         "225851",
         "120254",
         "[274161]"
        ],
        [
         "39",
         "50",
         "0",
         "0",
         "[17453, 35389]"
        ],
        [
         "40",
         "51",
         "84450",
         "97909",
         "[147886]"
        ],
        [
         "41",
         "52",
         "69965",
         "245387",
         "[61215, 199606, 268304, 18161, 177561, 201738]"
        ],
        [
         "42",
         "53",
         "210209",
         "286841",
         "[201738]"
        ],
        [
         "43",
         "55",
         "72666",
         "278645",
         "[158282, 81520, 242383, 279143]"
        ],
        [
         "44",
         "56",
         "48507",
         "236393",
         "[173467, 98154, 48505]"
        ],
        [
         "45",
         "57",
         "176764",
         "236794",
         "[61215, 34486, 18161]"
        ],
        [
         "46",
         "58",
         "215407",
         "18147",
         "[17453, 35389]"
        ],
        [
         "47",
         "59",
         "0",
         "0",
         "[61215]"
        ],
        [
         "48",
         "60",
         "68134",
         "263882",
         "[214765, 131552, 173467, 48505]"
        ],
        [
         "49",
         "61",
         "88463",
         "5232",
         "[131552, 61215]"
        ]
       ],
       "shape": {
        "columns": 4,
        "rows": 224041
       }
      },
      "text/html": [
       "<div>\n",
       "<style scoped>\n",
       "    .dataframe tbody tr th:only-of-type {\n",
       "        vertical-align: middle;\n",
       "    }\n",
       "\n",
       "    .dataframe tbody tr th {\n",
       "        vertical-align: top;\n",
       "    }\n",
       "\n",
       "    .dataframe thead th {\n",
       "        text-align: right;\n",
       "    }\n",
       "</style>\n",
       "<table border=\"1\" class=\"dataframe\">\n",
       "  <thead>\n",
       "    <tr style=\"text-align: right;\">\n",
       "      <th></th>\n",
       "      <th>track_id</th>\n",
       "      <th>album_id</th>\n",
       "      <th>artist_id</th>\n",
       "      <th>genre_ids</th>\n",
       "    </tr>\n",
       "  </thead>\n",
       "  <tbody>\n",
       "    <tr>\n",
       "      <th>0</th>\n",
       "      <td>1</td>\n",
       "      <td>106710</td>\n",
       "      <td>281667</td>\n",
       "      <td>[214765, 162234, 155788]</td>\n",
       "    </tr>\n",
       "    <tr>\n",
       "      <th>1</th>\n",
       "      <td>2</td>\n",
       "      <td>280977</td>\n",
       "      <td>233685</td>\n",
       "      <td>[131552, 173467, 48505]</td>\n",
       "    </tr>\n",
       "    <tr>\n",
       "      <th>2</th>\n",
       "      <td>3</td>\n",
       "      <td>38422</td>\n",
       "      <td>219136</td>\n",
       "      <td>[61215, 201738, 88853]</td>\n",
       "    </tr>\n",
       "    <tr>\n",
       "      <th>3</th>\n",
       "      <td>4</td>\n",
       "      <td>119529</td>\n",
       "      <td>166863</td>\n",
       "      <td>[17453, 35389]</td>\n",
       "    </tr>\n",
       "    <tr>\n",
       "      <th>4</th>\n",
       "      <td>5</td>\n",
       "      <td>16742</td>\n",
       "      <td>294690</td>\n",
       "      <td>[61215, 34486, 274088]</td>\n",
       "    </tr>\n",
       "    <tr>\n",
       "      <th>...</th>\n",
       "      <td>...</td>\n",
       "      <td>...</td>\n",
       "      <td>...</td>\n",
       "      <td>...</td>\n",
       "    </tr>\n",
       "    <tr>\n",
       "      <th>224036</th>\n",
       "      <td>296100</td>\n",
       "      <td>166516</td>\n",
       "      <td>33011</td>\n",
       "      <td>[274088, 199606, 88853]</td>\n",
       "    </tr>\n",
       "    <tr>\n",
       "      <th>224037</th>\n",
       "      <td>296101</td>\n",
       "      <td>0</td>\n",
       "      <td>0</td>\n",
       "      <td>[]</td>\n",
       "    </tr>\n",
       "    <tr>\n",
       "      <th>224038</th>\n",
       "      <td>296102</td>\n",
       "      <td>153644</td>\n",
       "      <td>289056</td>\n",
       "      <td>[158282, 139095, 242383]</td>\n",
       "    </tr>\n",
       "    <tr>\n",
       "      <th>224039</th>\n",
       "      <td>296105</td>\n",
       "      <td>68336</td>\n",
       "      <td>6613</td>\n",
       "      <td>[82064]</td>\n",
       "    </tr>\n",
       "    <tr>\n",
       "      <th>224040</th>\n",
       "      <td>296110</td>\n",
       "      <td>281202</td>\n",
       "      <td>140302</td>\n",
       "      <td>[61215]</td>\n",
       "    </tr>\n",
       "  </tbody>\n",
       "</table>\n",
       "<p>224041 rows × 4 columns</p>\n",
       "</div>"
      ],
      "text/plain": [
       "        track_id  album_id  artist_id                 genre_ids\n",
       "0              1    106710     281667  [214765, 162234, 155788]\n",
       "1              2    280977     233685   [131552, 173467, 48505]\n",
       "2              3     38422     219136    [61215, 201738, 88853]\n",
       "3              4    119529     166863            [17453, 35389]\n",
       "4              5     16742     294690    [61215, 34486, 274088]\n",
       "...          ...       ...        ...                       ...\n",
       "224036    296100    166516      33011   [274088, 199606, 88853]\n",
       "224037    296101         0          0                        []\n",
       "224038    296102    153644     289056  [158282, 139095, 242383]\n",
       "224039    296105     68336       6613                   [82064]\n",
       "224040    296110    281202     140302                   [61215]\n",
       "\n",
       "[224041 rows x 4 columns]"
      ]
     },
     "execution_count": 29,
     "metadata": {},
     "output_type": "execute_result"
    }
   ],
   "source": [
    "track_df = load_track_data('/Users/camillecu/Downloads/KUL/master_thesis/master_thesis_github/yahoo_data/ydata-ymusic-kddcup-2011-track2/trackData2.txt')\n",
    "track_df"
   ]
  },
  {
   "cell_type": "code",
   "execution_count": 30,
   "id": "34108565-28ae-42a4-81e4-1a15b137a527",
   "metadata": {},
   "outputs": [
    {
     "data": {
      "application/vnd.microsoft.datawrangler.viewer.v0+json": {
       "columns": [
        {
         "name": "index",
         "rawType": "int64",
         "type": "integer"
        },
        {
         "name": "album_id",
         "rawType": "int64",
         "type": "integer"
        },
        {
         "name": "artist_id",
         "rawType": "int64",
         "type": "integer"
        },
        {
         "name": "genre_ids",
         "rawType": "object",
         "type": "unknown"
        }
       ],
       "ref": "bec71d82-840a-4b34-b26c-37557344d632",
       "rows": [
        [
         "0",
         "0",
         "0",
         "[214765]"
        ],
        [
         "1",
         "6",
         "228091",
         "[158282, 81520, 242383]"
        ],
        [
         "2",
         "19",
         "85028",
         "[103715]"
        ],
        [
         "3",
         "30",
         "16832",
         "[31567]"
        ],
        [
         "4",
         "33",
         "26330",
         "[149962, 209270]"
        ],
        [
         "5",
         "37",
         "0",
         "[61215]"
        ],
        [
         "6",
         "74",
         "197882",
         "[201738]"
        ],
        [
         "7",
         "78",
         "163140",
         "[208198, 173467, 31567, 146792, 84705, 159815]"
        ],
        [
         "8",
         "82",
         "110657",
         "[116130, 181653, 285888]"
        ],
        [
         "9",
         "93",
         "151090",
         "[208198]"
        ],
        [
         "10",
         "96",
         "147621",
         "[173467, 48505, 133159]"
        ],
        [
         "11",
         "103",
         "0",
         "[]"
        ],
        [
         "12",
         "107",
         "17678",
         "[61215, 274088]"
        ],
        [
         "13",
         "110",
         "202437",
         "[27110]"
        ],
        [
         "14",
         "118",
         "0",
         "[]"
        ],
        [
         "15",
         "119",
         "0",
         "[]"
        ],
        [
         "16",
         "121",
         "0",
         "[]"
        ],
        [
         "17",
         "125",
         "253380",
         "[61215, 34486]"
        ],
        [
         "18",
         "132",
         "0",
         "[]"
        ],
        [
         "19",
         "143",
         "15942",
         "[33722]"
        ],
        [
         "20",
         "144",
         "204869",
         "[158282, 81520, 242383, 207648, 279143]"
        ],
        [
         "21",
         "146",
         "294875",
         "[199606, 88853]"
        ],
        [
         "22",
         "149",
         "0",
         "[61215, 17453, 35389]"
        ],
        [
         "23",
         "158",
         "270655",
         "[131552]"
        ],
        [
         "24",
         "165",
         "5377",
         "[214765, 98687]"
        ],
        [
         "25",
         "173",
         "141866",
         "[131552, 79926, 73523]"
        ],
        [
         "26",
         "180",
         "161216",
         "[145948]"
        ],
        [
         "27",
         "189",
         "0",
         "[289568]"
        ],
        [
         "28",
         "197",
         "103010",
         "[61215, 199606, 71345, 48717]"
        ],
        [
         "29",
         "200",
         "255586",
         "[131552, 173467, 176858, 218185, 82064, 206269, 266073]"
        ],
        [
         "30",
         "201",
         "199322",
         "[67098]"
        ],
        [
         "31",
         "205",
         "12607",
         "[61215]"
        ],
        [
         "32",
         "241",
         "135431",
         "[158282]"
        ],
        [
         "33",
         "244",
         "106388",
         "[173467, 48505]"
        ],
        [
         "34",
         "246",
         "223679",
         "[147886, 161601]"
        ],
        [
         "35",
         "252",
         "155618",
         "[61215]"
        ],
        [
         "36",
         "254",
         "43797",
         "[35389]"
        ],
        [
         "37",
         "264",
         "97420",
         "[198263, 131552, 71345, 48717]"
        ],
        [
         "38",
         "266",
         "232588",
         "[244713]"
        ],
        [
         "39",
         "267",
         "237956",
         "[158282, 279143, 3969, 205389]"
        ],
        [
         "40",
         "277",
         "110324",
         "[158282, 139095, 242383, 279143, 173655]"
        ],
        [
         "41",
         "285",
         "178617",
         "[61215, 34486, 17453, 35389]"
        ],
        [
         "42",
         "290",
         "39943",
         "[214765, 268217]"
        ],
        [
         "43",
         "299",
         "172223",
         "[61215, 34486, 99463]"
        ],
        [
         "44",
         "303",
         "143622",
         "[131552, 173467, 199606, 27110, 48717, 266781, 146792]"
        ],
        [
         "45",
         "304",
         "274339",
         "[18161, 65985]"
        ],
        [
         "46",
         "313",
         "121889",
         "[274088, 199606]"
        ],
        [
         "47",
         "322",
         "237708",
         "[147886, 161601]"
        ],
        [
         "48",
         "329",
         "183577",
         "[214765, 155788]"
        ],
        [
         "49",
         "339",
         "48073",
         "[287681, 244713]"
        ]
       ],
       "shape": {
        "columns": 3,
        "rows": 52829
       }
      },
      "text/html": [
       "<div>\n",
       "<style scoped>\n",
       "    .dataframe tbody tr th:only-of-type {\n",
       "        vertical-align: middle;\n",
       "    }\n",
       "\n",
       "    .dataframe tbody tr th {\n",
       "        vertical-align: top;\n",
       "    }\n",
       "\n",
       "    .dataframe thead th {\n",
       "        text-align: right;\n",
       "    }\n",
       "</style>\n",
       "<table border=\"1\" class=\"dataframe\">\n",
       "  <thead>\n",
       "    <tr style=\"text-align: right;\">\n",
       "      <th></th>\n",
       "      <th>album_id</th>\n",
       "      <th>artist_id</th>\n",
       "      <th>genre_ids</th>\n",
       "    </tr>\n",
       "  </thead>\n",
       "  <tbody>\n",
       "    <tr>\n",
       "      <th>0</th>\n",
       "      <td>0</td>\n",
       "      <td>0</td>\n",
       "      <td>[214765]</td>\n",
       "    </tr>\n",
       "    <tr>\n",
       "      <th>1</th>\n",
       "      <td>6</td>\n",
       "      <td>228091</td>\n",
       "      <td>[158282, 81520, 242383]</td>\n",
       "    </tr>\n",
       "    <tr>\n",
       "      <th>2</th>\n",
       "      <td>19</td>\n",
       "      <td>85028</td>\n",
       "      <td>[103715]</td>\n",
       "    </tr>\n",
       "    <tr>\n",
       "      <th>3</th>\n",
       "      <td>30</td>\n",
       "      <td>16832</td>\n",
       "      <td>[31567]</td>\n",
       "    </tr>\n",
       "    <tr>\n",
       "      <th>4</th>\n",
       "      <td>33</td>\n",
       "      <td>26330</td>\n",
       "      <td>[149962, 209270]</td>\n",
       "    </tr>\n",
       "    <tr>\n",
       "      <th>...</th>\n",
       "      <td>...</td>\n",
       "      <td>...</td>\n",
       "      <td>...</td>\n",
       "    </tr>\n",
       "    <tr>\n",
       "      <th>52824</th>\n",
       "      <td>296104</td>\n",
       "      <td>125866</td>\n",
       "      <td>[158282]</td>\n",
       "    </tr>\n",
       "    <tr>\n",
       "      <th>52825</th>\n",
       "      <td>296106</td>\n",
       "      <td>221637</td>\n",
       "      <td>[116130, 9432]</td>\n",
       "    </tr>\n",
       "    <tr>\n",
       "      <th>52826</th>\n",
       "      <td>296107</td>\n",
       "      <td>0</td>\n",
       "      <td>[61215]</td>\n",
       "    </tr>\n",
       "    <tr>\n",
       "      <th>52827</th>\n",
       "      <td>296108</td>\n",
       "      <td>93277</td>\n",
       "      <td>[61215]</td>\n",
       "    </tr>\n",
       "    <tr>\n",
       "      <th>52828</th>\n",
       "      <td>296109</td>\n",
       "      <td>84885</td>\n",
       "      <td>[287681]</td>\n",
       "    </tr>\n",
       "  </tbody>\n",
       "</table>\n",
       "<p>52829 rows × 3 columns</p>\n",
       "</div>"
      ],
      "text/plain": [
       "       album_id  artist_id                genre_ids\n",
       "0             0          0                 [214765]\n",
       "1             6     228091  [158282, 81520, 242383]\n",
       "2            19      85028                 [103715]\n",
       "3            30      16832                  [31567]\n",
       "4            33      26330         [149962, 209270]\n",
       "...         ...        ...                      ...\n",
       "52824    296104     125866                 [158282]\n",
       "52825    296106     221637           [116130, 9432]\n",
       "52826    296107          0                  [61215]\n",
       "52827    296108      93277                  [61215]\n",
       "52828    296109      84885                 [287681]\n",
       "\n",
       "[52829 rows x 3 columns]"
      ]
     },
     "execution_count": 30,
     "metadata": {},
     "output_type": "execute_result"
    }
   ],
   "source": [
    "album_df = load_album_data('/Users/camillecu/Downloads/KUL/master_thesis/master_thesis_github/yahoo_data/ydata-ymusic-kddcup-2011-track2/albumData2.txt')\n",
    "album_df"
   ]
  },
  {
   "cell_type": "code",
   "execution_count": 31,
   "id": "bc231968-49a8-4eed-b110-9c7d22ac0725",
   "metadata": {},
   "outputs": [
    {
     "data": {
      "application/vnd.microsoft.datawrangler.viewer.v0+json": {
       "columns": [
        {
         "name": "index",
         "rawType": "int64",
         "type": "integer"
        },
        {
         "name": "artist_id",
         "rawType": "int64",
         "type": "integer"
        }
       ],
       "ref": "d86c8cac-4f90-46ac-9091-dda7e9f77227",
       "rows": [
        [
         "0",
         "16"
        ],
        [
         "1",
         "23"
        ],
        [
         "2",
         "35"
        ],
        [
         "3",
         "40"
        ],
        [
         "4",
         "49"
        ],
        [
         "5",
         "54"
        ],
        [
         "6",
         "98"
        ],
        [
         "7",
         "136"
        ],
        [
         "8",
         "138"
        ],
        [
         "9",
         "139"
        ],
        [
         "10",
         "190"
        ],
        [
         "11",
         "198"
        ],
        [
         "12",
         "207"
        ],
        [
         "13",
         "236"
        ],
        [
         "14",
         "292"
        ],
        [
         "15",
         "295"
        ],
        [
         "16",
         "301"
        ],
        [
         "17",
         "307"
        ],
        [
         "18",
         "325"
        ],
        [
         "19",
         "326"
        ],
        [
         "20",
         "396"
        ],
        [
         "21",
         "408"
        ],
        [
         "22",
         "425"
        ],
        [
         "23",
         "435"
        ],
        [
         "24",
         "448"
        ],
        [
         "25",
         "469"
        ],
        [
         "26",
         "495"
        ],
        [
         "27",
         "539"
        ],
        [
         "28",
         "544"
        ],
        [
         "29",
         "564"
        ],
        [
         "30",
         "576"
        ],
        [
         "31",
         "586"
        ],
        [
         "32",
         "600"
        ],
        [
         "33",
         "617"
        ],
        [
         "34",
         "619"
        ],
        [
         "35",
         "635"
        ],
        [
         "36",
         "638"
        ],
        [
         "37",
         "644"
        ],
        [
         "38",
         "647"
        ],
        [
         "39",
         "661"
        ],
        [
         "40",
         "663"
        ],
        [
         "41",
         "725"
        ],
        [
         "42",
         "732"
        ],
        [
         "43",
         "768"
        ],
        [
         "44",
         "778"
        ],
        [
         "45",
         "786"
        ],
        [
         "46",
         "792"
        ],
        [
         "47",
         "798"
        ],
        [
         "48",
         "801"
        ],
        [
         "49",
         "820"
        ]
       ],
       "shape": {
        "columns": 1,
        "rows": 18674
       }
      },
      "text/html": [
       "<div>\n",
       "<style scoped>\n",
       "    .dataframe tbody tr th:only-of-type {\n",
       "        vertical-align: middle;\n",
       "    }\n",
       "\n",
       "    .dataframe tbody tr th {\n",
       "        vertical-align: top;\n",
       "    }\n",
       "\n",
       "    .dataframe thead th {\n",
       "        text-align: right;\n",
       "    }\n",
       "</style>\n",
       "<table border=\"1\" class=\"dataframe\">\n",
       "  <thead>\n",
       "    <tr style=\"text-align: right;\">\n",
       "      <th></th>\n",
       "      <th>artist_id</th>\n",
       "    </tr>\n",
       "  </thead>\n",
       "  <tbody>\n",
       "    <tr>\n",
       "      <th>0</th>\n",
       "      <td>16</td>\n",
       "    </tr>\n",
       "    <tr>\n",
       "      <th>1</th>\n",
       "      <td>23</td>\n",
       "    </tr>\n",
       "    <tr>\n",
       "      <th>2</th>\n",
       "      <td>35</td>\n",
       "    </tr>\n",
       "    <tr>\n",
       "      <th>3</th>\n",
       "      <td>40</td>\n",
       "    </tr>\n",
       "    <tr>\n",
       "      <th>4</th>\n",
       "      <td>49</td>\n",
       "    </tr>\n",
       "    <tr>\n",
       "      <th>...</th>\n",
       "      <td>...</td>\n",
       "    </tr>\n",
       "    <tr>\n",
       "      <th>18669</th>\n",
       "      <td>295987</td>\n",
       "    </tr>\n",
       "    <tr>\n",
       "      <th>18670</th>\n",
       "      <td>296007</td>\n",
       "    </tr>\n",
       "    <tr>\n",
       "      <th>18671</th>\n",
       "      <td>296012</td>\n",
       "    </tr>\n",
       "    <tr>\n",
       "      <th>18672</th>\n",
       "      <td>296013</td>\n",
       "    </tr>\n",
       "    <tr>\n",
       "      <th>18673</th>\n",
       "      <td>296041</td>\n",
       "    </tr>\n",
       "  </tbody>\n",
       "</table>\n",
       "<p>18674 rows × 1 columns</p>\n",
       "</div>"
      ],
      "text/plain": [
       "       artist_id\n",
       "0             16\n",
       "1             23\n",
       "2             35\n",
       "3             40\n",
       "4             49\n",
       "...          ...\n",
       "18669     295987\n",
       "18670     296007\n",
       "18671     296012\n",
       "18672     296013\n",
       "18673     296041\n",
       "\n",
       "[18674 rows x 1 columns]"
      ]
     },
     "execution_count": 31,
     "metadata": {},
     "output_type": "execute_result"
    }
   ],
   "source": [
    "artist_df = load_artist_data('/Users/camillecu/Downloads/KUL/master_thesis/master_thesis_github/yahoo_data/ydata-ymusic-kddcup-2011-track2/artistData2.txt')\n",
    "artist_df"
   ]
  },
  {
   "cell_type": "code",
   "execution_count": 32,
   "id": "ed474fba-2146-4211-b16d-e67072c9772a",
   "metadata": {},
   "outputs": [
    {
     "data": {
      "application/vnd.microsoft.datawrangler.viewer.v0+json": {
       "columns": [
        {
         "name": "index",
         "rawType": "int64",
         "type": "integer"
        },
        {
         "name": "genre_id",
         "rawType": "int64",
         "type": "integer"
        }
       ],
       "ref": "ade30475-5911-4908-985e-f2a2ff0ef58a",
       "rows": [
        [
         "0",
         "208"
        ],
        [
         "1",
         "315"
        ],
        [
         "2",
         "642"
        ],
        [
         "3",
         "1075"
        ],
        [
         "4",
         "1271"
        ],
        [
         "5",
         "1534"
        ],
        [
         "6",
         "1732"
        ],
        [
         "7",
         "1808"
        ],
        [
         "8",
         "2143"
        ],
        [
         "9",
         "2384"
        ],
        [
         "10",
         "2938"
        ],
        [
         "11",
         "3428"
        ],
        [
         "12",
         "3969"
        ],
        [
         "13",
         "4423"
        ],
        [
         "14",
         "4532"
        ],
        [
         "15",
         "5699"
        ],
        [
         "16",
         "5985"
        ],
        [
         "17",
         "6398"
        ],
        [
         "18",
         "6954"
        ],
        [
         "19",
         "7138"
        ],
        [
         "20",
         "8400"
        ],
        [
         "21",
         "9041"
        ],
        [
         "22",
         "9108"
        ],
        [
         "23",
         "9239"
        ],
        [
         "24",
         "9432"
        ],
        [
         "25",
         "9667"
        ],
        [
         "26",
         "9797"
        ],
        [
         "27",
         "11503"
        ],
        [
         "28",
         "11688"
        ],
        [
         "29",
         "11731"
        ],
        [
         "30",
         "12274"
        ],
        [
         "31",
         "13618"
        ],
        [
         "32",
         "14394"
        ],
        [
         "33",
         "15280"
        ],
        [
         "34",
         "15332"
        ],
        [
         "35",
         "16571"
        ],
        [
         "36",
         "17010"
        ],
        [
         "37",
         "17368"
        ],
        [
         "38",
         "17453"
        ],
        [
         "39",
         "17680"
        ],
        [
         "40",
         "18030"
        ],
        [
         "41",
         "18161"
        ],
        [
         "42",
         "18629"
        ],
        [
         "43",
         "19514"
        ],
        [
         "44",
         "19825"
        ],
        [
         "45",
         "19913"
        ],
        [
         "46",
         "20068"
        ],
        [
         "47",
         "21266"
        ],
        [
         "48",
         "21505"
        ],
        [
         "49",
         "22299"
        ]
       ],
       "shape": {
        "columns": 1,
        "rows": 567
       }
      },
      "text/html": [
       "<div>\n",
       "<style scoped>\n",
       "    .dataframe tbody tr th:only-of-type {\n",
       "        vertical-align: middle;\n",
       "    }\n",
       "\n",
       "    .dataframe tbody tr th {\n",
       "        vertical-align: top;\n",
       "    }\n",
       "\n",
       "    .dataframe thead th {\n",
       "        text-align: right;\n",
       "    }\n",
       "</style>\n",
       "<table border=\"1\" class=\"dataframe\">\n",
       "  <thead>\n",
       "    <tr style=\"text-align: right;\">\n",
       "      <th></th>\n",
       "      <th>genre_id</th>\n",
       "    </tr>\n",
       "  </thead>\n",
       "  <tbody>\n",
       "    <tr>\n",
       "      <th>0</th>\n",
       "      <td>208</td>\n",
       "    </tr>\n",
       "    <tr>\n",
       "      <th>1</th>\n",
       "      <td>315</td>\n",
       "    </tr>\n",
       "    <tr>\n",
       "      <th>2</th>\n",
       "      <td>642</td>\n",
       "    </tr>\n",
       "    <tr>\n",
       "      <th>3</th>\n",
       "      <td>1075</td>\n",
       "    </tr>\n",
       "    <tr>\n",
       "      <th>4</th>\n",
       "      <td>1271</td>\n",
       "    </tr>\n",
       "    <tr>\n",
       "      <th>...</th>\n",
       "      <td>...</td>\n",
       "    </tr>\n",
       "    <tr>\n",
       "      <th>562</th>\n",
       "      <td>292093</td>\n",
       "    </tr>\n",
       "    <tr>\n",
       "      <th>563</th>\n",
       "      <td>293670</td>\n",
       "    </tr>\n",
       "    <tr>\n",
       "      <th>564</th>\n",
       "      <td>293688</td>\n",
       "    </tr>\n",
       "    <tr>\n",
       "      <th>565</th>\n",
       "      <td>294138</td>\n",
       "    </tr>\n",
       "    <tr>\n",
       "      <th>566</th>\n",
       "      <td>294310</td>\n",
       "    </tr>\n",
       "  </tbody>\n",
       "</table>\n",
       "<p>567 rows × 1 columns</p>\n",
       "</div>"
      ],
      "text/plain": [
       "     genre_id\n",
       "0         208\n",
       "1         315\n",
       "2         642\n",
       "3        1075\n",
       "4        1271\n",
       "..        ...\n",
       "562    292093\n",
       "563    293670\n",
       "564    293688\n",
       "565    294138\n",
       "566    294310\n",
       "\n",
       "[567 rows x 1 columns]"
      ]
     },
     "execution_count": 32,
     "metadata": {},
     "output_type": "execute_result"
    }
   ],
   "source": [
    "genre_df = load_genre_data('/Users/camillecu/Downloads/KUL/master_thesis/master_thesis_github/yahoo_data/ydata-ymusic-kddcup-2011-track2/genreData2.txt')\n",
    "genre_df"
   ]
  },
  {
   "cell_type": "code",
   "execution_count": 33,
   "id": "8931dd4b-ac84-4292-af68-8c101bb35789",
   "metadata": {},
   "outputs": [],
   "source": [
    "train_path = '/Users/camillecu/Downloads/KUL/master_thesis/master_thesis_github/yahoo_data/ydata-ymusic-kddcup-2011-track2/trainIdx2.txt'\n",
    "my_seed = 7\n",
    "random.seed(my_seed)\n",
    "np.random.seed(my_seed)\n",
    "train_df = load_user_item_matrix(train_path)\n"
   ]
  },
  {
   "cell_type": "code",
   "execution_count": 10,
   "id": "2b82bdd0-cb88-4832-b32e-1a13918c476c",
   "metadata": {},
   "outputs": [
    {
     "data": {
      "application/vnd.microsoft.datawrangler.viewer.v0+json": {
       "columns": [
        {
         "name": "index",
         "rawType": "int64",
         "type": "integer"
        },
        {
         "name": "user_id",
         "rawType": "int64",
         "type": "integer"
        },
        {
         "name": "item_id",
         "rawType": "int64",
         "type": "integer"
        },
        {
         "name": "rating",
         "rawType": "int64",
         "type": "integer"
        }
       ],
       "ref": "d9789033-6df5-4394-975e-d5fc75128a59",
       "rows": [
        [
         "0",
         "0",
         "28341",
         "90"
        ],
        [
         "1",
         "0",
         "51210",
         "90"
        ],
        [
         "2",
         "0",
         "79500",
         "90"
        ],
        [
         "3",
         "0",
         "82317",
         "90"
        ],
        [
         "4",
         "0",
         "98399",
         "90"
        ],
        [
         "5",
         "0",
         "151565",
         "90"
        ],
        [
         "6",
         "0",
         "152077",
         "90"
        ],
        [
         "7",
         "0",
         "173467",
         "80"
        ],
        [
         "8",
         "0",
         "176858",
         "80"
        ],
        [
         "9",
         "0",
         "180487",
         "90"
        ],
        [
         "10",
         "0",
         "211565",
         "90"
        ],
        [
         "11",
         "0",
         "263882",
         "90"
        ],
        [
         "12",
         "0",
         "275191",
         "90"
        ],
        [
         "13",
         "0",
         "149962",
         "70"
        ],
        [
         "14",
         "0",
         "51948",
         "30"
        ],
        [
         "15",
         "0",
         "113759",
         "30"
        ],
        [
         "16",
         "0",
         "251690",
         "30"
        ],
        [
         "17",
         "0",
         "22935",
         "50"
        ],
        [
         "18",
         "0",
         "45979",
         "50"
        ],
        [
         "19",
         "0",
         "59092",
         "70"
        ],
        [
         "20",
         "0",
         "159380",
         "50"
        ],
        [
         "21",
         "0",
         "206862",
         "70"
        ],
        [
         "22",
         "0",
         "210480",
         "70"
        ],
        [
         "23",
         "0",
         "224444",
         "70"
        ],
        [
         "24",
         "0",
         "231934",
         "50"
        ],
        [
         "25",
         "0",
         "232604",
         "30"
        ],
        [
         "26",
         "0",
         "237425",
         "50"
        ],
        [
         "27",
         "0",
         "245257",
         "50"
        ],
        [
         "28",
         "0",
         "23301",
         "50"
        ],
        [
         "29",
         "0",
         "64052",
         "70"
        ],
        [
         "30",
         "0",
         "77710",
         "70"
        ],
        [
         "31",
         "0",
         "97326",
         "30"
        ],
        [
         "32",
         "0",
         "119186",
         "90"
        ],
        [
         "33",
         "0",
         "154225",
         "50"
        ],
        [
         "34",
         "0",
         "161823",
         "30"
        ],
        [
         "35",
         "0",
         "182018",
         "70"
        ],
        [
         "36",
         "0",
         "186306",
         "90"
        ],
        [
         "37",
         "0",
         "211701",
         "50"
        ],
        [
         "38",
         "0",
         "229481",
         "70"
        ],
        [
         "39",
         "0",
         "236546",
         "90"
        ],
        [
         "40",
         "0",
         "270557",
         "70"
        ],
        [
         "41",
         "0",
         "286976",
         "30"
        ],
        [
         "42",
         "0",
         "69022",
         "90"
        ],
        [
         "43",
         "0",
         "70401",
         "30"
        ],
        [
         "44",
         "0",
         "138935",
         "30"
        ],
        [
         "45",
         "0",
         "182642",
         "30"
        ],
        [
         "46",
         "1",
         "3091",
         "90"
        ],
        [
         "47",
         "1",
         "11828",
         "90"
        ],
        [
         "48",
         "1",
         "33269",
         "90"
        ],
        [
         "49",
         "1",
         "64811",
         "90"
        ]
       ],
       "shape": {
        "columns": 3,
        "rows": 61944406
       }
      },
      "text/html": [
       "<div>\n",
       "<style scoped>\n",
       "    .dataframe tbody tr th:only-of-type {\n",
       "        vertical-align: middle;\n",
       "    }\n",
       "\n",
       "    .dataframe tbody tr th {\n",
       "        vertical-align: top;\n",
       "    }\n",
       "\n",
       "    .dataframe thead th {\n",
       "        text-align: right;\n",
       "    }\n",
       "</style>\n",
       "<table border=\"1\" class=\"dataframe\">\n",
       "  <thead>\n",
       "    <tr style=\"text-align: right;\">\n",
       "      <th></th>\n",
       "      <th>user_id</th>\n",
       "      <th>item_id</th>\n",
       "      <th>rating</th>\n",
       "    </tr>\n",
       "  </thead>\n",
       "  <tbody>\n",
       "    <tr>\n",
       "      <th>0</th>\n",
       "      <td>0</td>\n",
       "      <td>28341</td>\n",
       "      <td>90</td>\n",
       "    </tr>\n",
       "    <tr>\n",
       "      <th>1</th>\n",
       "      <td>0</td>\n",
       "      <td>51210</td>\n",
       "      <td>90</td>\n",
       "    </tr>\n",
       "    <tr>\n",
       "      <th>2</th>\n",
       "      <td>0</td>\n",
       "      <td>79500</td>\n",
       "      <td>90</td>\n",
       "    </tr>\n",
       "    <tr>\n",
       "      <th>3</th>\n",
       "      <td>0</td>\n",
       "      <td>82317</td>\n",
       "      <td>90</td>\n",
       "    </tr>\n",
       "    <tr>\n",
       "      <th>4</th>\n",
       "      <td>0</td>\n",
       "      <td>98399</td>\n",
       "      <td>90</td>\n",
       "    </tr>\n",
       "    <tr>\n",
       "      <th>...</th>\n",
       "      <td>...</td>\n",
       "      <td>...</td>\n",
       "      <td>...</td>\n",
       "    </tr>\n",
       "    <tr>\n",
       "      <th>61944401</th>\n",
       "      <td>249011</td>\n",
       "      <td>270557</td>\n",
       "      <td>90</td>\n",
       "    </tr>\n",
       "    <tr>\n",
       "      <th>61944402</th>\n",
       "      <td>249011</td>\n",
       "      <td>273574</td>\n",
       "      <td>90</td>\n",
       "    </tr>\n",
       "    <tr>\n",
       "      <th>61944403</th>\n",
       "      <td>249011</td>\n",
       "      <td>286938</td>\n",
       "      <td>90</td>\n",
       "    </tr>\n",
       "    <tr>\n",
       "      <th>61944404</th>\n",
       "      <td>249011</td>\n",
       "      <td>287681</td>\n",
       "      <td>80</td>\n",
       "    </tr>\n",
       "    <tr>\n",
       "      <th>61944405</th>\n",
       "      <td>249011</td>\n",
       "      <td>295381</td>\n",
       "      <td>90</td>\n",
       "    </tr>\n",
       "  </tbody>\n",
       "</table>\n",
       "<p>61944406 rows × 3 columns</p>\n",
       "</div>"
      ],
      "text/plain": [
       "          user_id  item_id  rating\n",
       "0               0    28341      90\n",
       "1               0    51210      90\n",
       "2               0    79500      90\n",
       "3               0    82317      90\n",
       "4               0    98399      90\n",
       "...           ...      ...     ...\n",
       "61944401   249011   270557      90\n",
       "61944402   249011   273574      90\n",
       "61944403   249011   286938      90\n",
       "61944404   249011   287681      80\n",
       "61944405   249011   295381      90\n",
       "\n",
       "[61944406 rows x 3 columns]"
      ]
     },
     "execution_count": 10,
     "metadata": {},
     "output_type": "execute_result"
    }
   ],
   "source": [
    "train_df"
   ]
  },
  {
   "cell_type": "code",
   "execution_count": 34,
   "id": "440d13e7-e57d-4a61-a1c0-af65afef3f82",
   "metadata": {},
   "outputs": [
    {
     "name": "stdout",
     "output_type": "stream",
     "text": [
      "🔁 Number of duplicated (user_id, item_id) pairs: 0\n",
      "Series([], dtype: int64)\n"
     ]
    }
   ],
   "source": [
    "duplicate_counts = train_df.groupby(['user_id', 'item_id']).size()\n",
    "duplicates = duplicate_counts[duplicate_counts > 1]\n",
    "\n",
    "print(f\"🔁 Number of duplicated (user_id, item_id) pairs: {len(duplicates)}\")\n",
    "print(duplicates.head())\n"
   ]
  },
  {
   "cell_type": "code",
   "execution_count": 12,
   "id": "9793ce57-3191-47f0-83a0-44648204713e",
   "metadata": {},
   "outputs": [
    {
     "name": "stdout",
     "output_type": "stream",
     "text": [
      "296110\n",
      "296110\n",
      "0.4385845107627636\n",
      "0.1925648621120041\n",
      "0.3114063600835885\n",
      "0.05744426704164376\n"
     ]
    }
   ],
   "source": [
    "print(train_df['item_id'].max())      # highest item_id\n",
    "print(track_df['track_id'].max())     # highest track_id\n",
    "print(train_df['item_id'].isin(track_df['track_id']).mean())  # proportion to match\n",
    "\n",
    "print(train_df['item_id'].isin(album_df['album_id']).mean())\n",
    "\n",
    "print(train_df['item_id'].isin(artist_df['artist_id']).mean())\n",
    "\n",
    "print(train_df['item_id'].isin(genre_df['genre_id']).mean())\n",
    "\n"
   ]
  },
  {
   "cell_type": "code",
   "execution_count": 35,
   "id": "bbaeb599-50ef-4735-9088-32bcb1ce9aa4",
   "metadata": {},
   "outputs": [],
   "source": [
    "def build_item_metadata(track_df, album_df, artist_df, genre_df):\n",
    "    rows = []\n",
    "\n",
    "    # 1. Tracks\n",
    "    for _, row in track_df.iterrows():\n",
    "        rows.append({\n",
    "            'item_id': row['track_id'],\n",
    "            'item_type': 'track',\n",
    "            'artist_id': row['artist_id'],\n",
    "            'genre_ids': row['genre_ids']\n",
    "        })\n",
    "\n",
    "    # 2. Albums\n",
    "    for _, row in album_df.iterrows():\n",
    "        rows.append({\n",
    "            'item_id': row['album_id'],\n",
    "            'item_type': 'album',\n",
    "            'artist_id': row['artist_id'],\n",
    "            'genre_ids': row['genre_ids']\n",
    "        })\n",
    "\n",
    "    # 3. Artists\n",
    "    for artist_id in artist_df['artist_id']:\n",
    "        rows.append({\n",
    "            'item_id': artist_id,\n",
    "            'item_type': 'artist',\n",
    "            'artist_id': artist_id,\n",
    "            'genre_ids': 0\n",
    "        })\n",
    "\n",
    "    # 4. Genres\n",
    "    for genre_id in genre_df['genre_id']:\n",
    "        rows.append({\n",
    "            'item_id': genre_id,\n",
    "            'item_type': 'genre',\n",
    "            'artist_id': 0,\n",
    "            'genre_ids': [genre_id]\n",
    "        })\n",
    "\n",
    "    return pd.DataFrame(rows)"
   ]
  },
  {
   "cell_type": "code",
   "execution_count": 36,
   "id": "66ee1ab6-33f8-43fa-ae6e-f93ea5d0858b",
   "metadata": {},
   "outputs": [
    {
     "data": {
      "application/vnd.microsoft.datawrangler.viewer.v0+json": {
       "columns": [
        {
         "name": "index",
         "rawType": "int64",
         "type": "integer"
        },
        {
         "name": "user_id",
         "rawType": "int64",
         "type": "integer"
        },
        {
         "name": "item_id",
         "rawType": "int64",
         "type": "integer"
        },
        {
         "name": "rating",
         "rawType": "int64",
         "type": "integer"
        },
        {
         "name": "item_type",
         "rawType": "object",
         "type": "string"
        },
        {
         "name": "artist_id",
         "rawType": "int64",
         "type": "integer"
        },
        {
         "name": "genre_ids",
         "rawType": "object",
         "type": "unknown"
        }
       ],
       "ref": "ae9ac047-dea1-4228-9a0f-8e87210c2ede",
       "rows": [
        [
         "0",
         "0",
         "28341",
         "90",
         "artist",
         "28341",
         "0"
        ],
        [
         "1",
         "0",
         "232604",
         "30",
         "artist",
         "232604",
         "0"
        ],
        [
         "2",
         "0",
         "237425",
         "50",
         "artist",
         "237425",
         "0"
        ],
        [
         "3",
         "0",
         "245257",
         "50",
         "artist",
         "245257",
         "0"
        ],
        [
         "4",
         "0",
         "23301",
         "50",
         "artist",
         "23301",
         "0"
        ],
        [
         "5",
         "0",
         "64052",
         "70",
         "artist",
         "64052",
         "0"
        ],
        [
         "6",
         "0",
         "77710",
         "70",
         "artist",
         "77710",
         "0"
        ],
        [
         "7",
         "0",
         "97326",
         "30",
         "artist",
         "97326",
         "0"
        ],
        [
         "8",
         "0",
         "119186",
         "90",
         "artist",
         "119186",
         "0"
        ],
        [
         "9",
         "0",
         "154225",
         "50",
         "artist",
         "154225",
         "0"
        ],
        [
         "10",
         "0",
         "231934",
         "50",
         "artist",
         "231934",
         "0"
        ],
        [
         "11",
         "0",
         "161823",
         "30",
         "artist",
         "161823",
         "0"
        ],
        [
         "12",
         "0",
         "186306",
         "90",
         "artist",
         "186306",
         "0"
        ],
        [
         "13",
         "0",
         "211701",
         "50",
         "artist",
         "211701",
         "0"
        ],
        [
         "14",
         "0",
         "236546",
         "90",
         "artist",
         "236546",
         "0"
        ],
        [
         "15",
         "0",
         "270557",
         "70",
         "artist",
         "270557",
         "0"
        ],
        [
         "16",
         "0",
         "286976",
         "30",
         "artist",
         "286976",
         "0"
        ],
        [
         "17",
         "0",
         "69022",
         "90",
         "artist",
         "69022",
         "0"
        ],
        [
         "18",
         "0",
         "70401",
         "30",
         "artist",
         "70401",
         "0"
        ],
        [
         "19",
         "0",
         "138935",
         "30",
         "artist",
         "138935",
         "0"
        ],
        [
         "20",
         "0",
         "182642",
         "30",
         "artist",
         "182642",
         "0"
        ],
        [
         "21",
         "0",
         "182018",
         "70",
         "artist",
         "182018",
         "0"
        ],
        [
         "22",
         "0",
         "224444",
         "70",
         "artist",
         "224444",
         "0"
        ],
        [
         "23",
         "0",
         "229481",
         "70",
         "artist",
         "229481",
         "0"
        ],
        [
         "24",
         "0",
         "206862",
         "70",
         "artist",
         "206862",
         "0"
        ],
        [
         "25",
         "0",
         "210480",
         "70",
         "artist",
         "210480",
         "0"
        ],
        [
         "26",
         "0",
         "51210",
         "90",
         "artist",
         "51210",
         "0"
        ],
        [
         "27",
         "0",
         "79500",
         "90",
         "artist",
         "79500",
         "0"
        ],
        [
         "28",
         "0",
         "82317",
         "90",
         "artist",
         "82317",
         "0"
        ],
        [
         "29",
         "0",
         "98399",
         "90",
         "artist",
         "98399",
         "0"
        ],
        [
         "30",
         "0",
         "152077",
         "90",
         "artist",
         "152077",
         "0"
        ],
        [
         "31",
         "0",
         "173467",
         "80",
         "genre",
         "0",
         "[173467]"
        ],
        [
         "32",
         "0",
         "176858",
         "80",
         "genre",
         "0",
         "[176858]"
        ],
        [
         "33",
         "0",
         "180487",
         "90",
         "artist",
         "180487",
         "0"
        ],
        [
         "34",
         "0",
         "211565",
         "90",
         "artist",
         "211565",
         "0"
        ],
        [
         "35",
         "0",
         "151565",
         "90",
         "artist",
         "151565",
         "0"
        ],
        [
         "36",
         "0",
         "275191",
         "90",
         "artist",
         "275191",
         "0"
        ],
        [
         "37",
         "0",
         "149962",
         "70",
         "genre",
         "0",
         "[149962]"
        ],
        [
         "38",
         "0",
         "51948",
         "30",
         "artist",
         "51948",
         "0"
        ],
        [
         "39",
         "0",
         "113759",
         "30",
         "artist",
         "113759",
         "0"
        ],
        [
         "40",
         "0",
         "251690",
         "30",
         "artist",
         "251690",
         "0"
        ],
        [
         "41",
         "0",
         "22935",
         "50",
         "artist",
         "22935",
         "0"
        ],
        [
         "42",
         "0",
         "45979",
         "50",
         "artist",
         "45979",
         "0"
        ],
        [
         "43",
         "0",
         "59092",
         "70",
         "artist",
         "59092",
         "0"
        ],
        [
         "44",
         "0",
         "263882",
         "90",
         "artist",
         "263882",
         "0"
        ],
        [
         "45",
         "0",
         "159380",
         "50",
         "artist",
         "159380",
         "0"
        ],
        [
         "46",
         "1",
         "270934",
         "30",
         "album",
         "108203",
         "[51420]"
        ],
        [
         "47",
         "1",
         "243848",
         "70",
         "artist",
         "243848",
         "0"
        ],
        [
         "48",
         "1",
         "221579",
         "30",
         "track",
         "12181",
         "[293670, 51420]"
        ],
        [
         "49",
         "1",
         "179556",
         "70",
         "track",
         "147606",
         "[131552, 199606]"
        ]
       ],
       "shape": {
        "columns": 6,
        "rows": 61944406
       }
      },
      "text/html": [
       "<div>\n",
       "<style scoped>\n",
       "    .dataframe tbody tr th:only-of-type {\n",
       "        vertical-align: middle;\n",
       "    }\n",
       "\n",
       "    .dataframe tbody tr th {\n",
       "        vertical-align: top;\n",
       "    }\n",
       "\n",
       "    .dataframe thead th {\n",
       "        text-align: right;\n",
       "    }\n",
       "</style>\n",
       "<table border=\"1\" class=\"dataframe\">\n",
       "  <thead>\n",
       "    <tr style=\"text-align: right;\">\n",
       "      <th></th>\n",
       "      <th>user_id</th>\n",
       "      <th>item_id</th>\n",
       "      <th>rating</th>\n",
       "      <th>item_type</th>\n",
       "      <th>artist_id</th>\n",
       "      <th>genre_ids</th>\n",
       "    </tr>\n",
       "  </thead>\n",
       "  <tbody>\n",
       "    <tr>\n",
       "      <th>0</th>\n",
       "      <td>0</td>\n",
       "      <td>28341</td>\n",
       "      <td>90</td>\n",
       "      <td>artist</td>\n",
       "      <td>28341</td>\n",
       "      <td>0</td>\n",
       "    </tr>\n",
       "    <tr>\n",
       "      <th>1</th>\n",
       "      <td>0</td>\n",
       "      <td>232604</td>\n",
       "      <td>30</td>\n",
       "      <td>artist</td>\n",
       "      <td>232604</td>\n",
       "      <td>0</td>\n",
       "    </tr>\n",
       "    <tr>\n",
       "      <th>2</th>\n",
       "      <td>0</td>\n",
       "      <td>237425</td>\n",
       "      <td>50</td>\n",
       "      <td>artist</td>\n",
       "      <td>237425</td>\n",
       "      <td>0</td>\n",
       "    </tr>\n",
       "    <tr>\n",
       "      <th>3</th>\n",
       "      <td>0</td>\n",
       "      <td>245257</td>\n",
       "      <td>50</td>\n",
       "      <td>artist</td>\n",
       "      <td>245257</td>\n",
       "      <td>0</td>\n",
       "    </tr>\n",
       "    <tr>\n",
       "      <th>4</th>\n",
       "      <td>0</td>\n",
       "      <td>23301</td>\n",
       "      <td>50</td>\n",
       "      <td>artist</td>\n",
       "      <td>23301</td>\n",
       "      <td>0</td>\n",
       "    </tr>\n",
       "    <tr>\n",
       "      <th>...</th>\n",
       "      <td>...</td>\n",
       "      <td>...</td>\n",
       "      <td>...</td>\n",
       "      <td>...</td>\n",
       "      <td>...</td>\n",
       "      <td>...</td>\n",
       "    </tr>\n",
       "    <tr>\n",
       "      <th>61944401</th>\n",
       "      <td>249011</td>\n",
       "      <td>141075</td>\n",
       "      <td>90</td>\n",
       "      <td>artist</td>\n",
       "      <td>141075</td>\n",
       "      <td>0</td>\n",
       "    </tr>\n",
       "    <tr>\n",
       "      <th>61944402</th>\n",
       "      <td>249011</td>\n",
       "      <td>150385</td>\n",
       "      <td>80</td>\n",
       "      <td>genre</td>\n",
       "      <td>0</td>\n",
       "      <td>[150385]</td>\n",
       "    </tr>\n",
       "    <tr>\n",
       "      <th>61944403</th>\n",
       "      <td>249011</td>\n",
       "      <td>152077</td>\n",
       "      <td>90</td>\n",
       "      <td>artist</td>\n",
       "      <td>152077</td>\n",
       "      <td>0</td>\n",
       "    </tr>\n",
       "    <tr>\n",
       "      <th>61944404</th>\n",
       "      <td>249011</td>\n",
       "      <td>158282</td>\n",
       "      <td>80</td>\n",
       "      <td>genre</td>\n",
       "      <td>0</td>\n",
       "      <td>[158282]</td>\n",
       "    </tr>\n",
       "    <tr>\n",
       "      <th>61944405</th>\n",
       "      <td>249011</td>\n",
       "      <td>295381</td>\n",
       "      <td>90</td>\n",
       "      <td>artist</td>\n",
       "      <td>295381</td>\n",
       "      <td>0</td>\n",
       "    </tr>\n",
       "  </tbody>\n",
       "</table>\n",
       "<p>61944406 rows × 6 columns</p>\n",
       "</div>"
      ],
      "text/plain": [
       "          user_id  item_id  rating item_type  artist_id genre_ids\n",
       "0               0    28341      90    artist      28341         0\n",
       "1               0   232604      30    artist     232604         0\n",
       "2               0   237425      50    artist     237425         0\n",
       "3               0   245257      50    artist     245257         0\n",
       "4               0    23301      50    artist      23301         0\n",
       "...           ...      ...     ...       ...        ...       ...\n",
       "61944401   249011   141075      90    artist     141075         0\n",
       "61944402   249011   150385      80     genre          0  [150385]\n",
       "61944403   249011   152077      90    artist     152077         0\n",
       "61944404   249011   158282      80     genre          0  [158282]\n",
       "61944405   249011   295381      90    artist     295381         0\n",
       "\n",
       "[61944406 rows x 6 columns]"
      ]
     },
     "execution_count": 36,
     "metadata": {},
     "output_type": "execute_result"
    }
   ],
   "source": [
    "item_meta_df = build_item_metadata(track_df, album_df, artist_df, genre_df)\n",
    "\n",
    "train_with_meta = train_df.merge(item_meta_df, on='item_id', how='inner')\n",
    "\n",
    "# When loading the data, sort by a stable column (e.g., user_id)\n",
    "train_with_meta = train_with_meta.sort_values('user_id').reset_index(drop=True)\n",
    "\n",
    "train_with_meta"
   ]
  },
  {
   "cell_type": "code",
   "execution_count": null,
   "id": "5a71740f",
   "metadata": {},
   "outputs": [
    {
     "name": "stdout",
     "output_type": "stream",
     "text": [
      "🎯 Sample shape: (22848233, 6)\n",
      "👤 Users: 248344, 🎵 Items: 19241\n"
     ]
    }
   ],
   "source": [
    "df = train_with_meta.copy()\n",
    "\n",
    "# Filter: keep only artist & genre (drop album, track)\n",
    "df = df[~df['item_type'].isin(['album', 'track'])].copy()\n",
    "\n",
    "print(f\"🎯 Sample shape: {df.shape}\")\n",
    "print(f\"👤 Users: {df['user_id'].nunique()}, 🎵 Items: {df['item_id'].nunique()}\")"
   ]
  },
  {
   "cell_type": "code",
   "execution_count": 38,
   "id": "9848111d",
   "metadata": {},
   "outputs": [
    {
     "name": "stdout",
     "output_type": "stream",
     "text": [
      "Starting interactions info\n",
      "Number of rows: 248344\n",
      "Number of cols: 19241\n",
      "Sparsity: 0.478%\n",
      "Ending interactions info\n",
      "Number of rows: 4644\n",
      "Number of columns: 8938\n",
      "Sparsity: 10.674%\n"
     ]
    }
   ],
   "source": [
    "filtered_df = threshold_interactions_df(df,'user_id','item_id',100,500)"
   ]
  },
  {
   "cell_type": "code",
   "execution_count": 39,
   "id": "525d1954-e772-4a89-a75b-6ed4a33539fc",
   "metadata": {},
   "outputs": [
    {
     "name": "stdout",
     "output_type": "stream",
     "text": [
      "🎯 Sample shape: (1941009, 6)\n",
      "👤 Users: 2000, 🎵 Items: 8938\n",
      "Starting interactions info\n",
      "Number of rows: 2000\n",
      "Number of cols: 8938\n",
      "Sparsity: 10.858%\n",
      "Ending interactions info\n",
      "Number of rows: 1701\n",
      "Number of columns: 5011\n",
      "Sparsity: 17.890%\n",
      "🎯 Sample shape: (1524894, 6)\n"
     ]
    }
   ],
   "source": [
    "# filtered_df = threshold_interactions_df_plus(df, min_items_per_user=500, min_artists_per_user=20, min_genres_per_user=10,min_users_per_item=150)\n",
    "my_seed = 7\n",
    "random.seed(my_seed)\n",
    "np.random.seed(my_seed)\n",
    "sampled_users = np.random.choice(filtered_df['user_id'].unique(), size=2000, replace=False)\n",
    "sampled_df = filtered_df[filtered_df['user_id'].isin(sampled_users)]\n",
    "print(f\"🎯 Sample shape: {sampled_df.shape}\")\n",
    "print(f\"👤 Users: {sampled_df['user_id'].nunique()}, 🎵 Items: {sampled_df['item_id'].nunique()}\")\n",
    "filtered_df = threshold_interactions_df(sampled_df,'user_id','item_id',100,500)\n",
    "print(f\"🎯 Sample shape: {filtered_df.shape}\")"
   ]
  },
  {
   "cell_type": "markdown",
   "id": "8d581b81",
   "metadata": {},
   "source": [
    "Sample shape: (1941009, 6)\n",
    "👤 Users: 2000, 🎵 Items: 8938\n",
    "Starting interactions info\n",
    "Number of rows: 2000\n",
    "Number of cols: 8938\n",
    "Sparsity: 10.858%\n",
    "Ending interactions info\n",
    "Number of rows: 1701\n",
    "Number of columns: 5011\n",
    "Sparsity: 17.890%"
   ]
  },
  {
   "cell_type": "code",
   "execution_count": 42,
   "id": "257f2037",
   "metadata": {},
   "outputs": [
    {
     "data": {
      "application/vnd.microsoft.datawrangler.viewer.v0+json": {
       "columns": [
        {
         "name": "index",
         "rawType": "int64",
         "type": "integer"
        },
        {
         "name": "user_id",
         "rawType": "int64",
         "type": "integer"
        },
        {
         "name": "item_id",
         "rawType": "int64",
         "type": "integer"
        },
        {
         "name": "rating",
         "rawType": "int64",
         "type": "integer"
        },
        {
         "name": "item_type",
         "rawType": "object",
         "type": "string"
        },
        {
         "name": "artist_id",
         "rawType": "int64",
         "type": "integer"
        },
        {
         "name": "genre_ids",
         "rawType": "object",
         "type": "unknown"
        }
       ],
       "conversionMethod": "pd.DataFrame",
       "ref": "66711134-52d8-4c0d-89d7-bc387ed5bde1",
       "rows": [
        [
         "1039",
         "9",
         "182744",
         "30",
         "artist",
         "182744",
         "0"
        ],
        [
         "1040",
         "9",
         "197011",
         "50",
         "artist",
         "197011",
         "0"
        ],
        [
         "1041",
         "9",
         "160820",
         "0",
         "artist",
         "160820",
         "0"
        ],
        [
         "1043",
         "9",
         "59402",
         "30",
         "artist",
         "59402",
         "0"
        ],
        [
         "1044",
         "9",
         "251901",
         "0",
         "artist",
         "251901",
         "0"
        ],
        [
         "1047",
         "9",
         "132234",
         "0",
         "artist",
         "132234",
         "0"
        ],
        [
         "1052",
         "9",
         "2079",
         "30",
         "artist",
         "2079",
         "0"
        ],
        [
         "1058",
         "9",
         "190690",
         "0",
         "artist",
         "190690",
         "0"
        ],
        [
         "1060",
         "9",
         "178744",
         "0",
         "artist",
         "178744",
         "0"
        ],
        [
         "1062",
         "9",
         "61625",
         "0",
         "artist",
         "61625",
         "0"
        ],
        [
         "1064",
         "9",
         "70850",
         "90",
         "artist",
         "70850",
         "0"
        ],
        [
         "1073",
         "9",
         "70636",
         "0",
         "artist",
         "70636",
         "0"
        ],
        [
         "1074",
         "9",
         "12598",
         "90",
         "artist",
         "12598",
         "0"
        ],
        [
         "1083",
         "9",
         "25676",
         "0",
         "artist",
         "25676",
         "0"
        ],
        [
         "1084",
         "9",
         "43570",
         "0",
         "artist",
         "43570",
         "0"
        ],
        [
         "1089",
         "9",
         "278611",
         "0",
         "artist",
         "278611",
         "0"
        ],
        [
         "1090",
         "9",
         "27953",
         "0",
         "artist",
         "27953",
         "0"
        ],
        [
         "1091",
         "9",
         "47263",
         "0",
         "artist",
         "47263",
         "0"
        ],
        [
         "1092",
         "9",
         "199723",
         "0",
         "artist",
         "199723",
         "0"
        ],
        [
         "1093",
         "9",
         "121457",
         "0",
         "artist",
         "121457",
         "0"
        ],
        [
         "1094",
         "9",
         "287417",
         "0",
         "artist",
         "287417",
         "0"
        ],
        [
         "1095",
         "9",
         "171644",
         "0",
         "artist",
         "171644",
         "0"
        ],
        [
         "1096",
         "9",
         "203537",
         "0",
         "artist",
         "203537",
         "0"
        ],
        [
         "1097",
         "9",
         "262443",
         "0",
         "artist",
         "262443",
         "0"
        ],
        [
         "1106",
         "9",
         "232439",
         "0",
         "artist",
         "232439",
         "0"
        ],
        [
         "1107",
         "9",
         "252911",
         "0",
         "artist",
         "252911",
         "0"
        ],
        [
         "1108",
         "9",
         "256396",
         "0",
         "artist",
         "256396",
         "0"
        ],
        [
         "1110",
         "9",
         "50252",
         "0",
         "artist",
         "50252",
         "0"
        ],
        [
         "1113",
         "9",
         "216627",
         "50",
         "artist",
         "216627",
         "0"
        ],
        [
         "1130",
         "9",
         "217690",
         "90",
         "artist",
         "217690",
         "0"
        ],
        [
         "1135",
         "9",
         "120477",
         "90",
         "artist",
         "120477",
         "0"
        ],
        [
         "1140",
         "9",
         "246910",
         "50",
         "artist",
         "246910",
         "0"
        ],
        [
         "1169",
         "9",
         "205958",
         "90",
         "artist",
         "205958",
         "0"
        ],
        [
         "1199",
         "9",
         "155750",
         "0",
         "artist",
         "155750",
         "0"
        ],
        [
         "1211",
         "9",
         "51948",
         "0",
         "artist",
         "51948",
         "0"
        ],
        [
         "1221",
         "9",
         "108526",
         "0",
         "artist",
         "108526",
         "0"
        ],
        [
         "1229",
         "9",
         "284912",
         "0",
         "artist",
         "284912",
         "0"
        ],
        [
         "1230",
         "9",
         "28987",
         "90",
         "artist",
         "28987",
         "0"
        ],
        [
         "1237",
         "9",
         "229178",
         "0",
         "artist",
         "229178",
         "0"
        ],
        [
         "1268",
         "9",
         "48480",
         "50",
         "artist",
         "48480",
         "0"
        ],
        [
         "1290",
         "9",
         "195962",
         "30",
         "artist",
         "195962",
         "0"
        ],
        [
         "1291",
         "9",
         "245387",
         "30",
         "artist",
         "245387",
         "0"
        ],
        [
         "1292",
         "9",
         "34069",
         "30",
         "artist",
         "34069",
         "0"
        ],
        [
         "1293",
         "9",
         "68020",
         "50",
         "artist",
         "68020",
         "0"
        ],
        [
         "1294",
         "9",
         "129099",
         "30",
         "artist",
         "129099",
         "0"
        ],
        [
         "1295",
         "9",
         "143289",
         "30",
         "artist",
         "143289",
         "0"
        ],
        [
         "1296",
         "9",
         "168169",
         "50",
         "artist",
         "168169",
         "0"
        ],
        [
         "1297",
         "9",
         "206831",
         "30",
         "artist",
         "206831",
         "0"
        ],
        [
         "1298",
         "9",
         "226040",
         "0",
         "artist",
         "226040",
         "0"
        ],
        [
         "1299",
         "9",
         "276506",
         "30",
         "artist",
         "276506",
         "0"
        ]
       ],
       "shape": {
        "columns": 6,
        "rows": 1524894
       }
      },
      "text/html": [
       "<div>\n",
       "<style scoped>\n",
       "    .dataframe tbody tr th:only-of-type {\n",
       "        vertical-align: middle;\n",
       "    }\n",
       "\n",
       "    .dataframe tbody tr th {\n",
       "        vertical-align: top;\n",
       "    }\n",
       "\n",
       "    .dataframe thead th {\n",
       "        text-align: right;\n",
       "    }\n",
       "</style>\n",
       "<table border=\"1\" class=\"dataframe\">\n",
       "  <thead>\n",
       "    <tr style=\"text-align: right;\">\n",
       "      <th></th>\n",
       "      <th>user_id</th>\n",
       "      <th>item_id</th>\n",
       "      <th>rating</th>\n",
       "      <th>item_type</th>\n",
       "      <th>artist_id</th>\n",
       "      <th>genre_ids</th>\n",
       "    </tr>\n",
       "  </thead>\n",
       "  <tbody>\n",
       "    <tr>\n",
       "      <th>1039</th>\n",
       "      <td>9</td>\n",
       "      <td>182744</td>\n",
       "      <td>30</td>\n",
       "      <td>artist</td>\n",
       "      <td>182744</td>\n",
       "      <td>0</td>\n",
       "    </tr>\n",
       "    <tr>\n",
       "      <th>1040</th>\n",
       "      <td>9</td>\n",
       "      <td>197011</td>\n",
       "      <td>50</td>\n",
       "      <td>artist</td>\n",
       "      <td>197011</td>\n",
       "      <td>0</td>\n",
       "    </tr>\n",
       "    <tr>\n",
       "      <th>1041</th>\n",
       "      <td>9</td>\n",
       "      <td>160820</td>\n",
       "      <td>0</td>\n",
       "      <td>artist</td>\n",
       "      <td>160820</td>\n",
       "      <td>0</td>\n",
       "    </tr>\n",
       "    <tr>\n",
       "      <th>1043</th>\n",
       "      <td>9</td>\n",
       "      <td>59402</td>\n",
       "      <td>30</td>\n",
       "      <td>artist</td>\n",
       "      <td>59402</td>\n",
       "      <td>0</td>\n",
       "    </tr>\n",
       "    <tr>\n",
       "      <th>1044</th>\n",
       "      <td>9</td>\n",
       "      <td>251901</td>\n",
       "      <td>0</td>\n",
       "      <td>artist</td>\n",
       "      <td>251901</td>\n",
       "      <td>0</td>\n",
       "    </tr>\n",
       "    <tr>\n",
       "      <th>...</th>\n",
       "      <td>...</td>\n",
       "      <td>...</td>\n",
       "      <td>...</td>\n",
       "      <td>...</td>\n",
       "      <td>...</td>\n",
       "      <td>...</td>\n",
       "    </tr>\n",
       "    <tr>\n",
       "      <th>61933948</th>\n",
       "      <td>248947</td>\n",
       "      <td>210727</td>\n",
       "      <td>50</td>\n",
       "      <td>artist</td>\n",
       "      <td>210727</td>\n",
       "      <td>0</td>\n",
       "    </tr>\n",
       "    <tr>\n",
       "      <th>61933956</th>\n",
       "      <td>248947</td>\n",
       "      <td>275456</td>\n",
       "      <td>0</td>\n",
       "      <td>artist</td>\n",
       "      <td>275456</td>\n",
       "      <td>0</td>\n",
       "    </tr>\n",
       "    <tr>\n",
       "      <th>61933959</th>\n",
       "      <td>248947</td>\n",
       "      <td>203741</td>\n",
       "      <td>0</td>\n",
       "      <td>artist</td>\n",
       "      <td>203741</td>\n",
       "      <td>0</td>\n",
       "    </tr>\n",
       "    <tr>\n",
       "      <th>61933965</th>\n",
       "      <td>248947</td>\n",
       "      <td>202602</td>\n",
       "      <td>0</td>\n",
       "      <td>artist</td>\n",
       "      <td>202602</td>\n",
       "      <td>0</td>\n",
       "    </tr>\n",
       "    <tr>\n",
       "      <th>61933966</th>\n",
       "      <td>248947</td>\n",
       "      <td>295880</td>\n",
       "      <td>0</td>\n",
       "      <td>artist</td>\n",
       "      <td>295880</td>\n",
       "      <td>0</td>\n",
       "    </tr>\n",
       "  </tbody>\n",
       "</table>\n",
       "<p>1524894 rows × 6 columns</p>\n",
       "</div>"
      ],
      "text/plain": [
       "          user_id  item_id  rating item_type  artist_id genre_ids\n",
       "1039            9   182744      30    artist     182744         0\n",
       "1040            9   197011      50    artist     197011         0\n",
       "1041            9   160820       0    artist     160820         0\n",
       "1043            9    59402      30    artist      59402         0\n",
       "1044            9   251901       0    artist     251901         0\n",
       "...           ...      ...     ...       ...        ...       ...\n",
       "61933948   248947   210727      50    artist     210727         0\n",
       "61933956   248947   275456       0    artist     275456         0\n",
       "61933959   248947   203741       0    artist     203741         0\n",
       "61933965   248947   202602       0    artist     202602         0\n",
       "61933966   248947   295880       0    artist     295880         0\n",
       "\n",
       "[1524894 rows x 6 columns]"
      ]
     },
     "execution_count": 42,
     "metadata": {},
     "output_type": "execute_result"
    }
   ],
   "source": [
    "filtered_df"
   ]
  },
  {
   "cell_type": "code",
   "execution_count": 90,
   "id": "d8a3f2a9",
   "metadata": {},
   "outputs": [],
   "source": [
    "# export filtered_df \n",
    "filtered_df.to_csv('/Users/camillecu/Downloads/KUL/master_thesis/master_thesis_github/re_sample/filtered_df.csv', index=False)\n",
    "# Load the filtered DataFrame\n",
    "filtered_df = pd.read_csv('/Users/camillecu/Downloads/KUL/master_thesis/master_thesis_github/re_sample/filtered_df.csv')"
   ]
  },
  {
   "cell_type": "code",
   "execution_count": 4,
   "id": "248cfdcd",
   "metadata": {},
   "outputs": [],
   "source": [
    "filtered_df = pd.read_csv('/Users/camillecu/Downloads/KUL/master_thesis/master_thesis_github/re_sample/filtered_df.csv')"
   ]
  },
  {
   "cell_type": "code",
   "execution_count": 6,
   "id": "adb5299f",
   "metadata": {},
   "outputs": [
    {
     "name": "stdout",
     "output_type": "stream",
     "text": [
      "Number of unique users: 1701\n",
      "Number of unique artists: 4793\n",
      "Number of unique genres: 218\n"
     ]
    }
   ],
   "source": [
    "\n",
    "\n",
    "# Number of unique users\n",
    "num_users = filtered_df['user_id'].nunique()\n",
    "print(\"Number of unique users:\", num_users)\n",
    "\n",
    "# Number of unique artists (item_type == 'artist')\n",
    "num_artists = filtered_df[filtered_df['item_type'] == 'artist']['item_id'].nunique()\n",
    "print(\"Number of unique artists:\", num_artists)\n",
    "\n",
    "# Number of unique genres (item_type == 'genre')\n",
    "num_genres = filtered_df[filtered_df['item_type'] == 'genre']['item_id'].nunique()\n",
    "print(\"Number of unique genres:\", num_genres)\n"
   ]
  },
  {
   "cell_type": "code",
   "execution_count": 5,
   "id": "850bf186",
   "metadata": {},
   "outputs": [
    {
     "data": {
      "application/vnd.microsoft.datawrangler.viewer.v0+json": {
       "columns": [
        {
         "name": "index",
         "rawType": "int64",
         "type": "integer"
        },
        {
         "name": "user_id",
         "rawType": "int64",
         "type": "integer"
        },
        {
         "name": "item_id",
         "rawType": "int64",
         "type": "integer"
        },
        {
         "name": "rating",
         "rawType": "int64",
         "type": "integer"
        },
        {
         "name": "item_type",
         "rawType": "object",
         "type": "string"
        },
        {
         "name": "artist_id",
         "rawType": "int64",
         "type": "integer"
        },
        {
         "name": "genre_ids",
         "rawType": "object",
         "type": "string"
        }
       ],
       "ref": "e5578ad2-5a55-478d-adf6-70eb3e8648df",
       "rows": [
        [
         "0",
         "9",
         "182744",
         "30",
         "artist",
         "182744",
         "0"
        ],
        [
         "1",
         "9",
         "197011",
         "50",
         "artist",
         "197011",
         "0"
        ],
        [
         "2",
         "9",
         "160820",
         "0",
         "artist",
         "160820",
         "0"
        ],
        [
         "3",
         "9",
         "59402",
         "30",
         "artist",
         "59402",
         "0"
        ],
        [
         "4",
         "9",
         "251901",
         "0",
         "artist",
         "251901",
         "0"
        ],
        [
         "5",
         "9",
         "132234",
         "0",
         "artist",
         "132234",
         "0"
        ],
        [
         "6",
         "9",
         "2079",
         "30",
         "artist",
         "2079",
         "0"
        ],
        [
         "7",
         "9",
         "190690",
         "0",
         "artist",
         "190690",
         "0"
        ],
        [
         "8",
         "9",
         "178744",
         "0",
         "artist",
         "178744",
         "0"
        ],
        [
         "9",
         "9",
         "61625",
         "0",
         "artist",
         "61625",
         "0"
        ],
        [
         "10",
         "9",
         "70850",
         "90",
         "artist",
         "70850",
         "0"
        ],
        [
         "11",
         "9",
         "70636",
         "0",
         "artist",
         "70636",
         "0"
        ],
        [
         "12",
         "9",
         "12598",
         "90",
         "artist",
         "12598",
         "0"
        ],
        [
         "13",
         "9",
         "25676",
         "0",
         "artist",
         "25676",
         "0"
        ],
        [
         "14",
         "9",
         "43570",
         "0",
         "artist",
         "43570",
         "0"
        ],
        [
         "15",
         "9",
         "278611",
         "0",
         "artist",
         "278611",
         "0"
        ],
        [
         "16",
         "9",
         "27953",
         "0",
         "artist",
         "27953",
         "0"
        ],
        [
         "17",
         "9",
         "47263",
         "0",
         "artist",
         "47263",
         "0"
        ],
        [
         "18",
         "9",
         "199723",
         "0",
         "artist",
         "199723",
         "0"
        ],
        [
         "19",
         "9",
         "121457",
         "0",
         "artist",
         "121457",
         "0"
        ],
        [
         "20",
         "9",
         "287417",
         "0",
         "artist",
         "287417",
         "0"
        ],
        [
         "21",
         "9",
         "171644",
         "0",
         "artist",
         "171644",
         "0"
        ],
        [
         "22",
         "9",
         "203537",
         "0",
         "artist",
         "203537",
         "0"
        ],
        [
         "23",
         "9",
         "262443",
         "0",
         "artist",
         "262443",
         "0"
        ],
        [
         "24",
         "9",
         "232439",
         "0",
         "artist",
         "232439",
         "0"
        ],
        [
         "25",
         "9",
         "252911",
         "0",
         "artist",
         "252911",
         "0"
        ],
        [
         "26",
         "9",
         "256396",
         "0",
         "artist",
         "256396",
         "0"
        ],
        [
         "27",
         "9",
         "50252",
         "0",
         "artist",
         "50252",
         "0"
        ],
        [
         "28",
         "9",
         "216627",
         "50",
         "artist",
         "216627",
         "0"
        ],
        [
         "29",
         "9",
         "217690",
         "90",
         "artist",
         "217690",
         "0"
        ],
        [
         "30",
         "9",
         "120477",
         "90",
         "artist",
         "120477",
         "0"
        ],
        [
         "31",
         "9",
         "246910",
         "50",
         "artist",
         "246910",
         "0"
        ],
        [
         "32",
         "9",
         "205958",
         "90",
         "artist",
         "205958",
         "0"
        ],
        [
         "33",
         "9",
         "155750",
         "0",
         "artist",
         "155750",
         "0"
        ],
        [
         "34",
         "9",
         "51948",
         "0",
         "artist",
         "51948",
         "0"
        ],
        [
         "35",
         "9",
         "108526",
         "0",
         "artist",
         "108526",
         "0"
        ],
        [
         "36",
         "9",
         "284912",
         "0",
         "artist",
         "284912",
         "0"
        ],
        [
         "37",
         "9",
         "28987",
         "90",
         "artist",
         "28987",
         "0"
        ],
        [
         "38",
         "9",
         "229178",
         "0",
         "artist",
         "229178",
         "0"
        ],
        [
         "39",
         "9",
         "48480",
         "50",
         "artist",
         "48480",
         "0"
        ],
        [
         "40",
         "9",
         "195962",
         "30",
         "artist",
         "195962",
         "0"
        ],
        [
         "41",
         "9",
         "245387",
         "30",
         "artist",
         "245387",
         "0"
        ],
        [
         "42",
         "9",
         "34069",
         "30",
         "artist",
         "34069",
         "0"
        ],
        [
         "43",
         "9",
         "68020",
         "50",
         "artist",
         "68020",
         "0"
        ],
        [
         "44",
         "9",
         "129099",
         "30",
         "artist",
         "129099",
         "0"
        ],
        [
         "45",
         "9",
         "143289",
         "30",
         "artist",
         "143289",
         "0"
        ],
        [
         "46",
         "9",
         "168169",
         "50",
         "artist",
         "168169",
         "0"
        ],
        [
         "47",
         "9",
         "206831",
         "30",
         "artist",
         "206831",
         "0"
        ],
        [
         "48",
         "9",
         "226040",
         "0",
         "artist",
         "226040",
         "0"
        ],
        [
         "49",
         "9",
         "276506",
         "30",
         "artist",
         "276506",
         "0"
        ]
       ],
       "shape": {
        "columns": 6,
        "rows": 1524894
       }
      },
      "text/html": [
       "<div>\n",
       "<style scoped>\n",
       "    .dataframe tbody tr th:only-of-type {\n",
       "        vertical-align: middle;\n",
       "    }\n",
       "\n",
       "    .dataframe tbody tr th {\n",
       "        vertical-align: top;\n",
       "    }\n",
       "\n",
       "    .dataframe thead th {\n",
       "        text-align: right;\n",
       "    }\n",
       "</style>\n",
       "<table border=\"1\" class=\"dataframe\">\n",
       "  <thead>\n",
       "    <tr style=\"text-align: right;\">\n",
       "      <th></th>\n",
       "      <th>user_id</th>\n",
       "      <th>item_id</th>\n",
       "      <th>rating</th>\n",
       "      <th>item_type</th>\n",
       "      <th>artist_id</th>\n",
       "      <th>genre_ids</th>\n",
       "    </tr>\n",
       "  </thead>\n",
       "  <tbody>\n",
       "    <tr>\n",
       "      <th>0</th>\n",
       "      <td>9</td>\n",
       "      <td>182744</td>\n",
       "      <td>30</td>\n",
       "      <td>artist</td>\n",
       "      <td>182744</td>\n",
       "      <td>0</td>\n",
       "    </tr>\n",
       "    <tr>\n",
       "      <th>1</th>\n",
       "      <td>9</td>\n",
       "      <td>197011</td>\n",
       "      <td>50</td>\n",
       "      <td>artist</td>\n",
       "      <td>197011</td>\n",
       "      <td>0</td>\n",
       "    </tr>\n",
       "    <tr>\n",
       "      <th>2</th>\n",
       "      <td>9</td>\n",
       "      <td>160820</td>\n",
       "      <td>0</td>\n",
       "      <td>artist</td>\n",
       "      <td>160820</td>\n",
       "      <td>0</td>\n",
       "    </tr>\n",
       "    <tr>\n",
       "      <th>3</th>\n",
       "      <td>9</td>\n",
       "      <td>59402</td>\n",
       "      <td>30</td>\n",
       "      <td>artist</td>\n",
       "      <td>59402</td>\n",
       "      <td>0</td>\n",
       "    </tr>\n",
       "    <tr>\n",
       "      <th>4</th>\n",
       "      <td>9</td>\n",
       "      <td>251901</td>\n",
       "      <td>0</td>\n",
       "      <td>artist</td>\n",
       "      <td>251901</td>\n",
       "      <td>0</td>\n",
       "    </tr>\n",
       "    <tr>\n",
       "      <th>...</th>\n",
       "      <td>...</td>\n",
       "      <td>...</td>\n",
       "      <td>...</td>\n",
       "      <td>...</td>\n",
       "      <td>...</td>\n",
       "      <td>...</td>\n",
       "    </tr>\n",
       "    <tr>\n",
       "      <th>1524889</th>\n",
       "      <td>248947</td>\n",
       "      <td>210727</td>\n",
       "      <td>50</td>\n",
       "      <td>artist</td>\n",
       "      <td>210727</td>\n",
       "      <td>0</td>\n",
       "    </tr>\n",
       "    <tr>\n",
       "      <th>1524890</th>\n",
       "      <td>248947</td>\n",
       "      <td>275456</td>\n",
       "      <td>0</td>\n",
       "      <td>artist</td>\n",
       "      <td>275456</td>\n",
       "      <td>0</td>\n",
       "    </tr>\n",
       "    <tr>\n",
       "      <th>1524891</th>\n",
       "      <td>248947</td>\n",
       "      <td>203741</td>\n",
       "      <td>0</td>\n",
       "      <td>artist</td>\n",
       "      <td>203741</td>\n",
       "      <td>0</td>\n",
       "    </tr>\n",
       "    <tr>\n",
       "      <th>1524892</th>\n",
       "      <td>248947</td>\n",
       "      <td>202602</td>\n",
       "      <td>0</td>\n",
       "      <td>artist</td>\n",
       "      <td>202602</td>\n",
       "      <td>0</td>\n",
       "    </tr>\n",
       "    <tr>\n",
       "      <th>1524893</th>\n",
       "      <td>248947</td>\n",
       "      <td>295880</td>\n",
       "      <td>0</td>\n",
       "      <td>artist</td>\n",
       "      <td>295880</td>\n",
       "      <td>0</td>\n",
       "    </tr>\n",
       "  </tbody>\n",
       "</table>\n",
       "<p>1524894 rows × 6 columns</p>\n",
       "</div>"
      ],
      "text/plain": [
       "         user_id  item_id  rating item_type  artist_id genre_ids\n",
       "0              9   182744      30    artist     182744         0\n",
       "1              9   197011      50    artist     197011         0\n",
       "2              9   160820       0    artist     160820         0\n",
       "3              9    59402      30    artist      59402         0\n",
       "4              9   251901       0    artist     251901         0\n",
       "...          ...      ...     ...       ...        ...       ...\n",
       "1524889   248947   210727      50    artist     210727         0\n",
       "1524890   248947   275456       0    artist     275456         0\n",
       "1524891   248947   203741       0    artist     203741         0\n",
       "1524892   248947   202602       0    artist     202602         0\n",
       "1524893   248947   295880       0    artist     295880         0\n",
       "\n",
       "[1524894 rows x 6 columns]"
      ]
     },
     "execution_count": 5,
     "metadata": {},
     "output_type": "execute_result"
    }
   ],
   "source": [
    "filtered_df"
   ]
  },
  {
   "cell_type": "markdown",
   "id": "d82a46b5",
   "metadata": {},
   "source": []
  }
 ],
 "metadata": {
  "kernelspec": {
   "display_name": "thesis_github",
   "language": "python",
   "name": "python3"
  },
  "language_info": {
   "codemirror_mode": {
    "name": "ipython",
    "version": 3
   },
   "file_extension": ".py",
   "mimetype": "text/x-python",
   "name": "python",
   "nbconvert_exporter": "python",
   "pygments_lexer": "ipython3",
   "version": "3.9.13"
  }
 },
 "nbformat": 4,
 "nbformat_minor": 5
}
