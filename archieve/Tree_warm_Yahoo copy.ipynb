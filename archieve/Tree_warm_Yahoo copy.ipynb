{
 "cells": [
  {
   "cell_type": "code",
   "execution_count": 25,
   "id": "42c86d01",
   "metadata": {},
   "outputs": [],
   "source": [
    "import sys\n",
    "sys.path.append('/Users/camillecu/Downloads/KUL/master_thesis/master_thesis_github')"
   ]
  },
  {
   "cell_type": "code",
   "execution_count": 26,
   "id": "064955c7-6535-4302-a999-57c927b4874a",
   "metadata": {},
   "outputs": [
    {
     "name": "stdout",
     "output_type": "stream",
     "text": [
      "Requirement already satisfied: surprise in /Users/camillecu/Downloads/KUL/master_thesis/thesis/lib/python3.11/site-packages (0.1)\n",
      "Requirement already satisfied: scikit-surprise in /Users/camillecu/Downloads/KUL/master_thesis/thesis/lib/python3.11/site-packages (from surprise) (1.1.4)\n",
      "Requirement already satisfied: joblib>=1.2.0 in /Users/camillecu/Downloads/KUL/master_thesis/thesis/lib/python3.11/site-packages (from scikit-surprise->surprise) (1.4.2)\n",
      "Requirement already satisfied: numpy>=1.19.5 in /Users/camillecu/Downloads/KUL/master_thesis/thesis/lib/python3.11/site-packages (from scikit-surprise->surprise) (1.24.4)\n",
      "Requirement already satisfied: scipy>=1.6.0 in /Users/camillecu/Downloads/KUL/master_thesis/thesis/lib/python3.11/site-packages (from scikit-surprise->surprise) (1.14.1)\n",
      "\n",
      "\u001b[1m[\u001b[0m\u001b[34;49mnotice\u001b[0m\u001b[1;39;49m]\u001b[0m\u001b[39;49m A new release of pip is available: \u001b[0m\u001b[31;49m23.2.1\u001b[0m\u001b[39;49m -> \u001b[0m\u001b[32;49m25.1.1\u001b[0m\n",
      "\u001b[1m[\u001b[0m\u001b[34;49mnotice\u001b[0m\u001b[1;39;49m]\u001b[0m\u001b[39;49m To update, run: \u001b[0m\u001b[32;49mpip install --upgrade pip\u001b[0m\n"
     ]
    }
   ],
   "source": [
    "\n",
    "# import pysparnn.cluster_index as ci\n",
    "# import scipy.sparse\n",
    "# import os\n",
    "import math\n",
    "import numpy as np\n",
    "import pandas as pd\n",
    "import random\n",
    "import scipy.sparse as sp\n",
    "from utils import train_test_split, df_to_matrix ,matrix_to_df_2, threshold_interactions_df, matrix_to_df,set_intersection,get_0_and_p_index,set_diff, matrix_to_full_df, threshold_interactions_df_plus, train_test_split_csr\n",
    "\n",
    "!pip install surprise\n",
    "from surprise import Reader, accuracy\n",
    "from surprise import SVD\n",
    "from surprise import Dataset\n",
    "from collections import Counter\n",
    "from collections import defaultdict\n",
    "\n",
    "%matplotlib inline\n",
    "import matplotlib\n",
    "import matplotlib.pyplot as plt\n",
    "\n",
    "from pct.tree.heuristic.Heuristic import Heuristic5\n",
    "from pct.tree.heuristic.NumericHeuristic import NumericHeuristic5\n",
    "from pct.tree.splitter.splitter import Splitter\n",
    "from pct.tree.tree import Tree"
   ]
  },
  {
   "cell_type": "code",
   "execution_count": 27,
   "id": "38467c1d-90da-4e35-8b08-ce21ff97975e",
   "metadata": {},
   "outputs": [],
   "source": [
    "\n",
    "my_seed = 7\n",
    "random.seed(my_seed)\n",
    "np.random.seed(my_seed)\n",
    "\n",
    "def load_user_item_matrix(filepath):\n",
    "    data = []\n",
    "\n",
    "    with open(filepath, 'r') as f:\n",
    "        while True:\n",
    "            user_line = f.readline()\n",
    "            if not user_line:\n",
    "                break\n",
    "\n",
    "            user_line = user_line.strip()\n",
    "            if '|' not in user_line:\n",
    "                continue\n",
    "\n",
    "            user_id, num_ratings = user_line.split('|')\n",
    "            user_id = int(user_id)\n",
    "            num_ratings = int(num_ratings)\n",
    "\n",
    "            for _ in range(num_ratings):\n",
    "                item_line = f.readline().strip()\n",
    "                parts = item_line.split('\\t')\n",
    "                if len(parts) < 2:\n",
    "                    continue\n",
    "                item_id, score = parts[0], parts[1]\n",
    "                data.append([user_id, int(item_id), int(score)])\n",
    "\n",
    "    df = pd.DataFrame(data, columns=['user_id', 'item_id', 'rating'])\n",
    "    return df\n"
   ]
  },
  {
   "cell_type": "code",
   "execution_count": 28,
   "id": "641ebbc5-ca2d-43b0-bcd1-4a6995875325",
   "metadata": {},
   "outputs": [],
   "source": [
    "def safe_int(x):\n",
    "    return int(x) if x != 'None' else 0\n",
    "\n",
    "\n",
    "def load_track_data(filepath):\n",
    "    track_data = []\n",
    "    with open(filepath, 'r') as f:\n",
    "        for line in f:\n",
    "            parts = line.strip().split('|')\n",
    "            track_id = safe_int(parts[0])\n",
    "            album_id = safe_int(parts[1])\n",
    "            artist_id = safe_int(parts[2])\n",
    "            genre_ids = [safe_int(g) for g in parts[3:]] if len(parts) > 3 else []\n",
    "            track_data.append([track_id, album_id, artist_id, genre_ids])\n",
    "    return pd.DataFrame(track_data, columns=['track_id', 'album_id', 'artist_id', 'genre_ids'])\n",
    "\n",
    "def load_album_data(filepath):\n",
    "    album_data = []\n",
    "    with open(filepath, 'r') as f:\n",
    "        for line in f:\n",
    "            parts = line.strip().split('|')\n",
    "            album_id = safe_int(parts[0])\n",
    "            artist_id = safe_int(parts[1])\n",
    "            genre_ids = [safe_int(g) for g in parts[2:]] if len(parts) > 2 else []\n",
    "            album_data.append([album_id, artist_id, genre_ids])\n",
    "    return pd.DataFrame(album_data, columns=['album_id', 'artist_id', 'genre_ids'])\n",
    "\n",
    "\n",
    "# read artistData2\n",
    "def load_artist_data(filepath):\n",
    "    with open(filepath, 'r') as f:\n",
    "        artist_ids = [int(line.strip()) for line in f]\n",
    "    return pd.DataFrame(artist_ids, columns=['artist_id'])\n",
    "\n",
    "# read genreData2\n",
    "def load_genre_data(filepath):\n",
    "    with open(filepath, 'r') as f:\n",
    "        genre_ids = [int(line.strip()) for line in f]\n",
    "    return pd.DataFrame(genre_ids, columns=['genre_id'])"
   ]
  },
  {
   "cell_type": "code",
   "execution_count": 29,
   "id": "8c4b36d6-3ee2-494e-87f4-d650a0a664d6",
   "metadata": {},
   "outputs": [
    {
     "data": {
      "application/vnd.microsoft.datawrangler.viewer.v0+json": {
       "columns": [
        {
         "name": "index",
         "rawType": "int64",
         "type": "integer"
        },
        {
         "name": "track_id",
         "rawType": "int64",
         "type": "integer"
        },
        {
         "name": "album_id",
         "rawType": "int64",
         "type": "integer"
        },
        {
         "name": "artist_id",
         "rawType": "int64",
         "type": "integer"
        },
        {
         "name": "genre_ids",
         "rawType": "object",
         "type": "unknown"
        }
       ],
       "ref": "1a528389-b62c-47b2-aa68-1a6cd3425567",
       "rows": [
        [
         "0",
         "1",
         "106710",
         "281667",
         "[214765, 162234, 155788]"
        ],
        [
         "1",
         "2",
         "280977",
         "233685",
         "[131552, 173467, 48505]"
        ],
        [
         "2",
         "3",
         "38422",
         "219136",
         "[61215, 201738, 88853]"
        ],
        [
         "3",
         "4",
         "119529",
         "166863",
         "[17453, 35389]"
        ],
        [
         "4",
         "5",
         "16742",
         "294690",
         "[61215, 34486, 274088]"
        ],
        [
         "5",
         "7",
         "101746",
         "44649",
         "[198263]"
        ],
        [
         "6",
         "8",
         "58498",
         "142773",
         "[274161, 61215, 274088, 163949]"
        ],
        [
         "7",
         "9",
         "0",
         "0",
         "[61215, 34486, 274088]"
        ],
        [
         "8",
         "10",
         "88722",
         "179846",
         "[186413, 77904]"
        ],
        [
         "9",
         "11",
         "54548",
         "206862",
         "[98154, 48505]"
        ],
        [
         "10",
         "12",
         "6346",
         "93804",
         "[33722]"
        ],
        [
         "11",
         "13",
         "197080",
         "76279",
         "[33204, 162673]"
        ],
        [
         "12",
         "14",
         "221884",
         "48800",
         "[214765, 131552, 176858]"
        ],
        [
         "13",
         "15",
         "31978",
         "91719",
         "[173467, 48505]"
        ],
        [
         "14",
         "17",
         "249405",
         "276080",
         "[17453, 35389]"
        ],
        [
         "15",
         "18",
         "123126",
         "169463",
         "[172023, 88853]"
        ],
        [
         "16",
         "20",
         "208724",
         "96989",
         "[33204, 162673, 101667]"
        ],
        [
         "17",
         "21",
         "236848",
         "232639",
         "[]"
        ],
        [
         "18",
         "22",
         "22876",
         "272726",
         "[126500, 181653, 142021, 206269]"
        ],
        [
         "19",
         "24",
         "223622",
         "1238",
         "[131552, 61215, 88853]"
        ],
        [
         "20",
         "25",
         "77518",
         "292178",
         "[61215, 172023, 201738, 88853]"
        ],
        [
         "21",
         "26",
         "197169",
         "47482",
         "[61215, 199606, 212410]"
        ],
        [
         "22",
         "27",
         "159984",
         "164412",
         "[173467, 48505, 133159]"
        ],
        [
         "23",
         "28",
         "289988",
         "133835",
         "[131552, 176858, 19913, 84705]"
        ],
        [
         "24",
         "29",
         "161792",
         "49714",
         "[176858, 34486, 274088, 48717, 266781, 82378, 99463, 79926, 73523]"
        ],
        [
         "25",
         "31",
         "173702",
         "269166",
         "[274161]"
        ],
        [
         "26",
         "32",
         "128448",
         "78745",
         "[287681, 259669]"
        ],
        [
         "27",
         "34",
         "164570",
         "282789",
         "[77904]"
        ],
        [
         "28",
         "36",
         "204393",
         "134993",
         "[214765]"
        ],
        [
         "29",
         "38",
         "0",
         "0",
         "[]"
        ],
        [
         "30",
         "39",
         "81868",
         "54788",
         "[173467, 219193, 82064]"
        ],
        [
         "31",
         "41",
         "250955",
         "90859",
         "[33722]"
        ],
        [
         "32",
         "42",
         "288476",
         "199204",
         "[61215, 274088, 199606, 18161, 88853]"
        ],
        [
         "33",
         "43",
         "51505",
         "295138",
         "[173467]"
        ],
        [
         "34",
         "44",
         "0",
         "0",
         "[131552, 9667, 138304, 213809, 8400]"
        ],
        [
         "35",
         "45",
         "229383",
         "232604",
         "[61215, 176858, 228419]"
        ],
        [
         "36",
         "46",
         "75593",
         "281855",
         "[34486, 274088, 251593, 109592, 30949, 281429, 67098, 67331]"
        ],
        [
         "37",
         "47",
         "0",
         "0",
         "[158282, 139095, 242383, 279143]"
        ],
        [
         "38",
         "48",
         "225851",
         "120254",
         "[274161]"
        ],
        [
         "39",
         "50",
         "0",
         "0",
         "[17453, 35389]"
        ],
        [
         "40",
         "51",
         "84450",
         "97909",
         "[147886]"
        ],
        [
         "41",
         "52",
         "69965",
         "245387",
         "[61215, 199606, 268304, 18161, 177561, 201738]"
        ],
        [
         "42",
         "53",
         "210209",
         "286841",
         "[201738]"
        ],
        [
         "43",
         "55",
         "72666",
         "278645",
         "[158282, 81520, 242383, 279143]"
        ],
        [
         "44",
         "56",
         "48507",
         "236393",
         "[173467, 98154, 48505]"
        ],
        [
         "45",
         "57",
         "176764",
         "236794",
         "[61215, 34486, 18161]"
        ],
        [
         "46",
         "58",
         "215407",
         "18147",
         "[17453, 35389]"
        ],
        [
         "47",
         "59",
         "0",
         "0",
         "[61215]"
        ],
        [
         "48",
         "60",
         "68134",
         "263882",
         "[214765, 131552, 173467, 48505]"
        ],
        [
         "49",
         "61",
         "88463",
         "5232",
         "[131552, 61215]"
        ]
       ],
       "shape": {
        "columns": 4,
        "rows": 224041
       }
      },
      "text/html": [
       "<div>\n",
       "<style scoped>\n",
       "    .dataframe tbody tr th:only-of-type {\n",
       "        vertical-align: middle;\n",
       "    }\n",
       "\n",
       "    .dataframe tbody tr th {\n",
       "        vertical-align: top;\n",
       "    }\n",
       "\n",
       "    .dataframe thead th {\n",
       "        text-align: right;\n",
       "    }\n",
       "</style>\n",
       "<table border=\"1\" class=\"dataframe\">\n",
       "  <thead>\n",
       "    <tr style=\"text-align: right;\">\n",
       "      <th></th>\n",
       "      <th>track_id</th>\n",
       "      <th>album_id</th>\n",
       "      <th>artist_id</th>\n",
       "      <th>genre_ids</th>\n",
       "    </tr>\n",
       "  </thead>\n",
       "  <tbody>\n",
       "    <tr>\n",
       "      <th>0</th>\n",
       "      <td>1</td>\n",
       "      <td>106710</td>\n",
       "      <td>281667</td>\n",
       "      <td>[214765, 162234, 155788]</td>\n",
       "    </tr>\n",
       "    <tr>\n",
       "      <th>1</th>\n",
       "      <td>2</td>\n",
       "      <td>280977</td>\n",
       "      <td>233685</td>\n",
       "      <td>[131552, 173467, 48505]</td>\n",
       "    </tr>\n",
       "    <tr>\n",
       "      <th>2</th>\n",
       "      <td>3</td>\n",
       "      <td>38422</td>\n",
       "      <td>219136</td>\n",
       "      <td>[61215, 201738, 88853]</td>\n",
       "    </tr>\n",
       "    <tr>\n",
       "      <th>3</th>\n",
       "      <td>4</td>\n",
       "      <td>119529</td>\n",
       "      <td>166863</td>\n",
       "      <td>[17453, 35389]</td>\n",
       "    </tr>\n",
       "    <tr>\n",
       "      <th>4</th>\n",
       "      <td>5</td>\n",
       "      <td>16742</td>\n",
       "      <td>294690</td>\n",
       "      <td>[61215, 34486, 274088]</td>\n",
       "    </tr>\n",
       "    <tr>\n",
       "      <th>...</th>\n",
       "      <td>...</td>\n",
       "      <td>...</td>\n",
       "      <td>...</td>\n",
       "      <td>...</td>\n",
       "    </tr>\n",
       "    <tr>\n",
       "      <th>224036</th>\n",
       "      <td>296100</td>\n",
       "      <td>166516</td>\n",
       "      <td>33011</td>\n",
       "      <td>[274088, 199606, 88853]</td>\n",
       "    </tr>\n",
       "    <tr>\n",
       "      <th>224037</th>\n",
       "      <td>296101</td>\n",
       "      <td>0</td>\n",
       "      <td>0</td>\n",
       "      <td>[]</td>\n",
       "    </tr>\n",
       "    <tr>\n",
       "      <th>224038</th>\n",
       "      <td>296102</td>\n",
       "      <td>153644</td>\n",
       "      <td>289056</td>\n",
       "      <td>[158282, 139095, 242383]</td>\n",
       "    </tr>\n",
       "    <tr>\n",
       "      <th>224039</th>\n",
       "      <td>296105</td>\n",
       "      <td>68336</td>\n",
       "      <td>6613</td>\n",
       "      <td>[82064]</td>\n",
       "    </tr>\n",
       "    <tr>\n",
       "      <th>224040</th>\n",
       "      <td>296110</td>\n",
       "      <td>281202</td>\n",
       "      <td>140302</td>\n",
       "      <td>[61215]</td>\n",
       "    </tr>\n",
       "  </tbody>\n",
       "</table>\n",
       "<p>224041 rows × 4 columns</p>\n",
       "</div>"
      ],
      "text/plain": [
       "        track_id  album_id  artist_id                 genre_ids\n",
       "0              1    106710     281667  [214765, 162234, 155788]\n",
       "1              2    280977     233685   [131552, 173467, 48505]\n",
       "2              3     38422     219136    [61215, 201738, 88853]\n",
       "3              4    119529     166863            [17453, 35389]\n",
       "4              5     16742     294690    [61215, 34486, 274088]\n",
       "...          ...       ...        ...                       ...\n",
       "224036    296100    166516      33011   [274088, 199606, 88853]\n",
       "224037    296101         0          0                        []\n",
       "224038    296102    153644     289056  [158282, 139095, 242383]\n",
       "224039    296105     68336       6613                   [82064]\n",
       "224040    296110    281202     140302                   [61215]\n",
       "\n",
       "[224041 rows x 4 columns]"
      ]
     },
     "execution_count": 29,
     "metadata": {},
     "output_type": "execute_result"
    }
   ],
   "source": [
    "track_df = load_track_data('/Users/camillecu/Downloads/KUL/master_thesis/master_thesis_github/yahoo_data/ydata-ymusic-kddcup-2011-track2/trackData2.txt')\n",
    "track_df"
   ]
  },
  {
   "cell_type": "code",
   "execution_count": 30,
   "id": "34108565-28ae-42a4-81e4-1a15b137a527",
   "metadata": {},
   "outputs": [
    {
     "data": {
      "application/vnd.microsoft.datawrangler.viewer.v0+json": {
       "columns": [
        {
         "name": "index",
         "rawType": "int64",
         "type": "integer"
        },
        {
         "name": "album_id",
         "rawType": "int64",
         "type": "integer"
        },
        {
         "name": "artist_id",
         "rawType": "int64",
         "type": "integer"
        },
        {
         "name": "genre_ids",
         "rawType": "object",
         "type": "unknown"
        }
       ],
       "ref": "bec71d82-840a-4b34-b26c-37557344d632",
       "rows": [
        [
         "0",
         "0",
         "0",
         "[214765]"
        ],
        [
         "1",
         "6",
         "228091",
         "[158282, 81520, 242383]"
        ],
        [
         "2",
         "19",
         "85028",
         "[103715]"
        ],
        [
         "3",
         "30",
         "16832",
         "[31567]"
        ],
        [
         "4",
         "33",
         "26330",
         "[149962, 209270]"
        ],
        [
         "5",
         "37",
         "0",
         "[61215]"
        ],
        [
         "6",
         "74",
         "197882",
         "[201738]"
        ],
        [
         "7",
         "78",
         "163140",
         "[208198, 173467, 31567, 146792, 84705, 159815]"
        ],
        [
         "8",
         "82",
         "110657",
         "[116130, 181653, 285888]"
        ],
        [
         "9",
         "93",
         "151090",
         "[208198]"
        ],
        [
         "10",
         "96",
         "147621",
         "[173467, 48505, 133159]"
        ],
        [
         "11",
         "103",
         "0",
         "[]"
        ],
        [
         "12",
         "107",
         "17678",
         "[61215, 274088]"
        ],
        [
         "13",
         "110",
         "202437",
         "[27110]"
        ],
        [
         "14",
         "118",
         "0",
         "[]"
        ],
        [
         "15",
         "119",
         "0",
         "[]"
        ],
        [
         "16",
         "121",
         "0",
         "[]"
        ],
        [
         "17",
         "125",
         "253380",
         "[61215, 34486]"
        ],
        [
         "18",
         "132",
         "0",
         "[]"
        ],
        [
         "19",
         "143",
         "15942",
         "[33722]"
        ],
        [
         "20",
         "144",
         "204869",
         "[158282, 81520, 242383, 207648, 279143]"
        ],
        [
         "21",
         "146",
         "294875",
         "[199606, 88853]"
        ],
        [
         "22",
         "149",
         "0",
         "[61215, 17453, 35389]"
        ],
        [
         "23",
         "158",
         "270655",
         "[131552]"
        ],
        [
         "24",
         "165",
         "5377",
         "[214765, 98687]"
        ],
        [
         "25",
         "173",
         "141866",
         "[131552, 79926, 73523]"
        ],
        [
         "26",
         "180",
         "161216",
         "[145948]"
        ],
        [
         "27",
         "189",
         "0",
         "[289568]"
        ],
        [
         "28",
         "197",
         "103010",
         "[61215, 199606, 71345, 48717]"
        ],
        [
         "29",
         "200",
         "255586",
         "[131552, 173467, 176858, 218185, 82064, 206269, 266073]"
        ],
        [
         "30",
         "201",
         "199322",
         "[67098]"
        ],
        [
         "31",
         "205",
         "12607",
         "[61215]"
        ],
        [
         "32",
         "241",
         "135431",
         "[158282]"
        ],
        [
         "33",
         "244",
         "106388",
         "[173467, 48505]"
        ],
        [
         "34",
         "246",
         "223679",
         "[147886, 161601]"
        ],
        [
         "35",
         "252",
         "155618",
         "[61215]"
        ],
        [
         "36",
         "254",
         "43797",
         "[35389]"
        ],
        [
         "37",
         "264",
         "97420",
         "[198263, 131552, 71345, 48717]"
        ],
        [
         "38",
         "266",
         "232588",
         "[244713]"
        ],
        [
         "39",
         "267",
         "237956",
         "[158282, 279143, 3969, 205389]"
        ],
        [
         "40",
         "277",
         "110324",
         "[158282, 139095, 242383, 279143, 173655]"
        ],
        [
         "41",
         "285",
         "178617",
         "[61215, 34486, 17453, 35389]"
        ],
        [
         "42",
         "290",
         "39943",
         "[214765, 268217]"
        ],
        [
         "43",
         "299",
         "172223",
         "[61215, 34486, 99463]"
        ],
        [
         "44",
         "303",
         "143622",
         "[131552, 173467, 199606, 27110, 48717, 266781, 146792]"
        ],
        [
         "45",
         "304",
         "274339",
         "[18161, 65985]"
        ],
        [
         "46",
         "313",
         "121889",
         "[274088, 199606]"
        ],
        [
         "47",
         "322",
         "237708",
         "[147886, 161601]"
        ],
        [
         "48",
         "329",
         "183577",
         "[214765, 155788]"
        ],
        [
         "49",
         "339",
         "48073",
         "[287681, 244713]"
        ]
       ],
       "shape": {
        "columns": 3,
        "rows": 52829
       }
      },
      "text/html": [
       "<div>\n",
       "<style scoped>\n",
       "    .dataframe tbody tr th:only-of-type {\n",
       "        vertical-align: middle;\n",
       "    }\n",
       "\n",
       "    .dataframe tbody tr th {\n",
       "        vertical-align: top;\n",
       "    }\n",
       "\n",
       "    .dataframe thead th {\n",
       "        text-align: right;\n",
       "    }\n",
       "</style>\n",
       "<table border=\"1\" class=\"dataframe\">\n",
       "  <thead>\n",
       "    <tr style=\"text-align: right;\">\n",
       "      <th></th>\n",
       "      <th>album_id</th>\n",
       "      <th>artist_id</th>\n",
       "      <th>genre_ids</th>\n",
       "    </tr>\n",
       "  </thead>\n",
       "  <tbody>\n",
       "    <tr>\n",
       "      <th>0</th>\n",
       "      <td>0</td>\n",
       "      <td>0</td>\n",
       "      <td>[214765]</td>\n",
       "    </tr>\n",
       "    <tr>\n",
       "      <th>1</th>\n",
       "      <td>6</td>\n",
       "      <td>228091</td>\n",
       "      <td>[158282, 81520, 242383]</td>\n",
       "    </tr>\n",
       "    <tr>\n",
       "      <th>2</th>\n",
       "      <td>19</td>\n",
       "      <td>85028</td>\n",
       "      <td>[103715]</td>\n",
       "    </tr>\n",
       "    <tr>\n",
       "      <th>3</th>\n",
       "      <td>30</td>\n",
       "      <td>16832</td>\n",
       "      <td>[31567]</td>\n",
       "    </tr>\n",
       "    <tr>\n",
       "      <th>4</th>\n",
       "      <td>33</td>\n",
       "      <td>26330</td>\n",
       "      <td>[149962, 209270]</td>\n",
       "    </tr>\n",
       "    <tr>\n",
       "      <th>...</th>\n",
       "      <td>...</td>\n",
       "      <td>...</td>\n",
       "      <td>...</td>\n",
       "    </tr>\n",
       "    <tr>\n",
       "      <th>52824</th>\n",
       "      <td>296104</td>\n",
       "      <td>125866</td>\n",
       "      <td>[158282]</td>\n",
       "    </tr>\n",
       "    <tr>\n",
       "      <th>52825</th>\n",
       "      <td>296106</td>\n",
       "      <td>221637</td>\n",
       "      <td>[116130, 9432]</td>\n",
       "    </tr>\n",
       "    <tr>\n",
       "      <th>52826</th>\n",
       "      <td>296107</td>\n",
       "      <td>0</td>\n",
       "      <td>[61215]</td>\n",
       "    </tr>\n",
       "    <tr>\n",
       "      <th>52827</th>\n",
       "      <td>296108</td>\n",
       "      <td>93277</td>\n",
       "      <td>[61215]</td>\n",
       "    </tr>\n",
       "    <tr>\n",
       "      <th>52828</th>\n",
       "      <td>296109</td>\n",
       "      <td>84885</td>\n",
       "      <td>[287681]</td>\n",
       "    </tr>\n",
       "  </tbody>\n",
       "</table>\n",
       "<p>52829 rows × 3 columns</p>\n",
       "</div>"
      ],
      "text/plain": [
       "       album_id  artist_id                genre_ids\n",
       "0             0          0                 [214765]\n",
       "1             6     228091  [158282, 81520, 242383]\n",
       "2            19      85028                 [103715]\n",
       "3            30      16832                  [31567]\n",
       "4            33      26330         [149962, 209270]\n",
       "...         ...        ...                      ...\n",
       "52824    296104     125866                 [158282]\n",
       "52825    296106     221637           [116130, 9432]\n",
       "52826    296107          0                  [61215]\n",
       "52827    296108      93277                  [61215]\n",
       "52828    296109      84885                 [287681]\n",
       "\n",
       "[52829 rows x 3 columns]"
      ]
     },
     "execution_count": 30,
     "metadata": {},
     "output_type": "execute_result"
    }
   ],
   "source": [
    "album_df = load_album_data('/Users/camillecu/Downloads/KUL/master_thesis/master_thesis_github/yahoo_data/ydata-ymusic-kddcup-2011-track2/albumData2.txt')\n",
    "album_df"
   ]
  },
  {
   "cell_type": "code",
   "execution_count": 31,
   "id": "bc231968-49a8-4eed-b110-9c7d22ac0725",
   "metadata": {},
   "outputs": [
    {
     "data": {
      "application/vnd.microsoft.datawrangler.viewer.v0+json": {
       "columns": [
        {
         "name": "index",
         "rawType": "int64",
         "type": "integer"
        },
        {
         "name": "artist_id",
         "rawType": "int64",
         "type": "integer"
        }
       ],
       "ref": "d86c8cac-4f90-46ac-9091-dda7e9f77227",
       "rows": [
        [
         "0",
         "16"
        ],
        [
         "1",
         "23"
        ],
        [
         "2",
         "35"
        ],
        [
         "3",
         "40"
        ],
        [
         "4",
         "49"
        ],
        [
         "5",
         "54"
        ],
        [
         "6",
         "98"
        ],
        [
         "7",
         "136"
        ],
        [
         "8",
         "138"
        ],
        [
         "9",
         "139"
        ],
        [
         "10",
         "190"
        ],
        [
         "11",
         "198"
        ],
        [
         "12",
         "207"
        ],
        [
         "13",
         "236"
        ],
        [
         "14",
         "292"
        ],
        [
         "15",
         "295"
        ],
        [
         "16",
         "301"
        ],
        [
         "17",
         "307"
        ],
        [
         "18",
         "325"
        ],
        [
         "19",
         "326"
        ],
        [
         "20",
         "396"
        ],
        [
         "21",
         "408"
        ],
        [
         "22",
         "425"
        ],
        [
         "23",
         "435"
        ],
        [
         "24",
         "448"
        ],
        [
         "25",
         "469"
        ],
        [
         "26",
         "495"
        ],
        [
         "27",
         "539"
        ],
        [
         "28",
         "544"
        ],
        [
         "29",
         "564"
        ],
        [
         "30",
         "576"
        ],
        [
         "31",
         "586"
        ],
        [
         "32",
         "600"
        ],
        [
         "33",
         "617"
        ],
        [
         "34",
         "619"
        ],
        [
         "35",
         "635"
        ],
        [
         "36",
         "638"
        ],
        [
         "37",
         "644"
        ],
        [
         "38",
         "647"
        ],
        [
         "39",
         "661"
        ],
        [
         "40",
         "663"
        ],
        [
         "41",
         "725"
        ],
        [
         "42",
         "732"
        ],
        [
         "43",
         "768"
        ],
        [
         "44",
         "778"
        ],
        [
         "45",
         "786"
        ],
        [
         "46",
         "792"
        ],
        [
         "47",
         "798"
        ],
        [
         "48",
         "801"
        ],
        [
         "49",
         "820"
        ]
       ],
       "shape": {
        "columns": 1,
        "rows": 18674
       }
      },
      "text/html": [
       "<div>\n",
       "<style scoped>\n",
       "    .dataframe tbody tr th:only-of-type {\n",
       "        vertical-align: middle;\n",
       "    }\n",
       "\n",
       "    .dataframe tbody tr th {\n",
       "        vertical-align: top;\n",
       "    }\n",
       "\n",
       "    .dataframe thead th {\n",
       "        text-align: right;\n",
       "    }\n",
       "</style>\n",
       "<table border=\"1\" class=\"dataframe\">\n",
       "  <thead>\n",
       "    <tr style=\"text-align: right;\">\n",
       "      <th></th>\n",
       "      <th>artist_id</th>\n",
       "    </tr>\n",
       "  </thead>\n",
       "  <tbody>\n",
       "    <tr>\n",
       "      <th>0</th>\n",
       "      <td>16</td>\n",
       "    </tr>\n",
       "    <tr>\n",
       "      <th>1</th>\n",
       "      <td>23</td>\n",
       "    </tr>\n",
       "    <tr>\n",
       "      <th>2</th>\n",
       "      <td>35</td>\n",
       "    </tr>\n",
       "    <tr>\n",
       "      <th>3</th>\n",
       "      <td>40</td>\n",
       "    </tr>\n",
       "    <tr>\n",
       "      <th>4</th>\n",
       "      <td>49</td>\n",
       "    </tr>\n",
       "    <tr>\n",
       "      <th>...</th>\n",
       "      <td>...</td>\n",
       "    </tr>\n",
       "    <tr>\n",
       "      <th>18669</th>\n",
       "      <td>295987</td>\n",
       "    </tr>\n",
       "    <tr>\n",
       "      <th>18670</th>\n",
       "      <td>296007</td>\n",
       "    </tr>\n",
       "    <tr>\n",
       "      <th>18671</th>\n",
       "      <td>296012</td>\n",
       "    </tr>\n",
       "    <tr>\n",
       "      <th>18672</th>\n",
       "      <td>296013</td>\n",
       "    </tr>\n",
       "    <tr>\n",
       "      <th>18673</th>\n",
       "      <td>296041</td>\n",
       "    </tr>\n",
       "  </tbody>\n",
       "</table>\n",
       "<p>18674 rows × 1 columns</p>\n",
       "</div>"
      ],
      "text/plain": [
       "       artist_id\n",
       "0             16\n",
       "1             23\n",
       "2             35\n",
       "3             40\n",
       "4             49\n",
       "...          ...\n",
       "18669     295987\n",
       "18670     296007\n",
       "18671     296012\n",
       "18672     296013\n",
       "18673     296041\n",
       "\n",
       "[18674 rows x 1 columns]"
      ]
     },
     "execution_count": 31,
     "metadata": {},
     "output_type": "execute_result"
    }
   ],
   "source": [
    "artist_df = load_artist_data('/Users/camillecu/Downloads/KUL/master_thesis/master_thesis_github/yahoo_data/ydata-ymusic-kddcup-2011-track2/artistData2.txt')\n",
    "artist_df"
   ]
  },
  {
   "cell_type": "code",
   "execution_count": 32,
   "id": "ed474fba-2146-4211-b16d-e67072c9772a",
   "metadata": {},
   "outputs": [
    {
     "data": {
      "application/vnd.microsoft.datawrangler.viewer.v0+json": {
       "columns": [
        {
         "name": "index",
         "rawType": "int64",
         "type": "integer"
        },
        {
         "name": "genre_id",
         "rawType": "int64",
         "type": "integer"
        }
       ],
       "ref": "ade30475-5911-4908-985e-f2a2ff0ef58a",
       "rows": [
        [
         "0",
         "208"
        ],
        [
         "1",
         "315"
        ],
        [
         "2",
         "642"
        ],
        [
         "3",
         "1075"
        ],
        [
         "4",
         "1271"
        ],
        [
         "5",
         "1534"
        ],
        [
         "6",
         "1732"
        ],
        [
         "7",
         "1808"
        ],
        [
         "8",
         "2143"
        ],
        [
         "9",
         "2384"
        ],
        [
         "10",
         "2938"
        ],
        [
         "11",
         "3428"
        ],
        [
         "12",
         "3969"
        ],
        [
         "13",
         "4423"
        ],
        [
         "14",
         "4532"
        ],
        [
         "15",
         "5699"
        ],
        [
         "16",
         "5985"
        ],
        [
         "17",
         "6398"
        ],
        [
         "18",
         "6954"
        ],
        [
         "19",
         "7138"
        ],
        [
         "20",
         "8400"
        ],
        [
         "21",
         "9041"
        ],
        [
         "22",
         "9108"
        ],
        [
         "23",
         "9239"
        ],
        [
         "24",
         "9432"
        ],
        [
         "25",
         "9667"
        ],
        [
         "26",
         "9797"
        ],
        [
         "27",
         "11503"
        ],
        [
         "28",
         "11688"
        ],
        [
         "29",
         "11731"
        ],
        [
         "30",
         "12274"
        ],
        [
         "31",
         "13618"
        ],
        [
         "32",
         "14394"
        ],
        [
         "33",
         "15280"
        ],
        [
         "34",
         "15332"
        ],
        [
         "35",
         "16571"
        ],
        [
         "36",
         "17010"
        ],
        [
         "37",
         "17368"
        ],
        [
         "38",
         "17453"
        ],
        [
         "39",
         "17680"
        ],
        [
         "40",
         "18030"
        ],
        [
         "41",
         "18161"
        ],
        [
         "42",
         "18629"
        ],
        [
         "43",
         "19514"
        ],
        [
         "44",
         "19825"
        ],
        [
         "45",
         "19913"
        ],
        [
         "46",
         "20068"
        ],
        [
         "47",
         "21266"
        ],
        [
         "48",
         "21505"
        ],
        [
         "49",
         "22299"
        ]
       ],
       "shape": {
        "columns": 1,
        "rows": 567
       }
      },
      "text/html": [
       "<div>\n",
       "<style scoped>\n",
       "    .dataframe tbody tr th:only-of-type {\n",
       "        vertical-align: middle;\n",
       "    }\n",
       "\n",
       "    .dataframe tbody tr th {\n",
       "        vertical-align: top;\n",
       "    }\n",
       "\n",
       "    .dataframe thead th {\n",
       "        text-align: right;\n",
       "    }\n",
       "</style>\n",
       "<table border=\"1\" class=\"dataframe\">\n",
       "  <thead>\n",
       "    <tr style=\"text-align: right;\">\n",
       "      <th></th>\n",
       "      <th>genre_id</th>\n",
       "    </tr>\n",
       "  </thead>\n",
       "  <tbody>\n",
       "    <tr>\n",
       "      <th>0</th>\n",
       "      <td>208</td>\n",
       "    </tr>\n",
       "    <tr>\n",
       "      <th>1</th>\n",
       "      <td>315</td>\n",
       "    </tr>\n",
       "    <tr>\n",
       "      <th>2</th>\n",
       "      <td>642</td>\n",
       "    </tr>\n",
       "    <tr>\n",
       "      <th>3</th>\n",
       "      <td>1075</td>\n",
       "    </tr>\n",
       "    <tr>\n",
       "      <th>4</th>\n",
       "      <td>1271</td>\n",
       "    </tr>\n",
       "    <tr>\n",
       "      <th>...</th>\n",
       "      <td>...</td>\n",
       "    </tr>\n",
       "    <tr>\n",
       "      <th>562</th>\n",
       "      <td>292093</td>\n",
       "    </tr>\n",
       "    <tr>\n",
       "      <th>563</th>\n",
       "      <td>293670</td>\n",
       "    </tr>\n",
       "    <tr>\n",
       "      <th>564</th>\n",
       "      <td>293688</td>\n",
       "    </tr>\n",
       "    <tr>\n",
       "      <th>565</th>\n",
       "      <td>294138</td>\n",
       "    </tr>\n",
       "    <tr>\n",
       "      <th>566</th>\n",
       "      <td>294310</td>\n",
       "    </tr>\n",
       "  </tbody>\n",
       "</table>\n",
       "<p>567 rows × 1 columns</p>\n",
       "</div>"
      ],
      "text/plain": [
       "     genre_id\n",
       "0         208\n",
       "1         315\n",
       "2         642\n",
       "3        1075\n",
       "4        1271\n",
       "..        ...\n",
       "562    292093\n",
       "563    293670\n",
       "564    293688\n",
       "565    294138\n",
       "566    294310\n",
       "\n",
       "[567 rows x 1 columns]"
      ]
     },
     "execution_count": 32,
     "metadata": {},
     "output_type": "execute_result"
    }
   ],
   "source": [
    "genre_df = load_genre_data('/Users/camillecu/Downloads/KUL/master_thesis/master_thesis_github/yahoo_data/ydata-ymusic-kddcup-2011-track2/genreData2.txt')\n",
    "genre_df"
   ]
  },
  {
   "cell_type": "code",
   "execution_count": 33,
   "id": "8931dd4b-ac84-4292-af68-8c101bb35789",
   "metadata": {},
   "outputs": [],
   "source": [
    "train_path = '/Users/camillecu/Downloads/KUL/master_thesis/master_thesis_github/yahoo_data/ydata-ymusic-kddcup-2011-track2/trainIdx2.txt'\n",
    "my_seed = 7\n",
    "random.seed(my_seed)\n",
    "np.random.seed(my_seed)\n",
    "train_df = load_user_item_matrix(train_path)\n"
   ]
  },
  {
   "cell_type": "code",
   "execution_count": 10,
   "id": "2b82bdd0-cb88-4832-b32e-1a13918c476c",
   "metadata": {},
   "outputs": [
    {
     "data": {
      "application/vnd.microsoft.datawrangler.viewer.v0+json": {
       "columns": [
        {
         "name": "index",
         "rawType": "int64",
         "type": "integer"
        },
        {
         "name": "user_id",
         "rawType": "int64",
         "type": "integer"
        },
        {
         "name": "item_id",
         "rawType": "int64",
         "type": "integer"
        },
        {
         "name": "rating",
         "rawType": "int64",
         "type": "integer"
        }
       ],
       "ref": "d9789033-6df5-4394-975e-d5fc75128a59",
       "rows": [
        [
         "0",
         "0",
         "28341",
         "90"
        ],
        [
         "1",
         "0",
         "51210",
         "90"
        ],
        [
         "2",
         "0",
         "79500",
         "90"
        ],
        [
         "3",
         "0",
         "82317",
         "90"
        ],
        [
         "4",
         "0",
         "98399",
         "90"
        ],
        [
         "5",
         "0",
         "151565",
         "90"
        ],
        [
         "6",
         "0",
         "152077",
         "90"
        ],
        [
         "7",
         "0",
         "173467",
         "80"
        ],
        [
         "8",
         "0",
         "176858",
         "80"
        ],
        [
         "9",
         "0",
         "180487",
         "90"
        ],
        [
         "10",
         "0",
         "211565",
         "90"
        ],
        [
         "11",
         "0",
         "263882",
         "90"
        ],
        [
         "12",
         "0",
         "275191",
         "90"
        ],
        [
         "13",
         "0",
         "149962",
         "70"
        ],
        [
         "14",
         "0",
         "51948",
         "30"
        ],
        [
         "15",
         "0",
         "113759",
         "30"
        ],
        [
         "16",
         "0",
         "251690",
         "30"
        ],
        [
         "17",
         "0",
         "22935",
         "50"
        ],
        [
         "18",
         "0",
         "45979",
         "50"
        ],
        [
         "19",
         "0",
         "59092",
         "70"
        ],
        [
         "20",
         "0",
         "159380",
         "50"
        ],
        [
         "21",
         "0",
         "206862",
         "70"
        ],
        [
         "22",
         "0",
         "210480",
         "70"
        ],
        [
         "23",
         "0",
         "224444",
         "70"
        ],
        [
         "24",
         "0",
         "231934",
         "50"
        ],
        [
         "25",
         "0",
         "232604",
         "30"
        ],
        [
         "26",
         "0",
         "237425",
         "50"
        ],
        [
         "27",
         "0",
         "245257",
         "50"
        ],
        [
         "28",
         "0",
         "23301",
         "50"
        ],
        [
         "29",
         "0",
         "64052",
         "70"
        ],
        [
         "30",
         "0",
         "77710",
         "70"
        ],
        [
         "31",
         "0",
         "97326",
         "30"
        ],
        [
         "32",
         "0",
         "119186",
         "90"
        ],
        [
         "33",
         "0",
         "154225",
         "50"
        ],
        [
         "34",
         "0",
         "161823",
         "30"
        ],
        [
         "35",
         "0",
         "182018",
         "70"
        ],
        [
         "36",
         "0",
         "186306",
         "90"
        ],
        [
         "37",
         "0",
         "211701",
         "50"
        ],
        [
         "38",
         "0",
         "229481",
         "70"
        ],
        [
         "39",
         "0",
         "236546",
         "90"
        ],
        [
         "40",
         "0",
         "270557",
         "70"
        ],
        [
         "41",
         "0",
         "286976",
         "30"
        ],
        [
         "42",
         "0",
         "69022",
         "90"
        ],
        [
         "43",
         "0",
         "70401",
         "30"
        ],
        [
         "44",
         "0",
         "138935",
         "30"
        ],
        [
         "45",
         "0",
         "182642",
         "30"
        ],
        [
         "46",
         "1",
         "3091",
         "90"
        ],
        [
         "47",
         "1",
         "11828",
         "90"
        ],
        [
         "48",
         "1",
         "33269",
         "90"
        ],
        [
         "49",
         "1",
         "64811",
         "90"
        ]
       ],
       "shape": {
        "columns": 3,
        "rows": 61944406
       }
      },
      "text/html": [
       "<div>\n",
       "<style scoped>\n",
       "    .dataframe tbody tr th:only-of-type {\n",
       "        vertical-align: middle;\n",
       "    }\n",
       "\n",
       "    .dataframe tbody tr th {\n",
       "        vertical-align: top;\n",
       "    }\n",
       "\n",
       "    .dataframe thead th {\n",
       "        text-align: right;\n",
       "    }\n",
       "</style>\n",
       "<table border=\"1\" class=\"dataframe\">\n",
       "  <thead>\n",
       "    <tr style=\"text-align: right;\">\n",
       "      <th></th>\n",
       "      <th>user_id</th>\n",
       "      <th>item_id</th>\n",
       "      <th>rating</th>\n",
       "    </tr>\n",
       "  </thead>\n",
       "  <tbody>\n",
       "    <tr>\n",
       "      <th>0</th>\n",
       "      <td>0</td>\n",
       "      <td>28341</td>\n",
       "      <td>90</td>\n",
       "    </tr>\n",
       "    <tr>\n",
       "      <th>1</th>\n",
       "      <td>0</td>\n",
       "      <td>51210</td>\n",
       "      <td>90</td>\n",
       "    </tr>\n",
       "    <tr>\n",
       "      <th>2</th>\n",
       "      <td>0</td>\n",
       "      <td>79500</td>\n",
       "      <td>90</td>\n",
       "    </tr>\n",
       "    <tr>\n",
       "      <th>3</th>\n",
       "      <td>0</td>\n",
       "      <td>82317</td>\n",
       "      <td>90</td>\n",
       "    </tr>\n",
       "    <tr>\n",
       "      <th>4</th>\n",
       "      <td>0</td>\n",
       "      <td>98399</td>\n",
       "      <td>90</td>\n",
       "    </tr>\n",
       "    <tr>\n",
       "      <th>...</th>\n",
       "      <td>...</td>\n",
       "      <td>...</td>\n",
       "      <td>...</td>\n",
       "    </tr>\n",
       "    <tr>\n",
       "      <th>61944401</th>\n",
       "      <td>249011</td>\n",
       "      <td>270557</td>\n",
       "      <td>90</td>\n",
       "    </tr>\n",
       "    <tr>\n",
       "      <th>61944402</th>\n",
       "      <td>249011</td>\n",
       "      <td>273574</td>\n",
       "      <td>90</td>\n",
       "    </tr>\n",
       "    <tr>\n",
       "      <th>61944403</th>\n",
       "      <td>249011</td>\n",
       "      <td>286938</td>\n",
       "      <td>90</td>\n",
       "    </tr>\n",
       "    <tr>\n",
       "      <th>61944404</th>\n",
       "      <td>249011</td>\n",
       "      <td>287681</td>\n",
       "      <td>80</td>\n",
       "    </tr>\n",
       "    <tr>\n",
       "      <th>61944405</th>\n",
       "      <td>249011</td>\n",
       "      <td>295381</td>\n",
       "      <td>90</td>\n",
       "    </tr>\n",
       "  </tbody>\n",
       "</table>\n",
       "<p>61944406 rows × 3 columns</p>\n",
       "</div>"
      ],
      "text/plain": [
       "          user_id  item_id  rating\n",
       "0               0    28341      90\n",
       "1               0    51210      90\n",
       "2               0    79500      90\n",
       "3               0    82317      90\n",
       "4               0    98399      90\n",
       "...           ...      ...     ...\n",
       "61944401   249011   270557      90\n",
       "61944402   249011   273574      90\n",
       "61944403   249011   286938      90\n",
       "61944404   249011   287681      80\n",
       "61944405   249011   295381      90\n",
       "\n",
       "[61944406 rows x 3 columns]"
      ]
     },
     "execution_count": 10,
     "metadata": {},
     "output_type": "execute_result"
    }
   ],
   "source": [
    "train_df"
   ]
  },
  {
   "cell_type": "code",
   "execution_count": 34,
   "id": "440d13e7-e57d-4a61-a1c0-af65afef3f82",
   "metadata": {},
   "outputs": [
    {
     "name": "stdout",
     "output_type": "stream",
     "text": [
      "🔁 Number of duplicated (user_id, item_id) pairs: 0\n",
      "Series([], dtype: int64)\n"
     ]
    }
   ],
   "source": [
    "duplicate_counts = train_df.groupby(['user_id', 'item_id']).size()\n",
    "duplicates = duplicate_counts[duplicate_counts > 1]\n",
    "\n",
    "print(f\"🔁 Number of duplicated (user_id, item_id) pairs: {len(duplicates)}\")\n",
    "print(duplicates.head())\n"
   ]
  },
  {
   "cell_type": "code",
   "execution_count": 12,
   "id": "9793ce57-3191-47f0-83a0-44648204713e",
   "metadata": {},
   "outputs": [
    {
     "name": "stdout",
     "output_type": "stream",
     "text": [
      "296110\n",
      "296110\n",
      "0.4385845107627636\n",
      "0.1925648621120041\n",
      "0.3114063600835885\n",
      "0.05744426704164376\n"
     ]
    }
   ],
   "source": [
    "print(train_df['item_id'].max())      # highest item_id\n",
    "print(track_df['track_id'].max())     # highest track_id\n",
    "print(train_df['item_id'].isin(track_df['track_id']).mean())  # proportion to match\n",
    "\n",
    "print(train_df['item_id'].isin(album_df['album_id']).mean())\n",
    "\n",
    "print(train_df['item_id'].isin(artist_df['artist_id']).mean())\n",
    "\n",
    "print(train_df['item_id'].isin(genre_df['genre_id']).mean())\n",
    "\n"
   ]
  },
  {
   "cell_type": "code",
   "execution_count": 35,
   "id": "bbaeb599-50ef-4735-9088-32bcb1ce9aa4",
   "metadata": {},
   "outputs": [],
   "source": [
    "def build_item_metadata(track_df, album_df, artist_df, genre_df):\n",
    "    rows = []\n",
    "\n",
    "    # 1. Tracks\n",
    "    for _, row in track_df.iterrows():\n",
    "        rows.append({\n",
    "            'item_id': row['track_id'],\n",
    "            'item_type': 'track',\n",
    "            'artist_id': row['artist_id'],\n",
    "            'genre_ids': row['genre_ids']\n",
    "        })\n",
    "\n",
    "    # 2. Albums\n",
    "    for _, row in album_df.iterrows():\n",
    "        rows.append({\n",
    "            'item_id': row['album_id'],\n",
    "            'item_type': 'album',\n",
    "            'artist_id': row['artist_id'],\n",
    "            'genre_ids': row['genre_ids']\n",
    "        })\n",
    "\n",
    "    # 3. Artists\n",
    "    for artist_id in artist_df['artist_id']:\n",
    "        rows.append({\n",
    "            'item_id': artist_id,\n",
    "            'item_type': 'artist',\n",
    "            'artist_id': artist_id,\n",
    "            'genre_ids': 0\n",
    "        })\n",
    "\n",
    "    # 4. Genres\n",
    "    for genre_id in genre_df['genre_id']:\n",
    "        rows.append({\n",
    "            'item_id': genre_id,\n",
    "            'item_type': 'genre',\n",
    "            'artist_id': 0,\n",
    "            'genre_ids': [genre_id]\n",
    "        })\n",
    "\n",
    "    return pd.DataFrame(rows)"
   ]
  },
  {
   "cell_type": "code",
   "execution_count": 36,
   "id": "66ee1ab6-33f8-43fa-ae6e-f93ea5d0858b",
   "metadata": {},
   "outputs": [
    {
     "data": {
      "application/vnd.microsoft.datawrangler.viewer.v0+json": {
       "columns": [
        {
         "name": "index",
         "rawType": "int64",
         "type": "integer"
        },
        {
         "name": "user_id",
         "rawType": "int64",
         "type": "integer"
        },
        {
         "name": "item_id",
         "rawType": "int64",
         "type": "integer"
        },
        {
         "name": "rating",
         "rawType": "int64",
         "type": "integer"
        },
        {
         "name": "item_type",
         "rawType": "object",
         "type": "string"
        },
        {
         "name": "artist_id",
         "rawType": "int64",
         "type": "integer"
        },
        {
         "name": "genre_ids",
         "rawType": "object",
         "type": "unknown"
        }
       ],
       "ref": "ae9ac047-dea1-4228-9a0f-8e87210c2ede",
       "rows": [
        [
         "0",
         "0",
         "28341",
         "90",
         "artist",
         "28341",
         "0"
        ],
        [
         "1",
         "0",
         "232604",
         "30",
         "artist",
         "232604",
         "0"
        ],
        [
         "2",
         "0",
         "237425",
         "50",
         "artist",
         "237425",
         "0"
        ],
        [
         "3",
         "0",
         "245257",
         "50",
         "artist",
         "245257",
         "0"
        ],
        [
         "4",
         "0",
         "23301",
         "50",
         "artist",
         "23301",
         "0"
        ],
        [
         "5",
         "0",
         "64052",
         "70",
         "artist",
         "64052",
         "0"
        ],
        [
         "6",
         "0",
         "77710",
         "70",
         "artist",
         "77710",
         "0"
        ],
        [
         "7",
         "0",
         "97326",
         "30",
         "artist",
         "97326",
         "0"
        ],
        [
         "8",
         "0",
         "119186",
         "90",
         "artist",
         "119186",
         "0"
        ],
        [
         "9",
         "0",
         "154225",
         "50",
         "artist",
         "154225",
         "0"
        ],
        [
         "10",
         "0",
         "231934",
         "50",
         "artist",
         "231934",
         "0"
        ],
        [
         "11",
         "0",
         "161823",
         "30",
         "artist",
         "161823",
         "0"
        ],
        [
         "12",
         "0",
         "186306",
         "90",
         "artist",
         "186306",
         "0"
        ],
        [
         "13",
         "0",
         "211701",
         "50",
         "artist",
         "211701",
         "0"
        ],
        [
         "14",
         "0",
         "236546",
         "90",
         "artist",
         "236546",
         "0"
        ],
        [
         "15",
         "0",
         "270557",
         "70",
         "artist",
         "270557",
         "0"
        ],
        [
         "16",
         "0",
         "286976",
         "30",
         "artist",
         "286976",
         "0"
        ],
        [
         "17",
         "0",
         "69022",
         "90",
         "artist",
         "69022",
         "0"
        ],
        [
         "18",
         "0",
         "70401",
         "30",
         "artist",
         "70401",
         "0"
        ],
        [
         "19",
         "0",
         "138935",
         "30",
         "artist",
         "138935",
         "0"
        ],
        [
         "20",
         "0",
         "182642",
         "30",
         "artist",
         "182642",
         "0"
        ],
        [
         "21",
         "0",
         "182018",
         "70",
         "artist",
         "182018",
         "0"
        ],
        [
         "22",
         "0",
         "224444",
         "70",
         "artist",
         "224444",
         "0"
        ],
        [
         "23",
         "0",
         "229481",
         "70",
         "artist",
         "229481",
         "0"
        ],
        [
         "24",
         "0",
         "206862",
         "70",
         "artist",
         "206862",
         "0"
        ],
        [
         "25",
         "0",
         "210480",
         "70",
         "artist",
         "210480",
         "0"
        ],
        [
         "26",
         "0",
         "51210",
         "90",
         "artist",
         "51210",
         "0"
        ],
        [
         "27",
         "0",
         "79500",
         "90",
         "artist",
         "79500",
         "0"
        ],
        [
         "28",
         "0",
         "82317",
         "90",
         "artist",
         "82317",
         "0"
        ],
        [
         "29",
         "0",
         "98399",
         "90",
         "artist",
         "98399",
         "0"
        ],
        [
         "30",
         "0",
         "152077",
         "90",
         "artist",
         "152077",
         "0"
        ],
        [
         "31",
         "0",
         "173467",
         "80",
         "genre",
         "0",
         "[173467]"
        ],
        [
         "32",
         "0",
         "176858",
         "80",
         "genre",
         "0",
         "[176858]"
        ],
        [
         "33",
         "0",
         "180487",
         "90",
         "artist",
         "180487",
         "0"
        ],
        [
         "34",
         "0",
         "211565",
         "90",
         "artist",
         "211565",
         "0"
        ],
        [
         "35",
         "0",
         "151565",
         "90",
         "artist",
         "151565",
         "0"
        ],
        [
         "36",
         "0",
         "275191",
         "90",
         "artist",
         "275191",
         "0"
        ],
        [
         "37",
         "0",
         "149962",
         "70",
         "genre",
         "0",
         "[149962]"
        ],
        [
         "38",
         "0",
         "51948",
         "30",
         "artist",
         "51948",
         "0"
        ],
        [
         "39",
         "0",
         "113759",
         "30",
         "artist",
         "113759",
         "0"
        ],
        [
         "40",
         "0",
         "251690",
         "30",
         "artist",
         "251690",
         "0"
        ],
        [
         "41",
         "0",
         "22935",
         "50",
         "artist",
         "22935",
         "0"
        ],
        [
         "42",
         "0",
         "45979",
         "50",
         "artist",
         "45979",
         "0"
        ],
        [
         "43",
         "0",
         "59092",
         "70",
         "artist",
         "59092",
         "0"
        ],
        [
         "44",
         "0",
         "263882",
         "90",
         "artist",
         "263882",
         "0"
        ],
        [
         "45",
         "0",
         "159380",
         "50",
         "artist",
         "159380",
         "0"
        ],
        [
         "46",
         "1",
         "270934",
         "30",
         "album",
         "108203",
         "[51420]"
        ],
        [
         "47",
         "1",
         "243848",
         "70",
         "artist",
         "243848",
         "0"
        ],
        [
         "48",
         "1",
         "221579",
         "30",
         "track",
         "12181",
         "[293670, 51420]"
        ],
        [
         "49",
         "1",
         "179556",
         "70",
         "track",
         "147606",
         "[131552, 199606]"
        ]
       ],
       "shape": {
        "columns": 6,
        "rows": 61944406
       }
      },
      "text/html": [
       "<div>\n",
       "<style scoped>\n",
       "    .dataframe tbody tr th:only-of-type {\n",
       "        vertical-align: middle;\n",
       "    }\n",
       "\n",
       "    .dataframe tbody tr th {\n",
       "        vertical-align: top;\n",
       "    }\n",
       "\n",
       "    .dataframe thead th {\n",
       "        text-align: right;\n",
       "    }\n",
       "</style>\n",
       "<table border=\"1\" class=\"dataframe\">\n",
       "  <thead>\n",
       "    <tr style=\"text-align: right;\">\n",
       "      <th></th>\n",
       "      <th>user_id</th>\n",
       "      <th>item_id</th>\n",
       "      <th>rating</th>\n",
       "      <th>item_type</th>\n",
       "      <th>artist_id</th>\n",
       "      <th>genre_ids</th>\n",
       "    </tr>\n",
       "  </thead>\n",
       "  <tbody>\n",
       "    <tr>\n",
       "      <th>0</th>\n",
       "      <td>0</td>\n",
       "      <td>28341</td>\n",
       "      <td>90</td>\n",
       "      <td>artist</td>\n",
       "      <td>28341</td>\n",
       "      <td>0</td>\n",
       "    </tr>\n",
       "    <tr>\n",
       "      <th>1</th>\n",
       "      <td>0</td>\n",
       "      <td>232604</td>\n",
       "      <td>30</td>\n",
       "      <td>artist</td>\n",
       "      <td>232604</td>\n",
       "      <td>0</td>\n",
       "    </tr>\n",
       "    <tr>\n",
       "      <th>2</th>\n",
       "      <td>0</td>\n",
       "      <td>237425</td>\n",
       "      <td>50</td>\n",
       "      <td>artist</td>\n",
       "      <td>237425</td>\n",
       "      <td>0</td>\n",
       "    </tr>\n",
       "    <tr>\n",
       "      <th>3</th>\n",
       "      <td>0</td>\n",
       "      <td>245257</td>\n",
       "      <td>50</td>\n",
       "      <td>artist</td>\n",
       "      <td>245257</td>\n",
       "      <td>0</td>\n",
       "    </tr>\n",
       "    <tr>\n",
       "      <th>4</th>\n",
       "      <td>0</td>\n",
       "      <td>23301</td>\n",
       "      <td>50</td>\n",
       "      <td>artist</td>\n",
       "      <td>23301</td>\n",
       "      <td>0</td>\n",
       "    </tr>\n",
       "    <tr>\n",
       "      <th>...</th>\n",
       "      <td>...</td>\n",
       "      <td>...</td>\n",
       "      <td>...</td>\n",
       "      <td>...</td>\n",
       "      <td>...</td>\n",
       "      <td>...</td>\n",
       "    </tr>\n",
       "    <tr>\n",
       "      <th>61944401</th>\n",
       "      <td>249011</td>\n",
       "      <td>141075</td>\n",
       "      <td>90</td>\n",
       "      <td>artist</td>\n",
       "      <td>141075</td>\n",
       "      <td>0</td>\n",
       "    </tr>\n",
       "    <tr>\n",
       "      <th>61944402</th>\n",
       "      <td>249011</td>\n",
       "      <td>150385</td>\n",
       "      <td>80</td>\n",
       "      <td>genre</td>\n",
       "      <td>0</td>\n",
       "      <td>[150385]</td>\n",
       "    </tr>\n",
       "    <tr>\n",
       "      <th>61944403</th>\n",
       "      <td>249011</td>\n",
       "      <td>152077</td>\n",
       "      <td>90</td>\n",
       "      <td>artist</td>\n",
       "      <td>152077</td>\n",
       "      <td>0</td>\n",
       "    </tr>\n",
       "    <tr>\n",
       "      <th>61944404</th>\n",
       "      <td>249011</td>\n",
       "      <td>158282</td>\n",
       "      <td>80</td>\n",
       "      <td>genre</td>\n",
       "      <td>0</td>\n",
       "      <td>[158282]</td>\n",
       "    </tr>\n",
       "    <tr>\n",
       "      <th>61944405</th>\n",
       "      <td>249011</td>\n",
       "      <td>295381</td>\n",
       "      <td>90</td>\n",
       "      <td>artist</td>\n",
       "      <td>295381</td>\n",
       "      <td>0</td>\n",
       "    </tr>\n",
       "  </tbody>\n",
       "</table>\n",
       "<p>61944406 rows × 6 columns</p>\n",
       "</div>"
      ],
      "text/plain": [
       "          user_id  item_id  rating item_type  artist_id genre_ids\n",
       "0               0    28341      90    artist      28341         0\n",
       "1               0   232604      30    artist     232604         0\n",
       "2               0   237425      50    artist     237425         0\n",
       "3               0   245257      50    artist     245257         0\n",
       "4               0    23301      50    artist      23301         0\n",
       "...           ...      ...     ...       ...        ...       ...\n",
       "61944401   249011   141075      90    artist     141075         0\n",
       "61944402   249011   150385      80     genre          0  [150385]\n",
       "61944403   249011   152077      90    artist     152077         0\n",
       "61944404   249011   158282      80     genre          0  [158282]\n",
       "61944405   249011   295381      90    artist     295381         0\n",
       "\n",
       "[61944406 rows x 6 columns]"
      ]
     },
     "execution_count": 36,
     "metadata": {},
     "output_type": "execute_result"
    }
   ],
   "source": [
    "item_meta_df = build_item_metadata(track_df, album_df, artist_df, genre_df)\n",
    "\n",
    "train_with_meta = train_df.merge(item_meta_df, on='item_id', how='inner')\n",
    "\n",
    "# When loading the data, sort by a stable column (e.g., user_id)\n",
    "train_with_meta = train_with_meta.sort_values('user_id').reset_index(drop=True)\n",
    "\n",
    "train_with_meta"
   ]
  },
  {
   "cell_type": "code",
   "execution_count": 37,
   "id": "5a71740f",
   "metadata": {},
   "outputs": [
    {
     "name": "stdout",
     "output_type": "stream",
     "text": [
      "🎯 Sample shape: (22848233, 6)\n",
      "👤 Users: 248344, 🎵 Items: 19241\n"
     ]
    }
   ],
   "source": [
    "df = train_with_meta.copy()\n",
    "\n",
    "# Filter: keep only artist & genre (drop album, track)\n",
    "df = df[~df['item_type'].isin(['album', 'track'])].copy()\n",
    "\n",
    "print(f\"🎯 Sample shape: {df.shape}\")\n",
    "print(f\"👤 Users: {df['user_id'].nunique()}, 🎵 Items: {df['item_id'].nunique()}\")"
   ]
  },
  {
   "cell_type": "code",
   "execution_count": 38,
   "id": "9848111d",
   "metadata": {},
   "outputs": [
    {
     "name": "stdout",
     "output_type": "stream",
     "text": [
      "Starting interactions info\n",
      "Number of rows: 248344\n",
      "Number of cols: 19241\n",
      "Sparsity: 0.478%\n",
      "Ending interactions info\n",
      "Number of rows: 4644\n",
      "Number of columns: 8938\n",
      "Sparsity: 10.674%\n"
     ]
    }
   ],
   "source": [
    "filtered_df = threshold_interactions_df(df,'user_id','item_id',100,500)"
   ]
  },
  {
   "cell_type": "code",
   "execution_count": 39,
   "id": "525d1954-e772-4a89-a75b-6ed4a33539fc",
   "metadata": {},
   "outputs": [
    {
     "name": "stdout",
     "output_type": "stream",
     "text": [
      "🎯 Sample shape: (1941009, 6)\n",
      "👤 Users: 2000, 🎵 Items: 8938\n",
      "Starting interactions info\n",
      "Number of rows: 2000\n",
      "Number of cols: 8938\n",
      "Sparsity: 10.858%\n",
      "Ending interactions info\n",
      "Number of rows: 1701\n",
      "Number of columns: 5011\n",
      "Sparsity: 17.890%\n",
      "🎯 Sample shape: (1524894, 6)\n"
     ]
    }
   ],
   "source": [
    "# filtered_df = threshold_interactions_df_plus(df, min_items_per_user=500, min_artists_per_user=20, min_genres_per_user=10,min_users_per_item=150)\n",
    "my_seed = 7\n",
    "random.seed(my_seed)\n",
    "np.random.seed(my_seed)\n",
    "sampled_users = np.random.choice(filtered_df['user_id'].unique(), size=2000, replace=False)\n",
    "sampled_df = filtered_df[filtered_df['user_id'].isin(sampled_users)]\n",
    "print(f\"🎯 Sample shape: {sampled_df.shape}\")\n",
    "print(f\"👤 Users: {sampled_df['user_id'].nunique()}, 🎵 Items: {sampled_df['item_id'].nunique()}\")\n",
    "filtered_df = threshold_interactions_df(sampled_df,'user_id','item_id',100,500)\n",
    "print(f\"🎯 Sample shape: {filtered_df.shape}\")"
   ]
  },
  {
   "cell_type": "markdown",
   "id": "8d581b81",
   "metadata": {},
   "source": [
    "Sample shape: (1941009, 6)\n",
    "👤 Users: 2000, 🎵 Items: 8938\n",
    "Starting interactions info\n",
    "Number of rows: 2000\n",
    "Number of cols: 8938\n",
    "Sparsity: 10.858%\n",
    "Ending interactions info\n",
    "Number of rows: 1701\n",
    "Number of columns: 5011\n",
    "Sparsity: 17.890%"
   ]
  },
  {
   "cell_type": "code",
   "execution_count": 42,
   "id": "257f2037",
   "metadata": {},
   "outputs": [
    {
     "data": {
      "application/vnd.microsoft.datawrangler.viewer.v0+json": {
       "columns": [
        {
         "name": "index",
         "rawType": "int64",
         "type": "integer"
        },
        {
         "name": "user_id",
         "rawType": "int64",
         "type": "integer"
        },
        {
         "name": "item_id",
         "rawType": "int64",
         "type": "integer"
        },
        {
         "name": "rating",
         "rawType": "int64",
         "type": "integer"
        },
        {
         "name": "item_type",
         "rawType": "object",
         "type": "string"
        },
        {
         "name": "artist_id",
         "rawType": "int64",
         "type": "integer"
        },
        {
         "name": "genre_ids",
         "rawType": "object",
         "type": "unknown"
        }
       ],
       "conversionMethod": "pd.DataFrame",
       "ref": "66711134-52d8-4c0d-89d7-bc387ed5bde1",
       "rows": [
        [
         "1039",
         "9",
         "182744",
         "30",
         "artist",
         "182744",
         "0"
        ],
        [
         "1040",
         "9",
         "197011",
         "50",
         "artist",
         "197011",
         "0"
        ],
        [
         "1041",
         "9",
         "160820",
         "0",
         "artist",
         "160820",
         "0"
        ],
        [
         "1043",
         "9",
         "59402",
         "30",
         "artist",
         "59402",
         "0"
        ],
        [
         "1044",
         "9",
         "251901",
         "0",
         "artist",
         "251901",
         "0"
        ],
        [
         "1047",
         "9",
         "132234",
         "0",
         "artist",
         "132234",
         "0"
        ],
        [
         "1052",
         "9",
         "2079",
         "30",
         "artist",
         "2079",
         "0"
        ],
        [
         "1058",
         "9",
         "190690",
         "0",
         "artist",
         "190690",
         "0"
        ],
        [
         "1060",
         "9",
         "178744",
         "0",
         "artist",
         "178744",
         "0"
        ],
        [
         "1062",
         "9",
         "61625",
         "0",
         "artist",
         "61625",
         "0"
        ],
        [
         "1064",
         "9",
         "70850",
         "90",
         "artist",
         "70850",
         "0"
        ],
        [
         "1073",
         "9",
         "70636",
         "0",
         "artist",
         "70636",
         "0"
        ],
        [
         "1074",
         "9",
         "12598",
         "90",
         "artist",
         "12598",
         "0"
        ],
        [
         "1083",
         "9",
         "25676",
         "0",
         "artist",
         "25676",
         "0"
        ],
        [
         "1084",
         "9",
         "43570",
         "0",
         "artist",
         "43570",
         "0"
        ],
        [
         "1089",
         "9",
         "278611",
         "0",
         "artist",
         "278611",
         "0"
        ],
        [
         "1090",
         "9",
         "27953",
         "0",
         "artist",
         "27953",
         "0"
        ],
        [
         "1091",
         "9",
         "47263",
         "0",
         "artist",
         "47263",
         "0"
        ],
        [
         "1092",
         "9",
         "199723",
         "0",
         "artist",
         "199723",
         "0"
        ],
        [
         "1093",
         "9",
         "121457",
         "0",
         "artist",
         "121457",
         "0"
        ],
        [
         "1094",
         "9",
         "287417",
         "0",
         "artist",
         "287417",
         "0"
        ],
        [
         "1095",
         "9",
         "171644",
         "0",
         "artist",
         "171644",
         "0"
        ],
        [
         "1096",
         "9",
         "203537",
         "0",
         "artist",
         "203537",
         "0"
        ],
        [
         "1097",
         "9",
         "262443",
         "0",
         "artist",
         "262443",
         "0"
        ],
        [
         "1106",
         "9",
         "232439",
         "0",
         "artist",
         "232439",
         "0"
        ],
        [
         "1107",
         "9",
         "252911",
         "0",
         "artist",
         "252911",
         "0"
        ],
        [
         "1108",
         "9",
         "256396",
         "0",
         "artist",
         "256396",
         "0"
        ],
        [
         "1110",
         "9",
         "50252",
         "0",
         "artist",
         "50252",
         "0"
        ],
        [
         "1113",
         "9",
         "216627",
         "50",
         "artist",
         "216627",
         "0"
        ],
        [
         "1130",
         "9",
         "217690",
         "90",
         "artist",
         "217690",
         "0"
        ],
        [
         "1135",
         "9",
         "120477",
         "90",
         "artist",
         "120477",
         "0"
        ],
        [
         "1140",
         "9",
         "246910",
         "50",
         "artist",
         "246910",
         "0"
        ],
        [
         "1169",
         "9",
         "205958",
         "90",
         "artist",
         "205958",
         "0"
        ],
        [
         "1199",
         "9",
         "155750",
         "0",
         "artist",
         "155750",
         "0"
        ],
        [
         "1211",
         "9",
         "51948",
         "0",
         "artist",
         "51948",
         "0"
        ],
        [
         "1221",
         "9",
         "108526",
         "0",
         "artist",
         "108526",
         "0"
        ],
        [
         "1229",
         "9",
         "284912",
         "0",
         "artist",
         "284912",
         "0"
        ],
        [
         "1230",
         "9",
         "28987",
         "90",
         "artist",
         "28987",
         "0"
        ],
        [
         "1237",
         "9",
         "229178",
         "0",
         "artist",
         "229178",
         "0"
        ],
        [
         "1268",
         "9",
         "48480",
         "50",
         "artist",
         "48480",
         "0"
        ],
        [
         "1290",
         "9",
         "195962",
         "30",
         "artist",
         "195962",
         "0"
        ],
        [
         "1291",
         "9",
         "245387",
         "30",
         "artist",
         "245387",
         "0"
        ],
        [
         "1292",
         "9",
         "34069",
         "30",
         "artist",
         "34069",
         "0"
        ],
        [
         "1293",
         "9",
         "68020",
         "50",
         "artist",
         "68020",
         "0"
        ],
        [
         "1294",
         "9",
         "129099",
         "30",
         "artist",
         "129099",
         "0"
        ],
        [
         "1295",
         "9",
         "143289",
         "30",
         "artist",
         "143289",
         "0"
        ],
        [
         "1296",
         "9",
         "168169",
         "50",
         "artist",
         "168169",
         "0"
        ],
        [
         "1297",
         "9",
         "206831",
         "30",
         "artist",
         "206831",
         "0"
        ],
        [
         "1298",
         "9",
         "226040",
         "0",
         "artist",
         "226040",
         "0"
        ],
        [
         "1299",
         "9",
         "276506",
         "30",
         "artist",
         "276506",
         "0"
        ]
       ],
       "shape": {
        "columns": 6,
        "rows": 1524894
       }
      },
      "text/html": [
       "<div>\n",
       "<style scoped>\n",
       "    .dataframe tbody tr th:only-of-type {\n",
       "        vertical-align: middle;\n",
       "    }\n",
       "\n",
       "    .dataframe tbody tr th {\n",
       "        vertical-align: top;\n",
       "    }\n",
       "\n",
       "    .dataframe thead th {\n",
       "        text-align: right;\n",
       "    }\n",
       "</style>\n",
       "<table border=\"1\" class=\"dataframe\">\n",
       "  <thead>\n",
       "    <tr style=\"text-align: right;\">\n",
       "      <th></th>\n",
       "      <th>user_id</th>\n",
       "      <th>item_id</th>\n",
       "      <th>rating</th>\n",
       "      <th>item_type</th>\n",
       "      <th>artist_id</th>\n",
       "      <th>genre_ids</th>\n",
       "    </tr>\n",
       "  </thead>\n",
       "  <tbody>\n",
       "    <tr>\n",
       "      <th>1039</th>\n",
       "      <td>9</td>\n",
       "      <td>182744</td>\n",
       "      <td>30</td>\n",
       "      <td>artist</td>\n",
       "      <td>182744</td>\n",
       "      <td>0</td>\n",
       "    </tr>\n",
       "    <tr>\n",
       "      <th>1040</th>\n",
       "      <td>9</td>\n",
       "      <td>197011</td>\n",
       "      <td>50</td>\n",
       "      <td>artist</td>\n",
       "      <td>197011</td>\n",
       "      <td>0</td>\n",
       "    </tr>\n",
       "    <tr>\n",
       "      <th>1041</th>\n",
       "      <td>9</td>\n",
       "      <td>160820</td>\n",
       "      <td>0</td>\n",
       "      <td>artist</td>\n",
       "      <td>160820</td>\n",
       "      <td>0</td>\n",
       "    </tr>\n",
       "    <tr>\n",
       "      <th>1043</th>\n",
       "      <td>9</td>\n",
       "      <td>59402</td>\n",
       "      <td>30</td>\n",
       "      <td>artist</td>\n",
       "      <td>59402</td>\n",
       "      <td>0</td>\n",
       "    </tr>\n",
       "    <tr>\n",
       "      <th>1044</th>\n",
       "      <td>9</td>\n",
       "      <td>251901</td>\n",
       "      <td>0</td>\n",
       "      <td>artist</td>\n",
       "      <td>251901</td>\n",
       "      <td>0</td>\n",
       "    </tr>\n",
       "    <tr>\n",
       "      <th>...</th>\n",
       "      <td>...</td>\n",
       "      <td>...</td>\n",
       "      <td>...</td>\n",
       "      <td>...</td>\n",
       "      <td>...</td>\n",
       "      <td>...</td>\n",
       "    </tr>\n",
       "    <tr>\n",
       "      <th>61933948</th>\n",
       "      <td>248947</td>\n",
       "      <td>210727</td>\n",
       "      <td>50</td>\n",
       "      <td>artist</td>\n",
       "      <td>210727</td>\n",
       "      <td>0</td>\n",
       "    </tr>\n",
       "    <tr>\n",
       "      <th>61933956</th>\n",
       "      <td>248947</td>\n",
       "      <td>275456</td>\n",
       "      <td>0</td>\n",
       "      <td>artist</td>\n",
       "      <td>275456</td>\n",
       "      <td>0</td>\n",
       "    </tr>\n",
       "    <tr>\n",
       "      <th>61933959</th>\n",
       "      <td>248947</td>\n",
       "      <td>203741</td>\n",
       "      <td>0</td>\n",
       "      <td>artist</td>\n",
       "      <td>203741</td>\n",
       "      <td>0</td>\n",
       "    </tr>\n",
       "    <tr>\n",
       "      <th>61933965</th>\n",
       "      <td>248947</td>\n",
       "      <td>202602</td>\n",
       "      <td>0</td>\n",
       "      <td>artist</td>\n",
       "      <td>202602</td>\n",
       "      <td>0</td>\n",
       "    </tr>\n",
       "    <tr>\n",
       "      <th>61933966</th>\n",
       "      <td>248947</td>\n",
       "      <td>295880</td>\n",
       "      <td>0</td>\n",
       "      <td>artist</td>\n",
       "      <td>295880</td>\n",
       "      <td>0</td>\n",
       "    </tr>\n",
       "  </tbody>\n",
       "</table>\n",
       "<p>1524894 rows × 6 columns</p>\n",
       "</div>"
      ],
      "text/plain": [
       "          user_id  item_id  rating item_type  artist_id genre_ids\n",
       "1039            9   182744      30    artist     182744         0\n",
       "1040            9   197011      50    artist     197011         0\n",
       "1041            9   160820       0    artist     160820         0\n",
       "1043            9    59402      30    artist      59402         0\n",
       "1044            9   251901       0    artist     251901         0\n",
       "...           ...      ...     ...       ...        ...       ...\n",
       "61933948   248947   210727      50    artist     210727         0\n",
       "61933956   248947   275456       0    artist     275456         0\n",
       "61933959   248947   203741       0    artist     203741         0\n",
       "61933965   248947   202602       0    artist     202602         0\n",
       "61933966   248947   295880       0    artist     295880         0\n",
       "\n",
       "[1524894 rows x 6 columns]"
      ]
     },
     "execution_count": 42,
     "metadata": {},
     "output_type": "execute_result"
    }
   ],
   "source": [
    "filtered_df"
   ]
  },
  {
   "cell_type": "code",
   "execution_count": 90,
   "id": "d8a3f2a9",
   "metadata": {},
   "outputs": [],
   "source": [
    "# export filtered_df \n",
    "filtered_df.to_csv('/Users/camillecu/Downloads/KUL/master_thesis/master_thesis_github/re_sample/filtered_df.csv', index=False)\n",
    "# Load the filtered DataFrame\n",
    "filtered_df = pd.read_csv('/Users/camillecu/Downloads/KUL/master_thesis/master_thesis_github/re_sample/filtered_df.csv')"
   ]
  },
  {
   "cell_type": "code",
   "execution_count": 91,
   "id": "574e2da5",
   "metadata": {},
   "outputs": [],
   "source": [
    "all_user_ids = sorted(filtered_df['user_id'].unique())\n",
    "\n",
    "def split_users_by_ratio(all_user_ids, ratio):\n",
    "    n = len(all_user_ids)\n",
    "    split_point = int(n * ratio)\n",
    "    warm_users = all_user_ids[:split_point]\n",
    "    cold_users = all_user_ids[split_point:]\n",
    "    return warm_users, cold_users\n",
    "\n",
    "# Example ratios from 10% to 50%\n",
    "# ratios = [0.1, 0.2, 0.3, 0.4, 0.5]\n",
    "# splits = {r: split_users_by_ratio(all_user_ids, r) for r in ratios}\n"
   ]
  },
  {
   "cell_type": "markdown",
   "id": "9a4056d4",
   "metadata": {},
   "source": [
    "## 10% warm"
   ]
  },
  {
   "cell_type": "code",
   "execution_count": 92,
   "id": "cfd5f620",
   "metadata": {},
   "outputs": [],
   "source": [
    "warm_users_idx, cold_users_idx = split_users_by_ratio(all_user_ids, 0.1)\n",
    "\n",
    "df_warm = filtered_df[filtered_df['user_id'].isin(warm_users_idx)].copy()\n",
    "df_cold = filtered_df[filtered_df['user_id'].isin(cold_users_idx)].copy()\n",
    "\n",
    "matrix_warm, rid_to_idx_warm, idx_to_rid_warm, cid_to_idx, idx_to_cid = df_to_matrix(\n",
    "    df_warm, \"user_id\", \"item_id\", \"rating\")\n",
    "\n",
    "\n",
    "matrix_cold, rid_to_idx_cold, idx_to_rid_cold, _, _ = df_to_matrix( \n",
    "    df_cold, \"user_id\", \"item_id\", \"rating\")\n",
    "\n"
   ]
  },
  {
   "cell_type": "code",
   "execution_count": 93,
   "id": "5a9d11e2",
   "metadata": {},
   "outputs": [],
   "source": [
    "def split_and_combine(strategy=\"artist-only\"):\n",
    "    \"\"\"Handles both approaches with proper matrix alignment\"\"\"\n",
    "    # Get full cold matrix and mappings\n",
    "    matrix_cold, rid_to_idx_cold, _, cid_to_idx, _ = df_to_matrix(\n",
    "        df_cold, \"user_id\", \"item_id\", \"rating\"\n",
    "    )\n",
    "    matrix_cold = matrix_cold.tocsr()\n",
    "\n",
    "    # Create boolean masks\n",
    "    artist_mask = np.isin(\n",
    "        np.arange(matrix_cold.shape[1]), \n",
    "        [cid_to_idx[iid] for iid in df_cold[df_cold['item_type'] == 'artist']['item_id']]\n",
    "    )\n",
    "    genre_mask = ~artist_mask\n",
    "\n",
    "    # Create aligned matrices\n",
    "    matrix_cold_artist = matrix_cold.multiply(artist_mask)\n",
    "    matrix_cold_genre = matrix_cold.multiply(genre_mask)\n",
    "    matrix_cold_artist = matrix_cold.multiply(artist_mask).tocsr()\n",
    "    matrix_cold_genre = matrix_cold.multiply(genre_mask).tocsr()\n",
    "\n",
    "    al_artist, test_cold, _ = train_test_split(\n",
    "        matrix_cold_artist, \n",
    "        split_count=30,\n",
    "        fraction=None\n",
    "    )\n",
    "    \n",
    "    if strategy == \"artist-only\":\n",
    "        X_cold, K_cold, _ = train_test_split_csr(al_artist, 1)  \n",
    "        return K_cold, X_cold, test_cold\n",
    "    \n",
    "    elif strategy == \"hybrid\":\n",
    "        X_cold, K_cold, _ = train_test_split_csr(al_artist, 1)\n",
    "        X_cold = X_cold + matrix_cold_genre\n",
    "        return K_cold, X_cold, test_cold\n"
   ]
  },
  {
   "cell_type": "code",
   "execution_count": 94,
   "id": "96fa0837",
   "metadata": {},
   "outputs": [],
   "source": [
    "my_seed = 7\n",
    "random.seed(my_seed)\n",
    "np.random.seed(my_seed)\n",
    "\n",
    "train_cold_K_artist, X_cold_artist, test_cold_artist  = split_and_combine(\"artist-only\")\n",
    "train_cold_K_hybrid, X_cold_hybrid, test_cold_hybrid = split_and_combine(\"hybrid\")\n"
   ]
  },
  {
   "cell_type": "code",
   "execution_count": 150,
   "id": "8bb1f22e",
   "metadata": {},
   "outputs": [
    {
     "name": "stdout",
     "output_type": "stream",
     "text": [
      "Cold users in X: 1531\n",
      "Cold items in X: 4793\n",
      "test users in test: 1473\n",
      "test items in test: 3890\n",
      "train users in train: 665\n",
      "train items in train: 576\n",
      "-------------------\n",
      "Shape of test_cold: (1531, 5011)\n",
      "Shape of train_cold: (1531, 5011)\n",
      "Shape of X_cold: (1531, 5011)\n"
     ]
    }
   ],
   "source": [
    "# shape of test_cold\n",
    "\n",
    "print(f\"Cold users in X: {len(np.unique(X_cold_artist.nonzero()[0]))}\")\n",
    "print(f\"Cold items in X: {len(np.unique(X_cold_artist.nonzero()[1]))}\")\n",
    "print(f\"test users in test: {len(np.unique(test_cold_artist.nonzero()[0]))}\")\n",
    "print(f\"test items in test: {len(np.unique(test_cold_artist.nonzero()[1]))}\")\n",
    "print(f\"train users in train: {len(np.unique(train_cold_K_artist.nonzero()[0]))}\")\n",
    "print(f\"train items in train: {len(np.unique(train_cold_K_artist.nonzero()[1]))}\")\n",
    "\n",
    "print(\"-------------------\")\n",
    "\n",
    "# shape of test_cold\n",
    "print(f\"Shape of test_cold: {test_cold_artist.shape}\")\n",
    "print(f\"Shape of train_cold: {train_cold_K_artist.shape}\")\n",
    "print(f\"Shape of X_cold: {X_cold_artist.shape}\")"
   ]
  },
  {
   "cell_type": "markdown",
   "id": "58ac6464",
   "metadata": {},
   "source": [
    "Cold users in X: 1531\n",
    "Cold items in X: 4793\n",
    "test users in test: 1473\n",
    "test items in test: 3890\n",
    "train users in train: 665\n",
    "train items in train: 576\n",
    "-------------------\n",
    "Shape of test_cold: (1531, 5011)\n",
    "Shape of train_cold: (1531, 5011)\n",
    "Shape of X_cold: (1531, 5011)"
   ]
  },
  {
   "cell_type": "code",
   "execution_count": 151,
   "id": "f04337fb",
   "metadata": {},
   "outputs": [
    {
     "name": "stdout",
     "output_type": "stream",
     "text": [
      "Cold users in X: 1531\n",
      "Cold items in X: 5011\n",
      "test users in test: 1475\n",
      "test items in test: 3922\n",
      "train users in train: 668\n",
      "train items in train: 567\n",
      "-------------------\n",
      "Shape of test_cold: (1531, 5011)\n",
      "Shape of train_cold: (1531, 5011)\n",
      "Shape of X_cold: (1531, 5011)\n"
     ]
    }
   ],
   "source": [
    "# shape of test_cold\n",
    "\n",
    "print(f\"Cold users in X: {len(np.unique(X_cold_hybrid.nonzero()[0]))}\")\n",
    "print(f\"Cold items in X: {len(np.unique(X_cold_hybrid.nonzero()[1]))}\")\n",
    "print(f\"test users in test: {len(np.unique(test_cold_hybrid.nonzero()[0]))}\")\n",
    "print(f\"test items in test: {len(np.unique(test_cold_hybrid.nonzero()[1]))}\")\n",
    "print(f\"train users in train: {len(np.unique(train_cold_K_hybrid.nonzero()[0]))}\")\n",
    "print(f\"train items in train: {len(np.unique(train_cold_K_hybrid.nonzero()[1]))}\")\n",
    "\n",
    "print(\"-------------------\")\n",
    "\n",
    "# shape of test_cold\n",
    "print(f\"Shape of test_cold: {test_cold_hybrid.shape}\")\n",
    "print(f\"Shape of train_cold: {train_cold_K_hybrid.shape}\")\n",
    "print(f\"Shape of X_cold: {X_cold_hybrid.shape}\")"
   ]
  },
  {
   "cell_type": "code",
   "execution_count": 152,
   "id": "ebc183fb",
   "metadata": {},
   "outputs": [],
   "source": [
    "from collections import defaultdict\n",
    "\n",
    "\n",
    "def elicitation_by_tree_path_retrain_skiped_warm(Tree, train, test, X, matrix_warm, idx_to_rid_cold, idx_to_rid_warm, idx_to_cid, iteration=5):\n",
    "    \"\"\"\n",
    "    Method 3 (revised): Retrain tree at each round. For each user, traverse from root down the tree.\n",
    "    At each level, if the item was already asked (stored in asked_items), go deeper.\n",
    "    Ask the first item the user hasn't been asked before.\n",
    "\n",
    "    Parameters:\n",
    "    - tree_model_class: class of the decision tree model (not instance)\n",
    "    - train, test, X: lil_matrix (known ratings, test set, and full matrix)\n",
    "    - idx_to_rid, idx_to_cid: index-to-ID mapping\n",
    "    - iteration: number of elicitation rounds\n",
    "\n",
    "    Returns:\n",
    "    - rmse_list, mae_list\n",
    "    \"\"\"\n",
    "\n",
    "    num_users, num_items = train.shape\n",
    "    train_copy = train.tolil().copy()\n",
    "    X_copy = X.tolil().copy()\n",
    "    rmse_list, mae_list = [], []\n",
    "    cid_to_idx = {v: k for k, v in idx_to_cid.items()}\n",
    "    asked_items = {u: set() for u in range(num_users)}  \n",
    "\n",
    "    # Step 0: Baseline evaluation\n",
    "    print(\"🔍 Evaluating baseline RMSE/MAE...\")\n",
    "    train_df = matrix_to_df_2(train_copy, idx_to_rid_cold, idx_to_cid)\n",
    "    reader = Reader(rating_scale=(1, 100))\n",
    "    data_r = Dataset.load_from_df(train_df[['user_id', 'item_id', 'rating']], reader)\n",
    "    trainset = data_r.build_full_trainset()\n",
    "    algo = SVD()\n",
    "    algo.fit(trainset)\n",
    "    test_df = matrix_to_df_2(test, idx_to_rid_cold, idx_to_cid)\n",
    "    test_data = Dataset.load_from_df(test_df[['user_id', 'item_id', 'rating']], reader)\n",
    "    testset = test_data.build_full_trainset().build_testset()\n",
    "    predictions = algo.test(testset)\n",
    "    rmse_list.append(accuracy.rmse(predictions, verbose=True))\n",
    "    mae_list.append(accuracy.mae(predictions, verbose=True))\n",
    "    print(\"✅ Baseline evaluation complete.\")\n",
    "\n",
    "    for i in range(iteration):\n",
    "        print(f\"\\n🔁 Iteration {i+1}/{iteration} (skip asked items, walk from root)\")\n",
    "        # Retrain tree using current train_copy\n",
    "        warm_df = matrix_to_full_df(matrix_warm, idx_to_rid_warm, idx_to_cid)\n",
    "        coldK_df = matrix_to_full_df(train_copy, idx_to_rid_cold, idx_to_cid)\n",
    "        x_df = pd.concat([warm_df, coldK_df], ignore_index=False)\n",
    "\n",
    "        pct = Tree(max_depth=i + 1, min_instances=5)\n",
    "        pct.fit(x_df, x_df)\n",
    "        print(\"🌳 Tree re-trained.\")\n",
    "\n",
    "        for u in range(num_users):\n",
    "            node = pct.root\n",
    "\n",
    "            # Traverse down the tree until we find an unasked item\n",
    "            while node and not node.is_leaf and node.attribute_name:\n",
    "                item = node.attribute_name\n",
    "                if item not in cid_to_idx:\n",
    "                    node = None\n",
    "                    break\n",
    "\n",
    "                item_idx = cid_to_idx[item]\n",
    "\n",
    "                if item_idx in asked_items[u]:\n",
    "                    # Already asked, go deeper based on user's rating\n",
    "                    rating = train_copy[u, item_idx]\n",
    "                    if rating > 50:\n",
    "                        node = node.children[0]\n",
    "                    elif rating > 0:\n",
    "                        node = node.children[1]\n",
    "                    else:\n",
    "                        node = node.children[2]\n",
    "                    continue\n",
    "\n",
    "                # First unasked item: try to add it to training\n",
    "                asked_items[u].add(item_idx)  \n",
    "                rating = X_copy[u, item_idx]\n",
    "                if rating > 0:\n",
    "                    train_copy[u, item_idx] = rating\n",
    "                    X_copy[u, item_idx] = 0\n",
    "                break  # only ask one item per user per iteration\n",
    "\n",
    "        # Step 3: Evaluate with SVD\n",
    "        print(\"📊 Evaluating after this iteration...\")\n",
    "        train_df = matrix_to_df_2(train_copy, idx_to_rid_cold, idx_to_cid)\n",
    "        data_r = Dataset.load_from_df(train_df[['user_id', 'item_id', 'rating']], reader)\n",
    "        trainset = data_r.build_full_trainset()\n",
    "        algo.fit(trainset)\n",
    "        test_df = matrix_to_df_2(test, idx_to_rid_cold, idx_to_cid)\n",
    "        test_data = Dataset.load_from_df(test_df[['user_id', 'item_id', 'rating']], reader)\n",
    "        testset = test_data.build_full_trainset().build_testset()\n",
    "        predictions = algo.test(testset)\n",
    "        rmse_list.append(accuracy.rmse(predictions, verbose=True))\n",
    "        mae_list.append(accuracy.mae(predictions, verbose=True))\n",
    "        print(f\"✅ Iteration {i+1} complete.\")\n",
    "\n",
    "    return rmse_list, mae_list"
   ]
  },
  {
   "cell_type": "markdown",
   "id": "f40bce66",
   "metadata": {},
   "source": [
    "## run 10% again"
   ]
  },
  {
   "cell_type": "code",
   "execution_count": 153,
   "id": "711dffbe",
   "metadata": {},
   "outputs": [
    {
     "name": "stdout",
     "output_type": "stream",
     "text": [
      "🔍 Evaluating baseline RMSE/MAE...\n",
      "RMSE: 51.9847\n",
      "MAE:  45.0400\n",
      "✅ Baseline evaluation complete.\n",
      "\n",
      "🔁 Iteration 1/7 (skip asked items, walk from root)\n"
     ]
    },
    {
     "name": "stderr",
     "output_type": "stream",
     "text": [
      "/Users/camillecu/Downloads/KUL/master_thesis/master_thesis_github/pct/tree/utils.py:45: RuntimeWarning: divide by zero encountered in divide\n",
      "  weights = 1/var\n",
      "/Users/camillecu/Downloads/KUL/master_thesis/master_thesis_github/pct/tree/utils.py:47: UserWarning: At least one of the target variables is constant, setting its weight to 0.\n",
      "  warnings.warn(\"At least one of the target variables is constant, setting its weight to 0.\")\n"
     ]
    },
    {
     "name": "stdout",
     "output_type": "stream",
     "text": [
      "Initializing Splitter...\n",
      "✅ Calling build()...\n",
      "✅ Tree built successfully!\n",
      "🌳 Tree re-trained.\n",
      "📊 Evaluating after this iteration...\n",
      "RMSE: 52.0196\n",
      "MAE:  45.0786\n",
      "✅ Iteration 1 complete.\n",
      "\n",
      "🔁 Iteration 2/7 (skip asked items, walk from root)\n"
     ]
    },
    {
     "name": "stderr",
     "output_type": "stream",
     "text": [
      "/Users/camillecu/Downloads/KUL/master_thesis/master_thesis_github/pct/tree/utils.py:45: RuntimeWarning: divide by zero encountered in divide\n",
      "  weights = 1/var\n",
      "/Users/camillecu/Downloads/KUL/master_thesis/master_thesis_github/pct/tree/utils.py:47: UserWarning: At least one of the target variables is constant, setting its weight to 0.\n",
      "  warnings.warn(\"At least one of the target variables is constant, setting its weight to 0.\")\n"
     ]
    },
    {
     "name": "stdout",
     "output_type": "stream",
     "text": [
      "Initializing Splitter...\n",
      "✅ Calling build()...\n",
      "✅ Tree built successfully!\n",
      "🌳 Tree re-trained.\n",
      "📊 Evaluating after this iteration...\n",
      "RMSE: 47.9907\n",
      "MAE:  40.7536\n",
      "✅ Iteration 2 complete.\n",
      "\n",
      "🔁 Iteration 3/7 (skip asked items, walk from root)\n"
     ]
    },
    {
     "name": "stderr",
     "output_type": "stream",
     "text": [
      "/Users/camillecu/Downloads/KUL/master_thesis/master_thesis_github/pct/tree/utils.py:45: RuntimeWarning: divide by zero encountered in divide\n",
      "  weights = 1/var\n",
      "/Users/camillecu/Downloads/KUL/master_thesis/master_thesis_github/pct/tree/utils.py:47: UserWarning: At least one of the target variables is constant, setting its weight to 0.\n",
      "  warnings.warn(\"At least one of the target variables is constant, setting its weight to 0.\")\n"
     ]
    },
    {
     "name": "stdout",
     "output_type": "stream",
     "text": [
      "Initializing Splitter...\n",
      "✅ Calling build()...\n",
      "✅ Tree built successfully!\n",
      "🌳 Tree re-trained.\n",
      "📊 Evaluating after this iteration...\n",
      "RMSE: 46.1414\n",
      "MAE:  38.7660\n",
      "✅ Iteration 3 complete.\n",
      "\n",
      "🔁 Iteration 4/7 (skip asked items, walk from root)\n"
     ]
    },
    {
     "name": "stderr",
     "output_type": "stream",
     "text": [
      "/Users/camillecu/Downloads/KUL/master_thesis/master_thesis_github/pct/tree/utils.py:45: RuntimeWarning: divide by zero encountered in divide\n",
      "  weights = 1/var\n",
      "/Users/camillecu/Downloads/KUL/master_thesis/master_thesis_github/pct/tree/utils.py:47: UserWarning: At least one of the target variables is constant, setting its weight to 0.\n",
      "  warnings.warn(\"At least one of the target variables is constant, setting its weight to 0.\")\n"
     ]
    },
    {
     "name": "stdout",
     "output_type": "stream",
     "text": [
      "Initializing Splitter...\n",
      "✅ Calling build()...\n",
      "✅ Tree built successfully!\n",
      "🌳 Tree re-trained.\n",
      "📊 Evaluating after this iteration...\n",
      "RMSE: 44.8582\n",
      "MAE:  37.3751\n",
      "✅ Iteration 4 complete.\n",
      "\n",
      "🔁 Iteration 5/7 (skip asked items, walk from root)\n"
     ]
    },
    {
     "name": "stderr",
     "output_type": "stream",
     "text": [
      "/Users/camillecu/Downloads/KUL/master_thesis/master_thesis_github/pct/tree/utils.py:45: RuntimeWarning: divide by zero encountered in divide\n",
      "  weights = 1/var\n",
      "/Users/camillecu/Downloads/KUL/master_thesis/master_thesis_github/pct/tree/utils.py:47: UserWarning: At least one of the target variables is constant, setting its weight to 0.\n",
      "  warnings.warn(\"At least one of the target variables is constant, setting its weight to 0.\")\n"
     ]
    },
    {
     "name": "stdout",
     "output_type": "stream",
     "text": [
      "Initializing Splitter...\n",
      "✅ Calling build()...\n"
     ]
    },
    {
     "name": "stderr",
     "output_type": "stream",
     "text": [
      "/Users/camillecu/Downloads/KUL/master_thesis/master_thesis_github/pct/tree/node/node.py:73: RuntimeWarning: invalid value encountered in divide\n",
      "  prototype /= np.sum(\n",
      "/Users/camillecu/Downloads/KUL/master_thesis/master_thesis_github/pct/tree/node/node.py:73: RuntimeWarning: invalid value encountered in divide\n",
      "  prototype /= np.sum(\n",
      "/Users/camillecu/Downloads/KUL/master_thesis/master_thesis_github/pct/tree/node/node.py:73: RuntimeWarning: invalid value encountered in divide\n",
      "  prototype /= np.sum(\n",
      "/Users/camillecu/Downloads/KUL/master_thesis/master_thesis_github/pct/tree/node/node.py:73: RuntimeWarning: invalid value encountered in divide\n",
      "  prototype /= np.sum(\n"
     ]
    },
    {
     "name": "stdout",
     "output_type": "stream",
     "text": [
      "✅ Tree built successfully!\n",
      "🌳 Tree re-trained.\n",
      "📊 Evaluating after this iteration...\n",
      "RMSE: 44.2371\n",
      "MAE:  36.7140\n",
      "✅ Iteration 5 complete.\n",
      "\n",
      "🔁 Iteration 6/7 (skip asked items, walk from root)\n"
     ]
    },
    {
     "name": "stderr",
     "output_type": "stream",
     "text": [
      "/Users/camillecu/Downloads/KUL/master_thesis/master_thesis_github/pct/tree/utils.py:45: RuntimeWarning: divide by zero encountered in divide\n",
      "  weights = 1/var\n",
      "/Users/camillecu/Downloads/KUL/master_thesis/master_thesis_github/pct/tree/utils.py:47: UserWarning: At least one of the target variables is constant, setting its weight to 0.\n",
      "  warnings.warn(\"At least one of the target variables is constant, setting its weight to 0.\")\n"
     ]
    },
    {
     "name": "stdout",
     "output_type": "stream",
     "text": [
      "Initializing Splitter...\n",
      "✅ Calling build()...\n"
     ]
    },
    {
     "name": "stderr",
     "output_type": "stream",
     "text": [
      "/Users/camillecu/Downloads/KUL/master_thesis/master_thesis_github/pct/tree/node/node.py:73: RuntimeWarning: invalid value encountered in divide\n",
      "  prototype /= np.sum(\n",
      "/Users/camillecu/Downloads/KUL/master_thesis/master_thesis_github/pct/tree/node/node.py:73: RuntimeWarning: invalid value encountered in divide\n",
      "  prototype /= np.sum(\n",
      "/Users/camillecu/Downloads/KUL/master_thesis/master_thesis_github/pct/tree/node/node.py:73: RuntimeWarning: invalid value encountered in divide\n",
      "  prototype /= np.sum(\n",
      "/Users/camillecu/Downloads/KUL/master_thesis/master_thesis_github/pct/tree/node/node.py:73: RuntimeWarning: invalid value encountered in divide\n",
      "  prototype /= np.sum(\n",
      "/Users/camillecu/Downloads/KUL/master_thesis/master_thesis_github/pct/tree/node/node.py:73: RuntimeWarning: invalid value encountered in divide\n",
      "  prototype /= np.sum(\n",
      "/Users/camillecu/Downloads/KUL/master_thesis/master_thesis_github/pct/tree/node/node.py:73: RuntimeWarning: invalid value encountered in divide\n",
      "  prototype /= np.sum(\n",
      "/Users/camillecu/Downloads/KUL/master_thesis/master_thesis_github/pct/tree/node/node.py:73: RuntimeWarning: invalid value encountered in divide\n",
      "  prototype /= np.sum(\n",
      "/Users/camillecu/Downloads/KUL/master_thesis/master_thesis_github/pct/tree/node/node.py:73: RuntimeWarning: invalid value encountered in divide\n",
      "  prototype /= np.sum(\n",
      "/Users/camillecu/Downloads/KUL/master_thesis/master_thesis_github/pct/tree/node/node.py:73: RuntimeWarning: invalid value encountered in divide\n",
      "  prototype /= np.sum(\n",
      "/Users/camillecu/Downloads/KUL/master_thesis/master_thesis_github/pct/tree/node/node.py:73: RuntimeWarning: invalid value encountered in divide\n",
      "  prototype /= np.sum(\n",
      "/Users/camillecu/Downloads/KUL/master_thesis/master_thesis_github/pct/tree/node/node.py:73: RuntimeWarning: invalid value encountered in divide\n",
      "  prototype /= np.sum(\n",
      "/Users/camillecu/Downloads/KUL/master_thesis/master_thesis_github/pct/tree/node/node.py:73: RuntimeWarning: invalid value encountered in divide\n",
      "  prototype /= np.sum(\n",
      "/Users/camillecu/Downloads/KUL/master_thesis/master_thesis_github/pct/tree/node/node.py:73: RuntimeWarning: invalid value encountered in divide\n",
      "  prototype /= np.sum(\n",
      "/Users/camillecu/Downloads/KUL/master_thesis/master_thesis_github/pct/tree/node/node.py:73: RuntimeWarning: invalid value encountered in divide\n",
      "  prototype /= np.sum(\n",
      "/Users/camillecu/Downloads/KUL/master_thesis/master_thesis_github/pct/tree/node/node.py:73: RuntimeWarning: invalid value encountered in divide\n",
      "  prototype /= np.sum(\n",
      "/Users/camillecu/Downloads/KUL/master_thesis/master_thesis_github/pct/tree/node/node.py:73: RuntimeWarning: invalid value encountered in divide\n",
      "  prototype /= np.sum(\n",
      "/Users/camillecu/Downloads/KUL/master_thesis/master_thesis_github/pct/tree/node/node.py:73: RuntimeWarning: invalid value encountered in divide\n",
      "  prototype /= np.sum(\n",
      "/Users/camillecu/Downloads/KUL/master_thesis/master_thesis_github/pct/tree/node/node.py:73: RuntimeWarning: invalid value encountered in divide\n",
      "  prototype /= np.sum(\n",
      "/Users/camillecu/Downloads/KUL/master_thesis/master_thesis_github/pct/tree/node/node.py:73: RuntimeWarning: invalid value encountered in divide\n",
      "  prototype /= np.sum(\n",
      "/Users/camillecu/Downloads/KUL/master_thesis/master_thesis_github/pct/tree/node/node.py:73: RuntimeWarning: invalid value encountered in divide\n",
      "  prototype /= np.sum(\n",
      "/Users/camillecu/Downloads/KUL/master_thesis/master_thesis_github/pct/tree/node/node.py:73: RuntimeWarning: invalid value encountered in divide\n",
      "  prototype /= np.sum(\n",
      "/Users/camillecu/Downloads/KUL/master_thesis/master_thesis_github/pct/tree/node/node.py:73: RuntimeWarning: invalid value encountered in divide\n",
      "  prototype /= np.sum(\n",
      "/Users/camillecu/Downloads/KUL/master_thesis/master_thesis_github/pct/tree/node/node.py:73: RuntimeWarning: invalid value encountered in divide\n",
      "  prototype /= np.sum(\n"
     ]
    },
    {
     "name": "stdout",
     "output_type": "stream",
     "text": [
      "✅ Tree built successfully!\n",
      "🌳 Tree re-trained.\n",
      "📊 Evaluating after this iteration...\n",
      "RMSE: 43.2880\n",
      "MAE:  35.6715\n",
      "✅ Iteration 6 complete.\n",
      "\n",
      "🔁 Iteration 7/7 (skip asked items, walk from root)\n"
     ]
    },
    {
     "name": "stderr",
     "output_type": "stream",
     "text": [
      "/Users/camillecu/Downloads/KUL/master_thesis/master_thesis_github/pct/tree/utils.py:45: RuntimeWarning: divide by zero encountered in divide\n",
      "  weights = 1/var\n",
      "/Users/camillecu/Downloads/KUL/master_thesis/master_thesis_github/pct/tree/utils.py:47: UserWarning: At least one of the target variables is constant, setting its weight to 0.\n",
      "  warnings.warn(\"At least one of the target variables is constant, setting its weight to 0.\")\n"
     ]
    },
    {
     "name": "stdout",
     "output_type": "stream",
     "text": [
      "Initializing Splitter...\n",
      "✅ Calling build()...\n"
     ]
    },
    {
     "name": "stderr",
     "output_type": "stream",
     "text": [
      "/Users/camillecu/Downloads/KUL/master_thesis/master_thesis_github/pct/tree/node/node.py:73: RuntimeWarning: invalid value encountered in divide\n",
      "  prototype /= np.sum(\n",
      "/Users/camillecu/Downloads/KUL/master_thesis/master_thesis_github/pct/tree/node/node.py:73: RuntimeWarning: invalid value encountered in divide\n",
      "  prototype /= np.sum(\n",
      "/Users/camillecu/Downloads/KUL/master_thesis/master_thesis_github/pct/tree/node/node.py:73: RuntimeWarning: invalid value encountered in divide\n",
      "  prototype /= np.sum(\n",
      "/Users/camillecu/Downloads/KUL/master_thesis/master_thesis_github/pct/tree/node/node.py:73: RuntimeWarning: invalid value encountered in divide\n",
      "  prototype /= np.sum(\n",
      "/Users/camillecu/Downloads/KUL/master_thesis/master_thesis_github/pct/tree/node/node.py:73: RuntimeWarning: invalid value encountered in divide\n",
      "  prototype /= np.sum(\n",
      "/Users/camillecu/Downloads/KUL/master_thesis/master_thesis_github/pct/tree/node/node.py:73: RuntimeWarning: invalid value encountered in divide\n",
      "  prototype /= np.sum(\n",
      "/Users/camillecu/Downloads/KUL/master_thesis/master_thesis_github/pct/tree/node/node.py:73: RuntimeWarning: invalid value encountered in divide\n",
      "  prototype /= np.sum(\n",
      "/Users/camillecu/Downloads/KUL/master_thesis/master_thesis_github/pct/tree/node/node.py:73: RuntimeWarning: invalid value encountered in divide\n",
      "  prototype /= np.sum(\n",
      "/Users/camillecu/Downloads/KUL/master_thesis/master_thesis_github/pct/tree/node/node.py:73: RuntimeWarning: invalid value encountered in divide\n",
      "  prototype /= np.sum(\n",
      "/Users/camillecu/Downloads/KUL/master_thesis/master_thesis_github/pct/tree/node/node.py:73: RuntimeWarning: invalid value encountered in divide\n",
      "  prototype /= np.sum(\n",
      "/Users/camillecu/Downloads/KUL/master_thesis/master_thesis_github/pct/tree/node/node.py:73: RuntimeWarning: invalid value encountered in divide\n",
      "  prototype /= np.sum(\n",
      "/Users/camillecu/Downloads/KUL/master_thesis/master_thesis_github/pct/tree/node/node.py:73: RuntimeWarning: invalid value encountered in divide\n",
      "  prototype /= np.sum(\n",
      "/Users/camillecu/Downloads/KUL/master_thesis/master_thesis_github/pct/tree/node/node.py:73: RuntimeWarning: invalid value encountered in divide\n",
      "  prototype /= np.sum(\n",
      "/Users/camillecu/Downloads/KUL/master_thesis/master_thesis_github/pct/tree/node/node.py:73: RuntimeWarning: invalid value encountered in divide\n",
      "  prototype /= np.sum(\n",
      "/Users/camillecu/Downloads/KUL/master_thesis/master_thesis_github/pct/tree/node/node.py:73: RuntimeWarning: invalid value encountered in divide\n",
      "  prototype /= np.sum(\n",
      "/Users/camillecu/Downloads/KUL/master_thesis/master_thesis_github/pct/tree/node/node.py:73: RuntimeWarning: invalid value encountered in divide\n",
      "  prototype /= np.sum(\n",
      "/Users/camillecu/Downloads/KUL/master_thesis/master_thesis_github/pct/tree/node/node.py:73: RuntimeWarning: invalid value encountered in divide\n",
      "  prototype /= np.sum(\n",
      "/Users/camillecu/Downloads/KUL/master_thesis/master_thesis_github/pct/tree/node/node.py:73: RuntimeWarning: invalid value encountered in divide\n",
      "  prototype /= np.sum(\n",
      "/Users/camillecu/Downloads/KUL/master_thesis/master_thesis_github/pct/tree/node/node.py:73: RuntimeWarning: invalid value encountered in divide\n",
      "  prototype /= np.sum(\n",
      "/Users/camillecu/Downloads/KUL/master_thesis/master_thesis_github/pct/tree/node/node.py:73: RuntimeWarning: invalid value encountered in divide\n",
      "  prototype /= np.sum(\n",
      "/Users/camillecu/Downloads/KUL/master_thesis/master_thesis_github/pct/tree/node/node.py:73: RuntimeWarning: invalid value encountered in divide\n",
      "  prototype /= np.sum(\n",
      "/Users/camillecu/Downloads/KUL/master_thesis/master_thesis_github/pct/tree/node/node.py:73: RuntimeWarning: invalid value encountered in divide\n",
      "  prototype /= np.sum(\n",
      "/Users/camillecu/Downloads/KUL/master_thesis/master_thesis_github/pct/tree/node/node.py:73: RuntimeWarning: invalid value encountered in divide\n",
      "  prototype /= np.sum(\n",
      "/Users/camillecu/Downloads/KUL/master_thesis/master_thesis_github/pct/tree/node/node.py:73: RuntimeWarning: invalid value encountered in divide\n",
      "  prototype /= np.sum(\n",
      "/Users/camillecu/Downloads/KUL/master_thesis/master_thesis_github/pct/tree/node/node.py:73: RuntimeWarning: invalid value encountered in divide\n",
      "  prototype /= np.sum(\n",
      "/Users/camillecu/Downloads/KUL/master_thesis/master_thesis_github/pct/tree/node/node.py:73: RuntimeWarning: invalid value encountered in divide\n",
      "  prototype /= np.sum(\n",
      "/Users/camillecu/Downloads/KUL/master_thesis/master_thesis_github/pct/tree/node/node.py:73: RuntimeWarning: invalid value encountered in divide\n",
      "  prototype /= np.sum(\n",
      "/Users/camillecu/Downloads/KUL/master_thesis/master_thesis_github/pct/tree/node/node.py:73: RuntimeWarning: invalid value encountered in divide\n",
      "  prototype /= np.sum(\n",
      "/Users/camillecu/Downloads/KUL/master_thesis/master_thesis_github/pct/tree/node/node.py:73: RuntimeWarning: invalid value encountered in divide\n",
      "  prototype /= np.sum(\n",
      "/Users/camillecu/Downloads/KUL/master_thesis/master_thesis_github/pct/tree/node/node.py:73: RuntimeWarning: invalid value encountered in divide\n",
      "  prototype /= np.sum(\n",
      "/Users/camillecu/Downloads/KUL/master_thesis/master_thesis_github/pct/tree/node/node.py:73: RuntimeWarning: invalid value encountered in divide\n",
      "  prototype /= np.sum(\n",
      "/Users/camillecu/Downloads/KUL/master_thesis/master_thesis_github/pct/tree/node/node.py:73: RuntimeWarning: invalid value encountered in divide\n",
      "  prototype /= np.sum(\n",
      "/Users/camillecu/Downloads/KUL/master_thesis/master_thesis_github/pct/tree/node/node.py:73: RuntimeWarning: invalid value encountered in divide\n",
      "  prototype /= np.sum(\n",
      "/Users/camillecu/Downloads/KUL/master_thesis/master_thesis_github/pct/tree/node/node.py:73: RuntimeWarning: invalid value encountered in divide\n",
      "  prototype /= np.sum(\n",
      "/Users/camillecu/Downloads/KUL/master_thesis/master_thesis_github/pct/tree/node/node.py:73: RuntimeWarning: invalid value encountered in divide\n",
      "  prototype /= np.sum(\n",
      "/Users/camillecu/Downloads/KUL/master_thesis/master_thesis_github/pct/tree/node/node.py:73: RuntimeWarning: invalid value encountered in divide\n",
      "  prototype /= np.sum(\n",
      "/Users/camillecu/Downloads/KUL/master_thesis/master_thesis_github/pct/tree/node/node.py:73: RuntimeWarning: invalid value encountered in divide\n",
      "  prototype /= np.sum(\n",
      "/Users/camillecu/Downloads/KUL/master_thesis/master_thesis_github/pct/tree/node/node.py:73: RuntimeWarning: invalid value encountered in divide\n",
      "  prototype /= np.sum(\n",
      "/Users/camillecu/Downloads/KUL/master_thesis/master_thesis_github/pct/tree/node/node.py:73: RuntimeWarning: invalid value encountered in divide\n",
      "  prototype /= np.sum(\n",
      "/Users/camillecu/Downloads/KUL/master_thesis/master_thesis_github/pct/tree/node/node.py:73: RuntimeWarning: invalid value encountered in divide\n",
      "  prototype /= np.sum(\n",
      "/Users/camillecu/Downloads/KUL/master_thesis/master_thesis_github/pct/tree/node/node.py:73: RuntimeWarning: invalid value encountered in divide\n",
      "  prototype /= np.sum(\n",
      "/Users/camillecu/Downloads/KUL/master_thesis/master_thesis_github/pct/tree/node/node.py:73: RuntimeWarning: invalid value encountered in divide\n",
      "  prototype /= np.sum(\n",
      "/Users/camillecu/Downloads/KUL/master_thesis/master_thesis_github/pct/tree/node/node.py:73: RuntimeWarning: invalid value encountered in divide\n",
      "  prototype /= np.sum(\n",
      "/Users/camillecu/Downloads/KUL/master_thesis/master_thesis_github/pct/tree/node/node.py:73: RuntimeWarning: invalid value encountered in divide\n",
      "  prototype /= np.sum(\n",
      "/Users/camillecu/Downloads/KUL/master_thesis/master_thesis_github/pct/tree/node/node.py:73: RuntimeWarning: invalid value encountered in divide\n",
      "  prototype /= np.sum(\n",
      "/Users/camillecu/Downloads/KUL/master_thesis/master_thesis_github/pct/tree/node/node.py:73: RuntimeWarning: invalid value encountered in divide\n",
      "  prototype /= np.sum(\n",
      "/Users/camillecu/Downloads/KUL/master_thesis/master_thesis_github/pct/tree/node/node.py:73: RuntimeWarning: invalid value encountered in divide\n",
      "  prototype /= np.sum(\n",
      "/Users/camillecu/Downloads/KUL/master_thesis/master_thesis_github/pct/tree/node/node.py:73: RuntimeWarning: invalid value encountered in divide\n",
      "  prototype /= np.sum(\n",
      "/Users/camillecu/Downloads/KUL/master_thesis/master_thesis_github/pct/tree/node/node.py:73: RuntimeWarning: invalid value encountered in divide\n",
      "  prototype /= np.sum(\n"
     ]
    },
    {
     "name": "stdout",
     "output_type": "stream",
     "text": [
      "✅ Tree built successfully!\n",
      "🌳 Tree re-trained.\n",
      "📊 Evaluating after this iteration...\n",
      "RMSE: 42.4831\n",
      "MAE:  34.7866\n",
      "✅ Iteration 7 complete.\n"
     ]
    }
   ],
   "source": [
    "import warnings\n",
    "warnings.simplefilter(action='ignore', category=FutureWarning)\n",
    "\n",
    "pct_artist_10_new = elicitation_by_tree_path_retrain_skiped_warm(\n",
    "    Tree=Tree,\n",
    "    train=train_cold_K_artist,\n",
    "    test=test_cold_artist,\n",
    "    X=X_cold_artist,\n",
    "    matrix_warm=matrix_warm,\n",
    "    idx_to_rid_cold=idx_to_rid_cold,\n",
    "    idx_to_rid_warm=idx_to_rid_warm,\n",
    "    idx_to_cid=idx_to_cid,\n",
    "    iteration=7\n",
    ")"
   ]
  },
  {
   "cell_type": "markdown",
   "id": "dcb06476",
   "metadata": {},
   "source": [
    "# X with artist only"
   ]
  },
  {
   "cell_type": "code",
   "execution_count": 48,
   "id": "83dafeb7",
   "metadata": {},
   "outputs": [
    {
     "name": "stdout",
     "output_type": "stream",
     "text": [
      "🔍 Evaluating baseline RMSE/MAE...\n",
      "RMSE: 52.3183\n",
      "MAE:  45.3803\n",
      "✅ Baseline evaluation complete.\n",
      "\n",
      "🔁 Iteration 1/5 (skip asked items, walk from root)\n"
     ]
    },
    {
     "name": "stderr",
     "output_type": "stream",
     "text": [
      "/Users/camillecu/Downloads/KUL/master_thesis/master_thesis_github/pct/tree/utils.py:45: RuntimeWarning: divide by zero encountered in divide\n",
      "  weights = 1/var\n",
      "/Users/camillecu/Downloads/KUL/master_thesis/master_thesis_github/pct/tree/utils.py:47: UserWarning: At least one of the target variables is constant, setting its weight to 0.\n",
      "  warnings.warn(\"At least one of the target variables is constant, setting its weight to 0.\")\n"
     ]
    },
    {
     "name": "stdout",
     "output_type": "stream",
     "text": [
      "Initializing Splitter...\n",
      "✅ Calling build()...\n",
      "✅ Tree built successfully!\n",
      "🌳 Tree re-trained.\n",
      "📊 Evaluating after this iteration...\n",
      "RMSE: 52.3011\n",
      "MAE:  45.3699\n",
      "✅ Iteration 1 complete.\n",
      "\n",
      "🔁 Iteration 2/5 (skip asked items, walk from root)\n"
     ]
    },
    {
     "name": "stderr",
     "output_type": "stream",
     "text": [
      "/Users/camillecu/Downloads/KUL/master_thesis/master_thesis_github/pct/tree/utils.py:45: RuntimeWarning: divide by zero encountered in divide\n",
      "  weights = 1/var\n",
      "/Users/camillecu/Downloads/KUL/master_thesis/master_thesis_github/pct/tree/utils.py:47: UserWarning: At least one of the target variables is constant, setting its weight to 0.\n",
      "  warnings.warn(\"At least one of the target variables is constant, setting its weight to 0.\")\n"
     ]
    },
    {
     "name": "stdout",
     "output_type": "stream",
     "text": [
      "Initializing Splitter...\n",
      "✅ Calling build()...\n",
      "✅ Tree built successfully!\n",
      "🌳 Tree re-trained.\n",
      "📊 Evaluating after this iteration...\n",
      "RMSE: 48.2681\n",
      "MAE:  41.0345\n",
      "✅ Iteration 2 complete.\n",
      "\n",
      "🔁 Iteration 3/5 (skip asked items, walk from root)\n"
     ]
    },
    {
     "name": "stderr",
     "output_type": "stream",
     "text": [
      "/Users/camillecu/Downloads/KUL/master_thesis/master_thesis_github/pct/tree/utils.py:45: RuntimeWarning: divide by zero encountered in divide\n",
      "  weights = 1/var\n",
      "/Users/camillecu/Downloads/KUL/master_thesis/master_thesis_github/pct/tree/utils.py:47: UserWarning: At least one of the target variables is constant, setting its weight to 0.\n",
      "  warnings.warn(\"At least one of the target variables is constant, setting its weight to 0.\")\n"
     ]
    },
    {
     "name": "stdout",
     "output_type": "stream",
     "text": [
      "Initializing Splitter...\n",
      "✅ Calling build()...\n",
      "✅ Tree built successfully!\n",
      "🌳 Tree re-trained.\n",
      "📊 Evaluating after this iteration...\n",
      "RMSE: 46.8239\n",
      "MAE:  39.4838\n",
      "✅ Iteration 3 complete.\n",
      "\n",
      "🔁 Iteration 4/5 (skip asked items, walk from root)\n"
     ]
    },
    {
     "name": "stderr",
     "output_type": "stream",
     "text": [
      "/Users/camillecu/Downloads/KUL/master_thesis/master_thesis_github/pct/tree/utils.py:45: RuntimeWarning: divide by zero encountered in divide\n",
      "  weights = 1/var\n",
      "/Users/camillecu/Downloads/KUL/master_thesis/master_thesis_github/pct/tree/utils.py:47: UserWarning: At least one of the target variables is constant, setting its weight to 0.\n",
      "  warnings.warn(\"At least one of the target variables is constant, setting its weight to 0.\")\n"
     ]
    },
    {
     "name": "stdout",
     "output_type": "stream",
     "text": [
      "Initializing Splitter...\n",
      "✅ Calling build()...\n",
      "✅ Tree built successfully!\n",
      "🌳 Tree re-trained.\n",
      "📊 Evaluating after this iteration...\n",
      "RMSE: 45.4613\n",
      "MAE:  38.0267\n",
      "✅ Iteration 4 complete.\n",
      "\n",
      "🔁 Iteration 5/5 (skip asked items, walk from root)\n"
     ]
    },
    {
     "name": "stderr",
     "output_type": "stream",
     "text": [
      "/Users/camillecu/Downloads/KUL/master_thesis/master_thesis_github/pct/tree/utils.py:45: RuntimeWarning: divide by zero encountered in divide\n",
      "  weights = 1/var\n",
      "/Users/camillecu/Downloads/KUL/master_thesis/master_thesis_github/pct/tree/utils.py:47: UserWarning: At least one of the target variables is constant, setting its weight to 0.\n",
      "  warnings.warn(\"At least one of the target variables is constant, setting its weight to 0.\")\n"
     ]
    },
    {
     "name": "stdout",
     "output_type": "stream",
     "text": [
      "Initializing Splitter...\n",
      "✅ Calling build()...\n"
     ]
    },
    {
     "name": "stderr",
     "output_type": "stream",
     "text": [
      "/Users/camillecu/Downloads/KUL/master_thesis/master_thesis_github/pct/tree/node/node.py:73: RuntimeWarning: invalid value encountered in divide\n",
      "  prototype /= np.sum(\n"
     ]
    },
    {
     "name": "stdout",
     "output_type": "stream",
     "text": [
      "✅ Tree built successfully!\n",
      "🌳 Tree re-trained.\n",
      "📊 Evaluating after this iteration...\n",
      "RMSE: 44.7911\n",
      "MAE:  37.2874\n",
      "✅ Iteration 5 complete.\n"
     ]
    }
   ],
   "source": [
    "import warnings\n",
    "warnings.simplefilter(action='ignore', category=FutureWarning)\n",
    "\n",
    "pct_artist_10 = elicitation_by_tree_path_retrain_skiped_warm(\n",
    "    Tree=Tree,\n",
    "    train=train_cold_K_artist,\n",
    "    test=test_cold_artist,\n",
    "    X=X_cold_artist,\n",
    "    matrix_warm=matrix_warm,\n",
    "    idx_to_rid_cold=idx_to_rid_cold,\n",
    "    idx_to_rid_warm=idx_to_rid_warm,\n",
    "    idx_to_cid=idx_to_cid,\n",
    "    iteration=5\n",
    ")"
   ]
  },
  {
   "cell_type": "markdown",
   "id": "b3d8fa30",
   "metadata": {},
   "source": [
    "# X with artist + genre"
   ]
  },
  {
   "cell_type": "code",
   "execution_count": 49,
   "id": "d1b83b94",
   "metadata": {},
   "outputs": [
    {
     "name": "stdout",
     "output_type": "stream",
     "text": [
      "🔍 Evaluating baseline RMSE/MAE...\n",
      "RMSE: 51.9772\n",
      "MAE:  44.9848\n",
      "✅ Baseline evaluation complete.\n",
      "\n",
      "🔁 Iteration 1/7 (skip asked items, walk from root)\n"
     ]
    },
    {
     "name": "stderr",
     "output_type": "stream",
     "text": [
      "/Users/camillecu/Downloads/KUL/master_thesis/master_thesis_github/pct/tree/utils.py:45: RuntimeWarning: divide by zero encountered in divide\n",
      "  weights = 1/var\n",
      "/Users/camillecu/Downloads/KUL/master_thesis/master_thesis_github/pct/tree/utils.py:47: UserWarning: At least one of the target variables is constant, setting its weight to 0.\n",
      "  warnings.warn(\"At least one of the target variables is constant, setting its weight to 0.\")\n"
     ]
    },
    {
     "name": "stdout",
     "output_type": "stream",
     "text": [
      "Initializing Splitter...\n",
      "✅ Calling build()...\n",
      "✅ Tree built successfully!\n",
      "🌳 Tree re-trained.\n",
      "📊 Evaluating after this iteration...\n",
      "RMSE: 48.9743\n",
      "MAE:  41.7818\n",
      "✅ Iteration 1 complete.\n",
      "\n",
      "🔁 Iteration 2/7 (skip asked items, walk from root)\n"
     ]
    },
    {
     "name": "stderr",
     "output_type": "stream",
     "text": [
      "/Users/camillecu/Downloads/KUL/master_thesis/master_thesis_github/pct/tree/utils.py:45: RuntimeWarning: divide by zero encountered in divide\n",
      "  weights = 1/var\n",
      "/Users/camillecu/Downloads/KUL/master_thesis/master_thesis_github/pct/tree/utils.py:47: UserWarning: At least one of the target variables is constant, setting its weight to 0.\n",
      "  warnings.warn(\"At least one of the target variables is constant, setting its weight to 0.\")\n"
     ]
    },
    {
     "name": "stdout",
     "output_type": "stream",
     "text": [
      "Initializing Splitter...\n",
      "✅ Calling build()...\n",
      "✅ Tree built successfully!\n",
      "🌳 Tree re-trained.\n",
      "📊 Evaluating after this iteration...\n",
      "RMSE: 46.1831\n",
      "MAE:  38.7730\n",
      "✅ Iteration 2 complete.\n",
      "\n",
      "🔁 Iteration 3/7 (skip asked items, walk from root)\n"
     ]
    },
    {
     "name": "stderr",
     "output_type": "stream",
     "text": [
      "/Users/camillecu/Downloads/KUL/master_thesis/master_thesis_github/pct/tree/utils.py:45: RuntimeWarning: divide by zero encountered in divide\n",
      "  weights = 1/var\n",
      "/Users/camillecu/Downloads/KUL/master_thesis/master_thesis_github/pct/tree/utils.py:47: UserWarning: At least one of the target variables is constant, setting its weight to 0.\n",
      "  warnings.warn(\"At least one of the target variables is constant, setting its weight to 0.\")\n"
     ]
    },
    {
     "name": "stdout",
     "output_type": "stream",
     "text": [
      "Initializing Splitter...\n",
      "✅ Calling build()...\n",
      "✅ Tree built successfully!\n",
      "🌳 Tree re-trained.\n",
      "📊 Evaluating after this iteration...\n",
      "RMSE: 44.9121\n",
      "MAE:  37.4024\n",
      "✅ Iteration 3 complete.\n",
      "\n",
      "🔁 Iteration 4/7 (skip asked items, walk from root)\n"
     ]
    },
    {
     "name": "stderr",
     "output_type": "stream",
     "text": [
      "/Users/camillecu/Downloads/KUL/master_thesis/master_thesis_github/pct/tree/utils.py:45: RuntimeWarning: divide by zero encountered in divide\n",
      "  weights = 1/var\n",
      "/Users/camillecu/Downloads/KUL/master_thesis/master_thesis_github/pct/tree/utils.py:47: UserWarning: At least one of the target variables is constant, setting its weight to 0.\n",
      "  warnings.warn(\"At least one of the target variables is constant, setting its weight to 0.\")\n"
     ]
    },
    {
     "name": "stdout",
     "output_type": "stream",
     "text": [
      "Initializing Splitter...\n",
      "✅ Calling build()...\n",
      "✅ Tree built successfully!\n",
      "🌳 Tree re-trained.\n",
      "📊 Evaluating after this iteration...\n",
      "RMSE: 43.9624\n",
      "MAE:  36.3629\n",
      "✅ Iteration 4 complete.\n",
      "\n",
      "🔁 Iteration 5/7 (skip asked items, walk from root)\n"
     ]
    },
    {
     "name": "stderr",
     "output_type": "stream",
     "text": [
      "/Users/camillecu/Downloads/KUL/master_thesis/master_thesis_github/pct/tree/utils.py:45: RuntimeWarning: divide by zero encountered in divide\n",
      "  weights = 1/var\n",
      "/Users/camillecu/Downloads/KUL/master_thesis/master_thesis_github/pct/tree/utils.py:47: UserWarning: At least one of the target variables is constant, setting its weight to 0.\n",
      "  warnings.warn(\"At least one of the target variables is constant, setting its weight to 0.\")\n"
     ]
    },
    {
     "name": "stdout",
     "output_type": "stream",
     "text": [
      "Initializing Splitter...\n",
      "✅ Calling build()...\n"
     ]
    },
    {
     "name": "stderr",
     "output_type": "stream",
     "text": [
      "/Users/camillecu/Downloads/KUL/master_thesis/master_thesis_github/pct/tree/node/node.py:73: RuntimeWarning: invalid value encountered in divide\n",
      "  prototype /= np.sum(\n",
      "/Users/camillecu/Downloads/KUL/master_thesis/master_thesis_github/pct/tree/node/node.py:73: RuntimeWarning: invalid value encountered in divide\n",
      "  prototype /= np.sum(\n",
      "/Users/camillecu/Downloads/KUL/master_thesis/master_thesis_github/pct/tree/node/node.py:73: RuntimeWarning: invalid value encountered in divide\n",
      "  prototype /= np.sum(\n",
      "/Users/camillecu/Downloads/KUL/master_thesis/master_thesis_github/pct/tree/node/node.py:73: RuntimeWarning: invalid value encountered in divide\n",
      "  prototype /= np.sum(\n",
      "/Users/camillecu/Downloads/KUL/master_thesis/master_thesis_github/pct/tree/node/node.py:73: RuntimeWarning: invalid value encountered in divide\n",
      "  prototype /= np.sum(\n",
      "/Users/camillecu/Downloads/KUL/master_thesis/master_thesis_github/pct/tree/node/node.py:73: RuntimeWarning: invalid value encountered in divide\n",
      "  prototype /= np.sum(\n",
      "/Users/camillecu/Downloads/KUL/master_thesis/master_thesis_github/pct/tree/node/node.py:73: RuntimeWarning: invalid value encountered in divide\n",
      "  prototype /= np.sum(\n"
     ]
    },
    {
     "name": "stdout",
     "output_type": "stream",
     "text": [
      "✅ Tree built successfully!\n",
      "🌳 Tree re-trained.\n",
      "📊 Evaluating after this iteration...\n",
      "RMSE: 43.3400\n",
      "MAE:  35.6949\n",
      "✅ Iteration 5 complete.\n",
      "\n",
      "🔁 Iteration 6/7 (skip asked items, walk from root)\n"
     ]
    },
    {
     "name": "stderr",
     "output_type": "stream",
     "text": [
      "/Users/camillecu/Downloads/KUL/master_thesis/master_thesis_github/pct/tree/utils.py:45: RuntimeWarning: divide by zero encountered in divide\n",
      "  weights = 1/var\n",
      "/Users/camillecu/Downloads/KUL/master_thesis/master_thesis_github/pct/tree/utils.py:47: UserWarning: At least one of the target variables is constant, setting its weight to 0.\n",
      "  warnings.warn(\"At least one of the target variables is constant, setting its weight to 0.\")\n"
     ]
    },
    {
     "name": "stdout",
     "output_type": "stream",
     "text": [
      "Initializing Splitter...\n",
      "✅ Calling build()...\n"
     ]
    },
    {
     "name": "stderr",
     "output_type": "stream",
     "text": [
      "/Users/camillecu/Downloads/KUL/master_thesis/master_thesis_github/pct/tree/node/node.py:73: RuntimeWarning: invalid value encountered in divide\n",
      "  prototype /= np.sum(\n",
      "/Users/camillecu/Downloads/KUL/master_thesis/master_thesis_github/pct/tree/node/node.py:73: RuntimeWarning: invalid value encountered in divide\n",
      "  prototype /= np.sum(\n",
      "/Users/camillecu/Downloads/KUL/master_thesis/master_thesis_github/pct/tree/node/node.py:73: RuntimeWarning: invalid value encountered in divide\n",
      "  prototype /= np.sum(\n",
      "/Users/camillecu/Downloads/KUL/master_thesis/master_thesis_github/pct/tree/node/node.py:73: RuntimeWarning: invalid value encountered in divide\n",
      "  prototype /= np.sum(\n",
      "/Users/camillecu/Downloads/KUL/master_thesis/master_thesis_github/pct/tree/node/node.py:73: RuntimeWarning: invalid value encountered in divide\n",
      "  prototype /= np.sum(\n",
      "/Users/camillecu/Downloads/KUL/master_thesis/master_thesis_github/pct/tree/node/node.py:73: RuntimeWarning: invalid value encountered in divide\n",
      "  prototype /= np.sum(\n",
      "/Users/camillecu/Downloads/KUL/master_thesis/master_thesis_github/pct/tree/node/node.py:73: RuntimeWarning: invalid value encountered in divide\n",
      "  prototype /= np.sum(\n",
      "/Users/camillecu/Downloads/KUL/master_thesis/master_thesis_github/pct/tree/node/node.py:73: RuntimeWarning: invalid value encountered in divide\n",
      "  prototype /= np.sum(\n",
      "/Users/camillecu/Downloads/KUL/master_thesis/master_thesis_github/pct/tree/node/node.py:73: RuntimeWarning: invalid value encountered in divide\n",
      "  prototype /= np.sum(\n",
      "/Users/camillecu/Downloads/KUL/master_thesis/master_thesis_github/pct/tree/node/node.py:73: RuntimeWarning: invalid value encountered in divide\n",
      "  prototype /= np.sum(\n",
      "/Users/camillecu/Downloads/KUL/master_thesis/master_thesis_github/pct/tree/node/node.py:73: RuntimeWarning: invalid value encountered in divide\n",
      "  prototype /= np.sum(\n",
      "/Users/camillecu/Downloads/KUL/master_thesis/master_thesis_github/pct/tree/node/node.py:73: RuntimeWarning: invalid value encountered in divide\n",
      "  prototype /= np.sum(\n",
      "/Users/camillecu/Downloads/KUL/master_thesis/master_thesis_github/pct/tree/node/node.py:73: RuntimeWarning: invalid value encountered in divide\n",
      "  prototype /= np.sum(\n",
      "/Users/camillecu/Downloads/KUL/master_thesis/master_thesis_github/pct/tree/node/node.py:73: RuntimeWarning: invalid value encountered in divide\n",
      "  prototype /= np.sum(\n",
      "/Users/camillecu/Downloads/KUL/master_thesis/master_thesis_github/pct/tree/node/node.py:73: RuntimeWarning: invalid value encountered in divide\n",
      "  prototype /= np.sum(\n",
      "/Users/camillecu/Downloads/KUL/master_thesis/master_thesis_github/pct/tree/node/node.py:73: RuntimeWarning: invalid value encountered in divide\n",
      "  prototype /= np.sum(\n",
      "/Users/camillecu/Downloads/KUL/master_thesis/master_thesis_github/pct/tree/node/node.py:73: RuntimeWarning: invalid value encountered in divide\n",
      "  prototype /= np.sum(\n",
      "/Users/camillecu/Downloads/KUL/master_thesis/master_thesis_github/pct/tree/node/node.py:73: RuntimeWarning: invalid value encountered in divide\n",
      "  prototype /= np.sum(\n",
      "/Users/camillecu/Downloads/KUL/master_thesis/master_thesis_github/pct/tree/node/node.py:73: RuntimeWarning: invalid value encountered in divide\n",
      "  prototype /= np.sum(\n",
      "/Users/camillecu/Downloads/KUL/master_thesis/master_thesis_github/pct/tree/node/node.py:73: RuntimeWarning: invalid value encountered in divide\n",
      "  prototype /= np.sum(\n",
      "/Users/camillecu/Downloads/KUL/master_thesis/master_thesis_github/pct/tree/node/node.py:73: RuntimeWarning: invalid value encountered in divide\n",
      "  prototype /= np.sum(\n",
      "/Users/camillecu/Downloads/KUL/master_thesis/master_thesis_github/pct/tree/node/node.py:73: RuntimeWarning: invalid value encountered in divide\n",
      "  prototype /= np.sum(\n",
      "/Users/camillecu/Downloads/KUL/master_thesis/master_thesis_github/pct/tree/node/node.py:73: RuntimeWarning: invalid value encountered in divide\n",
      "  prototype /= np.sum(\n",
      "/Users/camillecu/Downloads/KUL/master_thesis/master_thesis_github/pct/tree/node/node.py:73: RuntimeWarning: invalid value encountered in divide\n",
      "  prototype /= np.sum(\n",
      "/Users/camillecu/Downloads/KUL/master_thesis/master_thesis_github/pct/tree/node/node.py:73: RuntimeWarning: invalid value encountered in divide\n",
      "  prototype /= np.sum(\n",
      "/Users/camillecu/Downloads/KUL/master_thesis/master_thesis_github/pct/tree/node/node.py:73: RuntimeWarning: invalid value encountered in divide\n",
      "  prototype /= np.sum(\n",
      "/Users/camillecu/Downloads/KUL/master_thesis/master_thesis_github/pct/tree/node/node.py:73: RuntimeWarning: invalid value encountered in divide\n",
      "  prototype /= np.sum(\n",
      "/Users/camillecu/Downloads/KUL/master_thesis/master_thesis_github/pct/tree/node/node.py:73: RuntimeWarning: invalid value encountered in divide\n",
      "  prototype /= np.sum(\n",
      "/Users/camillecu/Downloads/KUL/master_thesis/master_thesis_github/pct/tree/node/node.py:73: RuntimeWarning: invalid value encountered in divide\n",
      "  prototype /= np.sum(\n",
      "/Users/camillecu/Downloads/KUL/master_thesis/master_thesis_github/pct/tree/node/node.py:73: RuntimeWarning: invalid value encountered in divide\n",
      "  prototype /= np.sum(\n"
     ]
    },
    {
     "name": "stdout",
     "output_type": "stream",
     "text": [
      "✅ Tree built successfully!\n",
      "🌳 Tree re-trained.\n",
      "📊 Evaluating after this iteration...\n",
      "RMSE: 42.2745\n",
      "MAE:  34.5341\n",
      "✅ Iteration 6 complete.\n",
      "\n",
      "🔁 Iteration 7/7 (skip asked items, walk from root)\n"
     ]
    },
    {
     "name": "stderr",
     "output_type": "stream",
     "text": [
      "/Users/camillecu/Downloads/KUL/master_thesis/master_thesis_github/pct/tree/utils.py:45: RuntimeWarning: divide by zero encountered in divide\n",
      "  weights = 1/var\n",
      "/Users/camillecu/Downloads/KUL/master_thesis/master_thesis_github/pct/tree/utils.py:47: UserWarning: At least one of the target variables is constant, setting its weight to 0.\n",
      "  warnings.warn(\"At least one of the target variables is constant, setting its weight to 0.\")\n"
     ]
    },
    {
     "name": "stdout",
     "output_type": "stream",
     "text": [
      "Initializing Splitter...\n",
      "✅ Calling build()...\n"
     ]
    },
    {
     "name": "stderr",
     "output_type": "stream",
     "text": [
      "/Users/camillecu/Downloads/KUL/master_thesis/master_thesis_github/pct/tree/node/node.py:73: RuntimeWarning: invalid value encountered in divide\n",
      "  prototype /= np.sum(\n",
      "/Users/camillecu/Downloads/KUL/master_thesis/master_thesis_github/pct/tree/node/node.py:73: RuntimeWarning: invalid value encountered in divide\n",
      "  prototype /= np.sum(\n",
      "/Users/camillecu/Downloads/KUL/master_thesis/master_thesis_github/pct/tree/node/node.py:73: RuntimeWarning: invalid value encountered in divide\n",
      "  prototype /= np.sum(\n",
      "/Users/camillecu/Downloads/KUL/master_thesis/master_thesis_github/pct/tree/node/node.py:73: RuntimeWarning: invalid value encountered in divide\n",
      "  prototype /= np.sum(\n",
      "/Users/camillecu/Downloads/KUL/master_thesis/master_thesis_github/pct/tree/node/node.py:73: RuntimeWarning: invalid value encountered in divide\n",
      "  prototype /= np.sum(\n",
      "/Users/camillecu/Downloads/KUL/master_thesis/master_thesis_github/pct/tree/node/node.py:73: RuntimeWarning: invalid value encountered in divide\n",
      "  prototype /= np.sum(\n",
      "/Users/camillecu/Downloads/KUL/master_thesis/master_thesis_github/pct/tree/node/node.py:73: RuntimeWarning: invalid value encountered in divide\n",
      "  prototype /= np.sum(\n",
      "/Users/camillecu/Downloads/KUL/master_thesis/master_thesis_github/pct/tree/node/node.py:73: RuntimeWarning: invalid value encountered in divide\n",
      "  prototype /= np.sum(\n",
      "/Users/camillecu/Downloads/KUL/master_thesis/master_thesis_github/pct/tree/node/node.py:73: RuntimeWarning: invalid value encountered in divide\n",
      "  prototype /= np.sum(\n",
      "/Users/camillecu/Downloads/KUL/master_thesis/master_thesis_github/pct/tree/node/node.py:73: RuntimeWarning: invalid value encountered in divide\n",
      "  prototype /= np.sum(\n",
      "/Users/camillecu/Downloads/KUL/master_thesis/master_thesis_github/pct/tree/node/node.py:73: RuntimeWarning: invalid value encountered in divide\n",
      "  prototype /= np.sum(\n",
      "/Users/camillecu/Downloads/KUL/master_thesis/master_thesis_github/pct/tree/node/node.py:73: RuntimeWarning: invalid value encountered in divide\n",
      "  prototype /= np.sum(\n",
      "/Users/camillecu/Downloads/KUL/master_thesis/master_thesis_github/pct/tree/node/node.py:73: RuntimeWarning: invalid value encountered in divide\n",
      "  prototype /= np.sum(\n",
      "/Users/camillecu/Downloads/KUL/master_thesis/master_thesis_github/pct/tree/node/node.py:73: RuntimeWarning: invalid value encountered in divide\n",
      "  prototype /= np.sum(\n",
      "/Users/camillecu/Downloads/KUL/master_thesis/master_thesis_github/pct/tree/node/node.py:73: RuntimeWarning: invalid value encountered in divide\n",
      "  prototype /= np.sum(\n",
      "/Users/camillecu/Downloads/KUL/master_thesis/master_thesis_github/pct/tree/node/node.py:73: RuntimeWarning: invalid value encountered in divide\n",
      "  prototype /= np.sum(\n",
      "/Users/camillecu/Downloads/KUL/master_thesis/master_thesis_github/pct/tree/node/node.py:73: RuntimeWarning: invalid value encountered in divide\n",
      "  prototype /= np.sum(\n",
      "/Users/camillecu/Downloads/KUL/master_thesis/master_thesis_github/pct/tree/node/node.py:73: RuntimeWarning: invalid value encountered in divide\n",
      "  prototype /= np.sum(\n",
      "/Users/camillecu/Downloads/KUL/master_thesis/master_thesis_github/pct/tree/node/node.py:73: RuntimeWarning: invalid value encountered in divide\n",
      "  prototype /= np.sum(\n",
      "/Users/camillecu/Downloads/KUL/master_thesis/master_thesis_github/pct/tree/node/node.py:73: RuntimeWarning: invalid value encountered in divide\n",
      "  prototype /= np.sum(\n",
      "/Users/camillecu/Downloads/KUL/master_thesis/master_thesis_github/pct/tree/node/node.py:73: RuntimeWarning: invalid value encountered in divide\n",
      "  prototype /= np.sum(\n",
      "/Users/camillecu/Downloads/KUL/master_thesis/master_thesis_github/pct/tree/node/node.py:73: RuntimeWarning: invalid value encountered in divide\n",
      "  prototype /= np.sum(\n",
      "/Users/camillecu/Downloads/KUL/master_thesis/master_thesis_github/pct/tree/node/node.py:73: RuntimeWarning: invalid value encountered in divide\n",
      "  prototype /= np.sum(\n",
      "/Users/camillecu/Downloads/KUL/master_thesis/master_thesis_github/pct/tree/node/node.py:73: RuntimeWarning: invalid value encountered in divide\n",
      "  prototype /= np.sum(\n",
      "/Users/camillecu/Downloads/KUL/master_thesis/master_thesis_github/pct/tree/node/node.py:73: RuntimeWarning: invalid value encountered in divide\n",
      "  prototype /= np.sum(\n",
      "/Users/camillecu/Downloads/KUL/master_thesis/master_thesis_github/pct/tree/node/node.py:73: RuntimeWarning: invalid value encountered in divide\n",
      "  prototype /= np.sum(\n",
      "/Users/camillecu/Downloads/KUL/master_thesis/master_thesis_github/pct/tree/node/node.py:73: RuntimeWarning: invalid value encountered in divide\n",
      "  prototype /= np.sum(\n",
      "/Users/camillecu/Downloads/KUL/master_thesis/master_thesis_github/pct/tree/node/node.py:73: RuntimeWarning: invalid value encountered in divide\n",
      "  prototype /= np.sum(\n",
      "/Users/camillecu/Downloads/KUL/master_thesis/master_thesis_github/pct/tree/node/node.py:73: RuntimeWarning: invalid value encountered in divide\n",
      "  prototype /= np.sum(\n",
      "/Users/camillecu/Downloads/KUL/master_thesis/master_thesis_github/pct/tree/node/node.py:73: RuntimeWarning: invalid value encountered in divide\n",
      "  prototype /= np.sum(\n",
      "/Users/camillecu/Downloads/KUL/master_thesis/master_thesis_github/pct/tree/node/node.py:73: RuntimeWarning: invalid value encountered in divide\n",
      "  prototype /= np.sum(\n",
      "/Users/camillecu/Downloads/KUL/master_thesis/master_thesis_github/pct/tree/node/node.py:73: RuntimeWarning: invalid value encountered in divide\n",
      "  prototype /= np.sum(\n",
      "/Users/camillecu/Downloads/KUL/master_thesis/master_thesis_github/pct/tree/node/node.py:73: RuntimeWarning: invalid value encountered in divide\n",
      "  prototype /= np.sum(\n",
      "/Users/camillecu/Downloads/KUL/master_thesis/master_thesis_github/pct/tree/node/node.py:73: RuntimeWarning: invalid value encountered in divide\n",
      "  prototype /= np.sum(\n",
      "/Users/camillecu/Downloads/KUL/master_thesis/master_thesis_github/pct/tree/node/node.py:73: RuntimeWarning: invalid value encountered in divide\n",
      "  prototype /= np.sum(\n",
      "/Users/camillecu/Downloads/KUL/master_thesis/master_thesis_github/pct/tree/node/node.py:73: RuntimeWarning: invalid value encountered in divide\n",
      "  prototype /= np.sum(\n",
      "/Users/camillecu/Downloads/KUL/master_thesis/master_thesis_github/pct/tree/node/node.py:73: RuntimeWarning: invalid value encountered in divide\n",
      "  prototype /= np.sum(\n",
      "/Users/camillecu/Downloads/KUL/master_thesis/master_thesis_github/pct/tree/node/node.py:73: RuntimeWarning: invalid value encountered in divide\n",
      "  prototype /= np.sum(\n",
      "/Users/camillecu/Downloads/KUL/master_thesis/master_thesis_github/pct/tree/node/node.py:73: RuntimeWarning: invalid value encountered in divide\n",
      "  prototype /= np.sum(\n",
      "/Users/camillecu/Downloads/KUL/master_thesis/master_thesis_github/pct/tree/node/node.py:73: RuntimeWarning: invalid value encountered in divide\n",
      "  prototype /= np.sum(\n",
      "/Users/camillecu/Downloads/KUL/master_thesis/master_thesis_github/pct/tree/node/node.py:73: RuntimeWarning: invalid value encountered in divide\n",
      "  prototype /= np.sum(\n",
      "/Users/camillecu/Downloads/KUL/master_thesis/master_thesis_github/pct/tree/node/node.py:73: RuntimeWarning: invalid value encountered in divide\n",
      "  prototype /= np.sum(\n",
      "/Users/camillecu/Downloads/KUL/master_thesis/master_thesis_github/pct/tree/node/node.py:73: RuntimeWarning: invalid value encountered in divide\n",
      "  prototype /= np.sum(\n",
      "/Users/camillecu/Downloads/KUL/master_thesis/master_thesis_github/pct/tree/node/node.py:73: RuntimeWarning: invalid value encountered in divide\n",
      "  prototype /= np.sum(\n",
      "/Users/camillecu/Downloads/KUL/master_thesis/master_thesis_github/pct/tree/node/node.py:73: RuntimeWarning: invalid value encountered in divide\n",
      "  prototype /= np.sum(\n",
      "/Users/camillecu/Downloads/KUL/master_thesis/master_thesis_github/pct/tree/node/node.py:73: RuntimeWarning: invalid value encountered in divide\n",
      "  prototype /= np.sum(\n",
      "/Users/camillecu/Downloads/KUL/master_thesis/master_thesis_github/pct/tree/node/node.py:73: RuntimeWarning: invalid value encountered in divide\n",
      "  prototype /= np.sum(\n",
      "/Users/camillecu/Downloads/KUL/master_thesis/master_thesis_github/pct/tree/node/node.py:73: RuntimeWarning: invalid value encountered in divide\n",
      "  prototype /= np.sum(\n",
      "/Users/camillecu/Downloads/KUL/master_thesis/master_thesis_github/pct/tree/node/node.py:73: RuntimeWarning: invalid value encountered in divide\n",
      "  prototype /= np.sum(\n",
      "/Users/camillecu/Downloads/KUL/master_thesis/master_thesis_github/pct/tree/node/node.py:73: RuntimeWarning: invalid value encountered in divide\n",
      "  prototype /= np.sum(\n",
      "/Users/camillecu/Downloads/KUL/master_thesis/master_thesis_github/pct/tree/node/node.py:73: RuntimeWarning: invalid value encountered in divide\n",
      "  prototype /= np.sum(\n",
      "/Users/camillecu/Downloads/KUL/master_thesis/master_thesis_github/pct/tree/node/node.py:73: RuntimeWarning: invalid value encountered in divide\n",
      "  prototype /= np.sum(\n",
      "/Users/camillecu/Downloads/KUL/master_thesis/master_thesis_github/pct/tree/node/node.py:73: RuntimeWarning: invalid value encountered in divide\n",
      "  prototype /= np.sum(\n",
      "/Users/camillecu/Downloads/KUL/master_thesis/master_thesis_github/pct/tree/node/node.py:73: RuntimeWarning: invalid value encountered in divide\n",
      "  prototype /= np.sum(\n",
      "/Users/camillecu/Downloads/KUL/master_thesis/master_thesis_github/pct/tree/node/node.py:73: RuntimeWarning: invalid value encountered in divide\n",
      "  prototype /= np.sum(\n",
      "/Users/camillecu/Downloads/KUL/master_thesis/master_thesis_github/pct/tree/node/node.py:73: RuntimeWarning: invalid value encountered in divide\n",
      "  prototype /= np.sum(\n",
      "/Users/camillecu/Downloads/KUL/master_thesis/master_thesis_github/pct/tree/node/node.py:73: RuntimeWarning: invalid value encountered in divide\n",
      "  prototype /= np.sum(\n",
      "/Users/camillecu/Downloads/KUL/master_thesis/master_thesis_github/pct/tree/node/node.py:73: RuntimeWarning: invalid value encountered in divide\n",
      "  prototype /= np.sum(\n",
      "/Users/camillecu/Downloads/KUL/master_thesis/master_thesis_github/pct/tree/node/node.py:73: RuntimeWarning: invalid value encountered in divide\n",
      "  prototype /= np.sum(\n",
      "/Users/camillecu/Downloads/KUL/master_thesis/master_thesis_github/pct/tree/node/node.py:73: RuntimeWarning: invalid value encountered in divide\n",
      "  prototype /= np.sum(\n",
      "/Users/camillecu/Downloads/KUL/master_thesis/master_thesis_github/pct/tree/node/node.py:73: RuntimeWarning: invalid value encountered in divide\n",
      "  prototype /= np.sum(\n",
      "/Users/camillecu/Downloads/KUL/master_thesis/master_thesis_github/pct/tree/node/node.py:73: RuntimeWarning: invalid value encountered in divide\n",
      "  prototype /= np.sum(\n",
      "/Users/camillecu/Downloads/KUL/master_thesis/master_thesis_github/pct/tree/node/node.py:73: RuntimeWarning: invalid value encountered in divide\n",
      "  prototype /= np.sum(\n",
      "/Users/camillecu/Downloads/KUL/master_thesis/master_thesis_github/pct/tree/node/node.py:73: RuntimeWarning: invalid value encountered in divide\n",
      "  prototype /= np.sum(\n"
     ]
    },
    {
     "name": "stdout",
     "output_type": "stream",
     "text": [
      "✅ Tree built successfully!\n",
      "🌳 Tree re-trained.\n",
      "📊 Evaluating after this iteration...\n",
      "RMSE: 41.6559\n",
      "MAE:  33.8471\n",
      "✅ Iteration 7 complete.\n"
     ]
    }
   ],
   "source": [
    "import warnings\n",
    "warnings.simplefilter(action='ignore', category=FutureWarning)\n",
    "# ignore runtime warnings\n",
    "\n",
    "pct_hybrid_10 = elicitation_by_tree_path_retrain_skiped_warm(\n",
    "    Tree=Tree,\n",
    "    train=train_cold_K_hybrid,\n",
    "    test=test_cold_hybrid,\n",
    "    X=X_cold_hybrid,\n",
    "    matrix_warm=matrix_warm,\n",
    "    idx_to_rid_cold=idx_to_rid_cold,\n",
    "    idx_to_rid_warm=idx_to_rid_warm,\n",
    "    idx_to_cid=idx_to_cid,\n",
    "    iteration=7\n",
    ")"
   ]
  },
  {
   "cell_type": "markdown",
   "id": "00a4459a",
   "metadata": {},
   "source": [
    "# Alternative Method"
   ]
  },
  {
   "cell_type": "code",
   "execution_count": 44,
   "id": "940f5f61",
   "metadata": {},
   "outputs": [],
   "source": [
    "def i_entropy(matirx):\n",
    "    entropy = []\n",
    "    for item in range(0, matirx.shape[1]):\n",
    "        ratings = matirx.getcol(item).data\n",
    "        count_r = Counter(ratings)\n",
    "        len_rating = len(ratings)\n",
    "        ent = 0\n",
    "        for c in count_r:\n",
    "            ent -= (count_r[c]/len_rating)*math.log(count_r[c]/len_rating)\n",
    "        entropy.append(ent)\n",
    "    return (np.asarray(entropy))\n",
    "\n",
    "def i_entropy_0(matirx):\n",
    "    entropy = []\n",
    "    c_all = matirx.shape[0]\n",
    "    for item in range(0, matirx.shape[1]):\n",
    "        ratings = matirx.getcol(item).data\n",
    "        count_r = Counter(ratings)\n",
    "        count_r[0] = c_all - matirx.getcol(item).count_nonzero()\n",
    "        ent = 0\n",
    "        for c in count_r:\n",
    "            ent -= (count_r[c]/c_all)*math.log(count_r[c]/c_all)\n",
    "        entropy.append(ent)\n",
    "    return (np.asarray(entropy))\n",
    "\n",
    "def i_pop(matrix):\n",
    "    popularity = []\n",
    "    for item in range(0, matrix.shape[1]):\n",
    "        popularity.append(matrix.getcol(item).count_nonzero())\n",
    "        \n",
    "    return (np.asarray(popularity))\n",
    "\n",
    "\n",
    "\n",
    "def helf0(matrix, epsilon=1e-10):\n",
    "    log_U = np.log(matrix.shape[0] + epsilon)  \n",
    "    \n",
    "    pop = i_pop(matrix)\n",
    "    pop_safe = pop + epsilon\n",
    "    lf = np.log(pop_safe) / log_U\n",
    "\n",
    "   \n",
    "    h = i_entropy_0(matrix) / np.log(5)\n",
    "\n",
    "    numerator = 2 * lf * h\n",
    "    denominator = lf + h + epsilon\n",
    "    helf = numerator / denominator\n",
    "\n",
    "    return helf\n",
    "\n",
    "def i_variance(matirx):\n",
    "    c = matirx.copy()\n",
    "    c_2 = c.power(2)\n",
    "    E_2 = c_2.mean(0)\n",
    "    E = c.mean(0)\n",
    "    v = E_2 - np.sqrt(E)\n",
    "    return (np.asarray(v)).flatten()\n",
    "\n",
    "def i_random(matirx):\n",
    "    c = matirx.copy()\n",
    "    c_2 = c.power(2)\n",
    "    E_2 = c_2.mean(0)\n",
    "    E = c.mean(0)\n",
    "    v = E_2 - np.sqrt(E)\n",
    "    return (np.asarray(v)).flatten()\n"
   ]
  },
  {
   "cell_type": "code",
   "execution_count": 45,
   "id": "ae53937c",
   "metadata": {},
   "outputs": [],
   "source": [
    "import scipy.sparse as sp\n",
    "\n",
    "\n",
    "def elicitation_np_warm(matrix_warm,train,test,X,strategy,iteration,k,positive=False):\n",
    "    rmse,mae = [],[]\n",
    "    \n",
    "    # Performance before elicitation\n",
    "    train_df = matrix_to_df_2(train,idx_to_rid_cold,idx_to_cid)\n",
    "    reader = Reader(rating_scale=(1, 100))\n",
    "    data_r = Dataset.load_from_df(train_df[['user_id', 'item_id', 'rating']], reader)\n",
    "    data_rr = data_r.build_full_trainset()\n",
    "    algo = SVD()\n",
    "    algo.fit(data_rr)\n",
    "    test_df = matrix_to_df_2(test,idx_to_rid_cold,idx_to_cid)\n",
    "    test_r = Dataset.load_from_df(test_df[['user_id', 'item_id', 'rating']], reader)\n",
    "    test_rr = test_r.build_full_trainset()\n",
    "    predictions= algo.test(test_rr.build_testset())\n",
    "    rmse.append(accuracy.rmse(predictions))\n",
    "    mae.append(accuracy.mae(predictions))\n",
    "    \n",
    "    c_u_dict = {}\n",
    "    all_items = list(range(0,train.shape[1]))\n",
    "    X_copy = (X.tolil()).copy()\n",
    "    warm_copy = matrix_warm.tolil().copy()\n",
    "    train_copy = (train.tolil()).copy()\n",
    "    \n",
    "\n",
    "    #scores = strategy(train_copy)\n",
    "    \n",
    "    for count in range(0,iteration-1):\n",
    "        x_matrix = sp.vstack([warm_copy, train_copy])\n",
    "        scores = strategy(x_matrix)\n",
    "        if positive:\n",
    "            ranking = np.argsort(-scores)\n",
    "        else:\n",
    "            ranking = np.argsort(scores)\n",
    "        for u in range(0, train.shape[0]):\n",
    "            if count ==0:\n",
    "                p_u = train_copy.getrow(u).nonzero()[1]\n",
    "                c_u = set_diff(all_items,p_u)\n",
    "                c_u_dict[u] = c_u.copy()\n",
    "            else:\n",
    "                c_u = c_u_dict[u].copy()                \n",
    "          \n",
    "            ranking_u = ranking[np.in1d(ranking,c_u)]\n",
    "            topk_u = ranking_u[:k]\n",
    "            c_u_dict[u] = set_diff(c_u,topk_u)\n",
    "            px_u = X_copy.getrow(u).nonzero()[1]\n",
    "            recom = set_intersection(topk_u,px_u)\n",
    "            for item in recom:                  \n",
    "                train_copy[u,item] = X[u,item]\n",
    "                X_copy[u,item] = 0\n",
    "        train_df = matrix_to_df_2(train_copy,idx_to_rid_cold,idx_to_cid)\n",
    "\n",
    "        reader = Reader(rating_scale=(1, 100))\n",
    "        data_r = Dataset.load_from_df(train_df[['user_id', 'item_id', 'rating']], reader)\n",
    "        data_rr = data_r.build_full_trainset()\n",
    "        algo.fit(data_rr)\n",
    "        test_df = matrix_to_df(test,idx_to_rid_cold,idx_to_cid)\n",
    "        test_r = Dataset.load_from_df(test_df[['user_id', 'item_id', 'rating']], reader)\n",
    "        test_rr = test_r.build_full_trainset()\n",
    "        predictions= algo.test(test_rr.build_testset())\n",
    "        rmse.append(accuracy.rmse(predictions))\n",
    "        mae.append(accuracy.mae(predictions))\n",
    "        \n",
    "        print(count+1)\n",
    "    return rmse,mae"
   ]
  },
  {
   "cell_type": "code",
   "execution_count": 46,
   "id": "c9758f10",
   "metadata": {},
   "outputs": [
    {
     "name": "stdout",
     "output_type": "stream",
     "text": [
      "RMSE: 52.1981\n",
      "MAE:  45.2861\n",
      "RMSE: 53.2388\n",
      "MAE:  47.2791\n",
      "1\n",
      "RMSE: 53.0280\n",
      "MAE:  47.0381\n",
      "2\n",
      "RMSE: 52.6119\n",
      "MAE:  46.5845\n",
      "3\n",
      "RMSE: 52.3571\n",
      "MAE:  46.3058\n",
      "4\n",
      "RMSE: 52.1265\n",
      "MAE:  46.0590\n",
      "5\n",
      "RMSE: 51.9083\n",
      "MAE:  45.8077\n",
      "6\n",
      "RMSE: 51.4216\n",
      "MAE:  45.2840\n",
      "7\n"
     ]
    }
   ],
   "source": [
    "entropy0_hybrid = elicitation_np_warm(\n",
    "    matrix_warm=matrix_warm,\n",
    "    train=train_cold_K_hybrid,\n",
    "    test=test_cold_hybrid,\n",
    "    X=X_cold_hybrid,\n",
    "    strategy=i_entropy_0,\n",
    "    iteration=8,\n",
    "    k=1,\n",
    "    positive=False\n",
    ")"
   ]
  },
  {
   "cell_type": "code",
   "execution_count": 47,
   "id": "ef800636",
   "metadata": {},
   "outputs": [
    {
     "name": "stdout",
     "output_type": "stream",
     "text": [
      "RMSE: 52.0039\n",
      "MAE:  45.0624\n",
      "RMSE: 53.1927\n",
      "MAE:  47.2321\n",
      "1\n",
      "RMSE: 52.7287\n",
      "MAE:  46.7298\n",
      "2\n",
      "RMSE: 52.4058\n",
      "MAE:  46.3672\n",
      "3\n",
      "RMSE: 52.0753\n",
      "MAE:  46.0166\n",
      "4\n",
      "RMSE: 51.5363\n",
      "MAE:  45.4076\n",
      "5\n",
      "RMSE: 51.3048\n",
      "MAE:  45.1610\n",
      "6\n",
      "RMSE: 51.1031\n",
      "MAE:  44.9212\n",
      "7\n"
     ]
    }
   ],
   "source": [
    "entropy0_artist_10 = elicitation_np_warm(\n",
    "    matrix_warm=matrix_warm,\n",
    "    train=train_cold_K_artist,\n",
    "    test=test_cold_artist,\n",
    "    X=X_cold_artist,\n",
    "    strategy=i_entropy_0,\n",
    "    iteration=8,\n",
    "    k=1,\n",
    "    positive=False\n",
    ")"
   ]
  },
  {
   "cell_type": "markdown",
   "id": "6a0eeb5b",
   "metadata": {},
   "source": [
    "# Max performance"
   ]
  },
  {
   "cell_type": "markdown",
   "id": "88484094",
   "metadata": {},
   "source": [
    "This code snippet creates a combined mapping of user indices to user IDs by merging two separate mappings: idx_to_rid_warm and idx_to_rid_cold. These mappings likely represent two distinct groups of users, such as \"warm\" users (existing or frequent users) and \"cold\" users (new or infrequent users). The goal is to ensure that all users are represented in a single unified index space.\n",
    "\n",
    "The combined_idx_to_rid dictionary is constructed using Python's dictionary unpacking syntax (**). The first part, **idx_to_rid_warm, directly includes all key-value pairs from the idx_to_rid_warm dictionary. This means that the warm user indices are added to the combined mapping without any modification.\n",
    "\n",
    "The second part, {k + len(idx_to_rid_warm): v for k, v in idx_to_rid_cold.items()}, processes the idx_to_rid_cold dictionary. Here, a dictionary comprehension is used to offset the keys (indices) of the cold users by the length of the idx_to_rid_warm dictionary. This ensures that the cold user indices do not overlap with the warm user indices. Specifically, for each key-value pair (k, v) in idx_to_rid_cold, the key k is incremented by the number of warm users (len(idx_to_rid_warm)), while the value v (the user ID) remains unchanged.\n",
    "\n",
    "The resulting combined_idx_to_rid dictionary contains all the warm user indices followed by the offset cold user indices, each mapped to their respective user IDs. This approach ensures that the indices for the two groups are unique and avoids any conflicts when combining the mappings."
   ]
  },
  {
   "cell_type": "code",
   "execution_count": 19,
   "id": "63cc2d52",
   "metadata": {},
   "outputs": [],
   "source": [
    "def elicitation_max_performance(matrix_warm,train,test,X,strategy,iteration,k,positive=False):\n",
    "    rmse,mae = [],[]\n",
    "    \n",
    "    train_copy = train.tolil().copy()\n",
    "    X_copy = X.tolil().copy()\n",
    "    warm_copy = matrix_warm.tolil().copy()\n",
    "    \n",
    "    # Combine mapping for all users (warm + cold)\n",
    "    combined_idx_to_rid = {\n",
    "        **idx_to_rid_warm,\n",
    "        **{k + len(idx_to_rid_warm): v for k, v in idx_to_rid_cold.items()}\n",
    "    }\n",
    "    full_matrix = sp.vstack([warm_copy, train_copy + X_copy])\n",
    "    full_df = matrix_to_df_2(full_matrix, combined_idx_to_rid, idx_to_cid)\n",
    "\n",
    "    cid_to_idx = {v: k for k, v in idx_to_cid.items()}\n",
    "\n",
    "    \n",
    "    # Performance before elicitation\n",
    "    reader = Reader(rating_scale=(0,1))\n",
    "    data_r = Dataset.load_from_df(full_df[['user_id', 'item_id', 'rating']], reader)\n",
    "    data_rr = data_r.build_full_trainset()\n",
    "    algo = SVD()\n",
    "    algo.fit(data_rr)\n",
    "    test_df = matrix_to_df_2(test,idx_to_rid_cold,idx_to_cid)\n",
    "    test_r = Dataset.load_from_df(test_df[['user_id', 'item_id', 'rating']], reader)\n",
    "    test_rr = test_r.build_full_trainset()\n",
    "    predictions= algo.test(test_rr.build_testset())\n",
    "    rmse.append(accuracy.rmse(predictions))\n",
    "    mae.append(accuracy.mae(predictions))\n",
    "    print(\"Baseline performance evaluated.\")\n",
    "    c_u_dict = {}\n",
    "    all_items = list(range(0,train.shape[1]))\n",
    "    \n",
    "    print(\"Starting elicitation...\")\n",
    "    #scores = strategy(train_copy)\n",
    "    for count in range(0,iteration-1):\n",
    "        x_matrix = sp.vstack([warm_copy, train_copy])\n",
    "        scores = strategy(x_matrix)\n",
    "        if positive:\n",
    "            ranking = np.argsort(-scores)\n",
    "        else:\n",
    "            ranking = np.argsort(scores)\n",
    "        for u in range(0, train.shape[0]):\n",
    "            if count ==0:\n",
    "                p_u = train_copy.getrow(u).nonzero()[1]\n",
    "                c_u = set_diff(all_items,p_u)\n",
    "                c_u_dict[u] = c_u.copy()\n",
    "            else:\n",
    "                c_u = c_u_dict[u].copy()                \n",
    "          \n",
    "            ranking_u = ranking[np.in1d(ranking,c_u)]\n",
    "            topk_u = ranking_u[:k]\n",
    "            c_u_dict[u] = set_diff(c_u,topk_u)\n",
    "            px_u = X_copy.getrow(u).nonzero()[1]\n",
    "            recom = set_intersection(topk_u,px_u)\n",
    "            for item in recom:                  \n",
    "                train_copy[u,item] = X[u,item]\n",
    "                X_copy[u,item] = 0\n",
    "\n",
    "        combined_matrix = sp.vstack([warm_copy, train_copy])\n",
    "        combined_idx_to_rid = {\n",
    "            **idx_to_rid_warm,\n",
    "            **{k + len(idx_to_rid_warm): v for k, v in idx_to_rid_cold.items()}\n",
    "        }\n",
    "        train_df = matrix_to_df_2(combined_matrix, combined_idx_to_rid, idx_to_cid)\n",
    "        \n",
    "\n",
    "        reader = Reader(rating_scale=(0,1))\n",
    "        data_r = Dataset.load_from_df(train_df[['user_id', 'item_id', 'rating']], reader)\n",
    "        data_rr = data_r.build_full_trainset()\n",
    "        algo.fit(data_rr)\n",
    "        test_df = matrix_to_df(test,idx_to_rid_cold,idx_to_cid)\n",
    "        test_r = Dataset.load_from_df(test_df[['user_id', 'item_id', 'rating']], reader)\n",
    "        test_rr = test_r.build_full_trainset()\n",
    "        predictions= algo.test(test_rr.build_testset())\n",
    "        rmse.append(accuracy.rmse(predictions))\n",
    "        mae.append(accuracy.mae(predictions))\n",
    "        \n",
    "        print(count+1)\n",
    "    return rmse,mae"
   ]
  },
  {
   "cell_type": "code",
   "execution_count": null,
   "id": "35be4354",
   "metadata": {},
   "outputs": [],
   "source": [
    "variance_hybrid = elicitation_max_performance(\n",
    "    matrix_warm=matrix_warm,\n",
    "    train=train_cold_K_hybrid,\n",
    "    test=test_cold_hybrid,\n",
    "    X=X_cold_hybrid,\n",
    "    strategy=i_variance,\n",
    "    iteration=40,\n",
    "    k=1,\n",
    "    positive=False\n",
    ")"
   ]
  },
  {
   "cell_type": "code",
   "execution_count": 97,
   "id": "c902893e",
   "metadata": {},
   "outputs": [],
   "source": [
    "# Create combined user index mapping\n",
    "combined_idx_to_rid = {\n",
    "    **idx_to_rid_warm,  # Original warm user indices\n",
    "    **{k + len(idx_to_rid_warm): v for k, v in idx_to_rid_cold.items()}  # Offset cold user indices\n",
    "}"
   ]
  },
  {
   "cell_type": "code",
   "execution_count": 95,
   "id": "6fc5e573",
   "metadata": {},
   "outputs": [],
   "source": [
    "def elicitation_by_tree_path_max_performance(\n",
    "    \n",
    "    train,              # lil_matrix: cold users' known ratings (1 item/user, updated over rounds)\n",
    "    test,               # lil_matrix: cold users' test ratings (30 ratings/user), fixed\n",
    "    X,                  # lil_matrix: cold users' \"hidden\" ratings, revealed 1 per round\n",
    "    matrix_warm,        # lil_matrix: warm users' full ratings\n",
    "    idx_to_rid_cold,    # cold user index → user_id\n",
    "    idx_to_rid_warm,    # warm user index → user_id\n",
    "    idx_to_cid,         # item index → item_id\n",
    "    # iteration=5\n",
    "):\n",
    "\n",
    "    num_users, num_items = train.shape\n",
    "    train_copy = train.tolil().copy()\n",
    "    X_copy = X.tolil().copy()\n",
    "    # train_df = matrix_to_df_2(train_copy, idx_to_rid_cold, idx_to_cid)\n",
    "\n",
    "    # KX is the matrix of warm, cold train and cold X\n",
    "    cold_KX = train.copy() + X.copy()\n",
    "    warm_coldKX = sp.vstack([matrix_warm.copy(), cold_KX.copy()])\n",
    "    warm_coldKX_copy = warm_coldKX.tolil().copy()\n",
    "    warm_coldKX_df = matrix_to_df_2(warm_coldKX_copy, combined_idx_to_rid, idx_to_cid) # Use combined mapping for KX_df\n",
    "\n",
    "    rmse_list, mae_list = [], []\n",
    "    cid_to_idx = {v: k for k, v in idx_to_cid.items()}\n",
    "\n",
    "    # Step 0: Baseline SVD using only cold-start (1 rating per user)\n",
    "    reader = Reader(rating_scale=(1, 100))\n",
    "    algo = SVD()\n",
    "    KXtrainset = Dataset.load_from_df(warm_coldKX_df[['user_id', 'item_id', 'rating']], reader).build_full_trainset()\n",
    "    algo.fit(KXtrainset)\n",
    "\n",
    "    test_df = matrix_to_df_2(test, idx_to_rid_cold, idx_to_cid)\n",
    "    testset = Dataset.load_from_df(test_df[['user_id', 'item_id', 'rating']], reader).build_full_trainset().build_testset()\n",
    "    predictions = algo.test(testset)\n",
    "    rmse_list.append(accuracy.rmse(predictions, verbose=True))\n",
    "    mae_list.append(accuracy.mae(predictions, verbose=True))\n",
    "    print(\"✅ Baseline evaluation complete.\")\n",
    "\n",
    "    \n",
    "\n",
    "       \n",
    "\n",
    "    return rmse_list, mae_list\n"
   ]
  },
  {
   "cell_type": "code",
   "execution_count": 52,
   "id": "5eaef0e6",
   "metadata": {},
   "outputs": [
    {
     "name": "stdout",
     "output_type": "stream",
     "text": [
      "RMSE: 53.2705\n",
      "MAE:  45.7995\n",
      "✅ Baseline evaluation complete.\n"
     ]
    }
   ],
   "source": [
    "import warnings\n",
    "warnings.simplefilter(action='ignore', category=FutureWarning)\n",
    "\n",
    "max_performance_artist_10 =elicitation_by_tree_path_max_performance(\n",
    "\n",
    "    train=train_cold_K_artist,\n",
    "    test=test_cold_artist,\n",
    "    X=X_cold_artist,\n",
    "    matrix_warm=matrix_warm,\n",
    "    idx_to_rid_cold=idx_to_rid_cold,\n",
    "    idx_to_rid_warm=idx_to_rid_warm,\n",
    "    idx_to_cid=idx_to_cid,\n",
    "    # iteration=8\n",
    ")"
   ]
  },
  {
   "cell_type": "code",
   "execution_count": 98,
   "id": "9052be82",
   "metadata": {},
   "outputs": [
    {
     "name": "stdout",
     "output_type": "stream",
     "text": [
      "RMSE: 53.2295\n",
      "MAE:  45.7663\n",
      "✅ Baseline evaluation complete.\n"
     ]
    }
   ],
   "source": [
    "import warnings\n",
    "warnings.simplefilter(action='ignore', category=FutureWarning)\n",
    "\n",
    "max_performance_hybrid_10 =elicitation_by_tree_path_max_performance(\n",
    "\n",
    "    train=train_cold_K_hybrid,\n",
    "    test=test_cold_hybrid,\n",
    "    X=X_cold_hybrid,\n",
    "    matrix_warm=matrix_warm,\n",
    "    idx_to_rid_cold=idx_to_rid_cold,\n",
    "    idx_to_rid_warm=idx_to_rid_warm,\n",
    "    idx_to_cid=idx_to_cid,\n",
    "    # iteration=8\n",
    ")"
   ]
  },
  {
   "cell_type": "code",
   "execution_count": 53,
   "id": "32c3f1b6",
   "metadata": {},
   "outputs": [
    {
     "name": "stdout",
     "output_type": "stream",
     "text": [
      "RMSE: 53.2262\n",
      "MAE:  45.7073\n",
      "✅ Baseline evaluation complete.\n"
     ]
    }
   ],
   "source": [
    "import warnings\n",
    "warnings.simplefilter(action='ignore', category=FutureWarning)\n",
    "\n",
    "max_performance_hybrid_10 =elicitation_by_tree_path_max_performance(\n",
    "\n",
    "    train=train_cold_K_hybrid,\n",
    "    test=test_cold_hybrid,\n",
    "    X=X_cold_hybrid,\n",
    "    matrix_warm=matrix_warm,\n",
    "    idx_to_rid_cold=idx_to_rid_cold,\n",
    "    idx_to_rid_warm=idx_to_rid_warm,\n",
    "    idx_to_cid=idx_to_cid,\n",
    "    # iteration=8\n",
    ")"
   ]
  },
  {
   "cell_type": "code",
   "execution_count": 88,
   "id": "92692f35",
   "metadata": {},
   "outputs": [],
   "source": [
    "pct_10_artist = [51.9847, 52.0196, 47.9907, 46.1414, 44.8582, 44.2371, 43.2880, 42.4831]\n",
    "\n",
    "pct_10_hybrid = [51.9772, 48.9743, 46.1831, 44.9121, 43.9624, 43.3400, 42.2745, 41.6559]\n",
    "\n",
    "entropy_10_hybrid = [52.1981, 53.2388, 53.0280, 52.6119, 52.3571, 52.1265, 51.9083, 51.4216]\n",
    "\n",
    "entropy_10_artist = [52.0039, 53.1927, 52.7287, 52.4058, 52.0753, 51.5363, 51.3048, 51.1031]\n",
    "\n"
   ]
  },
  {
   "cell_type": "code",
   "execution_count": 76,
   "id": "30a69d8d",
   "metadata": {},
   "outputs": [
    {
     "data": {
      "image/png": "[encoded data removed]",
      "text/plain": [
       "<Figure size 640x480 with 1 Axes>"
      ]
     },
     "metadata": {},
     "output_type": "display_data"
    }
   ],
   "source": [
    "# x = np.arange(0,16) \n",
    "fig, (ax1) = plt.subplots(1)\n",
    "# fig.suptitle('Horizontally stacked subplots')\n",
    "ax1.plot(np.arange(len(pct_10_hybrid)), pct_10_hybrid, label='pct_hybrid_10')\n",
    "ax1.plot(np.arange(len(pct_10_artist)), pct_10_artist, label='pct_artist_10')\n",
    "ax1.plot(np.arange(len(entropy_10_hybrid)), entropy_10_hybrid, label='entropy0_hybrid_10')\n",
    "ax1.plot(np.arange(len(entropy_10_artist)), entropy_10_artist, label='entropy0_artist_10')\n",
    "\n",
    "plt.legend(loc=3)\n",
    "plt.xlabel(\"Iteration\")\n",
    "plt.ylabel(\"RMSE\")\n",
    "plt.xticks(range(1, 8)) \n",
    "plt.show()"
   ]
  },
  {
   "cell_type": "markdown",
   "id": "ca3642e6",
   "metadata": {},
   "source": [
    "## 20% warm"
   ]
  },
  {
   "cell_type": "code",
   "execution_count": 52,
   "id": "07c81732",
   "metadata": {},
   "outputs": [],
   "source": [
    "warm_users_idx, cold_users_idx = split_users_by_ratio(all_user_ids, 0.2)\n",
    "\n",
    "df_warm = filtered_df[filtered_df['user_id'].isin(warm_users_idx)].copy()\n",
    "df_cold = filtered_df[filtered_df['user_id'].isin(cold_users_idx)].copy()\n",
    "\n",
    "matrix_warm, rid_to_idx_warm, idx_to_rid_warm, cid_to_idx, idx_to_cid = df_to_matrix(\n",
    "    df_warm, \"user_id\", \"item_id\", \"rating\")\n",
    "\n",
    "\n",
    "matrix_cold, rid_to_idx_cold, idx_to_rid_cold, _, _ = df_to_matrix( \n",
    "    df_cold, \"user_id\", \"item_id\", \"rating\")\n"
   ]
  },
  {
   "cell_type": "code",
   "execution_count": 53,
   "id": "4c17da38",
   "metadata": {},
   "outputs": [],
   "source": [
    "my_seed = 7\n",
    "random.seed(my_seed)\n",
    "np.random.seed(my_seed)\n",
    "\n",
    "train_cold_K_artist, X_cold_artist, test_cold_artist  = split_and_combine(\"artist-only\")\n",
    "train_cold_K_hybrid, X_cold_hybrid, test_cold_hybrid = split_and_combine(\"hybrid\")"
   ]
  },
  {
   "cell_type": "code",
   "execution_count": 94,
   "id": "f4e2388d",
   "metadata": {},
   "outputs": [
    {
     "name": "stdout",
     "output_type": "stream",
     "text": [
      "Cold users in X: 1361\n",
      "Cold items in X: 4793\n",
      "test users in test: 1321\n",
      "test items in test: 3821\n",
      "train users in train: 584\n",
      "train items in train: 503\n",
      "-------------------\n",
      "Shape of test_cold: (1361, 5011)\n",
      "Shape of train_cold: (1361, 5011)\n",
      "Shape of X_cold: (1361, 5011)\n"
     ]
    }
   ],
   "source": [
    "# shape of test_cold\n",
    "\n",
    "print(f\"Cold users in X: {len(np.unique(X_cold_artist.nonzero()[0]))}\")\n",
    "print(f\"Cold items in X: {len(np.unique(X_cold_artist.nonzero()[1]))}\")\n",
    "print(f\"test users in test: {len(np.unique(test_cold_artist.nonzero()[0]))}\")\n",
    "print(f\"test items in test: {len(np.unique(test_cold_artist.nonzero()[1]))}\")\n",
    "print(f\"train users in train: {len(np.unique(train_cold_K_artist.nonzero()[0]))}\")\n",
    "print(f\"train items in train: {len(np.unique(train_cold_K_artist.nonzero()[1]))}\")\n",
    "\n",
    "print(\"-------------------\")\n",
    "\n",
    "# shape of test_cold\n",
    "print(f\"Shape of test_cold: {test_cold_artist.shape}\")\n",
    "print(f\"Shape of train_cold: {train_cold_K_artist.shape}\")\n",
    "print(f\"Shape of X_cold: {X_cold_artist.shape}\")"
   ]
  },
  {
   "cell_type": "code",
   "execution_count": null,
   "id": "de0ecc5e",
   "metadata": {},
   "outputs": [],
   "source": [
    "# shape of test_cold\n",
    "\n",
    "print(f\"Cold users in X: {len(np.unique(X_cold_hybrid.nonzero()[0]))}\")\n",
    "print(f\"Cold items in X: {len(np.unique(X_cold_hybrid.nonzero()[1]))}\")\n",
    "print(f\"test users in test: {len(np.unique(test_cold_hybrid.nonzero()[0]))}\")\n",
    "print(f\"test items in test: {len(np.unique(test_cold_hybrid.nonzero()[1]))}\")\n",
    "print(f\"train users in train: {len(np.unique(train_cold_K_hybrid.nonzero()[0]))}\")\n",
    "print(f\"train items in train: {len(np.unique(train_cold_K_hybrid.nonzero()[1]))}\")\n",
    "\n",
    "print(\"-------------------\")\n",
    "\n",
    "# shape of test_cold\n",
    "print(f\"Shape of test_cold: {test_cold_hybrid.shape}\")\n",
    "print(f\"Shape of train_cold: {train_cold_K_hybrid.shape}\")\n",
    "print(f\"Shape of X_cold: {X_cold_hybrid.shape}\")"
   ]
  },
  {
   "cell_type": "code",
   "execution_count": 58,
   "id": "c3248119",
   "metadata": {},
   "outputs": [
    {
     "name": "stdout",
     "output_type": "stream",
     "text": [
      "🔍 Evaluating baseline RMSE/MAE...\n",
      "RMSE: 52.2930\n",
      "MAE:  45.1202\n",
      "✅ Baseline evaluation complete.\n",
      "\n",
      "🔁 Iteration 1/7 (skip asked items, walk from root)\n"
     ]
    },
    {
     "name": "stderr",
     "output_type": "stream",
     "text": [
      "/Users/camillecu/Downloads/KUL/master_thesis/master_thesis_github/pct/tree/utils.py:45: RuntimeWarning: divide by zero encountered in divide\n",
      "  weights = 1/var\n",
      "/Users/camillecu/Downloads/KUL/master_thesis/master_thesis_github/pct/tree/utils.py:47: UserWarning: At least one of the target variables is constant, setting its weight to 0.\n",
      "  warnings.warn(\"At least one of the target variables is constant, setting its weight to 0.\")\n"
     ]
    },
    {
     "name": "stdout",
     "output_type": "stream",
     "text": [
      "Initializing Splitter...\n",
      "✅ Calling build()...\n",
      "✅ Tree built successfully!\n",
      "🌳 Tree re-trained.\n",
      "📊 Evaluating after this iteration...\n",
      "RMSE: 52.2144\n",
      "MAE:  45.0390\n",
      "✅ Iteration 1 complete.\n",
      "\n",
      "🔁 Iteration 2/7 (skip asked items, walk from root)\n"
     ]
    },
    {
     "name": "stderr",
     "output_type": "stream",
     "text": [
      "/Users/camillecu/Downloads/KUL/master_thesis/master_thesis_github/pct/tree/utils.py:45: RuntimeWarning: divide by zero encountered in divide\n",
      "  weights = 1/var\n",
      "/Users/camillecu/Downloads/KUL/master_thesis/master_thesis_github/pct/tree/utils.py:47: UserWarning: At least one of the target variables is constant, setting its weight to 0.\n",
      "  warnings.warn(\"At least one of the target variables is constant, setting its weight to 0.\")\n"
     ]
    },
    {
     "name": "stdout",
     "output_type": "stream",
     "text": [
      "Initializing Splitter...\n",
      "✅ Calling build()...\n",
      "✅ Tree built successfully!\n",
      "🌳 Tree re-trained.\n",
      "📊 Evaluating after this iteration...\n",
      "RMSE: 51.6760\n",
      "MAE:  44.4549\n",
      "✅ Iteration 2 complete.\n",
      "\n",
      "🔁 Iteration 3/7 (skip asked items, walk from root)\n"
     ]
    },
    {
     "name": "stderr",
     "output_type": "stream",
     "text": [
      "/Users/camillecu/Downloads/KUL/master_thesis/master_thesis_github/pct/tree/utils.py:45: RuntimeWarning: divide by zero encountered in divide\n",
      "  weights = 1/var\n",
      "/Users/camillecu/Downloads/KUL/master_thesis/master_thesis_github/pct/tree/utils.py:47: UserWarning: At least one of the target variables is constant, setting its weight to 0.\n",
      "  warnings.warn(\"At least one of the target variables is constant, setting its weight to 0.\")\n"
     ]
    },
    {
     "name": "stdout",
     "output_type": "stream",
     "text": [
      "Initializing Splitter...\n",
      "✅ Calling build()...\n",
      "✅ Tree built successfully!\n",
      "🌳 Tree re-trained.\n",
      "📊 Evaluating after this iteration...\n",
      "RMSE: 51.4298\n",
      "MAE:  44.1917\n",
      "✅ Iteration 3 complete.\n",
      "\n",
      "🔁 Iteration 4/7 (skip asked items, walk from root)\n"
     ]
    },
    {
     "name": "stderr",
     "output_type": "stream",
     "text": [
      "/Users/camillecu/Downloads/KUL/master_thesis/master_thesis_github/pct/tree/utils.py:45: RuntimeWarning: divide by zero encountered in divide\n",
      "  weights = 1/var\n",
      "/Users/camillecu/Downloads/KUL/master_thesis/master_thesis_github/pct/tree/utils.py:47: UserWarning: At least one of the target variables is constant, setting its weight to 0.\n",
      "  warnings.warn(\"At least one of the target variables is constant, setting its weight to 0.\")\n"
     ]
    },
    {
     "name": "stdout",
     "output_type": "stream",
     "text": [
      "Initializing Splitter...\n",
      "✅ Calling build()...\n",
      "✅ Tree built successfully!\n",
      "🌳 Tree re-trained.\n",
      "📊 Evaluating after this iteration...\n",
      "RMSE: 51.1970\n",
      "MAE:  43.9442\n",
      "✅ Iteration 4 complete.\n",
      "\n",
      "🔁 Iteration 5/7 (skip asked items, walk from root)\n"
     ]
    },
    {
     "name": "stderr",
     "output_type": "stream",
     "text": [
      "/Users/camillecu/Downloads/KUL/master_thesis/master_thesis_github/pct/tree/utils.py:45: RuntimeWarning: divide by zero encountered in divide\n",
      "  weights = 1/var\n",
      "/Users/camillecu/Downloads/KUL/master_thesis/master_thesis_github/pct/tree/utils.py:47: UserWarning: At least one of the target variables is constant, setting its weight to 0.\n",
      "  warnings.warn(\"At least one of the target variables is constant, setting its weight to 0.\")\n"
     ]
    },
    {
     "name": "stdout",
     "output_type": "stream",
     "text": [
      "Initializing Splitter...\n",
      "✅ Calling build()...\n",
      "✅ Tree built successfully!\n",
      "🌳 Tree re-trained.\n",
      "📊 Evaluating after this iteration...\n",
      "RMSE: 50.9571\n",
      "MAE:  43.6777\n",
      "✅ Iteration 5 complete.\n",
      "\n",
      "🔁 Iteration 6/7 (skip asked items, walk from root)\n"
     ]
    },
    {
     "name": "stderr",
     "output_type": "stream",
     "text": [
      "/Users/camillecu/Downloads/KUL/master_thesis/master_thesis_github/pct/tree/utils.py:45: RuntimeWarning: divide by zero encountered in divide\n",
      "  weights = 1/var\n",
      "/Users/camillecu/Downloads/KUL/master_thesis/master_thesis_github/pct/tree/utils.py:47: UserWarning: At least one of the target variables is constant, setting its weight to 0.\n",
      "  warnings.warn(\"At least one of the target variables is constant, setting its weight to 0.\")\n"
     ]
    },
    {
     "name": "stdout",
     "output_type": "stream",
     "text": [
      "Initializing Splitter...\n",
      "✅ Calling build()...\n",
      "✅ Tree built successfully!\n",
      "🌳 Tree re-trained.\n",
      "📊 Evaluating after this iteration...\n",
      "RMSE: 50.7175\n",
      "MAE:  43.4183\n",
      "✅ Iteration 6 complete.\n",
      "\n",
      "🔁 Iteration 7/7 (skip asked items, walk from root)\n"
     ]
    },
    {
     "name": "stderr",
     "output_type": "stream",
     "text": [
      "/Users/camillecu/Downloads/KUL/master_thesis/master_thesis_github/pct/tree/utils.py:45: RuntimeWarning: divide by zero encountered in divide\n",
      "  weights = 1/var\n",
      "/Users/camillecu/Downloads/KUL/master_thesis/master_thesis_github/pct/tree/utils.py:47: UserWarning: At least one of the target variables is constant, setting its weight to 0.\n",
      "  warnings.warn(\"At least one of the target variables is constant, setting its weight to 0.\")\n"
     ]
    },
    {
     "name": "stdout",
     "output_type": "stream",
     "text": [
      "Initializing Splitter...\n",
      "✅ Calling build()...\n"
     ]
    },
    {
     "name": "stderr",
     "output_type": "stream",
     "text": [
      "/Users/camillecu/Downloads/KUL/master_thesis/master_thesis_github/pct/tree/node/node.py:73: RuntimeWarning: invalid value encountered in divide\n",
      "  prototype /= np.sum(\n",
      "/Users/camillecu/Downloads/KUL/master_thesis/master_thesis_github/pct/tree/node/node.py:73: RuntimeWarning: invalid value encountered in divide\n",
      "  prototype /= np.sum(\n",
      "/Users/camillecu/Downloads/KUL/master_thesis/master_thesis_github/pct/tree/node/node.py:73: RuntimeWarning: invalid value encountered in divide\n",
      "  prototype /= np.sum(\n",
      "/Users/camillecu/Downloads/KUL/master_thesis/master_thesis_github/pct/tree/node/node.py:73: RuntimeWarning: invalid value encountered in divide\n",
      "  prototype /= np.sum(\n",
      "/Users/camillecu/Downloads/KUL/master_thesis/master_thesis_github/pct/tree/node/node.py:73: RuntimeWarning: invalid value encountered in divide\n",
      "  prototype /= np.sum(\n"
     ]
    },
    {
     "name": "stdout",
     "output_type": "stream",
     "text": [
      "✅ Tree built successfully!\n",
      "🌳 Tree re-trained.\n",
      "📊 Evaluating after this iteration...\n",
      "RMSE: 50.1466\n",
      "MAE:  42.8111\n",
      "✅ Iteration 7 complete.\n"
     ]
    }
   ],
   "source": [
    "import warnings\n",
    "warnings.simplefilter(action='ignore', category=FutureWarning)\n",
    "\n",
    "pct_artist_20 = elicitation_by_tree_path_retrain_skiped_warm(\n",
    "    Tree=Tree,\n",
    "    train=train_cold_K_artist,\n",
    "    test=test_cold_artist,\n",
    "    X=X_cold_artist,\n",
    "    matrix_warm=matrix_warm,\n",
    "    idx_to_rid_cold=idx_to_rid_cold,\n",
    "    idx_to_rid_warm=idx_to_rid_warm,\n",
    "    idx_to_cid=idx_to_cid,\n",
    "    iteration=7\n",
    ")"
   ]
  },
  {
   "cell_type": "code",
   "execution_count": 98,
   "id": "ce44050f",
   "metadata": {},
   "outputs": [
    {
     "name": "stdout",
     "output_type": "stream",
     "text": [
      "🔍 Evaluating baseline RMSE/MAE...\n",
      "RMSE: 52.3038\n",
      "MAE:  45.2106\n",
      "✅ Baseline evaluation complete.\n",
      "\n",
      "🔁 Iteration 1/7 (skip asked items, walk from root)\n"
     ]
    },
    {
     "name": "stderr",
     "output_type": "stream",
     "text": [
      "/Users/camillecu/Downloads/KUL/master_thesis/master_thesis_github/pct/tree/utils.py:45: RuntimeWarning: divide by zero encountered in divide\n",
      "  weights = 1/var\n",
      "/Users/camillecu/Downloads/KUL/master_thesis/master_thesis_github/pct/tree/utils.py:47: UserWarning: At least one of the target variables is constant, setting its weight to 0.\n",
      "  warnings.warn(\"At least one of the target variables is constant, setting its weight to 0.\")\n"
     ]
    },
    {
     "name": "stdout",
     "output_type": "stream",
     "text": [
      "Initializing Splitter...\n",
      "✅ Calling build()...\n",
      "✅ Tree built successfully!\n",
      "🌳 Tree re-trained.\n",
      "📊 Evaluating after this iteration...\n",
      "RMSE: 52.2151\n",
      "MAE:  45.1319\n",
      "✅ Iteration 1 complete.\n",
      "\n",
      "🔁 Iteration 2/7 (skip asked items, walk from root)\n"
     ]
    },
    {
     "name": "stderr",
     "output_type": "stream",
     "text": [
      "/Users/camillecu/Downloads/KUL/master_thesis/master_thesis_github/pct/tree/utils.py:45: RuntimeWarning: divide by zero encountered in divide\n",
      "  weights = 1/var\n",
      "/Users/camillecu/Downloads/KUL/master_thesis/master_thesis_github/pct/tree/utils.py:47: UserWarning: At least one of the target variables is constant, setting its weight to 0.\n",
      "  warnings.warn(\"At least one of the target variables is constant, setting its weight to 0.\")\n"
     ]
    },
    {
     "name": "stdout",
     "output_type": "stream",
     "text": [
      "Initializing Splitter...\n",
      "✅ Calling build()...\n",
      "✅ Tree built successfully!\n",
      "🌳 Tree re-trained.\n",
      "📊 Evaluating after this iteration...\n",
      "RMSE: 51.6686\n",
      "MAE:  44.5381\n",
      "✅ Iteration 2 complete.\n",
      "\n",
      "🔁 Iteration 3/7 (skip asked items, walk from root)\n"
     ]
    },
    {
     "name": "stderr",
     "output_type": "stream",
     "text": [
      "/Users/camillecu/Downloads/KUL/master_thesis/master_thesis_github/pct/tree/utils.py:45: RuntimeWarning: divide by zero encountered in divide\n",
      "  weights = 1/var\n",
      "/Users/camillecu/Downloads/KUL/master_thesis/master_thesis_github/pct/tree/utils.py:47: UserWarning: At least one of the target variables is constant, setting its weight to 0.\n",
      "  warnings.warn(\"At least one of the target variables is constant, setting its weight to 0.\")\n"
     ]
    },
    {
     "name": "stdout",
     "output_type": "stream",
     "text": [
      "Initializing Splitter...\n",
      "✅ Calling build()...\n",
      "✅ Tree built successfully!\n",
      "🌳 Tree re-trained.\n",
      "📊 Evaluating after this iteration...\n",
      "RMSE: 51.3286\n",
      "MAE:  44.1760\n",
      "✅ Iteration 3 complete.\n",
      "\n",
      "🔁 Iteration 4/7 (skip asked items, walk from root)\n"
     ]
    },
    {
     "name": "stderr",
     "output_type": "stream",
     "text": [
      "/Users/camillecu/Downloads/KUL/master_thesis/master_thesis_github/pct/tree/utils.py:45: RuntimeWarning: divide by zero encountered in divide\n",
      "  weights = 1/var\n",
      "/Users/camillecu/Downloads/KUL/master_thesis/master_thesis_github/pct/tree/utils.py:47: UserWarning: At least one of the target variables is constant, setting its weight to 0.\n",
      "  warnings.warn(\"At least one of the target variables is constant, setting its weight to 0.\")\n"
     ]
    },
    {
     "name": "stdout",
     "output_type": "stream",
     "text": [
      "Initializing Splitter...\n",
      "✅ Calling build()...\n",
      "✅ Tree built successfully!\n",
      "🌳 Tree re-trained.\n",
      "📊 Evaluating after this iteration...\n",
      "RMSE: 51.0871\n",
      "MAE:  43.9289\n",
      "✅ Iteration 4 complete.\n",
      "\n",
      "🔁 Iteration 5/7 (skip asked items, walk from root)\n"
     ]
    },
    {
     "name": "stderr",
     "output_type": "stream",
     "text": [
      "/Users/camillecu/Downloads/KUL/master_thesis/master_thesis_github/pct/tree/utils.py:45: RuntimeWarning: divide by zero encountered in divide\n",
      "  weights = 1/var\n",
      "/Users/camillecu/Downloads/KUL/master_thesis/master_thesis_github/pct/tree/utils.py:47: UserWarning: At least one of the target variables is constant, setting its weight to 0.\n",
      "  warnings.warn(\"At least one of the target variables is constant, setting its weight to 0.\")\n"
     ]
    },
    {
     "name": "stdout",
     "output_type": "stream",
     "text": [
      "Initializing Splitter...\n",
      "✅ Calling build()...\n",
      "✅ Tree built successfully!\n",
      "🌳 Tree re-trained.\n",
      "📊 Evaluating after this iteration...\n",
      "RMSE: 50.8802\n",
      "MAE:  43.7045\n",
      "✅ Iteration 5 complete.\n",
      "\n",
      "🔁 Iteration 6/7 (skip asked items, walk from root)\n"
     ]
    },
    {
     "name": "stderr",
     "output_type": "stream",
     "text": [
      "/Users/camillecu/Downloads/KUL/master_thesis/master_thesis_github/pct/tree/utils.py:45: RuntimeWarning: divide by zero encountered in divide\n",
      "  weights = 1/var\n",
      "/Users/camillecu/Downloads/KUL/master_thesis/master_thesis_github/pct/tree/utils.py:47: UserWarning: At least one of the target variables is constant, setting its weight to 0.\n",
      "  warnings.warn(\"At least one of the target variables is constant, setting its weight to 0.\")\n"
     ]
    },
    {
     "name": "stdout",
     "output_type": "stream",
     "text": [
      "Initializing Splitter...\n",
      "✅ Calling build()...\n",
      "✅ Tree built successfully!\n",
      "🌳 Tree re-trained.\n",
      "📊 Evaluating after this iteration...\n",
      "RMSE: 50.6053\n",
      "MAE:  43.4008\n",
      "✅ Iteration 6 complete.\n",
      "\n",
      "🔁 Iteration 7/7 (skip asked items, walk from root)\n"
     ]
    },
    {
     "name": "stderr",
     "output_type": "stream",
     "text": [
      "/Users/camillecu/Downloads/KUL/master_thesis/master_thesis_github/pct/tree/utils.py:45: RuntimeWarning: divide by zero encountered in divide\n",
      "  weights = 1/var\n",
      "/Users/camillecu/Downloads/KUL/master_thesis/master_thesis_github/pct/tree/utils.py:47: UserWarning: At least one of the target variables is constant, setting its weight to 0.\n",
      "  warnings.warn(\"At least one of the target variables is constant, setting its weight to 0.\")\n"
     ]
    },
    {
     "name": "stdout",
     "output_type": "stream",
     "text": [
      "Initializing Splitter...\n",
      "✅ Calling build()...\n"
     ]
    },
    {
     "name": "stderr",
     "output_type": "stream",
     "text": [
      "/Users/camillecu/Downloads/KUL/master_thesis/master_thesis_github/pct/tree/node/node.py:73: RuntimeWarning: invalid value encountered in divide\n",
      "  prototype /= np.sum(\n",
      "/Users/camillecu/Downloads/KUL/master_thesis/master_thesis_github/pct/tree/node/node.py:73: RuntimeWarning: invalid value encountered in divide\n",
      "  prototype /= np.sum(\n",
      "/Users/camillecu/Downloads/KUL/master_thesis/master_thesis_github/pct/tree/node/node.py:73: RuntimeWarning: invalid value encountered in divide\n",
      "  prototype /= np.sum(\n",
      "/Users/camillecu/Downloads/KUL/master_thesis/master_thesis_github/pct/tree/node/node.py:73: RuntimeWarning: invalid value encountered in divide\n",
      "  prototype /= np.sum(\n"
     ]
    },
    {
     "name": "stdout",
     "output_type": "stream",
     "text": [
      "✅ Tree built successfully!\n",
      "🌳 Tree re-trained.\n",
      "📊 Evaluating after this iteration...\n",
      "RMSE: 49.9057\n",
      "MAE:  42.6531\n",
      "✅ Iteration 7 complete.\n"
     ]
    }
   ],
   "source": [
    "import warnings\n",
    "warnings.simplefilter(action='ignore', category=FutureWarning)\n",
    "# ignore runtime warnings\n",
    "\n",
    "pct_hybrid_20 = elicitation_by_tree_path_retrain_skiped_warm(\n",
    "    Tree=Tree,\n",
    "    train=train_cold_K_hybrid,\n",
    "    test=test_cold_hybrid,\n",
    "    X=X_cold_hybrid,\n",
    "    matrix_warm=matrix_warm,\n",
    "    idx_to_rid_cold=idx_to_rid_cold,\n",
    "    idx_to_rid_warm=idx_to_rid_warm,\n",
    "    idx_to_cid=idx_to_cid,\n",
    "    iteration=7\n",
    ")"
   ]
  },
  {
   "cell_type": "code",
   "execution_count": 54,
   "id": "4ba3a6ea",
   "metadata": {},
   "outputs": [
    {
     "name": "stdout",
     "output_type": "stream",
     "text": [
      "RMSE: 52.2918\n",
      "MAE:  45.2103\n",
      "RMSE: 53.9341\n",
      "MAE:  48.1009\n",
      "1\n",
      "RMSE: 53.7535\n",
      "MAE:  47.9182\n",
      "2\n",
      "RMSE: 53.5794\n",
      "MAE:  47.7248\n",
      "3\n",
      "RMSE: 52.9201\n",
      "MAE:  46.9897\n",
      "4\n",
      "RMSE: 52.8095\n",
      "MAE:  46.8646\n",
      "5\n",
      "RMSE: 52.5166\n",
      "MAE:  46.5463\n",
      "6\n",
      "RMSE: 52.0293\n",
      "MAE:  46.0075\n",
      "7\n"
     ]
    }
   ],
   "source": [
    "entropy0_hybrid_20 = elicitation_np_warm(\n",
    "    matrix_warm=matrix_warm,\n",
    "    train=train_cold_K_hybrid,\n",
    "    test=test_cold_hybrid,\n",
    "    X=X_cold_hybrid,\n",
    "    strategy=i_entropy_0,\n",
    "    iteration=8,\n",
    "    k=1,\n",
    "    positive=False\n",
    ")"
   ]
  },
  {
   "cell_type": "code",
   "execution_count": 55,
   "id": "3d934ed2",
   "metadata": {},
   "outputs": [
    {
     "name": "stdout",
     "output_type": "stream",
     "text": [
      "RMSE: 52.4771\n",
      "MAE:  45.3855\n",
      "RMSE: 54.0693\n",
      "MAE:  48.2036\n",
      "1\n",
      "RMSE: 53.7708\n",
      "MAE:  47.8589\n",
      "2\n",
      "RMSE: 53.6215\n",
      "MAE:  47.7094\n",
      "3\n",
      "RMSE: 53.1566\n",
      "MAE:  47.1973\n",
      "4\n",
      "RMSE: 53.1915\n",
      "MAE:  47.2178\n",
      "5\n",
      "RMSE: 53.0080\n",
      "MAE:  47.0180\n",
      "6\n",
      "RMSE: 52.7476\n",
      "MAE:  46.7523\n",
      "7\n"
     ]
    }
   ],
   "source": [
    "entropy0_artist_20 = elicitation_np_warm(\n",
    "    matrix_warm=matrix_warm,\n",
    "    train=train_cold_K_artist,\n",
    "    test=test_cold_artist,\n",
    "    X=X_cold_artist,\n",
    "    strategy=i_entropy_0,\n",
    "    iteration=8,\n",
    "    k=1,\n",
    "    positive=False\n",
    ")"
   ]
  },
  {
   "cell_type": "code",
   "execution_count": 57,
   "id": "b3c71ed2",
   "metadata": {},
   "outputs": [],
   "source": [
    "pct_20_hybrid = [52.3038, 52.2151, 51.6686, 51.3286, 51.0871, 50.8802, 50.6053, 49.9057]\n",
    "\n",
    "pct_20_artist = [52.2930, 52.2144, 51.6760, 51.4298, 51.1970, 50.9571, 50.7175, 50.1466]\n",
    "\n",
    "entropy_20_hybrid = [52.2918, 53.9341, 53.7535, 53.5794, 52.9201, 52.8095, 52.5166, 52.0293]\n",
    "\n",
    "entropy_20_artist = [52.4771, 54.0693, 53.7708, 53.6215, 53.1566, 53.1915, 53.0080, 52.7476]\n"
   ]
  },
  {
   "cell_type": "code",
   "execution_count": 77,
   "id": "beb26549",
   "metadata": {},
   "outputs": [
    {
     "data": {
      "image/png": "[encoded data removed]",
      "text/plain": [
       "<Figure size 640x480 with 1 Axes>"
      ]
     },
     "metadata": {},
     "output_type": "display_data"
    }
   ],
   "source": [
    "# x = np.arange(0,16) \n",
    "fig, (ax1) = plt.subplots(1)\n",
    "# fig.suptitle('Horizontally stacked subplots')\n",
    "ax1.plot(np.arange(len(pct_20_hybrid)), pct_20_hybrid, label='pct_hybrid_20')\n",
    "ax1.plot(np.arange(len(pct_20_artist)), pct_20_artist, label='pct_artist_20')\n",
    "ax1.plot(np.arange(len(entropy_20_hybrid)), entropy_20_hybrid, label='entropy0_hybrid_20')\n",
    "ax1.plot(np.arange(len(entropy_20_artist)), entropy_20_artist, label='entropy0_artist_20')\n",
    "# ax1.plot(x, pct_2[0], label='pct_2'\n",
    "\n",
    "plt.legend(loc=3)\n",
    "plt.xlabel(\"Iteration\")\n",
    "plt.ylabel(\"RMSE\")\n",
    "plt.xticks(range(1, 8)) \n",
    "plt.show()"
   ]
  },
  {
   "cell_type": "markdown",
   "id": "5ad2ccf3",
   "metadata": {},
   "source": [
    "## 30% warm"
   ]
  },
  {
   "cell_type": "code",
   "execution_count": 60,
   "id": "6a2e5ce6",
   "metadata": {},
   "outputs": [],
   "source": [
    "warm_users_idx, cold_users_idx = split_users_by_ratio(all_user_ids, 0.3)\n",
    "\n",
    "df_warm = filtered_df[filtered_df['user_id'].isin(warm_users_idx)].copy()\n",
    "df_cold = filtered_df[filtered_df['user_id'].isin(cold_users_idx)].copy()\n",
    "\n",
    "matrix_warm, rid_to_idx_warm, idx_to_rid_warm, cid_to_idx, idx_to_cid = df_to_matrix(\n",
    "    df_warm, \"user_id\", \"item_id\", \"rating\")\n",
    "\n",
    "\n",
    "matrix_cold, rid_to_idx_cold, idx_to_rid_cold, _, _ = df_to_matrix( \n",
    "    df_cold, \"user_id\", \"item_id\", \"rating\")\n"
   ]
  },
  {
   "cell_type": "code",
   "execution_count": 61,
   "id": "50dc04d2",
   "metadata": {},
   "outputs": [],
   "source": [
    "my_seed = 7\n",
    "random.seed(my_seed)\n",
    "np.random.seed(my_seed)\n",
    "train_cold_K_artist, X_cold_artist, test_cold_artist  = split_and_combine(\"artist-only\")\n",
    "train_cold_K_hybrid, X_cold_hybrid, test_cold_hybrid = split_and_combine(\"hybrid\")"
   ]
  },
  {
   "cell_type": "code",
   "execution_count": 62,
   "id": "a314ed8e",
   "metadata": {},
   "outputs": [
    {
     "name": "stdout",
     "output_type": "stream",
     "text": [
      "Cold users in X: 1191\n",
      "Cold items in X: 4793\n",
      "test users in test: 1150\n",
      "test items in test: 3646\n",
      "train users in train: 529\n",
      "train items in train: 463\n",
      "-------------------\n",
      "Shape of test_cold: (1191, 5011)\n",
      "Shape of train_cold: (1191, 5011)\n",
      "Shape of X_cold: (1191, 5011)\n"
     ]
    }
   ],
   "source": [
    "# shape of test_cold\n",
    "\n",
    "print(f\"Cold users in X: {len(np.unique(X_cold_artist.nonzero()[0]))}\")\n",
    "print(f\"Cold items in X: {len(np.unique(X_cold_artist.nonzero()[1]))}\")\n",
    "print(f\"test users in test: {len(np.unique(test_cold_artist.nonzero()[0]))}\")\n",
    "print(f\"test items in test: {len(np.unique(test_cold_artist.nonzero()[1]))}\")\n",
    "print(f\"train users in train: {len(np.unique(train_cold_K_artist.nonzero()[0]))}\")\n",
    "print(f\"train items in train: {len(np.unique(train_cold_K_artist.nonzero()[1]))}\")\n",
    "\n",
    "print(\"-------------------\")\n",
    "\n",
    "# shape of test_cold\n",
    "print(f\"Shape of test_cold: {test_cold_artist.shape}\")\n",
    "print(f\"Shape of train_cold: {train_cold_K_artist.shape}\")\n",
    "print(f\"Shape of X_cold: {X_cold_artist.shape}\")"
   ]
  },
  {
   "cell_type": "code",
   "execution_count": 63,
   "id": "066ed657",
   "metadata": {},
   "outputs": [
    {
     "name": "stdout",
     "output_type": "stream",
     "text": [
      "Cold users in X: 1191\n",
      "Cold items in X: 5011\n",
      "test users in test: 1147\n",
      "test items in test: 3686\n",
      "train users in train: 521\n",
      "train items in train: 448\n",
      "-------------------\n",
      "Shape of test_cold: (1191, 5011)\n",
      "Shape of train_cold: (1191, 5011)\n",
      "Shape of X_cold: (1191, 5011)\n"
     ]
    }
   ],
   "source": [
    "# shape of test_cold\n",
    "\n",
    "print(f\"Cold users in X: {len(np.unique(X_cold_hybrid.nonzero()[0]))}\")\n",
    "print(f\"Cold items in X: {len(np.unique(X_cold_hybrid.nonzero()[1]))}\")\n",
    "print(f\"test users in test: {len(np.unique(test_cold_hybrid.nonzero()[0]))}\")\n",
    "print(f\"test items in test: {len(np.unique(test_cold_hybrid.nonzero()[1]))}\")\n",
    "print(f\"train users in train: {len(np.unique(train_cold_K_hybrid.nonzero()[0]))}\")\n",
    "print(f\"train items in train: {len(np.unique(train_cold_K_hybrid.nonzero()[1]))}\")\n",
    "\n",
    "print(\"-------------------\")\n",
    "\n",
    "# shape of test_cold\n",
    "print(f\"Shape of test_cold: {test_cold_hybrid.shape}\")\n",
    "print(f\"Shape of train_cold: {train_cold_K_hybrid.shape}\")\n",
    "print(f\"Shape of X_cold: {X_cold_hybrid.shape}\")"
   ]
  },
  {
   "cell_type": "code",
   "execution_count": 107,
   "id": "ff339c31",
   "metadata": {},
   "outputs": [
    {
     "name": "stdout",
     "output_type": "stream",
     "text": [
      "🔍 Evaluating baseline RMSE/MAE...\n",
      "RMSE: 52.8811\n",
      "MAE:  45.4660\n",
      "✅ Baseline evaluation complete.\n",
      "\n",
      "🔁 Iteration 1/7 (skip asked items, walk from root)\n"
     ]
    },
    {
     "name": "stderr",
     "output_type": "stream",
     "text": [
      "/Users/camillecu/Downloads/KUL/master_thesis/master_thesis_github/pct/tree/utils.py:45: RuntimeWarning: divide by zero encountered in divide\n",
      "  weights = 1/var\n",
      "/Users/camillecu/Downloads/KUL/master_thesis/master_thesis_github/pct/tree/utils.py:47: UserWarning: At least one of the target variables is constant, setting its weight to 0.\n",
      "  warnings.warn(\"At least one of the target variables is constant, setting its weight to 0.\")\n"
     ]
    },
    {
     "name": "stdout",
     "output_type": "stream",
     "text": [
      "Initializing Splitter...\n",
      "✅ Calling build()...\n",
      "✅ Tree built successfully!\n",
      "🌳 Tree re-trained.\n",
      "📊 Evaluating after this iteration...\n",
      "RMSE: 52.4017\n",
      "MAE:  44.9444\n",
      "✅ Iteration 1 complete.\n",
      "\n",
      "🔁 Iteration 2/7 (skip asked items, walk from root)\n"
     ]
    },
    {
     "name": "stderr",
     "output_type": "stream",
     "text": [
      "/Users/camillecu/Downloads/KUL/master_thesis/master_thesis_github/pct/tree/utils.py:45: RuntimeWarning: divide by zero encountered in divide\n",
      "  weights = 1/var\n",
      "/Users/camillecu/Downloads/KUL/master_thesis/master_thesis_github/pct/tree/utils.py:47: UserWarning: At least one of the target variables is constant, setting its weight to 0.\n",
      "  warnings.warn(\"At least one of the target variables is constant, setting its weight to 0.\")\n"
     ]
    },
    {
     "name": "stdout",
     "output_type": "stream",
     "text": [
      "Initializing Splitter...\n",
      "✅ Calling build()...\n",
      "✅ Tree built successfully!\n",
      "🌳 Tree re-trained.\n",
      "📊 Evaluating after this iteration...\n",
      "RMSE: 52.0626\n",
      "MAE:  44.6048\n",
      "✅ Iteration 2 complete.\n",
      "\n",
      "🔁 Iteration 3/7 (skip asked items, walk from root)\n"
     ]
    },
    {
     "name": "stderr",
     "output_type": "stream",
     "text": [
      "/Users/camillecu/Downloads/KUL/master_thesis/master_thesis_github/pct/tree/utils.py:45: RuntimeWarning: divide by zero encountered in divide\n",
      "  weights = 1/var\n",
      "/Users/camillecu/Downloads/KUL/master_thesis/master_thesis_github/pct/tree/utils.py:47: UserWarning: At least one of the target variables is constant, setting its weight to 0.\n",
      "  warnings.warn(\"At least one of the target variables is constant, setting its weight to 0.\")\n"
     ]
    },
    {
     "name": "stdout",
     "output_type": "stream",
     "text": [
      "Initializing Splitter...\n",
      "✅ Calling build()...\n",
      "✅ Tree built successfully!\n",
      "🌳 Tree re-trained.\n",
      "📊 Evaluating after this iteration...\n",
      "RMSE: 51.7871\n",
      "MAE:  44.3139\n",
      "✅ Iteration 3 complete.\n",
      "\n",
      "🔁 Iteration 4/7 (skip asked items, walk from root)\n"
     ]
    },
    {
     "name": "stderr",
     "output_type": "stream",
     "text": [
      "/Users/camillecu/Downloads/KUL/master_thesis/master_thesis_github/pct/tree/utils.py:45: RuntimeWarning: divide by zero encountered in divide\n",
      "  weights = 1/var\n",
      "/Users/camillecu/Downloads/KUL/master_thesis/master_thesis_github/pct/tree/utils.py:47: UserWarning: At least one of the target variables is constant, setting its weight to 0.\n",
      "  warnings.warn(\"At least one of the target variables is constant, setting its weight to 0.\")\n"
     ]
    },
    {
     "name": "stdout",
     "output_type": "stream",
     "text": [
      "Initializing Splitter...\n",
      "✅ Calling build()...\n",
      "✅ Tree built successfully!\n",
      "🌳 Tree re-trained.\n",
      "📊 Evaluating after this iteration...\n",
      "RMSE: 50.2051\n",
      "MAE:  42.6345\n",
      "✅ Iteration 4 complete.\n",
      "\n",
      "🔁 Iteration 5/7 (skip asked items, walk from root)\n"
     ]
    },
    {
     "name": "stderr",
     "output_type": "stream",
     "text": [
      "/Users/camillecu/Downloads/KUL/master_thesis/master_thesis_github/pct/tree/utils.py:45: RuntimeWarning: divide by zero encountered in divide\n",
      "  weights = 1/var\n",
      "/Users/camillecu/Downloads/KUL/master_thesis/master_thesis_github/pct/tree/utils.py:47: UserWarning: At least one of the target variables is constant, setting its weight to 0.\n",
      "  warnings.warn(\"At least one of the target variables is constant, setting its weight to 0.\")\n"
     ]
    },
    {
     "name": "stdout",
     "output_type": "stream",
     "text": [
      "Initializing Splitter...\n",
      "✅ Calling build()...\n"
     ]
    },
    {
     "name": "stderr",
     "output_type": "stream",
     "text": [
      "/Users/camillecu/Downloads/KUL/master_thesis/master_thesis_github/pct/tree/node/node.py:73: RuntimeWarning: invalid value encountered in divide\n",
      "  prototype /= np.sum(\n"
     ]
    },
    {
     "name": "stdout",
     "output_type": "stream",
     "text": [
      "✅ Tree built successfully!\n",
      "🌳 Tree re-trained.\n",
      "📊 Evaluating after this iteration...\n",
      "RMSE: 49.5147\n",
      "MAE:  41.8963\n",
      "✅ Iteration 5 complete.\n",
      "\n",
      "🔁 Iteration 6/7 (skip asked items, walk from root)\n"
     ]
    },
    {
     "name": "stderr",
     "output_type": "stream",
     "text": [
      "/Users/camillecu/Downloads/KUL/master_thesis/master_thesis_github/pct/tree/utils.py:45: RuntimeWarning: divide by zero encountered in divide\n",
      "  weights = 1/var\n",
      "/Users/camillecu/Downloads/KUL/master_thesis/master_thesis_github/pct/tree/utils.py:47: UserWarning: At least one of the target variables is constant, setting its weight to 0.\n",
      "  warnings.warn(\"At least one of the target variables is constant, setting its weight to 0.\")\n"
     ]
    },
    {
     "name": "stdout",
     "output_type": "stream",
     "text": [
      "Initializing Splitter...\n",
      "✅ Calling build()...\n",
      "✅ Tree built successfully!\n",
      "🌳 Tree re-trained.\n",
      "📊 Evaluating after this iteration...\n",
      "RMSE: 49.0861\n",
      "MAE:  41.4380\n",
      "✅ Iteration 6 complete.\n",
      "\n",
      "🔁 Iteration 7/7 (skip asked items, walk from root)\n"
     ]
    },
    {
     "name": "stderr",
     "output_type": "stream",
     "text": [
      "/Users/camillecu/Downloads/KUL/master_thesis/master_thesis_github/pct/tree/utils.py:45: RuntimeWarning: divide by zero encountered in divide\n",
      "  weights = 1/var\n",
      "/Users/camillecu/Downloads/KUL/master_thesis/master_thesis_github/pct/tree/utils.py:47: UserWarning: At least one of the target variables is constant, setting its weight to 0.\n",
      "  warnings.warn(\"At least one of the target variables is constant, setting its weight to 0.\")\n"
     ]
    },
    {
     "name": "stdout",
     "output_type": "stream",
     "text": [
      "Initializing Splitter...\n",
      "✅ Calling build()...\n"
     ]
    },
    {
     "name": "stderr",
     "output_type": "stream",
     "text": [
      "/Users/camillecu/Downloads/KUL/master_thesis/master_thesis_github/pct/tree/node/node.py:73: RuntimeWarning: invalid value encountered in divide\n",
      "  prototype /= np.sum(\n",
      "/Users/camillecu/Downloads/KUL/master_thesis/master_thesis_github/pct/tree/node/node.py:73: RuntimeWarning: invalid value encountered in divide\n",
      "  prototype /= np.sum(\n",
      "/Users/camillecu/Downloads/KUL/master_thesis/master_thesis_github/pct/tree/node/node.py:73: RuntimeWarning: invalid value encountered in divide\n",
      "  prototype /= np.sum(\n",
      "/Users/camillecu/Downloads/KUL/master_thesis/master_thesis_github/pct/tree/node/node.py:73: RuntimeWarning: invalid value encountered in divide\n",
      "  prototype /= np.sum(\n"
     ]
    },
    {
     "name": "stdout",
     "output_type": "stream",
     "text": [
      "✅ Tree built successfully!\n",
      "🌳 Tree re-trained.\n",
      "📊 Evaluating after this iteration...\n",
      "RMSE: 46.6354\n",
      "MAE:  38.8685\n",
      "✅ Iteration 7 complete.\n"
     ]
    }
   ],
   "source": [
    "import warnings\n",
    "warnings.simplefilter(action='ignore', category=FutureWarning)\n",
    "\n",
    "pct_artist_30 = elicitation_by_tree_path_retrain_skiped_warm(\n",
    "    Tree=Tree,\n",
    "    train=train_cold_K_artist,\n",
    "    test=test_cold_artist,\n",
    "    X=X_cold_artist,\n",
    "    matrix_warm=matrix_warm,\n",
    "    idx_to_rid_cold=idx_to_rid_cold,\n",
    "    idx_to_rid_warm=idx_to_rid_warm,\n",
    "    idx_to_cid=idx_to_cid,\n",
    "    iteration=7\n",
    ")"
   ]
  },
  {
   "cell_type": "code",
   "execution_count": 105,
   "id": "b080a71c",
   "metadata": {},
   "outputs": [
    {
     "name": "stdout",
     "output_type": "stream",
     "text": [
      "🔍 Evaluating baseline RMSE/MAE...\n",
      "RMSE: 52.3823\n",
      "MAE:  45.0055\n",
      "✅ Baseline evaluation complete.\n",
      "\n",
      "🔁 Iteration 1/7 (skip asked items, walk from root)\n"
     ]
    },
    {
     "name": "stderr",
     "output_type": "stream",
     "text": [
      "/Users/camillecu/Downloads/KUL/master_thesis/master_thesis_github/pct/tree/utils.py:45: RuntimeWarning: divide by zero encountered in divide\n",
      "  weights = 1/var\n",
      "/Users/camillecu/Downloads/KUL/master_thesis/master_thesis_github/pct/tree/utils.py:47: UserWarning: At least one of the target variables is constant, setting its weight to 0.\n",
      "  warnings.warn(\"At least one of the target variables is constant, setting its weight to 0.\")\n"
     ]
    },
    {
     "name": "stdout",
     "output_type": "stream",
     "text": [
      "Initializing Splitter...\n",
      "✅ Calling build()...\n",
      "✅ Tree built successfully!\n",
      "🌳 Tree re-trained.\n",
      "📊 Evaluating after this iteration...\n",
      "RMSE: 51.8302\n",
      "MAE:  44.4170\n",
      "✅ Iteration 1 complete.\n",
      "\n",
      "🔁 Iteration 2/7 (skip asked items, walk from root)\n"
     ]
    },
    {
     "name": "stderr",
     "output_type": "stream",
     "text": [
      "/Users/camillecu/Downloads/KUL/master_thesis/master_thesis_github/pct/tree/utils.py:45: RuntimeWarning: divide by zero encountered in divide\n",
      "  weights = 1/var\n",
      "/Users/camillecu/Downloads/KUL/master_thesis/master_thesis_github/pct/tree/utils.py:47: UserWarning: At least one of the target variables is constant, setting its weight to 0.\n",
      "  warnings.warn(\"At least one of the target variables is constant, setting its weight to 0.\")\n"
     ]
    },
    {
     "name": "stdout",
     "output_type": "stream",
     "text": [
      "Initializing Splitter...\n",
      "✅ Calling build()...\n",
      "✅ Tree built successfully!\n",
      "🌳 Tree re-trained.\n",
      "📊 Evaluating after this iteration...\n",
      "RMSE: 51.5232\n",
      "MAE:  44.0817\n",
      "✅ Iteration 2 complete.\n",
      "\n",
      "🔁 Iteration 3/7 (skip asked items, walk from root)\n"
     ]
    },
    {
     "name": "stderr",
     "output_type": "stream",
     "text": [
      "/Users/camillecu/Downloads/KUL/master_thesis/master_thesis_github/pct/tree/utils.py:45: RuntimeWarning: divide by zero encountered in divide\n",
      "  weights = 1/var\n",
      "/Users/camillecu/Downloads/KUL/master_thesis/master_thesis_github/pct/tree/utils.py:47: UserWarning: At least one of the target variables is constant, setting its weight to 0.\n",
      "  warnings.warn(\"At least one of the target variables is constant, setting its weight to 0.\")\n"
     ]
    },
    {
     "name": "stdout",
     "output_type": "stream",
     "text": [
      "Initializing Splitter...\n",
      "✅ Calling build()...\n",
      "✅ Tree built successfully!\n",
      "🌳 Tree re-trained.\n",
      "📊 Evaluating after this iteration...\n",
      "RMSE: 51.2696\n",
      "MAE:  43.8128\n",
      "✅ Iteration 3 complete.\n",
      "\n",
      "🔁 Iteration 4/7 (skip asked items, walk from root)\n"
     ]
    },
    {
     "name": "stderr",
     "output_type": "stream",
     "text": [
      "/Users/camillecu/Downloads/KUL/master_thesis/master_thesis_github/pct/tree/utils.py:45: RuntimeWarning: divide by zero encountered in divide\n",
      "  weights = 1/var\n",
      "/Users/camillecu/Downloads/KUL/master_thesis/master_thesis_github/pct/tree/utils.py:47: UserWarning: At least one of the target variables is constant, setting its weight to 0.\n",
      "  warnings.warn(\"At least one of the target variables is constant, setting its weight to 0.\")\n"
     ]
    },
    {
     "name": "stdout",
     "output_type": "stream",
     "text": [
      "Initializing Splitter...\n",
      "✅ Calling build()...\n",
      "✅ Tree built successfully!\n",
      "🌳 Tree re-trained.\n",
      "📊 Evaluating after this iteration...\n",
      "RMSE: 50.5404\n",
      "MAE:  43.0413\n",
      "✅ Iteration 4 complete.\n",
      "\n",
      "🔁 Iteration 5/7 (skip asked items, walk from root)\n"
     ]
    },
    {
     "name": "stderr",
     "output_type": "stream",
     "text": [
      "/Users/camillecu/Downloads/KUL/master_thesis/master_thesis_github/pct/tree/utils.py:45: RuntimeWarning: divide by zero encountered in divide\n",
      "  weights = 1/var\n",
      "/Users/camillecu/Downloads/KUL/master_thesis/master_thesis_github/pct/tree/utils.py:47: UserWarning: At least one of the target variables is constant, setting its weight to 0.\n",
      "  warnings.warn(\"At least one of the target variables is constant, setting its weight to 0.\")\n"
     ]
    },
    {
     "name": "stdout",
     "output_type": "stream",
     "text": [
      "Initializing Splitter...\n",
      "✅ Calling build()...\n",
      "✅ Tree built successfully!\n",
      "🌳 Tree re-trained.\n",
      "📊 Evaluating after this iteration...\n",
      "RMSE: 49.9093\n",
      "MAE:  42.3704\n",
      "✅ Iteration 5 complete.\n",
      "\n",
      "🔁 Iteration 6/7 (skip asked items, walk from root)\n"
     ]
    },
    {
     "name": "stderr",
     "output_type": "stream",
     "text": [
      "/Users/camillecu/Downloads/KUL/master_thesis/master_thesis_github/pct/tree/utils.py:45: RuntimeWarning: divide by zero encountered in divide\n",
      "  weights = 1/var\n",
      "/Users/camillecu/Downloads/KUL/master_thesis/master_thesis_github/pct/tree/utils.py:47: UserWarning: At least one of the target variables is constant, setting its weight to 0.\n",
      "  warnings.warn(\"At least one of the target variables is constant, setting its weight to 0.\")\n"
     ]
    },
    {
     "name": "stdout",
     "output_type": "stream",
     "text": [
      "Initializing Splitter...\n",
      "✅ Calling build()...\n",
      "✅ Tree built successfully!\n",
      "🌳 Tree re-trained.\n",
      "📊 Evaluating after this iteration...\n",
      "RMSE: 46.8529\n",
      "MAE:  39.1618\n",
      "✅ Iteration 6 complete.\n",
      "\n",
      "🔁 Iteration 7/7 (skip asked items, walk from root)\n"
     ]
    },
    {
     "name": "stderr",
     "output_type": "stream",
     "text": [
      "/Users/camillecu/Downloads/KUL/master_thesis/master_thesis_github/pct/tree/utils.py:45: RuntimeWarning: divide by zero encountered in divide\n",
      "  weights = 1/var\n",
      "/Users/camillecu/Downloads/KUL/master_thesis/master_thesis_github/pct/tree/utils.py:47: UserWarning: At least one of the target variables is constant, setting its weight to 0.\n",
      "  warnings.warn(\"At least one of the target variables is constant, setting its weight to 0.\")\n"
     ]
    },
    {
     "name": "stdout",
     "output_type": "stream",
     "text": [
      "Initializing Splitter...\n",
      "✅ Calling build()...\n"
     ]
    },
    {
     "name": "stderr",
     "output_type": "stream",
     "text": [
      "/Users/camillecu/Downloads/KUL/master_thesis/master_thesis_github/pct/tree/node/node.py:73: RuntimeWarning: invalid value encountered in divide\n",
      "  prototype /= np.sum(\n",
      "/Users/camillecu/Downloads/KUL/master_thesis/master_thesis_github/pct/tree/node/node.py:73: RuntimeWarning: invalid value encountered in divide\n",
      "  prototype /= np.sum(\n"
     ]
    },
    {
     "name": "stdout",
     "output_type": "stream",
     "text": [
      "✅ Tree built successfully!\n",
      "🌳 Tree re-trained.\n",
      "📊 Evaluating after this iteration...\n",
      "RMSE: 46.0297\n",
      "MAE:  38.2920\n",
      "✅ Iteration 7 complete.\n"
     ]
    }
   ],
   "source": [
    "import warnings\n",
    "warnings.simplefilter(action='ignore', category=FutureWarning)\n",
    "# ignore runtime warnings\n",
    "\n",
    "pct_hybrid_30 = elicitation_by_tree_path_retrain_skiped_warm(\n",
    "    Tree=Tree,\n",
    "    train=train_cold_K_hybrid,\n",
    "    test=test_cold_hybrid,\n",
    "    X=X_cold_hybrid,\n",
    "    matrix_warm=matrix_warm,\n",
    "    idx_to_rid_cold=idx_to_rid_cold,\n",
    "    idx_to_rid_warm=idx_to_rid_warm,\n",
    "    idx_to_cid=idx_to_cid,\n",
    "    iteration=7\n",
    ")"
   ]
  },
  {
   "cell_type": "code",
   "execution_count": 64,
   "id": "384c2e37",
   "metadata": {},
   "outputs": [
    {
     "name": "stdout",
     "output_type": "stream",
     "text": [
      "RMSE: 52.3960\n",
      "MAE:  45.0198\n",
      "RMSE: 54.3612\n",
      "MAE:  48.5150\n",
      "1\n",
      "RMSE: 54.2035\n",
      "MAE:  48.3356\n",
      "2\n",
      "RMSE: 53.9256\n",
      "MAE:  48.0354\n",
      "3\n",
      "RMSE: 53.8412\n",
      "MAE:  47.9613\n",
      "4\n",
      "RMSE: 53.6288\n",
      "MAE:  47.7133\n",
      "5\n",
      "RMSE: 53.2585\n",
      "MAE:  47.2895\n",
      "6\n",
      "RMSE: 52.9956\n",
      "MAE:  47.0137\n",
      "7\n"
     ]
    }
   ],
   "source": [
    "entropy0_hybrid_30 = elicitation_np_warm(\n",
    "    matrix_warm=matrix_warm,\n",
    "    train=train_cold_K_hybrid,\n",
    "    test=test_cold_hybrid,\n",
    "    X=X_cold_hybrid,\n",
    "    strategy=i_entropy_0,\n",
    "    iteration=8,\n",
    "    k=1,\n",
    "    positive=False\n",
    ")"
   ]
  },
  {
   "cell_type": "code",
   "execution_count": 65,
   "id": "7fd5dbb3",
   "metadata": {},
   "outputs": [
    {
     "name": "stdout",
     "output_type": "stream",
     "text": [
      "RMSE: 52.8983\n",
      "MAE:  45.4909\n",
      "RMSE: 54.8613\n",
      "MAE:  49.0332\n",
      "1\n",
      "RMSE: 54.6676\n",
      "MAE:  48.8195\n",
      "2\n",
      "RMSE: 54.4906\n",
      "MAE:  48.6298\n",
      "3\n",
      "RMSE: 54.1528\n",
      "MAE:  48.2423\n",
      "4\n",
      "RMSE: 54.0773\n",
      "MAE:  48.1750\n",
      "5\n",
      "RMSE: 53.8051\n",
      "MAE:  47.8680\n",
      "6\n",
      "RMSE: 53.6204\n",
      "MAE:  47.6666\n",
      "7\n"
     ]
    }
   ],
   "source": [
    "entropy0_artist_30 = elicitation_np_warm(\n",
    "    matrix_warm=matrix_warm,\n",
    "    train=train_cold_K_artist,\n",
    "    test=test_cold_artist,\n",
    "    X=X_cold_artist,\n",
    "    strategy=i_entropy_0,\n",
    "    iteration=8,\n",
    "    k=1,\n",
    "    positive=False\n",
    ")"
   ]
  },
  {
   "cell_type": "code",
   "execution_count": 69,
   "id": "5cda65bb",
   "metadata": {},
   "outputs": [],
   "source": [
    "pct_30_artist = [52.8811, 52.4017, 52.0626, 51.7871, 50.2051, 49.5147, 49.0861, 46.6354]\n",
    "pct_30_hybrid = [52.3823, 51.8302, 51.5232, 51.2696, 50.5404, 49.9093, 46.8529, 46.0297]\n",
    "\n",
    "entropy_30_hybrid = [52.3960, 54.3612, 54.2035, 53.9256, 53.8412, 53.6288, 53.2585, 52.9956]\n",
    "entropy_30_artist = [52.8983, 54.8613, 54.6676, 54.4906, 54.1528, 54.0773, 53.8051, 53.6204]\n",
    "\n"
   ]
  },
  {
   "cell_type": "code",
   "execution_count": 78,
   "id": "8ccb2c66",
   "metadata": {},
   "outputs": [
    {
     "data": {
      "image/png": "[encoded data removed]",
      "text/plain": [
       "<Figure size 640x480 with 1 Axes>"
      ]
     },
     "metadata": {},
     "output_type": "display_data"
    }
   ],
   "source": [
    "# x = np.arange(0,16) \n",
    "fig, (ax1) = plt.subplots(1)\n",
    "# fig.suptitle('Horizontally stacked subplots')\n",
    "ax1.plot(np.arange(len(pct_30_hybrid)), pct_30_hybrid, label='pct_hybrid_30')\n",
    "ax1.plot(np.arange(len(pct_30_artist)), pct_30_artist, label='pct_artist_30')\n",
    "ax1.plot(np.arange(len(entropy_30_hybrid)), entropy_30_hybrid, label='entropy0_hybrid_30')\n",
    "ax1.plot(np.arange(len(entropy_30_artist)), entropy_30_artist, label='entropy0_artist_30')\n",
    "# ax1.plot(x, pct_2[0], label='pct_2'\n",
    "\n",
    "plt.legend(loc=3)\n",
    "plt.xlabel(\"Iteration\")\n",
    "plt.ylabel(\"RMSE\")\n",
    "plt.xticks(range(1, 8)) \n",
    "plt.show()"
   ]
  },
  {
   "cell_type": "markdown",
   "id": "910c275a",
   "metadata": {},
   "source": [
    "## 40% warm"
   ]
  },
  {
   "cell_type": "code",
   "execution_count": 66,
   "id": "eafe5f66",
   "metadata": {},
   "outputs": [],
   "source": [
    "warm_users_idx, cold_users_idx = split_users_by_ratio(all_user_ids, 0.4)\n",
    "\n",
    "df_warm = filtered_df[filtered_df['user_id'].isin(warm_users_idx)].copy()\n",
    "df_cold = filtered_df[filtered_df['user_id'].isin(cold_users_idx)].copy()\n",
    "\n",
    "matrix_warm, rid_to_idx_warm, idx_to_rid_warm, cid_to_idx, idx_to_cid = df_to_matrix(\n",
    "    df_warm, \"user_id\", \"item_id\", \"rating\")\n",
    "\n",
    "\n",
    "matrix_cold, rid_to_idx_cold, idx_to_rid_cold, _, _ = df_to_matrix( \n",
    "    df_cold, \"user_id\", \"item_id\", \"rating\")\n"
   ]
  },
  {
   "cell_type": "code",
   "execution_count": 67,
   "id": "46d03e15",
   "metadata": {},
   "outputs": [],
   "source": [
    "my_seed = 7\n",
    "random.seed(my_seed)\n",
    "np.random.seed(my_seed)\n",
    "train_cold_K_artist, X_cold_artist, test_cold_artist  = split_and_combine(\"artist-only\")\n",
    "train_cold_K_hybrid, X_cold_hybrid, test_cold_hybrid = split_and_combine(\"hybrid\")"
   ]
  },
  {
   "cell_type": "code",
   "execution_count": null,
   "id": "20aaa441",
   "metadata": {},
   "outputs": [],
   "source": [
    "import warnings\n",
    "warnings.simplefilter(action='ignore', category=FutureWarning)\n",
    "\n",
    "pct_artist_40 = elicitation_by_tree_path_retrain_skiped_warm(\n",
    "    Tree=Tree,\n",
    "    train=train_cold_K_artist,\n",
    "    test=test_cold_artist,\n",
    "    X=X_cold_artist,\n",
    "    matrix_warm=matrix_warm,\n",
    "    idx_to_rid_cold=idx_to_rid_cold,\n",
    "    idx_to_rid_warm=idx_to_rid_warm,\n",
    "    idx_to_cid=idx_to_cid,\n",
    "    iteration=15\n",
    ")"
   ]
  },
  {
   "cell_type": "code",
   "execution_count": null,
   "id": "ab1681f1",
   "metadata": {},
   "outputs": [],
   "source": [
    "import warnings\n",
    "warnings.simplefilter(action='ignore', category=FutureWarning)\n",
    "# ignore runtime warnings\n",
    "\n",
    "pct_hybrid_40 = elicitation_by_tree_path_retrain_skiped_warm(\n",
    "    Tree=Tree,\n",
    "    train=train_cold_K_hybrid,\n",
    "    test=test_cold_hybrid,\n",
    "    X=X_cold_hybrid,\n",
    "    matrix_warm=matrix_warm,\n",
    "    idx_to_rid_cold=idx_to_rid_cold,\n",
    "    idx_to_rid_warm=idx_to_rid_warm,\n",
    "    idx_to_cid=idx_to_cid,\n",
    "    iteration=15\n",
    ")"
   ]
  },
  {
   "cell_type": "code",
   "execution_count": null,
   "id": "f319736b",
   "metadata": {},
   "outputs": [],
   "source": [
    "entropy0_hybrid_40 = elicitation_np_warm(\n",
    "    matrix_warm=matrix_warm,\n",
    "    train=train_cold_K_hybrid,\n",
    "    test=test_cold_hybrid,\n",
    "    X=X_cold_hybrid,\n",
    "    strategy=i_entropy_0,\n",
    "    iteration=8,\n",
    "    k=1,\n",
    "    positive=False\n",
    ")"
   ]
  },
  {
   "cell_type": "code",
   "execution_count": null,
   "id": "f18f1b30",
   "metadata": {},
   "outputs": [],
   "source": [
    "entropy0_artist_40 = elicitation_np_warm(\n",
    "    matrix_warm=matrix_warm,\n",
    "    train=train_cold_K_artist,\n",
    "    test=test_cold_artist,\n",
    "    X=X_cold_artist,\n",
    "    strategy=i_entropy_0,\n",
    "    iteration=8,\n",
    "    k=1,\n",
    "    positive=False\n",
    ")"
   ]
  },
  {
   "cell_type": "code",
   "execution_count": 79,
   "id": "7feaec98",
   "metadata": {},
   "outputs": [],
   "source": [
    "pct_40_hybrid = [52.5665, 51.2072,  49.7757, 49.1967, 48.5019, 48.0352, 47.3726, 46.9158]\n",
    "pct_40_artist = [52.8862, 51.5470, 50.8641, 50.4838, 50.1626, 49.8014, 49.3805, 48.7934]\n",
    "entropy0_40_hybrid = [52.5594, 54.3153, 54.1340, 53.2387, 53.0119, 52.9425, 52.7320, 52.6844]\n",
    "entropy0_40_artist = [52.8911, 54.7381, 54.4716, 54.2356, 53.6274, 53.4382, 53.3805, 53.0868]"
   ]
  },
  {
   "cell_type": "code",
   "execution_count": 80,
   "id": "416abfd7",
   "metadata": {},
   "outputs": [
    {
     "data": {
      "image/png": "[encoded data removed]",
      "text/plain": [
       "<Figure size 640x480 with 1 Axes>"
      ]
     },
     "metadata": {},
     "output_type": "display_data"
    }
   ],
   "source": [
    "# x = np.arange(0,16) \n",
    "fig, (ax1) = plt.subplots(1)\n",
    "# fig.suptitle('Horizontally stacked subplots')\n",
    "ax1.plot(np.arange(len(pct_40_hybrid)), pct_40_hybrid, label='pct_hybrid_40')\n",
    "ax1.plot(np.arange(len(pct_40_artist)), pct_40_artist, label='pct_artist_40')\n",
    "ax1.plot(np.arange(len(entropy0_40_hybrid)), entropy0_40_hybrid, label='entropy0_hybrid_40')\n",
    "ax1.plot(np.arange(len(entropy0_40_artist)), entropy0_40_artist, label='entropy0_artist_40')\n",
    "# ax1.plot(x, pct_2[0], label='pct_2'\n",
    "\n",
    "plt.legend(loc=3)\n",
    "plt.xlabel(\"Iteration\")\n",
    "plt.ylabel(\"RMSE\")\n",
    "plt.xticks(range(1, 8)) \n",
    "plt.show()"
   ]
  },
  {
   "cell_type": "markdown",
   "id": "aab08c7f",
   "metadata": {},
   "source": [
    "## 50% warm"
   ]
  },
  {
   "cell_type": "code",
   "execution_count": 81,
   "id": "8f18b9ad",
   "metadata": {},
   "outputs": [],
   "source": [
    "warm_users_idx, cold_users_idx = split_users_by_ratio(all_user_ids, 0.5)\n",
    "\n",
    "df_warm = filtered_df[filtered_df['user_id'].isin(warm_users_idx)].copy()\n",
    "df_cold = filtered_df[filtered_df['user_id'].isin(cold_users_idx)].copy()\n",
    "\n",
    "matrix_warm, rid_to_idx_warm, idx_to_rid_warm, cid_to_idx, idx_to_cid = df_to_matrix(\n",
    "    df_warm, \"user_id\", \"item_id\", \"rating\")\n",
    "\n",
    "\n",
    "matrix_cold, rid_to_idx_cold, idx_to_rid_cold, _, _ = df_to_matrix( \n",
    "    df_cold, \"user_id\", \"item_id\", \"rating\")\n"
   ]
  },
  {
   "cell_type": "code",
   "execution_count": 82,
   "id": "1dc8ef0e",
   "metadata": {},
   "outputs": [],
   "source": [
    "my_seed = 7\n",
    "random.seed(my_seed)\n",
    "np.random.seed(my_seed)\n",
    "train_cold_K_artist, X_cold_artist, test_cold_artist  = split_and_combine(\"artist-only\")\n",
    "train_cold_K_hybrid, X_cold_hybrid, test_cold_hybrid = split_and_combine(\"hybrid\")"
   ]
  },
  {
   "cell_type": "code",
   "execution_count": 117,
   "id": "281c473d",
   "metadata": {},
   "outputs": [
    {
     "name": "stdout",
     "output_type": "stream",
     "text": [
      "🔍 Evaluating baseline RMSE/MAE...\n",
      "RMSE: 52.3068\n",
      "MAE:  44.1017\n",
      "✅ Baseline evaluation complete.\n",
      "\n",
      "🔁 Iteration 1/7 (skip asked items, walk from root)\n",
      "Initializing Splitter...\n",
      "✅ Calling build()...\n",
      "✅ Tree built successfully!\n",
      "🌳 Tree re-trained.\n",
      "📊 Evaluating after this iteration...\n",
      "RMSE: 52.3111\n",
      "MAE:  44.1187\n",
      "✅ Iteration 1 complete.\n",
      "\n",
      "🔁 Iteration 2/7 (skip asked items, walk from root)\n",
      "Initializing Splitter...\n",
      "✅ Calling build()...\n",
      "✅ Tree built successfully!\n",
      "🌳 Tree re-trained.\n",
      "📊 Evaluating after this iteration...\n",
      "RMSE: 51.3020\n",
      "MAE:  43.0687\n",
      "✅ Iteration 2 complete.\n",
      "\n",
      "🔁 Iteration 3/7 (skip asked items, walk from root)\n",
      "Initializing Splitter...\n",
      "✅ Calling build()...\n",
      "✅ Tree built successfully!\n",
      "🌳 Tree re-trained.\n",
      "📊 Evaluating after this iteration...\n",
      "RMSE: 49.4085\n",
      "MAE:  41.1277\n",
      "✅ Iteration 3 complete.\n",
      "\n",
      "🔁 Iteration 4/7 (skip asked items, walk from root)\n",
      "Initializing Splitter...\n",
      "✅ Calling build()...\n",
      "✅ Tree built successfully!\n",
      "🌳 Tree re-trained.\n",
      "📊 Evaluating after this iteration...\n",
      "RMSE: 48.7688\n",
      "MAE:  40.4663\n",
      "✅ Iteration 4 complete.\n",
      "\n",
      "🔁 Iteration 5/7 (skip asked items, walk from root)\n",
      "Initializing Splitter...\n",
      "✅ Calling build()...\n",
      "✅ Tree built successfully!\n",
      "🌳 Tree re-trained.\n",
      "📊 Evaluating after this iteration...\n",
      "RMSE: 48.0867\n",
      "MAE:  39.7578\n",
      "✅ Iteration 5 complete.\n",
      "\n",
      "🔁 Iteration 6/7 (skip asked items, walk from root)\n",
      "Initializing Splitter...\n",
      "✅ Calling build()...\n"
     ]
    },
    {
     "name": "stderr",
     "output_type": "stream",
     "text": [
      "/Users/camillecu/Downloads/KUL/master_thesis/master_thesis_github/pct/tree/node/node.py:73: RuntimeWarning: invalid value encountered in divide\n",
      "  prototype /= np.sum(\n"
     ]
    },
    {
     "name": "stdout",
     "output_type": "stream",
     "text": [
      "✅ Tree built successfully!\n",
      "🌳 Tree re-trained.\n",
      "📊 Evaluating after this iteration...\n",
      "RMSE: 47.6160\n",
      "MAE:  39.2737\n",
      "✅ Iteration 6 complete.\n",
      "\n",
      "🔁 Iteration 7/7 (skip asked items, walk from root)\n",
      "Initializing Splitter...\n",
      "✅ Calling build()...\n"
     ]
    },
    {
     "name": "stderr",
     "output_type": "stream",
     "text": [
      "/Users/camillecu/Downloads/KUL/master_thesis/master_thesis_github/pct/tree/node/node.py:73: RuntimeWarning: invalid value encountered in divide\n",
      "  prototype /= np.sum(\n",
      "/Users/camillecu/Downloads/KUL/master_thesis/master_thesis_github/pct/tree/node/node.py:73: RuntimeWarning: invalid value encountered in divide\n",
      "  prototype /= np.sum(\n",
      "/Users/camillecu/Downloads/KUL/master_thesis/master_thesis_github/pct/tree/node/node.py:73: RuntimeWarning: invalid value encountered in divide\n",
      "  prototype /= np.sum(\n",
      "/Users/camillecu/Downloads/KUL/master_thesis/master_thesis_github/pct/tree/node/node.py:73: RuntimeWarning: invalid value encountered in divide\n",
      "  prototype /= np.sum(\n",
      "/Users/camillecu/Downloads/KUL/master_thesis/master_thesis_github/pct/tree/node/node.py:73: RuntimeWarning: invalid value encountered in divide\n",
      "  prototype /= np.sum(\n",
      "/Users/camillecu/Downloads/KUL/master_thesis/master_thesis_github/pct/tree/node/node.py:73: RuntimeWarning: invalid value encountered in divide\n",
      "  prototype /= np.sum(\n",
      "/Users/camillecu/Downloads/KUL/master_thesis/master_thesis_github/pct/tree/node/node.py:73: RuntimeWarning: invalid value encountered in divide\n",
      "  prototype /= np.sum(\n",
      "/Users/camillecu/Downloads/KUL/master_thesis/master_thesis_github/pct/tree/node/node.py:73: RuntimeWarning: invalid value encountered in divide\n",
      "  prototype /= np.sum(\n",
      "/Users/camillecu/Downloads/KUL/master_thesis/master_thesis_github/pct/tree/node/node.py:73: RuntimeWarning: invalid value encountered in divide\n",
      "  prototype /= np.sum(\n",
      "/Users/camillecu/Downloads/KUL/master_thesis/master_thesis_github/pct/tree/node/node.py:73: RuntimeWarning: invalid value encountered in divide\n",
      "  prototype /= np.sum(\n"
     ]
    },
    {
     "name": "stdout",
     "output_type": "stream",
     "text": [
      "✅ Tree built successfully!\n",
      "🌳 Tree re-trained.\n",
      "📊 Evaluating after this iteration...\n",
      "RMSE: 46.7884\n",
      "MAE:  38.4216\n",
      "✅ Iteration 7 complete.\n"
     ]
    }
   ],
   "source": [
    "import warnings\n",
    "warnings.simplefilter(action='ignore', category=FutureWarning)\n",
    "\n",
    "pct_artist_50 = elicitation_by_tree_path_retrain_skiped_warm(\n",
    "    Tree=Tree,\n",
    "    train=train_cold_K_artist,\n",
    "    test=test_cold_artist,\n",
    "    X=X_cold_artist,\n",
    "    matrix_warm=matrix_warm,\n",
    "    idx_to_rid_cold=idx_to_rid_cold,\n",
    "    idx_to_rid_warm=idx_to_rid_warm,\n",
    "    idx_to_cid=idx_to_cid,\n",
    "    iteration=7\n",
    ")"
   ]
  },
  {
   "cell_type": "code",
   "execution_count": null,
   "id": "209401f8",
   "metadata": {},
   "outputs": [],
   "source": [
    "import warnings\n",
    "warnings.simplefilter(action='ignore', category=FutureWarning)\n",
    "# ignore runtime warnings\n",
    "\n",
    "pct_hybrid_50 = elicitation_by_tree_path_retrain_skiped_warm(\n",
    "    Tree=Tree,\n",
    "    train=train_cold_K_hybrid,\n",
    "    test=test_cold_hybrid,\n",
    "    X=X_cold_hybrid,\n",
    "    matrix_warm=matrix_warm,\n",
    "    idx_to_rid_cold=idx_to_rid_cold,\n",
    "    idx_to_rid_warm=idx_to_rid_warm,\n",
    "    idx_to_cid=idx_to_cid,\n",
    "    iteration=7\n",
    ")"
   ]
  },
  {
   "cell_type": "code",
   "execution_count": 83,
   "id": "c6d526c1",
   "metadata": {},
   "outputs": [
    {
     "name": "stdout",
     "output_type": "stream",
     "text": [
      "RMSE: 53.1623\n",
      "MAE:  44.8608\n",
      "RMSE: 56.8832\n",
      "MAE:  51.3681\n",
      "1\n",
      "RMSE: 56.5990\n",
      "MAE:  51.0424\n",
      "2\n",
      "RMSE: 56.4609\n",
      "MAE:  50.9067\n",
      "3\n",
      "RMSE: 56.3258\n",
      "MAE:  50.7478\n",
      "4\n",
      "RMSE: 56.2670\n",
      "MAE:  50.6633\n",
      "5\n",
      "RMSE: 55.9919\n",
      "MAE:  50.3858\n",
      "6\n",
      "RMSE: 55.7650\n",
      "MAE:  50.1378\n",
      "7\n"
     ]
    }
   ],
   "source": [
    "entropy0_hybrid_50 = elicitation_np_warm(\n",
    "    matrix_warm=matrix_warm,\n",
    "    train=train_cold_K_hybrid,\n",
    "    test=test_cold_hybrid,\n",
    "    X=X_cold_hybrid,\n",
    "    strategy=i_entropy_0,\n",
    "    iteration=8,\n",
    "    k=1,\n",
    "    positive=False\n",
    ")"
   ]
  },
  {
   "cell_type": "code",
   "execution_count": 84,
   "id": "b7de4233",
   "metadata": {},
   "outputs": [
    {
     "name": "stdout",
     "output_type": "stream",
     "text": [
      "RMSE: 52.2818\n",
      "MAE:  44.0860\n",
      "RMSE: 55.8315\n",
      "MAE:  50.2394\n",
      "1\n",
      "RMSE: 55.5128\n",
      "MAE:  49.8857\n",
      "2\n",
      "RMSE: 55.4101\n",
      "MAE:  49.7649\n",
      "3\n",
      "RMSE: 55.2377\n",
      "MAE:  49.6091\n",
      "4\n",
      "RMSE: 55.1629\n",
      "MAE:  49.5166\n",
      "5\n",
      "RMSE: 54.9381\n",
      "MAE:  49.2649\n",
      "6\n",
      "RMSE: 54.5802\n",
      "MAE:  48.8645\n",
      "7\n"
     ]
    }
   ],
   "source": [
    "entropy0_artist_50 = elicitation_np_warm(\n",
    "    matrix_warm=matrix_warm,\n",
    "    train=train_cold_K_artist,\n",
    "    test=test_cold_artist,\n",
    "    X=X_cold_artist,\n",
    "    strategy=i_entropy_0,\n",
    "    iteration=8,\n",
    "    k=1,\n",
    "    positive=False\n",
    ")"
   ]
  },
  {
   "cell_type": "code",
   "execution_count": 85,
   "id": "18f2f407",
   "metadata": {},
   "outputs": [],
   "source": [
    "pct_50_hybrid = [52.5876, 52.3628, 52.0987, 50.2659, 48.5152, 47.1377, 46.4110, 45.2953]\n",
    "pct_50_artist = [52.3068, 52.3111, 51.3020, 49.4085, 48.7688, 48.0867, 47.6160, 46.7884]\n",
    "\n",
    "entropy0_50_hybrid = [53.1623, 56.8832, 56.5990, 56.4609, 56.3258, 56.2670, 55.9919, 55.7650]\n",
    "entropy0_50_artist = [52.2818, 55.8315, 55.5128, 55.4101, 55.2377, 55.1629, 54.9381, 54.5802]\n",
    "\n",
    "                      "
   ]
  },
  {
   "cell_type": "code",
   "execution_count": 87,
   "id": "c3ed3c4b",
   "metadata": {},
   "outputs": [
    {
     "data": {
      "image/png": "[encoded data removed]",
      "text/plain": [
       "<Figure size 640x480 with 1 Axes>"
      ]
     },
     "metadata": {},
     "output_type": "display_data"
    }
   ],
   "source": [
    "# x = np.arange(0,16) \n",
    "fig, (ax1) = plt.subplots(1)\n",
    "# fig.suptitle('Horizontally stacked subplots')\n",
    "ax1.plot(np.arange(len(pct_50_hybrid)), pct_50_hybrid, label='pct_hybrid_50')\n",
    "ax1.plot(np.arange(len(pct_50_artist)), pct_50_artist, label='pct_artist_50')\n",
    "ax1.plot(np.arange(len(entropy0_50_hybrid)), entropy0_50_hybrid, label='entropy0_hybrid_50')\n",
    "ax1.plot(np.arange(len(entropy0_50_artist)), entropy0_50_artist, label='entropy0_artist_50')\n",
    "# ax1.plot(x, pct_2[0], label='pct_2'\n",
    "\n",
    "plt.legend(loc=3)\n",
    "plt.xlabel(\"Iteration\")\n",
    "plt.ylabel(\"RMSE\")\n",
    "plt.xticks(range(1, 8)) \n",
    "plt.show()"
   ]
  },
  {
   "cell_type": "markdown",
   "id": "d82a46b5",
   "metadata": {},
   "source": []
  },
  {
   "cell_type": "markdown",
   "id": "e135da9a",
   "metadata": {},
   "source": [
    "### all entropy "
   ]
  },
  {
   "cell_type": "code",
   "execution_count": 155,
   "id": "05d07aee",
   "metadata": {},
   "outputs": [],
   "source": [
    "entropy0_hybrid_40 = [52.5594, 54.3153, 54.1340, 53.2387, 53.0119, 52.9425, 52.7320, 52.6844\n",
    "]\n",
    "entropy0_artist_40 = [52.8911, 54.7381, 54.4716, 54.2356, 53.6274, 53.4382, 53.3805, 53.0868\n",
    "]"
   ]
  },
  {
   "cell_type": "code",
   "execution_count": 89,
   "id": "eb7dd0af",
   "metadata": {},
   "outputs": [
    {
     "data": {
      "image/png": "[encoded data removed]",
      "text/plain": [
       "<Figure size 640x480 with 1 Axes>"
      ]
     },
     "metadata": {},
     "output_type": "display_data"
    }
   ],
   "source": [
    "# x = np.arange(0,16) \n",
    "fig, (ax1) = plt.subplots(1)\n",
    "# fig.suptitle('Horizontally stacked subplots')\n",
    "ax1.plot(np.arange(len(entropy_10_hybrid)), entropy_10_hybrid, label='entropy0_hybrid_10')\n",
    "ax1.plot(np.arange(len(entropy_10_artist)), entropy_10_artist, label='entropy0_artist_10')\n",
    "ax1.plot(np.arange(len(entropy_20_hybrid)), entropy_20_hybrid, label='entropy0_hybrid_20')\n",
    "ax1.plot(np.arange(len(entropy_20_artist)), entropy_20_artist, label='entropy0_hybrid_20')\n",
    "ax1.plot(np.arange(len(entropy_30_hybrid)), entropy_30_hybrid, label='entropy0_hybrid_30')\n",
    "ax1.plot(np.arange(len(entropy_30_artist)),entropy_30_artist, label='entropy0_hybrid_30')\n",
    "ax1.plot(np.arange(len(entropy0_40_hybrid)), entropy0_40_hybrid, label='entropy0_hybrid_40')\n",
    "ax1.plot(np.arange(len(entropy0_40_artist)), entropy0_40_artist, label='entropy0_hybrid_40')\n",
    "ax1.plot(np.arange(len(entropy0_50_hybrid)), entropy0_50_hybrid, label='entropy0_hybrid_50')\n",
    "ax1.plot(np.arange(len(entropy0_50_artist)), entropy0_50_artist, label='entropy0_hybrid_50')\n",
    "# ax1.plot(x, pct_2[0], label='pct_2'\n",
    "\n",
    "plt.legend(loc=1)\n",
    "plt.xlabel(\"Iteration\")\n",
    "plt.ylabel(\"RMSE\")\n",
    "plt.xticks(range(1, 16)) \n",
    "plt.show()"
   ]
  },
  {
   "cell_type": "markdown",
   "id": "9099538f",
   "metadata": {},
   "source": []
  },
  {
   "cell_type": "markdown",
   "id": "bcc326da",
   "metadata": {},
   "source": [
    "### all pct"
   ]
  },
  {
   "cell_type": "code",
   "execution_count": 100,
   "id": "c90e78be",
   "metadata": {},
   "outputs": [],
   "source": [
    "pct_10_artist = [51.9847, 52.0196, 47.9907, 46.1414, 44.8582, 44.2371, 43.2880, 42.4831]\n",
    "pct_10_hybrid = [51.9772, 48.9743, 46.1831, 44.9121, 43.9624, 43.3400, 42.2745, 41.6559]\n",
    "\n",
    "pct_20_hybrid = [52.3038, 52.2151, 51.6686, 51.3286, 51.0871, 50.8802, 50.6053, 49.9057]\n",
    "pct_20_artist = [52.2930, 52.2144, 51.6760, 51.4298, 51.1970, 50.9571, 50.7175, 50.1466]\n",
    "\n",
    "pct_30_artist = [52.8811, 52.4017, 52.0626, 51.7871, 50.2051, 49.5147, 49.0861, 46.6354]\n",
    "pct_30_hybrid = [52.3823, 51.8302, 51.5232, 51.2696, 50.5404, 49.9093, 46.8529, 46.0297]\n",
    "\n",
    "pct_40_hybrid = [52.5665, 51.2072,  49.7757, 49.1967, 48.5019, 48.0352, 47.3726, 46.9158]\n",
    "pct_40_artist = [52.8862, 51.5470, 50.8641, 50.4838, 50.1626, 49.8014, 49.3805, 48.7934]\n",
    "\n",
    "pct_50_hybrid = [52.5876, 52.3628, 52.0987, 50.2659, 48.5152, 47.1377, 46.4110, 45.2953]\n",
    "pct_50_artist = [52.3068, 52.3111, 51.3020, 49.4085, 48.7688, 48.0867, 47.6160, 46.7884]\n",
    "\n"
   ]
  },
  {
   "cell_type": "code",
   "execution_count": 160,
   "id": "abed2f7f",
   "metadata": {},
   "outputs": [
    {
     "data": {
      "image/png": "[encoded data removed]",
      "text/plain": [
       "<Figure size 640x480 with 1 Axes>"
      ]
     },
     "metadata": {},
     "output_type": "display_data"
    }
   ],
   "source": [
    "# x = np.arange(0,16) \n",
    "fig, (ax1) = plt.subplots(1)\n",
    "# fig.suptitle('Horizontally stacked subplots')\n",
    "ax1.plot(np.arange(len(pct_hybrid_10[0])), pct_hybrid_10[0], label='pct_hybrid_10')\n",
    "ax1.plot(np.arange(len(pct_artist_10_new[0])), pct_artist_10_new[0], label='pct_artist_10')\n",
    "ax1.plot(np.arange(len(pct_hybrid_20[0])), pct_hybrid_20[0], label='pct_hybrid_20')\n",
    "ax1.plot(np.arange(len(pct_artist_20[0])), pct_artist_20[0], label='pct_artist_20')\n",
    "ax1.plot(np.arange(len(pct_hybrid_30[0])), pct_hybrid_30[0], label='pct_hybrid_30')\n",
    "ax1.plot(np.arange(len(pct_artist_30[0])), pct_artist_30[0], label='pct_artist_30')\n",
    "ax1.plot(np.arange(len(pct_hybrid_40)), pct_hybrid_40, label='pct_hybrid_40')\n",
    "ax1.plot(np.arange(len(pct_artist_40)), pct_artist_40, label='pct_artist_40')\n",
    "ax1.plot(np.arange(len(pct_hybrid_50)), pct_hybrid_50, label='pct_hybrid_50')\n",
    "ax1.plot(np.arange(len(pct_artist_50[0])), pct_artist_50[0], label='pct_artist_50')\n",
    "\n",
    "\n",
    "plt.legend(loc=1)\n",
    "plt.xlabel(\"Iteration\")\n",
    "plt.ylabel(\"RMSE\")\n",
    "plt.xticks(range(1, 16)) \n",
    "plt.show()"
   ]
  },
  {
   "cell_type": "code",
   "execution_count": 102,
   "id": "f036c67a",
   "metadata": {},
   "outputs": [
    {
     "data": {
      "image/png": "[encoded data removed]",
      "text/plain": [
       "<Figure size 640x480 with 1 Axes>"
      ]
     },
     "metadata": {},
     "output_type": "display_data"
    }
   ],
   "source": [
    "# x = np.arange(0,16) \n",
    "fig, (ax1) = plt.subplots(1)\n",
    "# fig.suptitle('Horizontally stacked subplots')\n",
    "ax1.plot(np.arange(len(pct_10_hybrid)), pct_10_hybrid, label='pct_hybrid_10')\n",
    "ax1.plot(np.arange(len(pct_10_artist)), pct_10_artist, label='pct_artist_10')\n",
    "ax1.plot(np.arange(len(entropy_10_hybrid)), entropy_10_hybrid, label='entropy0_hybrid_10')\n",
    "ax1.plot(np.arange(len(entropy_10_artist)), entropy_10_artist, label='entropy0_artist_10')\n",
    "\n",
    "\n",
    "\n",
    "plt.legend(loc=1)\n",
    "plt.xlabel(\"Iteration\")\n",
    "plt.ylabel(\"RMSE\")\n",
    "plt.xticks(range(1, 16)) \n",
    "plt.show()"
   ]
  },
  {
   "cell_type": "code",
   "execution_count": null,
   "id": "47aab10b",
   "metadata": {},
   "outputs": [],
   "source": []
  }
 ],
 "metadata": {
  "kernelspec": {
   "display_name": "thesis",
   "language": "python",
   "name": "python3"
  },
  "language_info": {
   "codemirror_mode": {
    "name": "ipython",
    "version": 3
   },
   "file_extension": ".py",
   "mimetype": "text/x-python",
   "name": "python",
   "nbconvert_exporter": "python",
   "pygments_lexer": "ipython3",
   "version": "3.11.5"
  }
 },
 "nbformat": 4,
 "nbformat_minor": 5
}
