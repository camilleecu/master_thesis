{
 "cells": [
  {
   "cell_type": "code",
   "execution_count": 6,
   "id": "cbaf42b3-1fbe-4337-98e4-2a8c16049305",
   "metadata": {},
   "outputs": [],
   "source": [
    "import pandas as pd\n",
    "import numpy as np\n",
    "from sklearn.preprocessing import LabelEncoder\n",
    "from sklearn.model_selection import train_test_split\n",
    "\n",
    "# Load the u.data dataset\n",
    "u_data = pd.read_csv('ml-100k/u.data', sep='\\t', header=None, names=['user_id', 'item_id', 'rating', 'timestamp'])\n",
    "\n",
    "# Perform label encoding on user_id and item_id\n",
    "user_encoder = LabelEncoder()\n",
    "item_encoder = LabelEncoder()\n",
    "\n",
    "u_data['user_id'] = user_encoder.fit_transform(u_data['user_id'])\n",
    "u_data['item_id'] = item_encoder.fit_transform(u_data['item_id'])\n",
    "\n",
    "# Create the rating matrix\n",
    "n_users = u_data['user_id'].nunique()\n",
    "n_items = u_data['item_id'].nunique()\n",
    "\n"
   ]
  },
  {
   "cell_type": "markdown",
   "id": "4a744981",
   "metadata": {},
   "source": [
    "MovieLens 100K Dataset\n",
    "https://grouplens.org/datasets/movielens/"
   ]
  },
  {
   "cell_type": "code",
   "execution_count": 3,
   "id": "ac192fad-a7d0-488c-9fab-6b32cf4b50a3",
   "metadata": {},
   "outputs": [
    {
     "name": "stdout",
     "output_type": "stream",
     "text": [
      "Original Rating Matrix:\n",
      "item_id  0     1     2     3     4     5     6     7     8     9     ...  \\\n",
      "user_id                                                              ...   \n",
      "0         5.0   3.0   4.0   3.0   3.0   5.0   4.0   1.0   5.0   3.0  ...   \n",
      "1         4.0   NaN   NaN   NaN   NaN   NaN   NaN   NaN   NaN   2.0  ...   \n",
      "2         NaN   NaN   NaN   NaN   NaN   NaN   NaN   NaN   NaN   NaN  ...   \n",
      "3         NaN   NaN   NaN   NaN   NaN   NaN   NaN   NaN   NaN   NaN  ...   \n",
      "4         4.0   3.0   NaN   NaN   NaN   NaN   NaN   NaN   NaN   NaN  ...   \n",
      "\n",
      "item_id  1672  1673  1674  1675  1676  1677  1678  1679  1680  1681  \n",
      "user_id                                                              \n",
      "0         NaN   NaN   NaN   NaN   NaN   NaN   NaN   NaN   NaN   NaN  \n",
      "1         NaN   NaN   NaN   NaN   NaN   NaN   NaN   NaN   NaN   NaN  \n",
      "2         NaN   NaN   NaN   NaN   NaN   NaN   NaN   NaN   NaN   NaN  \n",
      "3         NaN   NaN   NaN   NaN   NaN   NaN   NaN   NaN   NaN   NaN  \n",
      "4         NaN   NaN   NaN   NaN   NaN   NaN   NaN   NaN   NaN   NaN  \n",
      "\n",
      "[5 rows x 1682 columns]\n",
      "\n",
      "Thresholded Rating Matrix:\n",
      "   0     1     2     3     4     5     6     7     8     9     ...  1672  \\\n",
      "0     1    -1     1    -1    -1     1     1    -1     1    -1  ...     0   \n",
      "1     1     0     0     0     0     0     0     0     0    -1  ...     0   \n",
      "2     0     0     0     0     0     0     0     0     0     0  ...     0   \n",
      "3     0     0     0     0     0     0     0     0     0     0  ...     0   \n",
      "4     1    -1     0     0     0     0     0     0     0     0  ...     0   \n",
      "\n",
      "   1673  1674  1675  1676  1677  1678  1679  1680  1681  \n",
      "0     0     0     0     0     0     0     0     0     0  \n",
      "1     0     0     0     0     0     0     0     0     0  \n",
      "2     0     0     0     0     0     0     0     0     0  \n",
      "3     0     0     0     0     0     0     0     0     0  \n",
      "4     0     0     0     0     0     0     0     0     0  \n",
      "\n",
      "[5 rows x 1682 columns]\n"
     ]
    }
   ],
   "source": [
    "# Define the threshold\n",
    "THRESHOLD = 3  # Ratings above this are \"Lovers\", below are \"Haters\"\n",
    "\n",
    "# Create a user-item matrix with users as rows and items as columns, and fill missing values with 0\n",
    "rating_matrix = u_data.pivot(index='user_id', columns='item_id', values='rating')\n",
    "\n",
    "# Apply threshold classification to the rating matrix (after thresholding)\n",
    "rating_matrix_thresholded = np.where(rating_matrix > THRESHOLD, 1, np.where(rating_matrix > 0, -1, 0))\n",
    "\n",
    "# Convert numpy array to pandas DataFrame for easier inspection\n",
    "rating_matrix_thresholded_df = pd.DataFrame(rating_matrix_thresholded)\n",
    "\n",
    "# Display the first few rows of the original and thresholded training rating matrices\n",
    "print(\"Original Rating Matrix:\")\n",
    "print(rating_matrix.head())\n",
    "\n",
    "print(\"\\nThresholded Rating Matrix:\")\n",
    "print(rating_matrix_thresholded_df.head())\n"
   ]
  },
  {
   "cell_type": "code",
   "execution_count": 4,
   "id": "35320cb7-e08a-4e59-b19b-6de82eb9e5a8",
   "metadata": {},
   "outputs": [],
   "source": [
    "# Create rI and rU indexes for training set (R)\n",
    "# rI: item to user ratings (dictionary of items with lists of user ratings)\n",
    "rI_train = {}\n",
    "for _, row in u_data.iterrows():\n",
    "    item_id = row['item_id']\n",
    "    user_id = row['user_id']\n",
    "    rating = row['rating']\n",
    "    if item_id not in rI_train:\n",
    "        rI_train[item_id] = []\n",
    "    rI_train[item_id].append((user_id, rating))\n",
    "\n",
    "# rU: user to item ratings (dictionary of users with lists of item ratings)\n",
    "rU_train = {}\n",
    "for _, row in u_data.iterrows():\n",
    "    user_id = row['user_id']\n",
    "    item_id = row['item_id']\n",
    "    rating = row['rating']\n",
    "    if user_id not in rU_train:\n",
    "        rU_train[user_id] = []\n",
    "    rU_train[user_id].append((item_id, rating))"
   ]
  },
  {
   "cell_type": "code",
   "execution_count": 5,
   "id": "920351d0-75fa-48eb-821d-44e1866d4c03",
   "metadata": {},
   "outputs": [
    {
     "name": "stdout",
     "output_type": "stream",
     "text": [
      "\n",
      "Sample rI (item to user ratings) for Training Set:\n",
      "Item 241: [(np.int64(195), np.int64(3)), (np.int64(62), np.int64(3)), (np.int64(225), np.int64(5)), (np.int64(153), np.int64(3)), (np.int64(305), np.int64(5)), (np.int64(295), np.int64(4)), (np.int64(33), np.int64(5)), (np.int64(270), np.int64(4)), (np.int64(200), np.int64(4)), (np.int64(208), np.int64(4)), (np.int64(34), np.int64(2)), (np.int64(353), np.int64(5)), (np.int64(198), np.int64(5)), (np.int64(112), np.int64(2)), (np.int64(0), np.int64(5)), (np.int64(172), np.int64(5)), (np.int64(359), np.int64(4)), (np.int64(233), np.int64(4)), (np.int64(13), np.int64(4)), (np.int64(308), np.int64(4)), (np.int64(330), np.int64(4)), (np.int64(20), np.int64(3)), (np.int64(110), np.int64(4)), (np.int64(438), np.int64(5)), (np.int64(354), np.int64(4)), (np.int64(203), np.int64(5)), (np.int64(144), np.int64(5)), (np.int64(29), np.int64(5)), (np.int64(462), np.int64(2)), (np.int64(143), np.int64(4)), (np.int64(416), np.int64(3)), (np.int64(1), np.int64(5)), (np.int64(496), np.int64(1)), (np.int64(522), np.int64(5)), (np.int64(11), np.int64(5)), (np.int64(201), np.int64(3)), (np.int64(130), np.int64(5)), (np.int64(450), np.int64(1)), (np.int64(531), np.int64(4)), (np.int64(538), np.int64(5)), (np.int64(536), np.int64(3)), (np.int64(415), np.int64(4)), (np.int64(565), np.int64(5)), (np.int64(596), np.int64(4)), (np.int64(180), np.int64(1)), (np.int64(638), np.int64(4)), (np.int64(122), np.int64(5)), (np.int64(519), np.int64(5)), (np.int64(616), np.int64(3)), (np.int64(85), np.int64(4)), (np.int64(623), np.int64(4)), (np.int64(8), np.int64(4)), (np.int64(650), np.int64(5)), (np.int64(491), np.int64(5)), (np.int64(206), np.int64(4)), (np.int64(459), np.int64(4)), (np.int64(696), np.int64(5)), (np.int64(128), np.int64(4)), (np.int64(39), np.int64(4)), (np.int64(739), np.int64(4)), (np.int64(238), np.int64(5)), (np.int64(793), np.int64(5)), (np.int64(460), np.int64(3)), (np.int64(770), np.int64(4)), (np.int64(732), np.int64(4)), (np.int64(567), np.int64(4)), (np.int64(672), np.int64(4)), (np.int64(248), np.int64(5)), (np.int64(5), np.int64(4)), (np.int64(204), np.int64(4)), (np.int64(591), np.int64(5)), (np.int64(439), np.int64(5)), (np.int64(640), np.int64(5)), (np.int64(764), np.int64(5)), (np.int64(138), np.int64(3)), (np.int64(627), np.int64(5)), (np.int64(472), np.int64(3)), (np.int64(694), np.int64(5)), (np.int64(205), np.int64(3)), (np.int64(862), np.int64(4)), (np.int64(89), np.int64(4)), (np.int64(593), np.int64(4)), (np.int64(865), np.int64(3)), (np.int64(802), np.int64(5)), (np.int64(239), np.int64(5)), (np.int64(752), np.int64(4)), (np.int64(734), np.int64(5)), (np.int64(868), np.int64(2)), (np.int64(654), np.int64(4)), (np.int64(17), np.int64(5)), (np.int64(897), np.int64(4)), (np.int64(936), np.int64(3)), (np.int64(766), np.int64(4)), (np.int64(532), np.int64(4)), (np.int64(679), np.int64(4)), (np.int64(484), np.int64(5)), (np.int64(573), np.int64(5)), (np.int64(757), np.int64(3)), (np.int64(485), np.int64(4)), (np.int64(12), np.int64(2)), (np.int64(723), np.int64(1)), (np.int64(269), np.int64(5)), (np.int64(427), np.int64(4)), (np.int64(860), np.int64(5)), (np.int64(870), np.int64(3)), (np.int64(407), np.int64(4)), (np.int64(194), np.int64(4)), (np.int64(278), np.int64(3)), (np.int64(742), np.int64(4)), (np.int64(706), np.int64(4)), (np.int64(893), np.int64(4)), (np.int64(674), np.int64(4)), (np.int64(304), np.int64(5)), (np.int64(844), np.int64(4)), (np.int64(499), np.int64(3)), (np.int64(719), np.int64(4)), (np.int64(720), np.int64(3))]\n",
      "Item 301: [(np.int64(185), np.int64(3)), (np.int64(190), np.int64(4)), (np.int64(48), np.int64(4)), (np.int64(53), np.int64(4)), (np.int64(61), np.int64(3)), (np.int64(205), np.int64(5)), (np.int64(196), np.int64(3)), (np.int64(213), np.int64(4)), (np.int64(189), np.int64(5)), (np.int64(302), np.int64(4)), (np.int64(180), np.int64(2)), (np.int64(153), np.int64(4)), (np.int64(30), np.int64(4)), (np.int64(304), np.int64(4)), (np.int64(177), np.int64(4)), (np.int64(101), np.int64(3)), (np.int64(99), np.int64(4)), (np.int64(143), np.int64(3)), (np.int64(12), np.int64(5)), (np.int64(314), np.int64(5)), (np.int64(87), np.int64(3)), (np.int64(281), np.int64(5)), (np.int64(333), np.int64(5)), (np.int64(207), np.int64(1)), (np.int64(111), np.int64(4)), (np.int64(276), np.int64(4)), (np.int64(144), np.int64(4)), (np.int64(391), np.int64(5)), (np.int64(275), np.int64(5)), (np.int64(359), np.int64(4)), (np.int64(125), np.int64(4)), (np.int64(318), np.int64(4)), (np.int64(46), np.int64(5)), (np.int64(145), np.int64(4)), (np.int64(377), np.int64(5)), (np.int64(130), np.int64(5)), (np.int64(170), np.int64(4)), (np.int64(200), np.int64(4)), (np.int64(191), np.int64(5)), (np.int64(344), np.int64(5)), (np.int64(203), np.int64(5)), (np.int64(106), np.int64(4)), (np.int64(221), np.int64(3)), (np.int64(432), np.int64(5)), (np.int64(228), np.int64(5)), (np.int64(338), np.int64(4)), (np.int64(426), np.int64(4)), (np.int64(28), np.int64(4)), (np.int64(419), np.int64(4)), (np.int64(42), np.int64(4)), (np.int64(267), np.int64(5)), (np.int64(240), np.int64(3)), (np.int64(396), np.int64(5)), (np.int64(382), np.int64(4)), (np.int64(345), np.int64(3)), (np.int64(460), np.int64(3)), (np.int64(417), np.int64(2)), (np.int64(404), np.int64(4)), (np.int64(178), np.int64(4)), (np.int64(361), np.int64(5)), (np.int64(9), np.int64(4)), (np.int64(89), np.int64(5)), (np.int64(296), np.int64(4)), (np.int64(424), np.int64(5)), (np.int64(412), np.int64(2)), (np.int64(148), np.int64(4)), (np.int64(429), np.int64(4)), (np.int64(231), np.int64(5)), (np.int64(103), np.int64(5)), (np.int64(284), np.int64(5)), (np.int64(128), np.int64(4)), (np.int64(25), np.int64(5)), (np.int64(513), np.int64(5)), (np.int64(14), np.int64(4)), (np.int64(292), np.int64(4)), (np.int64(488), np.int64(5)), (np.int64(420), np.int64(4)), (np.int64(342), np.int64(4)), (np.int64(497), np.int64(3)), (np.int64(459), np.int64(4)), (np.int64(389), np.int64(5)), (np.int64(172), np.int64(5)), (np.int64(139), np.int64(4)), (np.int64(268), np.int64(3)), (np.int64(321), np.int64(5)), (np.int64(566), np.int64(4)), (np.int64(465), np.int64(5)), (np.int64(445), np.int64(4)), (np.int64(403), np.int64(4)), (np.int64(407), np.int64(5)), (np.int64(298), np.int64(4)), (np.int64(115), np.int64(3)), (np.int64(531), np.int64(5)), (np.int64(506), np.int64(5)), (np.int64(422), np.int64(5)), (np.int64(568), np.int64(4)), (np.int64(351), np.int64(4)), (np.int64(511), np.int64(4)), (np.int64(633), np.int64(5)), (np.int64(2), np.int64(2)), (np.int64(374), np.int64(5)), (np.int64(560), np.int64(4)), (np.int64(449), np.int64(5)), (np.int64(62), np.int64(3)), (np.int64(627), np.int64(5)), (np.int64(569), np.int64(4)), (np.int64(104), np.int64(5)), (np.int64(554), np.int64(3)), (np.int64(547), np.int64(4)), (np.int64(5), np.int64(4)), (np.int64(573), np.int64(4)), (np.int64(508), np.int64(5)), (np.int64(413), np.int64(5)), (np.int64(93), np.int64(4)), (np.int64(138), np.int64(3)), (np.int64(530), np.int64(5)), (np.int64(514), np.int64(3)), (np.int64(366), np.int64(5)), (np.int64(13), np.int64(5)), (np.int64(684), np.int64(3)), (np.int64(110), np.int64(5)), (np.int64(706), np.int64(4)), (np.int64(696), np.int64(5)), (np.int64(665), np.int64(5)), (np.int64(330), np.int64(5)), (np.int64(542), np.int64(4)), (np.int64(383), np.int64(5)), (np.int64(682), np.int64(5)), (np.int64(326), np.int64(3)), (np.int64(720), np.int64(3)), (np.int64(430), np.int64(3)), (np.int64(519), np.int64(3)), (np.int64(761), np.int64(5)), (np.int64(15), np.int64(5)), (np.int64(489), np.int64(4)), (np.int64(463), np.int64(5)), (np.int64(133), np.int64(2)), (np.int64(639), np.int64(5)), (np.int64(618), np.int64(4)), (np.int64(51), np.int64(4)), (np.int64(716), np.int64(5)), (np.int64(73), np.int64(4)), (np.int64(68), np.int64(4)), (np.int64(270), np.int64(5)), (np.int64(363), np.int64(4)), (np.int64(176), np.int64(4)), (np.int64(703), np.int64(4)), (np.int64(400), np.int64(3)), (np.int64(473), np.int64(5)), (np.int64(206), np.int64(4)), (np.int64(654), np.int64(4)), (np.int64(757), np.int64(5)), (np.int64(817), np.int64(5)), (np.int64(283), np.int64(4)), (np.int64(472), np.int64(4)), (np.int64(668), np.int64(4)), (np.int64(719), np.int64(5)), (np.int64(787), np.int64(4)), (np.int64(215), np.int64(5)), (np.int64(746), np.int64(5)), (np.int64(852), np.int64(4)), (np.int64(754), np.int64(4)), (np.int64(150), np.int64(3)), (np.int64(327), np.int64(4)), (np.int64(827), np.int64(4)), (np.int64(444), np.int64(1)), (np.int64(328), np.int64(5)), (np.int64(837), np.int64(4)), (np.int64(663), np.int64(4)), (np.int64(893), np.int64(4)), (np.int64(387), np.int64(5)), (np.int64(732), np.int64(4)), (np.int64(807), np.int64(5)), (np.int64(870), np.int64(5)), (np.int64(888), np.int64(4)), (np.int64(369), np.int64(5)), (np.int64(398), np.int64(4)), (np.int64(388), np.int64(5)), (np.int64(462), np.int64(5)), (np.int64(750), np.int64(4)), (np.int64(447), np.int64(5)), (np.int64(832), np.int64(3)), (np.int64(157), np.int64(4)), (np.int64(591), np.int64(5)), (np.int64(786), np.int64(3)), (np.int64(675), np.int64(5)), (np.int64(712), np.int64(4)), (np.int64(774), np.int64(3)), (np.int64(864), np.int64(5)), (np.int64(695), np.int64(5)), (np.int64(427), np.int64(5)), (np.int64(808), np.int64(5)), (np.int64(869), np.int64(4)), (np.int64(457), np.int64(5)), (np.int64(895), np.int64(2)), (np.int64(865), np.int64(2)), (np.int64(742), np.int64(5)), (np.int64(421), np.int64(3)), (np.int64(912), np.int64(4)), (np.int64(415), np.int64(5)), (np.int64(739), np.int64(5)), (np.int64(209), np.int64(5)), (np.int64(743), np.int64(5)), (np.int64(801), np.int64(4)), (np.int64(450), np.int64(3)), (np.int64(614), np.int64(4)), (np.int64(604), np.int64(4)), (np.int64(534), np.int64(3)), (np.int64(546), np.int64(5)), (np.int64(826), np.int64(4)), (np.int64(781), np.int64(3)), (np.int64(751), np.int64(5)), (np.int64(525), np.int64(5)), (np.int64(362), np.int64(5)), (np.int64(655), np.int64(3)), (np.int64(70), np.int64(3)), (np.int64(844), np.int64(3)), (np.int64(919), np.int64(4)), (np.int64(248), np.int64(4)), (np.int64(656), np.int64(2)), (np.int64(818), np.int64(5)), (np.int64(904), np.int64(5)), (np.int64(479), np.int64(4)), (np.int64(853), np.int64(3)), (np.int64(523), np.int64(5)), (np.int64(933), np.int64(4)), (np.int64(239), np.int64(5)), (np.int64(536), np.int64(4)), (np.int64(800), np.int64(4)), (np.int64(484), np.int64(5)), (np.int64(901), np.int64(3)), (np.int64(623), np.int64(4)), (np.int64(625), np.int64(4)), (np.int64(859), np.int64(4)), (np.int64(555), np.int64(4)), (np.int64(453), np.int64(4)), (np.int64(723), np.int64(3)), (np.int64(850), np.int64(5)), (np.int64(559), np.int64(5)), (np.int64(47), np.int64(4)), (np.int64(653), np.int64(5)), (np.int64(667), np.int64(5)), (np.int64(563), np.int64(3)), (np.int64(114), np.int64(4)), (np.int64(277), np.int64(3)), (np.int64(790), np.int64(4)), (np.int64(687), np.int64(5)), (np.int64(586), np.int64(3)), (np.int64(882), np.int64(5)), (np.int64(862), np.int64(4)), (np.int64(769), np.int64(2)), (np.int64(879), np.int64(5)), (np.int64(805), np.int64(4)), (np.int64(159), np.int64(5)), (np.int64(845), np.int64(5)), (np.int64(925), np.int64(4)), (np.int64(616), np.int64(4)), (np.int64(939), np.int64(4)), (np.int64(694), np.int64(4)), (np.int64(744), np.int64(4)), (np.int64(876), np.int64(2)), (np.int64(783), np.int64(5)), (np.int64(39), np.int64(3)), (np.int64(650), np.int64(5)), (np.int64(840), np.int64(5)), (np.int64(841), np.int64(5)), (np.int64(392), np.int64(4)), (np.int64(38), np.int64(5)), (np.int64(379), np.int64(5)), (np.int64(835), np.int64(5)), (np.int64(780), np.int64(5)), (np.int64(874), np.int64(5)), (np.int64(819), np.int64(5)), (np.int64(615), np.int64(5)), (np.int64(914), np.int64(4)), (np.int64(771), np.int64(5)), (np.int64(1), np.int64(5)), (np.int64(184), np.int64(4)), (np.int64(902), np.int64(4)), (np.int64(331), np.int64(5)), (np.int64(610), np.int64(5)), (np.int64(466), np.int64(4)), (np.int64(543), np.int64(5)), (np.int64(485), np.int64(5)), (np.int64(811), np.int64(3)), (np.int64(550), np.int64(3)), (np.int64(918), np.int64(4)), (np.int64(474), np.int64(3)), (np.int64(930), np.int64(4)), (np.int64(709), np.int64(4)), (np.int64(146), np.int64(4)), (np.int64(672), np.int64(3)), (np.int64(873), np.int64(5)), (np.int64(634), np.int64(4)), (np.int64(343), np.int64(5)), (np.int64(416), np.int64(3)), (np.int64(897), np.int64(4))]\n",
      "\n",
      "Sample rU (user to item ratings) for Training Set:\n",
      "User 195: [(np.int64(241), np.int64(3)), (np.int64(392), np.int64(4)), (np.int64(380), np.int64(4)), (np.int64(250), np.int64(3)), (np.int64(654), np.int64(5)), (np.int64(66), np.int64(5)), (np.int64(305), np.int64(4)), (np.int64(237), np.int64(4)), (np.int64(662), np.int64(5)), (np.int64(110), np.int64(4)), (np.int64(579), np.int64(2)), (np.int64(24), np.int64(4)), (np.int64(285), np.int64(5)), (np.int64(93), np.int64(3)), (np.int64(691), np.int64(5)), (np.int64(7), np.int64(5)), (np.int64(427), np.int64(4)), (np.int64(1117), np.int64(4)), (np.int64(69), np.int64(3)), (np.int64(65), np.int64(3)), (np.int64(256), np.int64(2)), (np.int64(107), np.int64(4)), (np.int64(201), np.int64(3)), (np.int64(339), np.int64(3)), (np.int64(286), np.int64(3)), (np.int64(115), np.int64(3)), (np.int64(381), np.int64(4)), (np.int64(284), np.int64(5)), (np.int64(1240), np.int64(3)), (np.int64(1006), np.int64(4)), (np.int64(410), np.int64(4)), (np.int64(152), np.int64(5)), (np.int64(12), np.int64(2)), (np.int64(761), np.int64(3)), (np.int64(172), np.int64(2)), (np.int64(1021), np.int64(4)), (np.int64(844), np.int64(4)), (np.int64(268), np.int64(3)), (np.int64(109), np.int64(1))]\n",
      "User 185: [(np.int64(301), np.int64(3)), (np.int64(565), np.int64(5)), (np.int64(249), np.int64(1)), (np.int64(147), np.int64(4)), (np.int64(262), np.int64(3)), (np.int64(469), np.int64(5)), (np.int64(982), np.int64(3)), (np.int64(280), np.int64(4)), (np.int64(384), np.int64(4)), (np.int64(587), np.int64(4)), (np.int64(405), np.int64(1)), (np.int64(924), np.int64(5)), (np.int64(976), np.int64(3)), (np.int64(321), np.int64(5)), (np.int64(52), np.int64(1)), (np.int64(332), np.int64(3)), (np.int64(590), np.int64(4)), (np.int64(741), np.int64(3)), (np.int64(769), np.int64(2)), (np.int64(549), np.int64(4)), (np.int64(236), np.int64(2)), (np.int64(1276), np.int64(4)), (np.int64(1252), np.int64(4)), (np.int64(70), np.int64(5)), (np.int64(553), np.int64(1)), (np.int64(256), np.int64(4)), (np.int64(43), np.int64(5)), (np.int64(116), np.int64(5)), (np.int64(326), np.int64(3)), (np.int64(287), np.int64(1)), (np.int64(224), np.int64(4)), (np.int64(987), np.int64(4)), (np.int64(30), np.int64(4)), (np.int64(938), np.int64(5)), (np.int64(545), np.int64(4)), (np.int64(99), np.int64(4)), (np.int64(337), np.int64(3)), (np.int64(716), np.int64(3)), (np.int64(117), np.int64(2)), (np.int64(225), np.int64(5)), (np.int64(299), np.int64(5)), (np.int64(298), np.int64(3)), (np.int64(595), np.int64(4)), (np.int64(94), np.int64(3)), (np.int64(242), np.int64(2)), (np.int64(1015), np.int64(5)), (np.int64(78), np.int64(5)), (np.int64(305), np.int64(4)), (np.int64(105), np.int64(2)), (np.int64(828), np.int64(4)), (np.int64(933), np.int64(3)), (np.int64(1398), np.int64(2)), (np.int64(753), np.int64(2)), (np.int64(594), np.int64(3)), (np.int64(120), np.int64(2)), (np.int64(567), np.int64(4)), (np.int64(302), np.int64(3)), (np.int64(331), np.int64(4)), (np.int64(539), np.int64(4)), (np.int64(1045), np.int64(3)), (np.int64(97), np.int64(5)), (np.int64(55), np.int64(3)), (np.int64(879), np.int64(3)), (np.int64(202), np.int64(5)), (np.int64(1335), np.int64(3)), (np.int64(1082), np.int64(1)), (np.int64(290), np.int64(4)), (np.int64(355), np.int64(5)), (np.int64(683), np.int64(4)), (np.int64(37), np.int64(5)), (np.int64(476), np.int64(4)), (np.int64(257), np.int64(1)), (np.int64(297), np.int64(3)), (np.int64(819), np.int64(2)), (np.int64(1032), np.int64(3)), (np.int64(886), np.int64(4)), (np.int64(329), np.int64(4)), (np.int64(688), np.int64(4)), (np.int64(158), np.int64(5)), (np.int64(11), np.int64(1)), (np.int64(54), np.int64(4)), (np.int64(293), np.int64(3)), (np.int64(1212), np.int64(3)), (np.int64(1041), np.int64(5)), (np.int64(176), np.int64(4)), (np.int64(1384), np.int64(2)), (np.int64(330), np.int64(3)), (np.int64(76), np.int64(5)), (np.int64(404), np.int64(3)), (np.int64(146), np.int64(4)), (np.int64(294), np.int64(2)), (np.int64(268), np.int64(1))]\n"
     ]
    }
   ],
   "source": [
    "# Optionally, print rI and rU to check the data structure for training and testing\n",
    "print(\"\\nSample rI (item to user ratings) for Training Set:\")\n",
    "for item in list(rI_train.keys())[:2]:  # Display sample item indices\n",
    "    print(f\"Item {item}: {rI_train[item]}\")\n",
    "\n",
    "print(\"\\nSample rU (user to item ratings) for Training Set:\")\n",
    "for user in list(rU_train.keys())[:2]:  # Display sample user indices\n",
    "    print(f\"User {user}: {rU_train[user]}\")"
   ]
  },
  {
   "cell_type": "code",
   "execution_count": null,
   "id": "e092c176-8948-4e7c-a2eb-3460be067b0c",
   "metadata": {},
   "outputs": [],
   "source": []
  }
 ],
 "metadata": {
  "kernelspec": {
   "display_name": "thesis_github",
   "language": "python",
   "name": "python3"
  },
  "language_info": {
   "codemirror_mode": {
    "name": "ipython",
    "version": 3
   },
   "file_extension": ".py",
   "mimetype": "text/x-python",
   "name": "python",
   "nbconvert_exporter": "python",
   "pygments_lexer": "ipython3",
   "version": "3.9.13"
  }
 },
 "nbformat": 4,
 "nbformat_minor": 5
}
