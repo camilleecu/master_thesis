{
 "cells": [
  {
   "cell_type": "code",
   "execution_count": 1,
   "id": "b40bb130-79a5-4936-b81a-7c5fc7f16e8e",
   "metadata": {},
   "outputs": [
    {
     "name": "stdout",
     "output_type": "stream",
     "text": [
      "   user_id  item_id  rating  timestamp\n",
      "0      195      241       3  881250949\n",
      "1      185      301       3  891717742\n",
      "2       21      376       1  878887116\n",
      "3      243       50       2  880606923\n",
      "4      165      345       1  886397596\n"
     ]
    }
   ],
   "source": [
    "import pandas as pd\n",
    "from sklearn.preprocessing import LabelEncoder\n",
    "from pct.tree.treetest1 import Tree1\n",
    "\n",
    "# Load the u.data dataset\n",
    "u_data = pd.read_csv('C:/Users/13447/Desktop/Stats thesis/ml-100k/u.data', sep='\\t', header=None, names=['user_id', 'item_id', 'rating', 'timestamp'])\n",
    "\n",
    "# Perform label encoding on user_id and item_id\n",
    "user_encoder = LabelEncoder()\n",
    "item_encoder = LabelEncoder()\n",
    "\n",
    "u_data['user_id'] = user_encoder.fit_transform(u_data['user_id'])\n",
    "u_data['item_id'] = item_encoder.fit_transform(u_data['item_id'])\n",
    "\n",
    "# Optionally, convert timestamp to a more interpretable format (we'll ignore this for now)\n",
    "# u_data['timestamp'] = pd.to_datetime(u_data['timestamp'], unit='s')\n",
    "\n",
    "# Display the first few rows of the transformed data\n",
    "print(u_data.head())"
   ]
  },
  {
   "cell_type": "code",
   "execution_count": 2,
   "id": "6e0cafd7-cffc-4c53-b6b7-7df359e91b56",
   "metadata": {},
   "outputs": [
    {
     "name": "stdout",
     "output_type": "stream",
     "text": [
      "(80000, 2) (20000, 2) (80000,) (20000,)\n"
     ]
    }
   ],
   "source": [
    "from sklearn.model_selection import train_test_split\n",
    "\n",
    "# Features (X) and target variable (y)\n",
    "X = u_data[['user_id', 'item_id']]\n",
    "y = u_data['rating']\n",
    "\n",
    "# Split the data into training and testing sets (80% training, 20% testing)\n",
    "X_train, X_test, y_train, y_test = train_test_split(X, y, test_size=0.2, random_state=42)\n",
    "\n",
    "# Display the shapes of the training and test sets\n",
    "print(X_train.shape, X_test.shape, y_train.shape, y_test.shape)"
   ]
  },
  {
   "cell_type": "code",
   "execution_count": 3,
   "id": "4510890a-a5b9-4d10-8a26-122c418aa3c8",
   "metadata": {},
   "outputs": [
    {
     "name": "stdout",
     "output_type": "stream",
     "text": [
      "       user_id  item_id\n",
      "75220      806     1410\n",
      "48955      473      658\n",
      "44966      462      267\n",
      "13568      138      285\n",
      "92727      620      750\n",
      "Index([75220, 48955, 44966, 13568, 92727, 51349, 86979,  3806, 91822,  6006,\n",
      "       ...\n",
      "       60263, 44131, 87498, 37194, 82386,  6265, 54886, 76820,   860, 15795],\n",
      "      dtype='int64', length=80000)\n",
      "75220    1\n",
      "48955    5\n",
      "44966    4\n",
      "13568    4\n",
      "92727    4\n",
      "Name: rating, dtype: int64\n"
     ]
    }
   ],
   "source": [
    "print(X_train.head())  \n",
    "print(X_train.index)   \n",
    "print(y_train.head())  \n"
   ]
  },
  {
   "cell_type": "code",
   "execution_count": 4,
   "id": "157edf58-ab13-4f0a-8b0c-74da534d3cba",
   "metadata": {},
   "outputs": [
    {
     "data": {
      "text/plain": [
       "<pct.tree.treetest1.Tree1 at 0x1c5e28438d0>"
      ]
     },
     "execution_count": 4,
     "metadata": {},
     "output_type": "execute_result"
    }
   ],
   "source": [
    "import warnings\n",
    "warnings.filterwarnings(\"ignore\", category=FutureWarning)\n",
    "\n",
    "\n",
    "# Initialize the decision tree with the desired parameters\n",
    "tree = Tree1(min_instances=5, ftest=0.01)\n",
    "\n",
    "# Fit the model on the training data\n",
    "tree.fit(X_train, y_train)\n"
   ]
  },
  {
   "cell_type": "code",
   "execution_count": 5,
   "id": "df1465cf-3663-4d2f-ba9d-1663f9b43f18",
   "metadata": {},
   "outputs": [
    {
     "name": "stdout",
     "output_type": "stream",
     "text": [
      "Mean Squared Error: 1.2630611056439998\n"
     ]
    }
   ],
   "source": [
    "from sklearn.metrics import mean_squared_error\n",
    "\n",
    "# Make predictions on the test data\n",
    "y_pred = tree.predict(X_test)\n",
    "\n",
    "# Evaluate the model's performance using mean squared error (for regression task)\n",
    "mse = mean_squared_error(y_test, y_pred)\n",
    "print(f\"Mean Squared Error: {mse}\")\n"
   ]
  },
  {
   "cell_type": "code",
   "execution_count": 7,
   "id": "2fd6b595-e461-4733-854a-abe9f6994feb",
   "metadata": {},
   "outputs": [
    {
     "ename": "ModuleNotFoundError",
     "evalue": "No module named 'pygraphviz'",
     "output_type": "error",
     "traceback": [
      "\u001b[1;31m---------------------------------------------------------------------------\u001b[0m",
      "\u001b[1;31mModuleNotFoundError\u001b[0m                       Traceback (most recent call last)",
      "Cell \u001b[1;32mIn[7], line 1\u001b[0m\n\u001b[1;32m----> 1\u001b[0m \u001b[38;5;28;01mimport\u001b[39;00m \u001b[38;5;21;01mpygraphviz\u001b[39;00m \u001b[38;5;28;01mas\u001b[39;00m \u001b[38;5;21;01mpgv\u001b[39;00m\n\u001b[0;32m      4\u001b[0m \u001b[38;5;66;03m# Visualize the decision tree (ensure you have pygraphviz installed)\u001b[39;00m\n\u001b[0;32m      5\u001b[0m tree\u001b[38;5;241m.\u001b[39mdraw_tree(\u001b[38;5;124m'\u001b[39m\u001b[38;5;124mdecision_tree_output\u001b[39m\u001b[38;5;124m'\u001b[39m)\n",
      "\u001b[1;31mModuleNotFoundError\u001b[0m: No module named 'pygraphviz'"
     ]
    }
   ],
   "source": [
    "import pygraphviz as pgv\n",
    "\n",
    "\n",
    "# Visualize the decision tree (ensure you have pygraphviz installed)\n",
    "tree.draw_tree('decision_tree_output')\n"
   ]
  },
  {
   "cell_type": "code",
   "execution_count": null,
   "id": "71355058-f2ab-4aa2-b82e-3d25ad7509e9",
   "metadata": {},
   "outputs": [],
   "source": []
  }
 ],
 "metadata": {
  "kernelspec": {
   "display_name": "Python 3 (ipykernel)",
   "language": "python",
   "name": "python3"
  },
  "language_info": {
   "codemirror_mode": {
    "name": "ipython",
    "version": 3
   },
   "file_extension": ".py",
   "mimetype": "text/x-python",
   "name": "python",
   "nbconvert_exporter": "python",
   "pygments_lexer": "ipython3",
   "version": "3.11.7"
  }
 },
 "nbformat": 4,
 "nbformat_minor": 5
}
