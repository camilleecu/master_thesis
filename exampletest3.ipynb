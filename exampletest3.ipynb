{
 "cells": [
  {
   "cell_type": "code",
   "execution_count": 1,
   "id": "b40bb130-79a5-4936-b81a-7c5fc7f16e8e",
   "metadata": {},
   "outputs": [
    {
     "name": "stdout",
     "output_type": "stream",
     "text": [
      "   user_id  item_id  rating  timestamp\n",
      "0      195      241       3  881250949\n",
      "1      185      301       3  891717742\n",
      "2       21      376       1  878887116\n",
      "3      243       50       2  880606923\n",
      "4      165      345       1  886397596\n"
     ]
    }
   ],
   "source": [
    "import pandas as pd\n",
    "from sklearn.preprocessing import LabelEncoder\n",
    "\n",
    "from pct.tree.tree import Tree\n",
    "from pct.tree.treetest3 import Tree3\n",
    "\n",
    "\n",
    "# Load the u.data dataset\n",
    "u_data = pd.read_csv('C:/Users/13447/Desktop/Stats thesis/ml-100k/u.data', sep='\\t', header=None, names=['user_id', 'item_id', 'rating', 'timestamp'])\n",
    "\n",
    "# Perform label encoding on user_id and item_id\n",
    "user_encoder = LabelEncoder()\n",
    "item_encoder = LabelEncoder()\n",
    "\n",
    "u_data['user_id'] = user_encoder.fit_transform(u_data['user_id'])\n",
    "u_data['item_id'] = item_encoder.fit_transform(u_data['item_id'])\n",
    "\n",
    "# Optionally, convert timestamp to a more interpretable format (we'll ignore this for now)\n",
    "# u_data['timestamp'] = pd.to_datetime(u_data['timestamp'], unit='s')\n",
    "\n",
    "# Display the first few rows of the transformed data\n",
    "print(u_data.head())"
   ]
  },
  {
   "cell_type": "code",
   "execution_count": 2,
   "id": "06029a23-c859-4011-ac15-fc2ab12b1bdd",
   "metadata": {},
   "outputs": [
    {
     "name": "stdout",
     "output_type": "stream",
     "text": [
      "Rating Distribution:\n",
      "rating\n",
      "4    34174\n",
      "3    27145\n",
      "5    21201\n",
      "2    11370\n",
      "1     6110\n",
      "Name: count, dtype: int64\n"
     ]
    }
   ],
   "source": [
    "# Frequency distribution for the ratings\n",
    "rating_counts = u_data['rating'].value_counts()\n",
    "print(\"Rating Distribution:\")\n",
    "print(rating_counts)"
   ]
  },
  {
   "cell_type": "code",
   "execution_count": 3,
   "id": "6e0cafd7-cffc-4c53-b6b7-7df359e91b56",
   "metadata": {},
   "outputs": [
    {
     "name": "stdout",
     "output_type": "stream",
     "text": [
      "(80000, 2) (20000, 2) (80000,) (20000,)\n"
     ]
    }
   ],
   "source": [
    "from sklearn.model_selection import train_test_split\n",
    "\n",
    "# Features (X) and target variable (y)\n",
    "X = u_data[['user_id', 'item_id']]\n",
    "y = u_data['rating']\n",
    "\n",
    "# Split the data into training and testing sets (80% training, 20% testing)\n",
    "X_train, X_test, y_train, y_test = train_test_split(X, y, test_size=0.2, random_state=42)\n",
    "\n",
    "# Display the shapes of the training and test sets\n",
    "print(X_train.shape, X_test.shape, y_train.shape, y_test.shape)"
   ]
  },
  {
   "cell_type": "code",
   "execution_count": 4,
   "id": "4510890a-a5b9-4d10-8a26-122c418aa3c8",
   "metadata": {},
   "outputs": [
    {
     "name": "stdout",
     "output_type": "stream",
     "text": [
      "       user_id  item_id\n",
      "75220      806     1410\n",
      "48955      473      658\n",
      "44966      462      267\n",
      "13568      138      285\n",
      "92727      620      750\n",
      "Index([75220, 48955, 44966, 13568, 92727, 51349, 86979,  3806, 91822,  6006,\n",
      "       ...\n",
      "       60263, 44131, 87498, 37194, 82386,  6265, 54886, 76820,   860, 15795],\n",
      "      dtype='int64', length=80000)\n",
      "75220    1\n",
      "48955    5\n",
      "44966    4\n",
      "13568    4\n",
      "92727    4\n",
      "Name: rating, dtype: int64\n"
     ]
    }
   ],
   "source": [
    "print(X_train.head())  \n",
    "print(X_train.index)   \n",
    "print(y_train.head())  \n"
   ]
  },
  {
   "cell_type": "code",
   "execution_count": 5,
   "id": "aa870044-161a-4c9e-b440-f8347f9bcbb6",
   "metadata": {},
   "outputs": [
    {
     "data": {
      "text/plain": [
       "<pct.tree.tree.Tree at 0x2572b669450>"
      ]
     },
     "execution_count": 5,
     "metadata": {},
     "output_type": "execute_result"
    }
   ],
   "source": [
    "import warnings\n",
    "\n",
    "\n",
    "warnings.filterwarnings(\"ignore\")\n",
    "# Initialize the decision tree with the desired parameters\n",
    "tree = Tree(min_instances=5, ftest=0.01)\n",
    "\n",
    "# Fit the model on the training data\n",
    "tree.fit(X_train, y_train)"
   ]
  },
  {
   "cell_type": "code",
   "execution_count": 6,
   "id": "59479be0-9030-4143-a56d-ca6af6cc322e",
   "metadata": {},
   "outputs": [
    {
     "name": "stdout",
     "output_type": "stream",
     "text": [
      "Mean Squared Error: 1.0587531221064248\n"
     ]
    }
   ],
   "source": [
    "from sklearn.metrics import mean_squared_error\n",
    "\n",
    "# Make predictions on the test data\n",
    "y_pred = tree.predict(X_test)\n",
    "\n",
    "# Evaluate the model's performance using mean squared error (for regression task)\n",
    "mse = mean_squared_error(y_test, y_pred)\n",
    "print(f\"Mean Squared Error: {mse}\")"
   ]
  },
  {
   "cell_type": "code",
   "execution_count": null,
   "id": "46425265-dba8-4afe-bc6a-a6e213526b02",
   "metadata": {
    "scrolled": true
   },
   "outputs": [],
   "source": [
    "tree.print_tree_structure()"
   ]
  },
  {
   "cell_type": "code",
   "execution_count": 5,
   "id": "a320c927-3b5c-4ad5-99b8-35408e14d5ea",
   "metadata": {
    "scrolled": true
   },
   "outputs": [
    {
     "name": "stdout",
     "output_type": "stream",
     "text": [
      "Trying to split on attribute: user_id\n",
      "Performing numerical split on user_id\n",
      "Thresholds for splitting: 3.0, 4.0\n",
      "Best numerical split found with criterion: -inf at value: None\n",
      "Left split size: 14012, Middle split size: 21603, Right split size: 44385\n",
      "Trying to split on attribute: item_id\n",
      "Performing numerical split on item_id\n",
      "Thresholds for splitting: 3.0, 4.0\n",
      "Best numerical split found with criterion: -inf at value: None\n",
      "Left split size: 14012, Middle split size: 21603, Right split size: 44385\n",
      "Best split found on attribute: user_id with criterion: -inf\n"
     ]
    },
    {
     "data": {
      "text/plain": [
       "<pct.tree.treetest3.Tree3 at 0x1cfc3f729d0>"
      ]
     },
     "execution_count": 5,
     "metadata": {},
     "output_type": "execute_result"
    }
   ],
   "source": [
    "from pct.tree.ftest.ftest import FTest\n",
    "\n",
    "# Ensure that FTest class is correctly initialized\n",
    "ftest_instance = FTest(0.01)\n",
    "\n",
    "# Initialize the decision tree with the FTest instance\n",
    "tree3 = Tree3(min_instances=5, ftest=ftest_instance)\n",
    "\n",
    "# Fit the model on the training data\n",
    "tree3.fit(X_train, y_train)\n"
   ]
  },
  {
   "cell_type": "code",
   "execution_count": 6,
   "id": "3a6f995c-a522-4f1f-ae46-83571de06f86",
   "metadata": {},
   "outputs": [
    {
     "name": "stdout",
     "output_type": "stream",
     "text": [
      "Mean Squared Error: 1.2630611056439998\n"
     ]
    }
   ],
   "source": [
    "from sklearn.metrics import mean_squared_error\n",
    "\n",
    "# Make predictions on the test data\n",
    "y_pred3 = tree3.predict(X_test)\n",
    "\n",
    "# Evaluate the model's performance using mean squared error (for regression task)\n",
    "mse = mean_squared_error(y_test, y_pred3)\n",
    "print(f\"Mean Squared Error: {mse}\")\n"
   ]
  },
  {
   "cell_type": "code",
   "execution_count": 12,
   "id": "2c97f9d3-3db4-43e9-8c3d-0935768f4431",
   "metadata": {
    "scrolled": true
   },
   "outputs": [
    {
     "name": "stdout",
     "output_type": "stream",
     "text": [
      "Node: leaf_1=[3.531262] (80000.0)\n",
      "Attribute: None\n",
      "Value: None\n",
      "Criterion: None\n",
      "Leaf Node: Prototype [3.531262]\n"
     ]
    }
   ],
   "source": [
    "tree3.print_tree_structure()"
   ]
  },
  {
   "cell_type": "code",
   "execution_count": null,
   "id": "c085984b-53af-4c30-88fc-4a1a2e7c5964",
   "metadata": {},
   "outputs": [],
   "source": []
  }
 ],
 "metadata": {
  "kernelspec": {
   "display_name": "Python 3 (ipykernel)",
   "language": "python",
   "name": "python3"
  },
  "language_info": {
   "codemirror_mode": {
    "name": "ipython",
    "version": 3
   },
   "file_extension": ".py",
   "mimetype": "text/x-python",
   "name": "python",
   "nbconvert_exporter": "python",
   "pygments_lexer": "ipython3",
   "version": "3.11.7"
  }
 },
 "nbformat": 4,
 "nbformat_minor": 5
}
