{
 "cells": [
  {
   "cell_type": "code",
   "execution_count": 1,
   "id": "42c86d01",
   "metadata": {},
   "outputs": [],
   "source": [
    "import sys\n",
    "sys.path.append('/Users/camillecu/Downloads/KUL/master_thesis/master_thesis_github')"
   ]
  },
  {
   "cell_type": "code",
   "execution_count": null,
   "id": "064955c7-6535-4302-a999-57c927b4874a",
   "metadata": {},
   "outputs": [
    {
     "name": "stdout",
     "output_type": "stream",
     "text": [
      "Requirement already satisfied: surprise in /Users/camillecu/Downloads/KUL/master_thesis/master_thesis_github/thesis_github/lib/python3.9/site-packages (0.1)\n",
      "Requirement already satisfied: scikit-surprise in /Users/camillecu/Downloads/KUL/master_thesis/master_thesis_github/thesis_github/lib/python3.9/site-packages (from surprise) (1.1.4)\n",
      "Requirement already satisfied: joblib>=1.2.0 in /Users/camillecu/Downloads/KUL/master_thesis/master_thesis_github/thesis_github/lib/python3.9/site-packages (from scikit-surprise->surprise) (1.4.2)\n",
      "Requirement already satisfied: numpy>=1.19.5 in /Users/camillecu/Downloads/KUL/master_thesis/master_thesis_github/thesis_github/lib/python3.9/site-packages (from scikit-surprise->surprise) (1.26.4)\n",
      "Requirement already satisfied: scipy>=1.6.0 in /Users/camillecu/Downloads/KUL/master_thesis/master_thesis_github/thesis_github/lib/python3.9/site-packages (from scikit-surprise->surprise) (1.13.1)\n",
      "\n",
      "\u001b[1m[\u001b[0m\u001b[34;49mnotice\u001b[0m\u001b[1;39;49m]\u001b[0m\u001b[39;49m A new release of pip is available: \u001b[0m\u001b[31;49m25.0.1\u001b[0m\u001b[39;49m -> \u001b[0m\u001b[32;49m25.1.1\u001b[0m\n",
      "\u001b[1m[\u001b[0m\u001b[34;49mnotice\u001b[0m\u001b[1;39;49m]\u001b[0m\u001b[39;49m To update, run: \u001b[0m\u001b[32;49mpip install --upgrade pip\u001b[0m\n"
     ]
    }
   ],
   "source": [
    "\n",
    "# import pysparnn.cluster_index as ci\n",
    "# import scipy.sparse\n",
    "# import os\n",
    "import math\n",
    "import numpy as np\n",
    "import pandas as pd\n",
    "import random\n",
    "import scipy.sparse as sp\n",
    "from utils import train_test_split, df_to_matrix ,matrix_to_df_2, threshold_interactions_df, matrix_to_df,set_intersection,get_0_and_p_index,set_diff, matrix_to_full_df, threshold_interactions_df_plus, train_test_split_csr\n",
    "\n",
    "!pip install surprise\n",
    "from surprise import Reader, accuracy\n",
    "from surprise import SVD\n",
    "from surprise import Dataset\n",
    "from collections import Counter\n",
    "from collections import defaultdict\n",
    "\n",
    "%matplotlib inline\n",
    "import matplotlib\n",
    "import matplotlib.pyplot as plt\n",
    "\n",
    "from pct.tree.heuristic.Heuristic import Heuristic5\n",
    "from pct.tree.heuristic.NumericHeuristic import NumericHeuristic5\n",
    "from pct.tree.splitter.splitter import Splitter\n",
    "from pct.tree.tree import Tree"
   ]
  },
  {
   "cell_type": "code",
   "execution_count": 3,
   "id": "38467c1d-90da-4e35-8b08-ce21ff97975e",
   "metadata": {},
   "outputs": [],
   "source": [
    "\n",
    "my_seed = 7\n",
    "random.seed(my_seed)\n",
    "np.random.seed(my_seed)\n",
    "\n",
    "def load_user_item_matrix(filepath):\n",
    "    data = []\n",
    "\n",
    "    with open(filepath, 'r') as f:\n",
    "        while True:\n",
    "            user_line = f.readline()\n",
    "            if not user_line:\n",
    "                break\n",
    "\n",
    "            user_line = user_line.strip()\n",
    "            if '|' not in user_line:\n",
    "                continue\n",
    "\n",
    "            user_id, num_ratings = user_line.split('|')\n",
    "            user_id = int(user_id)\n",
    "            num_ratings = int(num_ratings)\n",
    "\n",
    "            for _ in range(num_ratings):\n",
    "                item_line = f.readline().strip()\n",
    "                parts = item_line.split('\\t')\n",
    "                if len(parts) < 2:\n",
    "                    continue\n",
    "                item_id, score = parts[0], parts[1]\n",
    "                data.append([user_id, int(item_id), int(score)])\n",
    "\n",
    "    df = pd.DataFrame(data, columns=['user_id', 'item_id', 'rating'])\n",
    "    return df\n"
   ]
  },
  {
   "cell_type": "code",
   "execution_count": 4,
   "id": "641ebbc5-ca2d-43b0-bcd1-4a6995875325",
   "metadata": {},
   "outputs": [],
   "source": [
    "def safe_int(x):\n",
    "    return int(x) if x != 'None' else 0\n",
    "\n",
    "\n",
    "def load_track_data(filepath):\n",
    "    track_data = []\n",
    "    with open(filepath, 'r') as f:\n",
    "        for line in f:\n",
    "            parts = line.strip().split('|')\n",
    "            track_id = safe_int(parts[0])\n",
    "            album_id = safe_int(parts[1])\n",
    "            artist_id = safe_int(parts[2])\n",
    "            genre_ids = [safe_int(g) for g in parts[3:]] if len(parts) > 3 else []\n",
    "            track_data.append([track_id, album_id, artist_id, genre_ids])\n",
    "    return pd.DataFrame(track_data, columns=['track_id', 'album_id', 'artist_id', 'genre_ids'])\n",
    "\n",
    "def load_album_data(filepath):\n",
    "    album_data = []\n",
    "    with open(filepath, 'r') as f:\n",
    "        for line in f:\n",
    "            parts = line.strip().split('|')\n",
    "            album_id = safe_int(parts[0])\n",
    "            artist_id = safe_int(parts[1])\n",
    "            genre_ids = [safe_int(g) for g in parts[2:]] if len(parts) > 2 else []\n",
    "            album_data.append([album_id, artist_id, genre_ids])\n",
    "    return pd.DataFrame(album_data, columns=['album_id', 'artist_id', 'genre_ids'])\n",
    "\n",
    "\n",
    "# read artistData2\n",
    "def load_artist_data(filepath):\n",
    "    with open(filepath, 'r') as f:\n",
    "        artist_ids = [int(line.strip()) for line in f]\n",
    "    return pd.DataFrame(artist_ids, columns=['artist_id'])\n",
    "\n",
    "# read genreData2\n",
    "def load_genre_data(filepath):\n",
    "    with open(filepath, 'r') as f:\n",
    "        genre_ids = [int(line.strip()) for line in f]\n",
    "    return pd.DataFrame(genre_ids, columns=['genre_id'])"
   ]
  },
  {
   "cell_type": "code",
   "execution_count": 5,
   "id": "8c4b36d6-3ee2-494e-87f4-d650a0a664d6",
   "metadata": {},
   "outputs": [
    {
     "data": {
      "application/vnd.microsoft.datawrangler.viewer.v0+json": {
       "columns": [
        {
         "name": "index",
         "rawType": "int64",
         "type": "integer"
        },
        {
         "name": "track_id",
         "rawType": "int64",
         "type": "integer"
        },
        {
         "name": "album_id",
         "rawType": "int64",
         "type": "integer"
        },
        {
         "name": "artist_id",
         "rawType": "int64",
         "type": "integer"
        },
        {
         "name": "genre_ids",
         "rawType": "object",
         "type": "unknown"
        }
       ],
       "conversionMethod": "pd.DataFrame",
       "ref": "768d768f-84a3-4bf9-9c14-1d3593e50b5b",
       "rows": [
        [
         "0",
         "1",
         "106710",
         "281667",
         "[214765, 162234, 155788]"
        ],
        [
         "1",
         "2",
         "280977",
         "233685",
         "[131552, 173467, 48505]"
        ],
        [
         "2",
         "3",
         "38422",
         "219136",
         "[61215, 201738, 88853]"
        ],
        [
         "3",
         "4",
         "119529",
         "166863",
         "[17453, 35389]"
        ],
        [
         "4",
         "5",
         "16742",
         "294690",
         "[61215, 34486, 274088]"
        ],
        [
         "5",
         "7",
         "101746",
         "44649",
         "[198263]"
        ],
        [
         "6",
         "8",
         "58498",
         "142773",
         "[274161, 61215, 274088, 163949]"
        ],
        [
         "7",
         "9",
         "0",
         "0",
         "[61215, 34486, 274088]"
        ],
        [
         "8",
         "10",
         "88722",
         "179846",
         "[186413, 77904]"
        ],
        [
         "9",
         "11",
         "54548",
         "206862",
         "[98154, 48505]"
        ],
        [
         "10",
         "12",
         "6346",
         "93804",
         "[33722]"
        ],
        [
         "11",
         "13",
         "197080",
         "76279",
         "[33204, 162673]"
        ],
        [
         "12",
         "14",
         "221884",
         "48800",
         "[214765, 131552, 176858]"
        ],
        [
         "13",
         "15",
         "31978",
         "91719",
         "[173467, 48505]"
        ],
        [
         "14",
         "17",
         "249405",
         "276080",
         "[17453, 35389]"
        ],
        [
         "15",
         "18",
         "123126",
         "169463",
         "[172023, 88853]"
        ],
        [
         "16",
         "20",
         "208724",
         "96989",
         "[33204, 162673, 101667]"
        ],
        [
         "17",
         "21",
         "236848",
         "232639",
         "[]"
        ],
        [
         "18",
         "22",
         "22876",
         "272726",
         "[126500, 181653, 142021, 206269]"
        ],
        [
         "19",
         "24",
         "223622",
         "1238",
         "[131552, 61215, 88853]"
        ],
        [
         "20",
         "25",
         "77518",
         "292178",
         "[61215, 172023, 201738, 88853]"
        ],
        [
         "21",
         "26",
         "197169",
         "47482",
         "[61215, 199606, 212410]"
        ],
        [
         "22",
         "27",
         "159984",
         "164412",
         "[173467, 48505, 133159]"
        ],
        [
         "23",
         "28",
         "289988",
         "133835",
         "[131552, 176858, 19913, 84705]"
        ],
        [
         "24",
         "29",
         "161792",
         "49714",
         "[176858, 34486, 274088, 48717, 266781, 82378, 99463, 79926, 73523]"
        ],
        [
         "25",
         "31",
         "173702",
         "269166",
         "[274161]"
        ],
        [
         "26",
         "32",
         "128448",
         "78745",
         "[287681, 259669]"
        ],
        [
         "27",
         "34",
         "164570",
         "282789",
         "[77904]"
        ],
        [
         "28",
         "36",
         "204393",
         "134993",
         "[214765]"
        ],
        [
         "29",
         "38",
         "0",
         "0",
         "[]"
        ],
        [
         "30",
         "39",
         "81868",
         "54788",
         "[173467, 219193, 82064]"
        ],
        [
         "31",
         "41",
         "250955",
         "90859",
         "[33722]"
        ],
        [
         "32",
         "42",
         "288476",
         "199204",
         "[61215, 274088, 199606, 18161, 88853]"
        ],
        [
         "33",
         "43",
         "51505",
         "295138",
         "[173467]"
        ],
        [
         "34",
         "44",
         "0",
         "0",
         "[131552, 9667, 138304, 213809, 8400]"
        ],
        [
         "35",
         "45",
         "229383",
         "232604",
         "[61215, 176858, 228419]"
        ],
        [
         "36",
         "46",
         "75593",
         "281855",
         "[34486, 274088, 251593, 109592, 30949, 281429, 67098, 67331]"
        ],
        [
         "37",
         "47",
         "0",
         "0",
         "[158282, 139095, 242383, 279143]"
        ],
        [
         "38",
         "48",
         "225851",
         "120254",
         "[274161]"
        ],
        [
         "39",
         "50",
         "0",
         "0",
         "[17453, 35389]"
        ],
        [
         "40",
         "51",
         "84450",
         "97909",
         "[147886]"
        ],
        [
         "41",
         "52",
         "69965",
         "245387",
         "[61215, 199606, 268304, 18161, 177561, 201738]"
        ],
        [
         "42",
         "53",
         "210209",
         "286841",
         "[201738]"
        ],
        [
         "43",
         "55",
         "72666",
         "278645",
         "[158282, 81520, 242383, 279143]"
        ],
        [
         "44",
         "56",
         "48507",
         "236393",
         "[173467, 98154, 48505]"
        ],
        [
         "45",
         "57",
         "176764",
         "236794",
         "[61215, 34486, 18161]"
        ],
        [
         "46",
         "58",
         "215407",
         "18147",
         "[17453, 35389]"
        ],
        [
         "47",
         "59",
         "0",
         "0",
         "[61215]"
        ],
        [
         "48",
         "60",
         "68134",
         "263882",
         "[214765, 131552, 173467, 48505]"
        ],
        [
         "49",
         "61",
         "88463",
         "5232",
         "[131552, 61215]"
        ]
       ],
       "shape": {
        "columns": 4,
        "rows": 224041
       }
      },
      "text/html": [
       "<div>\n",
       "<style scoped>\n",
       "    .dataframe tbody tr th:only-of-type {\n",
       "        vertical-align: middle;\n",
       "    }\n",
       "\n",
       "    .dataframe tbody tr th {\n",
       "        vertical-align: top;\n",
       "    }\n",
       "\n",
       "    .dataframe thead th {\n",
       "        text-align: right;\n",
       "    }\n",
       "</style>\n",
       "<table border=\"1\" class=\"dataframe\">\n",
       "  <thead>\n",
       "    <tr style=\"text-align: right;\">\n",
       "      <th></th>\n",
       "      <th>track_id</th>\n",
       "      <th>album_id</th>\n",
       "      <th>artist_id</th>\n",
       "      <th>genre_ids</th>\n",
       "    </tr>\n",
       "  </thead>\n",
       "  <tbody>\n",
       "    <tr>\n",
       "      <th>0</th>\n",
       "      <td>1</td>\n",
       "      <td>106710</td>\n",
       "      <td>281667</td>\n",
       "      <td>[214765, 162234, 155788]</td>\n",
       "    </tr>\n",
       "    <tr>\n",
       "      <th>1</th>\n",
       "      <td>2</td>\n",
       "      <td>280977</td>\n",
       "      <td>233685</td>\n",
       "      <td>[131552, 173467, 48505]</td>\n",
       "    </tr>\n",
       "    <tr>\n",
       "      <th>2</th>\n",
       "      <td>3</td>\n",
       "      <td>38422</td>\n",
       "      <td>219136</td>\n",
       "      <td>[61215, 201738, 88853]</td>\n",
       "    </tr>\n",
       "    <tr>\n",
       "      <th>3</th>\n",
       "      <td>4</td>\n",
       "      <td>119529</td>\n",
       "      <td>166863</td>\n",
       "      <td>[17453, 35389]</td>\n",
       "    </tr>\n",
       "    <tr>\n",
       "      <th>4</th>\n",
       "      <td>5</td>\n",
       "      <td>16742</td>\n",
       "      <td>294690</td>\n",
       "      <td>[61215, 34486, 274088]</td>\n",
       "    </tr>\n",
       "    <tr>\n",
       "      <th>...</th>\n",
       "      <td>...</td>\n",
       "      <td>...</td>\n",
       "      <td>...</td>\n",
       "      <td>...</td>\n",
       "    </tr>\n",
       "    <tr>\n",
       "      <th>224036</th>\n",
       "      <td>296100</td>\n",
       "      <td>166516</td>\n",
       "      <td>33011</td>\n",
       "      <td>[274088, 199606, 88853]</td>\n",
       "    </tr>\n",
       "    <tr>\n",
       "      <th>224037</th>\n",
       "      <td>296101</td>\n",
       "      <td>0</td>\n",
       "      <td>0</td>\n",
       "      <td>[]</td>\n",
       "    </tr>\n",
       "    <tr>\n",
       "      <th>224038</th>\n",
       "      <td>296102</td>\n",
       "      <td>153644</td>\n",
       "      <td>289056</td>\n",
       "      <td>[158282, 139095, 242383]</td>\n",
       "    </tr>\n",
       "    <tr>\n",
       "      <th>224039</th>\n",
       "      <td>296105</td>\n",
       "      <td>68336</td>\n",
       "      <td>6613</td>\n",
       "      <td>[82064]</td>\n",
       "    </tr>\n",
       "    <tr>\n",
       "      <th>224040</th>\n",
       "      <td>296110</td>\n",
       "      <td>281202</td>\n",
       "      <td>140302</td>\n",
       "      <td>[61215]</td>\n",
       "    </tr>\n",
       "  </tbody>\n",
       "</table>\n",
       "<p>224041 rows × 4 columns</p>\n",
       "</div>"
      ],
      "text/plain": [
       "        track_id  album_id  artist_id                 genre_ids\n",
       "0              1    106710     281667  [214765, 162234, 155788]\n",
       "1              2    280977     233685   [131552, 173467, 48505]\n",
       "2              3     38422     219136    [61215, 201738, 88853]\n",
       "3              4    119529     166863            [17453, 35389]\n",
       "4              5     16742     294690    [61215, 34486, 274088]\n",
       "...          ...       ...        ...                       ...\n",
       "224036    296100    166516      33011   [274088, 199606, 88853]\n",
       "224037    296101         0          0                        []\n",
       "224038    296102    153644     289056  [158282, 139095, 242383]\n",
       "224039    296105     68336       6613                   [82064]\n",
       "224040    296110    281202     140302                   [61215]\n",
       "\n",
       "[224041 rows x 4 columns]"
      ]
     },
     "execution_count": 5,
     "metadata": {},
     "output_type": "execute_result"
    }
   ],
   "source": [
    "track_df = load_track_data('/Users/camillecu/Downloads/KUL/master_thesis/master_thesis_github/yahoo_data/ydata-ymusic-kddcup-2011-track2/trackData2.txt')\n",
    "track_df"
   ]
  },
  {
   "cell_type": "code",
   "execution_count": 6,
   "id": "34108565-28ae-42a4-81e4-1a15b137a527",
   "metadata": {},
   "outputs": [
    {
     "data": {
      "application/vnd.microsoft.datawrangler.viewer.v0+json": {
       "columns": [
        {
         "name": "index",
         "rawType": "int64",
         "type": "integer"
        },
        {
         "name": "album_id",
         "rawType": "int64",
         "type": "integer"
        },
        {
         "name": "artist_id",
         "rawType": "int64",
         "type": "integer"
        },
        {
         "name": "genre_ids",
         "rawType": "object",
         "type": "unknown"
        }
       ],
       "conversionMethod": "pd.DataFrame",
       "ref": "dbe45f9b-bc61-4abd-a274-7ac94d040ed1",
       "rows": [
        [
         "0",
         "0",
         "0",
         "[214765]"
        ],
        [
         "1",
         "6",
         "228091",
         "[158282, 81520, 242383]"
        ],
        [
         "2",
         "19",
         "85028",
         "[103715]"
        ],
        [
         "3",
         "30",
         "16832",
         "[31567]"
        ],
        [
         "4",
         "33",
         "26330",
         "[149962, 209270]"
        ],
        [
         "5",
         "37",
         "0",
         "[61215]"
        ],
        [
         "6",
         "74",
         "197882",
         "[201738]"
        ],
        [
         "7",
         "78",
         "163140",
         "[208198, 173467, 31567, 146792, 84705, 159815]"
        ],
        [
         "8",
         "82",
         "110657",
         "[116130, 181653, 285888]"
        ],
        [
         "9",
         "93",
         "151090",
         "[208198]"
        ],
        [
         "10",
         "96",
         "147621",
         "[173467, 48505, 133159]"
        ],
        [
         "11",
         "103",
         "0",
         "[]"
        ],
        [
         "12",
         "107",
         "17678",
         "[61215, 274088]"
        ],
        [
         "13",
         "110",
         "202437",
         "[27110]"
        ],
        [
         "14",
         "118",
         "0",
         "[]"
        ],
        [
         "15",
         "119",
         "0",
         "[]"
        ],
        [
         "16",
         "121",
         "0",
         "[]"
        ],
        [
         "17",
         "125",
         "253380",
         "[61215, 34486]"
        ],
        [
         "18",
         "132",
         "0",
         "[]"
        ],
        [
         "19",
         "143",
         "15942",
         "[33722]"
        ],
        [
         "20",
         "144",
         "204869",
         "[158282, 81520, 242383, 207648, 279143]"
        ],
        [
         "21",
         "146",
         "294875",
         "[199606, 88853]"
        ],
        [
         "22",
         "149",
         "0",
         "[61215, 17453, 35389]"
        ],
        [
         "23",
         "158",
         "270655",
         "[131552]"
        ],
        [
         "24",
         "165",
         "5377",
         "[214765, 98687]"
        ],
        [
         "25",
         "173",
         "141866",
         "[131552, 79926, 73523]"
        ],
        [
         "26",
         "180",
         "161216",
         "[145948]"
        ],
        [
         "27",
         "189",
         "0",
         "[289568]"
        ],
        [
         "28",
         "197",
         "103010",
         "[61215, 199606, 71345, 48717]"
        ],
        [
         "29",
         "200",
         "255586",
         "[131552, 173467, 176858, 218185, 82064, 206269, 266073]"
        ],
        [
         "30",
         "201",
         "199322",
         "[67098]"
        ],
        [
         "31",
         "205",
         "12607",
         "[61215]"
        ],
        [
         "32",
         "241",
         "135431",
         "[158282]"
        ],
        [
         "33",
         "244",
         "106388",
         "[173467, 48505]"
        ],
        [
         "34",
         "246",
         "223679",
         "[147886, 161601]"
        ],
        [
         "35",
         "252",
         "155618",
         "[61215]"
        ],
        [
         "36",
         "254",
         "43797",
         "[35389]"
        ],
        [
         "37",
         "264",
         "97420",
         "[198263, 131552, 71345, 48717]"
        ],
        [
         "38",
         "266",
         "232588",
         "[244713]"
        ],
        [
         "39",
         "267",
         "237956",
         "[158282, 279143, 3969, 205389]"
        ],
        [
         "40",
         "277",
         "110324",
         "[158282, 139095, 242383, 279143, 173655]"
        ],
        [
         "41",
         "285",
         "178617",
         "[61215, 34486, 17453, 35389]"
        ],
        [
         "42",
         "290",
         "39943",
         "[214765, 268217]"
        ],
        [
         "43",
         "299",
         "172223",
         "[61215, 34486, 99463]"
        ],
        [
         "44",
         "303",
         "143622",
         "[131552, 173467, 199606, 27110, 48717, 266781, 146792]"
        ],
        [
         "45",
         "304",
         "274339",
         "[18161, 65985]"
        ],
        [
         "46",
         "313",
         "121889",
         "[274088, 199606]"
        ],
        [
         "47",
         "322",
         "237708",
         "[147886, 161601]"
        ],
        [
         "48",
         "329",
         "183577",
         "[214765, 155788]"
        ],
        [
         "49",
         "339",
         "48073",
         "[287681, 244713]"
        ]
       ],
       "shape": {
        "columns": 3,
        "rows": 52829
       }
      },
      "text/html": [
       "<div>\n",
       "<style scoped>\n",
       "    .dataframe tbody tr th:only-of-type {\n",
       "        vertical-align: middle;\n",
       "    }\n",
       "\n",
       "    .dataframe tbody tr th {\n",
       "        vertical-align: top;\n",
       "    }\n",
       "\n",
       "    .dataframe thead th {\n",
       "        text-align: right;\n",
       "    }\n",
       "</style>\n",
       "<table border=\"1\" class=\"dataframe\">\n",
       "  <thead>\n",
       "    <tr style=\"text-align: right;\">\n",
       "      <th></th>\n",
       "      <th>album_id</th>\n",
       "      <th>artist_id</th>\n",
       "      <th>genre_ids</th>\n",
       "    </tr>\n",
       "  </thead>\n",
       "  <tbody>\n",
       "    <tr>\n",
       "      <th>0</th>\n",
       "      <td>0</td>\n",
       "      <td>0</td>\n",
       "      <td>[214765]</td>\n",
       "    </tr>\n",
       "    <tr>\n",
       "      <th>1</th>\n",
       "      <td>6</td>\n",
       "      <td>228091</td>\n",
       "      <td>[158282, 81520, 242383]</td>\n",
       "    </tr>\n",
       "    <tr>\n",
       "      <th>2</th>\n",
       "      <td>19</td>\n",
       "      <td>85028</td>\n",
       "      <td>[103715]</td>\n",
       "    </tr>\n",
       "    <tr>\n",
       "      <th>3</th>\n",
       "      <td>30</td>\n",
       "      <td>16832</td>\n",
       "      <td>[31567]</td>\n",
       "    </tr>\n",
       "    <tr>\n",
       "      <th>4</th>\n",
       "      <td>33</td>\n",
       "      <td>26330</td>\n",
       "      <td>[149962, 209270]</td>\n",
       "    </tr>\n",
       "    <tr>\n",
       "      <th>...</th>\n",
       "      <td>...</td>\n",
       "      <td>...</td>\n",
       "      <td>...</td>\n",
       "    </tr>\n",
       "    <tr>\n",
       "      <th>52824</th>\n",
       "      <td>296104</td>\n",
       "      <td>125866</td>\n",
       "      <td>[158282]</td>\n",
       "    </tr>\n",
       "    <tr>\n",
       "      <th>52825</th>\n",
       "      <td>296106</td>\n",
       "      <td>221637</td>\n",
       "      <td>[116130, 9432]</td>\n",
       "    </tr>\n",
       "    <tr>\n",
       "      <th>52826</th>\n",
       "      <td>296107</td>\n",
       "      <td>0</td>\n",
       "      <td>[61215]</td>\n",
       "    </tr>\n",
       "    <tr>\n",
       "      <th>52827</th>\n",
       "      <td>296108</td>\n",
       "      <td>93277</td>\n",
       "      <td>[61215]</td>\n",
       "    </tr>\n",
       "    <tr>\n",
       "      <th>52828</th>\n",
       "      <td>296109</td>\n",
       "      <td>84885</td>\n",
       "      <td>[287681]</td>\n",
       "    </tr>\n",
       "  </tbody>\n",
       "</table>\n",
       "<p>52829 rows × 3 columns</p>\n",
       "</div>"
      ],
      "text/plain": [
       "       album_id  artist_id                genre_ids\n",
       "0             0          0                 [214765]\n",
       "1             6     228091  [158282, 81520, 242383]\n",
       "2            19      85028                 [103715]\n",
       "3            30      16832                  [31567]\n",
       "4            33      26330         [149962, 209270]\n",
       "...         ...        ...                      ...\n",
       "52824    296104     125866                 [158282]\n",
       "52825    296106     221637           [116130, 9432]\n",
       "52826    296107          0                  [61215]\n",
       "52827    296108      93277                  [61215]\n",
       "52828    296109      84885                 [287681]\n",
       "\n",
       "[52829 rows x 3 columns]"
      ]
     },
     "execution_count": 6,
     "metadata": {},
     "output_type": "execute_result"
    }
   ],
   "source": [
    "album_df = load_album_data('/Users/camillecu/Downloads/KUL/master_thesis/master_thesis_github/yahoo_data/ydata-ymusic-kddcup-2011-track2/albumData2.txt')\n",
    "album_df"
   ]
  },
  {
   "cell_type": "code",
   "execution_count": 7,
   "id": "bc231968-49a8-4eed-b110-9c7d22ac0725",
   "metadata": {},
   "outputs": [
    {
     "data": {
      "application/vnd.microsoft.datawrangler.viewer.v0+json": {
       "columns": [
        {
         "name": "index",
         "rawType": "int64",
         "type": "integer"
        },
        {
         "name": "artist_id",
         "rawType": "int64",
         "type": "integer"
        }
       ],
       "conversionMethod": "pd.DataFrame",
       "ref": "1574ab8a-ac35-4105-acab-d5ec6cdb5eee",
       "rows": [
        [
         "0",
         "16"
        ],
        [
         "1",
         "23"
        ],
        [
         "2",
         "35"
        ],
        [
         "3",
         "40"
        ],
        [
         "4",
         "49"
        ],
        [
         "5",
         "54"
        ],
        [
         "6",
         "98"
        ],
        [
         "7",
         "136"
        ],
        [
         "8",
         "138"
        ],
        [
         "9",
         "139"
        ],
        [
         "10",
         "190"
        ],
        [
         "11",
         "198"
        ],
        [
         "12",
         "207"
        ],
        [
         "13",
         "236"
        ],
        [
         "14",
         "292"
        ],
        [
         "15",
         "295"
        ],
        [
         "16",
         "301"
        ],
        [
         "17",
         "307"
        ],
        [
         "18",
         "325"
        ],
        [
         "19",
         "326"
        ],
        [
         "20",
         "396"
        ],
        [
         "21",
         "408"
        ],
        [
         "22",
         "425"
        ],
        [
         "23",
         "435"
        ],
        [
         "24",
         "448"
        ],
        [
         "25",
         "469"
        ],
        [
         "26",
         "495"
        ],
        [
         "27",
         "539"
        ],
        [
         "28",
         "544"
        ],
        [
         "29",
         "564"
        ],
        [
         "30",
         "576"
        ],
        [
         "31",
         "586"
        ],
        [
         "32",
         "600"
        ],
        [
         "33",
         "617"
        ],
        [
         "34",
         "619"
        ],
        [
         "35",
         "635"
        ],
        [
         "36",
         "638"
        ],
        [
         "37",
         "644"
        ],
        [
         "38",
         "647"
        ],
        [
         "39",
         "661"
        ],
        [
         "40",
         "663"
        ],
        [
         "41",
         "725"
        ],
        [
         "42",
         "732"
        ],
        [
         "43",
         "768"
        ],
        [
         "44",
         "778"
        ],
        [
         "45",
         "786"
        ],
        [
         "46",
         "792"
        ],
        [
         "47",
         "798"
        ],
        [
         "48",
         "801"
        ],
        [
         "49",
         "820"
        ]
       ],
       "shape": {
        "columns": 1,
        "rows": 18674
       }
      },
      "text/html": [
       "<div>\n",
       "<style scoped>\n",
       "    .dataframe tbody tr th:only-of-type {\n",
       "        vertical-align: middle;\n",
       "    }\n",
       "\n",
       "    .dataframe tbody tr th {\n",
       "        vertical-align: top;\n",
       "    }\n",
       "\n",
       "    .dataframe thead th {\n",
       "        text-align: right;\n",
       "    }\n",
       "</style>\n",
       "<table border=\"1\" class=\"dataframe\">\n",
       "  <thead>\n",
       "    <tr style=\"text-align: right;\">\n",
       "      <th></th>\n",
       "      <th>artist_id</th>\n",
       "    </tr>\n",
       "  </thead>\n",
       "  <tbody>\n",
       "    <tr>\n",
       "      <th>0</th>\n",
       "      <td>16</td>\n",
       "    </tr>\n",
       "    <tr>\n",
       "      <th>1</th>\n",
       "      <td>23</td>\n",
       "    </tr>\n",
       "    <tr>\n",
       "      <th>2</th>\n",
       "      <td>35</td>\n",
       "    </tr>\n",
       "    <tr>\n",
       "      <th>3</th>\n",
       "      <td>40</td>\n",
       "    </tr>\n",
       "    <tr>\n",
       "      <th>4</th>\n",
       "      <td>49</td>\n",
       "    </tr>\n",
       "    <tr>\n",
       "      <th>...</th>\n",
       "      <td>...</td>\n",
       "    </tr>\n",
       "    <tr>\n",
       "      <th>18669</th>\n",
       "      <td>295987</td>\n",
       "    </tr>\n",
       "    <tr>\n",
       "      <th>18670</th>\n",
       "      <td>296007</td>\n",
       "    </tr>\n",
       "    <tr>\n",
       "      <th>18671</th>\n",
       "      <td>296012</td>\n",
       "    </tr>\n",
       "    <tr>\n",
       "      <th>18672</th>\n",
       "      <td>296013</td>\n",
       "    </tr>\n",
       "    <tr>\n",
       "      <th>18673</th>\n",
       "      <td>296041</td>\n",
       "    </tr>\n",
       "  </tbody>\n",
       "</table>\n",
       "<p>18674 rows × 1 columns</p>\n",
       "</div>"
      ],
      "text/plain": [
       "       artist_id\n",
       "0             16\n",
       "1             23\n",
       "2             35\n",
       "3             40\n",
       "4             49\n",
       "...          ...\n",
       "18669     295987\n",
       "18670     296007\n",
       "18671     296012\n",
       "18672     296013\n",
       "18673     296041\n",
       "\n",
       "[18674 rows x 1 columns]"
      ]
     },
     "execution_count": 7,
     "metadata": {},
     "output_type": "execute_result"
    }
   ],
   "source": [
    "artist_df = load_artist_data('/Users/camillecu/Downloads/KUL/master_thesis/master_thesis_github/yahoo_data/ydata-ymusic-kddcup-2011-track2/artistData2.txt')\n",
    "artist_df"
   ]
  },
  {
   "cell_type": "code",
   "execution_count": 8,
   "id": "ed474fba-2146-4211-b16d-e67072c9772a",
   "metadata": {},
   "outputs": [
    {
     "data": {
      "application/vnd.microsoft.datawrangler.viewer.v0+json": {
       "columns": [
        {
         "name": "index",
         "rawType": "int64",
         "type": "integer"
        },
        {
         "name": "genre_id",
         "rawType": "int64",
         "type": "integer"
        }
       ],
       "conversionMethod": "pd.DataFrame",
       "ref": "9b3e0fb8-5e81-4cf3-baa1-ed54f6e6fcf6",
       "rows": [
        [
         "0",
         "208"
        ],
        [
         "1",
         "315"
        ],
        [
         "2",
         "642"
        ],
        [
         "3",
         "1075"
        ],
        [
         "4",
         "1271"
        ],
        [
         "5",
         "1534"
        ],
        [
         "6",
         "1732"
        ],
        [
         "7",
         "1808"
        ],
        [
         "8",
         "2143"
        ],
        [
         "9",
         "2384"
        ],
        [
         "10",
         "2938"
        ],
        [
         "11",
         "3428"
        ],
        [
         "12",
         "3969"
        ],
        [
         "13",
         "4423"
        ],
        [
         "14",
         "4532"
        ],
        [
         "15",
         "5699"
        ],
        [
         "16",
         "5985"
        ],
        [
         "17",
         "6398"
        ],
        [
         "18",
         "6954"
        ],
        [
         "19",
         "7138"
        ],
        [
         "20",
         "8400"
        ],
        [
         "21",
         "9041"
        ],
        [
         "22",
         "9108"
        ],
        [
         "23",
         "9239"
        ],
        [
         "24",
         "9432"
        ],
        [
         "25",
         "9667"
        ],
        [
         "26",
         "9797"
        ],
        [
         "27",
         "11503"
        ],
        [
         "28",
         "11688"
        ],
        [
         "29",
         "11731"
        ],
        [
         "30",
         "12274"
        ],
        [
         "31",
         "13618"
        ],
        [
         "32",
         "14394"
        ],
        [
         "33",
         "15280"
        ],
        [
         "34",
         "15332"
        ],
        [
         "35",
         "16571"
        ],
        [
         "36",
         "17010"
        ],
        [
         "37",
         "17368"
        ],
        [
         "38",
         "17453"
        ],
        [
         "39",
         "17680"
        ],
        [
         "40",
         "18030"
        ],
        [
         "41",
         "18161"
        ],
        [
         "42",
         "18629"
        ],
        [
         "43",
         "19514"
        ],
        [
         "44",
         "19825"
        ],
        [
         "45",
         "19913"
        ],
        [
         "46",
         "20068"
        ],
        [
         "47",
         "21266"
        ],
        [
         "48",
         "21505"
        ],
        [
         "49",
         "22299"
        ]
       ],
       "shape": {
        "columns": 1,
        "rows": 567
       }
      },
      "text/html": [
       "<div>\n",
       "<style scoped>\n",
       "    .dataframe tbody tr th:only-of-type {\n",
       "        vertical-align: middle;\n",
       "    }\n",
       "\n",
       "    .dataframe tbody tr th {\n",
       "        vertical-align: top;\n",
       "    }\n",
       "\n",
       "    .dataframe thead th {\n",
       "        text-align: right;\n",
       "    }\n",
       "</style>\n",
       "<table border=\"1\" class=\"dataframe\">\n",
       "  <thead>\n",
       "    <tr style=\"text-align: right;\">\n",
       "      <th></th>\n",
       "      <th>genre_id</th>\n",
       "    </tr>\n",
       "  </thead>\n",
       "  <tbody>\n",
       "    <tr>\n",
       "      <th>0</th>\n",
       "      <td>208</td>\n",
       "    </tr>\n",
       "    <tr>\n",
       "      <th>1</th>\n",
       "      <td>315</td>\n",
       "    </tr>\n",
       "    <tr>\n",
       "      <th>2</th>\n",
       "      <td>642</td>\n",
       "    </tr>\n",
       "    <tr>\n",
       "      <th>3</th>\n",
       "      <td>1075</td>\n",
       "    </tr>\n",
       "    <tr>\n",
       "      <th>4</th>\n",
       "      <td>1271</td>\n",
       "    </tr>\n",
       "    <tr>\n",
       "      <th>...</th>\n",
       "      <td>...</td>\n",
       "    </tr>\n",
       "    <tr>\n",
       "      <th>562</th>\n",
       "      <td>292093</td>\n",
       "    </tr>\n",
       "    <tr>\n",
       "      <th>563</th>\n",
       "      <td>293670</td>\n",
       "    </tr>\n",
       "    <tr>\n",
       "      <th>564</th>\n",
       "      <td>293688</td>\n",
       "    </tr>\n",
       "    <tr>\n",
       "      <th>565</th>\n",
       "      <td>294138</td>\n",
       "    </tr>\n",
       "    <tr>\n",
       "      <th>566</th>\n",
       "      <td>294310</td>\n",
       "    </tr>\n",
       "  </tbody>\n",
       "</table>\n",
       "<p>567 rows × 1 columns</p>\n",
       "</div>"
      ],
      "text/plain": [
       "     genre_id\n",
       "0         208\n",
       "1         315\n",
       "2         642\n",
       "3        1075\n",
       "4        1271\n",
       "..        ...\n",
       "562    292093\n",
       "563    293670\n",
       "564    293688\n",
       "565    294138\n",
       "566    294310\n",
       "\n",
       "[567 rows x 1 columns]"
      ]
     },
     "execution_count": 8,
     "metadata": {},
     "output_type": "execute_result"
    }
   ],
   "source": [
    "genre_df = load_genre_data('/Users/camillecu/Downloads/KUL/master_thesis/master_thesis_github/yahoo_data/ydata-ymusic-kddcup-2011-track2/genreData2.txt')\n",
    "genre_df"
   ]
  },
  {
   "cell_type": "code",
   "execution_count": 9,
   "id": "8931dd4b-ac84-4292-af68-8c101bb35789",
   "metadata": {},
   "outputs": [],
   "source": [
    "train_path = '/Users/camillecu/Downloads/KUL/master_thesis/master_thesis_github/yahoo_data/ydata-ymusic-kddcup-2011-track2/trainIdx2.txt'\n",
    "my_seed = 7\n",
    "random.seed(my_seed)\n",
    "np.random.seed(my_seed)\n",
    "train_df = load_user_item_matrix(train_path)\n"
   ]
  },
  {
   "cell_type": "code",
   "execution_count": 10,
   "id": "2b82bdd0-cb88-4832-b32e-1a13918c476c",
   "metadata": {},
   "outputs": [
    {
     "data": {
      "application/vnd.microsoft.datawrangler.viewer.v0+json": {
       "columns": [
        {
         "name": "index",
         "rawType": "int64",
         "type": "integer"
        },
        {
         "name": "user_id",
         "rawType": "int64",
         "type": "integer"
        },
        {
         "name": "item_id",
         "rawType": "int64",
         "type": "integer"
        },
        {
         "name": "rating",
         "rawType": "int64",
         "type": "integer"
        }
       ],
       "conversionMethod": "pd.DataFrame",
       "ref": "0cf7ac4d-b6e7-43b1-8f65-24393b8fedcb",
       "rows": [
        [
         "0",
         "0",
         "28341",
         "90"
        ],
        [
         "1",
         "0",
         "51210",
         "90"
        ],
        [
         "2",
         "0",
         "79500",
         "90"
        ],
        [
         "3",
         "0",
         "82317",
         "90"
        ],
        [
         "4",
         "0",
         "98399",
         "90"
        ],
        [
         "5",
         "0",
         "151565",
         "90"
        ],
        [
         "6",
         "0",
         "152077",
         "90"
        ],
        [
         "7",
         "0",
         "173467",
         "80"
        ],
        [
         "8",
         "0",
         "176858",
         "80"
        ],
        [
         "9",
         "0",
         "180487",
         "90"
        ],
        [
         "10",
         "0",
         "211565",
         "90"
        ],
        [
         "11",
         "0",
         "263882",
         "90"
        ],
        [
         "12",
         "0",
         "275191",
         "90"
        ],
        [
         "13",
         "0",
         "149962",
         "70"
        ],
        [
         "14",
         "0",
         "51948",
         "30"
        ],
        [
         "15",
         "0",
         "113759",
         "30"
        ],
        [
         "16",
         "0",
         "251690",
         "30"
        ],
        [
         "17",
         "0",
         "22935",
         "50"
        ],
        [
         "18",
         "0",
         "45979",
         "50"
        ],
        [
         "19",
         "0",
         "59092",
         "70"
        ],
        [
         "20",
         "0",
         "159380",
         "50"
        ],
        [
         "21",
         "0",
         "206862",
         "70"
        ],
        [
         "22",
         "0",
         "210480",
         "70"
        ],
        [
         "23",
         "0",
         "224444",
         "70"
        ],
        [
         "24",
         "0",
         "231934",
         "50"
        ],
        [
         "25",
         "0",
         "232604",
         "30"
        ],
        [
         "26",
         "0",
         "237425",
         "50"
        ],
        [
         "27",
         "0",
         "245257",
         "50"
        ],
        [
         "28",
         "0",
         "23301",
         "50"
        ],
        [
         "29",
         "0",
         "64052",
         "70"
        ],
        [
         "30",
         "0",
         "77710",
         "70"
        ],
        [
         "31",
         "0",
         "97326",
         "30"
        ],
        [
         "32",
         "0",
         "119186",
         "90"
        ],
        [
         "33",
         "0",
         "154225",
         "50"
        ],
        [
         "34",
         "0",
         "161823",
         "30"
        ],
        [
         "35",
         "0",
         "182018",
         "70"
        ],
        [
         "36",
         "0",
         "186306",
         "90"
        ],
        [
         "37",
         "0",
         "211701",
         "50"
        ],
        [
         "38",
         "0",
         "229481",
         "70"
        ],
        [
         "39",
         "0",
         "236546",
         "90"
        ],
        [
         "40",
         "0",
         "270557",
         "70"
        ],
        [
         "41",
         "0",
         "286976",
         "30"
        ],
        [
         "42",
         "0",
         "69022",
         "90"
        ],
        [
         "43",
         "0",
         "70401",
         "30"
        ],
        [
         "44",
         "0",
         "138935",
         "30"
        ],
        [
         "45",
         "0",
         "182642",
         "30"
        ],
        [
         "46",
         "1",
         "3091",
         "90"
        ],
        [
         "47",
         "1",
         "11828",
         "90"
        ],
        [
         "48",
         "1",
         "33269",
         "90"
        ],
        [
         "49",
         "1",
         "64811",
         "90"
        ]
       ],
       "shape": {
        "columns": 3,
        "rows": 61944406
       }
      },
      "text/html": [
       "<div>\n",
       "<style scoped>\n",
       "    .dataframe tbody tr th:only-of-type {\n",
       "        vertical-align: middle;\n",
       "    }\n",
       "\n",
       "    .dataframe tbody tr th {\n",
       "        vertical-align: top;\n",
       "    }\n",
       "\n",
       "    .dataframe thead th {\n",
       "        text-align: right;\n",
       "    }\n",
       "</style>\n",
       "<table border=\"1\" class=\"dataframe\">\n",
       "  <thead>\n",
       "    <tr style=\"text-align: right;\">\n",
       "      <th></th>\n",
       "      <th>user_id</th>\n",
       "      <th>item_id</th>\n",
       "      <th>rating</th>\n",
       "    </tr>\n",
       "  </thead>\n",
       "  <tbody>\n",
       "    <tr>\n",
       "      <th>0</th>\n",
       "      <td>0</td>\n",
       "      <td>28341</td>\n",
       "      <td>90</td>\n",
       "    </tr>\n",
       "    <tr>\n",
       "      <th>1</th>\n",
       "      <td>0</td>\n",
       "      <td>51210</td>\n",
       "      <td>90</td>\n",
       "    </tr>\n",
       "    <tr>\n",
       "      <th>2</th>\n",
       "      <td>0</td>\n",
       "      <td>79500</td>\n",
       "      <td>90</td>\n",
       "    </tr>\n",
       "    <tr>\n",
       "      <th>3</th>\n",
       "      <td>0</td>\n",
       "      <td>82317</td>\n",
       "      <td>90</td>\n",
       "    </tr>\n",
       "    <tr>\n",
       "      <th>4</th>\n",
       "      <td>0</td>\n",
       "      <td>98399</td>\n",
       "      <td>90</td>\n",
       "    </tr>\n",
       "    <tr>\n",
       "      <th>...</th>\n",
       "      <td>...</td>\n",
       "      <td>...</td>\n",
       "      <td>...</td>\n",
       "    </tr>\n",
       "    <tr>\n",
       "      <th>61944401</th>\n",
       "      <td>249011</td>\n",
       "      <td>270557</td>\n",
       "      <td>90</td>\n",
       "    </tr>\n",
       "    <tr>\n",
       "      <th>61944402</th>\n",
       "      <td>249011</td>\n",
       "      <td>273574</td>\n",
       "      <td>90</td>\n",
       "    </tr>\n",
       "    <tr>\n",
       "      <th>61944403</th>\n",
       "      <td>249011</td>\n",
       "      <td>286938</td>\n",
       "      <td>90</td>\n",
       "    </tr>\n",
       "    <tr>\n",
       "      <th>61944404</th>\n",
       "      <td>249011</td>\n",
       "      <td>287681</td>\n",
       "      <td>80</td>\n",
       "    </tr>\n",
       "    <tr>\n",
       "      <th>61944405</th>\n",
       "      <td>249011</td>\n",
       "      <td>295381</td>\n",
       "      <td>90</td>\n",
       "    </tr>\n",
       "  </tbody>\n",
       "</table>\n",
       "<p>61944406 rows × 3 columns</p>\n",
       "</div>"
      ],
      "text/plain": [
       "          user_id  item_id  rating\n",
       "0               0    28341      90\n",
       "1               0    51210      90\n",
       "2               0    79500      90\n",
       "3               0    82317      90\n",
       "4               0    98399      90\n",
       "...           ...      ...     ...\n",
       "61944401   249011   270557      90\n",
       "61944402   249011   273574      90\n",
       "61944403   249011   286938      90\n",
       "61944404   249011   287681      80\n",
       "61944405   249011   295381      90\n",
       "\n",
       "[61944406 rows x 3 columns]"
      ]
     },
     "execution_count": 10,
     "metadata": {},
     "output_type": "execute_result"
    }
   ],
   "source": [
    "train_df"
   ]
  },
  {
   "cell_type": "code",
   "execution_count": 11,
   "id": "440d13e7-e57d-4a61-a1c0-af65afef3f82",
   "metadata": {},
   "outputs": [
    {
     "name": "stdout",
     "output_type": "stream",
     "text": [
      "🔁 Number of duplicated (user_id, item_id) pairs: 0\n",
      "Series([], dtype: int64)\n"
     ]
    }
   ],
   "source": [
    "duplicate_counts = train_df.groupby(['user_id', 'item_id']).size()\n",
    "duplicates = duplicate_counts[duplicate_counts > 1]\n",
    "\n",
    "print(f\"🔁 Number of duplicated (user_id, item_id) pairs: {len(duplicates)}\")\n",
    "print(duplicates.head())\n"
   ]
  },
  {
   "cell_type": "code",
   "execution_count": 12,
   "id": "9793ce57-3191-47f0-83a0-44648204713e",
   "metadata": {},
   "outputs": [
    {
     "name": "stdout",
     "output_type": "stream",
     "text": [
      "296110\n",
      "296110\n",
      "0.4385845107627636\n",
      "0.1925648621120041\n",
      "0.3114063600835885\n",
      "0.05744426704164376\n"
     ]
    }
   ],
   "source": [
    "print(train_df['item_id'].max())      # highest item_id\n",
    "print(track_df['track_id'].max())     # highest track_id\n",
    "print(train_df['item_id'].isin(track_df['track_id']).mean())  # proportion to match\n",
    "\n",
    "print(train_df['item_id'].isin(album_df['album_id']).mean())\n",
    "\n",
    "print(train_df['item_id'].isin(artist_df['artist_id']).mean())\n",
    "\n",
    "print(train_df['item_id'].isin(genre_df['genre_id']).mean())\n",
    "\n"
   ]
  },
  {
   "cell_type": "code",
   "execution_count": 13,
   "id": "bbaeb599-50ef-4735-9088-32bcb1ce9aa4",
   "metadata": {},
   "outputs": [],
   "source": [
    "def build_item_metadata(track_df, album_df, artist_df, genre_df):\n",
    "    rows = []\n",
    "\n",
    "    # 1. Tracks\n",
    "    for _, row in track_df.iterrows():\n",
    "        rows.append({\n",
    "            'item_id': row['track_id'],\n",
    "            'item_type': 'track',\n",
    "            'artist_id': row['artist_id'],\n",
    "            'genre_ids': row['genre_ids']\n",
    "        })\n",
    "\n",
    "    # 2. Albums\n",
    "    for _, row in album_df.iterrows():\n",
    "        rows.append({\n",
    "            'item_id': row['album_id'],\n",
    "            'item_type': 'album',\n",
    "            'artist_id': row['artist_id'],\n",
    "            'genre_ids': row['genre_ids']\n",
    "        })\n",
    "\n",
    "    # 3. Artists\n",
    "    for artist_id in artist_df['artist_id']:\n",
    "        rows.append({\n",
    "            'item_id': artist_id,\n",
    "            'item_type': 'artist',\n",
    "            'artist_id': artist_id,\n",
    "            'genre_ids': 0\n",
    "        })\n",
    "\n",
    "    # 4. Genres\n",
    "    for genre_id in genre_df['genre_id']:\n",
    "        rows.append({\n",
    "            'item_id': genre_id,\n",
    "            'item_type': 'genre',\n",
    "            'artist_id': 0,\n",
    "            'genre_ids': [genre_id]\n",
    "        })\n",
    "\n",
    "    return pd.DataFrame(rows)"
   ]
  },
  {
   "cell_type": "code",
   "execution_count": 14,
   "id": "66ee1ab6-33f8-43fa-ae6e-f93ea5d0858b",
   "metadata": {},
   "outputs": [
    {
     "data": {
      "application/vnd.microsoft.datawrangler.viewer.v0+json": {
       "columns": [
        {
         "name": "index",
         "rawType": "int64",
         "type": "integer"
        },
        {
         "name": "user_id",
         "rawType": "int64",
         "type": "integer"
        },
        {
         "name": "item_id",
         "rawType": "int64",
         "type": "integer"
        },
        {
         "name": "rating",
         "rawType": "int64",
         "type": "integer"
        },
        {
         "name": "item_type",
         "rawType": "object",
         "type": "string"
        },
        {
         "name": "artist_id",
         "rawType": "int64",
         "type": "integer"
        },
        {
         "name": "genre_ids",
         "rawType": "object",
         "type": "unknown"
        }
       ],
       "conversionMethod": "pd.DataFrame",
       "ref": "e3a60fb6-3691-4c37-bb03-58cc18b18203",
       "rows": [
        [
         "0",
         "0",
         "28341",
         "90",
         "artist",
         "28341",
         "0"
        ],
        [
         "1",
         "0",
         "232604",
         "30",
         "artist",
         "232604",
         "0"
        ],
        [
         "2",
         "0",
         "237425",
         "50",
         "artist",
         "237425",
         "0"
        ],
        [
         "3",
         "0",
         "245257",
         "50",
         "artist",
         "245257",
         "0"
        ],
        [
         "4",
         "0",
         "23301",
         "50",
         "artist",
         "23301",
         "0"
        ],
        [
         "5",
         "0",
         "64052",
         "70",
         "artist",
         "64052",
         "0"
        ],
        [
         "6",
         "0",
         "77710",
         "70",
         "artist",
         "77710",
         "0"
        ],
        [
         "7",
         "0",
         "97326",
         "30",
         "artist",
         "97326",
         "0"
        ],
        [
         "8",
         "0",
         "119186",
         "90",
         "artist",
         "119186",
         "0"
        ],
        [
         "9",
         "0",
         "154225",
         "50",
         "artist",
         "154225",
         "0"
        ],
        [
         "10",
         "0",
         "231934",
         "50",
         "artist",
         "231934",
         "0"
        ],
        [
         "11",
         "0",
         "161823",
         "30",
         "artist",
         "161823",
         "0"
        ],
        [
         "12",
         "0",
         "186306",
         "90",
         "artist",
         "186306",
         "0"
        ],
        [
         "13",
         "0",
         "211701",
         "50",
         "artist",
         "211701",
         "0"
        ],
        [
         "14",
         "0",
         "236546",
         "90",
         "artist",
         "236546",
         "0"
        ],
        [
         "15",
         "0",
         "270557",
         "70",
         "artist",
         "270557",
         "0"
        ],
        [
         "16",
         "0",
         "286976",
         "30",
         "artist",
         "286976",
         "0"
        ],
        [
         "17",
         "0",
         "69022",
         "90",
         "artist",
         "69022",
         "0"
        ],
        [
         "18",
         "0",
         "70401",
         "30",
         "artist",
         "70401",
         "0"
        ],
        [
         "19",
         "0",
         "138935",
         "30",
         "artist",
         "138935",
         "0"
        ],
        [
         "20",
         "0",
         "182642",
         "30",
         "artist",
         "182642",
         "0"
        ],
        [
         "21",
         "0",
         "182018",
         "70",
         "artist",
         "182018",
         "0"
        ],
        [
         "22",
         "0",
         "224444",
         "70",
         "artist",
         "224444",
         "0"
        ],
        [
         "23",
         "0",
         "229481",
         "70",
         "artist",
         "229481",
         "0"
        ],
        [
         "24",
         "0",
         "206862",
         "70",
         "artist",
         "206862",
         "0"
        ],
        [
         "25",
         "0",
         "210480",
         "70",
         "artist",
         "210480",
         "0"
        ],
        [
         "26",
         "0",
         "51210",
         "90",
         "artist",
         "51210",
         "0"
        ],
        [
         "27",
         "0",
         "79500",
         "90",
         "artist",
         "79500",
         "0"
        ],
        [
         "28",
         "0",
         "82317",
         "90",
         "artist",
         "82317",
         "0"
        ],
        [
         "29",
         "0",
         "98399",
         "90",
         "artist",
         "98399",
         "0"
        ],
        [
         "30",
         "0",
         "152077",
         "90",
         "artist",
         "152077",
         "0"
        ],
        [
         "31",
         "0",
         "173467",
         "80",
         "genre",
         "0",
         "[173467]"
        ],
        [
         "32",
         "0",
         "176858",
         "80",
         "genre",
         "0",
         "[176858]"
        ],
        [
         "33",
         "0",
         "180487",
         "90",
         "artist",
         "180487",
         "0"
        ],
        [
         "34",
         "0",
         "211565",
         "90",
         "artist",
         "211565",
         "0"
        ],
        [
         "35",
         "0",
         "151565",
         "90",
         "artist",
         "151565",
         "0"
        ],
        [
         "36",
         "0",
         "275191",
         "90",
         "artist",
         "275191",
         "0"
        ],
        [
         "37",
         "0",
         "149962",
         "70",
         "genre",
         "0",
         "[149962]"
        ],
        [
         "38",
         "0",
         "51948",
         "30",
         "artist",
         "51948",
         "0"
        ],
        [
         "39",
         "0",
         "113759",
         "30",
         "artist",
         "113759",
         "0"
        ],
        [
         "40",
         "0",
         "251690",
         "30",
         "artist",
         "251690",
         "0"
        ],
        [
         "41",
         "0",
         "22935",
         "50",
         "artist",
         "22935",
         "0"
        ],
        [
         "42",
         "0",
         "45979",
         "50",
         "artist",
         "45979",
         "0"
        ],
        [
         "43",
         "0",
         "59092",
         "70",
         "artist",
         "59092",
         "0"
        ],
        [
         "44",
         "0",
         "263882",
         "90",
         "artist",
         "263882",
         "0"
        ],
        [
         "45",
         "0",
         "159380",
         "50",
         "artist",
         "159380",
         "0"
        ],
        [
         "46",
         "1",
         "270934",
         "30",
         "album",
         "108203",
         "[51420]"
        ],
        [
         "47",
         "1",
         "243848",
         "70",
         "artist",
         "243848",
         "0"
        ],
        [
         "48",
         "1",
         "221579",
         "30",
         "track",
         "12181",
         "[293670, 51420]"
        ],
        [
         "49",
         "1",
         "179556",
         "70",
         "track",
         "147606",
         "[131552, 199606]"
        ]
       ],
       "shape": {
        "columns": 6,
        "rows": 61944406
       }
      },
      "text/html": [
       "<div>\n",
       "<style scoped>\n",
       "    .dataframe tbody tr th:only-of-type {\n",
       "        vertical-align: middle;\n",
       "    }\n",
       "\n",
       "    .dataframe tbody tr th {\n",
       "        vertical-align: top;\n",
       "    }\n",
       "\n",
       "    .dataframe thead th {\n",
       "        text-align: right;\n",
       "    }\n",
       "</style>\n",
       "<table border=\"1\" class=\"dataframe\">\n",
       "  <thead>\n",
       "    <tr style=\"text-align: right;\">\n",
       "      <th></th>\n",
       "      <th>user_id</th>\n",
       "      <th>item_id</th>\n",
       "      <th>rating</th>\n",
       "      <th>item_type</th>\n",
       "      <th>artist_id</th>\n",
       "      <th>genre_ids</th>\n",
       "    </tr>\n",
       "  </thead>\n",
       "  <tbody>\n",
       "    <tr>\n",
       "      <th>0</th>\n",
       "      <td>0</td>\n",
       "      <td>28341</td>\n",
       "      <td>90</td>\n",
       "      <td>artist</td>\n",
       "      <td>28341</td>\n",
       "      <td>0</td>\n",
       "    </tr>\n",
       "    <tr>\n",
       "      <th>1</th>\n",
       "      <td>0</td>\n",
       "      <td>232604</td>\n",
       "      <td>30</td>\n",
       "      <td>artist</td>\n",
       "      <td>232604</td>\n",
       "      <td>0</td>\n",
       "    </tr>\n",
       "    <tr>\n",
       "      <th>2</th>\n",
       "      <td>0</td>\n",
       "      <td>237425</td>\n",
       "      <td>50</td>\n",
       "      <td>artist</td>\n",
       "      <td>237425</td>\n",
       "      <td>0</td>\n",
       "    </tr>\n",
       "    <tr>\n",
       "      <th>3</th>\n",
       "      <td>0</td>\n",
       "      <td>245257</td>\n",
       "      <td>50</td>\n",
       "      <td>artist</td>\n",
       "      <td>245257</td>\n",
       "      <td>0</td>\n",
       "    </tr>\n",
       "    <tr>\n",
       "      <th>4</th>\n",
       "      <td>0</td>\n",
       "      <td>23301</td>\n",
       "      <td>50</td>\n",
       "      <td>artist</td>\n",
       "      <td>23301</td>\n",
       "      <td>0</td>\n",
       "    </tr>\n",
       "    <tr>\n",
       "      <th>...</th>\n",
       "      <td>...</td>\n",
       "      <td>...</td>\n",
       "      <td>...</td>\n",
       "      <td>...</td>\n",
       "      <td>...</td>\n",
       "      <td>...</td>\n",
       "    </tr>\n",
       "    <tr>\n",
       "      <th>61944401</th>\n",
       "      <td>249011</td>\n",
       "      <td>141075</td>\n",
       "      <td>90</td>\n",
       "      <td>artist</td>\n",
       "      <td>141075</td>\n",
       "      <td>0</td>\n",
       "    </tr>\n",
       "    <tr>\n",
       "      <th>61944402</th>\n",
       "      <td>249011</td>\n",
       "      <td>150385</td>\n",
       "      <td>80</td>\n",
       "      <td>genre</td>\n",
       "      <td>0</td>\n",
       "      <td>[150385]</td>\n",
       "    </tr>\n",
       "    <tr>\n",
       "      <th>61944403</th>\n",
       "      <td>249011</td>\n",
       "      <td>152077</td>\n",
       "      <td>90</td>\n",
       "      <td>artist</td>\n",
       "      <td>152077</td>\n",
       "      <td>0</td>\n",
       "    </tr>\n",
       "    <tr>\n",
       "      <th>61944404</th>\n",
       "      <td>249011</td>\n",
       "      <td>158282</td>\n",
       "      <td>80</td>\n",
       "      <td>genre</td>\n",
       "      <td>0</td>\n",
       "      <td>[158282]</td>\n",
       "    </tr>\n",
       "    <tr>\n",
       "      <th>61944405</th>\n",
       "      <td>249011</td>\n",
       "      <td>295381</td>\n",
       "      <td>90</td>\n",
       "      <td>artist</td>\n",
       "      <td>295381</td>\n",
       "      <td>0</td>\n",
       "    </tr>\n",
       "  </tbody>\n",
       "</table>\n",
       "<p>61944406 rows × 6 columns</p>\n",
       "</div>"
      ],
      "text/plain": [
       "          user_id  item_id  rating item_type  artist_id genre_ids\n",
       "0               0    28341      90    artist      28341         0\n",
       "1               0   232604      30    artist     232604         0\n",
       "2               0   237425      50    artist     237425         0\n",
       "3               0   245257      50    artist     245257         0\n",
       "4               0    23301      50    artist      23301         0\n",
       "...           ...      ...     ...       ...        ...       ...\n",
       "61944401   249011   141075      90    artist     141075         0\n",
       "61944402   249011   150385      80     genre          0  [150385]\n",
       "61944403   249011   152077      90    artist     152077         0\n",
       "61944404   249011   158282      80     genre          0  [158282]\n",
       "61944405   249011   295381      90    artist     295381         0\n",
       "\n",
       "[61944406 rows x 6 columns]"
      ]
     },
     "execution_count": 14,
     "metadata": {},
     "output_type": "execute_result"
    }
   ],
   "source": [
    "item_meta_df = build_item_metadata(track_df, album_df, artist_df, genre_df)\n",
    "\n",
    "\n",
    "train_with_meta = train_df.merge(item_meta_df, on='item_id', how='inner')\n",
    "\n",
    "# When loading the data, sort by a stable column (e.g., user_id)\n",
    "train_with_meta = train_with_meta.sort_values('user_id').reset_index(drop=True)\n",
    "\n",
    "train_with_meta"
   ]
  },
  {
   "cell_type": "code",
   "execution_count": 15,
   "id": "638d818e-0548-4dc3-b916-721850fed344",
   "metadata": {},
   "outputs": [
    {
     "name": "stdout",
     "output_type": "stream",
     "text": [
      "🎯 Sample shape: (3305637, 6)\n",
      "👤 Users: 50000, 🎵 Items: 15778\n"
     ]
    }
   ],
   "source": [
    "from sklearn.metrics.pairwise import cosine_similarity\n",
    "from scipy.sparse import csr_matrix\n",
    "\n",
    "# Step 1: Prepare data\n",
    "df = train_with_meta.copy()\n",
    "# drop \"album', 'track\" items before all processing\n",
    "df = train_with_meta[~train_with_meta['item_type'].isin(['album', 'track'])].copy()\n",
    "\n",
    "# Encode user_id and item_id to indices\n",
    "user_ids = np.sort(df['user_id'].unique())\n",
    "item_ids = np.sort(df['item_id'].unique())\n",
    "\n",
    "user_id_map = {uid: i for i, uid in enumerate(user_ids)}\n",
    "item_id_map = {iid: i for i, iid in enumerate(item_ids)}\n",
    "\n",
    "# Step 2: Create user-item sparse rating matrix manually\n",
    "row_indices = df['user_id'].map(user_id_map)\n",
    "col_indices = df['item_id'].map(item_id_map)\n",
    "ratings = df['rating'].astype(float)\n",
    "\n",
    "n_users = len(user_ids)\n",
    "n_items = len(item_ids)\n",
    "\n",
    "user_item_sparse = csr_matrix((ratings, (row_indices, col_indices)), shape=(n_users, n_items))\n",
    "\n",
    "# Step 3: Select core users (or choose active users manually)\n",
    "np.random.seed(7)\n",
    "core_indices = np.random.choice(n_users, size=5, replace=False)\n",
    "\n",
    "# Step 4: Compute cosine similarity between core users and all users\n",
    "sim_matrix = cosine_similarity(user_item_sparse[core_indices], user_item_sparse)\n",
    "max_sim = sim_matrix.max(axis=0)\n",
    "\n",
    "# Step 5: Pick top-K most similar users\n",
    "top_k = 50000\n",
    "top_user_indices = np.argsort(max_sim)[-top_k:]\n",
    "sampled_user_ids = user_ids[top_user_indices]\n",
    "\n",
    "# Step 6: Filter original data\n",
    "user_filtered_df = df[df['user_id'].isin(sampled_user_ids)]\n",
    "\n",
    "# Step 7: Summary\n",
    "print(f\"🎯 Sample shape: {user_filtered_df.shape}\")\n",
    "print(f\"👤 Users: {user_filtered_df['user_id'].nunique()}, 🎵 Items: {user_filtered_df['item_id'].nunique()}\")"
   ]
  },
  {
   "cell_type": "code",
   "execution_count": 16,
   "id": "525d1954-e772-4a89-a75b-6ed4a33539fc",
   "metadata": {},
   "outputs": [
    {
     "name": "stdout",
     "output_type": "stream",
     "text": [
      "Initial: users = 50000, items = 15778, sparsity = 0.4190%\n",
      "After item filtering: users = 2315, items = 992, sparsity = 22.0430%\n",
      "Final: users = 1827, items = 992, sparsity = 22.5399%\n"
     ]
    }
   ],
   "source": [
    "filtered_df = threshold_interactions_df_plus(user_filtered_df, min_items_per_user=150, min_artists_per_user=20, min_genres_per_user=10,min_users_per_item=150)"
   ]
  },
  {
   "cell_type": "code",
   "execution_count": 28,
   "id": "257f2037",
   "metadata": {},
   "outputs": [
    {
     "data": {
      "application/vnd.microsoft.datawrangler.viewer.v0+json": {
       "columns": [
        {
         "name": "index",
         "rawType": "int64",
         "type": "integer"
        },
        {
         "name": "user_id",
         "rawType": "int64",
         "type": "integer"
        },
        {
         "name": "item_id",
         "rawType": "int64",
         "type": "integer"
        },
        {
         "name": "rating",
         "rawType": "int64",
         "type": "integer"
        },
        {
         "name": "item_type",
         "rawType": "object",
         "type": "string"
        },
        {
         "name": "artist_id",
         "rawType": "int64",
         "type": "integer"
        },
        {
         "name": "genre_ids",
         "rawType": "object",
         "type": "unknown"
        }
       ],
       "conversionMethod": "pd.DataFrame",
       "ref": "048a36fe-b5ba-4b44-abe1-39272174946b",
       "rows": [
        [
         "38739",
         "130",
         "59092",
         "50",
         "artist",
         "59092",
         "0"
        ],
        [
         "38741",
         "130",
         "162885",
         "50",
         "artist",
         "162885",
         "0"
        ],
        [
         "38742",
         "130",
         "94918",
         "50",
         "artist",
         "94918",
         "0"
        ],
        [
         "38743",
         "130",
         "128573",
         "50",
         "artist",
         "128573",
         "0"
        ],
        [
         "38744",
         "130",
         "179354",
         "30",
         "artist",
         "179354",
         "0"
        ],
        [
         "38748",
         "130",
         "270460",
         "50",
         "artist",
         "270460",
         "0"
        ],
        [
         "38754",
         "130",
         "187278",
         "90",
         "artist",
         "187278",
         "0"
        ],
        [
         "38757",
         "130",
         "14234",
         "30",
         "artist",
         "14234",
         "0"
        ],
        [
         "38762",
         "130",
         "28341",
         "90",
         "artist",
         "28341",
         "0"
        ],
        [
         "38766",
         "130",
         "24771",
         "50",
         "artist",
         "24771",
         "0"
        ],
        [
         "38768",
         "130",
         "83537",
         "30",
         "artist",
         "83537",
         "0"
        ],
        [
         "38775",
         "130",
         "93023",
         "90",
         "artist",
         "93023",
         "0"
        ],
        [
         "38779",
         "130",
         "83870",
         "50",
         "artist",
         "83870",
         "0"
        ],
        [
         "38780",
         "130",
         "271316",
         "50",
         "artist",
         "271316",
         "0"
        ],
        [
         "38785",
         "130",
         "71091",
         "50",
         "artist",
         "71091",
         "0"
        ],
        [
         "38793",
         "130",
         "100987",
         "50",
         "artist",
         "100987",
         "0"
        ],
        [
         "38799",
         "130",
         "65462",
         "50",
         "artist",
         "65462",
         "0"
        ],
        [
         "38802",
         "130",
         "43840",
         "50",
         "artist",
         "43840",
         "0"
        ],
        [
         "38804",
         "130",
         "253688",
         "50",
         "artist",
         "253688",
         "0"
        ],
        [
         "38808",
         "130",
         "78860",
         "30",
         "artist",
         "78860",
         "0"
        ],
        [
         "38810",
         "130",
         "284912",
         "50",
         "artist",
         "284912",
         "0"
        ],
        [
         "38812",
         "130",
         "231280",
         "30",
         "artist",
         "231280",
         "0"
        ],
        [
         "38818",
         "130",
         "278645",
         "50",
         "artist",
         "278645",
         "0"
        ],
        [
         "38825",
         "130",
         "129567",
         "50",
         "artist",
         "129567",
         "0"
        ],
        [
         "38830",
         "130",
         "83487",
         "30",
         "artist",
         "83487",
         "0"
        ],
        [
         "38833",
         "130",
         "169174",
         "30",
         "artist",
         "169174",
         "0"
        ],
        [
         "38836",
         "130",
         "236546",
         "50",
         "artist",
         "236546",
         "0"
        ],
        [
         "38839",
         "130",
         "18131",
         "30",
         "artist",
         "18131",
         "0"
        ],
        [
         "38841",
         "130",
         "22153",
         "50",
         "artist",
         "22153",
         "0"
        ],
        [
         "38856",
         "130",
         "65699",
         "50",
         "artist",
         "65699",
         "0"
        ],
        [
         "38857",
         "130",
         "114848",
         "30",
         "artist",
         "114848",
         "0"
        ],
        [
         "38861",
         "130",
         "255497",
         "30",
         "artist",
         "255497",
         "0"
        ],
        [
         "38886",
         "130",
         "237418",
         "50",
         "artist",
         "237418",
         "0"
        ],
        [
         "38890",
         "130",
         "238818",
         "50",
         "artist",
         "238818",
         "0"
        ],
        [
         "38896",
         "130",
         "250370",
         "70",
         "artist",
         "250370",
         "0"
        ],
        [
         "38901",
         "130",
         "98399",
         "50",
         "artist",
         "98399",
         "0"
        ],
        [
         "38908",
         "130",
         "250159",
         "50",
         "artist",
         "250159",
         "0"
        ],
        [
         "38912",
         "130",
         "54144",
         "50",
         "artist",
         "54144",
         "0"
        ],
        [
         "38914",
         "130",
         "245257",
         "50",
         "artist",
         "245257",
         "0"
        ],
        [
         "38920",
         "130",
         "33722",
         "30",
         "genre",
         "0",
         "[33722]"
        ],
        [
         "38921",
         "130",
         "131552",
         "30",
         "genre",
         "0",
         "[131552]"
        ],
        [
         "38925",
         "130",
         "269733",
         "50",
         "artist",
         "269733",
         "0"
        ],
        [
         "38927",
         "130",
         "12920",
         "90",
         "artist",
         "12920",
         "0"
        ],
        [
         "38930",
         "130",
         "77710",
         "90",
         "artist",
         "77710",
         "0"
        ],
        [
         "38934",
         "130",
         "180487",
         "90",
         "artist",
         "180487",
         "0"
        ],
        [
         "38938",
         "130",
         "85028",
         "50",
         "artist",
         "85028",
         "0"
        ],
        [
         "38940",
         "130",
         "147886",
         "0",
         "genre",
         "0",
         "[147886]"
        ],
        [
         "38941",
         "130",
         "158282",
         "90",
         "genre",
         "0",
         "[158282]"
        ],
        [
         "38942",
         "130",
         "208198",
         "0",
         "genre",
         "0",
         "[208198]"
        ],
        [
         "38943",
         "130",
         "214765",
         "0",
         "genre",
         "0",
         "[214765]"
        ]
       ],
       "shape": {
        "columns": 6,
        "rows": 408509
       }
      },
      "text/html": [
       "<div>\n",
       "<style scoped>\n",
       "    .dataframe tbody tr th:only-of-type {\n",
       "        vertical-align: middle;\n",
       "    }\n",
       "\n",
       "    .dataframe tbody tr th {\n",
       "        vertical-align: top;\n",
       "    }\n",
       "\n",
       "    .dataframe thead th {\n",
       "        text-align: right;\n",
       "    }\n",
       "</style>\n",
       "<table border=\"1\" class=\"dataframe\">\n",
       "  <thead>\n",
       "    <tr style=\"text-align: right;\">\n",
       "      <th></th>\n",
       "      <th>user_id</th>\n",
       "      <th>item_id</th>\n",
       "      <th>rating</th>\n",
       "      <th>item_type</th>\n",
       "      <th>artist_id</th>\n",
       "      <th>genre_ids</th>\n",
       "    </tr>\n",
       "  </thead>\n",
       "  <tbody>\n",
       "    <tr>\n",
       "      <th>38739</th>\n",
       "      <td>130</td>\n",
       "      <td>59092</td>\n",
       "      <td>50</td>\n",
       "      <td>artist</td>\n",
       "      <td>59092</td>\n",
       "      <td>0</td>\n",
       "    </tr>\n",
       "    <tr>\n",
       "      <th>38741</th>\n",
       "      <td>130</td>\n",
       "      <td>162885</td>\n",
       "      <td>50</td>\n",
       "      <td>artist</td>\n",
       "      <td>162885</td>\n",
       "      <td>0</td>\n",
       "    </tr>\n",
       "    <tr>\n",
       "      <th>38742</th>\n",
       "      <td>130</td>\n",
       "      <td>94918</td>\n",
       "      <td>50</td>\n",
       "      <td>artist</td>\n",
       "      <td>94918</td>\n",
       "      <td>0</td>\n",
       "    </tr>\n",
       "    <tr>\n",
       "      <th>38743</th>\n",
       "      <td>130</td>\n",
       "      <td>128573</td>\n",
       "      <td>50</td>\n",
       "      <td>artist</td>\n",
       "      <td>128573</td>\n",
       "      <td>0</td>\n",
       "    </tr>\n",
       "    <tr>\n",
       "      <th>38744</th>\n",
       "      <td>130</td>\n",
       "      <td>179354</td>\n",
       "      <td>30</td>\n",
       "      <td>artist</td>\n",
       "      <td>179354</td>\n",
       "      <td>0</td>\n",
       "    </tr>\n",
       "    <tr>\n",
       "      <th>...</th>\n",
       "      <td>...</td>\n",
       "      <td>...</td>\n",
       "      <td>...</td>\n",
       "      <td>...</td>\n",
       "      <td>...</td>\n",
       "      <td>...</td>\n",
       "    </tr>\n",
       "    <tr>\n",
       "      <th>61902008</th>\n",
       "      <td>248860</td>\n",
       "      <td>230208</td>\n",
       "      <td>0</td>\n",
       "      <td>artist</td>\n",
       "      <td>230208</td>\n",
       "      <td>0</td>\n",
       "    </tr>\n",
       "    <tr>\n",
       "      <th>61902035</th>\n",
       "      <td>248860</td>\n",
       "      <td>166257</td>\n",
       "      <td>0</td>\n",
       "      <td>artist</td>\n",
       "      <td>166257</td>\n",
       "      <td>0</td>\n",
       "    </tr>\n",
       "    <tr>\n",
       "      <th>61902046</th>\n",
       "      <td>248860</td>\n",
       "      <td>222273</td>\n",
       "      <td>0</td>\n",
       "      <td>artist</td>\n",
       "      <td>222273</td>\n",
       "      <td>0</td>\n",
       "    </tr>\n",
       "    <tr>\n",
       "      <th>61902062</th>\n",
       "      <td>248860</td>\n",
       "      <td>161937</td>\n",
       "      <td>0</td>\n",
       "      <td>artist</td>\n",
       "      <td>161937</td>\n",
       "      <td>0</td>\n",
       "    </tr>\n",
       "    <tr>\n",
       "      <th>61902168</th>\n",
       "      <td>248860</td>\n",
       "      <td>89704</td>\n",
       "      <td>0</td>\n",
       "      <td>artist</td>\n",
       "      <td>89704</td>\n",
       "      <td>0</td>\n",
       "    </tr>\n",
       "  </tbody>\n",
       "</table>\n",
       "<p>408509 rows × 6 columns</p>\n",
       "</div>"
      ],
      "text/plain": [
       "          user_id  item_id  rating item_type  artist_id genre_ids\n",
       "38739         130    59092      50    artist      59092         0\n",
       "38741         130   162885      50    artist     162885         0\n",
       "38742         130    94918      50    artist      94918         0\n",
       "38743         130   128573      50    artist     128573         0\n",
       "38744         130   179354      30    artist     179354         0\n",
       "...           ...      ...     ...       ...        ...       ...\n",
       "61902008   248860   230208       0    artist     230208         0\n",
       "61902035   248860   166257       0    artist     166257         0\n",
       "61902046   248860   222273       0    artist     222273         0\n",
       "61902062   248860   161937       0    artist     161937         0\n",
       "61902168   248860    89704       0    artist      89704         0\n",
       "\n",
       "[408509 rows x 6 columns]"
      ]
     },
     "execution_count": 28,
     "metadata": {},
     "output_type": "execute_result"
    }
   ],
   "source": [
    "filtered_df"
   ]
  },
  {
   "cell_type": "code",
   "execution_count": 29,
   "id": "cfd5f620",
   "metadata": {},
   "outputs": [],
   "source": [
    "all_user_ids = sorted(filtered_df['user_id'].unique())\n",
    "warm_users = all_user_ids[:160]\n",
    "cold_users = all_user_ids[160:]\n",
    "\n",
    "\n",
    "df_warm = filtered_df[filtered_df['user_id'].isin(warm_users)].copy()\n",
    "df_cold = filtered_df[filtered_df['user_id'].isin(cold_users)].copy()\n",
    "\n",
    "matrix_warm, rid_to_idx_warm, idx_to_rid_warm, cid_to_idx, idx_to_cid = df_to_matrix(\n",
    "    df_warm, \"user_id\", \"item_id\", \"rating\")\n",
    "\n",
    "\n",
    "matrix_cold, rid_to_idx_cold, idx_to_rid_cold, _, _ = df_to_matrix( \n",
    "    df_cold, \"user_id\", \"item_id\", \"rating\")\n",
    "\n"
   ]
  },
  {
   "cell_type": "code",
   "execution_count": 30,
   "id": "5a9d11e2",
   "metadata": {},
   "outputs": [],
   "source": [
    "def split_and_combine(strategy=\"artist-only\"):\n",
    "    \"\"\"Handles both approaches with proper matrix alignment\"\"\"\n",
    "    # Get full cold matrix and mappings\n",
    "    matrix_cold, rid_to_idx_cold, _, cid_to_idx, _ = df_to_matrix(\n",
    "        df_cold, \"user_id\", \"item_id\", \"rating\"\n",
    "    )\n",
    "    matrix_cold = matrix_cold.tocsr()\n",
    "\n",
    "    # Create boolean masks\n",
    "    artist_mask = np.isin(\n",
    "        np.arange(matrix_cold.shape[1]), \n",
    "        [cid_to_idx[iid] for iid in df_cold[df_cold['item_type'] == 'artist']['item_id']]\n",
    "    )\n",
    "    genre_mask = ~artist_mask\n",
    "\n",
    "    # Create aligned matrices\n",
    "    matrix_cold_artist = matrix_cold.multiply(artist_mask)\n",
    "    matrix_cold_genre = matrix_cold.multiply(genre_mask)\n",
    "    matrix_cold_artist = matrix_cold.multiply(artist_mask).tocsr()\n",
    "    matrix_cold_genre = matrix_cold.multiply(genre_mask).tocsr()\n",
    "\n",
    "    al_artist, test_cold, _ = train_test_split(\n",
    "        matrix_cold_artist, \n",
    "        split_count=30,\n",
    "        fraction=None\n",
    "    )\n",
    "    \n",
    "    if strategy == \"artist-only\":\n",
    "        X_cold, K_cold, _ = train_test_split_csr(al_artist, 1)\n",
    "        K_cold = K_cold + matrix_cold_genre  \n",
    "        return K_cold, X_cold, test_cold\n",
    "    \n",
    "    elif strategy == \"hybrid\":\n",
    "        combined = al_artist + matrix_cold_genre\n",
    "        X_cold, K_cold, _ = train_test_split_csr(combined, 1)\n",
    "        return K_cold, X_cold, test_cold\n"
   ]
  },
  {
   "cell_type": "code",
   "execution_count": 31,
   "id": "96fa0837",
   "metadata": {},
   "outputs": [],
   "source": [
    "train_cold_K_artist, X_cold_artist, test_cold_artist  = split_and_combine(\"artist-only\")\n"
   ]
  },
  {
   "cell_type": "code",
   "execution_count": 32,
   "id": "54eb377c",
   "metadata": {},
   "outputs": [],
   "source": [
    "train_cold_K_hybrid, X_cold_hybrid, test_cold_hybrid = split_and_combine(\"hybrid\")\n"
   ]
  },
  {
   "cell_type": "code",
   "execution_count": 22,
   "id": "8bb1f22e",
   "metadata": {},
   "outputs": [
    {
     "name": "stdout",
     "output_type": "stream",
     "text": [
      "Cold users in X: 1666\n",
      "Cold items in X: 898\n",
      "test users in test: 1664\n",
      "test items in test: 898\n",
      "train users in train: 1658\n",
      "train items in train: 587\n"
     ]
    }
   ],
   "source": [
    "# shape of test_cold\n",
    "\n",
    "print(f\"Cold users in X: {len(np.unique(X_cold_artist.nonzero()[0]))}\")\n",
    "print(f\"Cold items in X: {len(np.unique(X_cold_artist.nonzero()[1]))}\")\n",
    "print(f\"test users in test: {len(np.unique(test_cold_artist.nonzero()[0]))}\")\n",
    "print(f\"test items in test: {len(np.unique(test_cold_artist.nonzero()[1]))}\")\n",
    "print(f\"train users in train: {len(np.unique(train_cold_K_artist.nonzero()[0]))}\")\n",
    "print(f\"train items in train: {len(np.unique(train_cold_K_artist.nonzero()[1]))}\")"
   ]
  },
  {
   "cell_type": "code",
   "execution_count": 23,
   "id": "e171b1d3",
   "metadata": {},
   "outputs": [
    {
     "name": "stdout",
     "output_type": "stream",
     "text": [
      "Shape of test_cold: (1667, 992)\n",
      "Shape of train_cold: (1667, 992)\n",
      "Shape of X_cold: (1667, 992)\n"
     ]
    }
   ],
   "source": [
    "# shape of test_cold\n",
    "print(f\"Shape of test_cold: {test_cold_artist.shape}\")\n",
    "print(f\"Shape of train_cold: {train_cold_K_artist.shape}\")\n",
    "print(f\"Shape of X_cold: {X_cold_artist.shape}\")"
   ]
  },
  {
   "cell_type": "markdown",
   "id": "0f4338ac",
   "metadata": {},
   "source": []
  },
  {
   "cell_type": "code",
   "execution_count": null,
   "id": "ebc183fb",
   "metadata": {},
   "outputs": [],
   "source": [
    "from collections import defaultdict\n",
    "\n",
    "\n",
    "def elicitation_by_tree_path_retrain_skiped_warm(tree_model_class, train, test, X, matrix_warm, idx_to_rid_cold, idx_to_rid_warm, idx_to_cid, iteration=5):\n",
    "    \"\"\"\n",
    "    Method 3 (revised): Retrain tree at each round. For each user, traverse from root down the tree.\n",
    "    At each level, if the item was already asked (stored in asked_items), go deeper.\n",
    "    Ask the first item the user hasn't been asked before.\n",
    "\n",
    "    Parameters:\n",
    "    - tree_model_class: class of the decision tree model (not instance)\n",
    "    - train, test, X: lil_matrix (known ratings, test set, and full matrix)\n",
    "    - idx_to_rid, idx_to_cid: index-to-ID mapping\n",
    "    - iteration: number of elicitation rounds\n",
    "\n",
    "    Returns:\n",
    "    - rmse_list, mae_list\n",
    "    \"\"\"\n",
    "\n",
    "    num_users, num_items = train.shape\n",
    "    train_copy = train.tolil().copy()\n",
    "    X_copy = X.tolil().copy()\n",
    "    rmse_list, mae_list = [], []\n",
    "    cid_to_idx = {v: k for k, v in idx_to_cid.items()}\n",
    "    asked_items = {u: set() for u in range(num_users)}  \n",
    "\n",
    "    # Step 0: Baseline evaluation\n",
    "    print(\"🔍 Evaluating baseline RMSE/MAE...\")\n",
    "    train_df = matrix_to_df_2(train_copy, idx_to_rid_cold, idx_to_cid)\n",
    "    reader = Reader(rating_scale=(1, 100))\n",
    "    data_r = Dataset.load_from_df(train_df[['user_id', 'item_id', 'rating']], reader)\n",
    "    trainset = data_r.build_full_trainset()\n",
    "    algo = SVD()\n",
    "    algo.fit(trainset)\n",
    "    test_df = matrix_to_df_2(test, idx_to_rid_cold, idx_to_cid)\n",
    "    test_data = Dataset.load_from_df(test_df[['user_id', 'item_id', 'rating']], reader)\n",
    "    testset = test_data.build_full_trainset().build_testset()\n",
    "    predictions = algo.test(testset)\n",
    "    rmse_list.append(accuracy.rmse(predictions, verbose=True))\n",
    "    mae_list.append(accuracy.mae(predictions, verbose=True))\n",
    "    print(\"✅ Baseline evaluation complete.\")\n",
    "\n",
    "    for i in range(iteration):\n",
    "        print(f\"\\n🔁 Iteration {i+1}/{iteration} (skip asked items, walk from root)\")\n",
    "        # Retrain tree using current train_copy\n",
    "        warm_df = matrix_to_full_df(matrix_warm, idx_to_rid_warm, idx_to_cid)\n",
    "        coldK_df = matrix_to_full_df(train_copy, idx_to_rid_cold, idx_to_cid)\n",
    "        x_df = pd.concat([warm_df, coldK_df], ignore_index=False)\n",
    "\n",
    "        pct = Tree(max_depth=i + 1, min_instances=5)\n",
    "        pct.fit(x_df, x_df)\n",
    "        print(\"🌳 Tree re-trained.\")\n",
    "\n",
    "        for u in range(num_users):\n",
    "            node = pct.root\n",
    "\n",
    "            # Traverse down the tree until we find an unasked item\n",
    "            while node and not node.is_leaf and node.attribute_name:\n",
    "                item = node.attribute_name\n",
    "                if item not in cid_to_idx:\n",
    "                    node = None\n",
    "                    break\n",
    "\n",
    "                item_idx = cid_to_idx[item]\n",
    "\n",
    "                if item_idx in asked_items[u]:\n",
    "                    # Already asked, go deeper based on user's rating\n",
    "                    rating = train_copy[u, item_idx]\n",
    "                    if rating > 50:\n",
    "                        node = node.children[0]\n",
    "                    elif rating > 0:\n",
    "                        node = node.children[1]\n",
    "                    else:\n",
    "                        node = node.children[2]\n",
    "                    continue\n",
    "\n",
    "                # First unasked item: try to add it to training\n",
    "                asked_items[u].add(item_idx)  \n",
    "                rating = X_copy[u, item_idx]\n",
    "                if rating > 0:\n",
    "                    train_copy[u, item_idx] = rating\n",
    "                    X_copy[u, item_idx] = 0\n",
    "                break  # only ask one item per user per iteration\n",
    "\n",
    "        # Step 3: Evaluate with SVD\n",
    "        print(\"📊 Evaluating after this iteration...\")\n",
    "        train_df = matrix_to_df_2(train_copy, idx_to_rid_cold, idx_to_cid)\n",
    "        data_r = Dataset.load_from_df(train_df[['user_id', 'item_id', 'rating']], reader)\n",
    "        trainset = data_r.build_full_trainset()\n",
    "        algo.fit(trainset)\n",
    "        test_df = matrix_to_df_2(test, idx_to_rid_cold, idx_to_cid)\n",
    "        test_data = Dataset.load_from_df(test_df[['user_id', 'item_id', 'rating']], reader)\n",
    "        testset = test_data.build_full_trainset().build_testset()\n",
    "        predictions = algo.test(testset)\n",
    "        rmse_list.append(accuracy.rmse(predictions, verbose=True))\n",
    "        mae_list.append(accuracy.mae(predictions, verbose=True))\n",
    "        print(f\"✅ Iteration {i+1} complete.\")\n",
    "\n",
    "    return rmse_list, mae_list"
   ]
  },
  {
   "cell_type": "markdown",
   "id": "dcb06476",
   "metadata": {},
   "source": [
    "# X with artist only"
   ]
  },
  {
   "cell_type": "code",
   "execution_count": null,
   "id": "83dafeb7",
   "metadata": {},
   "outputs": [
    {
     "name": "stdout",
     "output_type": "stream",
     "text": [
      "🔍 Evaluating baseline RMSE/MAE...\n",
      "RMSE: 24.2226\n",
      "MAE:  20.9104\n",
      "✅ Baseline evaluation complete.\n",
      "\n",
      "🔁 Iteration 1/7 (skip asked items, walk from root)\n"
     ]
    },
    {
     "name": "stderr",
     "output_type": "stream",
     "text": [
      "/Users/camillecu/Downloads/KUL/master_thesis/master_thesis_github/pct/tree/utils.py:45: RuntimeWarning: divide by zero encountered in divide\n",
      "  weights = 1/var\n",
      "/Users/camillecu/Downloads/KUL/master_thesis/master_thesis_github/pct/tree/utils.py:47: UserWarning: At least one of the target variables is constant, setting its weight to 0.\n",
      "  warnings.warn(\"At least one of the target variables is constant, setting its weight to 0.\")\n"
     ]
    },
    {
     "name": "stdout",
     "output_type": "stream",
     "text": [
      "Initializing Splitter...\n",
      "✅ Calling build()...\n",
      "✅ Tree built successfully!\n",
      "🌳 Tree re-trained.\n",
      "📊 Evaluating after this iteration...\n",
      "RMSE: 24.2682\n",
      "MAE:  20.9552\n",
      "✅ Iteration 1 complete.\n",
      "\n",
      "🔁 Iteration 2/7 (skip asked items, walk from root)\n"
     ]
    },
    {
     "name": "stderr",
     "output_type": "stream",
     "text": [
      "/Users/camillecu/Downloads/KUL/master_thesis/master_thesis_github/pct/tree/utils.py:45: RuntimeWarning: divide by zero encountered in divide\n",
      "  weights = 1/var\n",
      "/Users/camillecu/Downloads/KUL/master_thesis/master_thesis_github/pct/tree/utils.py:47: UserWarning: At least one of the target variables is constant, setting its weight to 0.\n",
      "  warnings.warn(\"At least one of the target variables is constant, setting its weight to 0.\")\n"
     ]
    },
    {
     "name": "stdout",
     "output_type": "stream",
     "text": [
      "Initializing Splitter...\n",
      "✅ Calling build()...\n",
      "✅ Tree built successfully!\n",
      "🌳 Tree re-trained.\n",
      "📊 Evaluating after this iteration...\n",
      "RMSE: 24.2579\n",
      "MAE:  20.9675\n",
      "✅ Iteration 2 complete.\n",
      "\n",
      "🔁 Iteration 3/7 (skip asked items, walk from root)\n"
     ]
    },
    {
     "name": "stderr",
     "output_type": "stream",
     "text": [
      "/Users/camillecu/Downloads/KUL/master_thesis/master_thesis_github/pct/tree/utils.py:45: RuntimeWarning: divide by zero encountered in divide\n",
      "  weights = 1/var\n",
      "/Users/camillecu/Downloads/KUL/master_thesis/master_thesis_github/pct/tree/utils.py:47: UserWarning: At least one of the target variables is constant, setting its weight to 0.\n",
      "  warnings.warn(\"At least one of the target variables is constant, setting its weight to 0.\")\n"
     ]
    },
    {
     "name": "stdout",
     "output_type": "stream",
     "text": [
      "Initializing Splitter...\n",
      "✅ Calling build()...\n",
      "✅ Tree built successfully!\n",
      "🌳 Tree re-trained.\n",
      "📊 Evaluating after this iteration...\n",
      "RMSE: 24.2563\n",
      "MAE:  20.9551\n",
      "✅ Iteration 3 complete.\n",
      "\n",
      "🔁 Iteration 4/7 (skip asked items, walk from root)\n"
     ]
    },
    {
     "name": "stderr",
     "output_type": "stream",
     "text": [
      "/Users/camillecu/Downloads/KUL/master_thesis/master_thesis_github/pct/tree/utils.py:45: RuntimeWarning: divide by zero encountered in divide\n",
      "  weights = 1/var\n",
      "/Users/camillecu/Downloads/KUL/master_thesis/master_thesis_github/pct/tree/utils.py:47: UserWarning: At least one of the target variables is constant, setting its weight to 0.\n",
      "  warnings.warn(\"At least one of the target variables is constant, setting its weight to 0.\")\n"
     ]
    },
    {
     "name": "stdout",
     "output_type": "stream",
     "text": [
      "Initializing Splitter...\n",
      "✅ Calling build()...\n",
      "✅ Tree built successfully!\n",
      "🌳 Tree re-trained.\n",
      "📊 Evaluating after this iteration...\n",
      "RMSE: 24.2609\n",
      "MAE:  20.9730\n",
      "✅ Iteration 4 complete.\n",
      "\n",
      "🔁 Iteration 5/7 (skip asked items, walk from root)\n"
     ]
    },
    {
     "name": "stderr",
     "output_type": "stream",
     "text": [
      "/Users/camillecu/Downloads/KUL/master_thesis/master_thesis_github/pct/tree/utils.py:45: RuntimeWarning: divide by zero encountered in divide\n",
      "  weights = 1/var\n",
      "/Users/camillecu/Downloads/KUL/master_thesis/master_thesis_github/pct/tree/utils.py:47: UserWarning: At least one of the target variables is constant, setting its weight to 0.\n",
      "  warnings.warn(\"At least one of the target variables is constant, setting its weight to 0.\")\n"
     ]
    },
    {
     "name": "stdout",
     "output_type": "stream",
     "text": [
      "Initializing Splitter...\n",
      "✅ Calling build()...\n",
      "✅ Tree built successfully!\n",
      "🌳 Tree re-trained.\n",
      "📊 Evaluating after this iteration...\n",
      "RMSE: 24.2972\n",
      "MAE:  21.0143\n",
      "✅ Iteration 5 complete.\n",
      "\n",
      "🔁 Iteration 6/7 (skip asked items, walk from root)\n"
     ]
    },
    {
     "name": "stderr",
     "output_type": "stream",
     "text": [
      "/Users/camillecu/Downloads/KUL/master_thesis/master_thesis_github/pct/tree/utils.py:45: RuntimeWarning: divide by zero encountered in divide\n",
      "  weights = 1/var\n",
      "/Users/camillecu/Downloads/KUL/master_thesis/master_thesis_github/pct/tree/utils.py:47: UserWarning: At least one of the target variables is constant, setting its weight to 0.\n",
      "  warnings.warn(\"At least one of the target variables is constant, setting its weight to 0.\")\n"
     ]
    },
    {
     "name": "stdout",
     "output_type": "stream",
     "text": [
      "Initializing Splitter...\n",
      "✅ Calling build()...\n"
     ]
    },
    {
     "name": "stderr",
     "output_type": "stream",
     "text": [
      "/Users/camillecu/Downloads/KUL/master_thesis/master_thesis_github/pct/tree/node/node.py:73: RuntimeWarning: invalid value encountered in divide\n",
      "  prototype /= np.sum(\n"
     ]
    },
    {
     "name": "stdout",
     "output_type": "stream",
     "text": [
      "✅ Tree built successfully!\n",
      "🌳 Tree re-trained.\n",
      "📊 Evaluating after this iteration...\n",
      "RMSE: 24.2679\n",
      "MAE:  20.9681\n",
      "✅ Iteration 6 complete.\n",
      "\n",
      "🔁 Iteration 7/7 (skip asked items, walk from root)\n"
     ]
    },
    {
     "name": "stderr",
     "output_type": "stream",
     "text": [
      "/Users/camillecu/Downloads/KUL/master_thesis/master_thesis_github/pct/tree/utils.py:45: RuntimeWarning: divide by zero encountered in divide\n",
      "  weights = 1/var\n",
      "/Users/camillecu/Downloads/KUL/master_thesis/master_thesis_github/pct/tree/utils.py:47: UserWarning: At least one of the target variables is constant, setting its weight to 0.\n",
      "  warnings.warn(\"At least one of the target variables is constant, setting its weight to 0.\")\n"
     ]
    },
    {
     "name": "stdout",
     "output_type": "stream",
     "text": [
      "Initializing Splitter...\n",
      "✅ Calling build()...\n"
     ]
    },
    {
     "name": "stderr",
     "output_type": "stream",
     "text": [
      "/Users/camillecu/Downloads/KUL/master_thesis/master_thesis_github/pct/tree/node/node.py:73: RuntimeWarning: invalid value encountered in divide\n",
      "  prototype /= np.sum(\n",
      "/Users/camillecu/Downloads/KUL/master_thesis/master_thesis_github/pct/tree/node/node.py:73: RuntimeWarning: invalid value encountered in divide\n",
      "  prototype /= np.sum(\n",
      "/Users/camillecu/Downloads/KUL/master_thesis/master_thesis_github/pct/tree/node/node.py:73: RuntimeWarning: invalid value encountered in divide\n",
      "  prototype /= np.sum(\n"
     ]
    },
    {
     "name": "stdout",
     "output_type": "stream",
     "text": [
      "✅ Tree built successfully!\n",
      "🌳 Tree re-trained.\n",
      "📊 Evaluating after this iteration...\n",
      "RMSE: 24.2185\n",
      "MAE:  20.9419\n",
      "✅ Iteration 7 complete.\n"
     ]
    },
    {
     "data": {
      "text/plain": [
       "([24.222567205959418,\n",
       "  24.26824175174528,\n",
       "  24.257901876485924,\n",
       "  24.256343687085284,\n",
       "  24.26091077218245,\n",
       "  24.297233373740568,\n",
       "  24.267864445770808,\n",
       "  24.218523032010182],\n",
       " [20.910380244785525,\n",
       "  20.955180413600875,\n",
       "  20.967490710065736,\n",
       "  20.95512372922529,\n",
       "  20.972954368127123,\n",
       "  21.014277531306934,\n",
       "  20.968050563759256,\n",
       "  20.94186713057916])"
      ]
     },
     "execution_count": 26,
     "metadata": {},
     "output_type": "execute_result"
    }
   ],
   "source": [
    "import warnings\n",
    "warnings.simplefilter(action='ignore', category=FutureWarning)\n",
    "\n",
    "pct_artist_only = elicitation_by_tree_path_retrain_skiped_warm(\n",
    "    tree_model_class=Tree,\n",
    "    train=train_cold_K_artist,\n",
    "    test=test_cold_artist,\n",
    "    X=X_cold_artist,\n",
    "    matrix_warm=matrix_warm,\n",
    "    idx_to_rid_cold=idx_to_rid_cold,\n",
    "    idx_to_rid_warm=idx_to_rid_warm,\n",
    "    idx_to_cid=idx_to_cid,\n",
    "    iteration=15\n",
    ")"
   ]
  },
  {
   "cell_type": "markdown",
   "id": "b3d8fa30",
   "metadata": {},
   "source": [
    "# X with artist + genre"
   ]
  },
  {
   "cell_type": "code",
   "execution_count": null,
   "id": "d1b83b94",
   "metadata": {},
   "outputs": [
    {
     "name": "stdout",
     "output_type": "stream",
     "text": [
      "🔍 Evaluating baseline RMSE/MAE...\n",
      "RMSE: 26.0925\n",
      "MAE:  23.3791\n",
      "✅ Baseline evaluation complete.\n",
      "\n",
      "🔁 Iteration 1/7 (skip asked items, walk from root)\n"
     ]
    },
    {
     "name": "stderr",
     "output_type": "stream",
     "text": [
      "/Users/camillecu/Downloads/KUL/master_thesis/master_thesis_github/pct/tree/utils.py:45: RuntimeWarning: divide by zero encountered in divide\n",
      "  weights = 1/var\n",
      "/Users/camillecu/Downloads/KUL/master_thesis/master_thesis_github/pct/tree/utils.py:47: UserWarning: At least one of the target variables is constant, setting its weight to 0.\n",
      "  warnings.warn(\"At least one of the target variables is constant, setting its weight to 0.\")\n"
     ]
    },
    {
     "name": "stdout",
     "output_type": "stream",
     "text": [
      "Initializing Splitter...\n",
      "✅ Calling build()...\n",
      "✅ Tree built successfully!\n",
      "🌳 Tree re-trained.\n",
      "📊 Evaluating after this iteration...\n",
      "RMSE: 25.2747\n",
      "MAE:  22.7755\n",
      "✅ Iteration 1 complete.\n",
      "\n",
      "🔁 Iteration 2/7 (skip asked items, walk from root)\n"
     ]
    },
    {
     "name": "stderr",
     "output_type": "stream",
     "text": [
      "/Users/camillecu/Downloads/KUL/master_thesis/master_thesis_github/pct/tree/utils.py:45: RuntimeWarning: divide by zero encountered in divide\n",
      "  weights = 1/var\n",
      "/Users/camillecu/Downloads/KUL/master_thesis/master_thesis_github/pct/tree/utils.py:47: UserWarning: At least one of the target variables is constant, setting its weight to 0.\n",
      "  warnings.warn(\"At least one of the target variables is constant, setting its weight to 0.\")\n"
     ]
    },
    {
     "name": "stdout",
     "output_type": "stream",
     "text": [
      "Initializing Splitter...\n",
      "✅ Calling build()...\n",
      "✅ Tree built successfully!\n",
      "🌳 Tree re-trained.\n",
      "📊 Evaluating after this iteration...\n",
      "RMSE: 25.2645\n",
      "MAE:  22.7575\n",
      "✅ Iteration 2 complete.\n",
      "\n",
      "🔁 Iteration 3/7 (skip asked items, walk from root)\n"
     ]
    },
    {
     "name": "stderr",
     "output_type": "stream",
     "text": [
      "/Users/camillecu/Downloads/KUL/master_thesis/master_thesis_github/pct/tree/utils.py:45: RuntimeWarning: divide by zero encountered in divide\n",
      "  weights = 1/var\n",
      "/Users/camillecu/Downloads/KUL/master_thesis/master_thesis_github/pct/tree/utils.py:47: UserWarning: At least one of the target variables is constant, setting its weight to 0.\n",
      "  warnings.warn(\"At least one of the target variables is constant, setting its weight to 0.\")\n"
     ]
    },
    {
     "name": "stdout",
     "output_type": "stream",
     "text": [
      "Initializing Splitter...\n",
      "✅ Calling build()...\n",
      "✅ Tree built successfully!\n",
      "🌳 Tree re-trained.\n",
      "📊 Evaluating after this iteration...\n",
      "RMSE: 25.2396\n",
      "MAE:  22.7422\n",
      "✅ Iteration 3 complete.\n",
      "\n",
      "🔁 Iteration 4/7 (skip asked items, walk from root)\n"
     ]
    },
    {
     "name": "stderr",
     "output_type": "stream",
     "text": [
      "/Users/camillecu/Downloads/KUL/master_thesis/master_thesis_github/pct/tree/utils.py:45: RuntimeWarning: divide by zero encountered in divide\n",
      "  weights = 1/var\n",
      "/Users/camillecu/Downloads/KUL/master_thesis/master_thesis_github/pct/tree/utils.py:47: UserWarning: At least one of the target variables is constant, setting its weight to 0.\n",
      "  warnings.warn(\"At least one of the target variables is constant, setting its weight to 0.\")\n"
     ]
    },
    {
     "name": "stdout",
     "output_type": "stream",
     "text": [
      "Initializing Splitter...\n",
      "✅ Calling build()...\n",
      "✅ Tree built successfully!\n",
      "🌳 Tree re-trained.\n",
      "📊 Evaluating after this iteration...\n",
      "RMSE: 25.0028\n",
      "MAE:  22.5724\n",
      "✅ Iteration 4 complete.\n",
      "\n",
      "🔁 Iteration 5/7 (skip asked items, walk from root)\n"
     ]
    },
    {
     "name": "stderr",
     "output_type": "stream",
     "text": [
      "/Users/camillecu/Downloads/KUL/master_thesis/master_thesis_github/pct/tree/utils.py:45: RuntimeWarning: divide by zero encountered in divide\n",
      "  weights = 1/var\n",
      "/Users/camillecu/Downloads/KUL/master_thesis/master_thesis_github/pct/tree/utils.py:47: UserWarning: At least one of the target variables is constant, setting its weight to 0.\n",
      "  warnings.warn(\"At least one of the target variables is constant, setting its weight to 0.\")\n"
     ]
    },
    {
     "name": "stdout",
     "output_type": "stream",
     "text": [
      "Initializing Splitter...\n",
      "✅ Calling build()...\n"
     ]
    },
    {
     "name": "stderr",
     "output_type": "stream",
     "text": [
      "/Users/camillecu/Downloads/KUL/master_thesis/master_thesis_github/pct/tree/node/node.py:73: RuntimeWarning: invalid value encountered in divide\n",
      "  prototype /= np.sum(\n",
      "/Users/camillecu/Downloads/KUL/master_thesis/master_thesis_github/pct/tree/node/node.py:73: RuntimeWarning: invalid value encountered in divide\n",
      "  prototype /= np.sum(\n",
      "/Users/camillecu/Downloads/KUL/master_thesis/master_thesis_github/pct/tree/node/node.py:73: RuntimeWarning: invalid value encountered in divide\n",
      "  prototype /= np.sum(\n",
      "/Users/camillecu/Downloads/KUL/master_thesis/master_thesis_github/pct/tree/node/node.py:73: RuntimeWarning: invalid value encountered in divide\n",
      "  prototype /= np.sum(\n",
      "/Users/camillecu/Downloads/KUL/master_thesis/master_thesis_github/pct/tree/node/node.py:73: RuntimeWarning: invalid value encountered in divide\n",
      "  prototype /= np.sum(\n",
      "/Users/camillecu/Downloads/KUL/master_thesis/master_thesis_github/pct/tree/node/node.py:73: RuntimeWarning: invalid value encountered in divide\n",
      "  prototype /= np.sum(\n",
      "/Users/camillecu/Downloads/KUL/master_thesis/master_thesis_github/pct/tree/node/node.py:73: RuntimeWarning: invalid value encountered in divide\n",
      "  prototype /= np.sum(\n",
      "/Users/camillecu/Downloads/KUL/master_thesis/master_thesis_github/pct/tree/node/node.py:73: RuntimeWarning: invalid value encountered in divide\n",
      "  prototype /= np.sum(\n",
      "/Users/camillecu/Downloads/KUL/master_thesis/master_thesis_github/pct/tree/node/node.py:73: RuntimeWarning: invalid value encountered in divide\n",
      "  prototype /= np.sum(\n"
     ]
    },
    {
     "name": "stdout",
     "output_type": "stream",
     "text": [
      "✅ Tree built successfully!\n",
      "🌳 Tree re-trained.\n",
      "📊 Evaluating after this iteration...\n",
      "RMSE: 23.9999\n",
      "MAE:  21.6623\n",
      "✅ Iteration 5 complete.\n",
      "\n",
      "🔁 Iteration 6/7 (skip asked items, walk from root)\n"
     ]
    },
    {
     "name": "stderr",
     "output_type": "stream",
     "text": [
      "/Users/camillecu/Downloads/KUL/master_thesis/master_thesis_github/pct/tree/utils.py:45: RuntimeWarning: divide by zero encountered in divide\n",
      "  weights = 1/var\n",
      "/Users/camillecu/Downloads/KUL/master_thesis/master_thesis_github/pct/tree/utils.py:47: UserWarning: At least one of the target variables is constant, setting its weight to 0.\n",
      "  warnings.warn(\"At least one of the target variables is constant, setting its weight to 0.\")\n"
     ]
    },
    {
     "name": "stdout",
     "output_type": "stream",
     "text": [
      "Initializing Splitter...\n",
      "✅ Calling build()...\n"
     ]
    },
    {
     "name": "stderr",
     "output_type": "stream",
     "text": [
      "/Users/camillecu/Downloads/KUL/master_thesis/master_thesis_github/pct/tree/node/node.py:73: RuntimeWarning: invalid value encountered in divide\n",
      "  prototype /= np.sum(\n",
      "/Users/camillecu/Downloads/KUL/master_thesis/master_thesis_github/pct/tree/node/node.py:73: RuntimeWarning: invalid value encountered in divide\n",
      "  prototype /= np.sum(\n",
      "/Users/camillecu/Downloads/KUL/master_thesis/master_thesis_github/pct/tree/node/node.py:73: RuntimeWarning: invalid value encountered in divide\n",
      "  prototype /= np.sum(\n",
      "/Users/camillecu/Downloads/KUL/master_thesis/master_thesis_github/pct/tree/node/node.py:73: RuntimeWarning: invalid value encountered in divide\n",
      "  prototype /= np.sum(\n",
      "/Users/camillecu/Downloads/KUL/master_thesis/master_thesis_github/pct/tree/node/node.py:73: RuntimeWarning: invalid value encountered in divide\n",
      "  prototype /= np.sum(\n",
      "/Users/camillecu/Downloads/KUL/master_thesis/master_thesis_github/pct/tree/node/node.py:73: RuntimeWarning: invalid value encountered in divide\n",
      "  prototype /= np.sum(\n",
      "/Users/camillecu/Downloads/KUL/master_thesis/master_thesis_github/pct/tree/node/node.py:73: RuntimeWarning: invalid value encountered in divide\n",
      "  prototype /= np.sum(\n",
      "/Users/camillecu/Downloads/KUL/master_thesis/master_thesis_github/pct/tree/node/node.py:73: RuntimeWarning: invalid value encountered in divide\n",
      "  prototype /= np.sum(\n",
      "/Users/camillecu/Downloads/KUL/master_thesis/master_thesis_github/pct/tree/node/node.py:73: RuntimeWarning: invalid value encountered in divide\n",
      "  prototype /= np.sum(\n",
      "/Users/camillecu/Downloads/KUL/master_thesis/master_thesis_github/pct/tree/node/node.py:73: RuntimeWarning: invalid value encountered in divide\n",
      "  prototype /= np.sum(\n",
      "/Users/camillecu/Downloads/KUL/master_thesis/master_thesis_github/pct/tree/node/node.py:73: RuntimeWarning: invalid value encountered in divide\n",
      "  prototype /= np.sum(\n",
      "/Users/camillecu/Downloads/KUL/master_thesis/master_thesis_github/pct/tree/node/node.py:73: RuntimeWarning: invalid value encountered in divide\n",
      "  prototype /= np.sum(\n",
      "/Users/camillecu/Downloads/KUL/master_thesis/master_thesis_github/pct/tree/node/node.py:73: RuntimeWarning: invalid value encountered in divide\n",
      "  prototype /= np.sum(\n",
      "/Users/camillecu/Downloads/KUL/master_thesis/master_thesis_github/pct/tree/node/node.py:73: RuntimeWarning: invalid value encountered in divide\n",
      "  prototype /= np.sum(\n",
      "/Users/camillecu/Downloads/KUL/master_thesis/master_thesis_github/pct/tree/node/node.py:73: RuntimeWarning: invalid value encountered in divide\n",
      "  prototype /= np.sum(\n",
      "/Users/camillecu/Downloads/KUL/master_thesis/master_thesis_github/pct/tree/node/node.py:73: RuntimeWarning: invalid value encountered in divide\n",
      "  prototype /= np.sum(\n",
      "/Users/camillecu/Downloads/KUL/master_thesis/master_thesis_github/pct/tree/node/node.py:73: RuntimeWarning: invalid value encountered in divide\n",
      "  prototype /= np.sum(\n",
      "/Users/camillecu/Downloads/KUL/master_thesis/master_thesis_github/pct/tree/node/node.py:73: RuntimeWarning: invalid value encountered in divide\n",
      "  prototype /= np.sum(\n",
      "/Users/camillecu/Downloads/KUL/master_thesis/master_thesis_github/pct/tree/node/node.py:73: RuntimeWarning: invalid value encountered in divide\n",
      "  prototype /= np.sum(\n",
      "/Users/camillecu/Downloads/KUL/master_thesis/master_thesis_github/pct/tree/node/node.py:73: RuntimeWarning: invalid value encountered in divide\n",
      "  prototype /= np.sum(\n",
      "/Users/camillecu/Downloads/KUL/master_thesis/master_thesis_github/pct/tree/node/node.py:73: RuntimeWarning: invalid value encountered in divide\n",
      "  prototype /= np.sum(\n",
      "/Users/camillecu/Downloads/KUL/master_thesis/master_thesis_github/pct/tree/node/node.py:73: RuntimeWarning: invalid value encountered in divide\n",
      "  prototype /= np.sum(\n",
      "/Users/camillecu/Downloads/KUL/master_thesis/master_thesis_github/pct/tree/node/node.py:73: RuntimeWarning: invalid value encountered in divide\n",
      "  prototype /= np.sum(\n",
      "/Users/camillecu/Downloads/KUL/master_thesis/master_thesis_github/pct/tree/node/node.py:73: RuntimeWarning: invalid value encountered in divide\n",
      "  prototype /= np.sum(\n",
      "/Users/camillecu/Downloads/KUL/master_thesis/master_thesis_github/pct/tree/node/node.py:73: RuntimeWarning: invalid value encountered in divide\n",
      "  prototype /= np.sum(\n",
      "/Users/camillecu/Downloads/KUL/master_thesis/master_thesis_github/pct/tree/node/node.py:73: RuntimeWarning: invalid value encountered in divide\n",
      "  prototype /= np.sum(\n",
      "/Users/camillecu/Downloads/KUL/master_thesis/master_thesis_github/pct/tree/node/node.py:73: RuntimeWarning: invalid value encountered in divide\n",
      "  prototype /= np.sum(\n",
      "/Users/camillecu/Downloads/KUL/master_thesis/master_thesis_github/pct/tree/node/node.py:73: RuntimeWarning: invalid value encountered in divide\n",
      "  prototype /= np.sum(\n",
      "/Users/camillecu/Downloads/KUL/master_thesis/master_thesis_github/pct/tree/node/node.py:73: RuntimeWarning: invalid value encountered in divide\n",
      "  prototype /= np.sum(\n",
      "/Users/camillecu/Downloads/KUL/master_thesis/master_thesis_github/pct/tree/node/node.py:73: RuntimeWarning: invalid value encountered in divide\n",
      "  prototype /= np.sum(\n"
     ]
    },
    {
     "name": "stdout",
     "output_type": "stream",
     "text": [
      "✅ Tree built successfully!\n",
      "🌳 Tree re-trained.\n",
      "📊 Evaluating after this iteration...\n",
      "RMSE: 23.8367\n",
      "MAE:  21.5257\n",
      "✅ Iteration 6 complete.\n",
      "\n",
      "🔁 Iteration 7/7 (skip asked items, walk from root)\n"
     ]
    },
    {
     "name": "stderr",
     "output_type": "stream",
     "text": [
      "/Users/camillecu/Downloads/KUL/master_thesis/master_thesis_github/pct/tree/utils.py:45: RuntimeWarning: divide by zero encountered in divide\n",
      "  weights = 1/var\n",
      "/Users/camillecu/Downloads/KUL/master_thesis/master_thesis_github/pct/tree/utils.py:47: UserWarning: At least one of the target variables is constant, setting its weight to 0.\n",
      "  warnings.warn(\"At least one of the target variables is constant, setting its weight to 0.\")\n"
     ]
    },
    {
     "name": "stdout",
     "output_type": "stream",
     "text": [
      "Initializing Splitter...\n",
      "✅ Calling build()...\n"
     ]
    },
    {
     "name": "stderr",
     "output_type": "stream",
     "text": [
      "/Users/camillecu/Downloads/KUL/master_thesis/master_thesis_github/pct/tree/node/node.py:73: RuntimeWarning: invalid value encountered in divide\n",
      "  prototype /= np.sum(\n",
      "/Users/camillecu/Downloads/KUL/master_thesis/master_thesis_github/pct/tree/node/node.py:73: RuntimeWarning: invalid value encountered in divide\n",
      "  prototype /= np.sum(\n",
      "/Users/camillecu/Downloads/KUL/master_thesis/master_thesis_github/pct/tree/node/node.py:73: RuntimeWarning: invalid value encountered in divide\n",
      "  prototype /= np.sum(\n",
      "/Users/camillecu/Downloads/KUL/master_thesis/master_thesis_github/pct/tree/node/node.py:73: RuntimeWarning: invalid value encountered in divide\n",
      "  prototype /= np.sum(\n",
      "/Users/camillecu/Downloads/KUL/master_thesis/master_thesis_github/pct/tree/node/node.py:73: RuntimeWarning: invalid value encountered in divide\n",
      "  prototype /= np.sum(\n",
      "/Users/camillecu/Downloads/KUL/master_thesis/master_thesis_github/pct/tree/node/node.py:73: RuntimeWarning: invalid value encountered in divide\n",
      "  prototype /= np.sum(\n",
      "/Users/camillecu/Downloads/KUL/master_thesis/master_thesis_github/pct/tree/node/node.py:73: RuntimeWarning: invalid value encountered in divide\n",
      "  prototype /= np.sum(\n",
      "/Users/camillecu/Downloads/KUL/master_thesis/master_thesis_github/pct/tree/node/node.py:73: RuntimeWarning: invalid value encountered in divide\n",
      "  prototype /= np.sum(\n",
      "/Users/camillecu/Downloads/KUL/master_thesis/master_thesis_github/pct/tree/node/node.py:73: RuntimeWarning: invalid value encountered in divide\n",
      "  prototype /= np.sum(\n",
      "/Users/camillecu/Downloads/KUL/master_thesis/master_thesis_github/pct/tree/node/node.py:73: RuntimeWarning: invalid value encountered in divide\n",
      "  prototype /= np.sum(\n",
      "/Users/camillecu/Downloads/KUL/master_thesis/master_thesis_github/pct/tree/node/node.py:73: RuntimeWarning: invalid value encountered in divide\n",
      "  prototype /= np.sum(\n",
      "/Users/camillecu/Downloads/KUL/master_thesis/master_thesis_github/pct/tree/node/node.py:73: RuntimeWarning: invalid value encountered in divide\n",
      "  prototype /= np.sum(\n",
      "/Users/camillecu/Downloads/KUL/master_thesis/master_thesis_github/pct/tree/node/node.py:73: RuntimeWarning: invalid value encountered in divide\n",
      "  prototype /= np.sum(\n",
      "/Users/camillecu/Downloads/KUL/master_thesis/master_thesis_github/pct/tree/node/node.py:73: RuntimeWarning: invalid value encountered in divide\n",
      "  prototype /= np.sum(\n",
      "/Users/camillecu/Downloads/KUL/master_thesis/master_thesis_github/pct/tree/node/node.py:73: RuntimeWarning: invalid value encountered in divide\n",
      "  prototype /= np.sum(\n",
      "/Users/camillecu/Downloads/KUL/master_thesis/master_thesis_github/pct/tree/node/node.py:73: RuntimeWarning: invalid value encountered in divide\n",
      "  prototype /= np.sum(\n",
      "/Users/camillecu/Downloads/KUL/master_thesis/master_thesis_github/pct/tree/node/node.py:73: RuntimeWarning: invalid value encountered in divide\n",
      "  prototype /= np.sum(\n",
      "/Users/camillecu/Downloads/KUL/master_thesis/master_thesis_github/pct/tree/node/node.py:73: RuntimeWarning: invalid value encountered in divide\n",
      "  prototype /= np.sum(\n",
      "/Users/camillecu/Downloads/KUL/master_thesis/master_thesis_github/pct/tree/node/node.py:73: RuntimeWarning: invalid value encountered in divide\n",
      "  prototype /= np.sum(\n",
      "/Users/camillecu/Downloads/KUL/master_thesis/master_thesis_github/pct/tree/node/node.py:73: RuntimeWarning: invalid value encountered in divide\n",
      "  prototype /= np.sum(\n",
      "/Users/camillecu/Downloads/KUL/master_thesis/master_thesis_github/pct/tree/node/node.py:73: RuntimeWarning: invalid value encountered in divide\n",
      "  prototype /= np.sum(\n",
      "/Users/camillecu/Downloads/KUL/master_thesis/master_thesis_github/pct/tree/node/node.py:73: RuntimeWarning: invalid value encountered in divide\n",
      "  prototype /= np.sum(\n",
      "/Users/camillecu/Downloads/KUL/master_thesis/master_thesis_github/pct/tree/node/node.py:73: RuntimeWarning: invalid value encountered in divide\n",
      "  prototype /= np.sum(\n",
      "/Users/camillecu/Downloads/KUL/master_thesis/master_thesis_github/pct/tree/node/node.py:73: RuntimeWarning: invalid value encountered in divide\n",
      "  prototype /= np.sum(\n",
      "/Users/camillecu/Downloads/KUL/master_thesis/master_thesis_github/pct/tree/node/node.py:73: RuntimeWarning: invalid value encountered in divide\n",
      "  prototype /= np.sum(\n",
      "/Users/camillecu/Downloads/KUL/master_thesis/master_thesis_github/pct/tree/node/node.py:73: RuntimeWarning: invalid value encountered in divide\n",
      "  prototype /= np.sum(\n",
      "/Users/camillecu/Downloads/KUL/master_thesis/master_thesis_github/pct/tree/node/node.py:73: RuntimeWarning: invalid value encountered in divide\n",
      "  prototype /= np.sum(\n",
      "/Users/camillecu/Downloads/KUL/master_thesis/master_thesis_github/pct/tree/node/node.py:73: RuntimeWarning: invalid value encountered in divide\n",
      "  prototype /= np.sum(\n",
      "/Users/camillecu/Downloads/KUL/master_thesis/master_thesis_github/pct/tree/node/node.py:73: RuntimeWarning: invalid value encountered in divide\n",
      "  prototype /= np.sum(\n",
      "/Users/camillecu/Downloads/KUL/master_thesis/master_thesis_github/pct/tree/node/node.py:73: RuntimeWarning: invalid value encountered in divide\n",
      "  prototype /= np.sum(\n",
      "/Users/camillecu/Downloads/KUL/master_thesis/master_thesis_github/pct/tree/node/node.py:73: RuntimeWarning: invalid value encountered in divide\n",
      "  prototype /= np.sum(\n",
      "/Users/camillecu/Downloads/KUL/master_thesis/master_thesis_github/pct/tree/node/node.py:73: RuntimeWarning: invalid value encountered in divide\n",
      "  prototype /= np.sum(\n",
      "/Users/camillecu/Downloads/KUL/master_thesis/master_thesis_github/pct/tree/node/node.py:73: RuntimeWarning: invalid value encountered in divide\n",
      "  prototype /= np.sum(\n",
      "/Users/camillecu/Downloads/KUL/master_thesis/master_thesis_github/pct/tree/node/node.py:73: RuntimeWarning: invalid value encountered in divide\n",
      "  prototype /= np.sum(\n",
      "/Users/camillecu/Downloads/KUL/master_thesis/master_thesis_github/pct/tree/node/node.py:73: RuntimeWarning: invalid value encountered in divide\n",
      "  prototype /= np.sum(\n",
      "/Users/camillecu/Downloads/KUL/master_thesis/master_thesis_github/pct/tree/node/node.py:73: RuntimeWarning: invalid value encountered in divide\n",
      "  prototype /= np.sum(\n",
      "/Users/camillecu/Downloads/KUL/master_thesis/master_thesis_github/pct/tree/node/node.py:73: RuntimeWarning: invalid value encountered in divide\n",
      "  prototype /= np.sum(\n",
      "/Users/camillecu/Downloads/KUL/master_thesis/master_thesis_github/pct/tree/node/node.py:73: RuntimeWarning: invalid value encountered in divide\n",
      "  prototype /= np.sum(\n",
      "/Users/camillecu/Downloads/KUL/master_thesis/master_thesis_github/pct/tree/node/node.py:73: RuntimeWarning: invalid value encountered in divide\n",
      "  prototype /= np.sum(\n",
      "/Users/camillecu/Downloads/KUL/master_thesis/master_thesis_github/pct/tree/node/node.py:73: RuntimeWarning: invalid value encountered in divide\n",
      "  prototype /= np.sum(\n",
      "/Users/camillecu/Downloads/KUL/master_thesis/master_thesis_github/pct/tree/node/node.py:73: RuntimeWarning: invalid value encountered in divide\n",
      "  prototype /= np.sum(\n",
      "/Users/camillecu/Downloads/KUL/master_thesis/master_thesis_github/pct/tree/node/node.py:73: RuntimeWarning: invalid value encountered in divide\n",
      "  prototype /= np.sum(\n",
      "/Users/camillecu/Downloads/KUL/master_thesis/master_thesis_github/pct/tree/node/node.py:73: RuntimeWarning: invalid value encountered in divide\n",
      "  prototype /= np.sum(\n",
      "/Users/camillecu/Downloads/KUL/master_thesis/master_thesis_github/pct/tree/node/node.py:73: RuntimeWarning: invalid value encountered in divide\n",
      "  prototype /= np.sum(\n",
      "/Users/camillecu/Downloads/KUL/master_thesis/master_thesis_github/pct/tree/node/node.py:73: RuntimeWarning: invalid value encountered in divide\n",
      "  prototype /= np.sum(\n",
      "/Users/camillecu/Downloads/KUL/master_thesis/master_thesis_github/pct/tree/node/node.py:73: RuntimeWarning: invalid value encountered in divide\n",
      "  prototype /= np.sum(\n",
      "/Users/camillecu/Downloads/KUL/master_thesis/master_thesis_github/pct/tree/node/node.py:73: RuntimeWarning: invalid value encountered in divide\n",
      "  prototype /= np.sum(\n",
      "/Users/camillecu/Downloads/KUL/master_thesis/master_thesis_github/pct/tree/node/node.py:73: RuntimeWarning: invalid value encountered in divide\n",
      "  prototype /= np.sum(\n",
      "/Users/camillecu/Downloads/KUL/master_thesis/master_thesis_github/pct/tree/node/node.py:73: RuntimeWarning: invalid value encountered in divide\n",
      "  prototype /= np.sum(\n",
      "/Users/camillecu/Downloads/KUL/master_thesis/master_thesis_github/pct/tree/node/node.py:73: RuntimeWarning: invalid value encountered in divide\n",
      "  prototype /= np.sum(\n",
      "/Users/camillecu/Downloads/KUL/master_thesis/master_thesis_github/pct/tree/node/node.py:73: RuntimeWarning: invalid value encountered in divide\n",
      "  prototype /= np.sum(\n",
      "/Users/camillecu/Downloads/KUL/master_thesis/master_thesis_github/pct/tree/node/node.py:73: RuntimeWarning: invalid value encountered in divide\n",
      "  prototype /= np.sum(\n",
      "/Users/camillecu/Downloads/KUL/master_thesis/master_thesis_github/pct/tree/node/node.py:73: RuntimeWarning: invalid value encountered in divide\n",
      "  prototype /= np.sum(\n",
      "/Users/camillecu/Downloads/KUL/master_thesis/master_thesis_github/pct/tree/node/node.py:73: RuntimeWarning: invalid value encountered in divide\n",
      "  prototype /= np.sum(\n",
      "/Users/camillecu/Downloads/KUL/master_thesis/master_thesis_github/pct/tree/node/node.py:73: RuntimeWarning: invalid value encountered in divide\n",
      "  prototype /= np.sum(\n",
      "/Users/camillecu/Downloads/KUL/master_thesis/master_thesis_github/pct/tree/node/node.py:73: RuntimeWarning: invalid value encountered in divide\n",
      "  prototype /= np.sum(\n",
      "/Users/camillecu/Downloads/KUL/master_thesis/master_thesis_github/pct/tree/node/node.py:73: RuntimeWarning: invalid value encountered in divide\n",
      "  prototype /= np.sum(\n",
      "/Users/camillecu/Downloads/KUL/master_thesis/master_thesis_github/pct/tree/node/node.py:73: RuntimeWarning: invalid value encountered in divide\n",
      "  prototype /= np.sum(\n",
      "/Users/camillecu/Downloads/KUL/master_thesis/master_thesis_github/pct/tree/node/node.py:73: RuntimeWarning: invalid value encountered in divide\n",
      "  prototype /= np.sum(\n",
      "/Users/camillecu/Downloads/KUL/master_thesis/master_thesis_github/pct/tree/node/node.py:73: RuntimeWarning: invalid value encountered in divide\n",
      "  prototype /= np.sum(\n",
      "/Users/camillecu/Downloads/KUL/master_thesis/master_thesis_github/pct/tree/node/node.py:73: RuntimeWarning: invalid value encountered in divide\n",
      "  prototype /= np.sum(\n",
      "/Users/camillecu/Downloads/KUL/master_thesis/master_thesis_github/pct/tree/node/node.py:73: RuntimeWarning: invalid value encountered in divide\n",
      "  prototype /= np.sum(\n"
     ]
    },
    {
     "name": "stdout",
     "output_type": "stream",
     "text": [
      "✅ Tree built successfully!\n",
      "🌳 Tree re-trained.\n",
      "📊 Evaluating after this iteration...\n",
      "RMSE: 23.3090\n",
      "MAE:  20.9581\n",
      "✅ Iteration 7 complete.\n"
     ]
    }
   ],
   "source": [
    "import warnings\n",
    "warnings.simplefilter(action='ignore', category=FutureWarning)\n",
    "\n",
    "pct_hybrid = elicitation_by_tree_path_retrain_skiped_warm(\n",
    "    tree_model_class=Tree,\n",
    "    train=train_cold_K_hybrid,\n",
    "    test=test_cold_hybrid,\n",
    "    X=X_cold_hybrid,\n",
    "    matrix_warm=matrix_warm,\n",
    "    idx_to_rid_cold=idx_to_rid_cold,\n",
    "    idx_to_rid_warm=idx_to_rid_warm,\n",
    "    idx_to_cid=idx_to_cid,\n",
    "    iteration=15\n",
    ")"
   ]
  },
  {
   "cell_type": "markdown",
   "id": "00a4459a",
   "metadata": {},
   "source": [
    "# Alternative Method"
   ]
  },
  {
   "cell_type": "code",
   "execution_count": 42,
   "id": "940f5f61",
   "metadata": {},
   "outputs": [],
   "source": [
    "def i_variance(matirx):\n",
    "    c = matrix.copy()\n",
    "    c_2 = c.power(2)\n",
    "    E_2 = c_2.mean(0)\n",
    "    E = c.mean(0)\n",
    "    v = E_2 - np.sqrt(E)\n",
    "    return (np.asarray(v)).flatten()\n",
    "\n",
    "def i_random(matirx):\n",
    "    c = matrix.copy()\n",
    "    c_2 = c.power(2)\n",
    "    E_2 = c_2.mean(0)\n",
    "    E = c.mean(0)\n",
    "    v = E_2 - np.sqrt(E)\n",
    "    return (np.asarray(v)).flatten()\n",
    "\n",
    "def i_entropy(matirx):\n",
    "    entropy = []\n",
    "    for item in range(0, matirx.shape[1]):\n",
    "        ratings = matirx.getcol(item).data\n",
    "        count_r = Counter(ratings)\n",
    "        len_rating = len(ratings)\n",
    "        ent = 0\n",
    "        for c in count_r:\n",
    "            ent -= (count_r[c]/len_rating)*math.log(count_r[c]/len_rating)\n",
    "        entropy.append(ent)\n",
    "    return (np.asarray(entropy))\n",
    "\n",
    "def i_entropy_0(matirx):\n",
    "    entropy = []\n",
    "    c_all = matirx.shape[0]\n",
    "    for item in range(0, matirx.shape[1]):\n",
    "        ratings = matirx.getcol(item).data\n",
    "        count_r = Counter(ratings)\n",
    "        count_r[0] = c_all - matirx.getcol(item).count_nonzero()\n",
    "        ent = 0\n",
    "        for c in count_r:\n",
    "            ent -= (count_r[c]/c_all)*math.log(count_r[c]/c_all)\n",
    "        entropy.append(ent)\n",
    "    return (np.asarray(entropy))\n",
    "\n",
    "def i_pop(matrix):\n",
    "    popularity = []\n",
    "    for item in range(0, matrix.shape[1]):\n",
    "        popularity.append(matrix.getcol(item).count_nonzero())\n",
    "        \n",
    "    return (np.asarray(popularity))\n",
    "\n",
    "def log_pop_entropy(matrix):\n",
    "    entropy = i_entropy(matrix)\n",
    "    popularity = i_pop(matrix)\n",
    "    scores = np.log(popularity) *  entropy \n",
    "    return (np.asarray(scores))\n",
    "\n",
    "def log_pop_entropy0(matrix):\n",
    "    entropy = i_entropy_0(matrix)\n",
    "    popularity = i_pop(matrix)\n",
    "    scores = np.log(popularity) *  entropy \n",
    "    return (np.asarray(scores))\n",
    "\n",
    "def sqrt_pop_variance(matrix):\n",
    "    variance = i_variance(matrix)\n",
    "    popularity = i_pop(matrix)\n",
    "    scores = np.sqrt(popularity) *  variance \n",
    "    return (np.asarray(scores))\n",
    "\n",
    "def helf(matrix):\n",
    "    log_U = np.log(matrix.shape[0])\n",
    "    lf = np.log(i_pop(matrix))/log_U\n",
    "    h = i_entropy(matrix)/np.log(5)\n",
    "    helf = (2* lf*h)/(lf+h)\n",
    "    return helf\n",
    "\n",
    "def helf0(matrix):\n",
    "    log_U = np.log(matrix.shape[0])\n",
    "    lf = np.log(i_pop(matrix))/log_U\n",
    "    h = i_entropy_0(matrix)/np.log(5)\n",
    "    helf = (2* lf*h)/(lf+h)\n",
    "    return helf\n",
    "\n",
    "def i_co_rate(matrix):\n",
    "    matrix_c = matrix.copy()\n",
    "    matrix_c[matrix_c != 0] = 1\n",
    "    c= matrix_c.T.dot(matrix_c)\n",
    "    c.setdiag(0, k=0)\n",
    "    \n",
    "    return np.asarray(c.sum(axis=0))[0]"
   ]
  },
  {
   "cell_type": "code",
   "execution_count": 50,
   "id": "ae53937c",
   "metadata": {},
   "outputs": [],
   "source": [
    "import scipy.sparse as sp\n",
    "\n",
    "\n",
    "def elicitation_np_warm(matrix_warm, train,test,X,strategy,iteration,k,positive=False):\n",
    "    rmse,mae = [],[]\n",
    "    \n",
    "    # Performance before elicitation\n",
    "    train_df = matrix_to_df_2(train,idx_to_rid_cold,idx_to_cid)\n",
    "    reader = Reader(rating_scale=(1, 100))\n",
    "    data_r = Dataset.load_from_df(train_df[['user_id', 'item_id', 'rating']], reader)\n",
    "    data_rr = data_r.build_full_trainset()\n",
    "    algo = SVD()\n",
    "    algo.fit(data_rr)\n",
    "    test_df = matrix_to_df_2(test,idx_to_rid_cold,idx_to_cid)\n",
    "    test_r = Dataset.load_from_df(test_df[['user_id', 'item_id', 'rating']], reader)\n",
    "    test_rr = test_r.build_full_trainset()\n",
    "    predictions= algo.test(test_rr.build_testset())\n",
    "    rmse.append(accuracy.rmse(predictions))\n",
    "    mae.append(accuracy.mae(predictions))\n",
    "    \n",
    "    c_u_dict = {}\n",
    "    all_items = list(range(0,train.shape[1]))\n",
    "    X_copy = (X.tolil()).copy()\n",
    "    warm_copy = matrix_warm.tolil().copy()\n",
    "    train_copy = (train.tolil()).copy()\n",
    "    \n",
    "\n",
    "    #scores = strategy(train_copy)\n",
    "    \n",
    "    for count in range(0,iteration-1):\n",
    "        x_matrix = sp.vstack([warm_copy, train_copy])\n",
    "        scores = strategy(x_matrix)\n",
    "        if positive:\n",
    "            ranking = np.argsort(-scores)\n",
    "        else:\n",
    "            ranking = np.argsort(scores)\n",
    "        for u in range(0, train.shape[0]):\n",
    "            if count ==0:\n",
    "                p_u = train_copy.getrow(u).nonzero()[1]\n",
    "                c_u = set_diff(all_items,p_u)\n",
    "                c_u_dict[u] = c_u.copy()\n",
    "            else:\n",
    "                c_u = c_u_dict[u].copy()                \n",
    "          \n",
    "            ranking_u = ranking[np.in1d(ranking,c_u)]\n",
    "            topk_u = ranking_u[:k]\n",
    "            c_u_dict[u] = set_diff(c_u,topk_u)\n",
    "            px_u = X_copy.getrow(u).nonzero()[1]\n",
    "            recom = set_intersection(topk_u,px_u)\n",
    "            for item in recom:                  \n",
    "                train_copy[u,item] = X[u,item]\n",
    "                X_copy[u,item] = 0\n",
    "        train_df = matrix_to_df_2(train_copy,idx_to_rid_cold,idx_to_cid)\n",
    "\n",
    "        reader = Reader(rating_scale=(1, 100))\n",
    "        data_r = Dataset.load_from_df(train_df[['user_id', 'item_id', 'rating']], reader)\n",
    "        data_rr = data_r.build_full_trainset()\n",
    "        algo.fit(data_rr)\n",
    "        test_df = matrix_to_df(test,idx_to_rid_cold,idx_to_cid)\n",
    "        test_r = Dataset.load_from_df(test_df[['user_id', 'item_id', 'rating']], reader)\n",
    "        test_rr = test_r.build_full_trainset()\n",
    "        predictions= algo.test(test_rr.build_testset())\n",
    "        rmse.append(accuracy.rmse(predictions))\n",
    "        mae.append(accuracy.mae(predictions))\n",
    "        \n",
    "        print(count+1)\n",
    "    return rmse,mae"
   ]
  },
  {
   "cell_type": "code",
   "execution_count": 56,
   "id": "c9758f10",
   "metadata": {},
   "outputs": [
    {
     "name": "stdout",
     "output_type": "stream",
     "text": [
      "RMSE: 26.0928\n",
      "MAE:  23.3768\n",
      "RMSE: 26.0283\n",
      "MAE:  23.3360\n",
      "1\n",
      "RMSE: 26.1134\n",
      "MAE:  23.3939\n",
      "2\n",
      "RMSE: 26.0777\n",
      "MAE:  23.3703\n",
      "3\n",
      "RMSE: 25.9515\n",
      "MAE:  23.2732\n",
      "4\n",
      "RMSE: 25.3813\n",
      "MAE:  22.8830\n",
      "5\n",
      "RMSE: 25.3313\n",
      "MAE:  22.8441\n",
      "6\n",
      "RMSE: 25.2728\n",
      "MAE:  22.8006\n",
      "7\n",
      "RMSE: 25.3956\n",
      "MAE:  22.8937\n",
      "8\n",
      "RMSE: 25.3321\n",
      "MAE:  22.8385\n",
      "9\n",
      "RMSE: 25.3793\n",
      "MAE:  22.8628\n",
      "10\n",
      "RMSE: 25.3364\n",
      "MAE:  22.8293\n",
      "11\n",
      "RMSE: 25.0879\n",
      "MAE:  22.6449\n",
      "12\n",
      "RMSE: 25.0546\n",
      "MAE:  22.6204\n",
      "13\n",
      "RMSE: 25.0164\n",
      "MAE:  22.5872\n",
      "14\n"
     ]
    }
   ],
   "source": [
    "entropy0_hybrid = elicitation_np_warm(\n",
    "    matrix_warm=matrix_warm,\n",
    "    train=train_cold_K_hybrid,\n",
    "    test=test_cold_hybrid,\n",
    "    X=X_cold_hybrid,\n",
    "    strategy=i_entropy_0,\n",
    "    iteration=15,\n",
    "    k=1,\n",
    "    positive=False\n",
    ")"
   ]
  },
  {
   "cell_type": "code",
   "execution_count": 52,
   "id": "ef800636",
   "metadata": {},
   "outputs": [
    {
     "name": "stdout",
     "output_type": "stream",
     "text": [
      "RMSE: 24.0103\n",
      "MAE:  20.6722\n",
      "RMSE: 23.7513\n",
      "MAE:  20.5432\n",
      "1\n",
      "RMSE: 23.6877\n",
      "MAE:  20.4909\n",
      "2\n",
      "RMSE: 23.6810\n",
      "MAE:  20.5066\n",
      "3\n",
      "RMSE: 23.6683\n",
      "MAE:  20.4776\n",
      "4\n",
      "RMSE: 23.6398\n",
      "MAE:  20.4794\n",
      "5\n",
      "RMSE: 23.6183\n",
      "MAE:  20.4112\n",
      "6\n",
      "RMSE: 23.5757\n",
      "MAE:  20.4252\n",
      "7\n",
      "RMSE: 23.5620\n",
      "MAE:  20.3978\n",
      "8\n",
      "RMSE: 23.5207\n",
      "MAE:  20.3594\n",
      "9\n",
      "RMSE: 23.5069\n",
      "MAE:  20.3539\n",
      "10\n",
      "RMSE: 23.5500\n",
      "MAE:  20.3701\n",
      "11\n",
      "RMSE: 23.5158\n",
      "MAE:  20.3665\n",
      "12\n",
      "RMSE: 23.5187\n",
      "MAE:  20.3430\n",
      "13\n",
      "RMSE: 23.4572\n",
      "MAE:  20.3066\n",
      "14\n"
     ]
    }
   ],
   "source": [
    "entropy0_artist = elicitation_np_warm(\n",
    "    matrix_warm=matrix_warm,\n",
    "    train=train_cold_K_artist,\n",
    "    test=test_cold_artist,\n",
    "    X=X_cold_artist,\n",
    "    strategy=i_entropy_0,\n",
    "    iteration=15,\n",
    "    k=1,\n",
    "    positive=False\n",
    ")"
   ]
  },
  {
   "cell_type": "markdown",
   "id": "6a0eeb5b",
   "metadata": {},
   "source": [
    "# Max performance"
   ]
  },
  {
   "cell_type": "markdown",
   "id": "88484094",
   "metadata": {},
   "source": [
    "This code snippet creates a combined mapping of user indices to user IDs by merging two separate mappings: idx_to_rid_warm and idx_to_rid_cold. These mappings likely represent two distinct groups of users, such as \"warm\" users (existing or frequent users) and \"cold\" users (new or infrequent users). The goal is to ensure that all users are represented in a single unified index space.\n",
    "\n",
    "The combined_idx_to_rid dictionary is constructed using Python's dictionary unpacking syntax (**). The first part, **idx_to_rid_warm, directly includes all key-value pairs from the idx_to_rid_warm dictionary. This means that the warm user indices are added to the combined mapping without any modification.\n",
    "\n",
    "The second part, {k + len(idx_to_rid_warm): v for k, v in idx_to_rid_cold.items()}, processes the idx_to_rid_cold dictionary. Here, a dictionary comprehension is used to offset the keys (indices) of the cold users by the length of the idx_to_rid_warm dictionary. This ensures that the cold user indices do not overlap with the warm user indices. Specifically, for each key-value pair (k, v) in idx_to_rid_cold, the key k is incremented by the number of warm users (len(idx_to_rid_warm)), while the value v (the user ID) remains unchanged.\n",
    "\n",
    "The resulting combined_idx_to_rid dictionary contains all the warm user indices followed by the offset cold user indices, each mapped to their respective user IDs. This approach ensures that the indices for the two groups are unique and avoids any conflicts when combining the mappings."
   ]
  },
  {
   "cell_type": "code",
   "execution_count": 33,
   "id": "c902893e",
   "metadata": {},
   "outputs": [],
   "source": [
    "# Create combined user index mapping\n",
    "combined_idx_to_rid = {\n",
    "    **idx_to_rid_warm,  # Original warm user indices\n",
    "    **{k + len(idx_to_rid_warm): v for k, v in idx_to_rid_cold.items()}  # Offset cold user indices\n",
    "}"
   ]
  },
  {
   "cell_type": "code",
   "execution_count": 47,
   "id": "6fc5e573",
   "metadata": {},
   "outputs": [],
   "source": [
    "def elicitation_by_tree_path_max_performance(\n",
    "    \n",
    "    train,              # lil_matrix: cold users' known ratings (1 item/user, updated over rounds)\n",
    "    test,               # lil_matrix: cold users' test ratings (30 ratings/user), fixed\n",
    "    X,                  # lil_matrix: cold users' \"hidden\" ratings, revealed 1 per round\n",
    "    matrix_warm,        # lil_matrix: warm users' full ratings\n",
    "    idx_to_rid_cold,    # cold user index → user_id\n",
    "    idx_to_rid_warm,    # warm user index → user_id\n",
    "    idx_to_cid,         # item index → item_id\n",
    "    # iteration=5\n",
    "):\n",
    "\n",
    "    num_users, num_items = train.shape\n",
    "    train_copy = train.tolil().copy()\n",
    "    X_copy = X.tolil().copy()\n",
    "    # train_df = matrix_to_df_2(train_copy, idx_to_rid_cold, idx_to_cid)\n",
    "\n",
    "    # KX is the matrix of warm, cold train and cold X\n",
    "    cold_KX = train.copy() + X.copy()\n",
    "    warm_coldKX = sp.vstack([matrix_warm.copy(), cold_KX.copy()])\n",
    "    warm_coldKX_copy = warm_coldKX.tolil().copy()\n",
    "    warm_coldKX_df = matrix_to_df_2(warm_coldKX_copy, combined_idx_to_rid, idx_to_cid) # Use combined mapping for KX_df\n",
    "\n",
    "    rmse_list, mae_list = [], []\n",
    "    cid_to_idx = {v: k for k, v in idx_to_cid.items()}\n",
    "\n",
    "    # Step 0: Baseline SVD using only cold-start (1 rating per user)\n",
    "    reader = Reader(rating_scale=(1, 100))\n",
    "    algo = SVD()\n",
    "    KXtrainset = Dataset.load_from_df(warm_coldKX_df[['user_id', 'item_id', 'rating']], reader).build_full_trainset()\n",
    "    algo.fit(KXtrainset)\n",
    "\n",
    "    test_df = matrix_to_df_2(test, idx_to_rid_cold, idx_to_cid)\n",
    "    testset = Dataset.load_from_df(test_df[['user_id', 'item_id', 'rating']], reader).build_full_trainset().build_testset()\n",
    "    predictions = algo.test(testset)\n",
    "    rmse_list.append(accuracy.rmse(predictions, verbose=True))\n",
    "    mae_list.append(accuracy.mae(predictions, verbose=True))\n",
    "    print(\"✅ Baseline evaluation complete.\")\n",
    "\n",
    "    \n",
    "\n",
    "       \n",
    "\n",
    "    return rmse_list, mae_list\n"
   ]
  },
  {
   "cell_type": "code",
   "execution_count": 48,
   "id": "5eaef0e6",
   "metadata": {},
   "outputs": [
    {
     "name": "stdout",
     "output_type": "stream",
     "text": [
      "RMSE: 38.9403\n",
      "MAE:  30.7204\n",
      "✅ Baseline evaluation complete.\n"
     ]
    }
   ],
   "source": [
    "import warnings\n",
    "warnings.simplefilter(action='ignore', category=FutureWarning)\n",
    "\n",
    "max_performance_artist =elicitation_by_tree_path_max_performance(\n",
    "\n",
    "    train=train_cold_K_artist,\n",
    "    test=test_cold_artist,\n",
    "    X=X_cold_artist,\n",
    "    matrix_warm=matrix_warm,\n",
    "    idx_to_rid_cold=idx_to_rid_cold,\n",
    "    idx_to_rid_warm=idx_to_rid_warm,\n",
    "    idx_to_cid=idx_to_cid,\n",
    "    # iteration=8\n",
    ")"
   ]
  },
  {
   "cell_type": "code",
   "execution_count": 49,
   "id": "32c3f1b6",
   "metadata": {},
   "outputs": [
    {
     "name": "stdout",
     "output_type": "stream",
     "text": [
      "RMSE: 39.2694\n",
      "MAE:  31.0513\n",
      "✅ Baseline evaluation complete.\n"
     ]
    }
   ],
   "source": [
    "import warnings\n",
    "warnings.simplefilter(action='ignore', category=FutureWarning)\n",
    "\n",
    "max_performance_artist =elicitation_by_tree_path_max_performance(\n",
    "\n",
    "    train=train_cold_K_hybrid,\n",
    "    test=test_cold_hybrid,\n",
    "    X=X_cold_hybrid,\n",
    "    matrix_warm=matrix_warm,\n",
    "    idx_to_rid_cold=idx_to_rid_cold,\n",
    "    idx_to_rid_warm=idx_to_rid_warm,\n",
    "    idx_to_cid=idx_to_cid,\n",
    "    # iteration=8\n",
    ")"
   ]
  },
  {
   "cell_type": "code",
   "execution_count": 57,
   "id": "30a69d8d",
   "metadata": {},
   "outputs": [
    {
     "data": {
      "image/png": "[encoded data removed]",
      "text/plain": [
       "<Figure size 640x480 with 1 Axes>"
      ]
     },
     "metadata": {},
     "output_type": "display_data"
    }
   ],
   "source": [
    "x = np.arange(0,15) \n",
    "fig, (ax1) = plt.subplots(1)\n",
    "# fig.suptitle('Horizontally stacked subplots')\n",
    "# ax1.plot(x, pct_hybrid[0], label='pct_hybrid')\n",
    "ax1.plot(x, entropy0_hybrid[0], label='entropy0_hybrid')\n",
    "ax1.plot(x, entropy0_artist[0], label='entropy0_artist')\n",
    "# ax1.plot(x, pct_2[0], label='pct_2')\n",
    "# ax1.plot(x, pct_3[0], label='pct_3')\n",
    "\n",
    "plt.legend(loc=1)\n",
    "plt.xlabel(\"Iteration\")\n",
    "plt.ylabel(\"RMSE\")\n",
    "plt.xticks(range(1, 15)) \n",
    "plt.show()"
   ]
  }
 ],
 "metadata": {
  "kernelspec": {
   "display_name": "thesis_github",
   "language": "python",
   "name": "python3"
  },
  "language_info": {
   "codemirror_mode": {
    "name": "ipython",
    "version": 3
   },
   "file_extension": ".py",
   "mimetype": "text/x-python",
   "name": "python",
   "nbconvert_exporter": "python",
   "pygments_lexer": "ipython3",
   "version": "3.9.13"
  }
 },
 "nbformat": 4,
 "nbformat_minor": 5
}
