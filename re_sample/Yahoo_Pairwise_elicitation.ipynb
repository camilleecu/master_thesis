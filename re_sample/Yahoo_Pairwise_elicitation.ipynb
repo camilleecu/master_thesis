{
 "cells": [
  {
   "cell_type": "code",
   "execution_count": 1,
   "id": "42c86d01",
   "metadata": {},
   "outputs": [],
   "source": [
    "import os\n",
    "import sys\n",
    "\n",
    "try:\n",
    "    current_dir = os.path.dirname(os.path.abspath(__file__))\n",
    "except NameError:\n",
    "    current_dir = os.getcwd()\n",
    "\n",
    "project_root = os.path.abspath(os.path.join(current_dir, \"..\"))  \n",
    "if project_root not in sys.path:\n",
    "    sys.path.append(project_root)\n"
   ]
  },
  {
   "cell_type": "code",
   "execution_count": null,
   "id": "064955c7-6535-4302-a999-57c927b4874a",
   "metadata": {},
   "outputs": [],
   "source": [
    "\n",
    "# import pysparnn.cluster_index as ci\n",
    "# import scipy.sparse\n",
    "# import os\n",
    "import math\n",
    "import numpy as np\n",
    "import pandas as pd\n",
    "import random\n",
    "import scipy.sparse as sp\n",
    "from utils import train_test_split, df_to_matrix ,matrix_to_df_2, threshold_interactions_df, matrix_to_df,set_intersection,get_0_and_p_index,set_diff, matrix_to_full_df, threshold_interactions_df_plus, train_test_split_csr\n",
    "\n",
    "# !pip install surprise\n",
    "from surprise import Reader, accuracy\n",
    "from surprise import SVD\n",
    "from surprise import Dataset\n",
    "from collections import Counter\n",
    "from collections import defaultdict\n",
    "\n",
    "# %matplotlib inline\n",
    "import matplotlib\n",
    "import matplotlib.pyplot as plt\n",
    "\n",
    "from pct.tree.heuristic.Heuristic import Heuristic5\n",
    "from pct.tree.heuristic.NumericHeuristic_pair import NumericHeuristic5\n",
    "from pct.tree.splitter.splitter_pair import Splitter\n",
    "from pct.tree.Yahoo_pairwise_tree import Tree"
   ]
  },
  {
   "cell_type": "code",
   "execution_count": 5,
   "id": "ec74b799-9042-4572-872f-587da73263e4",
   "metadata": {},
   "outputs": [
    {
     "data": {
      "application/vnd.microsoft.datawrangler.viewer.v0+json": {
       "columns": [
        {
         "name": "index",
         "rawType": "int64",
         "type": "integer"
        },
        {
         "name": "user_id",
         "rawType": "int64",
         "type": "integer"
        },
        {
         "name": "item_id",
         "rawType": "int64",
         "type": "integer"
        },
        {
         "name": "rating",
         "rawType": "float64",
         "type": "float"
        },
        {
         "name": "item_type",
         "rawType": "object",
         "type": "string"
        },
        {
         "name": "artist_id",
         "rawType": "int64",
         "type": "integer"
        },
        {
         "name": "genre_ids",
         "rawType": "object",
         "type": "string"
        }
       ],
       "ref": "9b6c2f93-728d-472f-aa94-42ac28d9a48f",
       "rows": [
        [
         "0",
         "9",
         "238709",
         "0.0",
         "artist",
         "238709",
         "0"
        ],
        [
         "1",
         "9",
         "169510",
         "0.0",
         "artist",
         "169510",
         "0"
        ],
        [
         "2",
         "9",
         "208084",
         "1.0",
         "artist",
         "208084",
         "0"
        ],
        [
         "3",
         "9",
         "245398",
         "0.0",
         "artist",
         "245398",
         "0"
        ],
        [
         "4",
         "9",
         "153166",
         "0.0",
         "artist",
         "153166",
         "0"
        ],
        [
         "5",
         "9",
         "257965",
         "1.0",
         "artist",
         "257965",
         "0"
        ],
        [
         "6",
         "9",
         "31321",
         "0.01",
         "artist",
         "31321",
         "0"
        ],
        [
         "7",
         "9",
         "79867",
         "1.0",
         "artist",
         "79867",
         "0"
        ],
        [
         "8",
         "9",
         "185075",
         "0.0",
         "artist",
         "185075",
         "0"
        ],
        [
         "9",
         "9",
         "35899",
         "1.0",
         "artist",
         "35899",
         "0"
        ],
        [
         "10",
         "9",
         "57021",
         "0.0",
         "artist",
         "57021",
         "0"
        ],
        [
         "11",
         "9",
         "268464",
         "0.0",
         "artist",
         "268464",
         "0"
        ],
        [
         "12",
         "9",
         "262959",
         "0.0",
         "artist",
         "262959",
         "0"
        ],
        [
         "13",
         "9",
         "202309",
         "0.0",
         "artist",
         "202309",
         "0"
        ],
        [
         "14",
         "9",
         "87833",
         "0.0",
         "artist",
         "87833",
         "0"
        ],
        [
         "15",
         "9",
         "258464",
         "0.0",
         "artist",
         "258464",
         "0"
        ],
        [
         "16",
         "9",
         "70636",
         "0.0",
         "artist",
         "70636",
         "0"
        ],
        [
         "17",
         "9",
         "146772",
         "0.01",
         "artist",
         "146772",
         "0"
        ],
        [
         "18",
         "9",
         "201811",
         "0.0",
         "artist",
         "201811",
         "0"
        ],
        [
         "19",
         "9",
         "112076",
         "0.0",
         "artist",
         "112076",
         "0"
        ],
        [
         "20",
         "9",
         "190690",
         "0.0",
         "artist",
         "190690",
         "0"
        ],
        [
         "21",
         "9",
         "99775",
         "0.0",
         "artist",
         "99775",
         "0"
        ],
        [
         "22",
         "9",
         "278591",
         "1.0",
         "artist",
         "278591",
         "0"
        ],
        [
         "23",
         "9",
         "15676",
         "1.0",
         "artist",
         "15676",
         "0"
        ],
        [
         "24",
         "9",
         "51948",
         "0.0",
         "artist",
         "51948",
         "0"
        ],
        [
         "25",
         "9",
         "76213",
         "0.01",
         "artist",
         "76213",
         "0"
        ],
        [
         "26",
         "9",
         "189906",
         "0.0",
         "artist",
         "189906",
         "0"
        ],
        [
         "27",
         "9",
         "215404",
         "0.0",
         "artist",
         "215404",
         "0"
        ],
        [
         "28",
         "9",
         "182287",
         "0.0",
         "artist",
         "182287",
         "0"
        ],
        [
         "29",
         "9",
         "185511",
         "0.0",
         "artist",
         "185511",
         "0"
        ],
        [
         "30",
         "9",
         "77880",
         "0.0",
         "artist",
         "77880",
         "0"
        ],
        [
         "31",
         "9",
         "178994",
         "0.0",
         "artist",
         "178994",
         "0"
        ],
        [
         "32",
         "9",
         "282118",
         "0.0",
         "artist",
         "282118",
         "0"
        ],
        [
         "33",
         "9",
         "279988",
         "0.0",
         "artist",
         "279988",
         "0"
        ],
        [
         "34",
         "9",
         "120416",
         "0.01",
         "artist",
         "120416",
         "0"
        ],
        [
         "35",
         "9",
         "241552",
         "0.01",
         "artist",
         "241552",
         "0"
        ],
        [
         "36",
         "9",
         "47482",
         "0.0",
         "artist",
         "47482",
         "0"
        ],
        [
         "37",
         "9",
         "189015",
         "0.0",
         "artist",
         "189015",
         "0"
        ],
        [
         "38",
         "9",
         "126696",
         "0.01",
         "artist",
         "126696",
         "0"
        ],
        [
         "39",
         "9",
         "99426",
         "0.0",
         "artist",
         "99426",
         "0"
        ],
        [
         "40",
         "9",
         "246953",
         "0.0",
         "artist",
         "246953",
         "0"
        ],
        [
         "41",
         "9",
         "251578",
         "0.0",
         "artist",
         "251578",
         "0"
        ],
        [
         "42",
         "9",
         "247758",
         "0.01",
         "artist",
         "247758",
         "0"
        ],
        [
         "43",
         "9",
         "121457",
         "0.0",
         "artist",
         "121457",
         "0"
        ],
        [
         "44",
         "9",
         "35959",
         "0.0",
         "artist",
         "35959",
         "0"
        ],
        [
         "45",
         "9",
         "149094",
         "0.0",
         "artist",
         "149094",
         "0"
        ],
        [
         "46",
         "9",
         "203553",
         "0.0",
         "artist",
         "203553",
         "0"
        ],
        [
         "47",
         "9",
         "22474",
         "0.0",
         "artist",
         "22474",
         "0"
        ],
        [
         "48",
         "9",
         "48050",
         "0.0",
         "artist",
         "48050",
         "0"
        ],
        [
         "49",
         "9",
         "223348",
         "1.0",
         "artist",
         "223348",
         "0"
        ]
       ],
       "shape": {
        "columns": 6,
        "rows": 1524894
       }
      },
      "text/html": [
       "<div>\n",
       "<style scoped>\n",
       "    .dataframe tbody tr th:only-of-type {\n",
       "        vertical-align: middle;\n",
       "    }\n",
       "\n",
       "    .dataframe tbody tr th {\n",
       "        vertical-align: top;\n",
       "    }\n",
       "\n",
       "    .dataframe thead th {\n",
       "        text-align: right;\n",
       "    }\n",
       "</style>\n",
       "<table border=\"1\" class=\"dataframe\">\n",
       "  <thead>\n",
       "    <tr style=\"text-align: right;\">\n",
       "      <th></th>\n",
       "      <th>user_id</th>\n",
       "      <th>item_id</th>\n",
       "      <th>rating</th>\n",
       "      <th>item_type</th>\n",
       "      <th>artist_id</th>\n",
       "      <th>genre_ids</th>\n",
       "    </tr>\n",
       "  </thead>\n",
       "  <tbody>\n",
       "    <tr>\n",
       "      <th>0</th>\n",
       "      <td>9</td>\n",
       "      <td>238709</td>\n",
       "      <td>0.00</td>\n",
       "      <td>artist</td>\n",
       "      <td>238709</td>\n",
       "      <td>0</td>\n",
       "    </tr>\n",
       "    <tr>\n",
       "      <th>1</th>\n",
       "      <td>9</td>\n",
       "      <td>169510</td>\n",
       "      <td>0.00</td>\n",
       "      <td>artist</td>\n",
       "      <td>169510</td>\n",
       "      <td>0</td>\n",
       "    </tr>\n",
       "    <tr>\n",
       "      <th>2</th>\n",
       "      <td>9</td>\n",
       "      <td>208084</td>\n",
       "      <td>1.00</td>\n",
       "      <td>artist</td>\n",
       "      <td>208084</td>\n",
       "      <td>0</td>\n",
       "    </tr>\n",
       "    <tr>\n",
       "      <th>3</th>\n",
       "      <td>9</td>\n",
       "      <td>245398</td>\n",
       "      <td>0.00</td>\n",
       "      <td>artist</td>\n",
       "      <td>245398</td>\n",
       "      <td>0</td>\n",
       "    </tr>\n",
       "    <tr>\n",
       "      <th>4</th>\n",
       "      <td>9</td>\n",
       "      <td>153166</td>\n",
       "      <td>0.00</td>\n",
       "      <td>artist</td>\n",
       "      <td>153166</td>\n",
       "      <td>0</td>\n",
       "    </tr>\n",
       "    <tr>\n",
       "      <th>...</th>\n",
       "      <td>...</td>\n",
       "      <td>...</td>\n",
       "      <td>...</td>\n",
       "      <td>...</td>\n",
       "      <td>...</td>\n",
       "      <td>...</td>\n",
       "    </tr>\n",
       "    <tr>\n",
       "      <th>1524889</th>\n",
       "      <td>248947</td>\n",
       "      <td>83754</td>\n",
       "      <td>0.01</td>\n",
       "      <td>artist</td>\n",
       "      <td>83754</td>\n",
       "      <td>0</td>\n",
       "    </tr>\n",
       "    <tr>\n",
       "      <th>1524890</th>\n",
       "      <td>248947</td>\n",
       "      <td>141799</td>\n",
       "      <td>0.00</td>\n",
       "      <td>genre</td>\n",
       "      <td>0</td>\n",
       "      <td>[141799]</td>\n",
       "    </tr>\n",
       "    <tr>\n",
       "      <th>1524891</th>\n",
       "      <td>248947</td>\n",
       "      <td>141677</td>\n",
       "      <td>0.00</td>\n",
       "      <td>artist</td>\n",
       "      <td>141677</td>\n",
       "      <td>0</td>\n",
       "    </tr>\n",
       "    <tr>\n",
       "      <th>1524892</th>\n",
       "      <td>248947</td>\n",
       "      <td>262458</td>\n",
       "      <td>0.00</td>\n",
       "      <td>artist</td>\n",
       "      <td>262458</td>\n",
       "      <td>0</td>\n",
       "    </tr>\n",
       "    <tr>\n",
       "      <th>1524893</th>\n",
       "      <td>248947</td>\n",
       "      <td>146871</td>\n",
       "      <td>0.00</td>\n",
       "      <td>artist</td>\n",
       "      <td>146871</td>\n",
       "      <td>0</td>\n",
       "    </tr>\n",
       "  </tbody>\n",
       "</table>\n",
       "<p>1524894 rows × 6 columns</p>\n",
       "</div>"
      ],
      "text/plain": [
       "         user_id  item_id  rating item_type  artist_id genre_ids\n",
       "0              9   238709    0.00    artist     238709         0\n",
       "1              9   169510    0.00    artist     169510         0\n",
       "2              9   208084    1.00    artist     208084         0\n",
       "3              9   245398    0.00    artist     245398         0\n",
       "4              9   153166    0.00    artist     153166         0\n",
       "...          ...      ...     ...       ...        ...       ...\n",
       "1524889   248947    83754    0.01    artist      83754         0\n",
       "1524890   248947   141799    0.00     genre          0  [141799]\n",
       "1524891   248947   141677    0.00    artist     141677         0\n",
       "1524892   248947   262458    0.00    artist     262458         0\n",
       "1524893   248947   146871    0.00    artist     146871         0\n",
       "\n",
       "[1524894 rows x 6 columns]"
      ]
     },
     "execution_count": 5,
     "metadata": {},
     "output_type": "execute_result"
    }
   ],
   "source": [
    "filtered_df = pd.read_csv(\"filtered_semi_binary.csv\")\n",
    "filtered_df"
   ]
  },
  {
   "cell_type": "code",
   "execution_count": 6,
   "id": "24cccb84-a9fa-4029-a5fd-a4abb6752eff",
   "metadata": {},
   "outputs": [],
   "source": [
    "# item type map\n",
    "item_type_map = filtered_df.drop_duplicates(subset='item_id')[['item_id', 'item_type']]\n",
    "item_type_map = dict(zip(item_type_map['item_id'], item_type_map['item_type']))"
   ]
  },
  {
   "cell_type": "code",
   "execution_count": 7,
   "id": "9faf9fac-677d-44ae-82f5-9144bdcf2674",
   "metadata": {},
   "outputs": [],
   "source": [
    "def get_item_type(item_id):\n",
    "    return item_type_map.get(item_id, 'unknown')  \n"
   ]
  },
  {
   "cell_type": "code",
   "execution_count": null,
   "id": "286d735d-1037-4e02-889c-fbd9a9c23bbc",
   "metadata": {},
   "outputs": [],
   "source": [
    "print(get_item_type(172223))"
   ]
  },
  {
   "cell_type": "code",
   "execution_count": null,
   "id": "24c1e96b-cf4a-4df9-8ea1-8c09a6740405",
   "metadata": {},
   "outputs": [],
   "source": [
    "print(get_item_type(238709))  \n",
    "print(get_item_type(141799))  \n"
   ]
  },
  {
   "cell_type": "code",
   "execution_count": 8,
   "id": "574e2da5",
   "metadata": {},
   "outputs": [],
   "source": [
    "all_user_ids = sorted(filtered_df['user_id'].unique().tolist())\n",
    "\n",
    "def split_users_by_ratio(all_user_ids, ratio):\n",
    "    n = len(all_user_ids)\n",
    "    split_point = int(n * ratio)\n",
    "    warm_users = all_user_ids[:split_point]\n",
    "    cold_users = all_user_ids[split_point:]\n",
    "    return warm_users, cold_users\n",
    "\n",
    "# Example ratios from 10% to 50%\n",
    "# ratios = [0.1, 0.2, 0.3, 0.4, 0.5]\n",
    "# splits = {r: split_users_by_ratio(all_user_ids, r) for r in ratios}\n"
   ]
  },
  {
   "cell_type": "markdown",
   "id": "9a4056d4",
   "metadata": {},
   "source": [
    "## 10% warm"
   ]
  },
  {
   "cell_type": "code",
   "execution_count": 9,
   "id": "cfd5f620",
   "metadata": {},
   "outputs": [],
   "source": [
    "warm_users_idx, cold_users_idx = split_users_by_ratio(all_user_ids, 0.1)\n",
    "\n",
    "df_warm = filtered_df[filtered_df['user_id'].isin(warm_users_idx)].copy()\n",
    "df_cold = filtered_df[filtered_df['user_id'].isin(cold_users_idx)].copy()\n",
    "\n",
    "matrix_warm, rid_to_idx_warm, idx_to_rid_warm, cid_to_idx, idx_to_cid = df_to_matrix(\n",
    "    df_warm, \"user_id\", \"item_id\", \"rating\")\n",
    "\n",
    "\n",
    "matrix_cold, rid_to_idx_cold, idx_to_rid_cold, _, _ = df_to_matrix( \n",
    "    df_cold, \"user_id\", \"item_id\", \"rating\")\n",
    "\n"
   ]
  },
  {
   "cell_type": "code",
   "execution_count": 10,
   "id": "5a9d11e2",
   "metadata": {},
   "outputs": [],
   "source": [
    "def split_and_combine(strategy=\"artist-only\"):\n",
    "    \"\"\"Handles both approaches with proper matrix alignment\"\"\"\n",
    "    # Get full cold matrix and mappings\n",
    "    matrix_cold, rid_to_idx_cold, _, cid_to_idx, _ = df_to_matrix(\n",
    "        df_cold, \"user_id\", \"item_id\", \"rating\"\n",
    "    )\n",
    "    matrix_cold = matrix_cold.tocsr()\n",
    "\n",
    "    # Create boolean masks\n",
    "    artist_mask = np.isin(\n",
    "        np.arange(matrix_cold.shape[1]), \n",
    "        [cid_to_idx[iid] for iid in df_cold[df_cold['item_type'] == 'artist']['item_id']]\n",
    "    )\n",
    "    genre_mask = ~artist_mask\n",
    "\n",
    "    # Create aligned matrices\n",
    "    matrix_cold_artist = matrix_cold.multiply(artist_mask)\n",
    "    matrix_cold_genre = matrix_cold.multiply(genre_mask)\n",
    "    matrix_cold_artist = matrix_cold.multiply(artist_mask).tocsr()\n",
    "    matrix_cold_genre = matrix_cold.multiply(genre_mask).tocsr()\n",
    "\n",
    "    al_artist, test_cold, _ = train_test_split(\n",
    "        matrix_cold_artist, \n",
    "        split_count=30,\n",
    "        fraction=None\n",
    "    )\n",
    "    \n",
    "    if strategy == \"artist-only\":\n",
    "        X_cold, K_cold, _ = train_test_split_csr(al_artist, 1)  \n",
    "        return K_cold, X_cold, test_cold\n",
    "    \n",
    "    elif strategy == \"hybrid\":\n",
    "        X_cold, K_cold, _ = train_test_split_csr(al_artist, 1)\n",
    "        X_cold = X_cold + matrix_cold_genre\n",
    "        return K_cold, X_cold, test_cold\n"
   ]
  },
  {
   "cell_type": "code",
   "execution_count": 11,
   "id": "96fa0837",
   "metadata": {},
   "outputs": [],
   "source": [
    "my_seed = 7\n",
    "random.seed(my_seed)\n",
    "np.random.seed(my_seed)\n",
    "\n",
    "train_cold_K_artist, X_cold_artist, test_cold_artist  = split_and_combine(\"artist-only\")\n",
    "train_cold_K_hybrid, X_cold_hybrid, test_cold_hybrid = split_and_combine(\"hybrid\")\n"
   ]
  },
  {
   "cell_type": "code",
   "execution_count": null,
   "id": "dbc19bf4-a23c-4b33-b45c-751ac90f83f4",
   "metadata": {},
   "outputs": [],
   "source": [
    "print(f\"Cold users in X: {len(np.unique(X_cold_hybrid.nonzero()[0]))}\")\n",
    "print(f\"Cold items in X: {len(np.unique(X_cold_hybrid.nonzero()[1]))}\")\n",
    "print(f\"test users in test: {len(np.unique(test_cold_hybrid.nonzero()[0]))}\")\n",
    "print(f\"test items in test: {len(np.unique(test_cold_hybrid.nonzero()[1]))}\")\n",
    "print(f\"train users in train: {len(np.unique(train_cold_K_hybrid.nonzero()[0]))}\")\n",
    "print(f\"train items in train: {len(np.unique(train_cold_K_hybrid.nonzero()[1]))}\")\n",
    "\n",
    "print(\"-------------------\")\n",
    "\n",
    "# shape of test_cold\n",
    "print(f\"Shape of test_cold: {test_cold_hybrid.shape}\")\n",
    "print(f\"Shape of train_cold: {train_cold_K_hybrid.shape}\")\n",
    "print(f\"Shape of X_cold: {X_cold_hybrid.shape}\")"
   ]
  },
  {
   "cell_type": "markdown",
   "id": "03f09c03-9cd8-4235-b86e-52375b580de4",
   "metadata": {},
   "source": [
    "# X with artist + genre"
   ]
  },
  {
   "cell_type": "code",
   "execution_count": 13,
   "id": "129c141a-2072-48bc-9696-1971546072be",
   "metadata": {},
   "outputs": [],
   "source": [
    "def elicitation_by_pairwise_tree_retrain_skiped(Tree, train, test, X, matrix_warm,\n",
    "                                                 idx_to_rid_cold, idx_to_rid_warm, idx_to_cid,\n",
    "                                                 iteration=5, strategy=1):\n",
    "    \"\"\"\n",
    "    Pairwise tree-based elicitation (skip asked pairs). Retrain tree each round.\n",
    "    At each iteration, select first unasked (itemA, itemB) pair and move both ratings from X to K.\n",
    "\n",
    "    Parameters:\n",
    "    - strategy: 1 (top2), 2 (most similar), 3 (least similar)\n",
    "\n",
    "    Returns:\n",
    "    - rmse_list, mae_list: performance metrics per iteration\n",
    "    - item_type_stats: per-round asked item type counts\n",
    "    \"\"\"\n",
    "\n",
    "    num_users, num_items = train.shape\n",
    "    train_copy = train.tolil().copy()\n",
    "    X_copy = X.tolil().copy()\n",
    "    rmse_list, mae_list = [], []\n",
    "    asked_pairs = {u: set() for u in range(num_users)}  \n",
    "    item_type_stats = defaultdict(lambda: defaultdict(int))\n",
    "    cid_to_idx = {v: k for k, v in idx_to_cid.items()}\n",
    "\n",
    "    # Step 0: Baseline evaluation\n",
    "    print(\"🔍 Evaluating baseline RMSE/MAE...\")\n",
    "    train_df = matrix_to_df_2(train_copy, idx_to_rid_cold, idx_to_cid)\n",
    "    reader = Reader(rating_scale=(0, 1))\n",
    "    data_r = Dataset.load_from_df(train_df[['user_id', 'item_id', 'rating']], reader)\n",
    "    trainset = data_r.build_full_trainset()\n",
    "    algo = SVD()\n",
    "    algo.fit(trainset)\n",
    "    test_df = matrix_to_df_2(test, idx_to_rid_cold, idx_to_cid)\n",
    "    test_data = Dataset.load_from_df(test_df[['user_id', 'item_id', 'rating']], reader)\n",
    "    testset = test_data.build_full_trainset().build_testset()\n",
    "    predictions = algo.test(testset)\n",
    "    rmse_list.append(accuracy.rmse(predictions, verbose=True))\n",
    "    mae_list.append(accuracy.mae(predictions, verbose=True))\n",
    "    print(\"✅ Baseline evaluation complete.\")\n",
    "\n",
    "    # Iterative elicitation\n",
    "    for i in range(iteration):\n",
    "        print(f\"\\n🔁 Iteration {i+1}/{iteration} (skip asked pairs, walk from root)\")\n",
    "        # Step 1: Retrain tree\n",
    "        warm_df = matrix_to_full_df(matrix_warm, idx_to_rid_warm, idx_to_cid)\n",
    "        coldK_df = matrix_to_full_df(train_copy, idx_to_rid_cold, idx_to_cid)\n",
    "        x_df = pd.concat([warm_df, coldK_df], ignore_index=False)\n",
    "\n",
    "        pct = Tree(max_depth=i+1, min_instances=5, item_type_map=item_type_map)\n",
    "        pct.fit(x_df, x_df, strategy=strategy)\n",
    "        print(\"🌳 Tree re-trained.\")\n",
    "\n",
    "        for u in range(num_users):\n",
    "            node = pct.root\n",
    "            while node and not node.is_leaf and node.attribute_name:\n",
    "                itemA, itemB = node.attribute_name\n",
    "                if itemA not in cid_to_idx or itemB not in cid_to_idx:\n",
    "                    node = None\n",
    "                    break\n",
    "\n",
    "                itemA_idx = cid_to_idx[itemA]\n",
    "                itemB_idx = cid_to_idx[itemB]\n",
    "                pair = frozenset([itemA_idx, itemB_idx])\n",
    "  \n",
    "                if pair in asked_pairs[u]:\n",
    "                    ratingA = train_copy[u, itemA_idx]\n",
    "                    ratingB = train_copy[u, itemB_idx]\n",
    "                    if ratingA > ratingB:\n",
    "                        node = node.children[0]\n",
    "                    elif ratingB > ratingA:\n",
    "                        node = node.children[1]\n",
    "                    else:\n",
    "                        node = node.children[2]\n",
    "                    continue\n",
    "\n",
    "                # First unasked pair found\n",
    "                ratingA = X_copy[u, itemA_idx]\n",
    "                ratingB = X_copy[u, itemB_idx]\n",
    "\n",
    "                if ratingA > 0:\n",
    "                    train_copy[u, itemA_idx] = ratingA\n",
    "                    X_copy[u, itemA_idx] = 0\n",
    "                if ratingB > 0:\n",
    "                    train_copy[u, itemB_idx] = ratingB\n",
    "                    X_copy[u, itemB_idx] = 0\n",
    "\n",
    "                asked_pairs[u].add(pair)  \n",
    "\n",
    "                # 🌟 Record item type (based on itemA)\n",
    "                item_type = get_item_type(itemA)\n",
    "                item_type_stats[i][item_type] += 1\n",
    "\n",
    "                break  # only one pair per user per iteration\n",
    "\n",
    "        # Step 2: Evaluate\n",
    "        print(\"📊 Evaluating after this iteration...\")\n",
    "        train_df = matrix_to_df_2(train_copy, idx_to_rid_cold, idx_to_cid)\n",
    "        data_r = Dataset.load_from_df(train_df[['user_id', 'item_id', 'rating']], reader)\n",
    "        trainset = data_r.build_full_trainset()\n",
    "        algo.fit(trainset)\n",
    "        test_df = matrix_to_df_2(test, idx_to_rid_cold, idx_to_cid)\n",
    "        test_data = Dataset.load_from_df(test_df[['user_id', 'item_id', 'rating']], reader)\n",
    "        testset = test_data.build_full_trainset().build_testset()\n",
    "        predictions = algo.test(testset)\n",
    "        rmse_list.append(accuracy.rmse(predictions, verbose=True))\n",
    "        mae_list.append(accuracy.mae(predictions, verbose=True))\n",
    "        print(f\"✅ Iteration {i+1} complete.\")\n",
    "\n",
    "    return rmse_list, mae_list, item_type_stats\n"
   ]
  },
  {
   "cell_type": "code",
   "execution_count": null,
   "id": "719f2fb4-0155-4ecf-a714-8eadd82ee60d",
   "metadata": {
    "scrolled": true
   },
   "outputs": [
    {
     "name": "stdout",
     "output_type": "stream",
     "text": [
      "🔍 Evaluating baseline RMSE/MAE...\n",
      "RMSE: 0.5735\n",
      "MAE:  0.4082\n",
      "✅ Baseline evaluation complete.\n",
      "\n",
      "🔁 Iteration 1/20 (skip asked pairs, walk from root)\n",
      "✅Initializing Splitter...\n",
      "✅ Calling build()...\n",
      "🔍 Pair found: 172223, 278591\n",
      "✅ Tree built successfully!\n",
      "🌳 Tree re-trained.\n",
      "📊 Evaluating after this iteration...\n",
      "RMSE: 0.5566\n",
      "MAE:  0.4097\n",
      "✅ Iteration 1 complete.\n",
      "\n",
      "🔁 Iteration 2/20 (skip asked pairs, walk from root)\n",
      "✅Initializing Splitter...\n",
      "✅ Calling build()...\n",
      "🔍 Pair found: 172223, 278591\n",
      "🔍 Pair found: 189272, 132285\n",
      "🔍 Pair found: 195412, 151565\n",
      "🔍 Pair found: 83754, 278591\n",
      "✅ Tree built successfully!\n",
      "🌳 Tree re-trained.\n",
      "📊 Evaluating after this iteration...\n",
      "RMSE: 0.5460\n",
      "MAE:  0.4095\n",
      "✅ Iteration 2 complete.\n",
      "\n",
      "🔁 Iteration 3/20 (skip asked pairs, walk from root)\n",
      "✅Initializing Splitter...\n",
      "✅ Calling build()...\n"
     ]
    }
   ],
   "source": [
    "import warnings\n",
    "warnings.simplefilter(action='ignore', category=FutureWarning)\n",
    "# ignore runtime warnings\n",
    "\n",
    "pairwise_tree_1 = elicitation_by_pairwise_tree_retrain_skiped(\n",
    "    Tree=Tree,\n",
    "    train=train_cold_K_hybrid,\n",
    "    test=test_cold_hybrid,\n",
    "    X=X_cold_hybrid,\n",
    "    matrix_warm=matrix_warm,\n",
    "    idx_to_rid_cold=idx_to_rid_cold,\n",
    "    idx_to_rid_warm=idx_to_rid_warm,\n",
    "    idx_to_cid=idx_to_cid,\n",
    "    iteration=20, strategy=1\n",
    ")"
   ]
  },
  {
   "cell_type": "code",
   "execution_count": null,
   "id": "0519f5aa-3e62-464b-a8dc-1745147470f3",
   "metadata": {},
   "outputs": [],
   "source": [
    "rmse_list, mae_list, item_type_stats = pairwise_tree_1 \n",
    "for round_i, type_counts in item_type_stats.items():\n",
    "    total = sum(type_counts.values())\n",
    "    ratios = {k: v / total for k, v in type_counts.items()}\n",
    "    print(f\"Round {round_i+1}: {ratios}\")\n",
    "item_type_stats"
   ]
  },
  {
   "cell_type": "code",
   "execution_count": null,
   "id": "b8d10cb6-7559-4786-84f1-0499c1676858",
   "metadata": {
    "scrolled": true
   },
   "outputs": [],
   "source": [
    "import warnings\n",
    "warnings.simplefilter(action='ignore', category=FutureWarning)\n",
    "# ignore runtime warnings\n",
    "\n",
    "pairwise_tree_2 = elicitation_by_pairwise_tree_retrain_skiped(\n",
    "    Tree=Tree,\n",
    "    train=train_cold_K_hybrid,\n",
    "    test=test_cold_hybrid,\n",
    "    X=X_cold_hybrid,\n",
    "    matrix_warm=matrix_warm,\n",
    "    idx_to_rid_cold=idx_to_rid_cold,\n",
    "    idx_to_rid_warm=idx_to_rid_warm,\n",
    "    idx_to_cid=idx_to_cid,\n",
    "    iteration=20, strategy=2\n",
    ")"
   ]
  },
  {
   "cell_type": "code",
   "execution_count": null,
   "id": "7483f20d-d1e5-430a-b0ea-ceedfd2dc2e4",
   "metadata": {},
   "outputs": [],
   "source": [
    "rmse_list, mae_list, item_type_stats = pairwise_tree_2 \n",
    "for round_i, type_counts in item_type_stats.items():\n",
    "    total = sum(type_counts.values())\n",
    "    ratios = {k: v / total for k, v in type_counts.items()}\n",
    "    print(f\"Round {round_i+1}: {ratios}\")\n",
    "item_type_stats"
   ]
  },
  {
   "cell_type": "code",
   "execution_count": null,
   "id": "5c2ce813-6650-4279-9006-8f92c5734dd9",
   "metadata": {
    "scrolled": true
   },
   "outputs": [],
   "source": [
    "import warnings\n",
    "warnings.simplefilter(action='ignore', category=FutureWarning)\n",
    "# ignore runtime warnings\n",
    "\n",
    "pairwise_tree_3 = elicitation_by_pairwise_tree_retrain_skiped(\n",
    "    Tree=Tree,\n",
    "    train=train_cold_K_hybrid,\n",
    "    test=test_cold_hybrid,\n",
    "    X=X_cold_hybrid,\n",
    "    matrix_warm=matrix_warm,\n",
    "    idx_to_rid_cold=idx_to_rid_cold,\n",
    "    idx_to_rid_warm=idx_to_rid_warm,\n",
    "    idx_to_cid=idx_to_cid,\n",
    "    iteration=20, strategy=3\n",
    ")"
   ]
  },
  {
   "cell_type": "code",
   "execution_count": null,
   "id": "05a9a960-1540-4c16-9d4a-630b4a6b3bcf",
   "metadata": {},
   "outputs": [],
   "source": [
    "rmse_list, mae_list, item_type_stats = pairwise_tree_3 \n",
    "for round_i, type_counts in item_type_stats.items():\n",
    "    total = sum(type_counts.values())\n",
    "    ratios = {k: v / total for k, v in type_counts.items()}\n",
    "    print(f\"Round {round_i+1}: {ratios}\")\n",
    "item_type_stats"
   ]
  },
  {
   "cell_type": "code",
   "execution_count": null,
   "id": "47aab10b",
   "metadata": {},
   "outputs": [],
   "source": []
  }
 ],
 "metadata": {
  "kernelspec": {
   "display_name": "thesis_github",
   "language": "python",
   "name": "python3"
  },
  "language_info": {
   "codemirror_mode": {
    "name": "ipython",
    "version": 3
   },
   "file_extension": ".py",
   "mimetype": "text/x-python",
   "name": "python",
   "nbconvert_exporter": "python",
   "pygments_lexer": "ipython3",
   "version": "3.9.13"
  }
 },
 "nbformat": 4,
 "nbformat_minor": 5
}
