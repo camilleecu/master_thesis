{
 "cells": [
  {
   "cell_type": "code",
   "execution_count": 7,
   "id": "68507534-e615-4c38-9741-4bb4972f5103",
   "metadata": {},
   "outputs": [],
   "source": [
    "import numpy as np\n",
    "from pct.tree.heuristic.Heuristictest5 import Heuristic5\n",
    "from pct.tree.heuristic.NumericHeuristictest5 import NumericHeuristic5\n",
    "\n",
    "# Example rating matrix (users x items)\n",
    "x = np.array([\n",
    "    [5, 3, np.nan],\n",
    "    [4, 1, 2],\n",
    "    [2, 4, 5]\n",
    "])\n",
    "\n",
    "# Assume y is the target variable, temporarily using a column from the rating matrix (e.g., item_1) as the target variable\n",
    "y = x[:, 0]  # For example, using the ratings from the first column (item_1) as the target\n",
    "\n",
    "# Assume other parameters\n",
    "weights = np.array([1, 1, 1])  # Weight for each instance\n",
    "min_instances = 1\n",
    "ftest = None  # Can be left as None, or implement F-test as needed\n",
    "instance_weights = np.ones_like(weights)  # Weight for each instance\n",
    "threshold = 4  # Threshold for Lovers' ratings\n",
    "\n",
    "\n"
   ]
  },
  {
   "cell_type": "code",
   "execution_count": 8,
   "id": "3b603047-cc4d-4421-8702-b84ae21038d0",
   "metadata": {},
   "outputs": [
    {
     "name": "stdout",
     "output_type": "stream",
     "text": [
      "Total Statistics: sum_t=[11.  8.  7.], sum2_t=[45. 26. 29.], n_t=[3 3 3]\n",
      "Lovers Group: sum_L=[9. 4. 5.], sum2_L=[41. 16. 25.], n_L=[2 1 1]\n",
      "Haters Group: sum_H=[2. 4. 2.], sum2_H=[ 4. 10.  4.], n_H=[1 2 1]\n",
      "Unknowns Group: sum_U=[0. 0. 0.], sum2_U=[0. 0. 0.], n_U=[0 0 1]\n",
      "Squared Error: [0.5 2.  0. ]\n",
      "Stop Criteria Met: False\n"
     ]
    }
   ],
   "source": [
    "# Create heuristic object\n",
    "heuristic = NumericHeuristic5(\n",
    "    name=\"Numeric Heuristic\",\n",
    "    weights=weights,\n",
    "    min_instances=min_instances,\n",
    "    ftest=ftest,\n",
    "    instance_weights=instance_weights,\n",
    "    x=x,\n",
    "    y=y\n",
    ")\n",
    "\n",
    "# Compute total statistics and group statistics\n",
    "sum_t, sum2_t, n_t = heuristic.compute_statistics()  # Total statistics\n",
    "sum_L, sum2_L, n_L, sum_H, sum2_H, n_H, sum_U, sum2_U, n_U = heuristic.compute_statistics_for_groups()\n",
    "\n",
    "# Output the results for verification\n",
    "print(f\"Total Statistics: sum_t={sum_t}, sum2_t={sum2_t}, n_t={n_t}\")\n",
    "print(f\"Lovers Group: sum_L={sum_L}, sum2_L={sum2_L}, n_L={n_L}\")\n",
    "print(f\"Haters Group: sum_H={sum_H}, sum2_H={sum2_H}, n_H={n_H}\")\n",
    "print(f\"Unknowns Group: sum_U={sum_U}, sum2_U={sum2_U}, n_U={n_U}\")\n",
    "\n",
    "# Compute and print squared error\n",
    "squared_error = heuristic.squared_error_total()\n",
    "print(f\"Squared Error: {squared_error}\")\n",
    "\n",
    "# Check if stop criteria are met\n",
    "stop = heuristic.stop_criteria()  \n",
    "print(f\"Stop Criteria Met: {stop}\")\n"
   ]
  }
 ],
 "metadata": {
  "kernelspec": {
   "display_name": "Python 3 (ipykernel)",
   "language": "python",
   "name": "python3"
  },
  "language_info": {
   "codemirror_mode": {
    "name": "ipython",
    "version": 3
   },
   "file_extension": ".py",
   "mimetype": "text/x-python",
   "name": "python",
   "nbconvert_exporter": "python",
   "pygments_lexer": "ipython3",
   "version": "3.11.7"
  }
 },
 "nbformat": 4,
 "nbformat_minor": 5
}
