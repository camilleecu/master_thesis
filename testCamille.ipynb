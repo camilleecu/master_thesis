{
 "cells": [
  {
   "cell_type": "code",
   "execution_count": 3,
   "metadata": {},
   "outputs": [],
   "source": [
    "import pandas as pd\n",
    "import numpy as np\n",
    "from pct.tree.heuristic.Heuristic import Heuristic5\n",
    "from pct.tree.heuristic.NumericHeuristic import NumericHeuristic5\n",
    "from pct.tree.splitter.splitter import Splitter\n",
    "from pct.tree.tree import Tree\n",
    "from pct.tree.ftest.ftest import FTest\n",
    "\n",
    "\n"
   ]
  },
  {
   "cell_type": "markdown",
   "metadata": {},
   "source": []
  },
  {
   "cell_type": "markdown",
   "metadata": {},
   "source": [
    "## From YXH's data process"
   ]
  },
  {
   "cell_type": "code",
   "execution_count": 4,
   "metadata": {},
   "outputs": [],
   "source": [
    "\n",
    "from sklearn.preprocessing import LabelEncoder\n",
    "\n",
    "# Load the u.data dataset\n",
    "u_data = pd.read_csv('ml-100k/u.data', sep='\\t', header=None, names=['user_id', 'item_id', 'rating', 'timestamp'])\n",
    "\n",
    "# Perform label encoding on user_id and item_id\n",
    "user_encoder = LabelEncoder()\n",
    "item_encoder = LabelEncoder()\n",
    "\n",
    "u_data['user_id'] = user_encoder.fit_transform(u_data['user_id'])\n",
    "u_data['item_id'] = item_encoder.fit_transform(u_data['item_id'])\n",
    "\n",
    "# Create the rating matrix\n",
    "n_users = u_data['user_id'].nunique()\n",
    "n_items = u_data['item_id'].nunique()\n",
    "\n",
    "# Define the threshold\n",
    "THRESHOLD = 3  # Ratings above this are \"Lovers\", below are \"Haters\"\n",
    "\n",
    "# Create a user-item matrix with users as rows and items as columns, and fill missing values with 0\n",
    "rating_matrix = u_data.pivot(index='user_id', columns='item_id', values='rating')\n",
    "\n",
    "# Apply threshold classification to the rating matrix (after thresholding)\n",
    "rating_matrix_thresholded = np.where(rating_matrix > THRESHOLD, 1, np.where(rating_matrix > 0, -1, 0))\n",
    "\n",
    "# Convert numpy array to pandas DataFrame for easier inspection\n",
    "rating_matrix_thresholded_df = pd.DataFrame(rating_matrix_thresholded)\n",
    "\n",
    "\n",
    "# Create rI and rU indexes for training set (R)\n",
    "# rI: item to user ratings (dictionary of items with lists of user ratings)\n",
    "rI = {}\n",
    "for _, row in u_data.iterrows():\n",
    "    item_id = row['item_id']\n",
    "    user_id = row['user_id']\n",
    "    rating = row['rating']\n",
    "    if item_id not in rI:\n",
    "        rI[item_id] = []\n",
    "    rI[item_id].append((user_id, rating))\n",
    "\n",
    "# rU: user to item ratings (dictionary of users with lists of item ratings)\n",
    "rU = {}\n",
    "for _, row in u_data.iterrows():\n",
    "    user_id = row['user_id']\n",
    "    item_id = row['item_id']\n",
    "    rating = row['rating']\n",
    "    if user_id not in rU:\n",
    "        rU[user_id] = []\n",
    "    rU[user_id].append((item_id, rating))"
   ]
  },
  {
   "cell_type": "code",
   "execution_count": null,
   "metadata": {},
   "outputs": [
    {
     "data": {
      "application/vnd.microsoft.datawrangler.viewer.v0+json": {
       "columns": [
        {
         "name": "index",
         "rawType": "int64",
         "type": "integer"
        },
        {
         "name": "0",
         "rawType": "int64",
         "type": "integer"
        },
        {
         "name": "1",
         "rawType": "int64",
         "type": "integer"
        },
        {
         "name": "2",
         "rawType": "int64",
         "type": "integer"
        },
        {
         "name": "3",
         "rawType": "int64",
         "type": "integer"
        },
        {
         "name": "4",
         "rawType": "int64",
         "type": "integer"
        },
        {
         "name": "5",
         "rawType": "int64",
         "type": "integer"
        },
        {
         "name": "6",
         "rawType": "int64",
         "type": "integer"
        },
        {
         "name": "7",
         "rawType": "int64",
         "type": "integer"
        },
        {
         "name": "8",
         "rawType": "int64",
         "type": "integer"
        },
        {
         "name": "9",
         "rawType": "int64",
         "type": "integer"
        },
        {
         "name": "10",
         "rawType": "int64",
         "type": "integer"
        },
        {
         "name": "11",
         "rawType": "int64",
         "type": "integer"
        },
        {
         "name": "12",
         "rawType": "int64",
         "type": "integer"
        },
        {
         "name": "13",
         "rawType": "int64",
         "type": "integer"
        },
        {
         "name": "14",
         "rawType": "int64",
         "type": "integer"
        },
        {
         "name": "15",
         "rawType": "int64",
         "type": "integer"
        },
        {
         "name": "16",
         "rawType": "int64",
         "type": "integer"
        },
        {
         "name": "17",
         "rawType": "int64",
         "type": "integer"
        },
        {
         "name": "18",
         "rawType": "int64",
         "type": "integer"
        },
        {
         "name": "19",
         "rawType": "int64",
         "type": "integer"
        },
        {
         "name": "20",
         "rawType": "int64",
         "type": "integer"
        },
        {
         "name": "21",
         "rawType": "int64",
         "type": "integer"
        },
        {
         "name": "22",
         "rawType": "int64",
         "type": "integer"
        },
        {
         "name": "23",
         "rawType": "int64",
         "type": "integer"
        },
        {
         "name": "24",
         "rawType": "int64",
         "type": "integer"
        },
        {
         "name": "25",
         "rawType": "int64",
         "type": "integer"
        },
        {
         "name": "26",
         "rawType": "int64",
         "type": "integer"
        },
        {
         "name": "27",
         "rawType": "int64",
         "type": "integer"
        },
        {
         "name": "28",
         "rawType": "int64",
         "type": "integer"
        },
        {
         "name": "29",
         "rawType": "int64",
         "type": "integer"
        },
        {
         "name": "30",
         "rawType": "int64",
         "type": "integer"
        },
        {
         "name": "31",
         "rawType": "int64",
         "type": "integer"
        },
        {
         "name": "32",
         "rawType": "int64",
         "type": "integer"
        },
        {
         "name": "33",
         "rawType": "int64",
         "type": "integer"
        },
        {
         "name": "34",
         "rawType": "int64",
         "type": "integer"
        },
        {
         "name": "35",
         "rawType": "int64",
         "type": "integer"
        },
        {
         "name": "36",
         "rawType": "int64",
         "type": "integer"
        },
        {
         "name": "37",
         "rawType": "int64",
         "type": "integer"
        },
        {
         "name": "38",
         "rawType": "int64",
         "type": "integer"
        },
        {
         "name": "39",
         "rawType": "int64",
         "type": "integer"
        },
        {
         "name": "40",
         "rawType": "int64",
         "type": "integer"
        },
        {
         "name": "41",
         "rawType": "int64",
         "type": "integer"
        },
        {
         "name": "42",
         "rawType": "int64",
         "type": "integer"
        },
        {
         "name": "43",
         "rawType": "int64",
         "type": "integer"
        },
        {
         "name": "44",
         "rawType": "int64",
         "type": "integer"
        },
        {
         "name": "45",
         "rawType": "int64",
         "type": "integer"
        },
        {
         "name": "46",
         "rawType": "int64",
         "type": "integer"
        },
        {
         "name": "47",
         "rawType": "int64",
         "type": "integer"
        },
        {
         "name": "48",
         "rawType": "int64",
         "type": "integer"
        },
        {
         "name": "49",
         "rawType": "int64",
         "type": "integer"
        },
        {
         "name": "50",
         "rawType": "int64",
         "type": "integer"
        },
        {
         "name": "51",
         "rawType": "int64",
         "type": "integer"
        },
        {
         "name": "52",
         "rawType": "int64",
         "type": "integer"
        },
        {
         "name": "53",
         "rawType": "int64",
         "type": "integer"
        },
        {
         "name": "54",
         "rawType": "int64",
         "type": "integer"
        },
        {
         "name": "55",
         "rawType": "int64",
         "type": "integer"
        },
        {
         "name": "56",
         "rawType": "int64",
         "type": "integer"
        },
        {
         "name": "57",
         "rawType": "int64",
         "type": "integer"
        },
        {
         "name": "58",
         "rawType": "int64",
         "type": "integer"
        },
        {
         "name": "59",
         "rawType": "int64",
         "type": "integer"
        },
        {
         "name": "60",
         "rawType": "int64",
         "type": "integer"
        },
        {
         "name": "61",
         "rawType": "int64",
         "type": "integer"
        },
        {
         "name": "62",
         "rawType": "int64",
         "type": "integer"
        },
        {
         "name": "63",
         "rawType": "int64",
         "type": "integer"
        },
        {
         "name": "64",
         "rawType": "int64",
         "type": "integer"
        },
        {
         "name": "65",
         "rawType": "int64",
         "type": "integer"
        },
        {
         "name": "66",
         "rawType": "int64",
         "type": "integer"
        },
        {
         "name": "67",
         "rawType": "int64",
         "type": "integer"
        },
        {
         "name": "68",
         "rawType": "int64",
         "type": "integer"
        },
        {
         "name": "69",
         "rawType": "int64",
         "type": "integer"
        },
        {
         "name": "70",
         "rawType": "int64",
         "type": "integer"
        },
        {
         "name": "71",
         "rawType": "int64",
         "type": "integer"
        },
        {
         "name": "72",
         "rawType": "int64",
         "type": "integer"
        },
        {
         "name": "73",
         "rawType": "int64",
         "type": "integer"
        },
        {
         "name": "74",
         "rawType": "int64",
         "type": "integer"
        },
        {
         "name": "75",
         "rawType": "int64",
         "type": "integer"
        },
        {
         "name": "76",
         "rawType": "int64",
         "type": "integer"
        },
        {
         "name": "77",
         "rawType": "int64",
         "type": "integer"
        },
        {
         "name": "78",
         "rawType": "int64",
         "type": "integer"
        },
        {
         "name": "79",
         "rawType": "int64",
         "type": "integer"
        },
        {
         "name": "80",
         "rawType": "int64",
         "type": "integer"
        },
        {
         "name": "81",
         "rawType": "int64",
         "type": "integer"
        },
        {
         "name": "82",
         "rawType": "int64",
         "type": "integer"
        },
        {
         "name": "83",
         "rawType": "int64",
         "type": "integer"
        },
        {
         "name": "84",
         "rawType": "int64",
         "type": "integer"
        },
        {
         "name": "85",
         "rawType": "int64",
         "type": "integer"
        },
        {
         "name": "86",
         "rawType": "int64",
         "type": "integer"
        },
        {
         "name": "87",
         "rawType": "int64",
         "type": "integer"
        },
        {
         "name": "88",
         "rawType": "int64",
         "type": "integer"
        },
        {
         "name": "89",
         "rawType": "int64",
         "type": "integer"
        },
        {
         "name": "90",
         "rawType": "int64",
         "type": "integer"
        },
        {
         "name": "91",
         "rawType": "int64",
         "type": "integer"
        },
        {
         "name": "92",
         "rawType": "int64",
         "type": "integer"
        },
        {
         "name": "93",
         "rawType": "int64",
         "type": "integer"
        },
        {
         "name": "94",
         "rawType": "int64",
         "type": "integer"
        },
        {
         "name": "95",
         "rawType": "int64",
         "type": "integer"
        },
        {
         "name": "96",
         "rawType": "int64",
         "type": "integer"
        },
        {
         "name": "97",
         "rawType": "int64",
         "type": "integer"
        },
        {
         "name": "98",
         "rawType": "int64",
         "type": "integer"
        },
        {
         "name": "99",
         "rawType": "int64",
         "type": "integer"
        },
        {
         "name": "100",
         "rawType": "int64",
         "type": "integer"
        },
        {
         "name": "101",
         "rawType": "int64",
         "type": "integer"
        },
        {
         "name": "102",
         "rawType": "int64",
         "type": "integer"
        },
        {
         "name": "103",
         "rawType": "int64",
         "type": "integer"
        },
        {
         "name": "104",
         "rawType": "int64",
         "type": "integer"
        },
        {
         "name": "105",
         "rawType": "int64",
         "type": "integer"
        },
        {
         "name": "106",
         "rawType": "int64",
         "type": "integer"
        },
        {
         "name": "107",
         "rawType": "int64",
         "type": "integer"
        },
        {
         "name": "108",
         "rawType": "int64",
         "type": "integer"
        },
        {
         "name": "109",
         "rawType": "int64",
         "type": "integer"
        },
        {
         "name": "110",
         "rawType": "int64",
         "type": "integer"
        },
        {
         "name": "111",
         "rawType": "int64",
         "type": "integer"
        },
        {
         "name": "112",
         "rawType": "int64",
         "type": "integer"
        },
        {
         "name": "113",
         "rawType": "int64",
         "type": "integer"
        },
        {
         "name": "114",
         "rawType": "int64",
         "type": "integer"
        },
        {
         "name": "115",
         "rawType": "int64",
         "type": "integer"
        },
        {
         "name": "116",
         "rawType": "int64",
         "type": "integer"
        },
        {
         "name": "117",
         "rawType": "int64",
         "type": "integer"
        },
        {
         "name": "118",
         "rawType": "int64",
         "type": "integer"
        },
        {
         "name": "119",
         "rawType": "int64",
         "type": "integer"
        },
        {
         "name": "120",
         "rawType": "int64",
         "type": "integer"
        },
        {
         "name": "121",
         "rawType": "int64",
         "type": "integer"
        },
        {
         "name": "122",
         "rawType": "int64",
         "type": "integer"
        },
        {
         "name": "123",
         "rawType": "int64",
         "type": "integer"
        },
        {
         "name": "124",
         "rawType": "int64",
         "type": "integer"
        },
        {
         "name": "125",
         "rawType": "int64",
         "type": "integer"
        },
        {
         "name": "126",
         "rawType": "int64",
         "type": "integer"
        },
        {
         "name": "127",
         "rawType": "int64",
         "type": "integer"
        },
        {
         "name": "128",
         "rawType": "int64",
         "type": "integer"
        },
        {
         "name": "129",
         "rawType": "int64",
         "type": "integer"
        },
        {
         "name": "130",
         "rawType": "int64",
         "type": "integer"
        },
        {
         "name": "131",
         "rawType": "int64",
         "type": "integer"
        },
        {
         "name": "132",
         "rawType": "int64",
         "type": "integer"
        },
        {
         "name": "133",
         "rawType": "int64",
         "type": "integer"
        },
        {
         "name": "134",
         "rawType": "int64",
         "type": "integer"
        },
        {
         "name": "135",
         "rawType": "int64",
         "type": "integer"
        },
        {
         "name": "136",
         "rawType": "int64",
         "type": "integer"
        },
        {
         "name": "137",
         "rawType": "int64",
         "type": "integer"
        },
        {
         "name": "138",
         "rawType": "int64",
         "type": "integer"
        },
        {
         "name": "139",
         "rawType": "int64",
         "type": "integer"
        },
        {
         "name": "140",
         "rawType": "int64",
         "type": "integer"
        },
        {
         "name": "141",
         "rawType": "int64",
         "type": "integer"
        },
        {
         "name": "142",
         "rawType": "int64",
         "type": "integer"
        },
        {
         "name": "143",
         "rawType": "int64",
         "type": "integer"
        },
        {
         "name": "144",
         "rawType": "int64",
         "type": "integer"
        },
        {
         "name": "145",
         "rawType": "int64",
         "type": "integer"
        },
        {
         "name": "146",
         "rawType": "int64",
         "type": "integer"
        },
        {
         "name": "147",
         "rawType": "int64",
         "type": "integer"
        },
        {
         "name": "148",
         "rawType": "int64",
         "type": "integer"
        },
        {
         "name": "149",
         "rawType": "int64",
         "type": "integer"
        },
        {
         "name": "150",
         "rawType": "int64",
         "type": "integer"
        },
        {
         "name": "151",
         "rawType": "int64",
         "type": "integer"
        },
        {
         "name": "152",
         "rawType": "int64",
         "type": "integer"
        },
        {
         "name": "153",
         "rawType": "int64",
         "type": "integer"
        },
        {
         "name": "154",
         "rawType": "int64",
         "type": "integer"
        },
        {
         "name": "155",
         "rawType": "int64",
         "type": "integer"
        },
        {
         "name": "156",
         "rawType": "int64",
         "type": "integer"
        },
        {
         "name": "157",
         "rawType": "int64",
         "type": "integer"
        },
        {
         "name": "158",
         "rawType": "int64",
         "type": "integer"
        },
        {
         "name": "159",
         "rawType": "int64",
         "type": "integer"
        },
        {
         "name": "160",
         "rawType": "int64",
         "type": "integer"
        },
        {
         "name": "161",
         "rawType": "int64",
         "type": "integer"
        },
        {
         "name": "162",
         "rawType": "int64",
         "type": "integer"
        },
        {
         "name": "163",
         "rawType": "int64",
         "type": "integer"
        },
        {
         "name": "164",
         "rawType": "int64",
         "type": "integer"
        },
        {
         "name": "165",
         "rawType": "int64",
         "type": "integer"
        },
        {
         "name": "166",
         "rawType": "int64",
         "type": "integer"
        },
        {
         "name": "167",
         "rawType": "int64",
         "type": "integer"
        },
        {
         "name": "168",
         "rawType": "int64",
         "type": "integer"
        },
        {
         "name": "169",
         "rawType": "int64",
         "type": "integer"
        },
        {
         "name": "170",
         "rawType": "int64",
         "type": "integer"
        },
        {
         "name": "171",
         "rawType": "int64",
         "type": "integer"
        },
        {
         "name": "172",
         "rawType": "int64",
         "type": "integer"
        },
        {
         "name": "173",
         "rawType": "int64",
         "type": "integer"
        },
        {
         "name": "174",
         "rawType": "int64",
         "type": "integer"
        },
        {
         "name": "175",
         "rawType": "int64",
         "type": "integer"
        },
        {
         "name": "176",
         "rawType": "int64",
         "type": "integer"
        },
        {
         "name": "177",
         "rawType": "int64",
         "type": "integer"
        },
        {
         "name": "178",
         "rawType": "int64",
         "type": "integer"
        },
        {
         "name": "179",
         "rawType": "int64",
         "type": "integer"
        },
        {
         "name": "180",
         "rawType": "int64",
         "type": "integer"
        },
        {
         "name": "181",
         "rawType": "int64",
         "type": "integer"
        },
        {
         "name": "182",
         "rawType": "int64",
         "type": "integer"
        },
        {
         "name": "183",
         "rawType": "int64",
         "type": "integer"
        },
        {
         "name": "184",
         "rawType": "int64",
         "type": "integer"
        },
        {
         "name": "185",
         "rawType": "int64",
         "type": "integer"
        },
        {
         "name": "186",
         "rawType": "int64",
         "type": "integer"
        },
        {
         "name": "187",
         "rawType": "int64",
         "type": "integer"
        },
        {
         "name": "188",
         "rawType": "int64",
         "type": "integer"
        },
        {
         "name": "189",
         "rawType": "int64",
         "type": "integer"
        },
        {
         "name": "190",
         "rawType": "int64",
         "type": "integer"
        },
        {
         "name": "191",
         "rawType": "int64",
         "type": "integer"
        },
        {
         "name": "192",
         "rawType": "int64",
         "type": "integer"
        },
        {
         "name": "193",
         "rawType": "int64",
         "type": "integer"
        },
        {
         "name": "194",
         "rawType": "int64",
         "type": "integer"
        },
        {
         "name": "195",
         "rawType": "int64",
         "type": "integer"
        },
        {
         "name": "196",
         "rawType": "int64",
         "type": "integer"
        },
        {
         "name": "197",
         "rawType": "int64",
         "type": "integer"
        },
        {
         "name": "198",
         "rawType": "int64",
         "type": "integer"
        },
        {
         "name": "199",
         "rawType": "int64",
         "type": "integer"
        },
        {
         "name": "200",
         "rawType": "int64",
         "type": "integer"
        },
        {
         "name": "201",
         "rawType": "int64",
         "type": "integer"
        },
        {
         "name": "202",
         "rawType": "int64",
         "type": "integer"
        },
        {
         "name": "203",
         "rawType": "int64",
         "type": "integer"
        },
        {
         "name": "204",
         "rawType": "int64",
         "type": "integer"
        },
        {
         "name": "205",
         "rawType": "int64",
         "type": "integer"
        },
        {
         "name": "206",
         "rawType": "int64",
         "type": "integer"
        },
        {
         "name": "207",
         "rawType": "int64",
         "type": "integer"
        },
        {
         "name": "208",
         "rawType": "int64",
         "type": "integer"
        },
        {
         "name": "209",
         "rawType": "int64",
         "type": "integer"
        },
        {
         "name": "210",
         "rawType": "int64",
         "type": "integer"
        },
        {
         "name": "211",
         "rawType": "int64",
         "type": "integer"
        },
        {
         "name": "212",
         "rawType": "int64",
         "type": "integer"
        },
        {
         "name": "213",
         "rawType": "int64",
         "type": "integer"
        },
        {
         "name": "214",
         "rawType": "int64",
         "type": "integer"
        },
        {
         "name": "215",
         "rawType": "int64",
         "type": "integer"
        },
        {
         "name": "216",
         "rawType": "int64",
         "type": "integer"
        },
        {
         "name": "217",
         "rawType": "int64",
         "type": "integer"
        },
        {
         "name": "218",
         "rawType": "int64",
         "type": "integer"
        },
        {
         "name": "219",
         "rawType": "int64",
         "type": "integer"
        },
        {
         "name": "220",
         "rawType": "int64",
         "type": "integer"
        },
        {
         "name": "221",
         "rawType": "int64",
         "type": "integer"
        },
        {
         "name": "222",
         "rawType": "int64",
         "type": "integer"
        },
        {
         "name": "223",
         "rawType": "int64",
         "type": "integer"
        },
        {
         "name": "224",
         "rawType": "int64",
         "type": "integer"
        },
        {
         "name": "225",
         "rawType": "int64",
         "type": "integer"
        },
        {
         "name": "226",
         "rawType": "int64",
         "type": "integer"
        },
        {
         "name": "227",
         "rawType": "int64",
         "type": "integer"
        },
        {
         "name": "228",
         "rawType": "int64",
         "type": "integer"
        },
        {
         "name": "229",
         "rawType": "int64",
         "type": "integer"
        },
        {
         "name": "230",
         "rawType": "int64",
         "type": "integer"
        },
        {
         "name": "231",
         "rawType": "int64",
         "type": "integer"
        },
        {
         "name": "232",
         "rawType": "int64",
         "type": "integer"
        },
        {
         "name": "233",
         "rawType": "int64",
         "type": "integer"
        },
        {
         "name": "234",
         "rawType": "int64",
         "type": "integer"
        },
        {
         "name": "235",
         "rawType": "int64",
         "type": "integer"
        },
        {
         "name": "236",
         "rawType": "int64",
         "type": "integer"
        },
        {
         "name": "237",
         "rawType": "int64",
         "type": "integer"
        },
        {
         "name": "238",
         "rawType": "int64",
         "type": "integer"
        },
        {
         "name": "239",
         "rawType": "int64",
         "type": "integer"
        },
        {
         "name": "240",
         "rawType": "int64",
         "type": "integer"
        },
        {
         "name": "241",
         "rawType": "int64",
         "type": "integer"
        },
        {
         "name": "242",
         "rawType": "int64",
         "type": "integer"
        },
        {
         "name": "243",
         "rawType": "int64",
         "type": "integer"
        },
        {
         "name": "244",
         "rawType": "int64",
         "type": "integer"
        },
        {
         "name": "245",
         "rawType": "int64",
         "type": "integer"
        },
        {
         "name": "246",
         "rawType": "int64",
         "type": "integer"
        },
        {
         "name": "247",
         "rawType": "int64",
         "type": "integer"
        },
        {
         "name": "248",
         "rawType": "int64",
         "type": "integer"
        },
        {
         "name": "249",
         "rawType": "int64",
         "type": "integer"
        },
        {
         "name": "250",
         "rawType": "int64",
         "type": "integer"
        },
        {
         "name": "251",
         "rawType": "int64",
         "type": "integer"
        },
        {
         "name": "252",
         "rawType": "int64",
         "type": "integer"
        },
        {
         "name": "253",
         "rawType": "int64",
         "type": "integer"
        },
        {
         "name": "254",
         "rawType": "int64",
         "type": "integer"
        },
        {
         "name": "255",
         "rawType": "int64",
         "type": "integer"
        },
        {
         "name": "256",
         "rawType": "int64",
         "type": "integer"
        },
        {
         "name": "257",
         "rawType": "int64",
         "type": "integer"
        },
        {
         "name": "258",
         "rawType": "int64",
         "type": "integer"
        },
        {
         "name": "259",
         "rawType": "int64",
         "type": "integer"
        },
        {
         "name": "260",
         "rawType": "int64",
         "type": "integer"
        },
        {
         "name": "261",
         "rawType": "int64",
         "type": "integer"
        },
        {
         "name": "262",
         "rawType": "int64",
         "type": "integer"
        },
        {
         "name": "263",
         "rawType": "int64",
         "type": "integer"
        },
        {
         "name": "264",
         "rawType": "int64",
         "type": "integer"
        },
        {
         "name": "265",
         "rawType": "int64",
         "type": "integer"
        },
        {
         "name": "266",
         "rawType": "int64",
         "type": "integer"
        },
        {
         "name": "267",
         "rawType": "int64",
         "type": "integer"
        },
        {
         "name": "268",
         "rawType": "int64",
         "type": "integer"
        },
        {
         "name": "269",
         "rawType": "int64",
         "type": "integer"
        },
        {
         "name": "270",
         "rawType": "int64",
         "type": "integer"
        },
        {
         "name": "271",
         "rawType": "int64",
         "type": "integer"
        },
        {
         "name": "272",
         "rawType": "int64",
         "type": "integer"
        },
        {
         "name": "273",
         "rawType": "int64",
         "type": "integer"
        },
        {
         "name": "274",
         "rawType": "int64",
         "type": "integer"
        },
        {
         "name": "275",
         "rawType": "int64",
         "type": "integer"
        },
        {
         "name": "276",
         "rawType": "int64",
         "type": "integer"
        },
        {
         "name": "277",
         "rawType": "int64",
         "type": "integer"
        },
        {
         "name": "278",
         "rawType": "int64",
         "type": "integer"
        },
        {
         "name": "279",
         "rawType": "int64",
         "type": "integer"
        },
        {
         "name": "280",
         "rawType": "int64",
         "type": "integer"
        },
        {
         "name": "281",
         "rawType": "int64",
         "type": "integer"
        },
        {
         "name": "282",
         "rawType": "int64",
         "type": "integer"
        },
        {
         "name": "283",
         "rawType": "int64",
         "type": "integer"
        },
        {
         "name": "284",
         "rawType": "int64",
         "type": "integer"
        },
        {
         "name": "285",
         "rawType": "int64",
         "type": "integer"
        },
        {
         "name": "286",
         "rawType": "int64",
         "type": "integer"
        },
        {
         "name": "287",
         "rawType": "int64",
         "type": "integer"
        },
        {
         "name": "288",
         "rawType": "int64",
         "type": "integer"
        },
        {
         "name": "289",
         "rawType": "int64",
         "type": "integer"
        },
        {
         "name": "290",
         "rawType": "int64",
         "type": "integer"
        },
        {
         "name": "291",
         "rawType": "int64",
         "type": "integer"
        },
        {
         "name": "292",
         "rawType": "int64",
         "type": "integer"
        },
        {
         "name": "293",
         "rawType": "int64",
         "type": "integer"
        },
        {
         "name": "294",
         "rawType": "int64",
         "type": "integer"
        },
        {
         "name": "295",
         "rawType": "int64",
         "type": "integer"
        },
        {
         "name": "296",
         "rawType": "int64",
         "type": "integer"
        },
        {
         "name": "297",
         "rawType": "int64",
         "type": "integer"
        },
        {
         "name": "298",
         "rawType": "int64",
         "type": "integer"
        },
        {
         "name": "299",
         "rawType": "int64",
         "type": "integer"
        },
        {
         "name": "300",
         "rawType": "int64",
         "type": "integer"
        },
        {
         "name": "301",
         "rawType": "int64",
         "type": "integer"
        },
        {
         "name": "302",
         "rawType": "int64",
         "type": "integer"
        },
        {
         "name": "303",
         "rawType": "int64",
         "type": "integer"
        },
        {
         "name": "304",
         "rawType": "int64",
         "type": "integer"
        },
        {
         "name": "305",
         "rawType": "int64",
         "type": "integer"
        },
        {
         "name": "306",
         "rawType": "int64",
         "type": "integer"
        },
        {
         "name": "307",
         "rawType": "int64",
         "type": "integer"
        },
        {
         "name": "308",
         "rawType": "int64",
         "type": "integer"
        },
        {
         "name": "309",
         "rawType": "int64",
         "type": "integer"
        },
        {
         "name": "310",
         "rawType": "int64",
         "type": "integer"
        },
        {
         "name": "311",
         "rawType": "int64",
         "type": "integer"
        },
        {
         "name": "312",
         "rawType": "int64",
         "type": "integer"
        },
        {
         "name": "313",
         "rawType": "int64",
         "type": "integer"
        },
        {
         "name": "314",
         "rawType": "int64",
         "type": "integer"
        },
        {
         "name": "315",
         "rawType": "int64",
         "type": "integer"
        },
        {
         "name": "316",
         "rawType": "int64",
         "type": "integer"
        },
        {
         "name": "317",
         "rawType": "int64",
         "type": "integer"
        },
        {
         "name": "318",
         "rawType": "int64",
         "type": "integer"
        },
        {
         "name": "319",
         "rawType": "int64",
         "type": "integer"
        },
        {
         "name": "320",
         "rawType": "int64",
         "type": "integer"
        },
        {
         "name": "321",
         "rawType": "int64",
         "type": "integer"
        },
        {
         "name": "322",
         "rawType": "int64",
         "type": "integer"
        },
        {
         "name": "323",
         "rawType": "int64",
         "type": "integer"
        },
        {
         "name": "324",
         "rawType": "int64",
         "type": "integer"
        },
        {
         "name": "325",
         "rawType": "int64",
         "type": "integer"
        },
        {
         "name": "326",
         "rawType": "int64",
         "type": "integer"
        },
        {
         "name": "327",
         "rawType": "int64",
         "type": "integer"
        },
        {
         "name": "328",
         "rawType": "int64",
         "type": "integer"
        },
        {
         "name": "329",
         "rawType": "int64",
         "type": "integer"
        },
        {
         "name": "330",
         "rawType": "int64",
         "type": "integer"
        },
        {
         "name": "331",
         "rawType": "int64",
         "type": "integer"
        },
        {
         "name": "332",
         "rawType": "int64",
         "type": "integer"
        },
        {
         "name": "333",
         "rawType": "int64",
         "type": "integer"
        },
        {
         "name": "334",
         "rawType": "int64",
         "type": "integer"
        },
        {
         "name": "335",
         "rawType": "int64",
         "type": "integer"
        },
        {
         "name": "336",
         "rawType": "int64",
         "type": "integer"
        },
        {
         "name": "337",
         "rawType": "int64",
         "type": "integer"
        },
        {
         "name": "338",
         "rawType": "int64",
         "type": "integer"
        },
        {
         "name": "339",
         "rawType": "int64",
         "type": "integer"
        },
        {
         "name": "340",
         "rawType": "int64",
         "type": "integer"
        },
        {
         "name": "341",
         "rawType": "int64",
         "type": "integer"
        },
        {
         "name": "342",
         "rawType": "int64",
         "type": "integer"
        },
        {
         "name": "343",
         "rawType": "int64",
         "type": "integer"
        },
        {
         "name": "344",
         "rawType": "int64",
         "type": "integer"
        },
        {
         "name": "345",
         "rawType": "int64",
         "type": "integer"
        },
        {
         "name": "346",
         "rawType": "int64",
         "type": "integer"
        },
        {
         "name": "347",
         "rawType": "int64",
         "type": "integer"
        },
        {
         "name": "348",
         "rawType": "int64",
         "type": "integer"
        },
        {
         "name": "349",
         "rawType": "int64",
         "type": "integer"
        },
        {
         "name": "350",
         "rawType": "int64",
         "type": "integer"
        },
        {
         "name": "351",
         "rawType": "int64",
         "type": "integer"
        },
        {
         "name": "352",
         "rawType": "int64",
         "type": "integer"
        },
        {
         "name": "353",
         "rawType": "int64",
         "type": "integer"
        },
        {
         "name": "354",
         "rawType": "int64",
         "type": "integer"
        },
        {
         "name": "355",
         "rawType": "int64",
         "type": "integer"
        },
        {
         "name": "356",
         "rawType": "int64",
         "type": "integer"
        },
        {
         "name": "357",
         "rawType": "int64",
         "type": "integer"
        },
        {
         "name": "358",
         "rawType": "int64",
         "type": "integer"
        },
        {
         "name": "359",
         "rawType": "int64",
         "type": "integer"
        },
        {
         "name": "360",
         "rawType": "int64",
         "type": "integer"
        },
        {
         "name": "361",
         "rawType": "int64",
         "type": "integer"
        },
        {
         "name": "362",
         "rawType": "int64",
         "type": "integer"
        },
        {
         "name": "363",
         "rawType": "int64",
         "type": "integer"
        },
        {
         "name": "364",
         "rawType": "int64",
         "type": "integer"
        },
        {
         "name": "365",
         "rawType": "int64",
         "type": "integer"
        },
        {
         "name": "366",
         "rawType": "int64",
         "type": "integer"
        },
        {
         "name": "367",
         "rawType": "int64",
         "type": "integer"
        },
        {
         "name": "368",
         "rawType": "int64",
         "type": "integer"
        },
        {
         "name": "369",
         "rawType": "int64",
         "type": "integer"
        },
        {
         "name": "370",
         "rawType": "int64",
         "type": "integer"
        },
        {
         "name": "371",
         "rawType": "int64",
         "type": "integer"
        },
        {
         "name": "372",
         "rawType": "int64",
         "type": "integer"
        },
        {
         "name": "373",
         "rawType": "int64",
         "type": "integer"
        },
        {
         "name": "374",
         "rawType": "int64",
         "type": "integer"
        },
        {
         "name": "375",
         "rawType": "int64",
         "type": "integer"
        },
        {
         "name": "376",
         "rawType": "int64",
         "type": "integer"
        },
        {
         "name": "377",
         "rawType": "int64",
         "type": "integer"
        },
        {
         "name": "378",
         "rawType": "int64",
         "type": "integer"
        },
        {
         "name": "379",
         "rawType": "int64",
         "type": "integer"
        },
        {
         "name": "380",
         "rawType": "int64",
         "type": "integer"
        },
        {
         "name": "381",
         "rawType": "int64",
         "type": "integer"
        },
        {
         "name": "382",
         "rawType": "int64",
         "type": "integer"
        },
        {
         "name": "383",
         "rawType": "int64",
         "type": "integer"
        },
        {
         "name": "384",
         "rawType": "int64",
         "type": "integer"
        },
        {
         "name": "385",
         "rawType": "int64",
         "type": "integer"
        },
        {
         "name": "386",
         "rawType": "int64",
         "type": "integer"
        },
        {
         "name": "387",
         "rawType": "int64",
         "type": "integer"
        },
        {
         "name": "388",
         "rawType": "int64",
         "type": "integer"
        },
        {
         "name": "389",
         "rawType": "int64",
         "type": "integer"
        },
        {
         "name": "390",
         "rawType": "int64",
         "type": "integer"
        },
        {
         "name": "391",
         "rawType": "int64",
         "type": "integer"
        },
        {
         "name": "392",
         "rawType": "int64",
         "type": "integer"
        },
        {
         "name": "393",
         "rawType": "int64",
         "type": "integer"
        },
        {
         "name": "394",
         "rawType": "int64",
         "type": "integer"
        },
        {
         "name": "395",
         "rawType": "int64",
         "type": "integer"
        },
        {
         "name": "396",
         "rawType": "int64",
         "type": "integer"
        },
        {
         "name": "397",
         "rawType": "int64",
         "type": "integer"
        },
        {
         "name": "398",
         "rawType": "int64",
         "type": "integer"
        },
        {
         "name": "399",
         "rawType": "int64",
         "type": "integer"
        },
        {
         "name": "400",
         "rawType": "int64",
         "type": "integer"
        },
        {
         "name": "401",
         "rawType": "int64",
         "type": "integer"
        },
        {
         "name": "402",
         "rawType": "int64",
         "type": "integer"
        },
        {
         "name": "403",
         "rawType": "int64",
         "type": "integer"
        },
        {
         "name": "404",
         "rawType": "int64",
         "type": "integer"
        },
        {
         "name": "405",
         "rawType": "int64",
         "type": "integer"
        },
        {
         "name": "406",
         "rawType": "int64",
         "type": "integer"
        },
        {
         "name": "407",
         "rawType": "int64",
         "type": "integer"
        },
        {
         "name": "408",
         "rawType": "int64",
         "type": "integer"
        },
        {
         "name": "409",
         "rawType": "int64",
         "type": "integer"
        },
        {
         "name": "410",
         "rawType": "int64",
         "type": "integer"
        },
        {
         "name": "411",
         "rawType": "int64",
         "type": "integer"
        },
        {
         "name": "412",
         "rawType": "int64",
         "type": "integer"
        },
        {
         "name": "413",
         "rawType": "int64",
         "type": "integer"
        },
        {
         "name": "414",
         "rawType": "int64",
         "type": "integer"
        },
        {
         "name": "415",
         "rawType": "int64",
         "type": "integer"
        },
        {
         "name": "416",
         "rawType": "int64",
         "type": "integer"
        },
        {
         "name": "417",
         "rawType": "int64",
         "type": "integer"
        },
        {
         "name": "418",
         "rawType": "int64",
         "type": "integer"
        },
        {
         "name": "419",
         "rawType": "int64",
         "type": "integer"
        },
        {
         "name": "420",
         "rawType": "int64",
         "type": "integer"
        },
        {
         "name": "421",
         "rawType": "int64",
         "type": "integer"
        },
        {
         "name": "422",
         "rawType": "int64",
         "type": "integer"
        },
        {
         "name": "423",
         "rawType": "int64",
         "type": "integer"
        },
        {
         "name": "424",
         "rawType": "int64",
         "type": "integer"
        },
        {
         "name": "425",
         "rawType": "int64",
         "type": "integer"
        },
        {
         "name": "426",
         "rawType": "int64",
         "type": "integer"
        },
        {
         "name": "427",
         "rawType": "int64",
         "type": "integer"
        },
        {
         "name": "428",
         "rawType": "int64",
         "type": "integer"
        },
        {
         "name": "429",
         "rawType": "int64",
         "type": "integer"
        },
        {
         "name": "430",
         "rawType": "int64",
         "type": "integer"
        },
        {
         "name": "431",
         "rawType": "int64",
         "type": "integer"
        },
        {
         "name": "432",
         "rawType": "int64",
         "type": "integer"
        },
        {
         "name": "433",
         "rawType": "int64",
         "type": "integer"
        },
        {
         "name": "434",
         "rawType": "int64",
         "type": "integer"
        },
        {
         "name": "435",
         "rawType": "int64",
         "type": "integer"
        },
        {
         "name": "436",
         "rawType": "int64",
         "type": "integer"
        },
        {
         "name": "437",
         "rawType": "int64",
         "type": "integer"
        },
        {
         "name": "438",
         "rawType": "int64",
         "type": "integer"
        },
        {
         "name": "439",
         "rawType": "int64",
         "type": "integer"
        },
        {
         "name": "440",
         "rawType": "int64",
         "type": "integer"
        },
        {
         "name": "441",
         "rawType": "int64",
         "type": "integer"
        },
        {
         "name": "442",
         "rawType": "int64",
         "type": "integer"
        },
        {
         "name": "443",
         "rawType": "int64",
         "type": "integer"
        },
        {
         "name": "444",
         "rawType": "int64",
         "type": "integer"
        },
        {
         "name": "445",
         "rawType": "int64",
         "type": "integer"
        },
        {
         "name": "446",
         "rawType": "int64",
         "type": "integer"
        },
        {
         "name": "447",
         "rawType": "int64",
         "type": "integer"
        },
        {
         "name": "448",
         "rawType": "int64",
         "type": "integer"
        },
        {
         "name": "449",
         "rawType": "int64",
         "type": "integer"
        },
        {
         "name": "450",
         "rawType": "int64",
         "type": "integer"
        },
        {
         "name": "451",
         "rawType": "int64",
         "type": "integer"
        },
        {
         "name": "452",
         "rawType": "int64",
         "type": "integer"
        },
        {
         "name": "453",
         "rawType": "int64",
         "type": "integer"
        },
        {
         "name": "454",
         "rawType": "int64",
         "type": "integer"
        },
        {
         "name": "455",
         "rawType": "int64",
         "type": "integer"
        },
        {
         "name": "456",
         "rawType": "int64",
         "type": "integer"
        },
        {
         "name": "457",
         "rawType": "int64",
         "type": "integer"
        },
        {
         "name": "458",
         "rawType": "int64",
         "type": "integer"
        },
        {
         "name": "459",
         "rawType": "int64",
         "type": "integer"
        },
        {
         "name": "460",
         "rawType": "int64",
         "type": "integer"
        },
        {
         "name": "461",
         "rawType": "int64",
         "type": "integer"
        },
        {
         "name": "462",
         "rawType": "int64",
         "type": "integer"
        },
        {
         "name": "463",
         "rawType": "int64",
         "type": "integer"
        },
        {
         "name": "464",
         "rawType": "int64",
         "type": "integer"
        },
        {
         "name": "465",
         "rawType": "int64",
         "type": "integer"
        },
        {
         "name": "466",
         "rawType": "int64",
         "type": "integer"
        },
        {
         "name": "467",
         "rawType": "int64",
         "type": "integer"
        },
        {
         "name": "468",
         "rawType": "int64",
         "type": "integer"
        },
        {
         "name": "469",
         "rawType": "int64",
         "type": "integer"
        },
        {
         "name": "470",
         "rawType": "int64",
         "type": "integer"
        },
        {
         "name": "471",
         "rawType": "int64",
         "type": "integer"
        },
        {
         "name": "472",
         "rawType": "int64",
         "type": "integer"
        },
        {
         "name": "473",
         "rawType": "int64",
         "type": "integer"
        },
        {
         "name": "474",
         "rawType": "int64",
         "type": "integer"
        },
        {
         "name": "475",
         "rawType": "int64",
         "type": "integer"
        },
        {
         "name": "476",
         "rawType": "int64",
         "type": "integer"
        },
        {
         "name": "477",
         "rawType": "int64",
         "type": "integer"
        },
        {
         "name": "478",
         "rawType": "int64",
         "type": "integer"
        },
        {
         "name": "479",
         "rawType": "int64",
         "type": "integer"
        },
        {
         "name": "480",
         "rawType": "int64",
         "type": "integer"
        },
        {
         "name": "481",
         "rawType": "int64",
         "type": "integer"
        },
        {
         "name": "482",
         "rawType": "int64",
         "type": "integer"
        },
        {
         "name": "483",
         "rawType": "int64",
         "type": "integer"
        },
        {
         "name": "484",
         "rawType": "int64",
         "type": "integer"
        },
        {
         "name": "485",
         "rawType": "int64",
         "type": "integer"
        },
        {
         "name": "486",
         "rawType": "int64",
         "type": "integer"
        },
        {
         "name": "487",
         "rawType": "int64",
         "type": "integer"
        },
        {
         "name": "488",
         "rawType": "int64",
         "type": "integer"
        },
        {
         "name": "489",
         "rawType": "int64",
         "type": "integer"
        },
        {
         "name": "490",
         "rawType": "int64",
         "type": "integer"
        },
        {
         "name": "491",
         "rawType": "int64",
         "type": "integer"
        },
        {
         "name": "492",
         "rawType": "int64",
         "type": "integer"
        },
        {
         "name": "493",
         "rawType": "int64",
         "type": "integer"
        },
        {
         "name": "494",
         "rawType": "int64",
         "type": "integer"
        },
        {
         "name": "495",
         "rawType": "int64",
         "type": "integer"
        },
        {
         "name": "496",
         "rawType": "int64",
         "type": "integer"
        },
        {
         "name": "497",
         "rawType": "int64",
         "type": "integer"
        },
        {
         "name": "498",
         "rawType": "int64",
         "type": "integer"
        },
        {
         "name": "499",
         "rawType": "int64",
         "type": "integer"
        },
        {
         "name": "500",
         "rawType": "int64",
         "type": "integer"
        },
        {
         "name": "501",
         "rawType": "int64",
         "type": "integer"
        },
        {
         "name": "502",
         "rawType": "int64",
         "type": "integer"
        },
        {
         "name": "503",
         "rawType": "int64",
         "type": "integer"
        },
        {
         "name": "504",
         "rawType": "int64",
         "type": "integer"
        },
        {
         "name": "505",
         "rawType": "int64",
         "type": "integer"
        },
        {
         "name": "506",
         "rawType": "int64",
         "type": "integer"
        },
        {
         "name": "507",
         "rawType": "int64",
         "type": "integer"
        },
        {
         "name": "508",
         "rawType": "int64",
         "type": "integer"
        },
        {
         "name": "509",
         "rawType": "int64",
         "type": "integer"
        },
        {
         "name": "510",
         "rawType": "int64",
         "type": "integer"
        },
        {
         "name": "511",
         "rawType": "int64",
         "type": "integer"
        },
        {
         "name": "512",
         "rawType": "int64",
         "type": "integer"
        },
        {
         "name": "513",
         "rawType": "int64",
         "type": "integer"
        },
        {
         "name": "514",
         "rawType": "int64",
         "type": "integer"
        },
        {
         "name": "515",
         "rawType": "int64",
         "type": "integer"
        },
        {
         "name": "516",
         "rawType": "int64",
         "type": "integer"
        },
        {
         "name": "517",
         "rawType": "int64",
         "type": "integer"
        },
        {
         "name": "518",
         "rawType": "int64",
         "type": "integer"
        },
        {
         "name": "519",
         "rawType": "int64",
         "type": "integer"
        },
        {
         "name": "520",
         "rawType": "int64",
         "type": "integer"
        },
        {
         "name": "521",
         "rawType": "int64",
         "type": "integer"
        },
        {
         "name": "522",
         "rawType": "int64",
         "type": "integer"
        },
        {
         "name": "523",
         "rawType": "int64",
         "type": "integer"
        },
        {
         "name": "524",
         "rawType": "int64",
         "type": "integer"
        },
        {
         "name": "525",
         "rawType": "int64",
         "type": "integer"
        },
        {
         "name": "526",
         "rawType": "int64",
         "type": "integer"
        },
        {
         "name": "527",
         "rawType": "int64",
         "type": "integer"
        },
        {
         "name": "528",
         "rawType": "int64",
         "type": "integer"
        },
        {
         "name": "529",
         "rawType": "int64",
         "type": "integer"
        },
        {
         "name": "530",
         "rawType": "int64",
         "type": "integer"
        },
        {
         "name": "531",
         "rawType": "int64",
         "type": "integer"
        },
        {
         "name": "532",
         "rawType": "int64",
         "type": "integer"
        },
        {
         "name": "533",
         "rawType": "int64",
         "type": "integer"
        },
        {
         "name": "534",
         "rawType": "int64",
         "type": "integer"
        },
        {
         "name": "535",
         "rawType": "int64",
         "type": "integer"
        },
        {
         "name": "536",
         "rawType": "int64",
         "type": "integer"
        },
        {
         "name": "537",
         "rawType": "int64",
         "type": "integer"
        },
        {
         "name": "538",
         "rawType": "int64",
         "type": "integer"
        },
        {
         "name": "539",
         "rawType": "int64",
         "type": "integer"
        },
        {
         "name": "540",
         "rawType": "int64",
         "type": "integer"
        },
        {
         "name": "541",
         "rawType": "int64",
         "type": "integer"
        },
        {
         "name": "542",
         "rawType": "int64",
         "type": "integer"
        },
        {
         "name": "543",
         "rawType": "int64",
         "type": "integer"
        },
        {
         "name": "544",
         "rawType": "int64",
         "type": "integer"
        },
        {
         "name": "545",
         "rawType": "int64",
         "type": "integer"
        },
        {
         "name": "546",
         "rawType": "int64",
         "type": "integer"
        },
        {
         "name": "547",
         "rawType": "int64",
         "type": "integer"
        },
        {
         "name": "548",
         "rawType": "int64",
         "type": "integer"
        },
        {
         "name": "549",
         "rawType": "int64",
         "type": "integer"
        },
        {
         "name": "550",
         "rawType": "int64",
         "type": "integer"
        },
        {
         "name": "551",
         "rawType": "int64",
         "type": "integer"
        },
        {
         "name": "552",
         "rawType": "int64",
         "type": "integer"
        },
        {
         "name": "553",
         "rawType": "int64",
         "type": "integer"
        },
        {
         "name": "554",
         "rawType": "int64",
         "type": "integer"
        },
        {
         "name": "555",
         "rawType": "int64",
         "type": "integer"
        },
        {
         "name": "556",
         "rawType": "int64",
         "type": "integer"
        },
        {
         "name": "557",
         "rawType": "int64",
         "type": "integer"
        },
        {
         "name": "558",
         "rawType": "int64",
         "type": "integer"
        },
        {
         "name": "559",
         "rawType": "int64",
         "type": "integer"
        },
        {
         "name": "560",
         "rawType": "int64",
         "type": "integer"
        },
        {
         "name": "561",
         "rawType": "int64",
         "type": "integer"
        },
        {
         "name": "562",
         "rawType": "int64",
         "type": "integer"
        },
        {
         "name": "563",
         "rawType": "int64",
         "type": "integer"
        },
        {
         "name": "564",
         "rawType": "int64",
         "type": "integer"
        },
        {
         "name": "565",
         "rawType": "int64",
         "type": "integer"
        },
        {
         "name": "566",
         "rawType": "int64",
         "type": "integer"
        },
        {
         "name": "567",
         "rawType": "int64",
         "type": "integer"
        },
        {
         "name": "568",
         "rawType": "int64",
         "type": "integer"
        },
        {
         "name": "569",
         "rawType": "int64",
         "type": "integer"
        },
        {
         "name": "570",
         "rawType": "int64",
         "type": "integer"
        },
        {
         "name": "571",
         "rawType": "int64",
         "type": "integer"
        },
        {
         "name": "572",
         "rawType": "int64",
         "type": "integer"
        },
        {
         "name": "573",
         "rawType": "int64",
         "type": "integer"
        },
        {
         "name": "574",
         "rawType": "int64",
         "type": "integer"
        },
        {
         "name": "575",
         "rawType": "int64",
         "type": "integer"
        },
        {
         "name": "576",
         "rawType": "int64",
         "type": "integer"
        },
        {
         "name": "577",
         "rawType": "int64",
         "type": "integer"
        },
        {
         "name": "578",
         "rawType": "int64",
         "type": "integer"
        },
        {
         "name": "579",
         "rawType": "int64",
         "type": "integer"
        },
        {
         "name": "580",
         "rawType": "int64",
         "type": "integer"
        },
        {
         "name": "581",
         "rawType": "int64",
         "type": "integer"
        },
        {
         "name": "582",
         "rawType": "int64",
         "type": "integer"
        },
        {
         "name": "583",
         "rawType": "int64",
         "type": "integer"
        },
        {
         "name": "584",
         "rawType": "int64",
         "type": "integer"
        },
        {
         "name": "585",
         "rawType": "int64",
         "type": "integer"
        },
        {
         "name": "586",
         "rawType": "int64",
         "type": "integer"
        },
        {
         "name": "587",
         "rawType": "int64",
         "type": "integer"
        },
        {
         "name": "588",
         "rawType": "int64",
         "type": "integer"
        },
        {
         "name": "589",
         "rawType": "int64",
         "type": "integer"
        },
        {
         "name": "590",
         "rawType": "int64",
         "type": "integer"
        },
        {
         "name": "591",
         "rawType": "int64",
         "type": "integer"
        },
        {
         "name": "592",
         "rawType": "int64",
         "type": "integer"
        },
        {
         "name": "593",
         "rawType": "int64",
         "type": "integer"
        },
        {
         "name": "594",
         "rawType": "int64",
         "type": "integer"
        },
        {
         "name": "595",
         "rawType": "int64",
         "type": "integer"
        },
        {
         "name": "596",
         "rawType": "int64",
         "type": "integer"
        },
        {
         "name": "597",
         "rawType": "int64",
         "type": "integer"
        },
        {
         "name": "598",
         "rawType": "int64",
         "type": "integer"
        },
        {
         "name": "599",
         "rawType": "int64",
         "type": "integer"
        },
        {
         "name": "600",
         "rawType": "int64",
         "type": "integer"
        },
        {
         "name": "601",
         "rawType": "int64",
         "type": "integer"
        },
        {
         "name": "602",
         "rawType": "int64",
         "type": "integer"
        },
        {
         "name": "603",
         "rawType": "int64",
         "type": "integer"
        },
        {
         "name": "604",
         "rawType": "int64",
         "type": "integer"
        },
        {
         "name": "605",
         "rawType": "int64",
         "type": "integer"
        },
        {
         "name": "606",
         "rawType": "int64",
         "type": "integer"
        },
        {
         "name": "607",
         "rawType": "int64",
         "type": "integer"
        },
        {
         "name": "608",
         "rawType": "int64",
         "type": "integer"
        },
        {
         "name": "609",
         "rawType": "int64",
         "type": "integer"
        },
        {
         "name": "610",
         "rawType": "int64",
         "type": "integer"
        },
        {
         "name": "611",
         "rawType": "int64",
         "type": "integer"
        },
        {
         "name": "612",
         "rawType": "int64",
         "type": "integer"
        },
        {
         "name": "613",
         "rawType": "int64",
         "type": "integer"
        },
        {
         "name": "614",
         "rawType": "int64",
         "type": "integer"
        },
        {
         "name": "615",
         "rawType": "int64",
         "type": "integer"
        },
        {
         "name": "616",
         "rawType": "int64",
         "type": "integer"
        },
        {
         "name": "617",
         "rawType": "int64",
         "type": "integer"
        },
        {
         "name": "618",
         "rawType": "int64",
         "type": "integer"
        },
        {
         "name": "619",
         "rawType": "int64",
         "type": "integer"
        },
        {
         "name": "620",
         "rawType": "int64",
         "type": "integer"
        },
        {
         "name": "621",
         "rawType": "int64",
         "type": "integer"
        },
        {
         "name": "622",
         "rawType": "int64",
         "type": "integer"
        },
        {
         "name": "623",
         "rawType": "int64",
         "type": "integer"
        },
        {
         "name": "624",
         "rawType": "int64",
         "type": "integer"
        },
        {
         "name": "625",
         "rawType": "int64",
         "type": "integer"
        },
        {
         "name": "626",
         "rawType": "int64",
         "type": "integer"
        },
        {
         "name": "627",
         "rawType": "int64",
         "type": "integer"
        },
        {
         "name": "628",
         "rawType": "int64",
         "type": "integer"
        },
        {
         "name": "629",
         "rawType": "int64",
         "type": "integer"
        },
        {
         "name": "630",
         "rawType": "int64",
         "type": "integer"
        },
        {
         "name": "631",
         "rawType": "int64",
         "type": "integer"
        },
        {
         "name": "632",
         "rawType": "int64",
         "type": "integer"
        },
        {
         "name": "633",
         "rawType": "int64",
         "type": "integer"
        },
        {
         "name": "634",
         "rawType": "int64",
         "type": "integer"
        },
        {
         "name": "635",
         "rawType": "int64",
         "type": "integer"
        },
        {
         "name": "636",
         "rawType": "int64",
         "type": "integer"
        },
        {
         "name": "637",
         "rawType": "int64",
         "type": "integer"
        },
        {
         "name": "638",
         "rawType": "int64",
         "type": "integer"
        },
        {
         "name": "639",
         "rawType": "int64",
         "type": "integer"
        },
        {
         "name": "640",
         "rawType": "int64",
         "type": "integer"
        },
        {
         "name": "641",
         "rawType": "int64",
         "type": "integer"
        },
        {
         "name": "642",
         "rawType": "int64",
         "type": "integer"
        },
        {
         "name": "643",
         "rawType": "int64",
         "type": "integer"
        },
        {
         "name": "644",
         "rawType": "int64",
         "type": "integer"
        },
        {
         "name": "645",
         "rawType": "int64",
         "type": "integer"
        },
        {
         "name": "646",
         "rawType": "int64",
         "type": "integer"
        },
        {
         "name": "647",
         "rawType": "int64",
         "type": "integer"
        },
        {
         "name": "648",
         "rawType": "int64",
         "type": "integer"
        },
        {
         "name": "649",
         "rawType": "int64",
         "type": "integer"
        },
        {
         "name": "650",
         "rawType": "int64",
         "type": "integer"
        },
        {
         "name": "651",
         "rawType": "int64",
         "type": "integer"
        },
        {
         "name": "652",
         "rawType": "int64",
         "type": "integer"
        },
        {
         "name": "653",
         "rawType": "int64",
         "type": "integer"
        },
        {
         "name": "654",
         "rawType": "int64",
         "type": "integer"
        },
        {
         "name": "655",
         "rawType": "int64",
         "type": "integer"
        },
        {
         "name": "656",
         "rawType": "int64",
         "type": "integer"
        },
        {
         "name": "657",
         "rawType": "int64",
         "type": "integer"
        },
        {
         "name": "658",
         "rawType": "int64",
         "type": "integer"
        },
        {
         "name": "659",
         "rawType": "int64",
         "type": "integer"
        },
        {
         "name": "660",
         "rawType": "int64",
         "type": "integer"
        },
        {
         "name": "661",
         "rawType": "int64",
         "type": "integer"
        },
        {
         "name": "662",
         "rawType": "int64",
         "type": "integer"
        },
        {
         "name": "663",
         "rawType": "int64",
         "type": "integer"
        },
        {
         "name": "664",
         "rawType": "int64",
         "type": "integer"
        },
        {
         "name": "665",
         "rawType": "int64",
         "type": "integer"
        },
        {
         "name": "666",
         "rawType": "int64",
         "type": "integer"
        },
        {
         "name": "667",
         "rawType": "int64",
         "type": "integer"
        },
        {
         "name": "668",
         "rawType": "int64",
         "type": "integer"
        },
        {
         "name": "669",
         "rawType": "int64",
         "type": "integer"
        },
        {
         "name": "670",
         "rawType": "int64",
         "type": "integer"
        },
        {
         "name": "671",
         "rawType": "int64",
         "type": "integer"
        },
        {
         "name": "672",
         "rawType": "int64",
         "type": "integer"
        },
        {
         "name": "673",
         "rawType": "int64",
         "type": "integer"
        },
        {
         "name": "674",
         "rawType": "int64",
         "type": "integer"
        },
        {
         "name": "675",
         "rawType": "int64",
         "type": "integer"
        },
        {
         "name": "676",
         "rawType": "int64",
         "type": "integer"
        },
        {
         "name": "677",
         "rawType": "int64",
         "type": "integer"
        },
        {
         "name": "678",
         "rawType": "int64",
         "type": "integer"
        },
        {
         "name": "679",
         "rawType": "int64",
         "type": "integer"
        },
        {
         "name": "680",
         "rawType": "int64",
         "type": "integer"
        },
        {
         "name": "681",
         "rawType": "int64",
         "type": "integer"
        },
        {
         "name": "682",
         "rawType": "int64",
         "type": "integer"
        },
        {
         "name": "683",
         "rawType": "int64",
         "type": "integer"
        },
        {
         "name": "684",
         "rawType": "int64",
         "type": "integer"
        },
        {
         "name": "685",
         "rawType": "int64",
         "type": "integer"
        },
        {
         "name": "686",
         "rawType": "int64",
         "type": "integer"
        },
        {
         "name": "687",
         "rawType": "int64",
         "type": "integer"
        },
        {
         "name": "688",
         "rawType": "int64",
         "type": "integer"
        },
        {
         "name": "689",
         "rawType": "int64",
         "type": "integer"
        },
        {
         "name": "690",
         "rawType": "int64",
         "type": "integer"
        },
        {
         "name": "691",
         "rawType": "int64",
         "type": "integer"
        },
        {
         "name": "692",
         "rawType": "int64",
         "type": "integer"
        },
        {
         "name": "693",
         "rawType": "int64",
         "type": "integer"
        },
        {
         "name": "694",
         "rawType": "int64",
         "type": "integer"
        },
        {
         "name": "695",
         "rawType": "int64",
         "type": "integer"
        },
        {
         "name": "696",
         "rawType": "int64",
         "type": "integer"
        },
        {
         "name": "697",
         "rawType": "int64",
         "type": "integer"
        },
        {
         "name": "698",
         "rawType": "int64",
         "type": "integer"
        },
        {
         "name": "699",
         "rawType": "int64",
         "type": "integer"
        },
        {
         "name": "700",
         "rawType": "int64",
         "type": "integer"
        },
        {
         "name": "701",
         "rawType": "int64",
         "type": "integer"
        },
        {
         "name": "702",
         "rawType": "int64",
         "type": "integer"
        },
        {
         "name": "703",
         "rawType": "int64",
         "type": "integer"
        },
        {
         "name": "704",
         "rawType": "int64",
         "type": "integer"
        },
        {
         "name": "705",
         "rawType": "int64",
         "type": "integer"
        },
        {
         "name": "706",
         "rawType": "int64",
         "type": "integer"
        },
        {
         "name": "707",
         "rawType": "int64",
         "type": "integer"
        },
        {
         "name": "708",
         "rawType": "int64",
         "type": "integer"
        },
        {
         "name": "709",
         "rawType": "int64",
         "type": "integer"
        },
        {
         "name": "710",
         "rawType": "int64",
         "type": "integer"
        },
        {
         "name": "711",
         "rawType": "int64",
         "type": "integer"
        },
        {
         "name": "712",
         "rawType": "int64",
         "type": "integer"
        },
        {
         "name": "713",
         "rawType": "int64",
         "type": "integer"
        },
        {
         "name": "714",
         "rawType": "int64",
         "type": "integer"
        },
        {
         "name": "715",
         "rawType": "int64",
         "type": "integer"
        },
        {
         "name": "716",
         "rawType": "int64",
         "type": "integer"
        },
        {
         "name": "717",
         "rawType": "int64",
         "type": "integer"
        },
        {
         "name": "718",
         "rawType": "int64",
         "type": "integer"
        },
        {
         "name": "719",
         "rawType": "int64",
         "type": "integer"
        },
        {
         "name": "720",
         "rawType": "int64",
         "type": "integer"
        },
        {
         "name": "721",
         "rawType": "int64",
         "type": "integer"
        },
        {
         "name": "722",
         "rawType": "int64",
         "type": "integer"
        },
        {
         "name": "723",
         "rawType": "int64",
         "type": "integer"
        },
        {
         "name": "724",
         "rawType": "int64",
         "type": "integer"
        },
        {
         "name": "725",
         "rawType": "int64",
         "type": "integer"
        },
        {
         "name": "726",
         "rawType": "int64",
         "type": "integer"
        },
        {
         "name": "727",
         "rawType": "int64",
         "type": "integer"
        },
        {
         "name": "728",
         "rawType": "int64",
         "type": "integer"
        },
        {
         "name": "729",
         "rawType": "int64",
         "type": "integer"
        },
        {
         "name": "730",
         "rawType": "int64",
         "type": "integer"
        },
        {
         "name": "731",
         "rawType": "int64",
         "type": "integer"
        },
        {
         "name": "732",
         "rawType": "int64",
         "type": "integer"
        },
        {
         "name": "733",
         "rawType": "int64",
         "type": "integer"
        },
        {
         "name": "734",
         "rawType": "int64",
         "type": "integer"
        },
        {
         "name": "735",
         "rawType": "int64",
         "type": "integer"
        },
        {
         "name": "736",
         "rawType": "int64",
         "type": "integer"
        },
        {
         "name": "737",
         "rawType": "int64",
         "type": "integer"
        },
        {
         "name": "738",
         "rawType": "int64",
         "type": "integer"
        },
        {
         "name": "739",
         "rawType": "int64",
         "type": "integer"
        },
        {
         "name": "740",
         "rawType": "int64",
         "type": "integer"
        },
        {
         "name": "741",
         "rawType": "int64",
         "type": "integer"
        },
        {
         "name": "742",
         "rawType": "int64",
         "type": "integer"
        },
        {
         "name": "743",
         "rawType": "int64",
         "type": "integer"
        },
        {
         "name": "744",
         "rawType": "int64",
         "type": "integer"
        },
        {
         "name": "745",
         "rawType": "int64",
         "type": "integer"
        },
        {
         "name": "746",
         "rawType": "int64",
         "type": "integer"
        },
        {
         "name": "747",
         "rawType": "int64",
         "type": "integer"
        },
        {
         "name": "748",
         "rawType": "int64",
         "type": "integer"
        },
        {
         "name": "749",
         "rawType": "int64",
         "type": "integer"
        },
        {
         "name": "750",
         "rawType": "int64",
         "type": "integer"
        },
        {
         "name": "751",
         "rawType": "int64",
         "type": "integer"
        },
        {
         "name": "752",
         "rawType": "int64",
         "type": "integer"
        },
        {
         "name": "753",
         "rawType": "int64",
         "type": "integer"
        },
        {
         "name": "754",
         "rawType": "int64",
         "type": "integer"
        },
        {
         "name": "755",
         "rawType": "int64",
         "type": "integer"
        },
        {
         "name": "756",
         "rawType": "int64",
         "type": "integer"
        },
        {
         "name": "757",
         "rawType": "int64",
         "type": "integer"
        },
        {
         "name": "758",
         "rawType": "int64",
         "type": "integer"
        },
        {
         "name": "759",
         "rawType": "int64",
         "type": "integer"
        },
        {
         "name": "760",
         "rawType": "int64",
         "type": "integer"
        },
        {
         "name": "761",
         "rawType": "int64",
         "type": "integer"
        },
        {
         "name": "762",
         "rawType": "int64",
         "type": "integer"
        },
        {
         "name": "763",
         "rawType": "int64",
         "type": "integer"
        },
        {
         "name": "764",
         "rawType": "int64",
         "type": "integer"
        },
        {
         "name": "765",
         "rawType": "int64",
         "type": "integer"
        },
        {
         "name": "766",
         "rawType": "int64",
         "type": "integer"
        },
        {
         "name": "767",
         "rawType": "int64",
         "type": "integer"
        },
        {
         "name": "768",
         "rawType": "int64",
         "type": "integer"
        },
        {
         "name": "769",
         "rawType": "int64",
         "type": "integer"
        },
        {
         "name": "770",
         "rawType": "int64",
         "type": "integer"
        },
        {
         "name": "771",
         "rawType": "int64",
         "type": "integer"
        },
        {
         "name": "772",
         "rawType": "int64",
         "type": "integer"
        },
        {
         "name": "773",
         "rawType": "int64",
         "type": "integer"
        },
        {
         "name": "774",
         "rawType": "int64",
         "type": "integer"
        },
        {
         "name": "775",
         "rawType": "int64",
         "type": "integer"
        },
        {
         "name": "776",
         "rawType": "int64",
         "type": "integer"
        },
        {
         "name": "777",
         "rawType": "int64",
         "type": "integer"
        },
        {
         "name": "778",
         "rawType": "int64",
         "type": "integer"
        },
        {
         "name": "779",
         "rawType": "int64",
         "type": "integer"
        },
        {
         "name": "780",
         "rawType": "int64",
         "type": "integer"
        },
        {
         "name": "781",
         "rawType": "int64",
         "type": "integer"
        },
        {
         "name": "782",
         "rawType": "int64",
         "type": "integer"
        },
        {
         "name": "783",
         "rawType": "int64",
         "type": "integer"
        },
        {
         "name": "784",
         "rawType": "int64",
         "type": "integer"
        },
        {
         "name": "785",
         "rawType": "int64",
         "type": "integer"
        },
        {
         "name": "786",
         "rawType": "int64",
         "type": "integer"
        },
        {
         "name": "787",
         "rawType": "int64",
         "type": "integer"
        },
        {
         "name": "788",
         "rawType": "int64",
         "type": "integer"
        },
        {
         "name": "789",
         "rawType": "int64",
         "type": "integer"
        },
        {
         "name": "790",
         "rawType": "int64",
         "type": "integer"
        },
        {
         "name": "791",
         "rawType": "int64",
         "type": "integer"
        },
        {
         "name": "792",
         "rawType": "int64",
         "type": "integer"
        },
        {
         "name": "793",
         "rawType": "int64",
         "type": "integer"
        },
        {
         "name": "794",
         "rawType": "int64",
         "type": "integer"
        },
        {
         "name": "795",
         "rawType": "int64",
         "type": "integer"
        },
        {
         "name": "796",
         "rawType": "int64",
         "type": "integer"
        },
        {
         "name": "797",
         "rawType": "int64",
         "type": "integer"
        },
        {
         "name": "798",
         "rawType": "int64",
         "type": "integer"
        },
        {
         "name": "799",
         "rawType": "int64",
         "type": "integer"
        },
        {
         "name": "800",
         "rawType": "int64",
         "type": "integer"
        },
        {
         "name": "801",
         "rawType": "int64",
         "type": "integer"
        },
        {
         "name": "802",
         "rawType": "int64",
         "type": "integer"
        },
        {
         "name": "803",
         "rawType": "int64",
         "type": "integer"
        },
        {
         "name": "804",
         "rawType": "int64",
         "type": "integer"
        },
        {
         "name": "805",
         "rawType": "int64",
         "type": "integer"
        },
        {
         "name": "806",
         "rawType": "int64",
         "type": "integer"
        },
        {
         "name": "807",
         "rawType": "int64",
         "type": "integer"
        },
        {
         "name": "808",
         "rawType": "int64",
         "type": "integer"
        },
        {
         "name": "809",
         "rawType": "int64",
         "type": "integer"
        },
        {
         "name": "810",
         "rawType": "int64",
         "type": "integer"
        },
        {
         "name": "811",
         "rawType": "int64",
         "type": "integer"
        },
        {
         "name": "812",
         "rawType": "int64",
         "type": "integer"
        },
        {
         "name": "813",
         "rawType": "int64",
         "type": "integer"
        },
        {
         "name": "814",
         "rawType": "int64",
         "type": "integer"
        },
        {
         "name": "815",
         "rawType": "int64",
         "type": "integer"
        },
        {
         "name": "816",
         "rawType": "int64",
         "type": "integer"
        },
        {
         "name": "817",
         "rawType": "int64",
         "type": "integer"
        },
        {
         "name": "818",
         "rawType": "int64",
         "type": "integer"
        },
        {
         "name": "819",
         "rawType": "int64",
         "type": "integer"
        },
        {
         "name": "820",
         "rawType": "int64",
         "type": "integer"
        },
        {
         "name": "821",
         "rawType": "int64",
         "type": "integer"
        },
        {
         "name": "822",
         "rawType": "int64",
         "type": "integer"
        },
        {
         "name": "823",
         "rawType": "int64",
         "type": "integer"
        },
        {
         "name": "824",
         "rawType": "int64",
         "type": "integer"
        },
        {
         "name": "825",
         "rawType": "int64",
         "type": "integer"
        },
        {
         "name": "826",
         "rawType": "int64",
         "type": "integer"
        },
        {
         "name": "827",
         "rawType": "int64",
         "type": "integer"
        },
        {
         "name": "828",
         "rawType": "int64",
         "type": "integer"
        },
        {
         "name": "829",
         "rawType": "int64",
         "type": "integer"
        },
        {
         "name": "830",
         "rawType": "int64",
         "type": "integer"
        },
        {
         "name": "831",
         "rawType": "int64",
         "type": "integer"
        },
        {
         "name": "832",
         "rawType": "int64",
         "type": "integer"
        },
        {
         "name": "833",
         "rawType": "int64",
         "type": "integer"
        },
        {
         "name": "834",
         "rawType": "int64",
         "type": "integer"
        },
        {
         "name": "835",
         "rawType": "int64",
         "type": "integer"
        },
        {
         "name": "836",
         "rawType": "int64",
         "type": "integer"
        },
        {
         "name": "837",
         "rawType": "int64",
         "type": "integer"
        },
        {
         "name": "838",
         "rawType": "int64",
         "type": "integer"
        },
        {
         "name": "839",
         "rawType": "int64",
         "type": "integer"
        },
        {
         "name": "840",
         "rawType": "int64",
         "type": "integer"
        },
        {
         "name": "841",
         "rawType": "int64",
         "type": "integer"
        },
        {
         "name": "842",
         "rawType": "int64",
         "type": "integer"
        },
        {
         "name": "843",
         "rawType": "int64",
         "type": "integer"
        },
        {
         "name": "844",
         "rawType": "int64",
         "type": "integer"
        },
        {
         "name": "845",
         "rawType": "int64",
         "type": "integer"
        },
        {
         "name": "846",
         "rawType": "int64",
         "type": "integer"
        },
        {
         "name": "847",
         "rawType": "int64",
         "type": "integer"
        },
        {
         "name": "848",
         "rawType": "int64",
         "type": "integer"
        },
        {
         "name": "849",
         "rawType": "int64",
         "type": "integer"
        },
        {
         "name": "850",
         "rawType": "int64",
         "type": "integer"
        },
        {
         "name": "851",
         "rawType": "int64",
         "type": "integer"
        },
        {
         "name": "852",
         "rawType": "int64",
         "type": "integer"
        },
        {
         "name": "853",
         "rawType": "int64",
         "type": "integer"
        },
        {
         "name": "854",
         "rawType": "int64",
         "type": "integer"
        },
        {
         "name": "855",
         "rawType": "int64",
         "type": "integer"
        },
        {
         "name": "856",
         "rawType": "int64",
         "type": "integer"
        },
        {
         "name": "857",
         "rawType": "int64",
         "type": "integer"
        },
        {
         "name": "858",
         "rawType": "int64",
         "type": "integer"
        },
        {
         "name": "859",
         "rawType": "int64",
         "type": "integer"
        },
        {
         "name": "860",
         "rawType": "int64",
         "type": "integer"
        },
        {
         "name": "861",
         "rawType": "int64",
         "type": "integer"
        },
        {
         "name": "862",
         "rawType": "int64",
         "type": "integer"
        },
        {
         "name": "863",
         "rawType": "int64",
         "type": "integer"
        },
        {
         "name": "864",
         "rawType": "int64",
         "type": "integer"
        },
        {
         "name": "865",
         "rawType": "int64",
         "type": "integer"
        },
        {
         "name": "866",
         "rawType": "int64",
         "type": "integer"
        },
        {
         "name": "867",
         "rawType": "int64",
         "type": "integer"
        },
        {
         "name": "868",
         "rawType": "int64",
         "type": "integer"
        },
        {
         "name": "869",
         "rawType": "int64",
         "type": "integer"
        },
        {
         "name": "870",
         "rawType": "int64",
         "type": "integer"
        },
        {
         "name": "871",
         "rawType": "int64",
         "type": "integer"
        },
        {
         "name": "872",
         "rawType": "int64",
         "type": "integer"
        },
        {
         "name": "873",
         "rawType": "int64",
         "type": "integer"
        },
        {
         "name": "874",
         "rawType": "int64",
         "type": "integer"
        },
        {
         "name": "875",
         "rawType": "int64",
         "type": "integer"
        },
        {
         "name": "876",
         "rawType": "int64",
         "type": "integer"
        },
        {
         "name": "877",
         "rawType": "int64",
         "type": "integer"
        },
        {
         "name": "878",
         "rawType": "int64",
         "type": "integer"
        },
        {
         "name": "879",
         "rawType": "int64",
         "type": "integer"
        },
        {
         "name": "880",
         "rawType": "int64",
         "type": "integer"
        },
        {
         "name": "881",
         "rawType": "int64",
         "type": "integer"
        },
        {
         "name": "882",
         "rawType": "int64",
         "type": "integer"
        },
        {
         "name": "883",
         "rawType": "int64",
         "type": "integer"
        },
        {
         "name": "884",
         "rawType": "int64",
         "type": "integer"
        },
        {
         "name": "885",
         "rawType": "int64",
         "type": "integer"
        },
        {
         "name": "886",
         "rawType": "int64",
         "type": "integer"
        },
        {
         "name": "887",
         "rawType": "int64",
         "type": "integer"
        },
        {
         "name": "888",
         "rawType": "int64",
         "type": "integer"
        },
        {
         "name": "889",
         "rawType": "int64",
         "type": "integer"
        },
        {
         "name": "890",
         "rawType": "int64",
         "type": "integer"
        },
        {
         "name": "891",
         "rawType": "int64",
         "type": "integer"
        },
        {
         "name": "892",
         "rawType": "int64",
         "type": "integer"
        },
        {
         "name": "893",
         "rawType": "int64",
         "type": "integer"
        },
        {
         "name": "894",
         "rawType": "int64",
         "type": "integer"
        },
        {
         "name": "895",
         "rawType": "int64",
         "type": "integer"
        },
        {
         "name": "896",
         "rawType": "int64",
         "type": "integer"
        },
        {
         "name": "897",
         "rawType": "int64",
         "type": "integer"
        },
        {
         "name": "898",
         "rawType": "int64",
         "type": "integer"
        },
        {
         "name": "899",
         "rawType": "int64",
         "type": "integer"
        },
        {
         "name": "900",
         "rawType": "int64",
         "type": "integer"
        },
        {
         "name": "901",
         "rawType": "int64",
         "type": "integer"
        },
        {
         "name": "902",
         "rawType": "int64",
         "type": "integer"
        },
        {
         "name": "903",
         "rawType": "int64",
         "type": "integer"
        },
        {
         "name": "904",
         "rawType": "int64",
         "type": "integer"
        },
        {
         "name": "905",
         "rawType": "int64",
         "type": "integer"
        },
        {
         "name": "906",
         "rawType": "int64",
         "type": "integer"
        },
        {
         "name": "907",
         "rawType": "int64",
         "type": "integer"
        },
        {
         "name": "908",
         "rawType": "int64",
         "type": "integer"
        },
        {
         "name": "909",
         "rawType": "int64",
         "type": "integer"
        },
        {
         "name": "910",
         "rawType": "int64",
         "type": "integer"
        },
        {
         "name": "911",
         "rawType": "int64",
         "type": "integer"
        },
        {
         "name": "912",
         "rawType": "int64",
         "type": "integer"
        },
        {
         "name": "913",
         "rawType": "int64",
         "type": "integer"
        },
        {
         "name": "914",
         "rawType": "int64",
         "type": "integer"
        },
        {
         "name": "915",
         "rawType": "int64",
         "type": "integer"
        },
        {
         "name": "916",
         "rawType": "int64",
         "type": "integer"
        },
        {
         "name": "917",
         "rawType": "int64",
         "type": "integer"
        },
        {
         "name": "918",
         "rawType": "int64",
         "type": "integer"
        },
        {
         "name": "919",
         "rawType": "int64",
         "type": "integer"
        },
        {
         "name": "920",
         "rawType": "int64",
         "type": "integer"
        },
        {
         "name": "921",
         "rawType": "int64",
         "type": "integer"
        },
        {
         "name": "922",
         "rawType": "int64",
         "type": "integer"
        },
        {
         "name": "923",
         "rawType": "int64",
         "type": "integer"
        },
        {
         "name": "924",
         "rawType": "int64",
         "type": "integer"
        },
        {
         "name": "925",
         "rawType": "int64",
         "type": "integer"
        },
        {
         "name": "926",
         "rawType": "int64",
         "type": "integer"
        },
        {
         "name": "927",
         "rawType": "int64",
         "type": "integer"
        },
        {
         "name": "928",
         "rawType": "int64",
         "type": "integer"
        },
        {
         "name": "929",
         "rawType": "int64",
         "type": "integer"
        },
        {
         "name": "930",
         "rawType": "int64",
         "type": "integer"
        },
        {
         "name": "931",
         "rawType": "int64",
         "type": "integer"
        },
        {
         "name": "932",
         "rawType": "int64",
         "type": "integer"
        },
        {
         "name": "933",
         "rawType": "int64",
         "type": "integer"
        },
        {
         "name": "934",
         "rawType": "int64",
         "type": "integer"
        },
        {
         "name": "935",
         "rawType": "int64",
         "type": "integer"
        },
        {
         "name": "936",
         "rawType": "int64",
         "type": "integer"
        },
        {
         "name": "937",
         "rawType": "int64",
         "type": "integer"
        },
        {
         "name": "938",
         "rawType": "int64",
         "type": "integer"
        },
        {
         "name": "939",
         "rawType": "int64",
         "type": "integer"
        },
        {
         "name": "940",
         "rawType": "int64",
         "type": "integer"
        },
        {
         "name": "941",
         "rawType": "int64",
         "type": "integer"
        },
        {
         "name": "942",
         "rawType": "int64",
         "type": "integer"
        },
        {
         "name": "943",
         "rawType": "int64",
         "type": "integer"
        },
        {
         "name": "944",
         "rawType": "int64",
         "type": "integer"
        },
        {
         "name": "945",
         "rawType": "int64",
         "type": "integer"
        },
        {
         "name": "946",
         "rawType": "int64",
         "type": "integer"
        },
        {
         "name": "947",
         "rawType": "int64",
         "type": "integer"
        },
        {
         "name": "948",
         "rawType": "int64",
         "type": "integer"
        },
        {
         "name": "949",
         "rawType": "int64",
         "type": "integer"
        },
        {
         "name": "950",
         "rawType": "int64",
         "type": "integer"
        },
        {
         "name": "951",
         "rawType": "int64",
         "type": "integer"
        },
        {
         "name": "952",
         "rawType": "int64",
         "type": "integer"
        },
        {
         "name": "953",
         "rawType": "int64",
         "type": "integer"
        },
        {
         "name": "954",
         "rawType": "int64",
         "type": "integer"
        },
        {
         "name": "955",
         "rawType": "int64",
         "type": "integer"
        },
        {
         "name": "956",
         "rawType": "int64",
         "type": "integer"
        },
        {
         "name": "957",
         "rawType": "int64",
         "type": "integer"
        },
        {
         "name": "958",
         "rawType": "int64",
         "type": "integer"
        },
        {
         "name": "959",
         "rawType": "int64",
         "type": "integer"
        },
        {
         "name": "960",
         "rawType": "int64",
         "type": "integer"
        },
        {
         "name": "961",
         "rawType": "int64",
         "type": "integer"
        },
        {
         "name": "962",
         "rawType": "int64",
         "type": "integer"
        },
        {
         "name": "963",
         "rawType": "int64",
         "type": "integer"
        },
        {
         "name": "964",
         "rawType": "int64",
         "type": "integer"
        },
        {
         "name": "965",
         "rawType": "int64",
         "type": "integer"
        },
        {
         "name": "966",
         "rawType": "int64",
         "type": "integer"
        },
        {
         "name": "967",
         "rawType": "int64",
         "type": "integer"
        },
        {
         "name": "968",
         "rawType": "int64",
         "type": "integer"
        },
        {
         "name": "969",
         "rawType": "int64",
         "type": "integer"
        },
        {
         "name": "970",
         "rawType": "int64",
         "type": "integer"
        },
        {
         "name": "971",
         "rawType": "int64",
         "type": "integer"
        },
        {
         "name": "972",
         "rawType": "int64",
         "type": "integer"
        },
        {
         "name": "973",
         "rawType": "int64",
         "type": "integer"
        },
        {
         "name": "974",
         "rawType": "int64",
         "type": "integer"
        },
        {
         "name": "975",
         "rawType": "int64",
         "type": "integer"
        },
        {
         "name": "976",
         "rawType": "int64",
         "type": "integer"
        },
        {
         "name": "977",
         "rawType": "int64",
         "type": "integer"
        },
        {
         "name": "978",
         "rawType": "int64",
         "type": "integer"
        },
        {
         "name": "979",
         "rawType": "int64",
         "type": "integer"
        },
        {
         "name": "980",
         "rawType": "int64",
         "type": "integer"
        },
        {
         "name": "981",
         "rawType": "int64",
         "type": "integer"
        },
        {
         "name": "982",
         "rawType": "int64",
         "type": "integer"
        },
        {
         "name": "983",
         "rawType": "int64",
         "type": "integer"
        },
        {
         "name": "984",
         "rawType": "int64",
         "type": "integer"
        },
        {
         "name": "985",
         "rawType": "int64",
         "type": "integer"
        },
        {
         "name": "986",
         "rawType": "int64",
         "type": "integer"
        },
        {
         "name": "987",
         "rawType": "int64",
         "type": "integer"
        },
        {
         "name": "988",
         "rawType": "int64",
         "type": "integer"
        },
        {
         "name": "989",
         "rawType": "int64",
         "type": "integer"
        },
        {
         "name": "990",
         "rawType": "int64",
         "type": "integer"
        },
        {
         "name": "991",
         "rawType": "int64",
         "type": "integer"
        },
        {
         "name": "992",
         "rawType": "int64",
         "type": "integer"
        },
        {
         "name": "993",
         "rawType": "int64",
         "type": "integer"
        },
        {
         "name": "994",
         "rawType": "int64",
         "type": "integer"
        },
        {
         "name": "995",
         "rawType": "int64",
         "type": "integer"
        },
        {
         "name": "996",
         "rawType": "int64",
         "type": "integer"
        },
        {
         "name": "997",
         "rawType": "int64",
         "type": "integer"
        },
        {
         "name": "998",
         "rawType": "int64",
         "type": "integer"
        },
        {
         "name": "999",
         "rawType": "int64",
         "type": "integer"
        },
        {
         "name": "1000",
         "rawType": "int64",
         "type": "integer"
        },
        {
         "name": "1001",
         "rawType": "int64",
         "type": "integer"
        },
        {
         "name": "1002",
         "rawType": "int64",
         "type": "integer"
        },
        {
         "name": "1003",
         "rawType": "int64",
         "type": "integer"
        },
        {
         "name": "1004",
         "rawType": "int64",
         "type": "integer"
        },
        {
         "name": "1005",
         "rawType": "int64",
         "type": "integer"
        },
        {
         "name": "1006",
         "rawType": "int64",
         "type": "integer"
        },
        {
         "name": "1007",
         "rawType": "int64",
         "type": "integer"
        },
        {
         "name": "1008",
         "rawType": "int64",
         "type": "integer"
        },
        {
         "name": "1009",
         "rawType": "int64",
         "type": "integer"
        },
        {
         "name": "1010",
         "rawType": "int64",
         "type": "integer"
        },
        {
         "name": "1011",
         "rawType": "int64",
         "type": "integer"
        },
        {
         "name": "1012",
         "rawType": "int64",
         "type": "integer"
        },
        {
         "name": "1013",
         "rawType": "int64",
         "type": "integer"
        },
        {
         "name": "1014",
         "rawType": "int64",
         "type": "integer"
        },
        {
         "name": "1015",
         "rawType": "int64",
         "type": "integer"
        },
        {
         "name": "1016",
         "rawType": "int64",
         "type": "integer"
        },
        {
         "name": "1017",
         "rawType": "int64",
         "type": "integer"
        },
        {
         "name": "1018",
         "rawType": "int64",
         "type": "integer"
        },
        {
         "name": "1019",
         "rawType": "int64",
         "type": "integer"
        },
        {
         "name": "1020",
         "rawType": "int64",
         "type": "integer"
        },
        {
         "name": "1021",
         "rawType": "int64",
         "type": "integer"
        },
        {
         "name": "1022",
         "rawType": "int64",
         "type": "integer"
        },
        {
         "name": "1023",
         "rawType": "int64",
         "type": "integer"
        },
        {
         "name": "1024",
         "rawType": "int64",
         "type": "integer"
        },
        {
         "name": "1025",
         "rawType": "int64",
         "type": "integer"
        },
        {
         "name": "1026",
         "rawType": "int64",
         "type": "integer"
        },
        {
         "name": "1027",
         "rawType": "int64",
         "type": "integer"
        },
        {
         "name": "1028",
         "rawType": "int64",
         "type": "integer"
        },
        {
         "name": "1029",
         "rawType": "int64",
         "type": "integer"
        },
        {
         "name": "1030",
         "rawType": "int64",
         "type": "integer"
        },
        {
         "name": "1031",
         "rawType": "int64",
         "type": "integer"
        },
        {
         "name": "1032",
         "rawType": "int64",
         "type": "integer"
        },
        {
         "name": "1033",
         "rawType": "int64",
         "type": "integer"
        },
        {
         "name": "1034",
         "rawType": "int64",
         "type": "integer"
        },
        {
         "name": "1035",
         "rawType": "int64",
         "type": "integer"
        },
        {
         "name": "1036",
         "rawType": "int64",
         "type": "integer"
        },
        {
         "name": "1037",
         "rawType": "int64",
         "type": "integer"
        },
        {
         "name": "1038",
         "rawType": "int64",
         "type": "integer"
        },
        {
         "name": "1039",
         "rawType": "int64",
         "type": "integer"
        },
        {
         "name": "1040",
         "rawType": "int64",
         "type": "integer"
        },
        {
         "name": "1041",
         "rawType": "int64",
         "type": "integer"
        },
        {
         "name": "1042",
         "rawType": "int64",
         "type": "integer"
        },
        {
         "name": "1043",
         "rawType": "int64",
         "type": "integer"
        },
        {
         "name": "1044",
         "rawType": "int64",
         "type": "integer"
        },
        {
         "name": "1045",
         "rawType": "int64",
         "type": "integer"
        },
        {
         "name": "1046",
         "rawType": "int64",
         "type": "integer"
        },
        {
         "name": "1047",
         "rawType": "int64",
         "type": "integer"
        },
        {
         "name": "1048",
         "rawType": "int64",
         "type": "integer"
        },
        {
         "name": "1049",
         "rawType": "int64",
         "type": "integer"
        },
        {
         "name": "1050",
         "rawType": "int64",
         "type": "integer"
        },
        {
         "name": "1051",
         "rawType": "int64",
         "type": "integer"
        },
        {
         "name": "1052",
         "rawType": "int64",
         "type": "integer"
        },
        {
         "name": "1053",
         "rawType": "int64",
         "type": "integer"
        },
        {
         "name": "1054",
         "rawType": "int64",
         "type": "integer"
        },
        {
         "name": "1055",
         "rawType": "int64",
         "type": "integer"
        },
        {
         "name": "1056",
         "rawType": "int64",
         "type": "integer"
        },
        {
         "name": "1057",
         "rawType": "int64",
         "type": "integer"
        },
        {
         "name": "1058",
         "rawType": "int64",
         "type": "integer"
        },
        {
         "name": "1059",
         "rawType": "int64",
         "type": "integer"
        },
        {
         "name": "1060",
         "rawType": "int64",
         "type": "integer"
        },
        {
         "name": "1061",
         "rawType": "int64",
         "type": "integer"
        },
        {
         "name": "1062",
         "rawType": "int64",
         "type": "integer"
        },
        {
         "name": "1063",
         "rawType": "int64",
         "type": "integer"
        },
        {
         "name": "1064",
         "rawType": "int64",
         "type": "integer"
        },
        {
         "name": "1065",
         "rawType": "int64",
         "type": "integer"
        },
        {
         "name": "1066",
         "rawType": "int64",
         "type": "integer"
        },
        {
         "name": "1067",
         "rawType": "int64",
         "type": "integer"
        },
        {
         "name": "1068",
         "rawType": "int64",
         "type": "integer"
        },
        {
         "name": "1069",
         "rawType": "int64",
         "type": "integer"
        },
        {
         "name": "1070",
         "rawType": "int64",
         "type": "integer"
        },
        {
         "name": "1071",
         "rawType": "int64",
         "type": "integer"
        },
        {
         "name": "1072",
         "rawType": "int64",
         "type": "integer"
        },
        {
         "name": "1073",
         "rawType": "int64",
         "type": "integer"
        },
        {
         "name": "1074",
         "rawType": "int64",
         "type": "integer"
        },
        {
         "name": "1075",
         "rawType": "int64",
         "type": "integer"
        },
        {
         "name": "1076",
         "rawType": "int64",
         "type": "integer"
        },
        {
         "name": "1077",
         "rawType": "int64",
         "type": "integer"
        },
        {
         "name": "1078",
         "rawType": "int64",
         "type": "integer"
        },
        {
         "name": "1079",
         "rawType": "int64",
         "type": "integer"
        },
        {
         "name": "1080",
         "rawType": "int64",
         "type": "integer"
        },
        {
         "name": "1081",
         "rawType": "int64",
         "type": "integer"
        },
        {
         "name": "1082",
         "rawType": "int64",
         "type": "integer"
        },
        {
         "name": "1083",
         "rawType": "int64",
         "type": "integer"
        },
        {
         "name": "1084",
         "rawType": "int64",
         "type": "integer"
        },
        {
         "name": "1085",
         "rawType": "int64",
         "type": "integer"
        },
        {
         "name": "1086",
         "rawType": "int64",
         "type": "integer"
        },
        {
         "name": "1087",
         "rawType": "int64",
         "type": "integer"
        },
        {
         "name": "1088",
         "rawType": "int64",
         "type": "integer"
        },
        {
         "name": "1089",
         "rawType": "int64",
         "type": "integer"
        },
        {
         "name": "1090",
         "rawType": "int64",
         "type": "integer"
        },
        {
         "name": "1091",
         "rawType": "int64",
         "type": "integer"
        },
        {
         "name": "1092",
         "rawType": "int64",
         "type": "integer"
        },
        {
         "name": "1093",
         "rawType": "int64",
         "type": "integer"
        },
        {
         "name": "1094",
         "rawType": "int64",
         "type": "integer"
        },
        {
         "name": "1095",
         "rawType": "int64",
         "type": "integer"
        },
        {
         "name": "1096",
         "rawType": "int64",
         "type": "integer"
        },
        {
         "name": "1097",
         "rawType": "int64",
         "type": "integer"
        },
        {
         "name": "1098",
         "rawType": "int64",
         "type": "integer"
        },
        {
         "name": "1099",
         "rawType": "int64",
         "type": "integer"
        },
        {
         "name": "1100",
         "rawType": "int64",
         "type": "integer"
        },
        {
         "name": "1101",
         "rawType": "int64",
         "type": "integer"
        },
        {
         "name": "1102",
         "rawType": "int64",
         "type": "integer"
        },
        {
         "name": "1103",
         "rawType": "int64",
         "type": "integer"
        },
        {
         "name": "1104",
         "rawType": "int64",
         "type": "integer"
        },
        {
         "name": "1105",
         "rawType": "int64",
         "type": "integer"
        },
        {
         "name": "1106",
         "rawType": "int64",
         "type": "integer"
        },
        {
         "name": "1107",
         "rawType": "int64",
         "type": "integer"
        },
        {
         "name": "1108",
         "rawType": "int64",
         "type": "integer"
        },
        {
         "name": "1109",
         "rawType": "int64",
         "type": "integer"
        },
        {
         "name": "1110",
         "rawType": "int64",
         "type": "integer"
        },
        {
         "name": "1111",
         "rawType": "int64",
         "type": "integer"
        },
        {
         "name": "1112",
         "rawType": "int64",
         "type": "integer"
        },
        {
         "name": "1113",
         "rawType": "int64",
         "type": "integer"
        },
        {
         "name": "1114",
         "rawType": "int64",
         "type": "integer"
        },
        {
         "name": "1115",
         "rawType": "int64",
         "type": "integer"
        },
        {
         "name": "1116",
         "rawType": "int64",
         "type": "integer"
        },
        {
         "name": "1117",
         "rawType": "int64",
         "type": "integer"
        },
        {
         "name": "1118",
         "rawType": "int64",
         "type": "integer"
        },
        {
         "name": "1119",
         "rawType": "int64",
         "type": "integer"
        },
        {
         "name": "1120",
         "rawType": "int64",
         "type": "integer"
        },
        {
         "name": "1121",
         "rawType": "int64",
         "type": "integer"
        },
        {
         "name": "1122",
         "rawType": "int64",
         "type": "integer"
        },
        {
         "name": "1123",
         "rawType": "int64",
         "type": "integer"
        },
        {
         "name": "1124",
         "rawType": "int64",
         "type": "integer"
        },
        {
         "name": "1125",
         "rawType": "int64",
         "type": "integer"
        },
        {
         "name": "1126",
         "rawType": "int64",
         "type": "integer"
        },
        {
         "name": "1127",
         "rawType": "int64",
         "type": "integer"
        },
        {
         "name": "1128",
         "rawType": "int64",
         "type": "integer"
        },
        {
         "name": "1129",
         "rawType": "int64",
         "type": "integer"
        },
        {
         "name": "1130",
         "rawType": "int64",
         "type": "integer"
        },
        {
         "name": "1131",
         "rawType": "int64",
         "type": "integer"
        },
        {
         "name": "1132",
         "rawType": "int64",
         "type": "integer"
        },
        {
         "name": "1133",
         "rawType": "int64",
         "type": "integer"
        },
        {
         "name": "1134",
         "rawType": "int64",
         "type": "integer"
        },
        {
         "name": "1135",
         "rawType": "int64",
         "type": "integer"
        },
        {
         "name": "1136",
         "rawType": "int64",
         "type": "integer"
        },
        {
         "name": "1137",
         "rawType": "int64",
         "type": "integer"
        },
        {
         "name": "1138",
         "rawType": "int64",
         "type": "integer"
        },
        {
         "name": "1139",
         "rawType": "int64",
         "type": "integer"
        },
        {
         "name": "1140",
         "rawType": "int64",
         "type": "integer"
        },
        {
         "name": "1141",
         "rawType": "int64",
         "type": "integer"
        },
        {
         "name": "1142",
         "rawType": "int64",
         "type": "integer"
        },
        {
         "name": "1143",
         "rawType": "int64",
         "type": "integer"
        },
        {
         "name": "1144",
         "rawType": "int64",
         "type": "integer"
        },
        {
         "name": "1145",
         "rawType": "int64",
         "type": "integer"
        },
        {
         "name": "1146",
         "rawType": "int64",
         "type": "integer"
        },
        {
         "name": "1147",
         "rawType": "int64",
         "type": "integer"
        },
        {
         "name": "1148",
         "rawType": "int64",
         "type": "integer"
        },
        {
         "name": "1149",
         "rawType": "int64",
         "type": "integer"
        },
        {
         "name": "1150",
         "rawType": "int64",
         "type": "integer"
        },
        {
         "name": "1151",
         "rawType": "int64",
         "type": "integer"
        },
        {
         "name": "1152",
         "rawType": "int64",
         "type": "integer"
        },
        {
         "name": "1153",
         "rawType": "int64",
         "type": "integer"
        },
        {
         "name": "1154",
         "rawType": "int64",
         "type": "integer"
        },
        {
         "name": "1155",
         "rawType": "int64",
         "type": "integer"
        },
        {
         "name": "1156",
         "rawType": "int64",
         "type": "integer"
        },
        {
         "name": "1157",
         "rawType": "int64",
         "type": "integer"
        },
        {
         "name": "1158",
         "rawType": "int64",
         "type": "integer"
        },
        {
         "name": "1159",
         "rawType": "int64",
         "type": "integer"
        },
        {
         "name": "1160",
         "rawType": "int64",
         "type": "integer"
        },
        {
         "name": "1161",
         "rawType": "int64",
         "type": "integer"
        },
        {
         "name": "1162",
         "rawType": "int64",
         "type": "integer"
        },
        {
         "name": "1163",
         "rawType": "int64",
         "type": "integer"
        },
        {
         "name": "1164",
         "rawType": "int64",
         "type": "integer"
        },
        {
         "name": "1165",
         "rawType": "int64",
         "type": "integer"
        },
        {
         "name": "1166",
         "rawType": "int64",
         "type": "integer"
        },
        {
         "name": "1167",
         "rawType": "int64",
         "type": "integer"
        },
        {
         "name": "1168",
         "rawType": "int64",
         "type": "integer"
        },
        {
         "name": "1169",
         "rawType": "int64",
         "type": "integer"
        },
        {
         "name": "1170",
         "rawType": "int64",
         "type": "integer"
        },
        {
         "name": "1171",
         "rawType": "int64",
         "type": "integer"
        },
        {
         "name": "1172",
         "rawType": "int64",
         "type": "integer"
        },
        {
         "name": "1173",
         "rawType": "int64",
         "type": "integer"
        },
        {
         "name": "1174",
         "rawType": "int64",
         "type": "integer"
        },
        {
         "name": "1175",
         "rawType": "int64",
         "type": "integer"
        },
        {
         "name": "1176",
         "rawType": "int64",
         "type": "integer"
        },
        {
         "name": "1177",
         "rawType": "int64",
         "type": "integer"
        },
        {
         "name": "1178",
         "rawType": "int64",
         "type": "integer"
        },
        {
         "name": "1179",
         "rawType": "int64",
         "type": "integer"
        },
        {
         "name": "1180",
         "rawType": "int64",
         "type": "integer"
        },
        {
         "name": "1181",
         "rawType": "int64",
         "type": "integer"
        },
        {
         "name": "1182",
         "rawType": "int64",
         "type": "integer"
        },
        {
         "name": "1183",
         "rawType": "int64",
         "type": "integer"
        },
        {
         "name": "1184",
         "rawType": "int64",
         "type": "integer"
        },
        {
         "name": "1185",
         "rawType": "int64",
         "type": "integer"
        },
        {
         "name": "1186",
         "rawType": "int64",
         "type": "integer"
        },
        {
         "name": "1187",
         "rawType": "int64",
         "type": "integer"
        },
        {
         "name": "1188",
         "rawType": "int64",
         "type": "integer"
        },
        {
         "name": "1189",
         "rawType": "int64",
         "type": "integer"
        },
        {
         "name": "1190",
         "rawType": "int64",
         "type": "integer"
        },
        {
         "name": "1191",
         "rawType": "int64",
         "type": "integer"
        },
        {
         "name": "1192",
         "rawType": "int64",
         "type": "integer"
        },
        {
         "name": "1193",
         "rawType": "int64",
         "type": "integer"
        },
        {
         "name": "1194",
         "rawType": "int64",
         "type": "integer"
        },
        {
         "name": "1195",
         "rawType": "int64",
         "type": "integer"
        },
        {
         "name": "1196",
         "rawType": "int64",
         "type": "integer"
        },
        {
         "name": "1197",
         "rawType": "int64",
         "type": "integer"
        },
        {
         "name": "1198",
         "rawType": "int64",
         "type": "integer"
        },
        {
         "name": "1199",
         "rawType": "int64",
         "type": "integer"
        },
        {
         "name": "1200",
         "rawType": "int64",
         "type": "integer"
        },
        {
         "name": "1201",
         "rawType": "int64",
         "type": "integer"
        },
        {
         "name": "1202",
         "rawType": "int64",
         "type": "integer"
        },
        {
         "name": "1203",
         "rawType": "int64",
         "type": "integer"
        },
        {
         "name": "1204",
         "rawType": "int64",
         "type": "integer"
        },
        {
         "name": "1205",
         "rawType": "int64",
         "type": "integer"
        },
        {
         "name": "1206",
         "rawType": "int64",
         "type": "integer"
        },
        {
         "name": "1207",
         "rawType": "int64",
         "type": "integer"
        },
        {
         "name": "1208",
         "rawType": "int64",
         "type": "integer"
        },
        {
         "name": "1209",
         "rawType": "int64",
         "type": "integer"
        },
        {
         "name": "1210",
         "rawType": "int64",
         "type": "integer"
        },
        {
         "name": "1211",
         "rawType": "int64",
         "type": "integer"
        },
        {
         "name": "1212",
         "rawType": "int64",
         "type": "integer"
        },
        {
         "name": "1213",
         "rawType": "int64",
         "type": "integer"
        },
        {
         "name": "1214",
         "rawType": "int64",
         "type": "integer"
        },
        {
         "name": "1215",
         "rawType": "int64",
         "type": "integer"
        },
        {
         "name": "1216",
         "rawType": "int64",
         "type": "integer"
        },
        {
         "name": "1217",
         "rawType": "int64",
         "type": "integer"
        },
        {
         "name": "1218",
         "rawType": "int64",
         "type": "integer"
        },
        {
         "name": "1219",
         "rawType": "int64",
         "type": "integer"
        },
        {
         "name": "1220",
         "rawType": "int64",
         "type": "integer"
        },
        {
         "name": "1221",
         "rawType": "int64",
         "type": "integer"
        },
        {
         "name": "1222",
         "rawType": "int64",
         "type": "integer"
        },
        {
         "name": "1223",
         "rawType": "int64",
         "type": "integer"
        },
        {
         "name": "1224",
         "rawType": "int64",
         "type": "integer"
        },
        {
         "name": "1225",
         "rawType": "int64",
         "type": "integer"
        },
        {
         "name": "1226",
         "rawType": "int64",
         "type": "integer"
        },
        {
         "name": "1227",
         "rawType": "int64",
         "type": "integer"
        },
        {
         "name": "1228",
         "rawType": "int64",
         "type": "integer"
        },
        {
         "name": "1229",
         "rawType": "int64",
         "type": "integer"
        },
        {
         "name": "1230",
         "rawType": "int64",
         "type": "integer"
        },
        {
         "name": "1231",
         "rawType": "int64",
         "type": "integer"
        },
        {
         "name": "1232",
         "rawType": "int64",
         "type": "integer"
        },
        {
         "name": "1233",
         "rawType": "int64",
         "type": "integer"
        },
        {
         "name": "1234",
         "rawType": "int64",
         "type": "integer"
        },
        {
         "name": "1235",
         "rawType": "int64",
         "type": "integer"
        },
        {
         "name": "1236",
         "rawType": "int64",
         "type": "integer"
        },
        {
         "name": "1237",
         "rawType": "int64",
         "type": "integer"
        },
        {
         "name": "1238",
         "rawType": "int64",
         "type": "integer"
        },
        {
         "name": "1239",
         "rawType": "int64",
         "type": "integer"
        },
        {
         "name": "1240",
         "rawType": "int64",
         "type": "integer"
        },
        {
         "name": "1241",
         "rawType": "int64",
         "type": "integer"
        },
        {
         "name": "1242",
         "rawType": "int64",
         "type": "integer"
        },
        {
         "name": "1243",
         "rawType": "int64",
         "type": "integer"
        },
        {
         "name": "1244",
         "rawType": "int64",
         "type": "integer"
        },
        {
         "name": "1245",
         "rawType": "int64",
         "type": "integer"
        },
        {
         "name": "1246",
         "rawType": "int64",
         "type": "integer"
        },
        {
         "name": "1247",
         "rawType": "int64",
         "type": "integer"
        },
        {
         "name": "1248",
         "rawType": "int64",
         "type": "integer"
        },
        {
         "name": "1249",
         "rawType": "int64",
         "type": "integer"
        },
        {
         "name": "1250",
         "rawType": "int64",
         "type": "integer"
        },
        {
         "name": "1251",
         "rawType": "int64",
         "type": "integer"
        },
        {
         "name": "1252",
         "rawType": "int64",
         "type": "integer"
        },
        {
         "name": "1253",
         "rawType": "int64",
         "type": "integer"
        },
        {
         "name": "1254",
         "rawType": "int64",
         "type": "integer"
        },
        {
         "name": "1255",
         "rawType": "int64",
         "type": "integer"
        },
        {
         "name": "1256",
         "rawType": "int64",
         "type": "integer"
        },
        {
         "name": "1257",
         "rawType": "int64",
         "type": "integer"
        },
        {
         "name": "1258",
         "rawType": "int64",
         "type": "integer"
        },
        {
         "name": "1259",
         "rawType": "int64",
         "type": "integer"
        },
        {
         "name": "1260",
         "rawType": "int64",
         "type": "integer"
        },
        {
         "name": "1261",
         "rawType": "int64",
         "type": "integer"
        },
        {
         "name": "1262",
         "rawType": "int64",
         "type": "integer"
        },
        {
         "name": "1263",
         "rawType": "int64",
         "type": "integer"
        },
        {
         "name": "1264",
         "rawType": "int64",
         "type": "integer"
        },
        {
         "name": "1265",
         "rawType": "int64",
         "type": "integer"
        },
        {
         "name": "1266",
         "rawType": "int64",
         "type": "integer"
        },
        {
         "name": "1267",
         "rawType": "int64",
         "type": "integer"
        },
        {
         "name": "1268",
         "rawType": "int64",
         "type": "integer"
        },
        {
         "name": "1269",
         "rawType": "int64",
         "type": "integer"
        },
        {
         "name": "1270",
         "rawType": "int64",
         "type": "integer"
        },
        {
         "name": "1271",
         "rawType": "int64",
         "type": "integer"
        },
        {
         "name": "1272",
         "rawType": "int64",
         "type": "integer"
        },
        {
         "name": "1273",
         "rawType": "int64",
         "type": "integer"
        },
        {
         "name": "1274",
         "rawType": "int64",
         "type": "integer"
        },
        {
         "name": "1275",
         "rawType": "int64",
         "type": "integer"
        },
        {
         "name": "1276",
         "rawType": "int64",
         "type": "integer"
        },
        {
         "name": "1277",
         "rawType": "int64",
         "type": "integer"
        },
        {
         "name": "1278",
         "rawType": "int64",
         "type": "integer"
        },
        {
         "name": "1279",
         "rawType": "int64",
         "type": "integer"
        },
        {
         "name": "1280",
         "rawType": "int64",
         "type": "integer"
        },
        {
         "name": "1281",
         "rawType": "int64",
         "type": "integer"
        },
        {
         "name": "1282",
         "rawType": "int64",
         "type": "integer"
        },
        {
         "name": "1283",
         "rawType": "int64",
         "type": "integer"
        },
        {
         "name": "1284",
         "rawType": "int64",
         "type": "integer"
        },
        {
         "name": "1285",
         "rawType": "int64",
         "type": "integer"
        },
        {
         "name": "1286",
         "rawType": "int64",
         "type": "integer"
        },
        {
         "name": "1287",
         "rawType": "int64",
         "type": "integer"
        },
        {
         "name": "1288",
         "rawType": "int64",
         "type": "integer"
        },
        {
         "name": "1289",
         "rawType": "int64",
         "type": "integer"
        },
        {
         "name": "1290",
         "rawType": "int64",
         "type": "integer"
        },
        {
         "name": "1291",
         "rawType": "int64",
         "type": "integer"
        },
        {
         "name": "1292",
         "rawType": "int64",
         "type": "integer"
        },
        {
         "name": "1293",
         "rawType": "int64",
         "type": "integer"
        },
        {
         "name": "1294",
         "rawType": "int64",
         "type": "integer"
        },
        {
         "name": "1295",
         "rawType": "int64",
         "type": "integer"
        },
        {
         "name": "1296",
         "rawType": "int64",
         "type": "integer"
        },
        {
         "name": "1297",
         "rawType": "int64",
         "type": "integer"
        },
        {
         "name": "1298",
         "rawType": "int64",
         "type": "integer"
        },
        {
         "name": "1299",
         "rawType": "int64",
         "type": "integer"
        },
        {
         "name": "1300",
         "rawType": "int64",
         "type": "integer"
        },
        {
         "name": "1301",
         "rawType": "int64",
         "type": "integer"
        },
        {
         "name": "1302",
         "rawType": "int64",
         "type": "integer"
        },
        {
         "name": "1303",
         "rawType": "int64",
         "type": "integer"
        },
        {
         "name": "1304",
         "rawType": "int64",
         "type": "integer"
        },
        {
         "name": "1305",
         "rawType": "int64",
         "type": "integer"
        },
        {
         "name": "1306",
         "rawType": "int64",
         "type": "integer"
        },
        {
         "name": "1307",
         "rawType": "int64",
         "type": "integer"
        },
        {
         "name": "1308",
         "rawType": "int64",
         "type": "integer"
        },
        {
         "name": "1309",
         "rawType": "int64",
         "type": "integer"
        },
        {
         "name": "1310",
         "rawType": "int64",
         "type": "integer"
        },
        {
         "name": "1311",
         "rawType": "int64",
         "type": "integer"
        },
        {
         "name": "1312",
         "rawType": "int64",
         "type": "integer"
        },
        {
         "name": "1313",
         "rawType": "int64",
         "type": "integer"
        },
        {
         "name": "1314",
         "rawType": "int64",
         "type": "integer"
        },
        {
         "name": "1315",
         "rawType": "int64",
         "type": "integer"
        },
        {
         "name": "1316",
         "rawType": "int64",
         "type": "integer"
        },
        {
         "name": "1317",
         "rawType": "int64",
         "type": "integer"
        },
        {
         "name": "1318",
         "rawType": "int64",
         "type": "integer"
        },
        {
         "name": "1319",
         "rawType": "int64",
         "type": "integer"
        },
        {
         "name": "1320",
         "rawType": "int64",
         "type": "integer"
        },
        {
         "name": "1321",
         "rawType": "int64",
         "type": "integer"
        },
        {
         "name": "1322",
         "rawType": "int64",
         "type": "integer"
        },
        {
         "name": "1323",
         "rawType": "int64",
         "type": "integer"
        },
        {
         "name": "1324",
         "rawType": "int64",
         "type": "integer"
        },
        {
         "name": "1325",
         "rawType": "int64",
         "type": "integer"
        },
        {
         "name": "1326",
         "rawType": "int64",
         "type": "integer"
        },
        {
         "name": "1327",
         "rawType": "int64",
         "type": "integer"
        },
        {
         "name": "1328",
         "rawType": "int64",
         "type": "integer"
        },
        {
         "name": "1329",
         "rawType": "int64",
         "type": "integer"
        },
        {
         "name": "1330",
         "rawType": "int64",
         "type": "integer"
        },
        {
         "name": "1331",
         "rawType": "int64",
         "type": "integer"
        },
        {
         "name": "1332",
         "rawType": "int64",
         "type": "integer"
        },
        {
         "name": "1333",
         "rawType": "int64",
         "type": "integer"
        },
        {
         "name": "1334",
         "rawType": "int64",
         "type": "integer"
        },
        {
         "name": "1335",
         "rawType": "int64",
         "type": "integer"
        },
        {
         "name": "1336",
         "rawType": "int64",
         "type": "integer"
        },
        {
         "name": "1337",
         "rawType": "int64",
         "type": "integer"
        },
        {
         "name": "1338",
         "rawType": "int64",
         "type": "integer"
        },
        {
         "name": "1339",
         "rawType": "int64",
         "type": "integer"
        },
        {
         "name": "1340",
         "rawType": "int64",
         "type": "integer"
        },
        {
         "name": "1341",
         "rawType": "int64",
         "type": "integer"
        },
        {
         "name": "1342",
         "rawType": "int64",
         "type": "integer"
        },
        {
         "name": "1343",
         "rawType": "int64",
         "type": "integer"
        },
        {
         "name": "1344",
         "rawType": "int64",
         "type": "integer"
        },
        {
         "name": "1345",
         "rawType": "int64",
         "type": "integer"
        },
        {
         "name": "1346",
         "rawType": "int64",
         "type": "integer"
        },
        {
         "name": "1347",
         "rawType": "int64",
         "type": "integer"
        },
        {
         "name": "1348",
         "rawType": "int64",
         "type": "integer"
        },
        {
         "name": "1349",
         "rawType": "int64",
         "type": "integer"
        },
        {
         "name": "1350",
         "rawType": "int64",
         "type": "integer"
        },
        {
         "name": "1351",
         "rawType": "int64",
         "type": "integer"
        },
        {
         "name": "1352",
         "rawType": "int64",
         "type": "integer"
        },
        {
         "name": "1353",
         "rawType": "int64",
         "type": "integer"
        },
        {
         "name": "1354",
         "rawType": "int64",
         "type": "integer"
        },
        {
         "name": "1355",
         "rawType": "int64",
         "type": "integer"
        },
        {
         "name": "1356",
         "rawType": "int64",
         "type": "integer"
        },
        {
         "name": "1357",
         "rawType": "int64",
         "type": "integer"
        },
        {
         "name": "1358",
         "rawType": "int64",
         "type": "integer"
        },
        {
         "name": "1359",
         "rawType": "int64",
         "type": "integer"
        },
        {
         "name": "1360",
         "rawType": "int64",
         "type": "integer"
        },
        {
         "name": "1361",
         "rawType": "int64",
         "type": "integer"
        },
        {
         "name": "1362",
         "rawType": "int64",
         "type": "integer"
        },
        {
         "name": "1363",
         "rawType": "int64",
         "type": "integer"
        },
        {
         "name": "1364",
         "rawType": "int64",
         "type": "integer"
        },
        {
         "name": "1365",
         "rawType": "int64",
         "type": "integer"
        },
        {
         "name": "1366",
         "rawType": "int64",
         "type": "integer"
        },
        {
         "name": "1367",
         "rawType": "int64",
         "type": "integer"
        },
        {
         "name": "1368",
         "rawType": "int64",
         "type": "integer"
        },
        {
         "name": "1369",
         "rawType": "int64",
         "type": "integer"
        },
        {
         "name": "1370",
         "rawType": "int64",
         "type": "integer"
        },
        {
         "name": "1371",
         "rawType": "int64",
         "type": "integer"
        },
        {
         "name": "1372",
         "rawType": "int64",
         "type": "integer"
        },
        {
         "name": "1373",
         "rawType": "int64",
         "type": "integer"
        },
        {
         "name": "1374",
         "rawType": "int64",
         "type": "integer"
        },
        {
         "name": "1375",
         "rawType": "int64",
         "type": "integer"
        },
        {
         "name": "1376",
         "rawType": "int64",
         "type": "integer"
        },
        {
         "name": "1377",
         "rawType": "int64",
         "type": "integer"
        },
        {
         "name": "1378",
         "rawType": "int64",
         "type": "integer"
        },
        {
         "name": "1379",
         "rawType": "int64",
         "type": "integer"
        },
        {
         "name": "1380",
         "rawType": "int64",
         "type": "integer"
        },
        {
         "name": "1381",
         "rawType": "int64",
         "type": "integer"
        },
        {
         "name": "1382",
         "rawType": "int64",
         "type": "integer"
        },
        {
         "name": "1383",
         "rawType": "int64",
         "type": "integer"
        },
        {
         "name": "1384",
         "rawType": "int64",
         "type": "integer"
        },
        {
         "name": "1385",
         "rawType": "int64",
         "type": "integer"
        },
        {
         "name": "1386",
         "rawType": "int64",
         "type": "integer"
        },
        {
         "name": "1387",
         "rawType": "int64",
         "type": "integer"
        },
        {
         "name": "1388",
         "rawType": "int64",
         "type": "integer"
        },
        {
         "name": "1389",
         "rawType": "int64",
         "type": "integer"
        },
        {
         "name": "1390",
         "rawType": "int64",
         "type": "integer"
        },
        {
         "name": "1391",
         "rawType": "int64",
         "type": "integer"
        },
        {
         "name": "1392",
         "rawType": "int64",
         "type": "integer"
        },
        {
         "name": "1393",
         "rawType": "int64",
         "type": "integer"
        },
        {
         "name": "1394",
         "rawType": "int64",
         "type": "integer"
        },
        {
         "name": "1395",
         "rawType": "int64",
         "type": "integer"
        },
        {
         "name": "1396",
         "rawType": "int64",
         "type": "integer"
        },
        {
         "name": "1397",
         "rawType": "int64",
         "type": "integer"
        },
        {
         "name": "1398",
         "rawType": "int64",
         "type": "integer"
        },
        {
         "name": "1399",
         "rawType": "int64",
         "type": "integer"
        },
        {
         "name": "1400",
         "rawType": "int64",
         "type": "integer"
        },
        {
         "name": "1401",
         "rawType": "int64",
         "type": "integer"
        },
        {
         "name": "1402",
         "rawType": "int64",
         "type": "integer"
        },
        {
         "name": "1403",
         "rawType": "int64",
         "type": "integer"
        },
        {
         "name": "1404",
         "rawType": "int64",
         "type": "integer"
        },
        {
         "name": "1405",
         "rawType": "int64",
         "type": "integer"
        },
        {
         "name": "1406",
         "rawType": "int64",
         "type": "integer"
        },
        {
         "name": "1407",
         "rawType": "int64",
         "type": "integer"
        },
        {
         "name": "1408",
         "rawType": "int64",
         "type": "integer"
        },
        {
         "name": "1409",
         "rawType": "int64",
         "type": "integer"
        },
        {
         "name": "1410",
         "rawType": "int64",
         "type": "integer"
        },
        {
         "name": "1411",
         "rawType": "int64",
         "type": "integer"
        },
        {
         "name": "1412",
         "rawType": "int64",
         "type": "integer"
        },
        {
         "name": "1413",
         "rawType": "int64",
         "type": "integer"
        },
        {
         "name": "1414",
         "rawType": "int64",
         "type": "integer"
        },
        {
         "name": "1415",
         "rawType": "int64",
         "type": "integer"
        },
        {
         "name": "1416",
         "rawType": "int64",
         "type": "integer"
        },
        {
         "name": "1417",
         "rawType": "int64",
         "type": "integer"
        },
        {
         "name": "1418",
         "rawType": "int64",
         "type": "integer"
        },
        {
         "name": "1419",
         "rawType": "int64",
         "type": "integer"
        },
        {
         "name": "1420",
         "rawType": "int64",
         "type": "integer"
        },
        {
         "name": "1421",
         "rawType": "int64",
         "type": "integer"
        },
        {
         "name": "1422",
         "rawType": "int64",
         "type": "integer"
        },
        {
         "name": "1423",
         "rawType": "int64",
         "type": "integer"
        },
        {
         "name": "1424",
         "rawType": "int64",
         "type": "integer"
        },
        {
         "name": "1425",
         "rawType": "int64",
         "type": "integer"
        },
        {
         "name": "1426",
         "rawType": "int64",
         "type": "integer"
        },
        {
         "name": "1427",
         "rawType": "int64",
         "type": "integer"
        },
        {
         "name": "1428",
         "rawType": "int64",
         "type": "integer"
        },
        {
         "name": "1429",
         "rawType": "int64",
         "type": "integer"
        },
        {
         "name": "1430",
         "rawType": "int64",
         "type": "integer"
        },
        {
         "name": "1431",
         "rawType": "int64",
         "type": "integer"
        },
        {
         "name": "1432",
         "rawType": "int64",
         "type": "integer"
        },
        {
         "name": "1433",
         "rawType": "int64",
         "type": "integer"
        },
        {
         "name": "1434",
         "rawType": "int64",
         "type": "integer"
        },
        {
         "name": "1435",
         "rawType": "int64",
         "type": "integer"
        },
        {
         "name": "1436",
         "rawType": "int64",
         "type": "integer"
        },
        {
         "name": "1437",
         "rawType": "int64",
         "type": "integer"
        },
        {
         "name": "1438",
         "rawType": "int64",
         "type": "integer"
        },
        {
         "name": "1439",
         "rawType": "int64",
         "type": "integer"
        },
        {
         "name": "1440",
         "rawType": "int64",
         "type": "integer"
        },
        {
         "name": "1441",
         "rawType": "int64",
         "type": "integer"
        },
        {
         "name": "1442",
         "rawType": "int64",
         "type": "integer"
        },
        {
         "name": "1443",
         "rawType": "int64",
         "type": "integer"
        },
        {
         "name": "1444",
         "rawType": "int64",
         "type": "integer"
        },
        {
         "name": "1445",
         "rawType": "int64",
         "type": "integer"
        },
        {
         "name": "1446",
         "rawType": "int64",
         "type": "integer"
        },
        {
         "name": "1447",
         "rawType": "int64",
         "type": "integer"
        },
        {
         "name": "1448",
         "rawType": "int64",
         "type": "integer"
        },
        {
         "name": "1449",
         "rawType": "int64",
         "type": "integer"
        },
        {
         "name": "1450",
         "rawType": "int64",
         "type": "integer"
        },
        {
         "name": "1451",
         "rawType": "int64",
         "type": "integer"
        },
        {
         "name": "1452",
         "rawType": "int64",
         "type": "integer"
        },
        {
         "name": "1453",
         "rawType": "int64",
         "type": "integer"
        },
        {
         "name": "1454",
         "rawType": "int64",
         "type": "integer"
        },
        {
         "name": "1455",
         "rawType": "int64",
         "type": "integer"
        },
        {
         "name": "1456",
         "rawType": "int64",
         "type": "integer"
        },
        {
         "name": "1457",
         "rawType": "int64",
         "type": "integer"
        },
        {
         "name": "1458",
         "rawType": "int64",
         "type": "integer"
        },
        {
         "name": "1459",
         "rawType": "int64",
         "type": "integer"
        },
        {
         "name": "1460",
         "rawType": "int64",
         "type": "integer"
        },
        {
         "name": "1461",
         "rawType": "int64",
         "type": "integer"
        },
        {
         "name": "1462",
         "rawType": "int64",
         "type": "integer"
        },
        {
         "name": "1463",
         "rawType": "int64",
         "type": "integer"
        },
        {
         "name": "1464",
         "rawType": "int64",
         "type": "integer"
        },
        {
         "name": "1465",
         "rawType": "int64",
         "type": "integer"
        },
        {
         "name": "1466",
         "rawType": "int64",
         "type": "integer"
        },
        {
         "name": "1467",
         "rawType": "int64",
         "type": "integer"
        },
        {
         "name": "1468",
         "rawType": "int64",
         "type": "integer"
        },
        {
         "name": "1469",
         "rawType": "int64",
         "type": "integer"
        },
        {
         "name": "1470",
         "rawType": "int64",
         "type": "integer"
        },
        {
         "name": "1471",
         "rawType": "int64",
         "type": "integer"
        },
        {
         "name": "1472",
         "rawType": "int64",
         "type": "integer"
        },
        {
         "name": "1473",
         "rawType": "int64",
         "type": "integer"
        },
        {
         "name": "1474",
         "rawType": "int64",
         "type": "integer"
        },
        {
         "name": "1475",
         "rawType": "int64",
         "type": "integer"
        },
        {
         "name": "1476",
         "rawType": "int64",
         "type": "integer"
        },
        {
         "name": "1477",
         "rawType": "int64",
         "type": "integer"
        },
        {
         "name": "1478",
         "rawType": "int64",
         "type": "integer"
        },
        {
         "name": "1479",
         "rawType": "int64",
         "type": "integer"
        },
        {
         "name": "1480",
         "rawType": "int64",
         "type": "integer"
        },
        {
         "name": "1481",
         "rawType": "int64",
         "type": "integer"
        },
        {
         "name": "1482",
         "rawType": "int64",
         "type": "integer"
        },
        {
         "name": "1483",
         "rawType": "int64",
         "type": "integer"
        },
        {
         "name": "1484",
         "rawType": "int64",
         "type": "integer"
        },
        {
         "name": "1485",
         "rawType": "int64",
         "type": "integer"
        },
        {
         "name": "1486",
         "rawType": "int64",
         "type": "integer"
        },
        {
         "name": "1487",
         "rawType": "int64",
         "type": "integer"
        },
        {
         "name": "1488",
         "rawType": "int64",
         "type": "integer"
        },
        {
         "name": "1489",
         "rawType": "int64",
         "type": "integer"
        },
        {
         "name": "1490",
         "rawType": "int64",
         "type": "integer"
        },
        {
         "name": "1491",
         "rawType": "int64",
         "type": "integer"
        },
        {
         "name": "1492",
         "rawType": "int64",
         "type": "integer"
        },
        {
         "name": "1493",
         "rawType": "int64",
         "type": "integer"
        },
        {
         "name": "1494",
         "rawType": "int64",
         "type": "integer"
        },
        {
         "name": "1495",
         "rawType": "int64",
         "type": "integer"
        },
        {
         "name": "1496",
         "rawType": "int64",
         "type": "integer"
        },
        {
         "name": "1497",
         "rawType": "int64",
         "type": "integer"
        },
        {
         "name": "1498",
         "rawType": "int64",
         "type": "integer"
        },
        {
         "name": "1499",
         "rawType": "int64",
         "type": "integer"
        },
        {
         "name": "1500",
         "rawType": "int64",
         "type": "integer"
        },
        {
         "name": "1501",
         "rawType": "int64",
         "type": "integer"
        },
        {
         "name": "1502",
         "rawType": "int64",
         "type": "integer"
        },
        {
         "name": "1503",
         "rawType": "int64",
         "type": "integer"
        },
        {
         "name": "1504",
         "rawType": "int64",
         "type": "integer"
        },
        {
         "name": "1505",
         "rawType": "int64",
         "type": "integer"
        },
        {
         "name": "1506",
         "rawType": "int64",
         "type": "integer"
        },
        {
         "name": "1507",
         "rawType": "int64",
         "type": "integer"
        },
        {
         "name": "1508",
         "rawType": "int64",
         "type": "integer"
        },
        {
         "name": "1509",
         "rawType": "int64",
         "type": "integer"
        },
        {
         "name": "1510",
         "rawType": "int64",
         "type": "integer"
        },
        {
         "name": "1511",
         "rawType": "int64",
         "type": "integer"
        },
        {
         "name": "1512",
         "rawType": "int64",
         "type": "integer"
        },
        {
         "name": "1513",
         "rawType": "int64",
         "type": "integer"
        },
        {
         "name": "1514",
         "rawType": "int64",
         "type": "integer"
        },
        {
         "name": "1515",
         "rawType": "int64",
         "type": "integer"
        },
        {
         "name": "1516",
         "rawType": "int64",
         "type": "integer"
        },
        {
         "name": "1517",
         "rawType": "int64",
         "type": "integer"
        },
        {
         "name": "1518",
         "rawType": "int64",
         "type": "integer"
        },
        {
         "name": "1519",
         "rawType": "int64",
         "type": "integer"
        },
        {
         "name": "1520",
         "rawType": "int64",
         "type": "integer"
        },
        {
         "name": "1521",
         "rawType": "int64",
         "type": "integer"
        },
        {
         "name": "1522",
         "rawType": "int64",
         "type": "integer"
        },
        {
         "name": "1523",
         "rawType": "int64",
         "type": "integer"
        },
        {
         "name": "1524",
         "rawType": "int64",
         "type": "integer"
        },
        {
         "name": "1525",
         "rawType": "int64",
         "type": "integer"
        },
        {
         "name": "1526",
         "rawType": "int64",
         "type": "integer"
        },
        {
         "name": "1527",
         "rawType": "int64",
         "type": "integer"
        },
        {
         "name": "1528",
         "rawType": "int64",
         "type": "integer"
        },
        {
         "name": "1529",
         "rawType": "int64",
         "type": "integer"
        },
        {
         "name": "1530",
         "rawType": "int64",
         "type": "integer"
        },
        {
         "name": "1531",
         "rawType": "int64",
         "type": "integer"
        },
        {
         "name": "1532",
         "rawType": "int64",
         "type": "integer"
        },
        {
         "name": "1533",
         "rawType": "int64",
         "type": "integer"
        },
        {
         "name": "1534",
         "rawType": "int64",
         "type": "integer"
        },
        {
         "name": "1535",
         "rawType": "int64",
         "type": "integer"
        },
        {
         "name": "1536",
         "rawType": "int64",
         "type": "integer"
        },
        {
         "name": "1537",
         "rawType": "int64",
         "type": "integer"
        },
        {
         "name": "1538",
         "rawType": "int64",
         "type": "integer"
        },
        {
         "name": "1539",
         "rawType": "int64",
         "type": "integer"
        },
        {
         "name": "1540",
         "rawType": "int64",
         "type": "integer"
        },
        {
         "name": "1541",
         "rawType": "int64",
         "type": "integer"
        },
        {
         "name": "1542",
         "rawType": "int64",
         "type": "integer"
        },
        {
         "name": "1543",
         "rawType": "int64",
         "type": "integer"
        },
        {
         "name": "1544",
         "rawType": "int64",
         "type": "integer"
        },
        {
         "name": "1545",
         "rawType": "int64",
         "type": "integer"
        },
        {
         "name": "1546",
         "rawType": "int64",
         "type": "integer"
        },
        {
         "name": "1547",
         "rawType": "int64",
         "type": "integer"
        },
        {
         "name": "1548",
         "rawType": "int64",
         "type": "integer"
        },
        {
         "name": "1549",
         "rawType": "int64",
         "type": "integer"
        },
        {
         "name": "1550",
         "rawType": "int64",
         "type": "integer"
        },
        {
         "name": "1551",
         "rawType": "int64",
         "type": "integer"
        },
        {
         "name": "1552",
         "rawType": "int64",
         "type": "integer"
        },
        {
         "name": "1553",
         "rawType": "int64",
         "type": "integer"
        },
        {
         "name": "1554",
         "rawType": "int64",
         "type": "integer"
        },
        {
         "name": "1555",
         "rawType": "int64",
         "type": "integer"
        },
        {
         "name": "1556",
         "rawType": "int64",
         "type": "integer"
        },
        {
         "name": "1557",
         "rawType": "int64",
         "type": "integer"
        },
        {
         "name": "1558",
         "rawType": "int64",
         "type": "integer"
        },
        {
         "name": "1559",
         "rawType": "int64",
         "type": "integer"
        },
        {
         "name": "1560",
         "rawType": "int64",
         "type": "integer"
        },
        {
         "name": "1561",
         "rawType": "int64",
         "type": "integer"
        },
        {
         "name": "1562",
         "rawType": "int64",
         "type": "integer"
        },
        {
         "name": "1563",
         "rawType": "int64",
         "type": "integer"
        },
        {
         "name": "1564",
         "rawType": "int64",
         "type": "integer"
        },
        {
         "name": "1565",
         "rawType": "int64",
         "type": "integer"
        },
        {
         "name": "1566",
         "rawType": "int64",
         "type": "integer"
        },
        {
         "name": "1567",
         "rawType": "int64",
         "type": "integer"
        },
        {
         "name": "1568",
         "rawType": "int64",
         "type": "integer"
        },
        {
         "name": "1569",
         "rawType": "int64",
         "type": "integer"
        },
        {
         "name": "1570",
         "rawType": "int64",
         "type": "integer"
        },
        {
         "name": "1571",
         "rawType": "int64",
         "type": "integer"
        },
        {
         "name": "1572",
         "rawType": "int64",
         "type": "integer"
        },
        {
         "name": "1573",
         "rawType": "int64",
         "type": "integer"
        },
        {
         "name": "1574",
         "rawType": "int64",
         "type": "integer"
        },
        {
         "name": "1575",
         "rawType": "int64",
         "type": "integer"
        },
        {
         "name": "1576",
         "rawType": "int64",
         "type": "integer"
        },
        {
         "name": "1577",
         "rawType": "int64",
         "type": "integer"
        },
        {
         "name": "1578",
         "rawType": "int64",
         "type": "integer"
        },
        {
         "name": "1579",
         "rawType": "int64",
         "type": "integer"
        },
        {
         "name": "1580",
         "rawType": "int64",
         "type": "integer"
        },
        {
         "name": "1581",
         "rawType": "int64",
         "type": "integer"
        },
        {
         "name": "1582",
         "rawType": "int64",
         "type": "integer"
        },
        {
         "name": "1583",
         "rawType": "int64",
         "type": "integer"
        },
        {
         "name": "1584",
         "rawType": "int64",
         "type": "integer"
        },
        {
         "name": "1585",
         "rawType": "int64",
         "type": "integer"
        },
        {
         "name": "1586",
         "rawType": "int64",
         "type": "integer"
        },
        {
         "name": "1587",
         "rawType": "int64",
         "type": "integer"
        },
        {
         "name": "1588",
         "rawType": "int64",
         "type": "integer"
        },
        {
         "name": "1589",
         "rawType": "int64",
         "type": "integer"
        },
        {
         "name": "1590",
         "rawType": "int64",
         "type": "integer"
        },
        {
         "name": "1591",
         "rawType": "int64",
         "type": "integer"
        },
        {
         "name": "1592",
         "rawType": "int64",
         "type": "integer"
        },
        {
         "name": "1593",
         "rawType": "int64",
         "type": "integer"
        },
        {
         "name": "1594",
         "rawType": "int64",
         "type": "integer"
        },
        {
         "name": "1595",
         "rawType": "int64",
         "type": "integer"
        },
        {
         "name": "1596",
         "rawType": "int64",
         "type": "integer"
        },
        {
         "name": "1597",
         "rawType": "int64",
         "type": "integer"
        },
        {
         "name": "1598",
         "rawType": "int64",
         "type": "integer"
        },
        {
         "name": "1599",
         "rawType": "int64",
         "type": "integer"
        },
        {
         "name": "1600",
         "rawType": "int64",
         "type": "integer"
        },
        {
         "name": "1601",
         "rawType": "int64",
         "type": "integer"
        },
        {
         "name": "1602",
         "rawType": "int64",
         "type": "integer"
        },
        {
         "name": "1603",
         "rawType": "int64",
         "type": "integer"
        },
        {
         "name": "1604",
         "rawType": "int64",
         "type": "integer"
        },
        {
         "name": "1605",
         "rawType": "int64",
         "type": "integer"
        },
        {
         "name": "1606",
         "rawType": "int64",
         "type": "integer"
        },
        {
         "name": "1607",
         "rawType": "int64",
         "type": "integer"
        },
        {
         "name": "1608",
         "rawType": "int64",
         "type": "integer"
        },
        {
         "name": "1609",
         "rawType": "int64",
         "type": "integer"
        },
        {
         "name": "1610",
         "rawType": "int64",
         "type": "integer"
        },
        {
         "name": "1611",
         "rawType": "int64",
         "type": "integer"
        },
        {
         "name": "1612",
         "rawType": "int64",
         "type": "integer"
        },
        {
         "name": "1613",
         "rawType": "int64",
         "type": "integer"
        },
        {
         "name": "1614",
         "rawType": "int64",
         "type": "integer"
        },
        {
         "name": "1615",
         "rawType": "int64",
         "type": "integer"
        },
        {
         "name": "1616",
         "rawType": "int64",
         "type": "integer"
        },
        {
         "name": "1617",
         "rawType": "int64",
         "type": "integer"
        },
        {
         "name": "1618",
         "rawType": "int64",
         "type": "integer"
        },
        {
         "name": "1619",
         "rawType": "int64",
         "type": "integer"
        },
        {
         "name": "1620",
         "rawType": "int64",
         "type": "integer"
        },
        {
         "name": "1621",
         "rawType": "int64",
         "type": "integer"
        },
        {
         "name": "1622",
         "rawType": "int64",
         "type": "integer"
        },
        {
         "name": "1623",
         "rawType": "int64",
         "type": "integer"
        },
        {
         "name": "1624",
         "rawType": "int64",
         "type": "integer"
        },
        {
         "name": "1625",
         "rawType": "int64",
         "type": "integer"
        },
        {
         "name": "1626",
         "rawType": "int64",
         "type": "integer"
        },
        {
         "name": "1627",
         "rawType": "int64",
         "type": "integer"
        },
        {
         "name": "1628",
         "rawType": "int64",
         "type": "integer"
        },
        {
         "name": "1629",
         "rawType": "int64",
         "type": "integer"
        },
        {
         "name": "1630",
         "rawType": "int64",
         "type": "integer"
        },
        {
         "name": "1631",
         "rawType": "int64",
         "type": "integer"
        },
        {
         "name": "1632",
         "rawType": "int64",
         "type": "integer"
        },
        {
         "name": "1633",
         "rawType": "int64",
         "type": "integer"
        },
        {
         "name": "1634",
         "rawType": "int64",
         "type": "integer"
        },
        {
         "name": "1635",
         "rawType": "int64",
         "type": "integer"
        },
        {
         "name": "1636",
         "rawType": "int64",
         "type": "integer"
        },
        {
         "name": "1637",
         "rawType": "int64",
         "type": "integer"
        },
        {
         "name": "1638",
         "rawType": "int64",
         "type": "integer"
        },
        {
         "name": "1639",
         "rawType": "int64",
         "type": "integer"
        },
        {
         "name": "1640",
         "rawType": "int64",
         "type": "integer"
        },
        {
         "name": "1641",
         "rawType": "int64",
         "type": "integer"
        },
        {
         "name": "1642",
         "rawType": "int64",
         "type": "integer"
        },
        {
         "name": "1643",
         "rawType": "int64",
         "type": "integer"
        },
        {
         "name": "1644",
         "rawType": "int64",
         "type": "integer"
        },
        {
         "name": "1645",
         "rawType": "int64",
         "type": "integer"
        },
        {
         "name": "1646",
         "rawType": "int64",
         "type": "integer"
        },
        {
         "name": "1647",
         "rawType": "int64",
         "type": "integer"
        },
        {
         "name": "1648",
         "rawType": "int64",
         "type": "integer"
        },
        {
         "name": "1649",
         "rawType": "int64",
         "type": "integer"
        },
        {
         "name": "1650",
         "rawType": "int64",
         "type": "integer"
        },
        {
         "name": "1651",
         "rawType": "int64",
         "type": "integer"
        },
        {
         "name": "1652",
         "rawType": "int64",
         "type": "integer"
        },
        {
         "name": "1653",
         "rawType": "int64",
         "type": "integer"
        },
        {
         "name": "1654",
         "rawType": "int64",
         "type": "integer"
        },
        {
         "name": "1655",
         "rawType": "int64",
         "type": "integer"
        },
        {
         "name": "1656",
         "rawType": "int64",
         "type": "integer"
        },
        {
         "name": "1657",
         "rawType": "int64",
         "type": "integer"
        },
        {
         "name": "1658",
         "rawType": "int64",
         "type": "integer"
        },
        {
         "name": "1659",
         "rawType": "int64",
         "type": "integer"
        },
        {
         "name": "1660",
         "rawType": "int64",
         "type": "integer"
        },
        {
         "name": "1661",
         "rawType": "int64",
         "type": "integer"
        },
        {
         "name": "1662",
         "rawType": "int64",
         "type": "integer"
        },
        {
         "name": "1663",
         "rawType": "int64",
         "type": "integer"
        },
        {
         "name": "1664",
         "rawType": "int64",
         "type": "integer"
        },
        {
         "name": "1665",
         "rawType": "int64",
         "type": "integer"
        },
        {
         "name": "1666",
         "rawType": "int64",
         "type": "integer"
        },
        {
         "name": "1667",
         "rawType": "int64",
         "type": "integer"
        },
        {
         "name": "1668",
         "rawType": "int64",
         "type": "integer"
        },
        {
         "name": "1669",
         "rawType": "int64",
         "type": "integer"
        },
        {
         "name": "1670",
         "rawType": "int64",
         "type": "integer"
        },
        {
         "name": "1671",
         "rawType": "int64",
         "type": "integer"
        },
        {
         "name": "1672",
         "rawType": "int64",
         "type": "integer"
        },
        {
         "name": "1673",
         "rawType": "int64",
         "type": "integer"
        },
        {
         "name": "1674",
         "rawType": "int64",
         "type": "integer"
        },
        {
         "name": "1675",
         "rawType": "int64",
         "type": "integer"
        },
        {
         "name": "1676",
         "rawType": "int64",
         "type": "integer"
        },
        {
         "name": "1677",
         "rawType": "int64",
         "type": "integer"
        },
        {
         "name": "1678",
         "rawType": "int64",
         "type": "integer"
        },
        {
         "name": "1679",
         "rawType": "int64",
         "type": "integer"
        },
        {
         "name": "1680",
         "rawType": "int64",
         "type": "integer"
        },
        {
         "name": "1681",
         "rawType": "int64",
         "type": "integer"
        }
       ],
       "conversionMethod": "pd.DataFrame",
       "ref": "2c0212f7-4287-4e9d-be6a-46d5c8aa1149",
       "rows": [
        [
         "0",
         "1",
         "-1",
         "1",
         "-1",
         "-1",
         "1",
         "1",
         "-1",
         "1",
         "-1",
         "-1",
         "1",
         "1",
         "1",
         "1",
         "1",
         "-1",
         "1",
         "1",
         "1",
         "-1",
         "1",
         "1",
         "-1",
         "1",
         "-1",
         "-1",
         "1",
         "-1",
         "-1",
         "-1",
         "1",
         "1",
         "-1",
         "-1",
         "-1",
         "-1",
         "-1",
         "1",
         "-1",
         "-1",
         "1",
         "1",
         "1",
         "1",
         "1",
         "1",
         "1",
         "-1",
         "1",
         "1",
         "1",
         "-1",
         "-1",
         "1",
         "1",
         "1",
         "1",
         "1",
         "1",
         "1",
         "-1",
         "-1",
         "1",
         "1",
         "1",
         "-1",
         "1",
         "-1",
         "-1",
         "-1",
         "1",
         "-1",
         "-1",
         "1",
         "1",
         "1",
         "-1",
         "1",
         "1",
         "1",
         "1",
         "-1",
         "1",
         "-1",
         "1",
         "1",
         "1",
         "1",
         "1",
         "1",
         "-1",
         "1",
         "-1",
         "1",
         "1",
         "-1",
         "1",
         "-1",
         "1",
         "-1",
         "-1",
         "-1",
         "-1",
         "-1",
         "1",
         "1",
         "1",
         "1",
         "-1",
         "1",
         "-1",
         "1",
         "1",
         "1",
         "-1",
         "-1",
         "-1",
         "1",
         "-1",
         "1",
         "-1",
         "1",
         "1",
         "-1",
         "-1",
         "1",
         "1",
         "1",
         "-1",
         "-1",
         "1",
         "1",
         "1",
         "1",
         "-1",
         "1",
         "-1",
         "-1",
         "-1",
         "-1",
         "-1",
         "-1",
         "1",
         "-1",
         "1",
         "-1",
         "-1",
         "-1",
         "1",
         "1",
         "1",
         "-1",
         "1",
         "-1",
         "1",
         "1",
         "-1",
         "-1",
         "1",
         "1",
         "1",
         "1",
         "-1",
         "1",
         "1",
         "-1",
         "1",
         "1",
         "1",
         "1",
         "1",
         "1",
         "1",
         "1",
         "1",
         "1",
         "1",
         "-1",
         "-1",
         "1",
         "1",
         "1",
         "1",
         "1",
         "1",
         "1",
         "-1",
         "-1",
         "1",
         "1",
         "1",
         "1",
         "1",
         "1",
         "1",
         "1",
         "1",
         "1",
         "-1",
         "-1",
         "1",
         "1",
         "1",
         "-1",
         "1",
         "1",
         "1",
         "1",
         "1",
         "-1",
         "1",
         "-1",
         "1",
         "-1",
         "1",
         "-1",
         "-1",
         "-1",
         "-1",
         "1",
         "1",
         "1",
         "1",
         "-1",
         "-1",
         "1",
         "1",
         "1",
         "1",
         "-1",
         "-1",
         "-1",
         "1",
         "1",
         "1",
         "-1",
         "1",
         "1",
         "-1",
         "1",
         "1",
         "-1",
         "-1",
         "-1",
         "1",
         "-1",
         "1",
         "1",
         "1",
         "1",
         "-1",
         "1",
         "-1",
         "-1",
         "1",
         "1",
         "1",
         "-1",
         "-1",
         "-1",
         "-1",
         "-1",
         "-1",
         "1",
         "-1",
         "1",
         "1",
         "1",
         "1",
         "-1",
         "-1",
         "0",
         "0",
         "0",
         "0",
         "0",
         "0",
         "0",
         "0",
         "0",
         "0",
         "0",
         "0",
         "0",
         "0",
         "0",
         "0",
         "0",
         "0",
         "0",
         "0",
         "0",
         "0",
         "0",
         "0",
         "0",
         "0",
         "0",
         "0",
         "0",
         "0",
         "0",
         "0",
         "0",
         "0",
         "0",
         "0",
         "0",
         "0",
         "0",
         "0",
         "0",
         "0",
         "0",
         "0",
         "0",
         "0",
         "0",
         "0",
         "0",
         "0",
         "0",
         "0",
         "0",
         "0",
         "0",
         "0",
         "0",
         "0",
         "0",
         "0",
         "0",
         "0",
         "0",
         "0",
         "0",
         "0",
         "0",
         "0",
         "0",
         "0",
         "0",
         "0",
         "0",
         "0",
         "0",
         "0",
         "0",
         "0",
         "0",
         "0",
         "0",
         "0",
         "0",
         "0",
         "0",
         "0",
         "0",
         "0",
         "0",
         "0",
         "0",
         "0",
         "0",
         "0",
         "0",
         "0",
         "0",
         "0",
         "0",
         "0",
         "0",
         "0",
         "0",
         "0",
         "0",
         "0",
         "0",
         "0",
         "0",
         "0",
         "0",
         "0",
         "0",
         "0",
         "0",
         "0",
         "0",
         "0",
         "0",
         "0",
         "0",
         "0",
         "0",
         "0",
         "0",
         "0",
         "0",
         "0",
         "0",
         "0",
         "0",
         "0",
         "0",
         "0",
         "0",
         "0",
         "0",
         "0",
         "0",
         "0",
         "0",
         "0",
         "0",
         "0",
         "0",
         "0",
         "0",
         "0",
         "0",
         "0",
         "0",
         "0",
         "0",
         "0",
         "0",
         "0",
         "0",
         "0",
         "0",
         "0",
         "0",
         "0",
         "0",
         "0",
         "0",
         "0",
         "0",
         "0",
         "0",
         "0",
         "0",
         "0",
         "0",
         "0",
         "0",
         "0",
         "0",
         "0",
         "0",
         "0",
         "0",
         "0",
         "0",
         "0",
         "0",
         "0",
         "0",
         "0",
         "0",
         "0",
         "0",
         "0",
         "0",
         "0",
         "0",
         "0",
         "0",
         "0",
         "0",
         "0",
         "0",
         "0",
         "0",
         "0",
         "0",
         "0",
         "0",
         "0",
         "0",
         "0",
         "0",
         "0",
         "0",
         "0",
         "0",
         "0",
         "0",
         "0",
         "0",
         "0",
         "0",
         "0",
         "0",
         "0",
         "0",
         "0",
         "0",
         "0",
         "0",
         "0",
         "0",
         "0",
         "0",
         "0",
         "0",
         "0",
         "0",
         "0",
         "0",
         "0",
         "0",
         "0",
         "0",
         "0",
         "0",
         "0",
         "0",
         "0",
         "0",
         "0",
         "0",
         "0",
         "0",
         "0",
         "0",
         "0",
         "0",
         "0",
         "0",
         "0",
         "0",
         "0",
         "0",
         "0",
         "0",
         "0",
         "0",
         "0",
         "0",
         "0",
         "0",
         "0",
         "0",
         "0",
         "0",
         "0",
         "0",
         "0",
         "0",
         "0",
         "0",
         "0",
         "0",
         "0",
         "0",
         "0",
         "0",
         "0",
         "0",
         "0",
         "0",
         "0",
         "0",
         "0",
         "0",
         "0",
         "0",
         "0",
         "0",
         "0",
         "0",
         "0",
         "0",
         "0",
         "0",
         "0",
         "0",
         "0",
         "0",
         "0",
         "0",
         "0",
         "0",
         "0",
         "0",
         "0",
         "0",
         "0",
         "0",
         "0",
         "0",
         "0",
         "0",
         "0",
         "0",
         "0",
         "0",
         "0",
         "0",
         "0",
         "0",
         "0",
         "0",
         "0",
         "0",
         "0",
         "0",
         "0",
         "0",
         "0",
         "0",
         "0",
         "0",
         "0",
         "0",
         "0",
         "0",
         "0",
         "0",
         "0",
         "0",
         "0",
         "0",
         "0",
         "0",
         "0",
         "0",
         "0",
         "0",
         "0",
         "0",
         "0",
         "0",
         "0",
         "0",
         "0",
         "0",
         "0",
         "0",
         "0",
         "0",
         "0",
         "0",
         "0",
         "0",
         "0",
         "0",
         "0",
         "0",
         "0",
         "0",
         "0",
         "0",
         "0",
         "0",
         "0",
         "0",
         "0",
         "0",
         "0",
         "0",
         "0",
         "0",
         "0",
         "0",
         "0",
         "0",
         "0",
         "0",
         "0",
         "0",
         "0",
         "0",
         "0",
         "0",
         "0",
         "0",
         "0",
         "0",
         "0",
         "0",
         "0",
         "0",
         "0",
         "0",
         "0",
         "0",
         "0",
         "0",
         "0",
         "0",
         "0",
         "0",
         "0",
         "0",
         "0",
         "0",
         "0",
         "0",
         "0",
         "0",
         "0",
         "0",
         "0",
         "0",
         "0",
         "0",
         "0",
         "0",
         "0",
         "0",
         "0",
         "0",
         "0",
         "0",
         "0",
         "0",
         "0",
         "0",
         "0",
         "0",
         "0",
         "0",
         "0",
         "0",
         "0",
         "0",
         "0",
         "0",
         "0",
         "0",
         "0",
         "0",
         "0",
         "0",
         "0",
         "0",
         "0",
         "0",
         "0",
         "0",
         "0",
         "0",
         "0",
         "0",
         "0",
         "0",
         "0",
         "0",
         "0",
         "0",
         "0",
         "0",
         "0",
         "0",
         "0",
         "0",
         "0",
         "0",
         "0",
         "0",
         "0",
         "0",
         "0",
         "0",
         "0",
         "0",
         "0",
         "0",
         "0",
         "0",
         "0",
         "0",
         "0",
         "0",
         "0",
         "0",
         "0",
         "0",
         "0",
         "0",
         "0",
         "0",
         "0",
         "0",
         "0",
         "0",
         "0",
         "0",
         "0",
         "0",
         "0",
         "0",
         "0",
         "0",
         "0",
         "0",
         "0",
         "0",
         "0",
         "0",
         "0",
         "0",
         "0",
         "0",
         "0",
         "0",
         "0",
         "0",
         "0",
         "0",
         "0",
         "0",
         "0",
         "0",
         "0",
         "0",
         "0",
         "0",
         "0",
         "0",
         "0",
         "0",
         "0",
         "0",
         "0",
         "0",
         "0",
         "0",
         "0",
         "0",
         "0",
         "0",
         "0",
         "0",
         "0",
         "0",
         "0",
         "0",
         "0",
         "0",
         "0",
         "0",
         "0",
         "0",
         "0",
         "0",
         "0",
         "0",
         "0",
         "0",
         "0",
         "0",
         "0",
         "0",
         "0",
         "0",
         "0",
         "0",
         "0",
         "0",
         "0",
         "0",
         "0",
         "0",
         "0",
         "0",
         "0",
         "0",
         "0",
         "0",
         "0",
         "0",
         "0",
         "0",
         "0",
         "0",
         "0",
         "0",
         "0",
         "0",
         "0",
         "0",
         "0",
         "0",
         "0",
         "0",
         "0",
         "0",
         "0",
         "0",
         "0",
         "0",
         "0",
         "0",
         "0",
         "0",
         "0",
         "0",
         "0",
         "0",
         "0",
         "0",
         "0",
         "0",
         "0",
         "0",
         "0",
         "0",
         "0",
         "0",
         "0",
         "0",
         "0",
         "0",
         "0",
         "0",
         "0",
         "0",
         "0",
         "0",
         "0",
         "0",
         "0",
         "0",
         "0",
         "0",
         "0",
         "0",
         "0",
         "0",
         "0",
         "0",
         "0",
         "0",
         "0",
         "0",
         "0",
         "0",
         "0",
         "0",
         "0",
         "0",
         "0",
         "0",
         "0",
         "0",
         "0",
         "0",
         "0",
         "0",
         "0",
         "0",
         "0",
         "0",
         "0",
         "0",
         "0",
         "0",
         "0",
         "0",
         "0",
         "0",
         "0",
         "0",
         "0",
         "0",
         "0",
         "0",
         "0",
         "0",
         "0",
         "0",
         "0",
         "0",
         "0",
         "0",
         "0",
         "0",
         "0",
         "0",
         "0",
         "0",
         "0",
         "0",
         "0",
         "0",
         "0",
         "0",
         "0",
         "0",
         "0",
         "0",
         "0",
         "0",
         "0",
         "0",
         "0",
         "0",
         "0",
         "0",
         "0",
         "0",
         "0",
         "0",
         "0",
         "0",
         "0",
         "0",
         "0",
         "0",
         "0",
         "0",
         "0",
         "0",
         "0",
         "0",
         "0",
         "0",
         "0",
         "0",
         "0",
         "0",
         "0",
         "0",
         "0",
         "0",
         "0",
         "0",
         "0",
         "0",
         "0",
         "0",
         "0",
         "0",
         "0",
         "0",
         "0",
         "0",
         "0",
         "0",
         "0",
         "0",
         "0",
         "0",
         "0",
         "0",
         "0",
         "0",
         "0",
         "0",
         "0",
         "0",
         "0",
         "0",
         "0",
         "0",
         "0",
         "0",
         "0",
         "0",
         "0",
         "0",
         "0",
         "0",
         "0",
         "0",
         "0",
         "0",
         "0",
         "0",
         "0",
         "0",
         "0",
         "0",
         "0",
         "0",
         "0",
         "0",
         "0",
         "0",
         "0",
         "0",
         "0",
         "0",
         "0",
         "0",
         "0",
         "0",
         "0",
         "0",
         "0",
         "0",
         "0",
         "0",
         "0",
         "0",
         "0",
         "0",
         "0",
         "0",
         "0",
         "0",
         "0",
         "0",
         "0",
         "0",
         "0",
         "0",
         "0",
         "0",
         "0",
         "0",
         "0",
         "0",
         "0",
         "0",
         "0",
         "0",
         "0",
         "0",
         "0",
         "0",
         "0",
         "0",
         "0",
         "0",
         "0",
         "0",
         "0",
         "0",
         "0",
         "0",
         "0",
         "0",
         "0",
         "0",
         "0",
         "0",
         "0",
         "0",
         "0",
         "0",
         "0",
         "0",
         "0",
         "0",
         "0",
         "0",
         "0",
         "0",
         "0",
         "0",
         "0",
         "0",
         "0",
         "0",
         "0",
         "0",
         "0",
         "0",
         "0",
         "0",
         "0",
         "0",
         "0",
         "0",
         "0",
         "0",
         "0",
         "0",
         "0",
         "0",
         "0",
         "0",
         "0",
         "0",
         "0",
         "0",
         "0",
         "0",
         "0",
         "0",
         "0",
         "0",
         "0",
         "0",
         "0",
         "0",
         "0",
         "0",
         "0",
         "0",
         "0",
         "0",
         "0",
         "0",
         "0",
         "0",
         "0",
         "0",
         "0",
         "0",
         "0",
         "0",
         "0",
         "0",
         "0",
         "0",
         "0",
         "0",
         "0",
         "0",
         "0",
         "0",
         "0",
         "0",
         "0",
         "0",
         "0",
         "0",
         "0",
         "0",
         "0",
         "0",
         "0",
         "0",
         "0",
         "0",
         "0",
         "0",
         "0",
         "0",
         "0",
         "0",
         "0",
         "0",
         "0",
         "0",
         "0",
         "0",
         "0",
         "0",
         "0",
         "0",
         "0",
         "0",
         "0",
         "0",
         "0",
         "0",
         "0",
         "0",
         "0",
         "0",
         "0",
         "0",
         "0",
         "0",
         "0",
         "0",
         "0",
         "0",
         "0",
         "0",
         "0",
         "0",
         "0",
         "0",
         "0",
         "0",
         "0",
         "0",
         "0",
         "0",
         "0",
         "0",
         "0",
         "0",
         "0",
         "0",
         "0",
         "0",
         "0",
         "0",
         "0",
         "0",
         "0",
         "0",
         "0",
         "0",
         "0",
         "0",
         "0",
         "0",
         "0",
         "0",
         "0",
         "0",
         "0",
         "0",
         "0",
         "0",
         "0",
         "0",
         "0",
         "0",
         "0",
         "0",
         "0",
         "0",
         "0",
         "0",
         "0",
         "0",
         "0",
         "0",
         "0",
         "0",
         "0",
         "0",
         "0",
         "0",
         "0",
         "0",
         "0",
         "0",
         "0",
         "0",
         "0",
         "0",
         "0",
         "0",
         "0",
         "0",
         "0",
         "0",
         "0",
         "0",
         "0",
         "0",
         "0",
         "0",
         "0",
         "0",
         "0",
         "0",
         "0",
         "0",
         "0",
         "0",
         "0",
         "0",
         "0",
         "0",
         "0",
         "0",
         "0",
         "0",
         "0",
         "0",
         "0",
         "0",
         "0",
         "0",
         "0",
         "0",
         "0",
         "0",
         "0",
         "0",
         "0",
         "0",
         "0",
         "0",
         "0",
         "0",
         "0",
         "0",
         "0",
         "0",
         "0",
         "0",
         "0",
         "0",
         "0",
         "0",
         "0",
         "0",
         "0",
         "0",
         "0",
         "0",
         "0",
         "0",
         "0",
         "0",
         "0",
         "0",
         "0",
         "0",
         "0",
         "0",
         "0",
         "0",
         "0",
         "0",
         "0",
         "0",
         "0",
         "0",
         "0",
         "0",
         "0",
         "0",
         "0",
         "0",
         "0",
         "0",
         "0",
         "0",
         "0",
         "0",
         "0",
         "0",
         "0",
         "0",
         "0",
         "0",
         "0",
         "0",
         "0",
         "0",
         "0",
         "0",
         "0",
         "0",
         "0",
         "0",
         "0",
         "0",
         "0",
         "0",
         "0",
         "0",
         "0",
         "0",
         "0",
         "0",
         "0",
         "0",
         "0",
         "0",
         "0",
         "0",
         "0",
         "0",
         "0",
         "0",
         "0",
         "0",
         "0",
         "0",
         "0",
         "0",
         "0",
         "0",
         "0",
         "0",
         "0",
         "0",
         "0",
         "0",
         "0",
         "0",
         "0",
         "0",
         "0",
         "0",
         "0",
         "0",
         "0",
         "0",
         "0",
         "0",
         "0",
         "0",
         "0",
         "0",
         "0",
         "0",
         "0",
         "0",
         "0",
         "0",
         "0",
         "0",
         "0",
         "0",
         "0",
         "0",
         "0",
         "0",
         "0",
         "0",
         "0",
         "0",
         "0",
         "0",
         "0",
         "0",
         "0",
         "0",
         "0",
         "0",
         "0",
         "0",
         "0",
         "0",
         "0",
         "0",
         "0",
         "0",
         "0",
         "0",
         "0",
         "0",
         "0",
         "0",
         "0",
         "0",
         "0",
         "0",
         "0",
         "0",
         "0",
         "0",
         "0",
         "0",
         "0",
         "0",
         "0",
         "0",
         "0",
         "0",
         "0",
         "0",
         "0",
         "0",
         "0",
         "0",
         "0",
         "0",
         "0",
         "0",
         "0",
         "0",
         "0",
         "0",
         "0",
         "0",
         "0",
         "0",
         "0",
         "0",
         "0",
         "0",
         "0",
         "0",
         "0",
         "0",
         "0",
         "0",
         "0",
         "0",
         "0",
         "0",
         "0",
         "0",
         "0",
         "0",
         "0",
         "0",
         "0",
         "0",
         "0",
         "0",
         "0",
         "0",
         "0",
         "0",
         "0",
         "0",
         "0",
         "0",
         "0",
         "0",
         "0",
         "0",
         "0",
         "0",
         "0",
         "0",
         "0",
         "0",
         "0",
         "0",
         "0",
         "0",
         "0",
         "0",
         "0",
         "0",
         "0",
         "0",
         "0",
         "0",
         "0",
         "0",
         "0",
         "0",
         "0",
         "0",
         "0",
         "0",
         "0",
         "0",
         "0",
         "0",
         "0",
         "0",
         "0",
         "0",
         "0",
         "0",
         "0",
         "0",
         "0",
         "0",
         "0",
         "0",
         "0",
         "0",
         "0",
         "0",
         "0",
         "0",
         "0",
         "0",
         "0",
         "0",
         "0",
         "0",
         "0",
         "0",
         "0",
         "0",
         "0",
         "0",
         "0",
         "0",
         "0",
         "0",
         "0",
         "0",
         "0",
         "0",
         "0",
         "0",
         "0",
         "0",
         "0",
         "0",
         "0",
         "0",
         "0",
         "0",
         "0",
         "0",
         "0"
        ],
        [
         "1",
         "1",
         "0",
         "0",
         "0",
         "0",
         "0",
         "0",
         "0",
         "0",
         "-1",
         "0",
         "0",
         "1",
         "1",
         "0",
         "0",
         "0",
         "0",
         "-1",
         "0",
         "0",
         "0",
         "0",
         "0",
         "1",
         "0",
         "0",
         "0",
         "0",
         "0",
         "0",
         "0",
         "0",
         "0",
         "0",
         "0",
         "0",
         "0",
         "0",
         "0",
         "0",
         "0",
         "0",
         "0",
         "0",
         "0",
         "0",
         "0",
         "0",
         "1",
         "0",
         "0",
         "0",
         "0",
         "0",
         "0",
         "0",
         "0",
         "0",
         "0",
         "0",
         "0",
         "0",
         "0",
         "0",
         "0",
         "0",
         "0",
         "0",
         "0",
         "0",
         "0",
         "0",
         "0",
         "0",
         "0",
         "0",
         "0",
         "0",
         "0",
         "0",
         "0",
         "0",
         "0",
         "0",
         "0",
         "0",
         "0",
         "0",
         "0",
         "0",
         "0",
         "0",
         "0",
         "0",
         "0",
         "0",
         "0",
         "0",
         "1",
         "0",
         "0",
         "0",
         "0",
         "0",
         "0",
         "0",
         "0",
         "0",
         "0",
         "1",
         "0",
         "0",
         "0",
         "0",
         "0",
         "0",
         "0",
         "0",
         "0",
         "0",
         "0",
         "0",
         "0",
         "0",
         "0",
         "1",
         "0",
         "0",
         "0",
         "0",
         "0",
         "0",
         "0",
         "0",
         "0",
         "0",
         "0",
         "0",
         "0",
         "0",
         "0",
         "0",
         "0",
         "0",
         "0",
         "0",
         "0",
         "0",
         "0",
         "0",
         "0",
         "0",
         "0",
         "0",
         "0",
         "0",
         "0",
         "0",
         "0",
         "0",
         "0",
         "0",
         "0",
         "0",
         "0",
         "0",
         "0",
         "0",
         "0",
         "0",
         "0",
         "0",
         "0",
         "0",
         "0",
         "0",
         "0",
         "0",
         "0",
         "0",
         "0",
         "0",
         "0",
         "0",
         "0",
         "0",
         "0",
         "0",
         "0",
         "0",
         "0",
         "0",
         "0",
         "0",
         "0",
         "0",
         "0",
         "0",
         "0",
         "0",
         "0",
         "0",
         "0",
         "0",
         "0",
         "0",
         "0",
         "0",
         "0",
         "0",
         "0",
         "0",
         "0",
         "0",
         "0",
         "0",
         "0",
         "0",
         "0",
         "0",
         "0",
         "0",
         "0",
         "0",
         "0",
         "0",
         "0",
         "0",
         "0",
         "0",
         "0",
         "0",
         "0",
         "0",
         "0",
         "1",
         "0",
         "0",
         "0",
         "0",
         "1",
         "0",
         "0",
         "0",
         "0",
         "0",
         "0",
         "0",
         "0",
         "1",
         "0",
         "0",
         "0",
         "1",
         "0",
         "1",
         "-1",
         "0",
         "0",
         "0",
         "0",
         "0",
         "0",
         "0",
         "0",
         "0",
         "0",
         "1",
         "0",
         "0",
         "1",
         "1",
         "-1",
         "1",
         "1",
         "1",
         "-1",
         "1",
         "-1",
         "-1",
         "1",
         "1",
         "1",
         "1",
         "1",
         "-1",
         "-1",
         "-1",
         "-1",
         "-1",
         "1",
         "1",
         "-1",
         "1",
         "-1",
         "1",
         "-1",
         "1",
         "1",
         "1",
         "1",
         "1",
         "1",
         "-1",
         "1",
         "-1",
         "-1",
         "-1",
         "1",
         "1",
         "-1",
         "1",
         "-1",
         "-1",
         "1",
         "0",
         "0",
         "0",
         "0",
         "0",
         "0",
         "0",
         "0",
         "0",
         "0",
         "0",
         "0",
         "0",
         "0",
         "0",
         "0",
         "0",
         "0",
         "0",
         "0",
         "0",
         "0",
         "0",
         "0",
         "0",
         "0",
         "0",
         "0",
         "0",
         "0",
         "0",
         "0",
         "0",
         "0",
         "0",
         "0",
         "0",
         "0",
         "0",
         "0",
         "0",
         "0",
         "0",
         "0",
         "0",
         "0",
         "0",
         "0",
         "0",
         "0",
         "0",
         "0",
         "0",
         "0",
         "0",
         "0",
         "0",
         "0",
         "0",
         "0",
         "0",
         "0",
         "0",
         "0",
         "0",
         "0",
         "0",
         "0",
         "0",
         "0",
         "0",
         "0",
         "0",
         "0",
         "0",
         "0",
         "0",
         "0",
         "0",
         "0",
         "0",
         "0",
         "0",
         "0",
         "0",
         "0",
         "0",
         "0",
         "0",
         "0",
         "0",
         "0",
         "0",
         "0",
         "0",
         "0",
         "0",
         "0",
         "0",
         "0",
         "0",
         "0",
         "0",
         "0",
         "0",
         "0",
         "0",
         "0",
         "0",
         "0",
         "0",
         "0",
         "0",
         "0",
         "0",
         "0",
         "0",
         "0",
         "0",
         "0",
         "0",
         "0",
         "0",
         "0",
         "0",
         "0",
         "0",
         "0",
         "0",
         "0",
         "0",
         "0",
         "0",
         "0",
         "0",
         "0",
         "0",
         "0",
         "0",
         "0",
         "0",
         "0",
         "0",
         "0",
         "0",
         "0",
         "0",
         "0",
         "0",
         "0",
         "0",
         "0",
         "0",
         "0",
         "0",
         "0",
         "0",
         "0",
         "0",
         "0",
         "0",
         "0",
         "0",
         "0",
         "0",
         "0",
         "0",
         "0",
         "0",
         "0",
         "0",
         "0",
         "0",
         "0",
         "0",
         "0",
         "0",
         "0",
         "0",
         "0",
         "0",
         "0",
         "0",
         "0",
         "0",
         "0",
         "0",
         "0",
         "0",
         "0",
         "0",
         "0",
         "0",
         "0",
         "0",
         "0",
         "0",
         "0",
         "0",
         "0",
         "0",
         "0",
         "0",
         "0",
         "0",
         "0",
         "0",
         "0",
         "0",
         "0",
         "0",
         "0",
         "0",
         "0",
         "0",
         "0",
         "0",
         "0",
         "0",
         "0",
         "0",
         "0",
         "0",
         "0",
         "0",
         "0",
         "0",
         "0",
         "0",
         "0",
         "0",
         "0",
         "0",
         "0",
         "0",
         "0",
         "0",
         "0",
         "0",
         "0",
         "0",
         "0",
         "0",
         "0",
         "0",
         "0",
         "0",
         "0",
         "0",
         "0",
         "0",
         "0",
         "0",
         "0",
         "0",
         "0",
         "0",
         "0",
         "0",
         "0",
         "0",
         "0",
         "0",
         "0",
         "0",
         "0",
         "0",
         "0",
         "0",
         "0",
         "0",
         "0",
         "0",
         "0",
         "0",
         "0",
         "0",
         "0",
         "0",
         "0",
         "0",
         "0",
         "0",
         "0",
         "0",
         "0",
         "0",
         "0",
         "0",
         "0",
         "0",
         "0",
         "0",
         "0",
         "0",
         "0",
         "0",
         "0",
         "0",
         "0",
         "0",
         "0",
         "0",
         "0",
         "0",
         "0",
         "0",
         "0",
         "0",
         "0",
         "0",
         "0",
         "0",
         "0",
         "0",
         "0",
         "0",
         "0",
         "0",
         "0",
         "0",
         "0",
         "0",
         "0",
         "0",
         "0",
         "0",
         "0",
         "0",
         "0",
         "0",
         "0",
         "0",
         "0",
         "0",
         "0",
         "0",
         "0",
         "0",
         "0",
         "0",
         "0",
         "0",
         "0",
         "0",
         "0",
         "0",
         "0",
         "0",
         "0",
         "0",
         "0",
         "0",
         "0",
         "0",
         "0",
         "0",
         "0",
         "0",
         "0",
         "0",
         "0",
         "0",
         "0",
         "0",
         "0",
         "0",
         "0",
         "0",
         "0",
         "0",
         "0",
         "0",
         "0",
         "0",
         "0",
         "0",
         "0",
         "0",
         "0",
         "0",
         "0",
         "0",
         "0",
         "0",
         "0",
         "0",
         "0",
         "0",
         "0",
         "0",
         "0",
         "0",
         "0",
         "0",
         "0",
         "0",
         "0",
         "0",
         "0",
         "0",
         "0",
         "0",
         "0",
         "0",
         "0",
         "0",
         "0",
         "0",
         "0",
         "0",
         "0",
         "0",
         "0",
         "0",
         "0",
         "0",
         "0",
         "0",
         "0",
         "0",
         "0",
         "0",
         "0",
         "0",
         "0",
         "0",
         "0",
         "0",
         "0",
         "0",
         "0",
         "0",
         "0",
         "0",
         "0",
         "0",
         "0",
         "0",
         "0",
         "0",
         "0",
         "0",
         "0",
         "0",
         "0",
         "0",
         "0",
         "0",
         "0",
         "0",
         "0",
         "0",
         "0",
         "0",
         "0",
         "0",
         "0",
         "0",
         "0",
         "0",
         "0",
         "0",
         "0",
         "0",
         "0",
         "0",
         "0",
         "0",
         "0",
         "0",
         "0",
         "0",
         "0",
         "0",
         "0",
         "0",
         "0",
         "0",
         "0",
         "0",
         "0",
         "0",
         "0",
         "0",
         "0",
         "0",
         "0",
         "0",
         "0",
         "0",
         "0",
         "0",
         "0",
         "0",
         "0",
         "0",
         "0",
         "0",
         "0",
         "0",
         "0",
         "0",
         "0",
         "0",
         "0",
         "0",
         "0",
         "0",
         "0",
         "0",
         "0",
         "0",
         "0",
         "0",
         "0",
         "0",
         "0",
         "0",
         "0",
         "0",
         "0",
         "0",
         "0",
         "0",
         "0",
         "0",
         "0",
         "0",
         "0",
         "0",
         "0",
         "0",
         "0",
         "0",
         "0",
         "0",
         "0",
         "0",
         "0",
         "0",
         "0",
         "0",
         "0",
         "0",
         "0",
         "0",
         "0",
         "0",
         "0",
         "0",
         "0",
         "0",
         "0",
         "0",
         "0",
         "0",
         "0",
         "0",
         "0",
         "0",
         "0",
         "0",
         "0",
         "0",
         "0",
         "0",
         "0",
         "0",
         "0",
         "0",
         "0",
         "0",
         "0",
         "0",
         "0",
         "0",
         "0",
         "0",
         "0",
         "0",
         "0",
         "0",
         "0",
         "0",
         "0",
         "0",
         "0",
         "0",
         "0",
         "0",
         "0",
         "0",
         "0",
         "0",
         "0",
         "0",
         "0",
         "0",
         "0",
         "0",
         "0",
         "0",
         "0",
         "0",
         "0",
         "0",
         "0",
         "0",
         "0",
         "0",
         "0",
         "0",
         "0",
         "0",
         "0",
         "0",
         "0",
         "0",
         "0",
         "0",
         "0",
         "0",
         "0",
         "0",
         "0",
         "0",
         "0",
         "0",
         "0",
         "0",
         "0",
         "0",
         "0",
         "0",
         "0",
         "0",
         "0",
         "0",
         "0",
         "0",
         "0",
         "0",
         "0",
         "0",
         "0",
         "0",
         "0",
         "0",
         "0",
         "0",
         "0",
         "0",
         "0",
         "0",
         "0",
         "0",
         "0",
         "0",
         "0",
         "0",
         "0",
         "0",
         "0",
         "0",
         "0",
         "0",
         "0",
         "0",
         "0",
         "0",
         "0",
         "0",
         "0",
         "0",
         "0",
         "0",
         "0",
         "0",
         "0",
         "0",
         "0",
         "0",
         "0",
         "0",
         "0",
         "0",
         "0",
         "0",
         "0",
         "0",
         "0",
         "0",
         "0",
         "0",
         "0",
         "0",
         "0",
         "0",
         "0",
         "0",
         "0",
         "0",
         "0",
         "0",
         "0",
         "0",
         "0",
         "0",
         "0",
         "0",
         "0",
         "0",
         "0",
         "0",
         "0",
         "0",
         "0",
         "0",
         "0",
         "0",
         "0",
         "0",
         "0",
         "0",
         "0",
         "0",
         "0",
         "0",
         "0",
         "0",
         "0",
         "0",
         "0",
         "0",
         "0",
         "0",
         "0",
         "0",
         "0",
         "0",
         "0",
         "0",
         "0",
         "0",
         "0",
         "0",
         "0",
         "0",
         "0",
         "0",
         "0",
         "0",
         "0",
         "0",
         "0",
         "0",
         "0",
         "0",
         "0",
         "0",
         "0",
         "0",
         "0",
         "0",
         "0",
         "0",
         "0",
         "0",
         "0",
         "0",
         "0",
         "0",
         "0",
         "0",
         "0",
         "0",
         "0",
         "0",
         "0",
         "0",
         "0",
         "0",
         "0",
         "0",
         "0",
         "0",
         "0",
         "0",
         "0",
         "0",
         "0",
         "0",
         "0",
         "0",
         "0",
         "0",
         "0",
         "0",
         "0",
         "0",
         "0",
         "0",
         "0",
         "0",
         "0",
         "0",
         "0",
         "0",
         "0",
         "0",
         "0",
         "0",
         "0",
         "0",
         "0",
         "0",
         "0",
         "0",
         "0",
         "0",
         "0",
         "0",
         "0",
         "0",
         "0",
         "0",
         "0",
         "0",
         "0",
         "0",
         "0",
         "0",
         "0",
         "0",
         "0",
         "0",
         "0",
         "0",
         "0",
         "0",
         "0",
         "0",
         "0",
         "0",
         "0",
         "0",
         "0",
         "0",
         "0",
         "0",
         "0",
         "0",
         "0",
         "0",
         "0",
         "0",
         "0",
         "0",
         "0",
         "0",
         "0",
         "0",
         "0",
         "0",
         "0",
         "0",
         "0",
         "0",
         "0",
         "0",
         "0",
         "0",
         "0",
         "0",
         "0",
         "0",
         "0",
         "0",
         "0",
         "0",
         "0",
         "0",
         "0",
         "0",
         "0",
         "0",
         "0",
         "0",
         "0",
         "0",
         "0",
         "0",
         "0",
         "0",
         "0",
         "0",
         "0",
         "0",
         "0",
         "0",
         "0",
         "0",
         "0",
         "0",
         "0",
         "0",
         "0",
         "0",
         "0",
         "0",
         "0",
         "0",
         "0",
         "0",
         "0",
         "0",
         "0",
         "0",
         "0",
         "0",
         "0",
         "0",
         "0",
         "0",
         "0",
         "0",
         "0",
         "0",
         "0",
         "0",
         "0",
         "0",
         "0",
         "0",
         "0",
         "0",
         "0",
         "0",
         "0",
         "0",
         "0",
         "0",
         "0",
         "0",
         "0",
         "0",
         "0",
         "0",
         "0",
         "0",
         "0",
         "0",
         "0",
         "0",
         "0",
         "0",
         "0",
         "0",
         "0",
         "0",
         "0",
         "0",
         "0",
         "0",
         "0",
         "0",
         "0",
         "0",
         "0",
         "0",
         "0",
         "0",
         "0",
         "0",
         "0",
         "0",
         "0",
         "0",
         "0",
         "0",
         "0",
         "0",
         "0",
         "0",
         "0",
         "0",
         "0",
         "0",
         "0",
         "0",
         "0",
         "0",
         "0",
         "0",
         "0",
         "0",
         "0",
         "0",
         "0",
         "0",
         "0",
         "0",
         "0",
         "0",
         "0",
         "0",
         "0",
         "0",
         "0",
         "0",
         "0",
         "0",
         "0",
         "0",
         "0",
         "0",
         "0",
         "0",
         "0",
         "0",
         "0",
         "0",
         "0",
         "0",
         "0",
         "0",
         "0",
         "0",
         "0",
         "0",
         "0",
         "0",
         "0",
         "0",
         "0",
         "0",
         "0",
         "0",
         "0",
         "0",
         "0",
         "0",
         "0",
         "0",
         "0",
         "0",
         "0",
         "0",
         "0",
         "0",
         "0",
         "0",
         "0",
         "0",
         "0",
         "0",
         "0",
         "0",
         "0",
         "0",
         "0",
         "0",
         "0",
         "0",
         "0",
         "0",
         "0",
         "0",
         "0",
         "0",
         "0",
         "0",
         "0",
         "0",
         "0",
         "0",
         "0",
         "0",
         "0",
         "0",
         "0",
         "0",
         "0",
         "0",
         "0",
         "0",
         "0",
         "0",
         "0",
         "0",
         "0",
         "0",
         "0",
         "0",
         "0",
         "0",
         "0",
         "0",
         "0",
         "0",
         "0",
         "0",
         "0",
         "0",
         "0",
         "0",
         "0",
         "0",
         "0",
         "0",
         "0",
         "0",
         "0",
         "0",
         "0",
         "0",
         "0",
         "0",
         "0",
         "0",
         "0",
         "0",
         "0",
         "0",
         "0",
         "0",
         "0",
         "0",
         "0",
         "0",
         "0",
         "0",
         "0",
         "0",
         "0",
         "0",
         "0",
         "0",
         "0",
         "0",
         "0",
         "0",
         "0",
         "0",
         "0",
         "0",
         "0",
         "0",
         "0",
         "0",
         "0",
         "0",
         "0",
         "0",
         "0",
         "0",
         "0",
         "0",
         "0",
         "0",
         "0",
         "0",
         "0",
         "0",
         "0",
         "0",
         "0",
         "0",
         "0",
         "0",
         "0",
         "0",
         "0",
         "0",
         "0",
         "0",
         "0",
         "0",
         "0",
         "0",
         "0",
         "0",
         "0",
         "0",
         "0",
         "0",
         "0",
         "0",
         "0",
         "0",
         "0",
         "0",
         "0",
         "0",
         "0",
         "0",
         "0",
         "0",
         "0",
         "0",
         "0",
         "0",
         "0",
         "0",
         "0",
         "0",
         "0",
         "0",
         "0",
         "0",
         "0",
         "0",
         "0",
         "0",
         "0",
         "0",
         "0",
         "0",
         "0",
         "0",
         "0",
         "0",
         "0",
         "0",
         "0",
         "0",
         "0",
         "0",
         "0",
         "0",
         "0",
         "0",
         "0",
         "0",
         "0",
         "0",
         "0",
         "0",
         "0",
         "0",
         "0",
         "0",
         "0",
         "0",
         "0",
         "0",
         "0",
         "0",
         "0",
         "0",
         "0",
         "0",
         "0",
         "0",
         "0",
         "0",
         "0",
         "0",
         "0",
         "0",
         "0",
         "0",
         "0",
         "0",
         "0",
         "0",
         "0",
         "0",
         "0",
         "0",
         "0",
         "0",
         "0",
         "0",
         "0",
         "0",
         "0",
         "0",
         "0",
         "0",
         "0",
         "0",
         "0",
         "0",
         "0",
         "0",
         "0",
         "0",
         "0",
         "0",
         "0",
         "0",
         "0",
         "0",
         "0",
         "0",
         "0",
         "0",
         "0",
         "0",
         "0",
         "0",
         "0",
         "0",
         "0",
         "0",
         "0",
         "0",
         "0",
         "0",
         "0",
         "0",
         "0",
         "0",
         "0",
         "0",
         "0",
         "0",
         "0",
         "0",
         "0",
         "0",
         "0",
         "0",
         "0",
         "0",
         "0",
         "0",
         "0",
         "0",
         "0",
         "0",
         "0",
         "0",
         "0",
         "0",
         "0",
         "0",
         "0",
         "0",
         "0",
         "0",
         "0",
         "0",
         "0",
         "0",
         "0",
         "0",
         "0",
         "0",
         "0",
         "0",
         "0",
         "0",
         "0",
         "0",
         "0",
         "0",
         "0",
         "0",
         "0",
         "0",
         "0",
         "0",
         "0"
        ],
        [
         "2",
         "0",
         "0",
         "0",
         "0",
         "0",
         "0",
         "0",
         "0",
         "0",
         "0",
         "0",
         "0",
         "0",
         "0",
         "0",
         "0",
         "0",
         "0",
         "0",
         "0",
         "0",
         "0",
         "0",
         "0",
         "0",
         "0",
         "0",
         "0",
         "0",
         "0",
         "0",
         "0",
         "0",
         "0",
         "0",
         "0",
         "0",
         "0",
         "0",
         "0",
         "0",
         "0",
         "0",
         "0",
         "0",
         "0",
         "0",
         "0",
         "0",
         "0",
         "0",
         "0",
         "0",
         "0",
         "0",
         "0",
         "0",
         "0",
         "0",
         "0",
         "0",
         "0",
         "0",
         "0",
         "0",
         "0",
         "0",
         "0",
         "0",
         "0",
         "0",
         "0",
         "0",
         "0",
         "0",
         "0",
         "0",
         "0",
         "0",
         "0",
         "0",
         "0",
         "0",
         "0",
         "0",
         "0",
         "0",
         "0",
         "0",
         "0",
         "0",
         "0",
         "0",
         "0",
         "0",
         "0",
         "0",
         "0",
         "0",
         "0",
         "0",
         "0",
         "0",
         "0",
         "0",
         "0",
         "0",
         "0",
         "0",
         "0",
         "0",
         "0",
         "0",
         "0",
         "0",
         "0",
         "0",
         "0",
         "0",
         "0",
         "0",
         "0",
         "0",
         "0",
         "0",
         "0",
         "0",
         "0",
         "0",
         "0",
         "0",
         "0",
         "0",
         "0",
         "0",
         "0",
         "0",
         "0",
         "0",
         "0",
         "0",
         "0",
         "0",
         "0",
         "0",
         "0",
         "0",
         "0",
         "0",
         "0",
         "0",
         "0",
         "0",
         "0",
         "0",
         "0",
         "0",
         "0",
         "0",
         "0",
         "0",
         "0",
         "0",
         "0",
         "0",
         "0",
         "0",
         "0",
         "0",
         "0",
         "0",
         "0",
         "0",
         "0",
         "0",
         "0",
         "0",
         "0",
         "0",
         "0",
         "1",
         "0",
         "0",
         "0",
         "0",
         "0",
         "0",
         "0",
         "0",
         "0",
         "0",
         "0",
         "0",
         "0",
         "0",
         "0",
         "0",
         "0",
         "0",
         "0",
         "0",
         "0",
         "0",
         "0",
         "0",
         "0",
         "0",
         "0",
         "0",
         "0",
         "0",
         "0",
         "0",
         "0",
         "0",
         "0",
         "0",
         "0",
         "0",
         "0",
         "0",
         "0",
         "0",
         "0",
         "0",
         "0",
         "0",
         "0",
         "0",
         "0",
         "0",
         "0",
         "0",
         "0",
         "0",
         "0",
         "0",
         "0",
         "0",
         "0",
         "0",
         "0",
         "0",
         "0",
         "-1",
         "0",
         "0",
         "0",
         "0",
         "0",
         "0",
         "0",
         "0",
         "0",
         "0",
         "0",
         "0",
         "-1",
         "0",
         "1",
         "0",
         "0",
         "0",
         "-1",
         "0",
         "0",
         "0",
         "-1",
         "0",
         "0",
         "-1",
         "-1",
         "0",
         "0",
         "0",
         "0",
         "0",
         "0",
         "0",
         "0",
         "0",
         "0",
         "0",
         "0",
         "0",
         "0",
         "0",
         "-1",
         "0",
         "0",
         "0",
         "0",
         "0",
         "-1",
         "0",
         "0",
         "0",
         "0",
         "-1",
         "-1",
         "0",
         "-1",
         "-1",
         "0",
         "0",
         "0",
         "-1",
         "0",
         "0",
         "0",
         "0",
         "0",
         "0",
         "0",
         "0",
         "0",
         "-1",
         "1",
         "-1",
         "1",
         "1",
         "-1",
         "-1",
         "-1",
         "-1",
         "-1",
         "1",
         "1",
         "1",
         "-1",
         "1",
         "-1",
         "-1",
         "-1",
         "-1",
         "-1",
         "-1",
         "-1",
         "-1",
         "1",
         "-1",
         "1",
         "-1",
         "1",
         "-1",
         "1",
         "1",
         "1",
         "-1",
         "-1",
         "-1",
         "-1",
         "-1",
         "-1",
         "-1",
         "0",
         "0",
         "0",
         "0",
         "0",
         "0",
         "0",
         "0",
         "0",
         "0",
         "0",
         "0",
         "0",
         "0",
         "0",
         "0",
         "0",
         "0",
         "0",
         "0",
         "0",
         "0",
         "0",
         "0",
         "0",
         "0",
         "0",
         "0",
         "0",
         "0",
         "0",
         "0",
         "0",
         "0",
         "0",
         "0",
         "0",
         "0",
         "0",
         "0",
         "0",
         "0",
         "0",
         "0",
         "0",
         "0",
         "0",
         "0",
         "0",
         "0",
         "0",
         "0",
         "0",
         "0",
         "0",
         "0",
         "0",
         "0",
         "0",
         "0",
         "0",
         "0",
         "0",
         "0",
         "0",
         "0",
         "0",
         "0",
         "0",
         "0",
         "0",
         "0",
         "0",
         "0",
         "0",
         "0",
         "0",
         "0",
         "0",
         "0",
         "0",
         "0",
         "0",
         "0",
         "0",
         "0",
         "0",
         "0",
         "0",
         "0",
         "0",
         "0",
         "0",
         "0",
         "0",
         "0",
         "0",
         "0",
         "0",
         "0",
         "0",
         "0",
         "0",
         "0",
         "0",
         "0",
         "0",
         "0",
         "0",
         "0",
         "0",
         "0",
         "0",
         "0",
         "0",
         "0",
         "0",
         "0",
         "0",
         "0",
         "0",
         "0",
         "0",
         "0",
         "0",
         "0",
         "0",
         "0",
         "0",
         "0",
         "0",
         "0",
         "0",
         "0",
         "0",
         "0",
         "0",
         "0",
         "0",
         "0",
         "0",
         "0",
         "0",
         "0",
         "0",
         "0",
         "0",
         "0",
         "0",
         "0",
         "0",
         "0",
         "0",
         "0",
         "0",
         "0",
         "0",
         "0",
         "0",
         "0",
         "0",
         "0",
         "0",
         "0",
         "0",
         "0",
         "0",
         "0",
         "0",
         "0",
         "0",
         "0",
         "0",
         "0",
         "0",
         "0",
         "0",
         "0",
         "0",
         "0",
         "0",
         "0",
         "0",
         "0",
         "0",
         "0",
         "0",
         "0",
         "0",
         "0",
         "0",
         "0",
         "0",
         "0",
         "0",
         "0",
         "0",
         "0",
         "0",
         "0",
         "0",
         "0",
         "0",
         "0",
         "0",
         "0",
         "0",
         "0",
         "0",
         "0",
         "0",
         "0",
         "0",
         "0",
         "0",
         "0",
         "0",
         "0",
         "0",
         "0",
         "0",
         "0",
         "0",
         "0",
         "0",
         "0",
         "0",
         "0",
         "0",
         "0",
         "0",
         "0",
         "0",
         "0",
         "0",
         "0",
         "0",
         "0",
         "0",
         "0",
         "0",
         "0",
         "0",
         "0",
         "0",
         "0",
         "0",
         "0",
         "0",
         "0",
         "0",
         "0",
         "0",
         "0",
         "0",
         "0",
         "0",
         "0",
         "0",
         "0",
         "0",
         "0",
         "0",
         "0",
         "0",
         "0",
         "0",
         "0",
         "0",
         "0",
         "0",
         "0",
         "0",
         "0",
         "0",
         "0",
         "0",
         "0",
         "0",
         "0",
         "0",
         "0",
         "0",
         "0",
         "0",
         "0",
         "0",
         "0",
         "0",
         "0",
         "0",
         "0",
         "0",
         "0",
         "0",
         "0",
         "0",
         "0",
         "0",
         "0",
         "0",
         "0",
         "0",
         "0",
         "0",
         "0",
         "0",
         "0",
         "0",
         "0",
         "0",
         "0",
         "0",
         "0",
         "0",
         "0",
         "0",
         "0",
         "0",
         "0",
         "0",
         "0",
         "0",
         "0",
         "0",
         "0",
         "0",
         "0",
         "0",
         "0",
         "0",
         "0",
         "0",
         "0",
         "0",
         "0",
         "0",
         "0",
         "0",
         "0",
         "0",
         "0",
         "0",
         "0",
         "0",
         "0",
         "0",
         "0",
         "0",
         "0",
         "0",
         "0",
         "0",
         "0",
         "0",
         "0",
         "0",
         "0",
         "0",
         "0",
         "0",
         "0",
         "0",
         "0",
         "0",
         "0",
         "0",
         "0",
         "0",
         "0",
         "0",
         "0",
         "0",
         "0",
         "0",
         "0",
         "0",
         "0",
         "0",
         "0",
         "0",
         "0",
         "0",
         "0",
         "0",
         "0",
         "0",
         "0",
         "0",
         "0",
         "0",
         "0",
         "0",
         "0",
         "0",
         "0",
         "0",
         "0",
         "0",
         "0",
         "0",
         "0",
         "0",
         "0",
         "0",
         "0",
         "0",
         "0",
         "0",
         "0",
         "0",
         "0",
         "0",
         "0",
         "0",
         "0",
         "0",
         "0",
         "0",
         "0",
         "0",
         "0",
         "0",
         "0",
         "0",
         "0",
         "0",
         "0",
         "0",
         "0",
         "0",
         "0",
         "0",
         "0",
         "0",
         "0",
         "0",
         "0",
         "0",
         "0",
         "0",
         "0",
         "0",
         "0",
         "0",
         "0",
         "0",
         "0",
         "0",
         "0",
         "0",
         "0",
         "0",
         "0",
         "0",
         "0",
         "0",
         "0",
         "0",
         "0",
         "0",
         "0",
         "0",
         "0",
         "0",
         "0",
         "0",
         "0",
         "0",
         "0",
         "0",
         "0",
         "0",
         "0",
         "0",
         "0",
         "0",
         "0",
         "0",
         "0",
         "0",
         "0",
         "0",
         "0",
         "0",
         "0",
         "0",
         "0",
         "0",
         "0",
         "0",
         "0",
         "0",
         "0",
         "0",
         "0",
         "0",
         "0",
         "0",
         "0",
         "0",
         "0",
         "0",
         "0",
         "0",
         "0",
         "0",
         "0",
         "0",
         "0",
         "0",
         "0",
         "0",
         "0",
         "0",
         "0",
         "0",
         "0",
         "0",
         "0",
         "0",
         "0",
         "0",
         "0",
         "0",
         "0",
         "0",
         "0",
         "0",
         "0",
         "0",
         "0",
         "0",
         "0",
         "0",
         "0",
         "0",
         "0",
         "0",
         "0",
         "0",
         "0",
         "0",
         "0",
         "0",
         "0",
         "0",
         "0",
         "0",
         "0",
         "0",
         "0",
         "0",
         "0",
         "0",
         "0",
         "0",
         "0",
         "0",
         "0",
         "0",
         "0",
         "0",
         "0",
         "0",
         "0",
         "0",
         "0",
         "0",
         "0",
         "0",
         "0",
         "0",
         "0",
         "0",
         "0",
         "0",
         "0",
         "0",
         "0",
         "0",
         "0",
         "0",
         "0",
         "0",
         "0",
         "0",
         "0",
         "0",
         "0",
         "0",
         "0",
         "0",
         "0",
         "0",
         "0",
         "0",
         "0",
         "0",
         "0",
         "0",
         "0",
         "0",
         "0",
         "0",
         "0",
         "0",
         "0",
         "0",
         "0",
         "0",
         "0",
         "0",
         "0",
         "0",
         "0",
         "0",
         "0",
         "0",
         "0",
         "0",
         "0",
         "0",
         "0",
         "0",
         "0",
         "0",
         "0",
         "0",
         "0",
         "0",
         "0",
         "0",
         "0",
         "0",
         "0",
         "0",
         "0",
         "0",
         "0",
         "0",
         "0",
         "0",
         "0",
         "0",
         "0",
         "0",
         "0",
         "0",
         "0",
         "0",
         "0",
         "0",
         "0",
         "0",
         "0",
         "0",
         "0",
         "0",
         "0",
         "0",
         "0",
         "0",
         "0",
         "0",
         "0",
         "0",
         "0",
         "0",
         "0",
         "0",
         "0",
         "0",
         "0",
         "0",
         "0",
         "0",
         "0",
         "0",
         "0",
         "0",
         "0",
         "0",
         "0",
         "0",
         "0",
         "0",
         "0",
         "0",
         "0",
         "0",
         "0",
         "0",
         "0",
         "0",
         "0",
         "0",
         "0",
         "0",
         "0",
         "0",
         "0",
         "0",
         "0",
         "0",
         "0",
         "0",
         "0",
         "0",
         "0",
         "0",
         "0",
         "0",
         "0",
         "0",
         "0",
         "0",
         "0",
         "0",
         "0",
         "0",
         "0",
         "0",
         "0",
         "0",
         "0",
         "0",
         "0",
         "0",
         "0",
         "0",
         "0",
         "0",
         "0",
         "0",
         "0",
         "0",
         "0",
         "0",
         "0",
         "0",
         "0",
         "0",
         "0",
         "0",
         "0",
         "0",
         "0",
         "0",
         "0",
         "0",
         "0",
         "0",
         "0",
         "0",
         "0",
         "0",
         "0",
         "0",
         "0",
         "0",
         "0",
         "0",
         "0",
         "0",
         "0",
         "0",
         "0",
         "0",
         "0",
         "0",
         "0",
         "0",
         "0",
         "0",
         "0",
         "0",
         "0",
         "0",
         "0",
         "0",
         "0",
         "0",
         "0",
         "0",
         "0",
         "0",
         "0",
         "0",
         "0",
         "0",
         "0",
         "0",
         "0",
         "0",
         "0",
         "0",
         "0",
         "0",
         "0",
         "0",
         "0",
         "0",
         "0",
         "0",
         "0",
         "0",
         "0",
         "0",
         "0",
         "0",
         "0",
         "0",
         "0",
         "0",
         "0",
         "0",
         "0",
         "0",
         "0",
         "0",
         "0",
         "0",
         "0",
         "0",
         "0",
         "0",
         "0",
         "0",
         "0",
         "0",
         "0",
         "0",
         "0",
         "0",
         "0",
         "0",
         "0",
         "0",
         "0",
         "0",
         "0",
         "0",
         "0",
         "0",
         "0",
         "0",
         "0",
         "0",
         "0",
         "0",
         "0",
         "0",
         "0",
         "0",
         "0",
         "0",
         "0",
         "0",
         "0",
         "0",
         "0",
         "0",
         "0",
         "0",
         "0",
         "0",
         "0",
         "0",
         "0",
         "0",
         "0",
         "0",
         "0",
         "0",
         "0",
         "0",
         "0",
         "0",
         "0",
         "0",
         "0",
         "0",
         "0",
         "0",
         "0",
         "0",
         "0",
         "0",
         "0",
         "0",
         "0",
         "0",
         "0",
         "0",
         "0",
         "0",
         "0",
         "0",
         "0",
         "0",
         "0",
         "0",
         "0",
         "0",
         "0",
         "0",
         "0",
         "0",
         "0",
         "0",
         "0",
         "0",
         "0",
         "0",
         "0",
         "0",
         "0",
         "0",
         "0",
         "0",
         "0",
         "0",
         "0",
         "0",
         "0",
         "0",
         "0",
         "0",
         "0",
         "0",
         "0",
         "0",
         "0",
         "0",
         "0",
         "0",
         "0",
         "0",
         "0",
         "0",
         "0",
         "0",
         "0",
         "0",
         "0",
         "0",
         "0",
         "0",
         "0",
         "0",
         "0",
         "0",
         "0",
         "0",
         "0",
         "0",
         "0",
         "0",
         "0",
         "0",
         "0",
         "0",
         "0",
         "0",
         "0",
         "0",
         "0",
         "0",
         "0",
         "0",
         "0",
         "0",
         "0",
         "0",
         "0",
         "0",
         "0",
         "0",
         "0",
         "0",
         "0",
         "0",
         "0",
         "0",
         "0",
         "0",
         "0",
         "0",
         "0",
         "0",
         "0",
         "0",
         "0",
         "0",
         "0",
         "0",
         "0",
         "0",
         "0",
         "0",
         "0",
         "0",
         "0",
         "0",
         "0",
         "0",
         "0",
         "0",
         "0",
         "0",
         "0",
         "0",
         "0",
         "0",
         "0",
         "0",
         "0",
         "0",
         "0",
         "0",
         "0",
         "0",
         "0",
         "0",
         "0",
         "0",
         "0",
         "0",
         "0",
         "0",
         "0",
         "0",
         "0",
         "0",
         "0",
         "0",
         "0",
         "0",
         "0",
         "0",
         "0",
         "0",
         "0",
         "0",
         "0",
         "0",
         "0",
         "0",
         "0",
         "0",
         "0",
         "0",
         "0",
         "0",
         "0",
         "0",
         "0",
         "0",
         "0",
         "0",
         "0",
         "0",
         "0",
         "0",
         "0",
         "0",
         "0",
         "0",
         "0",
         "0",
         "0",
         "0",
         "0",
         "0",
         "0",
         "0",
         "0",
         "0",
         "0",
         "0",
         "0",
         "0",
         "0",
         "0",
         "0",
         "0",
         "0",
         "0",
         "0",
         "0",
         "0",
         "0",
         "0",
         "0",
         "0",
         "0",
         "0",
         "0",
         "0",
         "0",
         "0",
         "0",
         "0",
         "0",
         "0",
         "0",
         "0",
         "0",
         "0",
         "0",
         "0",
         "0",
         "0",
         "0",
         "0",
         "0",
         "0",
         "0",
         "0",
         "0",
         "0",
         "0",
         "0",
         "0",
         "0",
         "0",
         "0",
         "0",
         "0",
         "0",
         "0",
         "0",
         "0",
         "0",
         "0",
         "0",
         "0",
         "0",
         "0",
         "0",
         "0",
         "0",
         "0",
         "0",
         "0",
         "0",
         "0",
         "0",
         "0",
         "0",
         "0",
         "0",
         "0",
         "0",
         "0",
         "0",
         "0",
         "0",
         "0",
         "0",
         "0",
         "0",
         "0",
         "0",
         "0",
         "0",
         "0",
         "0",
         "0",
         "0",
         "0",
         "0",
         "0",
         "0",
         "0",
         "0",
         "0",
         "0",
         "0",
         "0",
         "0",
         "0",
         "0",
         "0",
         "0",
         "0",
         "0",
         "0",
         "0",
         "0",
         "0",
         "0",
         "0",
         "0",
         "0",
         "0",
         "0",
         "0",
         "0",
         "0",
         "0",
         "0",
         "0",
         "0",
         "0",
         "0",
         "0",
         "0",
         "0",
         "0",
         "0",
         "0",
         "0",
         "0",
         "0",
         "0",
         "0",
         "0",
         "0",
         "0",
         "0",
         "0",
         "0",
         "0",
         "0",
         "0",
         "0",
         "0",
         "0",
         "0",
         "0",
         "0",
         "0",
         "0",
         "0",
         "0",
         "0",
         "0",
         "0",
         "0",
         "0",
         "0",
         "0",
         "0",
         "0",
         "0",
         "0",
         "0",
         "0",
         "0",
         "0",
         "0",
         "0",
         "0",
         "0",
         "0",
         "0",
         "0",
         "0",
         "0",
         "0",
         "0",
         "0",
         "0",
         "0",
         "0",
         "0",
         "0",
         "0",
         "0",
         "0",
         "0",
         "0",
         "0",
         "0",
         "0",
         "0",
         "0",
         "0",
         "0",
         "0",
         "0",
         "0",
         "0",
         "0",
         "0",
         "0",
         "0",
         "0",
         "0",
         "0",
         "0",
         "0",
         "0",
         "0",
         "0",
         "0",
         "0",
         "0",
         "0",
         "0",
         "0",
         "0",
         "0",
         "0",
         "0",
         "0",
         "0",
         "0",
         "0",
         "0",
         "0",
         "0",
         "0",
         "0",
         "0",
         "0",
         "0",
         "0",
         "0",
         "0",
         "0",
         "0",
         "0",
         "0",
         "0"
        ],
        [
         "3",
         "0",
         "0",
         "0",
         "0",
         "0",
         "0",
         "0",
         "0",
         "0",
         "0",
         "1",
         "0",
         "0",
         "0",
         "0",
         "0",
         "0",
         "0",
         "0",
         "0",
         "0",
         "0",
         "0",
         "0",
         "0",
         "0",
         "0",
         "0",
         "0",
         "0",
         "0",
         "0",
         "0",
         "0",
         "0",
         "0",
         "0",
         "0",
         "0",
         "0",
         "0",
         "0",
         "0",
         "0",
         "0",
         "0",
         "0",
         "0",
         "0",
         "1",
         "0",
         "0",
         "0",
         "0",
         "0",
         "0",
         "0",
         "0",
         "0",
         "0",
         "0",
         "0",
         "0",
         "0",
         "0",
         "0",
         "0",
         "0",
         "0",
         "0",
         "0",
         "0",
         "0",
         "0",
         "0",
         "0",
         "0",
         "0",
         "0",
         "0",
         "0",
         "0",
         "0",
         "0",
         "0",
         "0",
         "0",
         "0",
         "0",
         "0",
         "0",
         "0",
         "0",
         "0",
         "0",
         "0",
         "0",
         "0",
         "0",
         "0",
         "0",
         "0",
         "0",
         "0",
         "0",
         "0",
         "0",
         "0",
         "0",
         "0",
         "0",
         "0",
         "0",
         "0",
         "0",
         "0",
         "0",
         "0",
         "0",
         "0",
         "0",
         "0",
         "0",
         "0",
         "0",
         "0",
         "0",
         "0",
         "0",
         "0",
         "0",
         "0",
         "0",
         "0",
         "0",
         "0",
         "0",
         "0",
         "0",
         "0",
         "0",
         "0",
         "0",
         "0",
         "0",
         "0",
         "0",
         "0",
         "0",
         "0",
         "0",
         "0",
         "0",
         "0",
         "0",
         "0",
         "0",
         "0",
         "0",
         "0",
         "0",
         "0",
         "0",
         "0",
         "0",
         "0",
         "0",
         "0",
         "0",
         "0",
         "0",
         "0",
         "0",
         "0",
         "0",
         "0",
         "0",
         "0",
         "0",
         "0",
         "0",
         "0",
         "0",
         "0",
         "0",
         "0",
         "0",
         "0",
         "0",
         "0",
         "0",
         "0",
         "0",
         "0",
         "0",
         "0",
         "0",
         "0",
         "0",
         "0",
         "0",
         "0",
         "0",
         "0",
         "0",
         "0",
         "0",
         "0",
         "0",
         "-1",
         "0",
         "0",
         "0",
         "0",
         "0",
         "0",
         "0",
         "0",
         "0",
         "0",
         "0",
         "0",
         "0",
         "0",
         "0",
         "0",
         "0",
         "0",
         "0",
         "0",
         "0",
         "0",
         "0",
         "0",
         "0",
         "0",
         "0",
         "0",
         "0",
         "0",
         "0",
         "0",
         "0",
         "0",
         "0",
         "0",
         "0",
         "0",
         "0",
         "0",
         "0",
         "0",
         "0",
         "0",
         "0",
         "0",
         "0",
         "1",
         "0",
         "1",
         "0",
         "0",
         "0",
         "-1",
         "0",
         "0",
         "0",
         "0",
         "0",
         "0",
         "1",
         "0",
         "0",
         "0",
         "0",
         "0",
         "0",
         "0",
         "0",
         "0",
         "0",
         "0",
         "0",
         "0",
         "0",
         "0",
         "0",
         "1",
         "0",
         "0",
         "0",
         "0",
         "0",
         "1",
         "0",
         "0",
         "0",
         "0",
         "0",
         "1",
         "1",
         "0",
         "1",
         "0",
         "0",
         "0",
         "0",
         "0",
         "0",
         "0",
         "0",
         "0",
         "0",
         "0",
         "0",
         "0",
         "0",
         "0",
         "0",
         "0",
         "0",
         "0",
         "0",
         "1",
         "0",
         "0",
         "1",
         "-1",
         "1",
         "0",
         "0",
         "0",
         "0",
         "0",
         "0",
         "0",
         "0",
         "0",
         "0",
         "0",
         "0",
         "0",
         "0",
         "0",
         "0",
         "0",
         "0",
         "0",
         "0",
         "0",
         "0",
         "0",
         "0",
         "1",
         "0",
         "-1",
         "1",
         "-1",
         "1",
         "1",
         "1",
         "1",
         "0",
         "0",
         "0",
         "0",
         "0",
         "0",
         "0",
         "0",
         "0",
         "0",
         "0",
         "0",
         "0",
         "0",
         "0",
         "0",
         "0",
         "0",
         "0",
         "0",
         "0",
         "0",
         "0",
         "0",
         "0",
         "0",
         "0",
         "0",
         "0",
         "0",
         "0",
         "0",
         "0",
         "0",
         "0",
         "0",
         "0",
         "0",
         "0",
         "0",
         "0",
         "0",
         "0",
         "0",
         "0",
         "0",
         "0",
         "0",
         "0",
         "0",
         "0",
         "0",
         "0",
         "0",
         "0",
         "0",
         "0",
         "0",
         "0",
         "0",
         "0",
         "0",
         "0",
         "0",
         "0",
         "0",
         "0",
         "0",
         "0",
         "0",
         "0",
         "0",
         "0",
         "0",
         "0",
         "0",
         "0",
         "0",
         "0",
         "0",
         "0",
         "0",
         "0",
         "0",
         "0",
         "0",
         "0",
         "0",
         "0",
         "0",
         "0",
         "0",
         "0",
         "0",
         "0",
         "0",
         "0",
         "0",
         "0",
         "0",
         "0",
         "0",
         "0",
         "0",
         "0",
         "0",
         "0",
         "0",
         "0",
         "0",
         "0",
         "0",
         "0",
         "0",
         "0",
         "0",
         "0",
         "0",
         "0",
         "0",
         "0",
         "0",
         "0",
         "0",
         "0",
         "0",
         "0",
         "0",
         "0",
         "0",
         "0",
         "0",
         "0",
         "0",
         "0",
         "0",
         "0",
         "0",
         "0",
         "0",
         "0",
         "0",
         "0",
         "0",
         "0",
         "0",
         "0",
         "0",
         "0",
         "0",
         "0",
         "0",
         "0",
         "0",
         "0",
         "0",
         "0",
         "0",
         "0",
         "0",
         "0",
         "0",
         "0",
         "0",
         "0",
         "0",
         "0",
         "0",
         "0",
         "0",
         "0",
         "0",
         "0",
         "0",
         "0",
         "0",
         "0",
         "0",
         "0",
         "0",
         "0",
         "0",
         "0",
         "0",
         "0",
         "0",
         "0",
         "0",
         "0",
         "0",
         "0",
         "0",
         "0",
         "0",
         "0",
         "0",
         "0",
         "0",
         "0",
         "0",
         "0",
         "0",
         "0",
         "0",
         "0",
         "0",
         "0",
         "0",
         "0",
         "0",
         "0",
         "0",
         "0",
         "0",
         "0",
         "0",
         "0",
         "0",
         "0",
         "0",
         "0",
         "0",
         "0",
         "0",
         "0",
         "0",
         "0",
         "0",
         "0",
         "0",
         "0",
         "0",
         "0",
         "0",
         "0",
         "0",
         "0",
         "0",
         "0",
         "0",
         "0",
         "0",
         "0",
         "0",
         "0",
         "0",
         "0",
         "0",
         "0",
         "0",
         "0",
         "0",
         "0",
         "0",
         "0",
         "0",
         "0",
         "0",
         "0",
         "0",
         "0",
         "0",
         "0",
         "0",
         "0",
         "0",
         "0",
         "0",
         "0",
         "0",
         "0",
         "0",
         "0",
         "0",
         "0",
         "0",
         "0",
         "0",
         "0",
         "0",
         "0",
         "0",
         "0",
         "0",
         "0",
         "0",
         "0",
         "0",
         "0",
         "0",
         "0",
         "0",
         "0",
         "0",
         "0",
         "0",
         "0",
         "0",
         "0",
         "0",
         "0",
         "0",
         "0",
         "0",
         "0",
         "0",
         "0",
         "0",
         "0",
         "0",
         "0",
         "0",
         "0",
         "0",
         "0",
         "0",
         "0",
         "0",
         "0",
         "0",
         "0",
         "0",
         "0",
         "0",
         "0",
         "0",
         "0",
         "0",
         "0",
         "0",
         "0",
         "0",
         "0",
         "0",
         "0",
         "0",
         "0",
         "0",
         "0",
         "0",
         "0",
         "0",
         "0",
         "0",
         "0",
         "0",
         "0",
         "0",
         "0",
         "0",
         "0",
         "0",
         "0",
         "0",
         "0",
         "0",
         "0",
         "0",
         "0",
         "0",
         "0",
         "0",
         "0",
         "0",
         "0",
         "0",
         "0",
         "0",
         "0",
         "0",
         "0",
         "0",
         "0",
         "0",
         "0",
         "0",
         "0",
         "0",
         "0",
         "0",
         "0",
         "0",
         "0",
         "0",
         "0",
         "0",
         "0",
         "0",
         "0",
         "0",
         "0",
         "0",
         "0",
         "0",
         "0",
         "0",
         "0",
         "0",
         "0",
         "0",
         "0",
         "0",
         "0",
         "0",
         "0",
         "0",
         "0",
         "0",
         "0",
         "0",
         "0",
         "0",
         "0",
         "0",
         "0",
         "0",
         "0",
         "0",
         "0",
         "0",
         "0",
         "0",
         "0",
         "0",
         "0",
         "0",
         "0",
         "0",
         "0",
         "0",
         "0",
         "0",
         "0",
         "0",
         "0",
         "0",
         "0",
         "0",
         "0",
         "0",
         "0",
         "0",
         "0",
         "0",
         "0",
         "0",
         "0",
         "0",
         "0",
         "0",
         "0",
         "0",
         "0",
         "0",
         "0",
         "0",
         "0",
         "0",
         "0",
         "0",
         "0",
         "0",
         "0",
         "0",
         "0",
         "0",
         "0",
         "0",
         "0",
         "0",
         "0",
         "0",
         "0",
         "0",
         "0",
         "0",
         "0",
         "0",
         "0",
         "0",
         "0",
         "0",
         "0",
         "0",
         "0",
         "0",
         "0",
         "0",
         "0",
         "0",
         "0",
         "0",
         "0",
         "0",
         "0",
         "0",
         "0",
         "0",
         "0",
         "0",
         "0",
         "0",
         "0",
         "0",
         "0",
         "0",
         "0",
         "0",
         "0",
         "0",
         "0",
         "0",
         "0",
         "0",
         "0",
         "0",
         "0",
         "0",
         "0",
         "0",
         "0",
         "0",
         "0",
         "0",
         "0",
         "0",
         "0",
         "0",
         "0",
         "0",
         "0",
         "0",
         "0",
         "0",
         "0",
         "0",
         "0",
         "0",
         "0",
         "0",
         "0",
         "0",
         "0",
         "0",
         "0",
         "0",
         "0",
         "0",
         "0",
         "0",
         "0",
         "0",
         "0",
         "0",
         "0",
         "0",
         "0",
         "0",
         "0",
         "0",
         "0",
         "0",
         "0",
         "0",
         "0",
         "0",
         "0",
         "0",
         "0",
         "0",
         "0",
         "0",
         "0",
         "0",
         "0",
         "0",
         "0",
         "0",
         "0",
         "0",
         "0",
         "0",
         "0",
         "0",
         "0",
         "0",
         "0",
         "0",
         "0",
         "0",
         "0",
         "0",
         "0",
         "0",
         "0",
         "0",
         "0",
         "0",
         "0",
         "0",
         "0",
         "0",
         "0",
         "0",
         "0",
         "0",
         "0",
         "0",
         "0",
         "0",
         "0",
         "0",
         "0",
         "0",
         "0",
         "0",
         "0",
         "0",
         "0",
         "0",
         "0",
         "0",
         "0",
         "0",
         "0",
         "0",
         "0",
         "0",
         "0",
         "0",
         "0",
         "0",
         "0",
         "0",
         "0",
         "0",
         "0",
         "0",
         "0",
         "0",
         "0",
         "0",
         "0",
         "0",
         "0",
         "0",
         "0",
         "0",
         "0",
         "0",
         "0",
         "0",
         "0",
         "0",
         "0",
         "0",
         "0",
         "0",
         "0",
         "0",
         "0",
         "0",
         "0",
         "0",
         "0",
         "0",
         "0",
         "0",
         "0",
         "0",
         "0",
         "0",
         "0",
         "0",
         "0",
         "0",
         "0",
         "0",
         "0",
         "0",
         "0",
         "0",
         "0",
         "0",
         "0",
         "0",
         "0",
         "0",
         "0",
         "0",
         "0",
         "0",
         "0",
         "0",
         "0",
         "0",
         "0",
         "0",
         "0",
         "0",
         "0",
         "0",
         "0",
         "0",
         "0",
         "0",
         "0",
         "0",
         "0",
         "0",
         "0",
         "0",
         "0",
         "0",
         "0",
         "0",
         "0",
         "0",
         "0",
         "0",
         "0",
         "0",
         "0",
         "0",
         "0",
         "0",
         "0",
         "0",
         "0",
         "0",
         "0",
         "0",
         "0",
         "0",
         "0",
         "0",
         "0",
         "0",
         "0",
         "0",
         "0",
         "0",
         "0",
         "0",
         "0",
         "0",
         "0",
         "0",
         "0",
         "0",
         "0",
         "0",
         "0",
         "0",
         "0",
         "0",
         "0",
         "0",
         "0",
         "0",
         "0",
         "0",
         "0",
         "0",
         "0",
         "0",
         "0",
         "0",
         "0",
         "0",
         "0",
         "0",
         "0",
         "0",
         "0",
         "0",
         "0",
         "0",
         "0",
         "0",
         "0",
         "0",
         "0",
         "0",
         "0",
         "0",
         "0",
         "0",
         "0",
         "0",
         "0",
         "0",
         "0",
         "0",
         "0",
         "0",
         "0",
         "0",
         "0",
         "0",
         "0",
         "0",
         "0",
         "0",
         "0",
         "0",
         "0",
         "0",
         "0",
         "0",
         "0",
         "0",
         "0",
         "0",
         "0",
         "0",
         "0",
         "0",
         "0",
         "0",
         "0",
         "0",
         "0",
         "0",
         "0",
         "0",
         "0",
         "0",
         "0",
         "0",
         "0",
         "0",
         "0",
         "0",
         "0",
         "0",
         "0",
         "0",
         "0",
         "0",
         "0",
         "0",
         "0",
         "0",
         "0",
         "0",
         "0",
         "0",
         "0",
         "0",
         "0",
         "0",
         "0",
         "0",
         "0",
         "0",
         "0",
         "0",
         "0",
         "0",
         "0",
         "0",
         "0",
         "0",
         "0",
         "0",
         "0",
         "0",
         "0",
         "0",
         "0",
         "0",
         "0",
         "0",
         "0",
         "0",
         "0",
         "0",
         "0",
         "0",
         "0",
         "0",
         "0",
         "0",
         "0",
         "0",
         "0",
         "0",
         "0",
         "0",
         "0",
         "0",
         "0",
         "0",
         "0",
         "0",
         "0",
         "0",
         "0",
         "0",
         "0",
         "0",
         "0",
         "0",
         "0",
         "0",
         "0",
         "0",
         "0",
         "0",
         "0",
         "0",
         "0",
         "0",
         "0",
         "0",
         "0",
         "0",
         "0",
         "0",
         "0",
         "0",
         "0",
         "0",
         "0",
         "0",
         "0",
         "0",
         "0",
         "0",
         "0",
         "0",
         "0",
         "0",
         "0",
         "0",
         "0",
         "0",
         "0",
         "0",
         "0",
         "0",
         "0",
         "0",
         "0",
         "0",
         "0",
         "0",
         "0",
         "0",
         "0",
         "0",
         "0",
         "0",
         "0",
         "0",
         "0",
         "0",
         "0",
         "0",
         "0",
         "0",
         "0",
         "0",
         "0",
         "0",
         "0",
         "0",
         "0",
         "0",
         "0",
         "0",
         "0",
         "0",
         "0",
         "0",
         "0",
         "0",
         "0",
         "0",
         "0",
         "0",
         "0",
         "0",
         "0",
         "0",
         "0",
         "0",
         "0",
         "0",
         "0",
         "0",
         "0",
         "0",
         "0",
         "0",
         "0",
         "0",
         "0",
         "0",
         "0",
         "0",
         "0",
         "0",
         "0",
         "0",
         "0",
         "0",
         "0",
         "0",
         "0",
         "0",
         "0",
         "0",
         "0",
         "0",
         "0",
         "0",
         "0",
         "0",
         "0",
         "0",
         "0",
         "0",
         "0",
         "0",
         "0",
         "0",
         "0",
         "0",
         "0",
         "0",
         "0",
         "0",
         "0",
         "0",
         "0",
         "0",
         "0",
         "0",
         "0",
         "0",
         "0",
         "0",
         "0",
         "0",
         "0",
         "0",
         "0",
         "0",
         "0",
         "0",
         "0",
         "0",
         "0",
         "0",
         "0",
         "0",
         "0",
         "0",
         "0",
         "0",
         "0",
         "0",
         "0",
         "0",
         "0",
         "0",
         "0",
         "0",
         "0",
         "0",
         "0",
         "0",
         "0",
         "0",
         "0",
         "0",
         "0",
         "0",
         "0",
         "0",
         "0",
         "0",
         "0",
         "0",
         "0",
         "0",
         "0",
         "0",
         "0",
         "0",
         "0",
         "0",
         "0",
         "0",
         "0",
         "0",
         "0",
         "0",
         "0",
         "0",
         "0",
         "0",
         "0",
         "0",
         "0",
         "0",
         "0",
         "0",
         "0",
         "0",
         "0",
         "0",
         "0",
         "0",
         "0",
         "0",
         "0",
         "0",
         "0",
         "0",
         "0",
         "0",
         "0",
         "0",
         "0",
         "0",
         "0",
         "0",
         "0",
         "0",
         "0",
         "0",
         "0",
         "0",
         "0",
         "0",
         "0",
         "0",
         "0",
         "0",
         "0",
         "0",
         "0",
         "0",
         "0",
         "0",
         "0",
         "0",
         "0",
         "0",
         "0",
         "0",
         "0",
         "0",
         "0",
         "0",
         "0",
         "0",
         "0",
         "0",
         "0",
         "0",
         "0",
         "0",
         "0",
         "0",
         "0",
         "0",
         "0",
         "0",
         "0",
         "0",
         "0",
         "0",
         "0",
         "0",
         "0",
         "0",
         "0",
         "0",
         "0",
         "0",
         "0",
         "0",
         "0",
         "0",
         "0",
         "0",
         "0",
         "0",
         "0",
         "0",
         "0",
         "0",
         "0",
         "0",
         "0",
         "0",
         "0",
         "0",
         "0",
         "0",
         "0",
         "0",
         "0",
         "0",
         "0",
         "0",
         "0",
         "0",
         "0",
         "0",
         "0",
         "0",
         "0",
         "0",
         "0",
         "0",
         "0",
         "0",
         "0",
         "0",
         "0",
         "0",
         "0",
         "0",
         "0",
         "0",
         "0",
         "0",
         "0",
         "0",
         "0",
         "0",
         "0",
         "0",
         "0",
         "0",
         "0",
         "0",
         "0",
         "0",
         "0",
         "0",
         "0",
         "0",
         "0",
         "0",
         "0",
         "0",
         "0",
         "0",
         "0",
         "0",
         "0",
         "0",
         "0",
         "0",
         "0",
         "0",
         "0",
         "0",
         "0",
         "0",
         "0",
         "0",
         "0",
         "0",
         "0",
         "0",
         "0",
         "0",
         "0",
         "0",
         "0",
         "0",
         "0",
         "0",
         "0",
         "0",
         "0",
         "0",
         "0",
         "0",
         "0",
         "0",
         "0",
         "0",
         "0",
         "0",
         "0",
         "0",
         "0",
         "0",
         "0",
         "0",
         "0",
         "0",
         "0",
         "0",
         "0",
         "0",
         "0",
         "0",
         "0",
         "0",
         "0",
         "0",
         "0",
         "0",
         "0",
         "0",
         "0",
         "0",
         "0",
         "0",
         "0",
         "0"
        ],
        [
         "4",
         "1",
         "-1",
         "0",
         "0",
         "0",
         "0",
         "0",
         "0",
         "0",
         "0",
         "0",
         "0",
         "0",
         "0",
         "0",
         "0",
         "1",
         "0",
         "0",
         "0",
         "-1",
         "0",
         "0",
         "1",
         "-1",
         "0",
         "0",
         "0",
         "1",
         "0",
         "0",
         "0",
         "0",
         "0",
         "0",
         "0",
         "0",
         "0",
         "0",
         "1",
         "0",
         "1",
         "0",
         "0",
         "0",
         "0",
         "0",
         "0",
         "0",
         "1",
         "0",
         "0",
         "0",
         "0",
         "0",
         "0",
         "0",
         "0",
         "0",
         "0",
         "0",
         "1",
         "-1",
         "0",
         "0",
         "-1",
         "0",
         "0",
         "-1",
         "1",
         "0",
         "0",
         "0",
         "0",
         "0",
         "0",
         "0",
         "0",
         "-1",
         "-1",
         "0",
         "0",
         "0",
         "0",
         "0",
         "0",
         "0",
         "0",
         "1",
         "-1",
         "0",
         "0",
         "0",
         "-1",
         "1",
         "0",
         "0",
         "-1",
         "-1",
         "1",
         "1",
         "-1",
         "0",
         "0",
         "-1",
         "0",
         "0",
         "0",
         "1",
         "-1",
         "0",
         "0",
         "0",
         "0",
         "0",
         "0",
         "0",
         "0",
         "0",
         "0",
         "1",
         "0",
         "0",
         "0",
         "0",
         "0",
         "0",
         "0",
         "0",
         "0",
         "0",
         "0",
         "0",
         "0",
         "1",
         "0",
         "0",
         "0",
         "-1",
         "0",
         "0",
         "0",
         "-1",
         "-1",
         "-1",
         "0",
         "0",
         "0",
         "0",
         "0",
         "-1",
         "0",
         "1",
         "-1",
         "0",
         "0",
         "0",
         "0",
         "0",
         "0",
         "0",
         "-1",
         "1",
         "0",
         "0",
         "0",
         "-1",
         "-1",
         "1",
         "0",
         "0",
         "1",
         "1",
         "1",
         "0",
         "-1",
         "0",
         "0",
         "0",
         "0",
         "1",
         "0",
         "1",
         "0",
         "-1",
         "1",
         "0",
         "0",
         "1",
         "0",
         "0",
         "0",
         "0",
         "1",
         "0",
         "0",
         "0",
         "0",
         "0",
         "-1",
         "0",
         "0",
         "0",
         "1",
         "0",
         "0",
         "0",
         "1",
         "1",
         "-1",
         "1",
         "0",
         "0",
         "-1",
         "0",
         "-1",
         "0",
         "0",
         "-1",
         "0",
         "0",
         "1",
         "0",
         "0",
         "-1",
         "-1",
         "1",
         "1",
         "-1",
         "-1",
         "-1",
         "0",
         "1",
         "-1",
         "1",
         "0",
         "0",
         "0",
         "1",
         "0",
         "-1",
         "0",
         "-1",
         "0",
         "0",
         "0",
         "0",
         "0",
         "0",
         "-1",
         "0",
         "0",
         "0",
         "0",
         "0",
         "0",
         "1",
         "0",
         "-1",
         "0",
         "0",
         "0",
         "0",
         "0",
         "0",
         "0",
         "1",
         "0",
         "0",
         "0",
         "0",
         "0",
         "0",
         "0",
         "0",
         "0",
         "0",
         "0",
         "0",
         "0",
         "0",
         "0",
         "0",
         "0",
         "0",
         "0",
         "0",
         "0",
         "0",
         "0",
         "0",
         "0",
         "0",
         "0",
         "0",
         "0",
         "0",
         "0",
         "0",
         "0",
         "0",
         "0",
         "0",
         "0",
         "0",
         "0",
         "0",
         "0",
         "0",
         "0",
         "0",
         "0",
         "0",
         "0",
         "0",
         "0",
         "0",
         "0",
         "0",
         "0",
         "0",
         "0",
         "0",
         "0",
         "0",
         "0",
         "0",
         "0",
         "0",
         "0",
         "0",
         "0",
         "0",
         "0",
         "0",
         "0",
         "0",
         "0",
         "0",
         "0",
         "0",
         "0",
         "0",
         "0",
         "0",
         "0",
         "0",
         "0",
         "0",
         "0",
         "0",
         "0",
         "0",
         "0",
         "0",
         "0",
         "0",
         "0",
         "0",
         "0",
         "0",
         "0",
         "-1",
         "-1",
         "-1",
         "-1",
         "-1",
         "-1",
         "-1",
         "-1",
         "-1",
         "-1",
         "-1",
         "-1",
         "-1",
         "-1",
         "-1",
         "-1",
         "-1",
         "-1",
         "-1",
         "1",
         "-1",
         "-1",
         "1",
         "-1",
         "-1",
         "-1",
         "-1",
         "1",
         "1",
         "-1",
         "-1",
         "-1",
         "-1",
         "1",
         "-1",
         "-1",
         "-1",
         "-1",
         "1",
         "-1",
         "-1",
         "-1",
         "-1",
         "-1",
         "-1",
         "1",
         "-1",
         "-1",
         "-1",
         "-1",
         "-1",
         "-1",
         "-1",
         "-1",
         "-1",
         "-1",
         "-1",
         "-1",
         "-1",
         "1",
         "1",
         "-1",
         "-1",
         "-1",
         "-1",
         "1",
         "-1",
         "1",
         "-1",
         "1",
         "1",
         "1",
         "1",
         "1",
         "-1",
         "-1",
         "-1",
         "-1",
         "-1",
         "-1",
         "1",
         "-1",
         "-1",
         "1",
         "-1",
         "-1",
         "-1",
         "-1",
         "-1",
         "-1",
         "-1",
         "-1",
         "1",
         "-1",
         "-1",
         "0",
         "0",
         "0",
         "0",
         "0",
         "0",
         "0",
         "0",
         "0",
         "0",
         "0",
         "0",
         "0",
         "0",
         "0",
         "0",
         "0",
         "0",
         "0",
         "0",
         "0",
         "0",
         "0",
         "0",
         "0",
         "0",
         "0",
         "0",
         "0",
         "0",
         "0",
         "0",
         "0",
         "0",
         "0",
         "0",
         "0",
         "0",
         "0",
         "0",
         "0",
         "0",
         "0",
         "0",
         "0",
         "0",
         "0",
         "0",
         "0",
         "0",
         "0",
         "0",
         "0",
         "0",
         "0",
         "0",
         "0",
         "0",
         "0",
         "0",
         "0",
         "0",
         "0",
         "0",
         "0",
         "0",
         "0",
         "0",
         "0",
         "0",
         "0",
         "0",
         "0",
         "0",
         "0",
         "0",
         "0",
         "0",
         "0",
         "0",
         "0",
         "0",
         "0",
         "0",
         "0",
         "0",
         "0",
         "0",
         "0",
         "0",
         "0",
         "0",
         "0",
         "0",
         "0",
         "0",
         "0",
         "0",
         "0",
         "0",
         "0",
         "0",
         "0",
         "0",
         "0",
         "0",
         "0",
         "0",
         "0",
         "0",
         "0",
         "0",
         "0",
         "0",
         "0",
         "0",
         "0",
         "0",
         "0",
         "0",
         "0",
         "0",
         "0",
         "0",
         "0",
         "0",
         "0",
         "0",
         "0",
         "0",
         "0",
         "0",
         "0",
         "0",
         "0",
         "0",
         "0",
         "0",
         "0",
         "0",
         "0",
         "0",
         "0",
         "0",
         "0",
         "0",
         "0",
         "0",
         "0",
         "0",
         "0",
         "0",
         "0",
         "0",
         "0",
         "0",
         "0",
         "0",
         "0",
         "0",
         "0",
         "0",
         "0",
         "0",
         "0",
         "0",
         "0",
         "0",
         "0",
         "0",
         "0",
         "0",
         "0",
         "0",
         "0",
         "0",
         "0",
         "0",
         "0",
         "0",
         "0",
         "0",
         "0",
         "0",
         "0",
         "0",
         "0",
         "0",
         "0",
         "0",
         "0",
         "0",
         "0",
         "0",
         "0",
         "0",
         "0",
         "0",
         "0",
         "0",
         "0",
         "0",
         "0",
         "0",
         "0",
         "0",
         "0",
         "0",
         "0",
         "0",
         "0",
         "0",
         "0",
         "0",
         "0",
         "0",
         "0",
         "0",
         "0",
         "0",
         "0",
         "0",
         "0",
         "0",
         "0",
         "0",
         "0",
         "0",
         "0",
         "0",
         "0",
         "0",
         "0",
         "0",
         "0",
         "0",
         "0",
         "0",
         "0",
         "0",
         "0",
         "0",
         "0",
         "0",
         "0",
         "0",
         "0",
         "0",
         "0",
         "0",
         "0",
         "0",
         "0",
         "0",
         "0",
         "0",
         "0",
         "0",
         "0",
         "0",
         "0",
         "0",
         "0",
         "0",
         "0",
         "0",
         "0",
         "0",
         "0",
         "0",
         "0",
         "0",
         "0",
         "0",
         "0",
         "0",
         "0",
         "0",
         "0",
         "0",
         "0",
         "0",
         "0",
         "0",
         "0",
         "0",
         "0",
         "0",
         "0",
         "0",
         "0",
         "0",
         "0",
         "0",
         "0",
         "0",
         "0",
         "0",
         "0",
         "0",
         "0",
         "0",
         "0",
         "0",
         "0",
         "0",
         "0",
         "0",
         "0",
         "0",
         "0",
         "0",
         "0",
         "0",
         "0",
         "0",
         "0",
         "0",
         "0",
         "0",
         "0",
         "0",
         "0",
         "0",
         "0",
         "0",
         "0",
         "0",
         "0",
         "0",
         "0",
         "0",
         "0",
         "0",
         "0",
         "0",
         "0",
         "0",
         "0",
         "0",
         "0",
         "0",
         "0",
         "0",
         "0",
         "0",
         "0",
         "0",
         "0",
         "0",
         "0",
         "0",
         "0",
         "0",
         "0",
         "0",
         "0",
         "0",
         "0",
         "0",
         "0",
         "0",
         "0",
         "0",
         "0",
         "0",
         "0",
         "0",
         "0",
         "0",
         "0",
         "0",
         "0",
         "0",
         "0",
         "0",
         "0",
         "0",
         "0",
         "0",
         "0",
         "0",
         "0",
         "0",
         "0",
         "0",
         "0",
         "0",
         "0",
         "0",
         "0",
         "0",
         "0",
         "0",
         "0",
         "0",
         "0",
         "0",
         "0",
         "0",
         "0",
         "0",
         "0",
         "0",
         "0",
         "0",
         "0",
         "0",
         "0",
         "0",
         "0",
         "0",
         "0",
         "0",
         "0",
         "0",
         "0",
         "0",
         "0",
         "0",
         "0",
         "0",
         "0",
         "0",
         "0",
         "0",
         "0",
         "0",
         "0",
         "0",
         "0",
         "0",
         "0",
         "0",
         "0",
         "0",
         "0",
         "0",
         "0",
         "0",
         "0",
         "0",
         "0",
         "0",
         "0",
         "0",
         "0",
         "0",
         "0",
         "0",
         "0",
         "0",
         "0",
         "0",
         "0",
         "0",
         "0",
         "0",
         "0",
         "0",
         "0",
         "0",
         "0",
         "0",
         "0",
         "0",
         "0",
         "0",
         "0",
         "0",
         "0",
         "0",
         "0",
         "0",
         "0",
         "0",
         "0",
         "0",
         "0",
         "0",
         "0",
         "0",
         "0",
         "0",
         "0",
         "0",
         "0",
         "0",
         "0",
         "0",
         "0",
         "0",
         "0",
         "0",
         "0",
         "0",
         "0",
         "0",
         "0",
         "0",
         "0",
         "0",
         "0",
         "0",
         "0",
         "0",
         "0",
         "0",
         "0",
         "0",
         "0",
         "0",
         "0",
         "0",
         "0",
         "0",
         "0",
         "0",
         "0",
         "0",
         "0",
         "0",
         "0",
         "0",
         "0",
         "0",
         "0",
         "0",
         "0",
         "0",
         "0",
         "0",
         "0",
         "0",
         "0",
         "0",
         "0",
         "0",
         "0",
         "0",
         "0",
         "0",
         "0",
         "0",
         "0",
         "0",
         "0",
         "0",
         "0",
         "0",
         "0",
         "0",
         "0",
         "0",
         "0",
         "0",
         "0",
         "0",
         "0",
         "0",
         "0",
         "0",
         "0",
         "0",
         "0",
         "0",
         "0",
         "0",
         "0",
         "0",
         "0",
         "0",
         "0",
         "0",
         "0",
         "0",
         "0",
         "0",
         "0",
         "0",
         "0",
         "0",
         "0",
         "0",
         "0",
         "0",
         "0",
         "0",
         "0",
         "0",
         "0",
         "0",
         "0",
         "0",
         "0",
         "0",
         "0",
         "0",
         "0",
         "0",
         "0",
         "0",
         "0",
         "0",
         "0",
         "0",
         "0",
         "0",
         "0",
         "0",
         "0",
         "0",
         "0",
         "0",
         "0",
         "0",
         "0",
         "0",
         "0",
         "0",
         "0",
         "0",
         "0",
         "0",
         "0",
         "0",
         "0",
         "0",
         "0",
         "0",
         "0",
         "0",
         "0",
         "0",
         "0",
         "0",
         "0",
         "0",
         "0",
         "0",
         "0",
         "0",
         "0",
         "0",
         "0",
         "0",
         "0",
         "0",
         "0",
         "0",
         "0",
         "0",
         "0",
         "0",
         "0",
         "0",
         "0",
         "0",
         "0",
         "0",
         "0",
         "0",
         "0",
         "0",
         "0",
         "0",
         "0",
         "0",
         "0",
         "0",
         "0",
         "0",
         "0",
         "0",
         "0",
         "0",
         "0",
         "0",
         "0",
         "0",
         "0",
         "0",
         "0",
         "0",
         "0",
         "0",
         "0",
         "0",
         "0",
         "0",
         "0",
         "0",
         "0",
         "0",
         "0",
         "0",
         "0",
         "0",
         "0",
         "0",
         "0",
         "0",
         "0",
         "0",
         "0",
         "0",
         "0",
         "0",
         "0",
         "0",
         "0",
         "0",
         "0",
         "0",
         "0",
         "0",
         "0",
         "0",
         "0",
         "0",
         "0",
         "0",
         "0",
         "0",
         "0",
         "0",
         "0",
         "0",
         "0",
         "0",
         "0",
         "0",
         "0",
         "0",
         "0",
         "0",
         "0",
         "0",
         "0",
         "0",
         "0",
         "0",
         "0",
         "0",
         "0",
         "0",
         "0",
         "0",
         "0",
         "0",
         "0",
         "0",
         "0",
         "0",
         "0",
         "0",
         "0",
         "0",
         "0",
         "0",
         "0",
         "0",
         "0",
         "0",
         "0",
         "0",
         "0",
         "0",
         "0",
         "0",
         "0",
         "0",
         "0",
         "0",
         "0",
         "0",
         "0",
         "0",
         "0",
         "0",
         "0",
         "0",
         "0",
         "0",
         "0",
         "0",
         "0",
         "0",
         "0",
         "0",
         "0",
         "0",
         "0",
         "0",
         "0",
         "0",
         "0",
         "0",
         "0",
         "0",
         "0",
         "0",
         "0",
         "0",
         "0",
         "0",
         "0",
         "0",
         "0",
         "0",
         "0",
         "0",
         "0",
         "0",
         "0",
         "0",
         "0",
         "0",
         "0",
         "0",
         "0",
         "0",
         "0",
         "0",
         "0",
         "0",
         "0",
         "0",
         "0",
         "0",
         "0",
         "0",
         "0",
         "0",
         "0",
         "0",
         "0",
         "0",
         "0",
         "0",
         "0",
         "0",
         "0",
         "0",
         "0",
         "0",
         "0",
         "0",
         "0",
         "0",
         "0",
         "0",
         "0",
         "0",
         "0",
         "0",
         "0",
         "0",
         "0",
         "0",
         "0",
         "0",
         "0",
         "0",
         "0",
         "0",
         "0",
         "0",
         "0",
         "0",
         "0",
         "0",
         "0",
         "0",
         "0",
         "0",
         "0",
         "0",
         "0",
         "0",
         "0",
         "0",
         "0",
         "0",
         "0",
         "0",
         "0",
         "0",
         "0",
         "0",
         "0",
         "0",
         "0",
         "0",
         "0",
         "0",
         "0",
         "0",
         "0",
         "0",
         "0",
         "0",
         "0",
         "0",
         "0",
         "0",
         "0",
         "0",
         "0",
         "0",
         "0",
         "0",
         "0",
         "0",
         "0",
         "0",
         "0",
         "0",
         "0",
         "0",
         "0",
         "0",
         "0",
         "0",
         "0",
         "0",
         "0",
         "0",
         "0",
         "0",
         "0",
         "0",
         "0",
         "0",
         "0",
         "0",
         "0",
         "0",
         "0",
         "0",
         "0",
         "0",
         "0",
         "0",
         "0",
         "0",
         "0",
         "0",
         "0",
         "0",
         "0",
         "0",
         "0",
         "0",
         "0",
         "0",
         "0",
         "0",
         "0",
         "0",
         "0",
         "0",
         "0",
         "0",
         "0",
         "0",
         "0",
         "0",
         "0",
         "0",
         "0",
         "0",
         "0",
         "0",
         "0",
         "0",
         "0",
         "0",
         "0",
         "0",
         "0",
         "0",
         "0",
         "0",
         "0",
         "0",
         "0",
         "0",
         "0",
         "0",
         "0",
         "0",
         "0",
         "0",
         "0",
         "0",
         "0",
         "0",
         "0",
         "0",
         "0",
         "0",
         "0",
         "0",
         "0",
         "0",
         "0",
         "0",
         "0",
         "0",
         "0",
         "0",
         "0",
         "0",
         "0",
         "0",
         "0",
         "0",
         "0",
         "0",
         "0",
         "0",
         "0",
         "0",
         "0",
         "0",
         "0",
         "0",
         "0",
         "0",
         "0",
         "0",
         "0",
         "0",
         "0",
         "0",
         "0",
         "0",
         "0",
         "0",
         "0",
         "0",
         "0",
         "0",
         "0",
         "0",
         "0",
         "0",
         "0",
         "0",
         "0",
         "0",
         "0",
         "0",
         "0",
         "0",
         "0",
         "0",
         "0",
         "0",
         "0",
         "0",
         "0",
         "0",
         "0",
         "0",
         "0",
         "0",
         "0",
         "0",
         "0",
         "0",
         "0",
         "0",
         "0",
         "0",
         "0",
         "0",
         "0",
         "0",
         "0",
         "0",
         "0",
         "0",
         "0",
         "0",
         "0",
         "0",
         "0",
         "0",
         "0",
         "0",
         "0",
         "0",
         "0",
         "0",
         "0",
         "0",
         "0",
         "0",
         "0",
         "0",
         "0",
         "0",
         "0",
         "0",
         "0",
         "0",
         "0",
         "0",
         "0",
         "0",
         "0",
         "0",
         "0",
         "0",
         "0",
         "0",
         "0",
         "0",
         "0",
         "0",
         "0",
         "0",
         "0",
         "0",
         "0",
         "0",
         "0",
         "0",
         "0",
         "0",
         "0",
         "0",
         "0",
         "0",
         "0",
         "0",
         "0",
         "0",
         "0",
         "0",
         "0",
         "0",
         "0",
         "0",
         "0",
         "0",
         "0",
         "0",
         "0",
         "0",
         "0",
         "0",
         "0",
         "0",
         "0",
         "0",
         "0",
         "0",
         "0",
         "0",
         "0",
         "0",
         "0",
         "0",
         "0",
         "0",
         "0",
         "0",
         "0",
         "0",
         "0",
         "0",
         "0",
         "0",
         "0",
         "0",
         "0",
         "0",
         "0",
         "0",
         "0",
         "0",
         "0",
         "0",
         "0",
         "0",
         "0",
         "0",
         "0",
         "0",
         "0",
         "0",
         "0",
         "0",
         "0",
         "0",
         "0",
         "0",
         "0",
         "0",
         "0",
         "0",
         "0",
         "0",
         "0",
         "0",
         "0",
         "0",
         "0",
         "0",
         "0",
         "0",
         "0",
         "0",
         "0",
         "0",
         "0",
         "0",
         "0",
         "0",
         "0",
         "0",
         "0"
        ]
       ],
       "shape": {
        "columns": 1682,
        "rows": 5
       }
      },
      "text/html": [
       "<div>\n",
       "<style scoped>\n",
       "    .dataframe tbody tr th:only-of-type {\n",
       "        vertical-align: middle;\n",
       "    }\n",
       "\n",
       "    .dataframe tbody tr th {\n",
       "        vertical-align: top;\n",
       "    }\n",
       "\n",
       "    .dataframe thead th {\n",
       "        text-align: right;\n",
       "    }\n",
       "</style>\n",
       "<table border=\"1\" class=\"dataframe\">\n",
       "  <thead>\n",
       "    <tr style=\"text-align: right;\">\n",
       "      <th></th>\n",
       "      <th>0</th>\n",
       "      <th>1</th>\n",
       "      <th>2</th>\n",
       "      <th>3</th>\n",
       "      <th>4</th>\n",
       "      <th>5</th>\n",
       "      <th>6</th>\n",
       "      <th>7</th>\n",
       "      <th>8</th>\n",
       "      <th>9</th>\n",
       "      <th>...</th>\n",
       "      <th>1672</th>\n",
       "      <th>1673</th>\n",
       "      <th>1674</th>\n",
       "      <th>1675</th>\n",
       "      <th>1676</th>\n",
       "      <th>1677</th>\n",
       "      <th>1678</th>\n",
       "      <th>1679</th>\n",
       "      <th>1680</th>\n",
       "      <th>1681</th>\n",
       "    </tr>\n",
       "  </thead>\n",
       "  <tbody>\n",
       "    <tr>\n",
       "      <th>0</th>\n",
       "      <td>1</td>\n",
       "      <td>-1</td>\n",
       "      <td>1</td>\n",
       "      <td>-1</td>\n",
       "      <td>-1</td>\n",
       "      <td>1</td>\n",
       "      <td>1</td>\n",
       "      <td>-1</td>\n",
       "      <td>1</td>\n",
       "      <td>-1</td>\n",
       "      <td>...</td>\n",
       "      <td>0</td>\n",
       "      <td>0</td>\n",
       "      <td>0</td>\n",
       "      <td>0</td>\n",
       "      <td>0</td>\n",
       "      <td>0</td>\n",
       "      <td>0</td>\n",
       "      <td>0</td>\n",
       "      <td>0</td>\n",
       "      <td>0</td>\n",
       "    </tr>\n",
       "    <tr>\n",
       "      <th>1</th>\n",
       "      <td>1</td>\n",
       "      <td>0</td>\n",
       "      <td>0</td>\n",
       "      <td>0</td>\n",
       "      <td>0</td>\n",
       "      <td>0</td>\n",
       "      <td>0</td>\n",
       "      <td>0</td>\n",
       "      <td>0</td>\n",
       "      <td>-1</td>\n",
       "      <td>...</td>\n",
       "      <td>0</td>\n",
       "      <td>0</td>\n",
       "      <td>0</td>\n",
       "      <td>0</td>\n",
       "      <td>0</td>\n",
       "      <td>0</td>\n",
       "      <td>0</td>\n",
       "      <td>0</td>\n",
       "      <td>0</td>\n",
       "      <td>0</td>\n",
       "    </tr>\n",
       "    <tr>\n",
       "      <th>2</th>\n",
       "      <td>0</td>\n",
       "      <td>0</td>\n",
       "      <td>0</td>\n",
       "      <td>0</td>\n",
       "      <td>0</td>\n",
       "      <td>0</td>\n",
       "      <td>0</td>\n",
       "      <td>0</td>\n",
       "      <td>0</td>\n",
       "      <td>0</td>\n",
       "      <td>...</td>\n",
       "      <td>0</td>\n",
       "      <td>0</td>\n",
       "      <td>0</td>\n",
       "      <td>0</td>\n",
       "      <td>0</td>\n",
       "      <td>0</td>\n",
       "      <td>0</td>\n",
       "      <td>0</td>\n",
       "      <td>0</td>\n",
       "      <td>0</td>\n",
       "    </tr>\n",
       "    <tr>\n",
       "      <th>3</th>\n",
       "      <td>0</td>\n",
       "      <td>0</td>\n",
       "      <td>0</td>\n",
       "      <td>0</td>\n",
       "      <td>0</td>\n",
       "      <td>0</td>\n",
       "      <td>0</td>\n",
       "      <td>0</td>\n",
       "      <td>0</td>\n",
       "      <td>0</td>\n",
       "      <td>...</td>\n",
       "      <td>0</td>\n",
       "      <td>0</td>\n",
       "      <td>0</td>\n",
       "      <td>0</td>\n",
       "      <td>0</td>\n",
       "      <td>0</td>\n",
       "      <td>0</td>\n",
       "      <td>0</td>\n",
       "      <td>0</td>\n",
       "      <td>0</td>\n",
       "    </tr>\n",
       "    <tr>\n",
       "      <th>4</th>\n",
       "      <td>1</td>\n",
       "      <td>-1</td>\n",
       "      <td>0</td>\n",
       "      <td>0</td>\n",
       "      <td>0</td>\n",
       "      <td>0</td>\n",
       "      <td>0</td>\n",
       "      <td>0</td>\n",
       "      <td>0</td>\n",
       "      <td>0</td>\n",
       "      <td>...</td>\n",
       "      <td>0</td>\n",
       "      <td>0</td>\n",
       "      <td>0</td>\n",
       "      <td>0</td>\n",
       "      <td>0</td>\n",
       "      <td>0</td>\n",
       "      <td>0</td>\n",
       "      <td>0</td>\n",
       "      <td>0</td>\n",
       "      <td>0</td>\n",
       "    </tr>\n",
       "  </tbody>\n",
       "</table>\n",
       "<p>5 rows × 1682 columns</p>\n",
       "</div>"
      ],
      "text/plain": [
       "   0     1     2     3     4     5     6     7     8     9     ...  1672  \\\n",
       "0     1    -1     1    -1    -1     1     1    -1     1    -1  ...     0   \n",
       "1     1     0     0     0     0     0     0     0     0    -1  ...     0   \n",
       "2     0     0     0     0     0     0     0     0     0     0  ...     0   \n",
       "3     0     0     0     0     0     0     0     0     0     0  ...     0   \n",
       "4     1    -1     0     0     0     0     0     0     0     0  ...     0   \n",
       "\n",
       "   1673  1674  1675  1676  1677  1678  1679  1680  1681  \n",
       "0     0     0     0     0     0     0     0     0     0  \n",
       "1     0     0     0     0     0     0     0     0     0  \n",
       "2     0     0     0     0     0     0     0     0     0  \n",
       "3     0     0     0     0     0     0     0     0     0  \n",
       "4     0     0     0     0     0     0     0     0     0  \n",
       "\n",
       "[5 rows x 1682 columns]"
      ]
     },
     "execution_count": 51,
     "metadata": {},
     "output_type": "execute_result"
    }
   ],
   "source": [
    "rating_matrix_thresholded_df.head()"
   ]
  },
  {
   "cell_type": "code",
   "execution_count": null,
   "metadata": {},
   "outputs": [
    {
     "name": "stdout",
     "output_type": "stream",
     "text": [
      "\n",
      "Sample rI (item to user ratings) for Training Set:\n",
      "Item 241: [(np.int64(195), np.int64(3)), (np.int64(62), np.int64(3)), (np.int64(225), np.int64(5)), (np.int64(153), np.int64(3)), (np.int64(305), np.int64(5)), (np.int64(295), np.int64(4)), (np.int64(33), np.int64(5)), (np.int64(270), np.int64(4)), (np.int64(200), np.int64(4)), (np.int64(208), np.int64(4)), (np.int64(34), np.int64(2)), (np.int64(353), np.int64(5)), (np.int64(198), np.int64(5)), (np.int64(112), np.int64(2)), (np.int64(0), np.int64(5)), (np.int64(172), np.int64(5)), (np.int64(359), np.int64(4)), (np.int64(233), np.int64(4)), (np.int64(13), np.int64(4)), (np.int64(308), np.int64(4)), (np.int64(330), np.int64(4)), (np.int64(20), np.int64(3)), (np.int64(110), np.int64(4)), (np.int64(438), np.int64(5)), (np.int64(354), np.int64(4)), (np.int64(203), np.int64(5)), (np.int64(144), np.int64(5)), (np.int64(29), np.int64(5)), (np.int64(462), np.int64(2)), (np.int64(143), np.int64(4)), (np.int64(416), np.int64(3)), (np.int64(1), np.int64(5)), (np.int64(496), np.int64(1)), (np.int64(522), np.int64(5)), (np.int64(11), np.int64(5)), (np.int64(201), np.int64(3)), (np.int64(130), np.int64(5)), (np.int64(450), np.int64(1)), (np.int64(531), np.int64(4)), (np.int64(538), np.int64(5)), (np.int64(536), np.int64(3)), (np.int64(415), np.int64(4)), (np.int64(565), np.int64(5)), (np.int64(596), np.int64(4)), (np.int64(180), np.int64(1)), (np.int64(638), np.int64(4)), (np.int64(122), np.int64(5)), (np.int64(519), np.int64(5)), (np.int64(616), np.int64(3)), (np.int64(85), np.int64(4)), (np.int64(623), np.int64(4)), (np.int64(8), np.int64(4)), (np.int64(650), np.int64(5)), (np.int64(491), np.int64(5)), (np.int64(206), np.int64(4)), (np.int64(459), np.int64(4)), (np.int64(696), np.int64(5)), (np.int64(128), np.int64(4)), (np.int64(39), np.int64(4)), (np.int64(739), np.int64(4)), (np.int64(238), np.int64(5)), (np.int64(793), np.int64(5)), (np.int64(460), np.int64(3)), (np.int64(770), np.int64(4)), (np.int64(732), np.int64(4)), (np.int64(567), np.int64(4)), (np.int64(672), np.int64(4)), (np.int64(248), np.int64(5)), (np.int64(5), np.int64(4)), (np.int64(204), np.int64(4)), (np.int64(591), np.int64(5)), (np.int64(439), np.int64(5)), (np.int64(640), np.int64(5)), (np.int64(764), np.int64(5)), (np.int64(138), np.int64(3)), (np.int64(627), np.int64(5)), (np.int64(472), np.int64(3)), (np.int64(694), np.int64(5)), (np.int64(205), np.int64(3)), (np.int64(862), np.int64(4)), (np.int64(89), np.int64(4)), (np.int64(593), np.int64(4)), (np.int64(865), np.int64(3)), (np.int64(802), np.int64(5)), (np.int64(239), np.int64(5)), (np.int64(752), np.int64(4)), (np.int64(734), np.int64(5)), (np.int64(868), np.int64(2)), (np.int64(654), np.int64(4)), (np.int64(17), np.int64(5)), (np.int64(897), np.int64(4)), (np.int64(936), np.int64(3)), (np.int64(766), np.int64(4)), (np.int64(532), np.int64(4)), (np.int64(679), np.int64(4)), (np.int64(484), np.int64(5)), (np.int64(573), np.int64(5)), (np.int64(757), np.int64(3)), (np.int64(485), np.int64(4)), (np.int64(12), np.int64(2)), (np.int64(723), np.int64(1)), (np.int64(269), np.int64(5)), (np.int64(427), np.int64(4)), (np.int64(860), np.int64(5)), (np.int64(870), np.int64(3)), (np.int64(407), np.int64(4)), (np.int64(194), np.int64(4)), (np.int64(278), np.int64(3)), (np.int64(742), np.int64(4)), (np.int64(706), np.int64(4)), (np.int64(893), np.int64(4)), (np.int64(674), np.int64(4)), (np.int64(304), np.int64(5)), (np.int64(844), np.int64(4)), (np.int64(499), np.int64(3)), (np.int64(719), np.int64(4)), (np.int64(720), np.int64(3))]\n",
      "Item 301: [(np.int64(185), np.int64(3)), (np.int64(190), np.int64(4)), (np.int64(48), np.int64(4)), (np.int64(53), np.int64(4)), (np.int64(61), np.int64(3)), (np.int64(205), np.int64(5)), (np.int64(196), np.int64(3)), (np.int64(213), np.int64(4)), (np.int64(189), np.int64(5)), (np.int64(302), np.int64(4)), (np.int64(180), np.int64(2)), (np.int64(153), np.int64(4)), (np.int64(30), np.int64(4)), (np.int64(304), np.int64(4)), (np.int64(177), np.int64(4)), (np.int64(101), np.int64(3)), (np.int64(99), np.int64(4)), (np.int64(143), np.int64(3)), (np.int64(12), np.int64(5)), (np.int64(314), np.int64(5)), (np.int64(87), np.int64(3)), (np.int64(281), np.int64(5)), (np.int64(333), np.int64(5)), (np.int64(207), np.int64(1)), (np.int64(111), np.int64(4)), (np.int64(276), np.int64(4)), (np.int64(144), np.int64(4)), (np.int64(391), np.int64(5)), (np.int64(275), np.int64(5)), (np.int64(359), np.int64(4)), (np.int64(125), np.int64(4)), (np.int64(318), np.int64(4)), (np.int64(46), np.int64(5)), (np.int64(145), np.int64(4)), (np.int64(377), np.int64(5)), (np.int64(130), np.int64(5)), (np.int64(170), np.int64(4)), (np.int64(200), np.int64(4)), (np.int64(191), np.int64(5)), (np.int64(344), np.int64(5)), (np.int64(203), np.int64(5)), (np.int64(106), np.int64(4)), (np.int64(221), np.int64(3)), (np.int64(432), np.int64(5)), (np.int64(228), np.int64(5)), (np.int64(338), np.int64(4)), (np.int64(426), np.int64(4)), (np.int64(28), np.int64(4)), (np.int64(419), np.int64(4)), (np.int64(42), np.int64(4)), (np.int64(267), np.int64(5)), (np.int64(240), np.int64(3)), (np.int64(396), np.int64(5)), (np.int64(382), np.int64(4)), (np.int64(345), np.int64(3)), (np.int64(460), np.int64(3)), (np.int64(417), np.int64(2)), (np.int64(404), np.int64(4)), (np.int64(178), np.int64(4)), (np.int64(361), np.int64(5)), (np.int64(9), np.int64(4)), (np.int64(89), np.int64(5)), (np.int64(296), np.int64(4)), (np.int64(424), np.int64(5)), (np.int64(412), np.int64(2)), (np.int64(148), np.int64(4)), (np.int64(429), np.int64(4)), (np.int64(231), np.int64(5)), (np.int64(103), np.int64(5)), (np.int64(284), np.int64(5)), (np.int64(128), np.int64(4)), (np.int64(25), np.int64(5)), (np.int64(513), np.int64(5)), (np.int64(14), np.int64(4)), (np.int64(292), np.int64(4)), (np.int64(488), np.int64(5)), (np.int64(420), np.int64(4)), (np.int64(342), np.int64(4)), (np.int64(497), np.int64(3)), (np.int64(459), np.int64(4)), (np.int64(389), np.int64(5)), (np.int64(172), np.int64(5)), (np.int64(139), np.int64(4)), (np.int64(268), np.int64(3)), (np.int64(321), np.int64(5)), (np.int64(566), np.int64(4)), (np.int64(465), np.int64(5)), (np.int64(445), np.int64(4)), (np.int64(403), np.int64(4)), (np.int64(407), np.int64(5)), (np.int64(298), np.int64(4)), (np.int64(115), np.int64(3)), (np.int64(531), np.int64(5)), (np.int64(506), np.int64(5)), (np.int64(422), np.int64(5)), (np.int64(568), np.int64(4)), (np.int64(351), np.int64(4)), (np.int64(511), np.int64(4)), (np.int64(633), np.int64(5)), (np.int64(2), np.int64(2)), (np.int64(374), np.int64(5)), (np.int64(560), np.int64(4)), (np.int64(449), np.int64(5)), (np.int64(62), np.int64(3)), (np.int64(627), np.int64(5)), (np.int64(569), np.int64(4)), (np.int64(104), np.int64(5)), (np.int64(554), np.int64(3)), (np.int64(547), np.int64(4)), (np.int64(5), np.int64(4)), (np.int64(573), np.int64(4)), (np.int64(508), np.int64(5)), (np.int64(413), np.int64(5)), (np.int64(93), np.int64(4)), (np.int64(138), np.int64(3)), (np.int64(530), np.int64(5)), (np.int64(514), np.int64(3)), (np.int64(366), np.int64(5)), (np.int64(13), np.int64(5)), (np.int64(684), np.int64(3)), (np.int64(110), np.int64(5)), (np.int64(706), np.int64(4)), (np.int64(696), np.int64(5)), (np.int64(665), np.int64(5)), (np.int64(330), np.int64(5)), (np.int64(542), np.int64(4)), (np.int64(383), np.int64(5)), (np.int64(682), np.int64(5)), (np.int64(326), np.int64(3)), (np.int64(720), np.int64(3)), (np.int64(430), np.int64(3)), (np.int64(519), np.int64(3)), (np.int64(761), np.int64(5)), (np.int64(15), np.int64(5)), (np.int64(489), np.int64(4)), (np.int64(463), np.int64(5)), (np.int64(133), np.int64(2)), (np.int64(639), np.int64(5)), (np.int64(618), np.int64(4)), (np.int64(51), np.int64(4)), (np.int64(716), np.int64(5)), (np.int64(73), np.int64(4)), (np.int64(68), np.int64(4)), (np.int64(270), np.int64(5)), (np.int64(363), np.int64(4)), (np.int64(176), np.int64(4)), (np.int64(703), np.int64(4)), (np.int64(400), np.int64(3)), (np.int64(473), np.int64(5)), (np.int64(206), np.int64(4)), (np.int64(654), np.int64(4)), (np.int64(757), np.int64(5)), (np.int64(817), np.int64(5)), (np.int64(283), np.int64(4)), (np.int64(472), np.int64(4)), (np.int64(668), np.int64(4)), (np.int64(719), np.int64(5)), (np.int64(787), np.int64(4)), (np.int64(215), np.int64(5)), (np.int64(746), np.int64(5)), (np.int64(852), np.int64(4)), (np.int64(754), np.int64(4)), (np.int64(150), np.int64(3)), (np.int64(327), np.int64(4)), (np.int64(827), np.int64(4)), (np.int64(444), np.int64(1)), (np.int64(328), np.int64(5)), (np.int64(837), np.int64(4)), (np.int64(663), np.int64(4)), (np.int64(893), np.int64(4)), (np.int64(387), np.int64(5)), (np.int64(732), np.int64(4)), (np.int64(807), np.int64(5)), (np.int64(870), np.int64(5)), (np.int64(888), np.int64(4)), (np.int64(369), np.int64(5)), (np.int64(398), np.int64(4)), (np.int64(388), np.int64(5)), (np.int64(462), np.int64(5)), (np.int64(750), np.int64(4)), (np.int64(447), np.int64(5)), (np.int64(832), np.int64(3)), (np.int64(157), np.int64(4)), (np.int64(591), np.int64(5)), (np.int64(786), np.int64(3)), (np.int64(675), np.int64(5)), (np.int64(712), np.int64(4)), (np.int64(774), np.int64(3)), (np.int64(864), np.int64(5)), (np.int64(695), np.int64(5)), (np.int64(427), np.int64(5)), (np.int64(808), np.int64(5)), (np.int64(869), np.int64(4)), (np.int64(457), np.int64(5)), (np.int64(895), np.int64(2)), (np.int64(865), np.int64(2)), (np.int64(742), np.int64(5)), (np.int64(421), np.int64(3)), (np.int64(912), np.int64(4)), (np.int64(415), np.int64(5)), (np.int64(739), np.int64(5)), (np.int64(209), np.int64(5)), (np.int64(743), np.int64(5)), (np.int64(801), np.int64(4)), (np.int64(450), np.int64(3)), (np.int64(614), np.int64(4)), (np.int64(604), np.int64(4)), (np.int64(534), np.int64(3)), (np.int64(546), np.int64(5)), (np.int64(826), np.int64(4)), (np.int64(781), np.int64(3)), (np.int64(751), np.int64(5)), (np.int64(525), np.int64(5)), (np.int64(362), np.int64(5)), (np.int64(655), np.int64(3)), (np.int64(70), np.int64(3)), (np.int64(844), np.int64(3)), (np.int64(919), np.int64(4)), (np.int64(248), np.int64(4)), (np.int64(656), np.int64(2)), (np.int64(818), np.int64(5)), (np.int64(904), np.int64(5)), (np.int64(479), np.int64(4)), (np.int64(853), np.int64(3)), (np.int64(523), np.int64(5)), (np.int64(933), np.int64(4)), (np.int64(239), np.int64(5)), (np.int64(536), np.int64(4)), (np.int64(800), np.int64(4)), (np.int64(484), np.int64(5)), (np.int64(901), np.int64(3)), (np.int64(623), np.int64(4)), (np.int64(625), np.int64(4)), (np.int64(859), np.int64(4)), (np.int64(555), np.int64(4)), (np.int64(453), np.int64(4)), (np.int64(723), np.int64(3)), (np.int64(850), np.int64(5)), (np.int64(559), np.int64(5)), (np.int64(47), np.int64(4)), (np.int64(653), np.int64(5)), (np.int64(667), np.int64(5)), (np.int64(563), np.int64(3)), (np.int64(114), np.int64(4)), (np.int64(277), np.int64(3)), (np.int64(790), np.int64(4)), (np.int64(687), np.int64(5)), (np.int64(586), np.int64(3)), (np.int64(882), np.int64(5)), (np.int64(862), np.int64(4)), (np.int64(769), np.int64(2)), (np.int64(879), np.int64(5)), (np.int64(805), np.int64(4)), (np.int64(159), np.int64(5)), (np.int64(845), np.int64(5)), (np.int64(925), np.int64(4)), (np.int64(616), np.int64(4)), (np.int64(939), np.int64(4)), (np.int64(694), np.int64(4)), (np.int64(744), np.int64(4)), (np.int64(876), np.int64(2)), (np.int64(783), np.int64(5)), (np.int64(39), np.int64(3)), (np.int64(650), np.int64(5)), (np.int64(840), np.int64(5)), (np.int64(841), np.int64(5)), (np.int64(392), np.int64(4)), (np.int64(38), np.int64(5)), (np.int64(379), np.int64(5)), (np.int64(835), np.int64(5)), (np.int64(780), np.int64(5)), (np.int64(874), np.int64(5)), (np.int64(819), np.int64(5)), (np.int64(615), np.int64(5)), (np.int64(914), np.int64(4)), (np.int64(771), np.int64(5)), (np.int64(1), np.int64(5)), (np.int64(184), np.int64(4)), (np.int64(902), np.int64(4)), (np.int64(331), np.int64(5)), (np.int64(610), np.int64(5)), (np.int64(466), np.int64(4)), (np.int64(543), np.int64(5)), (np.int64(485), np.int64(5)), (np.int64(811), np.int64(3)), (np.int64(550), np.int64(3)), (np.int64(918), np.int64(4)), (np.int64(474), np.int64(3)), (np.int64(930), np.int64(4)), (np.int64(709), np.int64(4)), (np.int64(146), np.int64(4)), (np.int64(672), np.int64(3)), (np.int64(873), np.int64(5)), (np.int64(634), np.int64(4)), (np.int64(343), np.int64(5)), (np.int64(416), np.int64(3)), (np.int64(897), np.int64(4))]\n",
      "\n",
      "Sample rU (user to item ratings) for Training Set:\n",
      "User 195: [(np.int64(241), np.int64(3)), (np.int64(392), np.int64(4)), (np.int64(380), np.int64(4)), (np.int64(250), np.int64(3)), (np.int64(654), np.int64(5)), (np.int64(66), np.int64(5)), (np.int64(305), np.int64(4)), (np.int64(237), np.int64(4)), (np.int64(662), np.int64(5)), (np.int64(110), np.int64(4)), (np.int64(579), np.int64(2)), (np.int64(24), np.int64(4)), (np.int64(285), np.int64(5)), (np.int64(93), np.int64(3)), (np.int64(691), np.int64(5)), (np.int64(7), np.int64(5)), (np.int64(427), np.int64(4)), (np.int64(1117), np.int64(4)), (np.int64(69), np.int64(3)), (np.int64(65), np.int64(3)), (np.int64(256), np.int64(2)), (np.int64(107), np.int64(4)), (np.int64(201), np.int64(3)), (np.int64(339), np.int64(3)), (np.int64(286), np.int64(3)), (np.int64(115), np.int64(3)), (np.int64(381), np.int64(4)), (np.int64(284), np.int64(5)), (np.int64(1240), np.int64(3)), (np.int64(1006), np.int64(4)), (np.int64(410), np.int64(4)), (np.int64(152), np.int64(5)), (np.int64(12), np.int64(2)), (np.int64(761), np.int64(3)), (np.int64(172), np.int64(2)), (np.int64(1021), np.int64(4)), (np.int64(844), np.int64(4)), (np.int64(268), np.int64(3)), (np.int64(109), np.int64(1))]\n",
      "User 185: [(np.int64(301), np.int64(3)), (np.int64(565), np.int64(5)), (np.int64(249), np.int64(1)), (np.int64(147), np.int64(4)), (np.int64(262), np.int64(3)), (np.int64(469), np.int64(5)), (np.int64(982), np.int64(3)), (np.int64(280), np.int64(4)), (np.int64(384), np.int64(4)), (np.int64(587), np.int64(4)), (np.int64(405), np.int64(1)), (np.int64(924), np.int64(5)), (np.int64(976), np.int64(3)), (np.int64(321), np.int64(5)), (np.int64(52), np.int64(1)), (np.int64(332), np.int64(3)), (np.int64(590), np.int64(4)), (np.int64(741), np.int64(3)), (np.int64(769), np.int64(2)), (np.int64(549), np.int64(4)), (np.int64(236), np.int64(2)), (np.int64(1276), np.int64(4)), (np.int64(1252), np.int64(4)), (np.int64(70), np.int64(5)), (np.int64(553), np.int64(1)), (np.int64(256), np.int64(4)), (np.int64(43), np.int64(5)), (np.int64(116), np.int64(5)), (np.int64(326), np.int64(3)), (np.int64(287), np.int64(1)), (np.int64(224), np.int64(4)), (np.int64(987), np.int64(4)), (np.int64(30), np.int64(4)), (np.int64(938), np.int64(5)), (np.int64(545), np.int64(4)), (np.int64(99), np.int64(4)), (np.int64(337), np.int64(3)), (np.int64(716), np.int64(3)), (np.int64(117), np.int64(2)), (np.int64(225), np.int64(5)), (np.int64(299), np.int64(5)), (np.int64(298), np.int64(3)), (np.int64(595), np.int64(4)), (np.int64(94), np.int64(3)), (np.int64(242), np.int64(2)), (np.int64(1015), np.int64(5)), (np.int64(78), np.int64(5)), (np.int64(305), np.int64(4)), (np.int64(105), np.int64(2)), (np.int64(828), np.int64(4)), (np.int64(933), np.int64(3)), (np.int64(1398), np.int64(2)), (np.int64(753), np.int64(2)), (np.int64(594), np.int64(3)), (np.int64(120), np.int64(2)), (np.int64(567), np.int64(4)), (np.int64(302), np.int64(3)), (np.int64(331), np.int64(4)), (np.int64(539), np.int64(4)), (np.int64(1045), np.int64(3)), (np.int64(97), np.int64(5)), (np.int64(55), np.int64(3)), (np.int64(879), np.int64(3)), (np.int64(202), np.int64(5)), (np.int64(1335), np.int64(3)), (np.int64(1082), np.int64(1)), (np.int64(290), np.int64(4)), (np.int64(355), np.int64(5)), (np.int64(683), np.int64(4)), (np.int64(37), np.int64(5)), (np.int64(476), np.int64(4)), (np.int64(257), np.int64(1)), (np.int64(297), np.int64(3)), (np.int64(819), np.int64(2)), (np.int64(1032), np.int64(3)), (np.int64(886), np.int64(4)), (np.int64(329), np.int64(4)), (np.int64(688), np.int64(4)), (np.int64(158), np.int64(5)), (np.int64(11), np.int64(1)), (np.int64(54), np.int64(4)), (np.int64(293), np.int64(3)), (np.int64(1212), np.int64(3)), (np.int64(1041), np.int64(5)), (np.int64(176), np.int64(4)), (np.int64(1384), np.int64(2)), (np.int64(330), np.int64(3)), (np.int64(76), np.int64(5)), (np.int64(404), np.int64(3)), (np.int64(146), np.int64(4)), (np.int64(294), np.int64(2)), (np.int64(268), np.int64(1))]\n"
     ]
    }
   ],
   "source": [
    "# Optionally, print rI and rU to check the data structure for training and testing\n",
    "print(\"\\nSample rI (item to user ratings) for Training Set:\")\n",
    "for item in list(rI.keys())[:2]:  # Display sample item indices\n",
    "    print(f\"Item {item}: {rI[item]}\")\n",
    "\n",
    "print(\"\\nSample rU (user to item ratings) for Training Set:\")\n",
    "for user in list(rU.keys())[:2]:  # Display sample user indices\n",
    "    print(f\"User {user}: {rU[user]}\")"
   ]
  },
  {
   "cell_type": "markdown",
   "metadata": {},
   "source": [
    "## initiate tree and splitter"
   ]
  },
  {
   "cell_type": "code",
   "execution_count": 7,
   "metadata": {},
   "outputs": [
    {
     "name": "stdout",
     "output_type": "stream",
     "text": [
      "✅ Converted x and y to DataFrame\n",
      "✅ Assigned x and y\n",
      "✅ Creating target weights...\n",
      "✅ Identifying numerical and categorical attributes...\n",
      "✅ Creating Splitter...\n",
      "Initializing Splitter...\n",
      "✅ Calling build()...\n"
     ]
    },
    {
     "name": "stderr",
     "output_type": "stream",
     "text": [
      "/Users/camillecu/Downloads/KUL/master_thesis/master_thesis_github/thesis_github/lib/python3.9/site-packages/numpy/_core/fromnumeric.py:84: FutureWarning: The behavior of DataFrame.sum with axis=None is deprecated, in a future version this will reduce over both axes and return a scalar. To retain the old behavior, pass axis=0 (or do not pass axis)\n",
      "  return reduction(axis=axis, out=out, **passkwargs)\n",
      "/Users/camillecu/Downloads/KUL/master_thesis/master_thesis_github/thesis_github/lib/python3.9/site-packages/numpy/_core/fromnumeric.py:84: FutureWarning: The behavior of DataFrame.sum with axis=None is deprecated, in a future version this will reduce over both axes and return a scalar. To retain the old behavior, pass axis=0 (or do not pass axis)\n",
      "  return reduction(axis=axis, out=out, **passkwargs)\n",
      "/Users/camillecu/Downloads/KUL/master_thesis/master_thesis_github/pct/tree/node/node.py:59: RuntimeWarning: invalid value encountered in divide\n",
      "  prototype /= np.sum(\n",
      "/Users/camillecu/Downloads/KUL/master_thesis/master_thesis_github/thesis_github/lib/python3.9/site-packages/numpy/_core/fromnumeric.py:84: FutureWarning: The behavior of DataFrame.sum with axis=None is deprecated, in a future version this will reduce over both axes and return a scalar. To retain the old behavior, pass axis=0 (or do not pass axis)\n",
      "  return reduction(axis=axis, out=out, **passkwargs)\n"
     ]
    },
    {
     "ename": "KeyError",
     "evalue": "'[0, 3, 6, 7, 10, 18, 20, 21, 22, 23, 24, 27, 29, 32, 38, 42, 43, 46, 51, 52, 53, 55, 56, 60, 61, 65, 67, 68, 73, 78, 83, 84, 85, 91, 93, 98, 99, 101, 104, 106, 108, 109, 110, 112, 115, 116, 117, 119, 124, 125, 126, 129, 132, 133, 134, 135, 140, 143, 144, 145, 146, 150, 152, 158, 162, 163, 164, 165, 167, 168, 170, 172, 175, 177, 178, 179, 184, 191, 194, 196, 197, 198, 199, 201, 206, 212, 218, 221, 225, 243, 244, 246, 248, 249, 253, 254, 261, 264, 273, 275, 276, 281, 283, 285, 287, 295, 296, 300, 302, 304, 306, 308, 310, 321, 322, 323, 327, 331, 333, 342, 344, 346, 350, 352, 353, 355, 356, 357, 359, 361, 364, 366, 376, 377, 379, 383, 386, 387, 389, 392, 394, 399, 401, 402, 403, 406, 410, 412, 413, 414, 415, 416, 417, 421, 422, 426, 428, 429, 431, 434, 439, 442, 446, 447, 449, 450, 452, 453, 454, 455, 456, 460, 462, 463, 464, 465, 467, 469, 471, 473, 478, 482, 483, 485, 486, 487, 488, 490, 492, 496, 499, 503, 505, 506, 508, 509, 512, 513, 514, 516, 520, 522, 527, 528, 532, 534, 538, 539, 540, 545, 546, 547, 548, 549, 550, 551, 559, 563, 568, 572, 573, 578, 579, 581, 582, 583, 586, 587, 591, 594, 597, 600, 605, 612, 615, 618, 622, 623, 624, 625, 626, 627, 628, 631, 633, 635, 643, 653, 658, 660, 665, 670, 688, 692, 698, 701, 702, 705, 707, 710, 713, 716, 719, 722, 723, 724, 729, 734, 736, 737, 741, 742, 744, 747, 748, 754, 756, 757, 758, 759, 760, 769, 770, 771, 772, 774, 778, 781, 782, 783, 786, 787, 795, 797, 798, 801, 810, 814, 817, 824, 825, 833, 835, 836, 837, 838, 840, 842, 843, 846, 850, 853, 855, 856, 861, 862, 863, 864, 869, 870, 871, 874, 876, 879, 883, 888, 893, 895, 898, 906, 912, 918, 919, 921, 925, 936, 937, 938, 939, 940, 941] not in index'",
     "output_type": "error",
     "traceback": [
      "\u001b[0;31m---------------------------------------------------------------------------\u001b[0m",
      "\u001b[0;31mKeyError\u001b[0m                                  Traceback (most recent call last)",
      "Cell \u001b[0;32mIn[7], line 2\u001b[0m\n\u001b[1;32m      1\u001b[0m tree \u001b[38;5;241m=\u001b[39m Tree(min_instances\u001b[38;5;241m=\u001b[39m\u001b[38;5;241m5\u001b[39m)\n\u001b[0;32m----> 2\u001b[0m \u001b[43mtree\u001b[49m\u001b[38;5;241;43m.\u001b[39;49m\u001b[43mfit\u001b[49m\u001b[43m(\u001b[49m\u001b[43mrating_matrix\u001b[49m\u001b[43m,\u001b[49m\u001b[43m \u001b[49m\u001b[43mu_data\u001b[49m\u001b[43m[\u001b[49m\u001b[38;5;124;43m'\u001b[39;49m\u001b[38;5;124;43mrating\u001b[39;49m\u001b[38;5;124;43m'\u001b[39;49m\u001b[43m]\u001b[49m\u001b[43m,\u001b[49m\u001b[43m \u001b[49m\u001b[43mtarget_weights\u001b[49m\u001b[38;5;241;43m=\u001b[39;49m\u001b[38;5;28;43;01mNone\u001b[39;49;00m\u001b[43m,\u001b[49m\u001b[43m \u001b[49m\u001b[43mrI\u001b[49m\u001b[38;5;241;43m=\u001b[39;49m\u001b[43mrI\u001b[49m\u001b[43m,\u001b[49m\u001b[43m \u001b[49m\u001b[43mrU\u001b[49m\u001b[38;5;241;43m=\u001b[39;49m\u001b[43mrU\u001b[49m\u001b[43m)\u001b[49m\n",
      "File \u001b[0;32m~/Downloads/KUL/master_thesis/master_thesis_github/pct/tree/tree.py:79\u001b[0m, in \u001b[0;36mTree.fit\u001b[0;34m(self, x, y, target_weights, rI, rU)\u001b[0m\n\u001b[1;32m     77\u001b[0m \u001b[38;5;28mprint\u001b[39m(\u001b[38;5;124m\"\u001b[39m\u001b[38;5;124m✅ Calling build()...\u001b[39m\u001b[38;5;124m\"\u001b[39m)\n\u001b[1;32m     78\u001b[0m instance_weights \u001b[38;5;241m=\u001b[39m pd\u001b[38;5;241m.\u001b[39mDataFrame(np\u001b[38;5;241m.\u001b[39mfull(x\u001b[38;5;241m.\u001b[39mshape[\u001b[38;5;241m0\u001b[39m], Tree\u001b[38;5;241m.\u001b[39mINITIAL_WEIGHT), index\u001b[38;5;241m=\u001b[39mx\u001b[38;5;241m.\u001b[39mindex)\n\u001b[0;32m---> 79\u001b[0m \u001b[38;5;28mself\u001b[39m\u001b[38;5;241m.\u001b[39mroot \u001b[38;5;241m=\u001b[39m \u001b[38;5;28;43mself\u001b[39;49m\u001b[38;5;241;43m.\u001b[39;49m\u001b[43mbuild\u001b[49m\u001b[43m(\u001b[49m\u001b[38;5;28;43mself\u001b[39;49m\u001b[38;5;241;43m.\u001b[39;49m\u001b[43mx\u001b[49m\u001b[43m,\u001b[49m\u001b[43m \u001b[49m\u001b[38;5;28;43mself\u001b[39;49m\u001b[38;5;241;43m.\u001b[39;49m\u001b[43my\u001b[49m\u001b[43m,\u001b[49m\u001b[43m \u001b[49m\u001b[43minstance_weights\u001b[49m\u001b[43m,\u001b[49m\u001b[43m \u001b[49m\u001b[38;5;28;43;01mNone\u001b[39;49;00m\u001b[43m)\u001b[49m\n\u001b[1;32m     80\u001b[0m \u001b[38;5;28mprint\u001b[39m(\u001b[38;5;124m\"\u001b[39m\u001b[38;5;124m✅ Tree built successfully!\u001b[39m\u001b[38;5;124m\"\u001b[39m)\n\u001b[1;32m     82\u001b[0m \u001b[38;5;28;01mreturn\u001b[39;00m \u001b[38;5;28mself\u001b[39m\n",
      "File \u001b[0;32m~/Downloads/KUL/master_thesis/master_thesis_github/pct/tree/tree.py:124\u001b[0m, in \u001b[0;36mTree.build\u001b[0;34m(self, x, y, instance_weights, parent_node)\u001b[0m\n\u001b[1;32m    118\u001b[0m instance_weights_unknowns \u001b[38;5;241m=\u001b[39m instance_weights\u001b[38;5;241m.\u001b[39mloc[unknowns]\n\u001b[1;32m    120\u001b[0m \u001b[38;5;66;03m# Recursively build the tree for each group\u001b[39;00m\n\u001b[1;32m    121\u001b[0m node\u001b[38;5;241m.\u001b[39mchildren \u001b[38;5;241m=\u001b[39m [\n\u001b[1;32m    122\u001b[0m     \u001b[38;5;28mself\u001b[39m\u001b[38;5;241m.\u001b[39mbuild(x_lovers, y_lovers, instance_weights_lovers, node),\n\u001b[1;32m    123\u001b[0m     \u001b[38;5;28mself\u001b[39m\u001b[38;5;241m.\u001b[39mbuild(x_haters, y_haters, instance_weights_haters, node),\n\u001b[0;32m--> 124\u001b[0m     \u001b[38;5;28;43mself\u001b[39;49m\u001b[38;5;241;43m.\u001b[39;49m\u001b[43mbuild\u001b[49m\u001b[43m(\u001b[49m\u001b[43mx_unknowns\u001b[49m\u001b[43m,\u001b[49m\u001b[43m \u001b[49m\u001b[43my_unknowns\u001b[49m\u001b[43m,\u001b[49m\u001b[43m \u001b[49m\u001b[43minstance_weights_unknowns\u001b[49m\u001b[43m,\u001b[49m\u001b[43m \u001b[49m\u001b[43mnode\u001b[49m\u001b[43m)\u001b[49m\n\u001b[1;32m    125\u001b[0m ]\n\u001b[1;32m    127\u001b[0m \u001b[38;5;28;01mreturn\u001b[39;00m node\n",
      "File \u001b[0;32m~/Downloads/KUL/master_thesis/master_thesis_github/pct/tree/tree.py:123\u001b[0m, in \u001b[0;36mTree.build\u001b[0;34m(self, x, y, instance_weights, parent_node)\u001b[0m\n\u001b[1;32m    118\u001b[0m instance_weights_unknowns \u001b[38;5;241m=\u001b[39m instance_weights\u001b[38;5;241m.\u001b[39mloc[unknowns]\n\u001b[1;32m    120\u001b[0m \u001b[38;5;66;03m# Recursively build the tree for each group\u001b[39;00m\n\u001b[1;32m    121\u001b[0m node\u001b[38;5;241m.\u001b[39mchildren \u001b[38;5;241m=\u001b[39m [\n\u001b[1;32m    122\u001b[0m     \u001b[38;5;28mself\u001b[39m\u001b[38;5;241m.\u001b[39mbuild(x_lovers, y_lovers, instance_weights_lovers, node),\n\u001b[0;32m--> 123\u001b[0m     \u001b[38;5;28;43mself\u001b[39;49m\u001b[38;5;241;43m.\u001b[39;49m\u001b[43mbuild\u001b[49m\u001b[43m(\u001b[49m\u001b[43mx_haters\u001b[49m\u001b[43m,\u001b[49m\u001b[43m \u001b[49m\u001b[43my_haters\u001b[49m\u001b[43m,\u001b[49m\u001b[43m \u001b[49m\u001b[43minstance_weights_haters\u001b[49m\u001b[43m,\u001b[49m\u001b[43m \u001b[49m\u001b[43mnode\u001b[49m\u001b[43m)\u001b[49m,\n\u001b[1;32m    124\u001b[0m     \u001b[38;5;28mself\u001b[39m\u001b[38;5;241m.\u001b[39mbuild(x_unknowns, y_unknowns, instance_weights_unknowns, node)\n\u001b[1;32m    125\u001b[0m ]\n\u001b[1;32m    127\u001b[0m \u001b[38;5;28;01mreturn\u001b[39;00m node\n",
      "File \u001b[0;32m~/Downloads/KUL/master_thesis/master_thesis_github/pct/tree/tree.py:112\u001b[0m, in \u001b[0;36mTree.build\u001b[0;34m(self, x, y, instance_weights, parent_node)\u001b[0m\n\u001b[1;32m    109\u001b[0m unknowns \u001b[38;5;241m=\u001b[39m [u \u001b[38;5;28;01mfor\u001b[39;00m u \u001b[38;5;129;01min\u001b[39;00m x\u001b[38;5;241m.\u001b[39mindex \u001b[38;5;28;01mif\u001b[39;00m u \u001b[38;5;129;01mnot\u001b[39;00m \u001b[38;5;129;01min\u001b[39;00m users_rated_item \u001b[38;5;129;01mand\u001b[39;00m u \u001b[38;5;129;01min\u001b[39;00m instance_weights\u001b[38;5;241m.\u001b[39mindex]\n\u001b[1;32m    111\u001b[0m \u001b[38;5;66;03m# Retrieve data subsets for each group\u001b[39;00m\n\u001b[0;32m--> 112\u001b[0m x_lovers, y_lovers \u001b[38;5;241m=\u001b[39m \u001b[43mx\u001b[49m\u001b[38;5;241;43m.\u001b[39;49m\u001b[43mloc\u001b[49m\u001b[43m[\u001b[49m\u001b[43mlovers\u001b[49m\u001b[43m]\u001b[49m, y\u001b[38;5;241m.\u001b[39mloc[lovers]\n\u001b[1;32m    113\u001b[0m x_haters, y_haters \u001b[38;5;241m=\u001b[39m x\u001b[38;5;241m.\u001b[39mloc[haters], y\u001b[38;5;241m.\u001b[39mloc[haters]\n\u001b[1;32m    114\u001b[0m x_unknowns, y_unknowns \u001b[38;5;241m=\u001b[39m x\u001b[38;5;241m.\u001b[39mloc[unknowns], y\u001b[38;5;241m.\u001b[39mloc[unknowns]\n",
      "File \u001b[0;32m~/Downloads/KUL/master_thesis/master_thesis_github/thesis_github/lib/python3.9/site-packages/pandas/core/indexing.py:1191\u001b[0m, in \u001b[0;36m_LocationIndexer.__getitem__\u001b[0;34m(self, key)\u001b[0m\n\u001b[1;32m   1189\u001b[0m maybe_callable \u001b[38;5;241m=\u001b[39m com\u001b[38;5;241m.\u001b[39mapply_if_callable(key, \u001b[38;5;28mself\u001b[39m\u001b[38;5;241m.\u001b[39mobj)\n\u001b[1;32m   1190\u001b[0m maybe_callable \u001b[38;5;241m=\u001b[39m \u001b[38;5;28mself\u001b[39m\u001b[38;5;241m.\u001b[39m_check_deprecated_callable_usage(key, maybe_callable)\n\u001b[0;32m-> 1191\u001b[0m \u001b[38;5;28;01mreturn\u001b[39;00m \u001b[38;5;28;43mself\u001b[39;49m\u001b[38;5;241;43m.\u001b[39;49m\u001b[43m_getitem_axis\u001b[49m\u001b[43m(\u001b[49m\u001b[43mmaybe_callable\u001b[49m\u001b[43m,\u001b[49m\u001b[43m \u001b[49m\u001b[43maxis\u001b[49m\u001b[38;5;241;43m=\u001b[39;49m\u001b[43maxis\u001b[49m\u001b[43m)\u001b[49m\n",
      "File \u001b[0;32m~/Downloads/KUL/master_thesis/master_thesis_github/thesis_github/lib/python3.9/site-packages/pandas/core/indexing.py:1420\u001b[0m, in \u001b[0;36m_LocIndexer._getitem_axis\u001b[0;34m(self, key, axis)\u001b[0m\n\u001b[1;32m   1417\u001b[0m     \u001b[38;5;28;01mif\u001b[39;00m \u001b[38;5;28mhasattr\u001b[39m(key, \u001b[38;5;124m\"\u001b[39m\u001b[38;5;124mndim\u001b[39m\u001b[38;5;124m\"\u001b[39m) \u001b[38;5;129;01mand\u001b[39;00m key\u001b[38;5;241m.\u001b[39mndim \u001b[38;5;241m>\u001b[39m \u001b[38;5;241m1\u001b[39m:\n\u001b[1;32m   1418\u001b[0m         \u001b[38;5;28;01mraise\u001b[39;00m \u001b[38;5;167;01mValueError\u001b[39;00m(\u001b[38;5;124m\"\u001b[39m\u001b[38;5;124mCannot index with multidimensional key\u001b[39m\u001b[38;5;124m\"\u001b[39m)\n\u001b[0;32m-> 1420\u001b[0m     \u001b[38;5;28;01mreturn\u001b[39;00m \u001b[38;5;28;43mself\u001b[39;49m\u001b[38;5;241;43m.\u001b[39;49m\u001b[43m_getitem_iterable\u001b[49m\u001b[43m(\u001b[49m\u001b[43mkey\u001b[49m\u001b[43m,\u001b[49m\u001b[43m \u001b[49m\u001b[43maxis\u001b[49m\u001b[38;5;241;43m=\u001b[39;49m\u001b[43maxis\u001b[49m\u001b[43m)\u001b[49m\n\u001b[1;32m   1422\u001b[0m \u001b[38;5;66;03m# nested tuple slicing\u001b[39;00m\n\u001b[1;32m   1423\u001b[0m \u001b[38;5;28;01mif\u001b[39;00m is_nested_tuple(key, labels):\n",
      "File \u001b[0;32m~/Downloads/KUL/master_thesis/master_thesis_github/thesis_github/lib/python3.9/site-packages/pandas/core/indexing.py:1360\u001b[0m, in \u001b[0;36m_LocIndexer._getitem_iterable\u001b[0;34m(self, key, axis)\u001b[0m\n\u001b[1;32m   1357\u001b[0m \u001b[38;5;28mself\u001b[39m\u001b[38;5;241m.\u001b[39m_validate_key(key, axis)\n\u001b[1;32m   1359\u001b[0m \u001b[38;5;66;03m# A collection of keys\u001b[39;00m\n\u001b[0;32m-> 1360\u001b[0m keyarr, indexer \u001b[38;5;241m=\u001b[39m \u001b[38;5;28;43mself\u001b[39;49m\u001b[38;5;241;43m.\u001b[39;49m\u001b[43m_get_listlike_indexer\u001b[49m\u001b[43m(\u001b[49m\u001b[43mkey\u001b[49m\u001b[43m,\u001b[49m\u001b[43m \u001b[49m\u001b[43maxis\u001b[49m\u001b[43m)\u001b[49m\n\u001b[1;32m   1361\u001b[0m \u001b[38;5;28;01mreturn\u001b[39;00m \u001b[38;5;28mself\u001b[39m\u001b[38;5;241m.\u001b[39mobj\u001b[38;5;241m.\u001b[39m_reindex_with_indexers(\n\u001b[1;32m   1362\u001b[0m     {axis: [keyarr, indexer]}, copy\u001b[38;5;241m=\u001b[39m\u001b[38;5;28;01mTrue\u001b[39;00m, allow_dups\u001b[38;5;241m=\u001b[39m\u001b[38;5;28;01mTrue\u001b[39;00m\n\u001b[1;32m   1363\u001b[0m )\n",
      "File \u001b[0;32m~/Downloads/KUL/master_thesis/master_thesis_github/thesis_github/lib/python3.9/site-packages/pandas/core/indexing.py:1558\u001b[0m, in \u001b[0;36m_LocIndexer._get_listlike_indexer\u001b[0;34m(self, key, axis)\u001b[0m\n\u001b[1;32m   1555\u001b[0m ax \u001b[38;5;241m=\u001b[39m \u001b[38;5;28mself\u001b[39m\u001b[38;5;241m.\u001b[39mobj\u001b[38;5;241m.\u001b[39m_get_axis(axis)\n\u001b[1;32m   1556\u001b[0m axis_name \u001b[38;5;241m=\u001b[39m \u001b[38;5;28mself\u001b[39m\u001b[38;5;241m.\u001b[39mobj\u001b[38;5;241m.\u001b[39m_get_axis_name(axis)\n\u001b[0;32m-> 1558\u001b[0m keyarr, indexer \u001b[38;5;241m=\u001b[39m \u001b[43max\u001b[49m\u001b[38;5;241;43m.\u001b[39;49m\u001b[43m_get_indexer_strict\u001b[49m\u001b[43m(\u001b[49m\u001b[43mkey\u001b[49m\u001b[43m,\u001b[49m\u001b[43m \u001b[49m\u001b[43maxis_name\u001b[49m\u001b[43m)\u001b[49m\n\u001b[1;32m   1560\u001b[0m \u001b[38;5;28;01mreturn\u001b[39;00m keyarr, indexer\n",
      "File \u001b[0;32m~/Downloads/KUL/master_thesis/master_thesis_github/thesis_github/lib/python3.9/site-packages/pandas/core/indexes/base.py:6200\u001b[0m, in \u001b[0;36mIndex._get_indexer_strict\u001b[0;34m(self, key, axis_name)\u001b[0m\n\u001b[1;32m   6197\u001b[0m \u001b[38;5;28;01melse\u001b[39;00m:\n\u001b[1;32m   6198\u001b[0m     keyarr, indexer, new_indexer \u001b[38;5;241m=\u001b[39m \u001b[38;5;28mself\u001b[39m\u001b[38;5;241m.\u001b[39m_reindex_non_unique(keyarr)\n\u001b[0;32m-> 6200\u001b[0m \u001b[38;5;28;43mself\u001b[39;49m\u001b[38;5;241;43m.\u001b[39;49m\u001b[43m_raise_if_missing\u001b[49m\u001b[43m(\u001b[49m\u001b[43mkeyarr\u001b[49m\u001b[43m,\u001b[49m\u001b[43m \u001b[49m\u001b[43mindexer\u001b[49m\u001b[43m,\u001b[49m\u001b[43m \u001b[49m\u001b[43maxis_name\u001b[49m\u001b[43m)\u001b[49m\n\u001b[1;32m   6202\u001b[0m keyarr \u001b[38;5;241m=\u001b[39m \u001b[38;5;28mself\u001b[39m\u001b[38;5;241m.\u001b[39mtake(indexer)\n\u001b[1;32m   6203\u001b[0m \u001b[38;5;28;01mif\u001b[39;00m \u001b[38;5;28misinstance\u001b[39m(key, Index):\n\u001b[1;32m   6204\u001b[0m     \u001b[38;5;66;03m# GH 42790 - Preserve name from an Index\u001b[39;00m\n",
      "File \u001b[0;32m~/Downloads/KUL/master_thesis/master_thesis_github/thesis_github/lib/python3.9/site-packages/pandas/core/indexes/base.py:6252\u001b[0m, in \u001b[0;36mIndex._raise_if_missing\u001b[0;34m(self, key, indexer, axis_name)\u001b[0m\n\u001b[1;32m   6249\u001b[0m     \u001b[38;5;28;01mraise\u001b[39;00m \u001b[38;5;167;01mKeyError\u001b[39;00m(\u001b[38;5;124mf\u001b[39m\u001b[38;5;124m\"\u001b[39m\u001b[38;5;124mNone of [\u001b[39m\u001b[38;5;132;01m{\u001b[39;00mkey\u001b[38;5;132;01m}\u001b[39;00m\u001b[38;5;124m] are in the [\u001b[39m\u001b[38;5;132;01m{\u001b[39;00maxis_name\u001b[38;5;132;01m}\u001b[39;00m\u001b[38;5;124m]\u001b[39m\u001b[38;5;124m\"\u001b[39m)\n\u001b[1;32m   6251\u001b[0m not_found \u001b[38;5;241m=\u001b[39m \u001b[38;5;28mlist\u001b[39m(ensure_index(key)[missing_mask\u001b[38;5;241m.\u001b[39mnonzero()[\u001b[38;5;241m0\u001b[39m]]\u001b[38;5;241m.\u001b[39munique())\n\u001b[0;32m-> 6252\u001b[0m \u001b[38;5;28;01mraise\u001b[39;00m \u001b[38;5;167;01mKeyError\u001b[39;00m(\u001b[38;5;124mf\u001b[39m\u001b[38;5;124m\"\u001b[39m\u001b[38;5;132;01m{\u001b[39;00mnot_found\u001b[38;5;132;01m}\u001b[39;00m\u001b[38;5;124m not in index\u001b[39m\u001b[38;5;124m\"\u001b[39m)\n",
      "\u001b[0;31mKeyError\u001b[0m: '[0, 3, 6, 7, 10, 18, 20, 21, 22, 23, 24, 27, 29, 32, 38, 42, 43, 46, 51, 52, 53, 55, 56, 60, 61, 65, 67, 68, 73, 78, 83, 84, 85, 91, 93, 98, 99, 101, 104, 106, 108, 109, 110, 112, 115, 116, 117, 119, 124, 125, 126, 129, 132, 133, 134, 135, 140, 143, 144, 145, 146, 150, 152, 158, 162, 163, 164, 165, 167, 168, 170, 172, 175, 177, 178, 179, 184, 191, 194, 196, 197, 198, 199, 201, 206, 212, 218, 221, 225, 243, 244, 246, 248, 249, 253, 254, 261, 264, 273, 275, 276, 281, 283, 285, 287, 295, 296, 300, 302, 304, 306, 308, 310, 321, 322, 323, 327, 331, 333, 342, 344, 346, 350, 352, 353, 355, 356, 357, 359, 361, 364, 366, 376, 377, 379, 383, 386, 387, 389, 392, 394, 399, 401, 402, 403, 406, 410, 412, 413, 414, 415, 416, 417, 421, 422, 426, 428, 429, 431, 434, 439, 442, 446, 447, 449, 450, 452, 453, 454, 455, 456, 460, 462, 463, 464, 465, 467, 469, 471, 473, 478, 482, 483, 485, 486, 487, 488, 490, 492, 496, 499, 503, 505, 506, 508, 509, 512, 513, 514, 516, 520, 522, 527, 528, 532, 534, 538, 539, 540, 545, 546, 547, 548, 549, 550, 551, 559, 563, 568, 572, 573, 578, 579, 581, 582, 583, 586, 587, 591, 594, 597, 600, 605, 612, 615, 618, 622, 623, 624, 625, 626, 627, 628, 631, 633, 635, 643, 653, 658, 660, 665, 670, 688, 692, 698, 701, 702, 705, 707, 710, 713, 716, 719, 722, 723, 724, 729, 734, 736, 737, 741, 742, 744, 747, 748, 754, 756, 757, 758, 759, 760, 769, 770, 771, 772, 774, 778, 781, 782, 783, 786, 787, 795, 797, 798, 801, 810, 814, 817, 824, 825, 833, 835, 836, 837, 838, 840, 842, 843, 846, 850, 853, 855, 856, 861, 862, 863, 864, 869, 870, 871, 874, 876, 879, 883, 888, 893, 895, 898, 906, 912, 918, 919, 921, 925, 936, 937, 938, 939, 940, 941] not in index'"
     ]
    }
   ],
   "source": [
    "tree = Tree(min_instances=5)\n",
    "tree.fit(rating_matrix, u_data['rating'], target_weights=None, rI=rI, rU=rU)\n",
    "\n",
    "\n"
   ]
  },
  {
   "cell_type": "code",
   "execution_count": null,
   "metadata": {},
   "outputs": [],
   "source": []
  }
 ],
 "metadata": {
  "kernelspec": {
   "display_name": "thesis_github",
   "language": "python",
   "name": "python3"
  },
  "language_info": {
   "codemirror_mode": {
    "name": "ipython",
    "version": 3
   },
   "file_extension": ".py",
   "mimetype": "text/x-python",
   "name": "python",
   "nbconvert_exporter": "python",
   "pygments_lexer": "ipython3",
   "version": "3.9.13"
  }
 },
 "nbformat": 4,
 "nbformat_minor": 2
}
