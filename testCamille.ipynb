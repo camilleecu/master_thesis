{
 "cells": [
  {
   "cell_type": "code",
   "execution_count": 5,
   "metadata": {},
   "outputs": [
    {
     "ename": "ImportError",
     "evalue": "cannot import name 'Heuristic5' from 'pct.tree.heuristic' (/Users/camillecu/Downloads/KUL/master_thesis/master_thesis_github/pct/tree/heuristic/__init__.py)",
     "output_type": "error",
     "traceback": [
      "\u001b[0;31m---------------------------------------------------------------------------\u001b[0m",
      "\u001b[0;31mImportError\u001b[0m                               Traceback (most recent call last)",
      "Cell \u001b[0;32mIn[5], line 4\u001b[0m\n\u001b[1;32m      2\u001b[0m \u001b[38;5;28;01mimport\u001b[39;00m\u001b[38;5;250m \u001b[39m\u001b[38;5;21;01mnumpy\u001b[39;00m\u001b[38;5;250m \u001b[39m\u001b[38;5;28;01mas\u001b[39;00m\u001b[38;5;250m \u001b[39m\u001b[38;5;21;01mnp\u001b[39;00m\n\u001b[1;32m      3\u001b[0m \u001b[38;5;28;01mfrom\u001b[39;00m\u001b[38;5;250m \u001b[39m\u001b[38;5;21;01mpct\u001b[39;00m\u001b[38;5;21;01m.\u001b[39;00m\u001b[38;5;21;01mtree\u001b[39;00m\u001b[38;5;21;01m.\u001b[39;00m\u001b[38;5;21;01mheuristic\u001b[39;00m\u001b[38;5;250m \u001b[39m\u001b[38;5;28;01mimport\u001b[39;00m Heuristictest5\n\u001b[0;32m----> 4\u001b[0m \u001b[38;5;28;01mfrom\u001b[39;00m\u001b[38;5;250m \u001b[39m\u001b[38;5;21;01mpct\u001b[39;00m\u001b[38;5;21;01m.\u001b[39;00m\u001b[38;5;21;01mtree\u001b[39;00m\u001b[38;5;21;01m.\u001b[39;00m\u001b[38;5;21;01mheuristic\u001b[39;00m\u001b[38;5;250m \u001b[39m\u001b[38;5;28;01mimport\u001b[39;00m NumericHeuristictest5\n\u001b[1;32m      5\u001b[0m \u001b[38;5;28;01mfrom\u001b[39;00m\u001b[38;5;250m \u001b[39m\u001b[38;5;21;01mpct\u001b[39;00m\u001b[38;5;21;01m.\u001b[39;00m\u001b[38;5;21;01mtree\u001b[39;00m\u001b[38;5;21;01m.\u001b[39;00m\u001b[38;5;21;01msplitter\u001b[39;00m\u001b[38;5;250m \u001b[39m\u001b[38;5;28;01mimport\u001b[39;00m splitter\n\u001b[1;32m      6\u001b[0m \u001b[38;5;28;01mfrom\u001b[39;00m\u001b[38;5;250m \u001b[39m\u001b[38;5;21;01mpct\u001b[39;00m\u001b[38;5;21;01m.\u001b[39;00m\u001b[38;5;21;01mtree\u001b[39;00m\u001b[38;5;21;01m.\u001b[39;00m\u001b[38;5;21;01mtree\u001b[39;00m\u001b[38;5;250m \u001b[39m\u001b[38;5;28;01mimport\u001b[39;00m Tree\n",
      "File \u001b[0;32m~/Downloads/KUL/master_thesis/master_thesis_github/pct/tree/heuristic/NumericHeuristictest5.py:2\u001b[0m\n\u001b[1;32m      1\u001b[0m \u001b[38;5;28;01mimport\u001b[39;00m\u001b[38;5;250m \u001b[39m\u001b[38;5;21;01mnumpy\u001b[39;00m\u001b[38;5;250m \u001b[39m\u001b[38;5;28;01mas\u001b[39;00m\u001b[38;5;250m \u001b[39m\u001b[38;5;21;01mnp\u001b[39;00m\n\u001b[0;32m----> 2\u001b[0m \u001b[38;5;28;01mfrom\u001b[39;00m\u001b[38;5;250m \u001b[39m\u001b[38;5;21;01mpct\u001b[39;00m\u001b[38;5;21;01m.\u001b[39;00m\u001b[38;5;21;01mtree\u001b[39;00m\u001b[38;5;21;01m.\u001b[39;00m\u001b[38;5;21;01mheuristic\u001b[39;00m\u001b[38;5;250m \u001b[39m\u001b[38;5;28;01mimport\u001b[39;00m Heuristic5\n\u001b[1;32m      4\u001b[0m \u001b[38;5;28;01mclass\u001b[39;00m\u001b[38;5;250m \u001b[39m\u001b[38;5;21;01mNumericHeuristic5\u001b[39;00m(Heuristic5):\n\u001b[1;32m      5\u001b[0m     \u001b[38;5;28;01mdef\u001b[39;00m\u001b[38;5;250m \u001b[39m\u001b[38;5;21m__init__\u001b[39m(\u001b[38;5;28mself\u001b[39m, name, weights, min_instances, ftest, instance_weights, x, y):\n\u001b[1;32m      6\u001b[0m         \u001b[38;5;66;03m# Initialize the heuristic with given parameters and compute statistics\u001b[39;00m\n",
      "\u001b[0;31mImportError\u001b[0m: cannot import name 'Heuristic5' from 'pct.tree.heuristic' (/Users/camillecu/Downloads/KUL/master_thesis/master_thesis_github/pct/tree/heuristic/__init__.py)"
     ]
    }
   ],
   "source": [
    "import pandas as pd\n",
    "import numpy as np\n",
    "from pct.tree.heuristic import Heuristictest5\n",
    "from pct.tree.heuristic import NumericHeuristictest5\n",
    "from pct.tree.splitter import splitter\n",
    "from pct.tree.tree import Tree\n",
    "\n"
   ]
  },
  {
   "cell_type": "markdown",
   "metadata": {},
   "source": [
    "## From YXH's data process"
   ]
  },
  {
   "cell_type": "code",
   "execution_count": null,
   "metadata": {},
   "outputs": [],
   "source": [
    "\n",
    "from sklearn.preprocessing import LabelEncoder\n",
    "\n",
    "# Load the u.data dataset\n",
    "u_data = pd.read_csv('ml-100k/u.data', sep='\\t', header=None, names=['user_id', 'item_id', 'rating', 'timestamp'])\n",
    "\n",
    "# Perform label encoding on user_id and item_id\n",
    "user_encoder = LabelEncoder()\n",
    "item_encoder = LabelEncoder()\n",
    "\n",
    "u_data['user_id'] = user_encoder.fit_transform(u_data['user_id'])\n",
    "u_data['item_id'] = item_encoder.fit_transform(u_data['item_id'])\n",
    "\n",
    "# Create the rating matrix\n",
    "n_users = u_data['user_id'].nunique()\n",
    "n_items = u_data['item_id'].nunique()\n",
    "\n",
    "# Define the threshold\n",
    "THRESHOLD = 3  # Ratings above this are \"Lovers\", below are \"Haters\"\n",
    "\n",
    "# Create a user-item matrix with users as rows and items as columns, and fill missing values with 0\n",
    "rating_matrix = u_data.pivot(index='user_id', columns='item_id', values='rating')\n",
    "\n",
    "# Apply threshold classification to the rating matrix (after thresholding)\n",
    "rating_matrix_thresholded = np.where(rating_matrix > THRESHOLD, 1, np.where(rating_matrix > 0, -1, 0))\n",
    "\n",
    "# Convert numpy array to pandas DataFrame for easier inspection\n",
    "rating_matrix_thresholded_df = pd.DataFrame(rating_matrix_thresholded)\n",
    "\n",
    "\n",
    "# Create rI and rU indexes for training set (R)\n",
    "# rI: item to user ratings (dictionary of items with lists of user ratings)\n",
    "rI_train = {}\n",
    "for _, row in u_data.iterrows():\n",
    "    item_id = row['item_id']\n",
    "    user_id = row['user_id']\n",
    "    rating = row['rating']\n",
    "    if item_id not in rI_train:\n",
    "        rI_train[item_id] = []\n",
    "    rI_train[item_id].append((user_id, rating))\n",
    "\n",
    "# rU: user to item ratings (dictionary of users with lists of item ratings)\n",
    "rU_train = {}\n",
    "for _, row in u_data.iterrows():\n",
    "    user_id = row['user_id']\n",
    "    item_id = row['item_id']\n",
    "    rating = row['rating']\n",
    "    if user_id not in rU_train:\n",
    "        rU_train[user_id] = []\n",
    "    rU_train[user_id].append((item_id, rating))"
   ]
  },
  {
   "cell_type": "markdown",
   "metadata": {},
   "source": [
    "## initiate tree and splitter"
   ]
  },
  {
   "cell_type": "code",
   "execution_count": 5,
   "metadata": {},
   "outputs": [
    {
     "ename": "NameError",
     "evalue": "name 'Tree' is not defined",
     "output_type": "error",
     "traceback": [
      "\u001b[0;31m---------------------------------------------------------------------------\u001b[0m",
      "\u001b[0;31mNameError\u001b[0m                                 Traceback (most recent call last)",
      "Cell \u001b[0;32mIn[5], line 2\u001b[0m\n\u001b[1;32m      1\u001b[0m \u001b[38;5;66;03m# Assuming the build function is defined in the Tree class in tree.py\u001b[39;00m\n\u001b[0;32m----> 2\u001b[0m tree \u001b[38;5;241m=\u001b[39m \u001b[43mTree\u001b[49m()\n\u001b[1;32m      3\u001b[0m tree\u001b[38;5;241m.\u001b[39mbuild(rating_matrix_thresholded_df)\n\u001b[1;32m      5\u001b[0m \u001b[38;5;66;03m# Split the tree into subtrees\u001b[39;00m\n",
      "\u001b[0;31mNameError\u001b[0m: name 'Tree' is not defined"
     ]
    }
   ],
   "source": [
    "# Assuming the build function is defined in the Tree class in tree.py\n",
    "tree = Tree()\n",
    "tree.build(rating_matrix_thresholded_df)\n",
    "\n",
    "# Split the tree into subtrees\n",
    "splitter_instance = splitter(tree)\n",
    "subtrees = splitter_instance.split()"
   ]
  },
  {
   "cell_type": "code",
   "execution_count": 2,
   "metadata": {},
   "outputs": [
    {
     "ename": "NameError",
     "evalue": "name 'tree' is not defined",
     "output_type": "error",
     "traceback": [
      "\u001b[0;31m---------------------------------------------------------------------------\u001b[0m",
      "\u001b[0;31mNameError\u001b[0m                                 Traceback (most recent call last)",
      "Cell \u001b[0;32mIn[2], line 28\u001b[0m\n\u001b[1;32m     26\u001b[0m     user_id \u001b[38;5;241m=\u001b[39m row[\u001b[38;5;124m'\u001b[39m\u001b[38;5;124muser_id\u001b[39m\u001b[38;5;124m'\u001b[39m]\n\u001b[1;32m     27\u001b[0m     rating \u001b[38;5;241m=\u001b[39m row[\u001b[38;5;124m'\u001b[39m\u001b[38;5;124mrating\u001b[39m\u001b[38;5;124m'\u001b[39m]\n\u001b[0;32m---> 28\u001b[0m     prediction \u001b[38;5;241m=\u001b[39m \u001b[43mtree\u001b[49m\u001b[38;5;241m.\u001b[39mpredict(user_id, item_id, subtrees)\n\u001b[1;32m     29\u001b[0m     predictions\u001b[38;5;241m.\u001b[39mappend((user_id, item_id, rating, prediction))\n\u001b[1;32m     31\u001b[0m \u001b[38;5;66;03m# Calculate RMSE\u001b[39;00m\n",
      "\u001b[0;31mNameError\u001b[0m: name 'tree' is not defined"
     ]
    }
   ],
   "source": [
    "# Create rI and rU indexes for test set (R')\n",
    "# rI: item to user ratings (dictionary of items with lists of user ratings)\n",
    "rI_test = {}    \n",
    "for _, row in u_data.iterrows():\n",
    "    item_id = row['item_id']\n",
    "    user_id = row['user_id']\n",
    "    rating = row['rating']\n",
    "    if item_id not in rI_test:\n",
    "        rI_test[item_id] = []\n",
    "    rI_test[item_id].append((user_id, rating))\n",
    "\n",
    "# rU: user to item ratings (dictionary of users with lists of item ratings)\n",
    "rU_test = {}\n",
    "for _, row in u_data.iterrows():\n",
    "    item_id = row['item_id']\n",
    "    user_id = row['user_id']\n",
    "    rating = row['rating']\n",
    "    if user_id not in rU_test:\n",
    "        rU_test[user_id] = []\n",
    "    rU_test[user_id].append((item_id, rating))\n",
    "\n",
    "# Predict ratings for test set\n",
    "predictions = []\n",
    "for _, row in u_data.iterrows():\n",
    "    item_id = row['item_id']\n",
    "    user_id = row['user_id']\n",
    "    rating = row['rating']\n",
    "    prediction = tree.predict(user_id, item_id, subtrees)\n",
    "    predictions.append((user_id, item_id, rating, prediction))\n",
    "\n",
    "# Calculate RMSE\n",
    "rmse = 0\n",
    "for user_id, item_id, rating, prediction in predictions:\n",
    "    rmse += (rating - prediction) ** 2\n",
    "rmse = math.sqrt(rmse / len(predictions))\n",
    "\n",
    "print(rmse)"
   ]
  }
 ],
 "metadata": {
  "kernelspec": {
   "display_name": "thesis_github",
   "language": "python",
   "name": "python3"
  },
  "language_info": {
   "codemirror_mode": {
    "name": "ipython",
    "version": 3
   },
   "file_extension": ".py",
   "mimetype": "text/x-python",
   "name": "python",
   "nbconvert_exporter": "python",
   "pygments_lexer": "ipython3",
   "version": "3.9.13"
  }
 },
 "nbformat": 4,
 "nbformat_minor": 2
}
